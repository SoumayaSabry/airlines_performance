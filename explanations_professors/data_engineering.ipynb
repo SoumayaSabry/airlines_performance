{
  "nbformat": 4,
  "nbformat_minor": 0,
  "metadata": {
    "colab": {
      "name": "final_project_data_camp.ipynb",
      "provenance": [],
      "collapsed_sections": [],
      "toc_visible": true,
      "include_colab_link": true
    },
    "kernelspec": {
      "display_name": "Python 3",
      "name": "python3",
      "language": "python"
    },
    "widgets": {
      "application/vnd.jupyter.widget-state+json": {
        "539b24dabfca4097add4d0847a770f6f": {
          "model_module": "@jupyter-widgets/controls",
          "model_name": "HBoxModel",
          "state": {
            "_view_name": "HBoxView",
            "_dom_classes": [],
            "_model_name": "HBoxModel",
            "_view_module": "@jupyter-widgets/controls",
            "_model_module_version": "1.5.0",
            "_view_count": null,
            "_view_module_version": "1.5.0",
            "box_style": "",
            "layout": "IPY_MODEL_6bb4857a1c7149fa8729efd6e13ae6d2",
            "_model_module": "@jupyter-widgets/controls",
            "children": [
              "IPY_MODEL_0c81b9150cc440deabac16151237423e",
              "IPY_MODEL_e57772988c3345d6ac9e63f2fc6f0385"
            ]
          }
        },
        "6bb4857a1c7149fa8729efd6e13ae6d2": {
          "model_module": "@jupyter-widgets/base",
          "model_name": "LayoutModel",
          "state": {
            "_view_name": "LayoutView",
            "grid_template_rows": null,
            "right": null,
            "justify_content": null,
            "_view_module": "@jupyter-widgets/base",
            "overflow": null,
            "_model_module_version": "1.2.0",
            "_view_count": null,
            "flex_flow": null,
            "width": null,
            "min_width": null,
            "border": null,
            "align_items": null,
            "bottom": null,
            "_model_module": "@jupyter-widgets/base",
            "top": null,
            "grid_column": null,
            "overflow_y": null,
            "overflow_x": null,
            "grid_auto_flow": null,
            "grid_area": null,
            "grid_template_columns": null,
            "flex": null,
            "_model_name": "LayoutModel",
            "justify_items": null,
            "grid_row": null,
            "max_height": null,
            "align_content": null,
            "visibility": null,
            "align_self": null,
            "height": null,
            "min_height": null,
            "padding": null,
            "grid_auto_rows": null,
            "grid_gap": null,
            "max_width": null,
            "order": null,
            "_view_module_version": "1.2.0",
            "grid_template_areas": null,
            "object_position": null,
            "object_fit": null,
            "grid_auto_columns": null,
            "margin": null,
            "display": null,
            "left": null
          }
        },
        "0c81b9150cc440deabac16151237423e": {
          "model_module": "@jupyter-widgets/controls",
          "model_name": "FloatProgressModel",
          "state": {
            "_view_name": "ProgressView",
            "style": "IPY_MODEL_ef46a4504af444cbbf52e1bf8d1a2e6e",
            "_dom_classes": [],
            "description": "100%",
            "_model_name": "FloatProgressModel",
            "bar_style": "success",
            "max": 129,
            "_view_module": "@jupyter-widgets/controls",
            "_model_module_version": "1.5.0",
            "value": 129,
            "_view_count": null,
            "_view_module_version": "1.5.0",
            "orientation": "horizontal",
            "min": 0,
            "description_tooltip": null,
            "_model_module": "@jupyter-widgets/controls",
            "layout": "IPY_MODEL_a53fb88362df45eda67267d7679e6d62"
          }
        },
        "e57772988c3345d6ac9e63f2fc6f0385": {
          "model_module": "@jupyter-widgets/controls",
          "model_name": "HTMLModel",
          "state": {
            "_view_name": "HTMLView",
            "style": "IPY_MODEL_59d79e2b6d7d4686aa42a0604dcacbbe",
            "_dom_classes": [],
            "description": "",
            "_model_name": "HTMLModel",
            "placeholder": "​",
            "_view_module": "@jupyter-widgets/controls",
            "_model_module_version": "1.5.0",
            "value": " 129/129 [02:25&lt;00:00,  1.13s/it]",
            "_view_count": null,
            "_view_module_version": "1.5.0",
            "description_tooltip": null,
            "_model_module": "@jupyter-widgets/controls",
            "layout": "IPY_MODEL_0e390972e5ac4ea58a4fb6628fa82ae1"
          }
        },
        "ef46a4504af444cbbf52e1bf8d1a2e6e": {
          "model_module": "@jupyter-widgets/controls",
          "model_name": "ProgressStyleModel",
          "state": {
            "_view_name": "StyleView",
            "_model_name": "ProgressStyleModel",
            "description_width": "initial",
            "_view_module": "@jupyter-widgets/base",
            "_model_module_version": "1.5.0",
            "_view_count": null,
            "_view_module_version": "1.2.0",
            "bar_color": null,
            "_model_module": "@jupyter-widgets/controls"
          }
        },
        "a53fb88362df45eda67267d7679e6d62": {
          "model_module": "@jupyter-widgets/base",
          "model_name": "LayoutModel",
          "state": {
            "_view_name": "LayoutView",
            "grid_template_rows": null,
            "right": null,
            "justify_content": null,
            "_view_module": "@jupyter-widgets/base",
            "overflow": null,
            "_model_module_version": "1.2.0",
            "_view_count": null,
            "flex_flow": null,
            "width": null,
            "min_width": null,
            "border": null,
            "align_items": null,
            "bottom": null,
            "_model_module": "@jupyter-widgets/base",
            "top": null,
            "grid_column": null,
            "overflow_y": null,
            "overflow_x": null,
            "grid_auto_flow": null,
            "grid_area": null,
            "grid_template_columns": null,
            "flex": null,
            "_model_name": "LayoutModel",
            "justify_items": null,
            "grid_row": null,
            "max_height": null,
            "align_content": null,
            "visibility": null,
            "align_self": null,
            "height": null,
            "min_height": null,
            "padding": null,
            "grid_auto_rows": null,
            "grid_gap": null,
            "max_width": null,
            "order": null,
            "_view_module_version": "1.2.0",
            "grid_template_areas": null,
            "object_position": null,
            "object_fit": null,
            "grid_auto_columns": null,
            "margin": null,
            "display": null,
            "left": null
          }
        },
        "59d79e2b6d7d4686aa42a0604dcacbbe": {
          "model_module": "@jupyter-widgets/controls",
          "model_name": "DescriptionStyleModel",
          "state": {
            "_view_name": "StyleView",
            "_model_name": "DescriptionStyleModel",
            "description_width": "",
            "_view_module": "@jupyter-widgets/base",
            "_model_module_version": "1.5.0",
            "_view_count": null,
            "_view_module_version": "1.2.0",
            "_model_module": "@jupyter-widgets/controls"
          }
        },
        "0e390972e5ac4ea58a4fb6628fa82ae1": {
          "model_module": "@jupyter-widgets/base",
          "model_name": "LayoutModel",
          "state": {
            "_view_name": "LayoutView",
            "grid_template_rows": null,
            "right": null,
            "justify_content": null,
            "_view_module": "@jupyter-widgets/base",
            "overflow": null,
            "_model_module_version": "1.2.0",
            "_view_count": null,
            "flex_flow": null,
            "width": null,
            "min_width": null,
            "border": null,
            "align_items": null,
            "bottom": null,
            "_model_module": "@jupyter-widgets/base",
            "top": null,
            "grid_column": null,
            "overflow_y": null,
            "overflow_x": null,
            "grid_auto_flow": null,
            "grid_area": null,
            "grid_template_columns": null,
            "flex": null,
            "_model_name": "LayoutModel",
            "justify_items": null,
            "grid_row": null,
            "max_height": null,
            "align_content": null,
            "visibility": null,
            "align_self": null,
            "height": null,
            "min_height": null,
            "padding": null,
            "grid_auto_rows": null,
            "grid_gap": null,
            "max_width": null,
            "order": null,
            "_view_module_version": "1.2.0",
            "grid_template_areas": null,
            "object_position": null,
            "object_fit": null,
            "grid_auto_columns": null,
            "margin": null,
            "display": null,
            "left": null
          }
        },
        "a57c4ffcdc56401e838df670314e82a2": {
          "model_module": "@jupyter-widgets/controls",
          "model_name": "HBoxModel",
          "state": {
            "_view_name": "HBoxView",
            "_dom_classes": [],
            "_model_name": "HBoxModel",
            "_view_module": "@jupyter-widgets/controls",
            "_model_module_version": "1.5.0",
            "_view_count": null,
            "_view_module_version": "1.5.0",
            "box_style": "",
            "layout": "IPY_MODEL_54803b5ebec049039d00a97dda205180",
            "_model_module": "@jupyter-widgets/controls",
            "children": [
              "IPY_MODEL_7ce4c9346d734139b43f6d062e1dba47",
              "IPY_MODEL_be6aae983aa74b459a8f6094eed90d6e"
            ]
          }
        },
        "54803b5ebec049039d00a97dda205180": {
          "model_module": "@jupyter-widgets/base",
          "model_name": "LayoutModel",
          "state": {
            "_view_name": "LayoutView",
            "grid_template_rows": null,
            "right": null,
            "justify_content": null,
            "_view_module": "@jupyter-widgets/base",
            "overflow": null,
            "_model_module_version": "1.2.0",
            "_view_count": null,
            "flex_flow": null,
            "width": null,
            "min_width": null,
            "border": null,
            "align_items": null,
            "bottom": null,
            "_model_module": "@jupyter-widgets/base",
            "top": null,
            "grid_column": null,
            "overflow_y": null,
            "overflow_x": null,
            "grid_auto_flow": null,
            "grid_area": null,
            "grid_template_columns": null,
            "flex": null,
            "_model_name": "LayoutModel",
            "justify_items": null,
            "grid_row": null,
            "max_height": null,
            "align_content": null,
            "visibility": null,
            "align_self": null,
            "height": null,
            "min_height": null,
            "padding": null,
            "grid_auto_rows": null,
            "grid_gap": null,
            "max_width": null,
            "order": null,
            "_view_module_version": "1.2.0",
            "grid_template_areas": null,
            "object_position": null,
            "object_fit": null,
            "grid_auto_columns": null,
            "margin": null,
            "display": null,
            "left": null
          }
        },
        "7ce4c9346d734139b43f6d062e1dba47": {
          "model_module": "@jupyter-widgets/controls",
          "model_name": "FloatProgressModel",
          "state": {
            "_view_name": "ProgressView",
            "style": "IPY_MODEL_5904aec4f3584d33844ae0ffef5f66a0",
            "_dom_classes": [],
            "description": "100%",
            "_model_name": "FloatProgressModel",
            "bar_style": "success",
            "max": 129,
            "_view_module": "@jupyter-widgets/controls",
            "_model_module_version": "1.5.0",
            "value": 129,
            "_view_count": null,
            "_view_module_version": "1.5.0",
            "orientation": "horizontal",
            "min": 0,
            "description_tooltip": null,
            "_model_module": "@jupyter-widgets/controls",
            "layout": "IPY_MODEL_5fd41b13614349bc98c96ea8d15be889"
          }
        },
        "be6aae983aa74b459a8f6094eed90d6e": {
          "model_module": "@jupyter-widgets/controls",
          "model_name": "HTMLModel",
          "state": {
            "_view_name": "HTMLView",
            "style": "IPY_MODEL_abab86d44f644470be80a50a7b54f0ac",
            "_dom_classes": [],
            "description": "",
            "_model_name": "HTMLModel",
            "placeholder": "​",
            "_view_module": "@jupyter-widgets/controls",
            "_model_module_version": "1.5.0",
            "value": " 129/129 [43:28&lt;00:00, 20.22s/it]",
            "_view_count": null,
            "_view_module_version": "1.5.0",
            "description_tooltip": null,
            "_model_module": "@jupyter-widgets/controls",
            "layout": "IPY_MODEL_6c371c4d2cdf4832aed505f8a6dad9b3"
          }
        },
        "5904aec4f3584d33844ae0ffef5f66a0": {
          "model_module": "@jupyter-widgets/controls",
          "model_name": "ProgressStyleModel",
          "state": {
            "_view_name": "StyleView",
            "_model_name": "ProgressStyleModel",
            "description_width": "initial",
            "_view_module": "@jupyter-widgets/base",
            "_model_module_version": "1.5.0",
            "_view_count": null,
            "_view_module_version": "1.2.0",
            "bar_color": null,
            "_model_module": "@jupyter-widgets/controls"
          }
        },
        "5fd41b13614349bc98c96ea8d15be889": {
          "model_module": "@jupyter-widgets/base",
          "model_name": "LayoutModel",
          "state": {
            "_view_name": "LayoutView",
            "grid_template_rows": null,
            "right": null,
            "justify_content": null,
            "_view_module": "@jupyter-widgets/base",
            "overflow": null,
            "_model_module_version": "1.2.0",
            "_view_count": null,
            "flex_flow": null,
            "width": null,
            "min_width": null,
            "border": null,
            "align_items": null,
            "bottom": null,
            "_model_module": "@jupyter-widgets/base",
            "top": null,
            "grid_column": null,
            "overflow_y": null,
            "overflow_x": null,
            "grid_auto_flow": null,
            "grid_area": null,
            "grid_template_columns": null,
            "flex": null,
            "_model_name": "LayoutModel",
            "justify_items": null,
            "grid_row": null,
            "max_height": null,
            "align_content": null,
            "visibility": null,
            "align_self": null,
            "height": null,
            "min_height": null,
            "padding": null,
            "grid_auto_rows": null,
            "grid_gap": null,
            "max_width": null,
            "order": null,
            "_view_module_version": "1.2.0",
            "grid_template_areas": null,
            "object_position": null,
            "object_fit": null,
            "grid_auto_columns": null,
            "margin": null,
            "display": null,
            "left": null
          }
        },
        "abab86d44f644470be80a50a7b54f0ac": {
          "model_module": "@jupyter-widgets/controls",
          "model_name": "DescriptionStyleModel",
          "state": {
            "_view_name": "StyleView",
            "_model_name": "DescriptionStyleModel",
            "description_width": "",
            "_view_module": "@jupyter-widgets/base",
            "_model_module_version": "1.5.0",
            "_view_count": null,
            "_view_module_version": "1.2.0",
            "_model_module": "@jupyter-widgets/controls"
          }
        },
        "6c371c4d2cdf4832aed505f8a6dad9b3": {
          "model_module": "@jupyter-widgets/base",
          "model_name": "LayoutModel",
          "state": {
            "_view_name": "LayoutView",
            "grid_template_rows": null,
            "right": null,
            "justify_content": null,
            "_view_module": "@jupyter-widgets/base",
            "overflow": null,
            "_model_module_version": "1.2.0",
            "_view_count": null,
            "flex_flow": null,
            "width": null,
            "min_width": null,
            "border": null,
            "align_items": null,
            "bottom": null,
            "_model_module": "@jupyter-widgets/base",
            "top": null,
            "grid_column": null,
            "overflow_y": null,
            "overflow_x": null,
            "grid_auto_flow": null,
            "grid_area": null,
            "grid_template_columns": null,
            "flex": null,
            "_model_name": "LayoutModel",
            "justify_items": null,
            "grid_row": null,
            "max_height": null,
            "align_content": null,
            "visibility": null,
            "align_self": null,
            "height": null,
            "min_height": null,
            "padding": null,
            "grid_auto_rows": null,
            "grid_gap": null,
            "max_width": null,
            "order": null,
            "_view_module_version": "1.2.0",
            "grid_template_areas": null,
            "object_position": null,
            "object_fit": null,
            "grid_auto_columns": null,
            "margin": null,
            "display": null,
            "left": null
          }
        }
      }
    }
  },
  "cells": [
    {
      "cell_type": "markdown",
      "metadata": {
        "id": "view-in-github",
        "colab_type": "text"
      },
      "source": [
        "<a href=\"https://colab.research.google.com/github/alexZajac/airlines_performance/blob/master/explanations_professors/data_engineering.ipynb\" target=\"_parent\"><img src=\"https://colab.research.google.com/assets/colab-badge.svg\" alt=\"Open In Colab\"/></a>"
      ]
    },
    {
      "cell_type": "markdown",
      "metadata": {
        "id": "7UaUytbKmm4p"
      },
      "source": [
        "# Features engineering and process\n",
        "\n",
        "_Note: It's a notebook that can take several dozens of minutes since it explains all the features design and the optimality of code wasn't the focus here_"
      ]
    },
    {
      "cell_type": "markdown",
      "metadata": {
        "id": "7jETva3ZjfTu"
      },
      "source": [
        "## Import Python libraries\n",
        "---\n"
      ]
    },
    {
      "cell_type": "code",
      "metadata": {
        "id": "VDcziQMRmm4y",
        "outputId": "96efed9d-2410-4cb5-8dd2-7d12ee5d79d3"
      },
      "source": [
        "!pip install -U -r ../requirements.txt"
      ],
      "execution_count": null,
      "outputs": [
        {
          "output_type": "stream",
          "text": [
            "zsh:1: command not found: pip\n"
          ],
          "name": "stdout"
        }
      ]
    },
    {
      "cell_type": "code",
      "metadata": {
        "id": "ETr4bUBLb5Nd"
      },
      "source": [
        "import pandas as pd\n",
        "import numpy as np\n",
        "import random\n",
        "from scipy.stats import pearsonr\n",
        "import datetime\n",
        "from tqdm.notebook import tqdm\n",
        "from sklearn.preprocessing import StandardScaler\n",
        "from dateutil.relativedelta import relativedelta\n",
        "\n",
        "# Graphics\n",
        "import matplotlib\n",
        "import matplotlib.pyplot as plt\n",
        "import plotly.graph_objects as go\n",
        "pd.set_option('display.max_rows', 200)\n",
        "pd.set_option('display.max_columns', 20000)\n",
        "pd.set_option('display.width', 10000)\n",
        "\n",
        "# Temp\n",
        "from meteostat import Stations, Daily\n",
        "from geopy.geocoders import Nominatim\n",
        "from itertools import product\n",
        "geolocator = Nominatim(user_agent='myapplication')\n",
        "\n",
        "path = '../data/'"
      ],
      "execution_count": null,
      "outputs": []
    },
    {
      "cell_type": "code",
      "metadata": {
        "id": "5XHI-ZJVjfT3"
      },
      "source": [
        "# Graphical settings\n",
        "CB91_Blue = '#2CBDFE'\n",
        "CB91_Green = '#47DBCD'\n",
        "CB91_Pink = '#F3A0F2'\n",
        "CB91_Purple = '#9D2EC5'\n",
        "CB91_Violet = '#661D98'\n",
        "CB91_Amber = '#F5B14C'\n",
        "color_list = [CB91_Blue, CB91_Pink, CB91_Green, CB91_Amber,\n",
        "              CB91_Purple, CB91_Violet]\n",
        "params = {\"ytick.color\" : \"black\",\n",
        "          \"xtick.color\" : \"black\",\n",
        "          'axes.labelsize' : 15,\n",
        "          \"axes.labelcolor\" : \"black\",\n",
        "          \"axes.edgecolor\" : \"black\",\n",
        "          \"axes.titlecolor\": \"black\", \n",
        "          'figure.figsize': [20, 8], \n",
        "          'axes.prop_cycle': plt.cycler(color=color_list), \n",
        "          'figure.dpi' : 75, \n",
        "          'legend.fontsize': 10,\n",
        "          'font.size': 15 \n",
        "          }\n",
        "plt.rcParams.update(params)"
      ],
      "execution_count": null,
      "outputs": []
    },
    {
      "cell_type": "markdown",
      "metadata": {
        "id": "0zktegpVLvzf"
      },
      "source": [
        "## Data Engineering\n",
        "---"
      ]
    },
    {
      "cell_type": "markdown",
      "metadata": {
        "id": "kODDSYNLjLNy"
      },
      "source": [
        "### Preprocessing"
      ]
    },
    {
      "cell_type": "code",
      "metadata": {
        "id": "N2R7d8jxp_0Q"
      },
      "source": [
        "# Read the CSV file, delete unnamed columns, creates load factor, keeps only number of seats > 10, creates DATE column\n",
        "def read_n_clean(name):\n",
        "  df = pd.read_csv(name)\n",
        "  # Drop Unnamed Columns\n",
        "  df.drop(df.columns[df.columns.str.contains('unnamed', case=False)], axis = 1, inplace = True)\n",
        "  df['DATE'] =  pd.to_datetime(df[['YEAR', 'MONTH']].assign(DAY=1))\n",
        "  # We pick only data from 2013 to 2019\n",
        "  date_ref1 = datetime.datetime(2013, 1, 1)\n",
        "  date_ref2 = datetime.datetime(2020, 1, 1)\n",
        "  df = df[(df['DATE'] >= date_ref1) & (df['DATE'] < date_ref2)]\n",
        "  # We pick only flights with available seats > 10\n",
        "  df = df[df[\"SEATS\"] > 10].reset_index(drop=True)  \n",
        "  # We pick only flights with non-null distance travelled \n",
        "  df = df[df[\"DISTANCE\"] > 0].reset_index(drop=True) \n",
        "  # We dropped the Hageland Airline data -> the company has shut down since 2008 and has very low amounts of tweets\n",
        "  df = df[df['UNIQUE_CARRIER'] != \"H6\"]\n",
        "  # Load-Factor Creation\n",
        "  df[\"RPM\"] = df[\"PASSENGERS\"] * df[\"DISTANCE\"]\n",
        "  df[\"ASM\"] = df[\"SEATS\"] * df[\"DISTANCE\"]\n",
        "  return df"
      ],
      "execution_count": null,
      "outputs": []
    },
    {
      "cell_type": "code",
      "metadata": {
        "colab": {
          "base_uri": "https://localhost:8080/",
          "height": 309
        },
        "id": "GpqlNwIhsNQ_",
        "outputId": "289ae66c-5822-47e5-fd23-ef840537aa89"
      },
      "source": [
        "df = read_n_clean(path + \"root.csv\")\n",
        "df.head()"
      ],
      "execution_count": null,
      "outputs": [
        {
          "output_type": "execute_result",
          "data": {
            "text/plain": [
              "   DEPARTURES_SCHEDULED  DEPARTURES_PERFORMED   PAYLOAD  SEATS  PASSENGERS  FREIGHT  MAIL  DISTANCE UNIQUE_CARRIER  AIRLINE_ID UNIQUE_CARRIER_NAME      CARRIER_NAME  CARRIER_GROUP  ORIGIN_AIRPORT_ID ORIGIN     ORIGIN_CITY_NAME ORIGIN_STATE_ABR  DEST_AIRPORT_ID DEST   DEST_CITY_NAME DEST_STATE_ABR  AIRCRAFT_GROUP  AIRCRAFT_TYPE  AIRCRAFT_CONFIG  YEAR  MONTH  DISTANCE_GROUP CLASS       DATE       RPM       ASM\n",
              "0                   0.0                   1.0   22900.0   88.0        68.0      0.0   0.0    1149.0             CP     21167.0    Compass Airlines  Compass Airlines              2              10423    AUS           Austin, TX               TX            11433  DTW      Detroit, MI             MI               6            677                1  2015      3               3     F 2015-03-01   78132.0  101112.0\n",
              "1                   0.0                   9.0  206100.0  792.0       430.0      0.0   0.0    1042.0             CP     21167.0    Compass Airlines  Compass Airlines              2              10423    AUS           Austin, TX               TX            13487  MSP  Minneapolis, MN             MN               6            677                1  2015      3               3     F 2015-03-01  448060.0  825264.0\n",
              "2                   0.0                   1.0   22900.0   88.0        69.0      0.0   0.0     748.0             CP     21167.0    Compass Airlines  Compass Airlines              2              10620    BIL         Billings, MT               MT            13487  MSP  Minneapolis, MN             MN               6            677                1  2015      3               2     F 2015-03-01   51612.0   65824.0\n",
              "3                   0.0                   1.0   21850.0   86.0        27.0      0.0   0.0     386.0             CP     21167.0    Compass Airlines  Compass Airlines              2              10627    BIS  Bismarck/Mandan, ND               ND            13487  MSP  Minneapolis, MN             MN               6            673                1  2015      3               1     F 2015-03-01   10422.0   33196.0\n",
              "4                   0.0                   1.0   22900.0   88.0        64.0      0.0   0.0     500.0             CP     21167.0    Compass Airlines  Compass Airlines              2              11057    CLT        Charlotte, NC               NC            11433  DTW      Detroit, MI             MI               6            677                1  2015      3               2     F 2015-03-01   32000.0   44000.0"
            ],
            "text/html": [
              "<div>\n",
              "<style scoped>\n",
              "    .dataframe tbody tr th:only-of-type {\n",
              "        vertical-align: middle;\n",
              "    }\n",
              "\n",
              "    .dataframe tbody tr th {\n",
              "        vertical-align: top;\n",
              "    }\n",
              "\n",
              "    .dataframe thead th {\n",
              "        text-align: right;\n",
              "    }\n",
              "</style>\n",
              "<table border=\"1\" class=\"dataframe\">\n",
              "  <thead>\n",
              "    <tr style=\"text-align: right;\">\n",
              "      <th></th>\n",
              "      <th>DEPARTURES_SCHEDULED</th>\n",
              "      <th>DEPARTURES_PERFORMED</th>\n",
              "      <th>PAYLOAD</th>\n",
              "      <th>SEATS</th>\n",
              "      <th>PASSENGERS</th>\n",
              "      <th>FREIGHT</th>\n",
              "      <th>MAIL</th>\n",
              "      <th>DISTANCE</th>\n",
              "      <th>UNIQUE_CARRIER</th>\n",
              "      <th>AIRLINE_ID</th>\n",
              "      <th>UNIQUE_CARRIER_NAME</th>\n",
              "      <th>CARRIER_NAME</th>\n",
              "      <th>CARRIER_GROUP</th>\n",
              "      <th>ORIGIN_AIRPORT_ID</th>\n",
              "      <th>ORIGIN</th>\n",
              "      <th>ORIGIN_CITY_NAME</th>\n",
              "      <th>ORIGIN_STATE_ABR</th>\n",
              "      <th>DEST_AIRPORT_ID</th>\n",
              "      <th>DEST</th>\n",
              "      <th>DEST_CITY_NAME</th>\n",
              "      <th>DEST_STATE_ABR</th>\n",
              "      <th>AIRCRAFT_GROUP</th>\n",
              "      <th>AIRCRAFT_TYPE</th>\n",
              "      <th>AIRCRAFT_CONFIG</th>\n",
              "      <th>YEAR</th>\n",
              "      <th>MONTH</th>\n",
              "      <th>DISTANCE_GROUP</th>\n",
              "      <th>CLASS</th>\n",
              "      <th>DATE</th>\n",
              "      <th>RPM</th>\n",
              "      <th>ASM</th>\n",
              "    </tr>\n",
              "  </thead>\n",
              "  <tbody>\n",
              "    <tr>\n",
              "      <th>0</th>\n",
              "      <td>0.0</td>\n",
              "      <td>1.0</td>\n",
              "      <td>22900.0</td>\n",
              "      <td>88.0</td>\n",
              "      <td>68.0</td>\n",
              "      <td>0.0</td>\n",
              "      <td>0.0</td>\n",
              "      <td>1149.0</td>\n",
              "      <td>CP</td>\n",
              "      <td>21167.0</td>\n",
              "      <td>Compass Airlines</td>\n",
              "      <td>Compass Airlines</td>\n",
              "      <td>2</td>\n",
              "      <td>10423</td>\n",
              "      <td>AUS</td>\n",
              "      <td>Austin, TX</td>\n",
              "      <td>TX</td>\n",
              "      <td>11433</td>\n",
              "      <td>DTW</td>\n",
              "      <td>Detroit, MI</td>\n",
              "      <td>MI</td>\n",
              "      <td>6</td>\n",
              "      <td>677</td>\n",
              "      <td>1</td>\n",
              "      <td>2015</td>\n",
              "      <td>3</td>\n",
              "      <td>3</td>\n",
              "      <td>F</td>\n",
              "      <td>2015-03-01</td>\n",
              "      <td>78132.0</td>\n",
              "      <td>101112.0</td>\n",
              "    </tr>\n",
              "    <tr>\n",
              "      <th>1</th>\n",
              "      <td>0.0</td>\n",
              "      <td>9.0</td>\n",
              "      <td>206100.0</td>\n",
              "      <td>792.0</td>\n",
              "      <td>430.0</td>\n",
              "      <td>0.0</td>\n",
              "      <td>0.0</td>\n",
              "      <td>1042.0</td>\n",
              "      <td>CP</td>\n",
              "      <td>21167.0</td>\n",
              "      <td>Compass Airlines</td>\n",
              "      <td>Compass Airlines</td>\n",
              "      <td>2</td>\n",
              "      <td>10423</td>\n",
              "      <td>AUS</td>\n",
              "      <td>Austin, TX</td>\n",
              "      <td>TX</td>\n",
              "      <td>13487</td>\n",
              "      <td>MSP</td>\n",
              "      <td>Minneapolis, MN</td>\n",
              "      <td>MN</td>\n",
              "      <td>6</td>\n",
              "      <td>677</td>\n",
              "      <td>1</td>\n",
              "      <td>2015</td>\n",
              "      <td>3</td>\n",
              "      <td>3</td>\n",
              "      <td>F</td>\n",
              "      <td>2015-03-01</td>\n",
              "      <td>448060.0</td>\n",
              "      <td>825264.0</td>\n",
              "    </tr>\n",
              "    <tr>\n",
              "      <th>2</th>\n",
              "      <td>0.0</td>\n",
              "      <td>1.0</td>\n",
              "      <td>22900.0</td>\n",
              "      <td>88.0</td>\n",
              "      <td>69.0</td>\n",
              "      <td>0.0</td>\n",
              "      <td>0.0</td>\n",
              "      <td>748.0</td>\n",
              "      <td>CP</td>\n",
              "      <td>21167.0</td>\n",
              "      <td>Compass Airlines</td>\n",
              "      <td>Compass Airlines</td>\n",
              "      <td>2</td>\n",
              "      <td>10620</td>\n",
              "      <td>BIL</td>\n",
              "      <td>Billings, MT</td>\n",
              "      <td>MT</td>\n",
              "      <td>13487</td>\n",
              "      <td>MSP</td>\n",
              "      <td>Minneapolis, MN</td>\n",
              "      <td>MN</td>\n",
              "      <td>6</td>\n",
              "      <td>677</td>\n",
              "      <td>1</td>\n",
              "      <td>2015</td>\n",
              "      <td>3</td>\n",
              "      <td>2</td>\n",
              "      <td>F</td>\n",
              "      <td>2015-03-01</td>\n",
              "      <td>51612.0</td>\n",
              "      <td>65824.0</td>\n",
              "    </tr>\n",
              "    <tr>\n",
              "      <th>3</th>\n",
              "      <td>0.0</td>\n",
              "      <td>1.0</td>\n",
              "      <td>21850.0</td>\n",
              "      <td>86.0</td>\n",
              "      <td>27.0</td>\n",
              "      <td>0.0</td>\n",
              "      <td>0.0</td>\n",
              "      <td>386.0</td>\n",
              "      <td>CP</td>\n",
              "      <td>21167.0</td>\n",
              "      <td>Compass Airlines</td>\n",
              "      <td>Compass Airlines</td>\n",
              "      <td>2</td>\n",
              "      <td>10627</td>\n",
              "      <td>BIS</td>\n",
              "      <td>Bismarck/Mandan, ND</td>\n",
              "      <td>ND</td>\n",
              "      <td>13487</td>\n",
              "      <td>MSP</td>\n",
              "      <td>Minneapolis, MN</td>\n",
              "      <td>MN</td>\n",
              "      <td>6</td>\n",
              "      <td>673</td>\n",
              "      <td>1</td>\n",
              "      <td>2015</td>\n",
              "      <td>3</td>\n",
              "      <td>1</td>\n",
              "      <td>F</td>\n",
              "      <td>2015-03-01</td>\n",
              "      <td>10422.0</td>\n",
              "      <td>33196.0</td>\n",
              "    </tr>\n",
              "    <tr>\n",
              "      <th>4</th>\n",
              "      <td>0.0</td>\n",
              "      <td>1.0</td>\n",
              "      <td>22900.0</td>\n",
              "      <td>88.0</td>\n",
              "      <td>64.0</td>\n",
              "      <td>0.0</td>\n",
              "      <td>0.0</td>\n",
              "      <td>500.0</td>\n",
              "      <td>CP</td>\n",
              "      <td>21167.0</td>\n",
              "      <td>Compass Airlines</td>\n",
              "      <td>Compass Airlines</td>\n",
              "      <td>2</td>\n",
              "      <td>11057</td>\n",
              "      <td>CLT</td>\n",
              "      <td>Charlotte, NC</td>\n",
              "      <td>NC</td>\n",
              "      <td>11433</td>\n",
              "      <td>DTW</td>\n",
              "      <td>Detroit, MI</td>\n",
              "      <td>MI</td>\n",
              "      <td>6</td>\n",
              "      <td>677</td>\n",
              "      <td>1</td>\n",
              "      <td>2015</td>\n",
              "      <td>3</td>\n",
              "      <td>2</td>\n",
              "      <td>F</td>\n",
              "      <td>2015-03-01</td>\n",
              "      <td>32000.0</td>\n",
              "      <td>44000.0</td>\n",
              "    </tr>\n",
              "  </tbody>\n",
              "</table>\n",
              "</div>"
            ]
          },
          "metadata": {
            "tags": []
          },
          "execution_count": 40
        }
      ]
    },
    {
      "cell_type": "markdown",
      "metadata": {
        "id": "wq9jl8ozUyrp"
      },
      "source": [
        "### Airlines Global Performance - Choosing the best relevant airlines"
      ]
    },
    {
      "cell_type": "code",
      "metadata": {
        "id": "gR7HWFodHZ0F"
      },
      "source": [
        "# MOY FLIGHTS\n",
        "count_flights = df.groupby(['UNIQUE_CARRIER_NAME', 'DATE'])['PASSENGERS'].count().reset_index(name = 'NB_FLIGHTS')\n",
        "count_flights_f = count_flights.groupby(['UNIQUE_CARRIER_NAME'])['NB_FLIGHTS'].mean().reset_index(name = 'MOY_NB_FLIGHTS').sort_values('MOY_NB_FLIGHTS', ascending = False)\n",
        "# TOT Passengers\n",
        "tot_pass = count_flights_f.merge(df.groupby(['UNIQUE_CARRIER_NAME'])['PASSENGERS'].sum().reset_index(name = 'TOT_PASS_FLIGHTS').reset_index(drop=True), on= ['UNIQUE_CARRIER_NAME']).sort_values('TOT_PASS_FLIGHTS', ascending = False)\n",
        "# NB Flights\n",
        "tot_nb_flights = tot_pass.merge(df.groupby(['UNIQUE_CARRIER_NAME'])['PASSENGERS'].count().reset_index(name = 'TOT_NB_FLIGHTS').reset_index(drop=True), on=['UNIQUE_CARRIER_NAME']).sort_values('TOT_NB_FLIGHTS', ascending = False)"
      ],
      "execution_count": null,
      "outputs": []
    },
    {
      "cell_type": "code",
      "metadata": {
        "colab": {
          "base_uri": "https://localhost:8080/",
          "height": 203
        },
        "id": "b0lSrdFW_mnf",
        "outputId": "d86f8b2b-4084-4cbc-cf50-bcef3d841c0e"
      },
      "source": [
        "copy = tot_nb_flights.copy()\r\n",
        "scaler = StandardScaler()\r\n",
        "copy.iloc[:, 1:] = scaler.fit_transform(copy.iloc[:, 1:])\r\n",
        "copy['TOTAL'] = copy['MOY_NB_FLIGHTS'] + copy['TOT_PASS_FLIGHTS'] + copy['TOT_NB_FLIGHTS']\r\n",
        "copy.sort_values('TOTAL', ascending=False, inplace=True)\r\n",
        "copy.head()"
      ],
      "execution_count": null,
      "outputs": [
        {
          "output_type": "execute_result",
          "data": {
            "text/plain": [
              "      UNIQUE_CARRIER_NAME  MOY_NB_FLIGHTS  TOT_PASS_FLIGHTS  TOT_NB_FLIGHTS      TOTAL\n",
              "0  Southwest Airlines Co.        5.651950          7.051707        5.707278  18.410935\n",
              "1    Delta Air Lines Inc.        5.269585          5.523008        5.323344  16.115938\n",
              "3   United Air Lines Inc.        4.457456          3.429872        4.507881  12.395209\n",
              "2  American Airlines Inc.        2.630861          4.842632        2.673787  10.147280\n",
              "4   SkyWest Airlines Inc.        3.617594          1.286393        3.664571   8.568558"
            ],
            "text/html": [
              "<div>\n",
              "<style scoped>\n",
              "    .dataframe tbody tr th:only-of-type {\n",
              "        vertical-align: middle;\n",
              "    }\n",
              "\n",
              "    .dataframe tbody tr th {\n",
              "        vertical-align: top;\n",
              "    }\n",
              "\n",
              "    .dataframe thead th {\n",
              "        text-align: right;\n",
              "    }\n",
              "</style>\n",
              "<table border=\"1\" class=\"dataframe\">\n",
              "  <thead>\n",
              "    <tr style=\"text-align: right;\">\n",
              "      <th></th>\n",
              "      <th>UNIQUE_CARRIER_NAME</th>\n",
              "      <th>MOY_NB_FLIGHTS</th>\n",
              "      <th>TOT_PASS_FLIGHTS</th>\n",
              "      <th>TOT_NB_FLIGHTS</th>\n",
              "      <th>TOTAL</th>\n",
              "    </tr>\n",
              "  </thead>\n",
              "  <tbody>\n",
              "    <tr>\n",
              "      <th>0</th>\n",
              "      <td>Southwest Airlines Co.</td>\n",
              "      <td>5.651950</td>\n",
              "      <td>7.051707</td>\n",
              "      <td>5.707278</td>\n",
              "      <td>18.410935</td>\n",
              "    </tr>\n",
              "    <tr>\n",
              "      <th>1</th>\n",
              "      <td>Delta Air Lines Inc.</td>\n",
              "      <td>5.269585</td>\n",
              "      <td>5.523008</td>\n",
              "      <td>5.323344</td>\n",
              "      <td>16.115938</td>\n",
              "    </tr>\n",
              "    <tr>\n",
              "      <th>3</th>\n",
              "      <td>United Air Lines Inc.</td>\n",
              "      <td>4.457456</td>\n",
              "      <td>3.429872</td>\n",
              "      <td>4.507881</td>\n",
              "      <td>12.395209</td>\n",
              "    </tr>\n",
              "    <tr>\n",
              "      <th>2</th>\n",
              "      <td>American Airlines Inc.</td>\n",
              "      <td>2.630861</td>\n",
              "      <td>4.842632</td>\n",
              "      <td>2.673787</td>\n",
              "      <td>10.147280</td>\n",
              "    </tr>\n",
              "    <tr>\n",
              "      <th>4</th>\n",
              "      <td>SkyWest Airlines Inc.</td>\n",
              "      <td>3.617594</td>\n",
              "      <td>1.286393</td>\n",
              "      <td>3.664571</td>\n",
              "      <td>8.568558</td>\n",
              "    </tr>\n",
              "  </tbody>\n",
              "</table>\n",
              "</div>"
            ]
          },
          "metadata": {
            "tags": []
          },
          "execution_count": 7
        }
      ]
    },
    {
      "cell_type": "code",
      "metadata": {
        "colab": {
          "base_uri": "https://localhost:8080/",
          "height": 340
        },
        "id": "DId__TnNAtvN",
        "outputId": "35b02d12-a363-4a8c-feb0-47cf269d8dd5"
      },
      "source": [
        "fig, ax = plt.subplots(figsize=(20, 8))\r\n",
        "ax.get_xaxis().set_visible(False)\r\n",
        "ax.bar(copy['UNIQUE_CARRIER_NAME'], copy['MOY_NB_FLIGHTS'], color = 'C1', label = 'Standardized average number of flights per month')\r\n",
        "ax.bar(copy['UNIQUE_CARRIER_NAME'], copy['TOT_PASS_FLIGHTS'], bottom = copy['MOY_NB_FLIGHTS'], color = 'C2', label = 'Standardized total number of passagers')\r\n",
        "ax.bar(copy['UNIQUE_CARRIER_NAME'], copy['TOT_NB_FLIGHTS'], bottom = copy['MOY_NB_FLIGHTS'] + copy['TOT_PASS_FLIGHTS'], color = 'C3', label = 'Standardized total number of flights')\r\n",
        "ax.axvline(x=22.5, color='r', linestyle='-', label = 'x = 23')\r\n",
        "ax.legend(prop={'size': 15})\r\n",
        "ax.set_title(\"Vertical bar plot of all the US CARRIERS sorted by their total performance on the period 2014-2019\", pad = 25)\r\n",
        "ax.patch.set_alpha(0)\r\n",
        "fig.show()"
      ],
      "execution_count": null,
      "outputs": [
        {
          "output_type": "display_data",
          "data": {
            "text/plain": [
              "<Figure size 1500x600 with 1 Axes>"
            ],
            "image/svg+xml": "<?xml version=\"1.0\" encoding=\"utf-8\" standalone=\"no\"?>\n<!DOCTYPE svg PUBLIC \"-//W3C//DTD SVG 1.1//EN\"\n  \"http://www.w3.org/Graphics/SVG/1.1/DTD/svg11.dtd\">\n<!-- Created with matplotlib (https://matplotlib.org/) -->\n<svg height=\"492.794062pt\" version=\"1.1\" viewBox=\"0 0 1385.472545 492.794062\" width=\"1385.472545pt\" xmlns=\"http://www.w3.org/2000/svg\" xmlns:xlink=\"http://www.w3.org/1999/xlink\">\n <metadata>\n  <rdf:RDF xmlns:cc=\"http://creativecommons.org/ns#\" xmlns:dc=\"http://purl.org/dc/elements/1.1/\" xmlns:rdf=\"http://www.w3.org/1999/02/22-rdf-syntax-ns#\">\n   <cc:Work>\n    <dc:type rdf:resource=\"http://purl.org/dc/dcmitype/StillImage\"/>\n    <dc:date>2021-01-16T09:49:06.686947</dc:date>\n    <dc:format>image/svg+xml</dc:format>\n    <dc:creator>\n     <cc:Agent>\n      <dc:title>Matplotlib v3.3.2, https://matplotlib.org/</dc:title>\n     </cc:Agent>\n    </dc:creator>\n   </cc:Work>\n  </rdf:RDF>\n </metadata>\n <defs>\n  <style type=\"text/css\">*{stroke-linecap:butt;stroke-linejoin:round;}</style>\n </defs>\n <g id=\"figure_1\">\n  <g id=\"patch_1\">\n   <path d=\"M 0 492.794062 \nL 1385.472545 492.794062 \nL 1385.472545 0 \nL 0 0 \nz\n\" style=\"fill:none;\"/>\n  </g>\n  <g id=\"axes_1\">\n   <g id=\"patch_2\">\n    <path d=\"M 47.598438 464.076875 \nL 1163.598438 464.076875 \nL 1163.598438 29.196875 \nL 47.598438 29.196875 \nz\n\" style=\"fill:#ffffff;\"/>\n   </g>\n   <g id=\"patch_3\">\n    <path clip-path=\"url(#p42bd252d03)\" d=\"M 98.32571 422.104176 \nL 104.627235 422.104176 \nL 104.627235 307.554389 \nL 98.32571 307.554389 \nz\n\" style=\"fill:#f3a0f2;\"/>\n   </g>\n   <g id=\"patch_4\">\n    <path clip-path=\"url(#p42bd252d03)\" d=\"M 106.202616 422.104176 \nL 112.50414 422.104176 \nL 112.50414 315.303888 \nL 106.202616 315.303888 \nz\n\" style=\"fill:#f3a0f2;\"/>\n   </g>\n   <g id=\"patch_5\">\n    <path clip-path=\"url(#p42bd252d03)\" d=\"M 114.079522 422.104176 \nL 120.381046 422.104176 \nL 120.381046 331.763564 \nL 114.079522 331.763564 \nz\n\" style=\"fill:#f3a0f2;\"/>\n   </g>\n   <g id=\"patch_6\">\n    <path clip-path=\"url(#p42bd252d03)\" d=\"M 121.956427 422.104176 \nL 128.257952 422.104176 \nL 128.257952 368.783725 \nL 121.956427 368.783725 \nz\n\" style=\"fill:#f3a0f2;\"/>\n   </g>\n   <g id=\"patch_7\">\n    <path clip-path=\"url(#p42bd252d03)\" d=\"M 129.833333 422.104176 \nL 136.134858 422.104176 \nL 136.134858 348.785301 \nL 129.833333 348.785301 \nz\n\" style=\"fill:#f3a0f2;\"/>\n   </g>\n   <g id=\"patch_8\">\n    <path clip-path=\"url(#p42bd252d03)\" d=\"M 137.710239 422.104176 \nL 144.011763 422.104176 \nL 144.011763 380.141936 \nL 137.710239 380.141936 \nz\n\" style=\"fill:#f3a0f2;\"/>\n   </g>\n   <g id=\"patch_9\">\n    <path clip-path=\"url(#p42bd252d03)\" d=\"M 145.587144 422.104176 \nL 151.888669 422.104176 \nL 151.888669 399.33666 \nL 145.587144 399.33666 \nz\n\" style=\"fill:#f3a0f2;\"/>\n   </g>\n   <g id=\"patch_10\">\n    <path clip-path=\"url(#p42bd252d03)\" d=\"M 153.46405 422.104176 \nL 159.765575 422.104176 \nL 159.765575 392.900007 \nL 153.46405 392.900007 \nz\n\" style=\"fill:#f3a0f2;\"/>\n   </g>\n   <g id=\"patch_11\">\n    <path clip-path=\"url(#p42bd252d03)\" d=\"M 161.340956 422.104176 \nL 167.64248 422.104176 \nL 167.64248 394.702599 \nL 161.340956 394.702599 \nz\n\" style=\"fill:#f3a0f2;\"/>\n   </g>\n   <g id=\"patch_12\">\n    <path clip-path=\"url(#p42bd252d03)\" d=\"M 169.217862 422.104176 \nL 175.519386 422.104176 \nL 175.519386 408.879932 \nL 169.217862 408.879932 \nz\n\" style=\"fill:#f3a0f2;\"/>\n   </g>\n   <g id=\"patch_13\">\n    <path clip-path=\"url(#p42bd252d03)\" d=\"M 177.094767 422.104176 \nL 183.396292 422.104176 \nL 183.396292 401.999981 \nL 177.094767 401.999981 \nz\n\" style=\"fill:#f3a0f2;\"/>\n   </g>\n   <g id=\"patch_14\">\n    <path clip-path=\"url(#p42bd252d03)\" d=\"M 184.971673 422.104176 \nL 191.273198 422.104176 \nL 191.273198 407.831066 \nL 184.971673 407.831066 \nz\n\" style=\"fill:#f3a0f2;\"/>\n   </g>\n   <g id=\"patch_15\">\n    <path clip-path=\"url(#p42bd252d03)\" d=\"M 192.848579 422.104176 \nL 199.150103 422.104176 \nL 199.150103 405.239473 \nL 192.848579 405.239473 \nz\n\" style=\"fill:#f3a0f2;\"/>\n   </g>\n   <g id=\"patch_16\">\n    <path clip-path=\"url(#p42bd252d03)\" d=\"M 200.725484 422.104176 \nL 207.027009 422.104176 \nL 207.027009 403.596797 \nL 200.725484 403.596797 \nz\n\" style=\"fill:#f3a0f2;\"/>\n   </g>\n   <g id=\"patch_17\">\n    <path clip-path=\"url(#p42bd252d03)\" d=\"M 208.60239 422.104176 \nL 214.903915 422.104176 \nL 214.903915 406.785139 \nL 208.60239 406.785139 \nz\n\" style=\"fill:#f3a0f2;\"/>\n   </g>\n   <g id=\"patch_18\">\n    <path clip-path=\"url(#p42bd252d03)\" d=\"M 216.479296 422.104176 \nL 222.78082 422.104176 \nL 222.78082 395.26466 \nL 216.479296 395.26466 \nz\n\" style=\"fill:#f3a0f2;\"/>\n   </g>\n   <g id=\"patch_19\">\n    <path clip-path=\"url(#p42bd252d03)\" d=\"M 224.356201 422.104176 \nL 230.657726 422.104176 \nL 230.657726 414.454093 \nL 224.356201 414.454093 \nz\n\" style=\"fill:#f3a0f2;\"/>\n   </g>\n   <g id=\"patch_20\">\n    <path clip-path=\"url(#p42bd252d03)\" d=\"M 232.233107 422.104176 \nL 238.534632 422.104176 \nL 238.534632 410.305074 \nL 232.233107 410.305074 \nz\n\" style=\"fill:#f3a0f2;\"/>\n   </g>\n   <g id=\"patch_21\">\n    <path clip-path=\"url(#p42bd252d03)\" d=\"M 240.110013 422.104176 \nL 246.411537 422.104176 \nL 246.411537 416.955145 \nL 240.110013 416.955145 \nz\n\" style=\"fill:#f3a0f2;\"/>\n   </g>\n   <g id=\"patch_22\">\n    <path clip-path=\"url(#p42bd252d03)\" d=\"M 247.986919 422.104176 \nL 254.288443 422.104176 \nL 254.288443 416.526544 \nL 247.986919 416.526544 \nz\n\" style=\"fill:#f3a0f2;\"/>\n   </g>\n   <g id=\"patch_23\">\n    <path clip-path=\"url(#p42bd252d03)\" d=\"M 255.863824 422.104176 \nL 262.165349 422.104176 \nL 262.165349 415.989177 \nL 255.863824 415.989177 \nz\n\" style=\"fill:#f3a0f2;\"/>\n   </g>\n   <g id=\"patch_24\">\n    <path clip-path=\"url(#p42bd252d03)\" d=\"M 263.74073 422.104176 \nL 270.042255 422.104176 \nL 270.042255 420.519174 \nL 263.74073 420.519174 \nz\n\" style=\"fill:#f3a0f2;\"/>\n   </g>\n   <g id=\"patch_25\">\n    <path clip-path=\"url(#p42bd252d03)\" d=\"M 271.617636 422.104176 \nL 277.91916 422.104176 \nL 277.91916 419.133424 \nL 271.617636 419.133424 \nz\n\" style=\"fill:#f3a0f2;\"/>\n   </g>\n   <g id=\"patch_26\">\n    <path clip-path=\"url(#p42bd252d03)\" d=\"M 279.494541 422.104176 \nL 285.796066 422.104176 \nL 285.796066 421.130621 \nL 279.494541 421.130621 \nz\n\" style=\"fill:#f3a0f2;\"/>\n   </g>\n   <g id=\"patch_27\">\n    <path clip-path=\"url(#p42bd252d03)\" d=\"M 287.371447 422.104176 \nL 293.672972 422.104176 \nL 293.672972 422.766241 \nL 287.371447 422.766241 \nz\n\" style=\"fill:#f3a0f2;\"/>\n   </g>\n   <g id=\"patch_28\">\n    <path clip-path=\"url(#p42bd252d03)\" d=\"M 295.248353 422.104176 \nL 301.549877 422.104176 \nL 301.549877 424.738156 \nL 295.248353 424.738156 \nz\n\" style=\"fill:#f3a0f2;\"/>\n   </g>\n   <g id=\"patch_29\">\n    <path clip-path=\"url(#p42bd252d03)\" d=\"M 303.125259 422.104176 \nL 309.426783 422.104176 \nL 309.426783 420.912661 \nL 303.125259 420.912661 \nz\n\" style=\"fill:#f3a0f2;\"/>\n   </g>\n   <g id=\"patch_30\">\n    <path clip-path=\"url(#p42bd252d03)\" d=\"M 311.002164 422.104176 \nL 317.303689 422.104176 \nL 317.303689 423.714571 \nL 311.002164 423.714571 \nz\n\" style=\"fill:#f3a0f2;\"/>\n   </g>\n   <g id=\"patch_31\">\n    <path clip-path=\"url(#p42bd252d03)\" d=\"M 318.87907 422.104176 \nL 325.180594 422.104176 \nL 325.180594 427.818319 \nL 318.87907 427.818319 \nz\n\" style=\"fill:#f3a0f2;\"/>\n   </g>\n   <g id=\"patch_32\">\n    <path clip-path=\"url(#p42bd252d03)\" d=\"M 326.755976 422.104176 \nL 333.0575 422.104176 \nL 333.0575 426.295858 \nL 326.755976 426.295858 \nz\n\" style=\"fill:#f3a0f2;\"/>\n   </g>\n   <g id=\"patch_33\">\n    <path clip-path=\"url(#p42bd252d03)\" d=\"M 334.632881 422.104176 \nL 340.934406 422.104176 \nL 340.934406 420.509179 \nL 334.632881 420.509179 \nz\n\" style=\"fill:#f3a0f2;\"/>\n   </g>\n   <g id=\"patch_34\">\n    <path clip-path=\"url(#p42bd252d03)\" d=\"M 342.509787 422.104176 \nL 348.811312 422.104176 \nL 348.811312 425.297277 \nL 342.509787 425.297277 \nz\n\" style=\"fill:#f3a0f2;\"/>\n   </g>\n   <g id=\"patch_35\">\n    <path clip-path=\"url(#p42bd252d03)\" d=\"M 350.386693 422.104176 \nL 356.688217 422.104176 \nL 356.688217 424.565446 \nL 350.386693 424.565446 \nz\n\" style=\"fill:#f3a0f2;\"/>\n   </g>\n   <g id=\"patch_36\">\n    <path clip-path=\"url(#p42bd252d03)\" d=\"M 358.263598 422.104176 \nL 364.565123 422.104176 \nL 364.565123 423.129084 \nL 358.263598 423.129084 \nz\n\" style=\"fill:#f3a0f2;\"/>\n   </g>\n   <g id=\"patch_37\">\n    <path clip-path=\"url(#p42bd252d03)\" d=\"M 366.140504 422.104176 \nL 372.442029 422.104176 \nL 372.442029 423.49873 \nL 366.140504 423.49873 \nz\n\" style=\"fill:#f3a0f2;\"/>\n   </g>\n   <g id=\"patch_38\">\n    <path clip-path=\"url(#p42bd252d03)\" d=\"M 374.01741 422.104176 \nL 380.318934 422.104176 \nL 380.318934 424.570126 \nL 374.01741 424.570126 \nz\n\" style=\"fill:#f3a0f2;\"/>\n   </g>\n   <g id=\"patch_39\">\n    <path clip-path=\"url(#p42bd252d03)\" d=\"M 381.894316 422.104176 \nL 388.19584 422.104176 \nL 388.19584 426.616591 \nL 381.894316 426.616591 \nz\n\" style=\"fill:#f3a0f2;\"/>\n   </g>\n   <g id=\"patch_40\">\n    <path clip-path=\"url(#p42bd252d03)\" d=\"M 389.771221 422.104176 \nL 396.072746 422.104176 \nL 396.072746 425.116195 \nL 389.771221 425.116195 \nz\n\" style=\"fill:#f3a0f2;\"/>\n   </g>\n   <g id=\"patch_41\">\n    <path clip-path=\"url(#p42bd252d03)\" d=\"M 397.648127 422.104176 \nL 403.949652 422.104176 \nL 403.949652 427.318579 \nL 397.648127 427.318579 \nz\n\" style=\"fill:#f3a0f2;\"/>\n   </g>\n   <g id=\"patch_42\">\n    <path clip-path=\"url(#p42bd252d03)\" d=\"M 405.525033 422.104176 \nL 411.826557 422.104176 \nL 411.826557 427.066357 \nL 405.525033 427.066357 \nz\n\" style=\"fill:#f3a0f2;\"/>\n   </g>\n   <g id=\"patch_43\">\n    <path clip-path=\"url(#p42bd252d03)\" d=\"M 413.401938 422.104176 \nL 419.703463 422.104176 \nL 419.703463 427.507893 \nL 413.401938 427.507893 \nz\n\" style=\"fill:#f3a0f2;\"/>\n   </g>\n   <g id=\"patch_44\">\n    <path clip-path=\"url(#p42bd252d03)\" d=\"M 421.278844 422.104176 \nL 427.580369 422.104176 \nL 427.580369 427.611112 \nL 421.278844 427.611112 \nz\n\" style=\"fill:#f3a0f2;\"/>\n   </g>\n   <g id=\"patch_45\">\n    <path clip-path=\"url(#p42bd252d03)\" d=\"M 429.15575 422.104176 \nL 435.457274 422.104176 \nL 435.457274 427.80406 \nL 429.15575 427.80406 \nz\n\" style=\"fill:#f3a0f2;\"/>\n   </g>\n   <g id=\"patch_46\">\n    <path clip-path=\"url(#p42bd252d03)\" d=\"M 437.032655 422.104176 \nL 443.33418 422.104176 \nL 443.33418 427.905005 \nL 437.032655 427.905005 \nz\n\" style=\"fill:#f3a0f2;\"/>\n   </g>\n   <g id=\"patch_47\">\n    <path clip-path=\"url(#p42bd252d03)\" d=\"M 444.909561 422.104176 \nL 451.211086 422.104176 \nL 451.211086 428.110467 \nL 444.909561 428.110467 \nz\n\" style=\"fill:#f3a0f2;\"/>\n   </g>\n   <g id=\"patch_48\">\n    <path clip-path=\"url(#p42bd252d03)\" d=\"M 452.786467 422.104176 \nL 459.087991 422.104176 \nL 459.087991 428.679048 \nL 452.786467 428.679048 \nz\n\" style=\"fill:#f3a0f2;\"/>\n   </g>\n   <g id=\"patch_49\">\n    <path clip-path=\"url(#p42bd252d03)\" d=\"M 460.663373 422.104176 \nL 466.964897 422.104176 \nL 466.964897 428.387887 \nL 460.663373 428.387887 \nz\n\" style=\"fill:#f3a0f2;\"/>\n   </g>\n   <g id=\"patch_50\">\n    <path clip-path=\"url(#p42bd252d03)\" d=\"M 468.540278 422.104176 \nL 474.841803 422.104176 \nL 474.841803 428.646712 \nL 468.540278 428.646712 \nz\n\" style=\"fill:#f3a0f2;\"/>\n   </g>\n   <g id=\"patch_51\">\n    <path clip-path=\"url(#p42bd252d03)\" d=\"M 476.417184 422.104176 \nL 482.718709 422.104176 \nL 482.718709 428.532033 \nL 476.417184 428.532033 \nz\n\" style=\"fill:#f3a0f2;\"/>\n   </g>\n   <g id=\"patch_52\">\n    <path clip-path=\"url(#p42bd252d03)\" d=\"M 484.29409 422.104176 \nL 490.595614 422.104176 \nL 490.595614 428.343513 \nL 484.29409 428.343513 \nz\n\" style=\"fill:#f3a0f2;\"/>\n   </g>\n   <g id=\"patch_53\">\n    <path clip-path=\"url(#p42bd252d03)\" d=\"M 492.170995 422.104176 \nL 498.47252 422.104176 \nL 498.47252 428.686691 \nL 492.170995 428.686691 \nz\n\" style=\"fill:#f3a0f2;\"/>\n   </g>\n   <g id=\"patch_54\">\n    <path clip-path=\"url(#p42bd252d03)\" d=\"M 500.047901 422.104176 \nL 506.349426 422.104176 \nL 506.349426 428.62982 \nL 500.047901 428.62982 \nz\n\" style=\"fill:#f3a0f2;\"/>\n   </g>\n   <g id=\"patch_55\">\n    <path clip-path=\"url(#p42bd252d03)\" d=\"M 507.924807 422.104176 \nL 514.226331 422.104176 \nL 514.226331 428.736665 \nL 507.924807 428.736665 \nz\n\" style=\"fill:#f3a0f2;\"/>\n   </g>\n   <g id=\"patch_56\">\n    <path clip-path=\"url(#p42bd252d03)\" d=\"M 515.801712 422.104176 \nL 522.103237 422.104176 \nL 522.103237 427.784911 \nL 515.801712 427.784911 \nz\n\" style=\"fill:#f3a0f2;\"/>\n   </g>\n   <g id=\"patch_57\">\n    <path clip-path=\"url(#p42bd252d03)\" d=\"M 523.678618 422.104176 \nL 529.980143 422.104176 \nL 529.980143 429.028278 \nL 523.678618 429.028278 \nz\n\" style=\"fill:#f3a0f2;\"/>\n   </g>\n   <g id=\"patch_58\">\n    <path clip-path=\"url(#p42bd252d03)\" d=\"M 531.555524 422.104176 \nL 537.857048 422.104176 \nL 537.857048 428.574183 \nL 531.555524 428.574183 \nz\n\" style=\"fill:#f3a0f2;\"/>\n   </g>\n   <g id=\"patch_59\">\n    <path clip-path=\"url(#p42bd252d03)\" d=\"M 539.43243 422.104176 \nL 545.733954 422.104176 \nL 545.733954 429.261686 \nL 539.43243 429.261686 \nz\n\" style=\"fill:#f3a0f2;\"/>\n   </g>\n   <g id=\"patch_60\">\n    <path clip-path=\"url(#p42bd252d03)\" d=\"M 547.309335 422.104176 \nL 553.61086 422.104176 \nL 553.61086 428.600454 \nL 547.309335 428.600454 \nz\n\" style=\"fill:#f3a0f2;\"/>\n   </g>\n   <g id=\"patch_61\">\n    <path clip-path=\"url(#p42bd252d03)\" d=\"M 555.186241 422.104176 \nL 561.487766 422.104176 \nL 561.487766 429.298726 \nL 555.186241 429.298726 \nz\n\" style=\"fill:#f3a0f2;\"/>\n   </g>\n   <g id=\"patch_62\">\n    <path clip-path=\"url(#p42bd252d03)\" d=\"M 563.063147 422.104176 \nL 569.364671 422.104176 \nL 569.364671 429.395146 \nL 563.063147 429.395146 \nz\n\" style=\"fill:#f3a0f2;\"/>\n   </g>\n   <g id=\"patch_63\">\n    <path clip-path=\"url(#p42bd252d03)\" d=\"M 570.940052 422.104176 \nL 577.241577 422.104176 \nL 577.241577 429.589062 \nL 570.940052 429.589062 \nz\n\" style=\"fill:#f3a0f2;\"/>\n   </g>\n   <g id=\"patch_64\">\n    <path clip-path=\"url(#p42bd252d03)\" d=\"M 578.816958 422.104176 \nL 585.118483 422.104176 \nL 585.118483 429.518612 \nL 578.816958 429.518612 \nz\n\" style=\"fill:#f3a0f2;\"/>\n   </g>\n   <g id=\"patch_65\">\n    <path clip-path=\"url(#p42bd252d03)\" d=\"M 586.693864 422.104176 \nL 592.995388 422.104176 \nL 592.995388 428.864599 \nL 586.693864 428.864599 \nz\n\" style=\"fill:#f3a0f2;\"/>\n   </g>\n   <g id=\"patch_66\">\n    <path clip-path=\"url(#p42bd252d03)\" d=\"M 594.57077 422.104176 \nL 600.872294 422.104176 \nL 600.872294 429.610917 \nL 594.57077 429.610917 \nz\n\" style=\"fill:#f3a0f2;\"/>\n   </g>\n   <g id=\"patch_67\">\n    <path clip-path=\"url(#p42bd252d03)\" d=\"M 602.447675 422.104176 \nL 608.7492 422.104176 \nL 608.7492 429.612092 \nL 602.447675 429.612092 \nz\n\" style=\"fill:#f3a0f2;\"/>\n   </g>\n   <g id=\"patch_68\">\n    <path clip-path=\"url(#p42bd252d03)\" d=\"M 610.324581 422.104176 \nL 616.626105 422.104176 \nL 616.626105 429.270976 \nL 610.324581 429.270976 \nz\n\" style=\"fill:#f3a0f2;\"/>\n   </g>\n   <g id=\"patch_69\">\n    <path clip-path=\"url(#p42bd252d03)\" d=\"M 618.201487 422.104176 \nL 624.503011 422.104176 \nL 624.503011 429.65014 \nL 618.201487 429.65014 \nz\n\" style=\"fill:#f3a0f2;\"/>\n   </g>\n   <g id=\"patch_70\">\n    <path clip-path=\"url(#p42bd252d03)\" d=\"M 626.078392 422.104176 \nL 632.379917 422.104176 \nL 632.379917 429.713125 \nL 626.078392 429.713125 \nz\n\" style=\"fill:#f3a0f2;\"/>\n   </g>\n   <g id=\"patch_71\">\n    <path clip-path=\"url(#p42bd252d03)\" d=\"M 633.955298 422.104176 \nL 640.256823 422.104176 \nL 640.256823 429.635653 \nL 633.955298 429.635653 \nz\n\" style=\"fill:#f3a0f2;\"/>\n   </g>\n   <g id=\"patch_72\">\n    <path clip-path=\"url(#p42bd252d03)\" d=\"M 641.832204 422.104176 \nL 648.133728 422.104176 \nL 648.133728 429.722211 \nL 641.832204 429.722211 \nz\n\" style=\"fill:#f3a0f2;\"/>\n   </g>\n   <g id=\"patch_73\">\n    <path clip-path=\"url(#p42bd252d03)\" d=\"M 649.709109 422.104176 \nL 656.010634 422.104176 \nL 656.010634 429.721498 \nL 649.709109 429.721498 \nz\n\" style=\"fill:#f3a0f2;\"/>\n   </g>\n   <g id=\"patch_74\">\n    <path clip-path=\"url(#p42bd252d03)\" d=\"M 657.586015 422.104176 \nL 663.88754 422.104176 \nL 663.88754 429.799642 \nL 657.586015 429.799642 \nz\n\" style=\"fill:#f3a0f2;\"/>\n   </g>\n   <g id=\"patch_75\">\n    <path clip-path=\"url(#p42bd252d03)\" d=\"M 665.462921 422.104176 \nL 671.764445 422.104176 \nL 671.764445 429.328745 \nL 665.462921 429.328745 \nz\n\" style=\"fill:#f3a0f2;\"/>\n   </g>\n   <g id=\"patch_76\">\n    <path clip-path=\"url(#p42bd252d03)\" d=\"M 673.339827 422.104176 \nL 679.641351 422.104176 \nL 679.641351 429.878424 \nL 673.339827 429.878424 \nz\n\" style=\"fill:#f3a0f2;\"/>\n   </g>\n   <g id=\"patch_77\">\n    <path clip-path=\"url(#p42bd252d03)\" d=\"M 681.216732 422.104176 \nL 687.518257 422.104176 \nL 687.518257 429.747583 \nL 681.216732 429.747583 \nz\n\" style=\"fill:#f3a0f2;\"/>\n   </g>\n   <g id=\"patch_78\">\n    <path clip-path=\"url(#p42bd252d03)\" d=\"M 689.093638 422.104176 \nL 695.395163 422.104176 \nL 695.395163 429.993659 \nL 689.093638 429.993659 \nz\n\" style=\"fill:#f3a0f2;\"/>\n   </g>\n   <g id=\"patch_79\">\n    <path clip-path=\"url(#p42bd252d03)\" d=\"M 696.970544 422.104176 \nL 703.272068 422.104176 \nL 703.272068 429.697107 \nL 696.970544 429.697107 \nz\n\" style=\"fill:#f3a0f2;\"/>\n   </g>\n   <g id=\"patch_80\">\n    <path clip-path=\"url(#p42bd252d03)\" d=\"M 704.847449 422.104176 \nL 711.148974 422.104176 \nL 711.148974 429.511556 \nL 704.847449 429.511556 \nz\n\" style=\"fill:#f3a0f2;\"/>\n   </g>\n   <g id=\"patch_81\">\n    <path clip-path=\"url(#p42bd252d03)\" d=\"M 712.724355 422.104176 \nL 719.02588 422.104176 \nL 719.02588 430.048515 \nL 712.724355 430.048515 \nz\n\" style=\"fill:#f3a0f2;\"/>\n   </g>\n   <g id=\"patch_82\">\n    <path clip-path=\"url(#p42bd252d03)\" d=\"M 720.601261 422.104176 \nL 726.902785 422.104176 \nL 726.902785 430.162394 \nL 720.601261 430.162394 \nz\n\" style=\"fill:#f3a0f2;\"/>\n   </g>\n   <g id=\"patch_83\">\n    <path clip-path=\"url(#p42bd252d03)\" d=\"M 728.478166 422.104176 \nL 734.779691 422.104176 \nL 734.779691 430.244713 \nL 728.478166 430.244713 \nz\n\" style=\"fill:#f3a0f2;\"/>\n   </g>\n   <g id=\"patch_84\">\n    <path clip-path=\"url(#p42bd252d03)\" d=\"M 736.355072 422.104176 \nL 742.656597 422.104176 \nL 742.656597 430.208069 \nL 736.355072 430.208069 \nz\n\" style=\"fill:#f3a0f2;\"/>\n   </g>\n   <g id=\"patch_85\">\n    <path clip-path=\"url(#p42bd252d03)\" d=\"M 744.231978 422.104176 \nL 750.533502 422.104176 \nL 750.533502 430.250065 \nL 744.231978 430.250065 \nz\n\" style=\"fill:#f3a0f2;\"/>\n   </g>\n   <g id=\"patch_86\">\n    <path clip-path=\"url(#p42bd252d03)\" d=\"M 752.108884 422.104176 \nL 758.410408 422.104176 \nL 758.410408 430.071158 \nL 752.108884 430.071158 \nz\n\" style=\"fill:#f3a0f2;\"/>\n   </g>\n   <g id=\"patch_87\">\n    <path clip-path=\"url(#p42bd252d03)\" d=\"M 759.985789 422.104176 \nL 766.287314 422.104176 \nL 766.287314 430.270582 \nL 759.985789 430.270582 \nz\n\" style=\"fill:#f3a0f2;\"/>\n   </g>\n   <g id=\"patch_88\">\n    <path clip-path=\"url(#p42bd252d03)\" d=\"M 767.862695 422.104176 \nL 774.16422 422.104176 \nL 774.16422 430.291449 \nL 767.862695 430.291449 \nz\n\" style=\"fill:#f3a0f2;\"/>\n   </g>\n   <g id=\"patch_89\">\n    <path clip-path=\"url(#p42bd252d03)\" d=\"M 775.739601 422.104176 \nL 782.041125 422.104176 \nL 782.041125 430.050634 \nL 775.739601 430.050634 \nz\n\" style=\"fill:#f3a0f2;\"/>\n   </g>\n   <g id=\"patch_90\">\n    <path clip-path=\"url(#p42bd252d03)\" d=\"M 783.616506 422.104176 \nL 789.918031 422.104176 \nL 789.918031 430.357066 \nL 783.616506 430.357066 \nz\n\" style=\"fill:#f3a0f2;\"/>\n   </g>\n   <g id=\"patch_91\">\n    <path clip-path=\"url(#p42bd252d03)\" d=\"M 791.493412 422.104176 \nL 797.794937 422.104176 \nL 797.794937 430.140262 \nL 791.493412 430.140262 \nz\n\" style=\"fill:#f3a0f2;\"/>\n   </g>\n   <g id=\"patch_92\">\n    <path clip-path=\"url(#p42bd252d03)\" d=\"M 799.370318 422.104176 \nL 805.671842 422.104176 \nL 805.671842 430.395097 \nL 799.370318 430.395097 \nz\n\" style=\"fill:#f3a0f2;\"/>\n   </g>\n   <g id=\"patch_93\">\n    <path clip-path=\"url(#p42bd252d03)\" d=\"M 807.247223 422.104176 \nL 813.548748 422.104176 \nL 813.548748 430.345828 \nL 807.247223 430.345828 \nz\n\" style=\"fill:#f3a0f2;\"/>\n   </g>\n   <g id=\"patch_94\">\n    <path clip-path=\"url(#p42bd252d03)\" d=\"M 815.124129 422.104176 \nL 821.425654 422.104176 \nL 821.425654 430.148765 \nL 815.124129 430.148765 \nz\n\" style=\"fill:#f3a0f2;\"/>\n   </g>\n   <g id=\"patch_95\">\n    <path clip-path=\"url(#p42bd252d03)\" d=\"M 823.001035 422.104176 \nL 829.302559 422.104176 \nL 829.302559 430.147024 \nL 823.001035 430.147024 \nz\n\" style=\"fill:#f3a0f2;\"/>\n   </g>\n   <g id=\"patch_96\">\n    <path clip-path=\"url(#p42bd252d03)\" d=\"M 830.877941 422.104176 \nL 837.179465 422.104176 \nL 837.179465 430.373052 \nL 830.877941 430.373052 \nz\n\" style=\"fill:#f3a0f2;\"/>\n   </g>\n   <g id=\"patch_97\">\n    <path clip-path=\"url(#p42bd252d03)\" d=\"M 838.754846 422.104176 \nL 845.056371 422.104176 \nL 845.056371 430.187552 \nL 838.754846 430.187552 \nz\n\" style=\"fill:#f3a0f2;\"/>\n   </g>\n   <g id=\"patch_98\">\n    <path clip-path=\"url(#p42bd252d03)\" d=\"M 846.631752 422.104176 \nL 852.933277 422.104176 \nL 852.933277 430.058331 \nL 846.631752 430.058331 \nz\n\" style=\"fill:#f3a0f2;\"/>\n   </g>\n   <g id=\"patch_99\">\n    <path clip-path=\"url(#p42bd252d03)\" d=\"M 854.508658 422.104176 \nL 860.810182 422.104176 \nL 860.810182 430.404034 \nL 854.508658 430.404034 \nz\n\" style=\"fill:#f3a0f2;\"/>\n   </g>\n   <g id=\"patch_100\">\n    <path clip-path=\"url(#p42bd252d03)\" d=\"M 862.385563 422.104176 \nL 868.687088 422.104176 \nL 868.687088 430.281274 \nL 862.385563 430.281274 \nz\n\" style=\"fill:#f3a0f2;\"/>\n   </g>\n   <g id=\"patch_101\">\n    <path clip-path=\"url(#p42bd252d03)\" d=\"M 870.262469 422.104176 \nL 876.563994 422.104176 \nL 876.563994 430.396347 \nL 870.262469 430.396347 \nz\n\" style=\"fill:#f3a0f2;\"/>\n   </g>\n   <g id=\"patch_102\">\n    <path clip-path=\"url(#p42bd252d03)\" d=\"M 878.139375 422.104176 \nL 884.440899 422.104176 \nL 884.440899 430.233702 \nL 878.139375 430.233702 \nz\n\" style=\"fill:#f3a0f2;\"/>\n   </g>\n   <g id=\"patch_103\">\n    <path clip-path=\"url(#p42bd252d03)\" d=\"M 886.016281 422.104176 \nL 892.317805 422.104176 \nL 892.317805 430.354647 \nL 886.016281 430.354647 \nz\n\" style=\"fill:#f3a0f2;\"/>\n   </g>\n   <g id=\"patch_104\">\n    <path clip-path=\"url(#p42bd252d03)\" d=\"M 893.893186 422.104176 \nL 900.194711 422.104176 \nL 900.194711 430.409073 \nL 893.893186 430.409073 \nz\n\" style=\"fill:#f3a0f2;\"/>\n   </g>\n   <g id=\"patch_105\">\n    <path clip-path=\"url(#p42bd252d03)\" d=\"M 901.770092 422.104176 \nL 908.071616 422.104176 \nL 908.071616 430.489337 \nL 901.770092 430.489337 \nz\n\" style=\"fill:#f3a0f2;\"/>\n   </g>\n   <g id=\"patch_106\">\n    <path clip-path=\"url(#p42bd252d03)\" d=\"M 909.646998 422.104176 \nL 915.948522 422.104176 \nL 915.948522 430.326427 \nL 909.646998 430.326427 \nz\n\" style=\"fill:#f3a0f2;\"/>\n   </g>\n   <g id=\"patch_107\">\n    <path clip-path=\"url(#p42bd252d03)\" d=\"M 917.523903 422.104176 \nL 923.825428 422.104176 \nL 923.825428 430.326427 \nL 917.523903 430.326427 \nz\n\" style=\"fill:#f3a0f2;\"/>\n   </g>\n   <g id=\"patch_108\">\n    <path clip-path=\"url(#p42bd252d03)\" d=\"M 925.400809 422.104176 \nL 931.702334 422.104176 \nL 931.702334 430.472233 \nL 925.400809 430.472233 \nz\n\" style=\"fill:#f3a0f2;\"/>\n   </g>\n   <g id=\"patch_109\">\n    <path clip-path=\"url(#p42bd252d03)\" d=\"M 933.277715 422.104176 \nL 939.579239 422.104176 \nL 939.579239 430.368758 \nL 933.277715 430.368758 \nz\n\" style=\"fill:#f3a0f2;\"/>\n   </g>\n   <g id=\"patch_110\">\n    <path clip-path=\"url(#p42bd252d03)\" d=\"M 941.15462 422.104176 \nL 947.456145 422.104176 \nL 947.456145 430.480275 \nL 941.15462 430.480275 \nz\n\" style=\"fill:#f3a0f2;\"/>\n   </g>\n   <g id=\"patch_111\">\n    <path clip-path=\"url(#p42bd252d03)\" d=\"M 949.031526 422.104176 \nL 955.333051 422.104176 \nL 955.333051 430.54816 \nL 949.031526 430.54816 \nz\n\" style=\"fill:#f3a0f2;\"/>\n   </g>\n   <g id=\"patch_112\">\n    <path clip-path=\"url(#p42bd252d03)\" d=\"M 956.908432 422.104176 \nL 963.209956 422.104176 \nL 963.209956 430.580611 \nL 956.908432 430.580611 \nz\n\" style=\"fill:#f3a0f2;\"/>\n   </g>\n   <g id=\"patch_113\">\n    <path clip-path=\"url(#p42bd252d03)\" d=\"M 964.785338 422.104176 \nL 971.086862 422.104176 \nL 971.086862 430.581026 \nL 964.785338 430.581026 \nz\n\" style=\"fill:#f3a0f2;\"/>\n   </g>\n   <g id=\"patch_114\">\n    <path clip-path=\"url(#p42bd252d03)\" d=\"M 972.662243 422.104176 \nL 978.963768 422.104176 \nL 978.963768 430.566302 \nL 972.662243 430.566302 \nz\n\" style=\"fill:#f3a0f2;\"/>\n   </g>\n   <g id=\"patch_115\">\n    <path clip-path=\"url(#p42bd252d03)\" d=\"M 980.539149 422.104176 \nL 986.840674 422.104176 \nL 986.840674 430.550117 \nL 980.539149 430.550117 \nz\n\" style=\"fill:#f3a0f2;\"/>\n   </g>\n   <g id=\"patch_116\">\n    <path clip-path=\"url(#p42bd252d03)\" d=\"M 988.416055 422.104176 \nL 994.717579 422.104176 \nL 994.717579 430.544129 \nL 988.416055 430.544129 \nz\n\" style=\"fill:#f3a0f2;\"/>\n   </g>\n   <g id=\"patch_117\">\n    <path clip-path=\"url(#p42bd252d03)\" d=\"M 996.29296 422.104176 \nL 1002.594485 422.104176 \nL 1002.594485 430.556342 \nL 996.29296 430.556342 \nz\n\" style=\"fill:#f3a0f2;\"/>\n   </g>\n   <g id=\"patch_118\">\n    <path clip-path=\"url(#p42bd252d03)\" d=\"M 1004.169866 422.104176 \nL 1010.471391 422.104176 \nL 1010.471391 430.576262 \nL 1004.169866 430.576262 \nz\n\" style=\"fill:#f3a0f2;\"/>\n   </g>\n   <g id=\"patch_119\">\n    <path clip-path=\"url(#p42bd252d03)\" d=\"M 1012.046772 422.104176 \nL 1018.348296 422.104176 \nL 1018.348296 430.650964 \nL 1012.046772 430.650964 \nz\n\" style=\"fill:#f3a0f2;\"/>\n   </g>\n   <g id=\"patch_120\">\n    <path clip-path=\"url(#p42bd252d03)\" d=\"M 1019.923677 422.104176 \nL 1026.225202 422.104176 \nL 1026.225202 430.582176 \nL 1019.923677 430.582176 \nz\n\" style=\"fill:#f3a0f2;\"/>\n   </g>\n   <g id=\"patch_121\">\n    <path clip-path=\"url(#p42bd252d03)\" d=\"M 1027.800583 422.104176 \nL 1034.102108 422.104176 \nL 1034.102108 430.641557 \nL 1027.800583 430.641557 \nz\n\" style=\"fill:#f3a0f2;\"/>\n   </g>\n   <g id=\"patch_122\">\n    <path clip-path=\"url(#p42bd252d03)\" d=\"M 1035.677489 422.104176 \nL 1041.979013 422.104176 \nL 1041.979013 430.608633 \nL 1035.677489 430.608633 \nz\n\" style=\"fill:#f3a0f2;\"/>\n   </g>\n   <g id=\"patch_123\">\n    <path clip-path=\"url(#p42bd252d03)\" d=\"M 1043.554395 422.104176 \nL 1049.855919 422.104176 \nL 1049.855919 430.632659 \nL 1043.554395 430.632659 \nz\n\" style=\"fill:#f3a0f2;\"/>\n   </g>\n   <g id=\"patch_124\">\n    <path clip-path=\"url(#p42bd252d03)\" d=\"M 1051.4313 422.104176 \nL 1057.732825 422.104176 \nL 1057.732825 430.647026 \nL 1051.4313 430.647026 \nz\n\" style=\"fill:#f3a0f2;\"/>\n   </g>\n   <g id=\"patch_125\">\n    <path clip-path=\"url(#p42bd252d03)\" d=\"M 1059.308206 422.104176 \nL 1065.609731 422.104176 \nL 1065.609731 430.632822 \nL 1059.308206 430.632822 \nz\n\" style=\"fill:#f3a0f2;\"/>\n   </g>\n   <g id=\"patch_126\">\n    <path clip-path=\"url(#p42bd252d03)\" d=\"M 1067.185112 422.104176 \nL 1073.486636 422.104176 \nL 1073.486636 430.65943 \nL 1067.185112 430.65943 \nz\n\" style=\"fill:#f3a0f2;\"/>\n   </g>\n   <g id=\"patch_127\">\n    <path clip-path=\"url(#p42bd252d03)\" d=\"M 1075.062017 422.104176 \nL 1081.363542 422.104176 \nL 1081.363542 430.650964 \nL 1075.062017 430.650964 \nz\n\" style=\"fill:#f3a0f2;\"/>\n   </g>\n   <g id=\"patch_128\">\n    <path clip-path=\"url(#p42bd252d03)\" d=\"M 1082.938923 422.104176 \nL 1089.240448 422.104176 \nL 1089.240448 430.650964 \nL 1082.938923 430.650964 \nz\n\" style=\"fill:#f3a0f2;\"/>\n   </g>\n   <g id=\"patch_129\">\n    <path clip-path=\"url(#p42bd252d03)\" d=\"M 1090.815829 422.104176 \nL 1097.117353 422.104176 \nL 1097.117353 430.693295 \nL 1090.815829 430.693295 \nz\n\" style=\"fill:#f3a0f2;\"/>\n   </g>\n   <g id=\"patch_130\">\n    <path clip-path=\"url(#p42bd252d03)\" d=\"M 1098.692735 422.104176 \nL 1104.994259 422.104176 \nL 1104.994259 430.693295 \nL 1098.692735 430.693295 \nz\n\" style=\"fill:#f3a0f2;\"/>\n   </g>\n   <g id=\"patch_131\">\n    <path clip-path=\"url(#p42bd252d03)\" d=\"M 1106.56964 422.104176 \nL 1112.871165 422.104176 \nL 1112.871165 430.693295 \nL 1106.56964 430.693295 \nz\n\" style=\"fill:#f3a0f2;\"/>\n   </g>\n   <g id=\"patch_132\">\n    <path clip-path=\"url(#p42bd252d03)\" d=\"M 98.32571 307.554389 \nL 104.627235 307.554389 \nL 104.627235 164.635296 \nL 98.32571 164.635296 \nz\n\" style=\"fill:#47dbcd;\"/>\n   </g>\n   <g id=\"patch_133\">\n    <path clip-path=\"url(#p42bd252d03)\" d=\"M 106.202616 315.303888 \nL 112.50414 315.303888 \nL 112.50414 203.367393 \nL 106.202616 203.367393 \nz\n\" style=\"fill:#47dbcd;\"/>\n   </g>\n   <g id=\"patch_134\">\n    <path clip-path=\"url(#p42bd252d03)\" d=\"M 114.079522 331.763564 \nL 120.381046 331.763564 \nL 120.381046 262.249294 \nL 114.079522 262.249294 \nz\n\" style=\"fill:#47dbcd;\"/>\n   </g>\n   <g id=\"patch_135\">\n    <path clip-path=\"url(#p42bd252d03)\" d=\"M 121.956427 368.783725 \nL 128.257952 368.783725 \nL 128.257952 270.636632 \nL 121.956427 270.636632 \nz\n\" style=\"fill:#47dbcd;\"/>\n   </g>\n   <g id=\"patch_136\">\n    <path clip-path=\"url(#p42bd252d03)\" d=\"M 129.833333 348.785301 \nL 136.134858 348.785301 \nL 136.134858 322.713585 \nL 129.833333 322.713585 \nz\n\" style=\"fill:#47dbcd;\"/>\n   </g>\n   <g id=\"patch_137\">\n    <path clip-path=\"url(#p42bd252d03)\" d=\"M 137.710239 380.141936 \nL 144.011763 380.141936 \nL 144.011763 369.467751 \nL 137.710239 369.467751 \nz\n\" style=\"fill:#47dbcd;\"/>\n   </g>\n   <g id=\"patch_138\">\n    <path clip-path=\"url(#p42bd252d03)\" d=\"M 145.587144 399.33666 \nL 151.888669 399.33666 \nL 151.888669 379.766545 \nL 145.587144 379.766545 \nz\n\" style=\"fill:#47dbcd;\"/>\n   </g>\n   <g id=\"patch_139\">\n    <path clip-path=\"url(#p42bd252d03)\" d=\"M 153.46405 392.900007 \nL 159.765575 392.900007 \nL 159.765575 387.178949 \nL 153.46405 387.178949 \nz\n\" style=\"fill:#47dbcd;\"/>\n   </g>\n   <g id=\"patch_140\">\n    <path clip-path=\"url(#p42bd252d03)\" d=\"M 161.340956 394.702599 \nL 167.64248 394.702599 \nL 167.64248 385.898355 \nL 161.340956 385.898355 \nz\n\" style=\"fill:#47dbcd;\"/>\n   </g>\n   <g id=\"patch_141\">\n    <path clip-path=\"url(#p42bd252d03)\" d=\"M 169.217862 408.879932 \nL 175.519386 408.879932 \nL 175.519386 384.248912 \nL 169.217862 384.248912 \nz\n\" style=\"fill:#47dbcd;\"/>\n   </g>\n   <g id=\"patch_142\">\n    <path clip-path=\"url(#p42bd252d03)\" d=\"M 177.094767 401.999981 \nL 183.396292 401.999981 \nL 183.396292 395.552789 \nL 177.094767 395.552789 \nz\n\" style=\"fill:#47dbcd;\"/>\n   </g>\n   <g id=\"patch_143\">\n    <path clip-path=\"url(#p42bd252d03)\" d=\"M 184.971673 407.831066 \nL 191.273198 407.831066 \nL 191.273198 392.49362 \nL 184.971673 392.49362 \nz\n\" style=\"fill:#47dbcd;\"/>\n   </g>\n   <g id=\"patch_144\">\n    <path clip-path=\"url(#p42bd252d03)\" d=\"M 192.848579 405.239473 \nL 199.150103 405.239473 \nL 199.150103 395.473122 \nL 192.848579 395.473122 \nz\n\" style=\"fill:#47dbcd;\"/>\n   </g>\n   <g id=\"patch_145\">\n    <path clip-path=\"url(#p42bd252d03)\" d=\"M 200.725484 403.596797 \nL 207.027009 403.596797 \nL 207.027009 398.050393 \nL 200.725484 398.050393 \nz\n\" style=\"fill:#47dbcd;\"/>\n   </g>\n   <g id=\"patch_146\">\n    <path clip-path=\"url(#p42bd252d03)\" d=\"M 208.60239 406.785139 \nL 214.903915 406.785139 \nL 214.903915 401.517878 \nL 208.60239 401.517878 \nz\n\" style=\"fill:#47dbcd;\"/>\n   </g>\n   <g id=\"patch_147\">\n    <path clip-path=\"url(#p42bd252d03)\" d=\"M 216.479296 395.26466 \nL 222.78082 395.26466 \nL 222.78082 388.490101 \nL 216.479296 388.490101 \nz\n\" style=\"fill:#47dbcd;\"/>\n   </g>\n   <g id=\"patch_148\">\n    <path clip-path=\"url(#p42bd252d03)\" d=\"M 224.356201 414.454093 \nL 230.657726 414.454093 \nL 230.657726 408.80654 \nL 224.356201 408.80654 \nz\n\" style=\"fill:#47dbcd;\"/>\n   </g>\n   <g id=\"patch_149\">\n    <path clip-path=\"url(#p42bd252d03)\" d=\"M 232.233107 410.305074 \nL 238.534632 410.305074 \nL 238.534632 413.109213 \nL 232.233107 413.109213 \nz\n\" style=\"fill:#47dbcd;\"/>\n   </g>\n   <g id=\"patch_150\">\n    <path clip-path=\"url(#p42bd252d03)\" d=\"M 240.110013 416.955145 \nL 246.411537 416.955145 \nL 246.411537 418.202556 \nL 240.110013 418.202556 \nz\n\" style=\"fill:#47dbcd;\"/>\n   </g>\n   <g id=\"patch_151\">\n    <path clip-path=\"url(#p42bd252d03)\" d=\"M 247.986919 416.526544 \nL 254.288443 416.526544 \nL 254.288443 419.626089 \nL 247.986919 419.626089 \nz\n\" style=\"fill:#47dbcd;\"/>\n   </g>\n   <g id=\"patch_152\">\n    <path clip-path=\"url(#p42bd252d03)\" d=\"M 255.863824 415.989177 \nL 262.165349 415.989177 \nL 262.165349 421.462441 \nL 255.863824 421.462441 \nz\n\" style=\"fill:#47dbcd;\"/>\n   </g>\n   <g id=\"patch_153\">\n    <path clip-path=\"url(#p42bd252d03)\" d=\"M 263.74073 420.519174 \nL 270.042255 420.519174 \nL 270.042255 421.656626 \nL 263.74073 421.656626 \nz\n\" style=\"fill:#47dbcd;\"/>\n   </g>\n   <g id=\"patch_154\">\n    <path clip-path=\"url(#p42bd252d03)\" d=\"M 271.617636 419.133424 \nL 277.91916 419.133424 \nL 277.91916 424.635533 \nL 271.617636 424.635533 \nz\n\" style=\"fill:#47dbcd;\"/>\n   </g>\n   <g id=\"patch_155\">\n    <path clip-path=\"url(#p42bd252d03)\" d=\"M 279.494541 421.130621 \nL 285.796066 421.130621 \nL 285.796066 423.855645 \nL 279.494541 423.855645 \nz\n\" style=\"fill:#47dbcd;\"/>\n   </g>\n   <g id=\"patch_156\">\n    <path clip-path=\"url(#p42bd252d03)\" d=\"M 287.371447 422.766241 \nL 293.672972 422.766241 \nL 293.672972 423.304745 \nL 287.371447 423.304745 \nz\n\" style=\"fill:#47dbcd;\"/>\n   </g>\n   <g id=\"patch_157\">\n    <path clip-path=\"url(#p42bd252d03)\" d=\"M 295.248353 424.738156 \nL 301.549877 424.738156 \nL 301.549877 423.704832 \nL 295.248353 423.704832 \nz\n\" style=\"fill:#47dbcd;\"/>\n   </g>\n   <g id=\"patch_158\">\n    <path clip-path=\"url(#p42bd252d03)\" d=\"M 303.125259 420.912661 \nL 309.426783 420.912661 \nL 309.426783 426.391196 \nL 303.125259 426.391196 \nz\n\" style=\"fill:#47dbcd;\"/>\n   </g>\n   <g id=\"patch_159\">\n    <path clip-path=\"url(#p42bd252d03)\" d=\"M 311.002164 423.714571 \nL 317.303689 423.714571 \nL 317.303689 426.102525 \nL 311.002164 426.102525 \nz\n\" style=\"fill:#47dbcd;\"/>\n   </g>\n   <g id=\"patch_160\">\n    <path clip-path=\"url(#p42bd252d03)\" d=\"M 318.87907 427.818319 \nL 325.180594 427.818319 \nL 325.180594 423.879707 \nL 318.87907 423.879707 \nz\n\" style=\"fill:#47dbcd;\"/>\n   </g>\n   <g id=\"patch_161\">\n    <path clip-path=\"url(#p42bd252d03)\" d=\"M 326.755976 426.295858 \nL 333.0575 426.295858 \nL 333.0575 426.8215 \nL 326.755976 426.8215 \nz\n\" style=\"fill:#47dbcd;\"/>\n   </g>\n   <g id=\"patch_162\">\n    <path clip-path=\"url(#p42bd252d03)\" d=\"M 334.632881 420.509179 \nL 340.934406 420.509179 \nL 340.934406 425.599054 \nL 334.632881 425.599054 \nz\n\" style=\"fill:#47dbcd;\"/>\n   </g>\n   <g id=\"patch_163\">\n    <path clip-path=\"url(#p42bd252d03)\" d=\"M 342.509787 425.297277 \nL 348.811312 425.297277 \nL 348.811312 429.399561 \nL 342.509787 429.399561 \nz\n\" style=\"fill:#47dbcd;\"/>\n   </g>\n   <g id=\"patch_164\">\n    <path clip-path=\"url(#p42bd252d03)\" d=\"M 350.386693 424.565446 \nL 356.688217 424.565446 \nL 356.688217 430.064279 \nL 350.386693 430.064279 \nz\n\" style=\"fill:#47dbcd;\"/>\n   </g>\n   <g id=\"patch_165\">\n    <path clip-path=\"url(#p42bd252d03)\" d=\"M 358.263598 423.129084 \nL 364.565123 423.129084 \nL 364.565123 428.696035 \nL 358.263598 428.696035 \nz\n\" style=\"fill:#47dbcd;\"/>\n   </g>\n   <g id=\"patch_166\">\n    <path clip-path=\"url(#p42bd252d03)\" d=\"M 366.140504 423.49873 \nL 372.442029 423.49873 \nL 372.442029 429.089618 \nL 366.140504 429.089618 \nz\n\" style=\"fill:#47dbcd;\"/>\n   </g>\n   <g id=\"patch_167\">\n    <path clip-path=\"url(#p42bd252d03)\" d=\"M 374.01741 424.570126 \nL 380.318934 424.570126 \nL 380.318934 430.167551 \nL 374.01741 430.167551 \nz\n\" style=\"fill:#47dbcd;\"/>\n   </g>\n   <g id=\"patch_168\">\n    <path clip-path=\"url(#p42bd252d03)\" d=\"M 381.894316 426.616591 \nL 388.19584 426.616591 \nL 388.19584 432.156576 \nL 381.894316 432.156576 \nz\n\" style=\"fill:#47dbcd;\"/>\n   </g>\n   <g id=\"patch_169\">\n    <path clip-path=\"url(#p42bd252d03)\" d=\"M 389.771221 425.116195 \nL 396.072746 425.116195 \nL 396.072746 429.514654 \nL 389.771221 429.514654 \nz\n\" style=\"fill:#47dbcd;\"/>\n   </g>\n   <g id=\"patch_170\">\n    <path clip-path=\"url(#p42bd252d03)\" d=\"M 397.648127 427.318579 \nL 403.949652 427.318579 \nL 403.949652 432.35119 \nL 397.648127 432.35119 \nz\n\" style=\"fill:#47dbcd;\"/>\n   </g>\n   <g id=\"patch_171\">\n    <path clip-path=\"url(#p42bd252d03)\" d=\"M 405.525033 427.066357 \nL 411.826557 427.066357 \nL 411.826557 432.611323 \nL 405.525033 432.611323 \nz\n\" style=\"fill:#47dbcd;\"/>\n   </g>\n   <g id=\"patch_172\">\n    <path clip-path=\"url(#p42bd252d03)\" d=\"M 413.401938 427.507893 \nL 419.703463 427.507893 \nL 419.703463 432.688403 \nL 413.401938 432.688403 \nz\n\" style=\"fill:#47dbcd;\"/>\n   </g>\n   <g id=\"patch_173\">\n    <path clip-path=\"url(#p42bd252d03)\" d=\"M 421.278844 427.611112 \nL 427.580369 427.611112 \nL 427.580369 433.128045 \nL 421.278844 433.128045 \nz\n\" style=\"fill:#47dbcd;\"/>\n   </g>\n   <g id=\"patch_174\">\n    <path clip-path=\"url(#p42bd252d03)\" d=\"M 429.15575 427.80406 \nL 435.457274 427.80406 \nL 435.457274 433.388812 \nL 429.15575 433.388812 \nz\n\" style=\"fill:#47dbcd;\"/>\n   </g>\n   <g id=\"patch_175\">\n    <path clip-path=\"url(#p42bd252d03)\" d=\"M 437.032655 427.905005 \nL 443.33418 427.905005 \nL 443.33418 433.433578 \nL 437.032655 433.433578 \nz\n\" style=\"fill:#47dbcd;\"/>\n   </g>\n   <g id=\"patch_176\">\n    <path clip-path=\"url(#p42bd252d03)\" d=\"M 444.909561 428.110467 \nL 451.211086 428.110467 \nL 451.211086 433.691042 \nL 444.909561 433.691042 \nz\n\" style=\"fill:#47dbcd;\"/>\n   </g>\n   <g id=\"patch_177\">\n    <path clip-path=\"url(#p42bd252d03)\" d=\"M 452.786467 428.679048 \nL 459.087991 428.679048 \nL 459.087991 433.804559 \nL 452.786467 433.804559 \nz\n\" style=\"fill:#47dbcd;\"/>\n   </g>\n   <g id=\"patch_178\">\n    <path clip-path=\"url(#p42bd252d03)\" d=\"M 460.663373 428.387887 \nL 466.964897 428.387887 \nL 466.964897 433.944121 \nL 460.663373 433.944121 \nz\n\" style=\"fill:#47dbcd;\"/>\n   </g>\n   <g id=\"patch_179\">\n    <path clip-path=\"url(#p42bd252d03)\" d=\"M 468.540278 428.646712 \nL 474.841803 428.646712 \nL 474.841803 434.018566 \nL 468.540278 434.018566 \nz\n\" style=\"fill:#47dbcd;\"/>\n   </g>\n   <g id=\"patch_180\">\n    <path clip-path=\"url(#p42bd252d03)\" d=\"M 476.417184 428.532033 \nL 482.718709 428.532033 \nL 482.718709 434.123152 \nL 476.417184 434.123152 \nz\n\" style=\"fill:#47dbcd;\"/>\n   </g>\n   <g id=\"patch_181\">\n    <path clip-path=\"url(#p42bd252d03)\" d=\"M 484.29409 428.343513 \nL 490.595614 428.343513 \nL 490.595614 433.867925 \nL 484.29409 433.867925 \nz\n\" style=\"fill:#47dbcd;\"/>\n   </g>\n   <g id=\"patch_182\">\n    <path clip-path=\"url(#p42bd252d03)\" d=\"M 492.170995 428.686691 \nL 498.47252 428.686691 \nL 498.47252 434.275621 \nL 492.170995 434.275621 \nz\n\" style=\"fill:#47dbcd;\"/>\n   </g>\n   <g id=\"patch_183\">\n    <path clip-path=\"url(#p42bd252d03)\" d=\"M 500.047901 428.62982 \nL 506.349426 428.62982 \nL 506.349426 434.22874 \nL 500.047901 434.22874 \nz\n\" style=\"fill:#47dbcd;\"/>\n   </g>\n   <g id=\"patch_184\">\n    <path clip-path=\"url(#p42bd252d03)\" d=\"M 507.924807 428.736665 \nL 514.226331 428.736665 \nL 514.226331 434.308037 \nL 507.924807 434.308037 \nz\n\" style=\"fill:#47dbcd;\"/>\n   </g>\n   <g id=\"patch_185\">\n    <path clip-path=\"url(#p42bd252d03)\" d=\"M 515.801712 427.784911 \nL 522.103237 427.784911 \nL 522.103237 433.348126 \nL 515.801712 433.348126 \nz\n\" style=\"fill:#47dbcd;\"/>\n   </g>\n   <g id=\"patch_186\">\n    <path clip-path=\"url(#p42bd252d03)\" d=\"M 523.678618 429.028278 \nL 529.980143 429.028278 \nL 529.980143 434.515066 \nL 523.678618 434.515066 \nz\n\" style=\"fill:#47dbcd;\"/>\n   </g>\n   <g id=\"patch_187\">\n    <path clip-path=\"url(#p42bd252d03)\" d=\"M 531.555524 428.574183 \nL 537.857048 428.574183 \nL 537.857048 434.14054 \nL 531.555524 434.14054 \nz\n\" style=\"fill:#47dbcd;\"/>\n   </g>\n   <g id=\"patch_188\">\n    <path clip-path=\"url(#p42bd252d03)\" d=\"M 539.43243 429.261686 \nL 545.733954 429.261686 \nL 545.733954 434.847739 \nL 539.43243 434.847739 \nz\n\" style=\"fill:#47dbcd;\"/>\n   </g>\n   <g id=\"patch_189\">\n    <path clip-path=\"url(#p42bd252d03)\" d=\"M 547.309335 428.600454 \nL 553.61086 428.600454 \nL 553.61086 434.191954 \nL 547.309335 434.191954 \nz\n\" style=\"fill:#47dbcd;\"/>\n   </g>\n   <g id=\"patch_190\">\n    <path clip-path=\"url(#p42bd252d03)\" d=\"M 555.186241 429.298726 \nL 561.487766 429.298726 \nL 561.487766 434.898977 \nL 555.186241 434.898977 \nz\n\" style=\"fill:#47dbcd;\"/>\n   </g>\n   <g id=\"patch_191\">\n    <path clip-path=\"url(#p42bd252d03)\" d=\"M 563.063147 429.395146 \nL 569.364671 429.395146 \nL 569.364671 434.941363 \nL 563.063147 434.941363 \nz\n\" style=\"fill:#47dbcd;\"/>\n   </g>\n   <g id=\"patch_192\">\n    <path clip-path=\"url(#p42bd252d03)\" d=\"M 570.940052 429.589062 \nL 577.241577 429.589062 \nL 577.241577 434.966612 \nL 570.940052 434.966612 \nz\n\" style=\"fill:#47dbcd;\"/>\n   </g>\n   <g id=\"patch_193\">\n    <path clip-path=\"url(#p42bd252d03)\" d=\"M 578.816958 429.518612 \nL 585.118483 429.518612 \nL 585.118483 435.084839 \nL 578.816958 435.084839 \nz\n\" style=\"fill:#47dbcd;\"/>\n   </g>\n   <g id=\"patch_194\">\n    <path clip-path=\"url(#p42bd252d03)\" d=\"M 586.693864 428.864599 \nL 592.995388 428.864599 \nL 592.995388 434.429706 \nL 586.693864 434.429706 \nz\n\" style=\"fill:#47dbcd;\"/>\n   </g>\n   <g id=\"patch_195\">\n    <path clip-path=\"url(#p42bd252d03)\" d=\"M 594.57077 429.610917 \nL 600.872294 429.610917 \nL 600.872294 435.194501 \nL 594.57077 435.194501 \nz\n\" style=\"fill:#47dbcd;\"/>\n   </g>\n   <g id=\"patch_196\">\n    <path clip-path=\"url(#p42bd252d03)\" d=\"M 602.447675 429.612092 \nL 608.7492 429.612092 \nL 608.7492 435.200143 \nL 602.447675 435.200143 \nz\n\" style=\"fill:#47dbcd;\"/>\n   </g>\n   <g id=\"patch_197\">\n    <path clip-path=\"url(#p42bd252d03)\" d=\"M 610.324581 429.270976 \nL 616.626105 429.270976 \nL 616.626105 434.843231 \nL 610.324581 434.843231 \nz\n\" style=\"fill:#47dbcd;\"/>\n   </g>\n   <g id=\"patch_198\">\n    <path clip-path=\"url(#p42bd252d03)\" d=\"M 618.201487 429.65014 \nL 624.503011 429.65014 \nL 624.503011 435.244589 \nL 618.201487 435.244589 \nz\n\" style=\"fill:#47dbcd;\"/>\n   </g>\n   <g id=\"patch_199\">\n    <path clip-path=\"url(#p42bd252d03)\" d=\"M 626.078392 429.713125 \nL 632.379917 429.713125 \nL 632.379917 435.197565 \nL 626.078392 435.197565 \nz\n\" style=\"fill:#47dbcd;\"/>\n   </g>\n   <g id=\"patch_200\">\n    <path clip-path=\"url(#p42bd252d03)\" d=\"M 633.955298 429.635653 \nL 640.256823 429.635653 \nL 640.256823 435.227713 \nL 633.955298 435.227713 \nz\n\" style=\"fill:#47dbcd;\"/>\n   </g>\n   <g id=\"patch_201\">\n    <path clip-path=\"url(#p42bd252d03)\" d=\"M 641.832204 429.722211 \nL 648.133728 429.722211 \nL 648.133728 435.231945 \nL 641.832204 435.231945 \nz\n\" style=\"fill:#47dbcd;\"/>\n   </g>\n   <g id=\"patch_202\">\n    <path clip-path=\"url(#p42bd252d03)\" d=\"M 649.709109 429.721498 \nL 656.010634 429.721498 \nL 656.010634 435.319624 \nL 649.709109 435.319624 \nz\n\" style=\"fill:#47dbcd;\"/>\n   </g>\n   <g id=\"patch_203\">\n    <path clip-path=\"url(#p42bd252d03)\" d=\"M 657.586015 429.799642 \nL 663.88754 429.799642 \nL 663.88754 435.330498 \nL 657.586015 435.330498 \nz\n\" style=\"fill:#47dbcd;\"/>\n   </g>\n   <g id=\"patch_204\">\n    <path clip-path=\"url(#p42bd252d03)\" d=\"M 665.462921 429.328745 \nL 671.764445 429.328745 \nL 671.764445 434.924055 \nL 665.462921 434.924055 \nz\n\" style=\"fill:#47dbcd;\"/>\n   </g>\n   <g id=\"patch_205\">\n    <path clip-path=\"url(#p42bd252d03)\" d=\"M 673.339827 429.878424 \nL 679.641351 429.878424 \nL 679.641351 435.476982 \nL 673.339827 435.476982 \nz\n\" style=\"fill:#47dbcd;\"/>\n   </g>\n   <g id=\"patch_206\">\n    <path clip-path=\"url(#p42bd252d03)\" d=\"M 681.216732 429.747583 \nL 687.518257 429.747583 \nL 687.518257 435.324994 \nL 681.216732 435.324994 \nz\n\" style=\"fill:#47dbcd;\"/>\n   </g>\n   <g id=\"patch_207\">\n    <path clip-path=\"url(#p42bd252d03)\" d=\"M 689.093638 429.993659 \nL 695.395163 429.993659 \nL 695.395163 435.50175 \nL 689.093638 435.50175 \nz\n\" style=\"fill:#47dbcd;\"/>\n   </g>\n   <g id=\"patch_208\">\n    <path clip-path=\"url(#p42bd252d03)\" d=\"M 696.970544 429.697107 \nL 703.272068 429.697107 \nL 703.272068 435.295362 \nL 696.970544 435.295362 \nz\n\" style=\"fill:#47dbcd;\"/>\n   </g>\n   <g id=\"patch_209\">\n    <path clip-path=\"url(#p42bd252d03)\" d=\"M 704.847449 429.511556 \nL 711.148974 429.511556 \nL 711.148974 435.112307 \nL 704.847449 435.112307 \nz\n\" style=\"fill:#47dbcd;\"/>\n   </g>\n   <g id=\"patch_210\">\n    <path clip-path=\"url(#p42bd252d03)\" d=\"M 712.724355 430.048515 \nL 719.02588 430.048515 \nL 719.02588 435.606064 \nL 712.724355 435.606064 \nz\n\" style=\"fill:#47dbcd;\"/>\n   </g>\n   <g id=\"patch_211\">\n    <path clip-path=\"url(#p42bd252d03)\" d=\"M 720.601261 430.162394 \nL 726.902785 430.162394 \nL 726.902785 435.743979 \nL 720.601261 435.743979 \nz\n\" style=\"fill:#47dbcd;\"/>\n   </g>\n   <g id=\"patch_212\">\n    <path clip-path=\"url(#p42bd252d03)\" d=\"M 728.478166 430.244713 \nL 734.779691 430.244713 \nL 734.779691 435.66517 \nL 728.478166 435.66517 \nz\n\" style=\"fill:#47dbcd;\"/>\n   </g>\n   <g id=\"patch_213\">\n    <path clip-path=\"url(#p42bd252d03)\" d=\"M 736.355072 430.208069 \nL 742.656597 430.208069 \nL 742.656597 435.802699 \nL 736.355072 435.802699 \nz\n\" style=\"fill:#47dbcd;\"/>\n   </g>\n   <g id=\"patch_214\">\n    <path clip-path=\"url(#p42bd252d03)\" d=\"M 744.231978 430.250065 \nL 750.533502 430.250065 \nL 750.533502 435.776473 \nL 744.231978 435.776473 \nz\n\" style=\"fill:#47dbcd;\"/>\n   </g>\n   <g id=\"patch_215\">\n    <path clip-path=\"url(#p42bd252d03)\" d=\"M 752.108884 430.071158 \nL 758.410408 430.071158 \nL 758.410408 435.669129 \nL 752.108884 435.669129 \nz\n\" style=\"fill:#47dbcd;\"/>\n   </g>\n   <g id=\"patch_216\">\n    <path clip-path=\"url(#p42bd252d03)\" d=\"M 759.985789 430.270582 \nL 766.287314 430.270582 \nL 766.287314 435.842798 \nL 759.985789 435.842798 \nz\n\" style=\"fill:#47dbcd;\"/>\n   </g>\n   <g id=\"patch_217\">\n    <path clip-path=\"url(#p42bd252d03)\" d=\"M 767.862695 430.291449 \nL 774.16422 430.291449 \nL 774.16422 435.841819 \nL 767.862695 435.841819 \nz\n\" style=\"fill:#47dbcd;\"/>\n   </g>\n   <g id=\"patch_218\">\n    <path clip-path=\"url(#p42bd252d03)\" d=\"M 775.739601 430.050634 \nL 782.041125 430.050634 \nL 782.041125 435.622523 \nL 775.739601 435.622523 \nz\n\" style=\"fill:#47dbcd;\"/>\n   </g>\n   <g id=\"patch_219\">\n    <path clip-path=\"url(#p42bd252d03)\" d=\"M 783.616506 430.357066 \nL 789.918031 430.357066 \nL 789.918031 435.808801 \nL 783.616506 435.808801 \nz\n\" style=\"fill:#47dbcd;\"/>\n   </g>\n   <g id=\"patch_220\">\n    <path clip-path=\"url(#p42bd252d03)\" d=\"M 791.493412 430.140262 \nL 797.794937 430.140262 \nL 797.794937 435.72682 \nL 791.493412 435.72682 \nz\n\" style=\"fill:#47dbcd;\"/>\n   </g>\n   <g id=\"patch_221\">\n    <path clip-path=\"url(#p42bd252d03)\" d=\"M 799.370318 430.395097 \nL 805.671842 430.395097 \nL 805.671842 435.701033 \nL 799.370318 435.701033 \nz\n\" style=\"fill:#47dbcd;\"/>\n   </g>\n   <g id=\"patch_222\">\n    <path clip-path=\"url(#p42bd252d03)\" d=\"M 807.247223 430.345828 \nL 813.548748 430.345828 \nL 813.548748 435.940589 \nL 807.247223 435.940589 \nz\n\" style=\"fill:#47dbcd;\"/>\n   </g>\n   <g id=\"patch_223\">\n    <path clip-path=\"url(#p42bd252d03)\" d=\"M 815.124129 430.148765 \nL 821.425654 430.148765 \nL 821.425654 435.746618 \nL 815.124129 435.746618 \nz\n\" style=\"fill:#47dbcd;\"/>\n   </g>\n   <g id=\"patch_224\">\n    <path clip-path=\"url(#p42bd252d03)\" d=\"M 823.001035 430.147024 \nL 829.302559 430.147024 \nL 829.302559 435.747268 \nL 823.001035 435.747268 \nz\n\" style=\"fill:#47dbcd;\"/>\n   </g>\n   <g id=\"patch_225\">\n    <path clip-path=\"url(#p42bd252d03)\" d=\"M 830.877941 430.373052 \nL 837.179465 430.373052 \nL 837.179465 435.973508 \nL 830.877941 435.973508 \nz\n\" style=\"fill:#47dbcd;\"/>\n   </g>\n   <g id=\"patch_226\">\n    <path clip-path=\"url(#p42bd252d03)\" d=\"M 838.754846 430.187552 \nL 845.056371 430.187552 \nL 845.056371 435.784607 \nL 838.754846 435.784607 \nz\n\" style=\"fill:#47dbcd;\"/>\n   </g>\n   <g id=\"patch_227\">\n    <path clip-path=\"url(#p42bd252d03)\" d=\"M 846.631752 430.058331 \nL 852.933277 430.058331 \nL 852.933277 435.659016 \nL 846.631752 435.659016 \nz\n\" style=\"fill:#47dbcd;\"/>\n   </g>\n   <g id=\"patch_228\">\n    <path clip-path=\"url(#p42bd252d03)\" d=\"M 854.508658 430.404034 \nL 860.810182 430.404034 \nL 860.810182 435.985454 \nL 854.508658 435.985454 \nz\n\" style=\"fill:#47dbcd;\"/>\n   </g>\n   <g id=\"patch_229\">\n    <path clip-path=\"url(#p42bd252d03)\" d=\"M 862.385563 430.281274 \nL 868.687088 430.281274 \nL 868.687088 435.84449 \nL 862.385563 435.84449 \nz\n\" style=\"fill:#47dbcd;\"/>\n   </g>\n   <g id=\"patch_230\">\n    <path clip-path=\"url(#p42bd252d03)\" d=\"M 870.262469 430.396347 \nL 876.563994 430.396347 \nL 876.563994 435.987479 \nL 870.262469 435.987479 \nz\n\" style=\"fill:#47dbcd;\"/>\n   </g>\n   <g id=\"patch_231\">\n    <path clip-path=\"url(#p42bd252d03)\" d=\"M 878.139375 430.233702 \nL 884.440899 430.233702 \nL 884.440899 435.831499 \nL 878.139375 435.831499 \nz\n\" style=\"fill:#47dbcd;\"/>\n   </g>\n   <g id=\"patch_232\">\n    <path clip-path=\"url(#p42bd252d03)\" d=\"M 886.016281 430.354647 \nL 892.317805 430.354647 \nL 892.317805 435.955714 \nL 886.016281 435.955714 \nz\n\" style=\"fill:#47dbcd;\"/>\n   </g>\n   <g id=\"patch_233\">\n    <path clip-path=\"url(#p42bd252d03)\" d=\"M 893.893186 430.409073 \nL 900.194711 430.409073 \nL 900.194711 436.005901 \nL 893.893186 436.005901 \nz\n\" style=\"fill:#47dbcd;\"/>\n   </g>\n   <g id=\"patch_234\">\n    <path clip-path=\"url(#p42bd252d03)\" d=\"M 901.770092 430.489337 \nL 908.071616 430.489337 \nL 908.071616 436.088183 \nL 901.770092 436.088183 \nz\n\" style=\"fill:#47dbcd;\"/>\n   </g>\n   <g id=\"patch_235\">\n    <path clip-path=\"url(#p42bd252d03)\" d=\"M 909.646998 430.326427 \nL 915.948522 430.326427 \nL 915.948522 435.92719 \nL 909.646998 435.92719 \nz\n\" style=\"fill:#47dbcd;\"/>\n   </g>\n   <g id=\"patch_236\">\n    <path clip-path=\"url(#p42bd252d03)\" d=\"M 917.523903 430.326427 \nL 923.825428 430.326427 \nL 923.825428 435.927496 \nL 917.523903 435.927496 \nz\n\" style=\"fill:#47dbcd;\"/>\n   </g>\n   <g id=\"patch_237\">\n    <path clip-path=\"url(#p42bd252d03)\" d=\"M 925.400809 430.472233 \nL 931.702334 430.472233 \nL 931.702334 436.049988 \nL 925.400809 436.049988 \nz\n\" style=\"fill:#47dbcd;\"/>\n   </g>\n   <g id=\"patch_238\">\n    <path clip-path=\"url(#p42bd252d03)\" d=\"M 933.277715 430.368758 \nL 939.579239 430.368758 \nL 939.579239 435.969408 \nL 933.277715 435.969408 \nz\n\" style=\"fill:#47dbcd;\"/>\n   </g>\n   <g id=\"patch_239\">\n    <path clip-path=\"url(#p42bd252d03)\" d=\"M 941.15462 430.480275 \nL 947.456145 430.480275 \nL 947.456145 436.075209 \nL 941.15462 436.075209 \nz\n\" style=\"fill:#47dbcd;\"/>\n   </g>\n   <g id=\"patch_240\">\n    <path clip-path=\"url(#p42bd252d03)\" d=\"M 949.031526 430.54816 \nL 955.333051 430.54816 \nL 955.333051 436.148987 \nL 949.031526 436.148987 \nz\n\" style=\"fill:#47dbcd;\"/>\n   </g>\n   <g id=\"patch_241\">\n    <path clip-path=\"url(#p42bd252d03)\" d=\"M 956.908432 430.580611 \nL 963.209956 430.580611 \nL 963.209956 436.152025 \nL 956.908432 436.152025 \nz\n\" style=\"fill:#47dbcd;\"/>\n   </g>\n   <g id=\"patch_242\">\n    <path clip-path=\"url(#p42bd252d03)\" d=\"M 964.785338 430.581026 \nL 971.086862 430.581026 \nL 971.086862 436.179889 \nL 964.785338 436.179889 \nz\n\" style=\"fill:#47dbcd;\"/>\n   </g>\n   <g id=\"patch_243\">\n    <path clip-path=\"url(#p42bd252d03)\" d=\"M 972.662243 430.566302 \nL 978.963768 430.566302 \nL 978.963768 436.159998 \nL 972.662243 436.159998 \nz\n\" style=\"fill:#47dbcd;\"/>\n   </g>\n   <g id=\"patch_244\">\n    <path clip-path=\"url(#p42bd252d03)\" d=\"M 980.539149 430.550117 \nL 986.840674 430.550117 \nL 986.840674 436.151043 \nL 980.539149 436.151043 \nz\n\" style=\"fill:#47dbcd;\"/>\n   </g>\n   <g id=\"patch_245\">\n    <path clip-path=\"url(#p42bd252d03)\" d=\"M 988.416055 430.544129 \nL 994.717579 430.544129 \nL 994.717579 436.145104 \nL 988.416055 436.145104 \nz\n\" style=\"fill:#47dbcd;\"/>\n   </g>\n   <g id=\"patch_246\">\n    <path clip-path=\"url(#p42bd252d03)\" d=\"M 996.29296 430.556342 \nL 1002.594485 430.556342 \nL 1002.594485 436.152683 \nL 996.29296 436.152683 \nz\n\" style=\"fill:#47dbcd;\"/>\n   </g>\n   <g id=\"patch_247\">\n    <path clip-path=\"url(#p42bd252d03)\" d=\"M 1004.169866 430.576262 \nL 1010.471391 430.576262 \nL 1010.471391 436.177401 \nL 1004.169866 436.177401 \nz\n\" style=\"fill:#47dbcd;\"/>\n   </g>\n   <g id=\"patch_248\">\n    <path clip-path=\"url(#p42bd252d03)\" d=\"M 1012.046772 430.650964 \nL 1018.348296 430.650964 \nL 1018.348296 436.230535 \nL 1012.046772 436.230535 \nz\n\" style=\"fill:#47dbcd;\"/>\n   </g>\n   <g id=\"patch_249\">\n    <path clip-path=\"url(#p42bd252d03)\" d=\"M 1019.923677 430.582176 \nL 1026.225202 430.582176 \nL 1026.225202 436.18164 \nL 1019.923677 436.18164 \nz\n\" style=\"fill:#47dbcd;\"/>\n   </g>\n   <g id=\"patch_250\">\n    <path clip-path=\"url(#p42bd252d03)\" d=\"M 1027.800583 430.641557 \nL 1034.102108 430.641557 \nL 1034.102108 436.242356 \nL 1027.800583 436.242356 \nz\n\" style=\"fill:#47dbcd;\"/>\n   </g>\n   <g id=\"patch_251\">\n    <path clip-path=\"url(#p42bd252d03)\" d=\"M 1035.677489 430.608633 \nL 1041.979013 430.608633 \nL 1041.979013 436.209714 \nL 1035.677489 436.209714 \nz\n\" style=\"fill:#47dbcd;\"/>\n   </g>\n   <g id=\"patch_252\">\n    <path clip-path=\"url(#p42bd252d03)\" d=\"M 1043.554395 430.632659 \nL 1049.855919 430.632659 \nL 1049.855919 436.231181 \nL 1043.554395 436.231181 \nz\n\" style=\"fill:#47dbcd;\"/>\n   </g>\n   <g id=\"patch_253\">\n    <path clip-path=\"url(#p42bd252d03)\" d=\"M 1051.4313 430.647026 \nL 1057.732825 430.647026 \nL 1057.732825 436.248159 \nL 1051.4313 436.248159 \nz\n\" style=\"fill:#47dbcd;\"/>\n   </g>\n   <g id=\"patch_254\">\n    <path clip-path=\"url(#p42bd252d03)\" d=\"M 1059.308206 430.632822 \nL 1065.609731 430.632822 \nL 1065.609731 436.233956 \nL 1059.308206 436.233956 \nz\n\" style=\"fill:#47dbcd;\"/>\n   </g>\n   <g id=\"patch_255\">\n    <path clip-path=\"url(#p42bd252d03)\" d=\"M 1067.185112 430.65943 \nL 1073.486636 430.65943 \nL 1073.486636 436.260244 \nL 1067.185112 436.260244 \nz\n\" style=\"fill:#47dbcd;\"/>\n   </g>\n   <g id=\"patch_256\">\n    <path clip-path=\"url(#p42bd252d03)\" d=\"M 1075.062017 430.650964 \nL 1081.363542 430.650964 \nL 1081.363542 436.252088 \nL 1075.062017 436.252088 \nz\n\" style=\"fill:#47dbcd;\"/>\n   </g>\n   <g id=\"patch_257\">\n    <path clip-path=\"url(#p42bd252d03)\" d=\"M 1082.938923 430.650964 \nL 1089.240448 430.650964 \nL 1089.240448 436.252033 \nL 1082.938923 436.252033 \nz\n\" style=\"fill:#47dbcd;\"/>\n   </g>\n   <g id=\"patch_258\">\n    <path clip-path=\"url(#p42bd252d03)\" d=\"M 1090.815829 430.693295 \nL 1097.117353 430.693295 \nL 1097.117353 436.293513 \nL 1090.815829 436.293513 \nz\n\" style=\"fill:#47dbcd;\"/>\n   </g>\n   <g id=\"patch_259\">\n    <path clip-path=\"url(#p42bd252d03)\" d=\"M 1098.692735 430.693295 \nL 1104.994259 430.693295 \nL 1104.994259 436.294442 \nL 1098.692735 436.294442 \nz\n\" style=\"fill:#47dbcd;\"/>\n   </g>\n   <g id=\"patch_260\">\n    <path clip-path=\"url(#p42bd252d03)\" d=\"M 1106.56964 430.693295 \nL 1112.871165 430.693295 \nL 1112.871165 436.294442 \nL 1106.56964 436.294442 \nz\n\" style=\"fill:#47dbcd;\"/>\n   </g>\n   <g id=\"patch_261\">\n    <path clip-path=\"url(#p42bd252d03)\" d=\"M 98.32571 164.635296 \nL 104.627235 164.635296 \nL 104.627235 48.964148 \nL 98.32571 48.964148 \nz\n\" style=\"fill:#f5b14c;\"/>\n   </g>\n   <g id=\"patch_262\">\n    <path clip-path=\"url(#p42bd252d03)\" d=\"M 106.202616 203.367393 \nL 112.50414 203.367393 \nL 112.50414 95.477556 \nL 106.202616 95.477556 \nz\n\" style=\"fill:#f5b14c;\"/>\n   </g>\n   <g id=\"patch_263\">\n    <path clip-path=\"url(#p42bd252d03)\" d=\"M 114.079522 262.249294 \nL 120.381046 262.249294 \nL 120.381046 170.886701 \nL 114.079522 170.886701 \nz\n\" style=\"fill:#f5b14c;\"/>\n   </g>\n   <g id=\"patch_264\">\n    <path clip-path=\"url(#p42bd252d03)\" d=\"M 121.956427 270.636632 \nL 128.257952 270.636632 \nL 128.257952 216.446168 \nL 121.956427 216.446168 \nz\n\" style=\"fill:#f5b14c;\"/>\n   </g>\n   <g id=\"patch_265\">\n    <path clip-path=\"url(#p42bd252d03)\" d=\"M 129.833333 322.713585 \nL 136.134858 322.713585 \nL 136.134858 248.442603 \nL 129.833333 248.442603 \nz\n\" style=\"fill:#f5b14c;\"/>\n   </g>\n   <g id=\"patch_266\">\n    <path clip-path=\"url(#p42bd252d03)\" d=\"M 137.710239 369.467751 \nL 144.011763 369.467751 \nL 144.011763 326.682123 \nL 137.710239 326.682123 \nz\n\" style=\"fill:#f5b14c;\"/>\n   </g>\n   <g id=\"patch_267\">\n    <path clip-path=\"url(#p42bd252d03)\" d=\"M 145.587144 379.766545 \nL 151.888669 379.766545 \nL 151.888669 356.254436 \nL 145.587144 356.254436 \nz\n\" style=\"fill:#f5b14c;\"/>\n   </g>\n   <g id=\"patch_268\">\n    <path clip-path=\"url(#p42bd252d03)\" d=\"M 153.46405 387.178949 \nL 159.765575 387.178949 \nL 159.765575 357.203764 \nL 153.46405 357.203764 \nz\n\" style=\"fill:#f5b14c;\"/>\n   </g>\n   <g id=\"patch_269\">\n    <path clip-path=\"url(#p42bd252d03)\" d=\"M 161.340956 385.898355 \nL 167.64248 385.898355 \nL 167.64248 357.733163 \nL 161.340956 357.733163 \nz\n\" style=\"fill:#f5b14c;\"/>\n   </g>\n   <g id=\"patch_270\">\n    <path clip-path=\"url(#p42bd252d03)\" d=\"M 169.217862 384.248912 \nL 175.519386 384.248912 \nL 175.519386 370.319252 \nL 169.217862 370.319252 \nz\n\" style=\"fill:#f5b14c;\"/>\n   </g>\n   <g id=\"patch_271\">\n    <path clip-path=\"url(#p42bd252d03)\" d=\"M 177.094767 395.552789 \nL 183.396292 395.552789 \nL 183.396292 374.714935 \nL 177.094767 374.714935 \nz\n\" style=\"fill:#f5b14c;\"/>\n   </g>\n   <g id=\"patch_272\">\n    <path clip-path=\"url(#p42bd252d03)\" d=\"M 184.971673 392.49362 \nL 191.273198 392.49362 \nL 191.273198 377.510788 \nL 184.971673 377.510788 \nz\n\" style=\"fill:#f5b14c;\"/>\n   </g>\n   <g id=\"patch_273\">\n    <path clip-path=\"url(#p42bd252d03)\" d=\"M 192.848579 395.473122 \nL 199.150103 395.473122 \nL 199.150103 377.888057 \nL 192.848579 377.888057 \nz\n\" style=\"fill:#f5b14c;\"/>\n   </g>\n   <g id=\"patch_274\">\n    <path clip-path=\"url(#p42bd252d03)\" d=\"M 200.725484 398.050393 \nL 207.027009 398.050393 \nL 207.027009 378.81591 \nL 200.725484 378.81591 \nz\n\" style=\"fill:#f5b14c;\"/>\n   </g>\n   <g id=\"patch_275\">\n    <path clip-path=\"url(#p42bd252d03)\" d=\"M 208.60239 401.517878 \nL 214.903915 401.517878 \nL 214.903915 385.484825 \nL 208.60239 385.484825 \nz\n\" style=\"fill:#f5b14c;\"/>\n   </g>\n   <g id=\"patch_276\">\n    <path clip-path=\"url(#p42bd252d03)\" d=\"M 216.479296 388.490101 \nL 222.78082 388.490101 \nL 222.78082 387.601708 \nL 216.479296 387.601708 \nz\n\" style=\"fill:#f5b14c;\"/>\n   </g>\n   <g id=\"patch_277\">\n    <path clip-path=\"url(#p42bd252d03)\" d=\"M 224.356201 408.80654 \nL 230.657726 408.80654 \nL 230.657726 400.473922 \nL 224.356201 400.473922 \nz\n\" style=\"fill:#f5b14c;\"/>\n   </g>\n   <g id=\"patch_278\">\n    <path clip-path=\"url(#p42bd252d03)\" d=\"M 232.233107 413.109213 \nL 238.534632 413.109213 \nL 238.534632 410.867754 \nL 232.233107 410.867754 \nz\n\" style=\"fill:#f5b14c;\"/>\n   </g>\n   <g id=\"patch_279\">\n    <path clip-path=\"url(#p42bd252d03)\" d=\"M 240.110013 418.202556 \nL 246.411537 418.202556 \nL 246.411537 412.381256 \nL 240.110013 412.381256 \nz\n\" style=\"fill:#f5b14c;\"/>\n   </g>\n   <g id=\"patch_280\">\n    <path clip-path=\"url(#p42bd252d03)\" d=\"M 247.986919 419.626089 \nL 254.288443 419.626089 \nL 254.288443 413.37443 \nL 247.986919 413.37443 \nz\n\" style=\"fill:#f5b14c;\"/>\n   </g>\n   <g id=\"patch_281\">\n    <path clip-path=\"url(#p42bd252d03)\" d=\"M 255.863824 421.462441 \nL 262.165349 421.462441 \nL 262.165349 414.671208 \nL 255.863824 414.671208 \nz\n\" style=\"fill:#f5b14c;\"/>\n   </g>\n   <g id=\"patch_282\">\n    <path clip-path=\"url(#p42bd252d03)\" d=\"M 263.74073 421.656626 \nL 270.042255 421.656626 \nL 270.042255 419.413986 \nL 263.74073 419.413986 \nz\n\" style=\"fill:#f5b14c;\"/>\n   </g>\n   <g id=\"patch_283\">\n    <path clip-path=\"url(#p42bd252d03)\" d=\"M 271.617636 424.635533 \nL 277.91916 424.635533 \nL 277.91916 421.001454 \nL 271.617636 421.001454 \nz\n\" style=\"fill:#f5b14c;\"/>\n   </g>\n   <g id=\"patch_284\">\n    <path clip-path=\"url(#p42bd252d03)\" d=\"M 279.494541 423.855645 \nL 285.796066 423.855645 \nL 285.796066 422.226961 \nL 279.494541 422.226961 \nz\n\" style=\"fill:#f5b14c;\"/>\n   </g>\n   <g id=\"patch_285\">\n    <path clip-path=\"url(#p42bd252d03)\" d=\"M 287.371447 423.304745 \nL 293.672972 423.304745 \nL 293.672972 423.318397 \nL 287.371447 423.318397 \nz\n\" style=\"fill:#f5b14c;\"/>\n   </g>\n   <g id=\"patch_286\">\n    <path clip-path=\"url(#p42bd252d03)\" d=\"M 295.248353 423.704832 \nL 301.549877 423.704832 \nL 301.549877 425.698494 \nL 295.248353 425.698494 \nz\n\" style=\"fill:#f5b14c;\"/>\n   </g>\n   <g id=\"patch_287\">\n    <path clip-path=\"url(#p42bd252d03)\" d=\"M 303.125259 426.391196 \nL 309.426783 426.391196 \nL 309.426783 426.46152 \nL 303.125259 426.46152 \nz\n\" style=\"fill:#f5b14c;\"/>\n   </g>\n   <g id=\"patch_288\">\n    <path clip-path=\"url(#p42bd252d03)\" d=\"M 311.002164 426.102525 \nL 317.303689 426.102525 \nL 317.303689 427.0684 \nL 311.002164 427.0684 \nz\n\" style=\"fill:#f5b14c;\"/>\n   </g>\n   <g id=\"patch_289\">\n    <path clip-path=\"url(#p42bd252d03)\" d=\"M 318.87907 423.879707 \nL 325.180594 423.879707 \nL 325.180594 428.966176 \nL 318.87907 428.966176 \nz\n\" style=\"fill:#f5b14c;\"/>\n   </g>\n   <g id=\"patch_290\">\n    <path clip-path=\"url(#p42bd252d03)\" d=\"M 326.755976 426.8215 \nL 333.0575 426.8215 \nL 333.0575 431.679506 \nL 326.755976 431.679506 \nz\n\" style=\"fill:#f5b14c;\"/>\n   </g>\n   <g id=\"patch_291\">\n    <path clip-path=\"url(#p42bd252d03)\" d=\"M 334.632881 425.599054 \nL 340.934406 425.599054 \nL 340.934406 431.9034 \nL 334.632881 431.9034 \nz\n\" style=\"fill:#f5b14c;\"/>\n   </g>\n   <g id=\"patch_292\">\n    <path clip-path=\"url(#p42bd252d03)\" d=\"M 342.509787 429.399561 \nL 348.811312 429.399561 \nL 348.811312 431.954639 \nL 342.509787 431.954639 \nz\n\" style=\"fill:#f5b14c;\"/>\n   </g>\n   <g id=\"patch_293\">\n    <path clip-path=\"url(#p42bd252d03)\" d=\"M 350.386693 430.064279 \nL 356.688217 430.064279 \nL 356.688217 431.970569 \nL 350.386693 431.970569 \nz\n\" style=\"fill:#f5b14c;\"/>\n   </g>\n   <g id=\"patch_294\">\n    <path clip-path=\"url(#p42bd252d03)\" d=\"M 358.263598 428.696035 \nL 364.565123 428.696035 \nL 364.565123 432.574662 \nL 358.263598 432.574662 \nz\n\" style=\"fill:#f5b14c;\"/>\n   </g>\n   <g id=\"patch_295\">\n    <path clip-path=\"url(#p42bd252d03)\" d=\"M 366.140504 429.089618 \nL 372.442029 429.089618 \nL 372.442029 434.582243 \nL 366.140504 434.582243 \nz\n\" style=\"fill:#f5b14c;\"/>\n   </g>\n   <g id=\"patch_296\">\n    <path clip-path=\"url(#p42bd252d03)\" d=\"M 374.01741 430.167551 \nL 380.318934 430.167551 \nL 380.318934 434.743963 \nL 374.01741 434.743963 \nz\n\" style=\"fill:#f5b14c;\"/>\n   </g>\n   <g id=\"patch_297\">\n    <path clip-path=\"url(#p42bd252d03)\" d=\"M 381.894316 432.156576 \nL 388.19584 432.156576 \nL 388.19584 436.036383 \nL 381.894316 436.036383 \nz\n\" style=\"fill:#f5b14c;\"/>\n   </g>\n   <g id=\"patch_298\">\n    <path clip-path=\"url(#p42bd252d03)\" d=\"M 389.771221 429.514654 \nL 396.072746 429.514654 \nL 396.072746 436.589988 \nL 389.771221 436.589988 \nz\n\" style=\"fill:#f5b14c;\"/>\n   </g>\n   <g id=\"patch_299\">\n    <path clip-path=\"url(#p42bd252d03)\" d=\"M 397.648127 432.35119 \nL 403.949652 432.35119 \nL 403.949652 436.935867 \nL 397.648127 436.935867 \nz\n\" style=\"fill:#f5b14c;\"/>\n   </g>\n   <g id=\"patch_300\">\n    <path clip-path=\"url(#p42bd252d03)\" d=\"M 405.525033 432.611323 \nL 411.826557 432.611323 \nL 411.826557 436.942743 \nL 405.525033 436.942743 \nz\n\" style=\"fill:#f5b14c;\"/>\n   </g>\n   <g id=\"patch_301\">\n    <path clip-path=\"url(#p42bd252d03)\" d=\"M 413.401938 432.688403 \nL 419.703463 432.688403 \nL 419.703463 437.463171 \nL 413.401938 437.463171 \nz\n\" style=\"fill:#f5b14c;\"/>\n   </g>\n   <g id=\"patch_302\">\n    <path clip-path=\"url(#p42bd252d03)\" d=\"M 421.278844 433.128045 \nL 427.580369 433.128045 \nL 427.580369 438.137179 \nL 421.278844 438.137179 \nz\n\" style=\"fill:#f5b14c;\"/>\n   </g>\n   <g id=\"patch_303\">\n    <path clip-path=\"url(#p42bd252d03)\" d=\"M 429.15575 433.388812 \nL 435.457274 433.388812 \nL 435.457274 438.501846 \nL 429.15575 438.501846 \nz\n\" style=\"fill:#f5b14c;\"/>\n   </g>\n   <g id=\"patch_304\">\n    <path clip-path=\"url(#p42bd252d03)\" d=\"M 437.032655 433.433578 \nL 443.33418 433.433578 \nL 443.33418 439.04132 \nL 437.032655 439.04132 \nz\n\" style=\"fill:#f5b14c;\"/>\n   </g>\n   <g id=\"patch_305\">\n    <path clip-path=\"url(#p42bd252d03)\" d=\"M 444.909561 433.691042 \nL 451.211086 433.691042 \nL 451.211086 439.290518 \nL 444.909561 439.290518 \nz\n\" style=\"fill:#f5b14c;\"/>\n   </g>\n   <g id=\"patch_306\">\n    <path clip-path=\"url(#p42bd252d03)\" d=\"M 452.786467 433.804559 \nL 459.087991 433.804559 \nL 459.087991 439.75529 \nL 452.786467 439.75529 \nz\n\" style=\"fill:#f5b14c;\"/>\n   </g>\n   <g id=\"patch_307\">\n    <path clip-path=\"url(#p42bd252d03)\" d=\"M 460.663373 433.944121 \nL 466.964897 433.944121 \nL 466.964897 439.831686 \nL 460.663373 439.831686 \nz\n\" style=\"fill:#f5b14c;\"/>\n   </g>\n   <g id=\"patch_308\">\n    <path clip-path=\"url(#p42bd252d03)\" d=\"M 468.540278 434.018566 \nL 474.841803 434.018566 \nL 474.841803 439.936828 \nL 468.540278 439.936828 \nz\n\" style=\"fill:#f5b14c;\"/>\n   </g>\n   <g id=\"patch_309\">\n    <path clip-path=\"url(#p42bd252d03)\" d=\"M 476.417184 434.123152 \nL 482.718709 434.123152 \nL 482.718709 439.956995 \nL 476.417184 439.956995 \nz\n\" style=\"fill:#f5b14c;\"/>\n   </g>\n   <g id=\"patch_310\">\n    <path clip-path=\"url(#p42bd252d03)\" d=\"M 484.29409 433.867925 \nL 490.595614 433.867925 \nL 490.595614 440.182308 \nL 484.29409 440.182308 \nz\n\" style=\"fill:#f5b14c;\"/>\n   </g>\n   <g id=\"patch_311\">\n    <path clip-path=\"url(#p42bd252d03)\" d=\"M 492.170995 434.275621 \nL 498.47252 434.275621 \nL 498.47252 440.234027 \nL 492.170995 440.234027 \nz\n\" style=\"fill:#f5b14c;\"/>\n   </g>\n   <g id=\"patch_312\">\n    <path clip-path=\"url(#p42bd252d03)\" d=\"M 500.047901 434.22874 \nL 506.349426 434.22874 \nL 506.349426 440.276878 \nL 500.047901 440.276878 \nz\n\" style=\"fill:#f5b14c;\"/>\n   </g>\n   <g id=\"patch_313\">\n    <path clip-path=\"url(#p42bd252d03)\" d=\"M 507.924807 434.308037 \nL 514.226331 434.308037 \nL 514.226331 440.316621 \nL 507.924807 440.316621 \nz\n\" style=\"fill:#f5b14c;\"/>\n   </g>\n   <g id=\"patch_314\">\n    <path clip-path=\"url(#p42bd252d03)\" d=\"M 515.801712 433.348126 \nL 522.103237 433.348126 \nL 522.103237 440.664321 \nL 515.801712 440.664321 \nz\n\" style=\"fill:#f5b14c;\"/>\n   </g>\n   <g id=\"patch_315\">\n    <path clip-path=\"url(#p42bd252d03)\" d=\"M 523.678618 434.515066 \nL 529.980143 434.515066 \nL 529.980143 440.816461 \nL 523.678618 440.816461 \nz\n\" style=\"fill:#f5b14c;\"/>\n   </g>\n   <g id=\"patch_316\">\n    <path clip-path=\"url(#p42bd252d03)\" d=\"M 531.555524 434.14054 \nL 537.857048 434.14054 \nL 537.857048 441.161563 \nL 531.555524 441.161563 \nz\n\" style=\"fill:#f5b14c;\"/>\n   </g>\n   <g id=\"patch_317\">\n    <path clip-path=\"url(#p42bd252d03)\" d=\"M 539.43243 434.847739 \nL 545.733954 434.847739 \nL 545.733954 441.3835 \nL 539.43243 441.3835 \nz\n\" style=\"fill:#f5b14c;\"/>\n   </g>\n   <g id=\"patch_318\">\n    <path clip-path=\"url(#p42bd252d03)\" d=\"M 547.309335 434.191954 \nL 553.61086 434.191954 \nL 553.61086 441.463283 \nL 547.309335 441.463283 \nz\n\" style=\"fill:#f5b14c;\"/>\n   </g>\n   <g id=\"patch_319\">\n    <path clip-path=\"url(#p42bd252d03)\" d=\"M 555.186241 434.898977 \nL 561.487766 434.898977 \nL 561.487766 441.471929 \nL 555.186241 441.471929 \nz\n\" style=\"fill:#f5b14c;\"/>\n   </g>\n   <g id=\"patch_320\">\n    <path clip-path=\"url(#p42bd252d03)\" d=\"M 563.063147 434.941363 \nL 569.364671 434.941363 \nL 569.364671 441.611132 \nL 563.063147 441.611132 \nz\n\" style=\"fill:#f5b14c;\"/>\n   </g>\n   <g id=\"patch_321\">\n    <path clip-path=\"url(#p42bd252d03)\" d=\"M 570.940052 434.966612 \nL 577.241577 434.966612 \nL 577.241577 441.863072 \nL 570.940052 441.863072 \nz\n\" style=\"fill:#f5b14c;\"/>\n   </g>\n   <g id=\"patch_322\">\n    <path clip-path=\"url(#p42bd252d03)\" d=\"M 578.816958 435.084839 \nL 585.118483 435.084839 \nL 585.118483 441.878579 \nL 578.816958 441.878579 \nz\n\" style=\"fill:#f5b14c;\"/>\n   </g>\n   <g id=\"patch_323\">\n    <path clip-path=\"url(#p42bd252d03)\" d=\"M 586.693864 434.429706 \nL 592.995388 434.429706 \nL 592.995388 441.923594 \nL 586.693864 441.923594 \nz\n\" style=\"fill:#f5b14c;\"/>\n   </g>\n   <g id=\"patch_324\">\n    <path clip-path=\"url(#p42bd252d03)\" d=\"M 594.57077 435.194501 \nL 600.872294 435.194501 \nL 600.872294 442.080925 \nL 594.57077 442.080925 \nz\n\" style=\"fill:#f5b14c;\"/>\n   </g>\n   <g id=\"patch_325\">\n    <path clip-path=\"url(#p42bd252d03)\" d=\"M 602.447675 435.200143 \nL 608.7492 435.200143 \nL 608.7492 442.087748 \nL 602.447675 442.087748 \nz\n\" style=\"fill:#f5b14c;\"/>\n   </g>\n   <g id=\"patch_326\">\n    <path clip-path=\"url(#p42bd252d03)\" d=\"M 610.324581 434.843231 \nL 616.626105 434.843231 \nL 616.626105 442.144077 \nL 610.324581 442.144077 \nz\n\" style=\"fill:#f5b14c;\"/>\n   </g>\n   <g id=\"patch_327\">\n    <path clip-path=\"url(#p42bd252d03)\" d=\"M 618.201487 435.244589 \nL 624.503011 435.244589 \nL 624.503011 442.200674 \nL 618.201487 442.200674 \nz\n\" style=\"fill:#f5b14c;\"/>\n   </g>\n   <g id=\"patch_328\">\n    <path clip-path=\"url(#p42bd252d03)\" d=\"M 626.078392 435.197565 \nL 632.379917 435.197565 \nL 632.379917 442.200878 \nL 626.078392 442.200878 \nz\n\" style=\"fill:#f5b14c;\"/>\n   </g>\n   <g id=\"patch_329\">\n    <path clip-path=\"url(#p42bd252d03)\" d=\"M 633.955298 435.227713 \nL 640.256823 435.227713 \nL 640.256823 442.215677 \nL 633.955298 442.215677 \nz\n\" style=\"fill:#f5b14c;\"/>\n   </g>\n   <g id=\"patch_330\">\n    <path clip-path=\"url(#p42bd252d03)\" d=\"M 641.832204 435.231945 \nL 648.133728 435.231945 \nL 648.133728 442.300786 \nL 641.832204 442.300786 \nz\n\" style=\"fill:#f5b14c;\"/>\n   </g>\n   <g id=\"patch_331\">\n    <path clip-path=\"url(#p42bd252d03)\" d=\"M 649.709109 435.319624 \nL 656.010634 435.319624 \nL 656.010634 442.34537 \nL 649.709109 442.34537 \nz\n\" style=\"fill:#f5b14c;\"/>\n   </g>\n   <g id=\"patch_332\">\n    <path clip-path=\"url(#p42bd252d03)\" d=\"M 657.586015 435.330498 \nL 663.88754 435.330498 \nL 663.88754 442.406423 \nL 657.586015 442.406423 \nz\n\" style=\"fill:#f5b14c;\"/>\n   </g>\n   <g id=\"patch_333\">\n    <path clip-path=\"url(#p42bd252d03)\" d=\"M 665.462921 434.924055 \nL 671.764445 434.924055 \nL 671.764445 442.606262 \nL 665.462921 442.606262 \nz\n\" style=\"fill:#f5b14c;\"/>\n   </g>\n   <g id=\"patch_334\">\n    <path clip-path=\"url(#p42bd252d03)\" d=\"M 673.339827 435.476982 \nL 679.641351 435.476982 \nL 679.641351 442.632012 \nL 673.339827 442.632012 \nz\n\" style=\"fill:#f5b14c;\"/>\n   </g>\n   <g id=\"patch_335\">\n    <path clip-path=\"url(#p42bd252d03)\" d=\"M 681.216732 435.324994 \nL 687.518257 435.324994 \nL 687.518257 442.734463 \nL 681.216732 442.734463 \nz\n\" style=\"fill:#f5b14c;\"/>\n   </g>\n   <g id=\"patch_336\">\n    <path clip-path=\"url(#p42bd252d03)\" d=\"M 689.093638 435.50175 \nL 695.395163 435.50175 \nL 695.395163 442.772488 \nL 689.093638 442.772488 \nz\n\" style=\"fill:#f5b14c;\"/>\n   </g>\n   <g id=\"patch_337\">\n    <path clip-path=\"url(#p42bd252d03)\" d=\"M 696.970544 435.295362 \nL 703.272068 435.295362 \nL 703.272068 442.87662 \nL 696.970544 442.87662 \nz\n\" style=\"fill:#f5b14c;\"/>\n   </g>\n   <g id=\"patch_338\">\n    <path clip-path=\"url(#p42bd252d03)\" d=\"M 704.847449 435.112307 \nL 711.148974 435.112307 \nL 711.148974 442.923209 \nL 704.847449 442.923209 \nz\n\" style=\"fill:#f5b14c;\"/>\n   </g>\n   <g id=\"patch_339\">\n    <path clip-path=\"url(#p42bd252d03)\" d=\"M 712.724355 435.606064 \nL 719.02588 435.606064 \nL 719.02588 442.960631 \nL 712.724355 442.960631 \nz\n\" style=\"fill:#f5b14c;\"/>\n   </g>\n   <g id=\"patch_340\">\n    <path clip-path=\"url(#p42bd252d03)\" d=\"M 720.601261 435.743979 \nL 726.902785 435.743979 \nL 726.902785 443.184145 \nL 720.601261 443.184145 \nz\n\" style=\"fill:#f5b14c;\"/>\n   </g>\n   <g id=\"patch_341\">\n    <path clip-path=\"url(#p42bd252d03)\" d=\"M 728.478166 435.66517 \nL 734.779691 435.66517 \nL 734.779691 443.222225 \nL 728.478166 443.222225 \nz\n\" style=\"fill:#f5b14c;\"/>\n   </g>\n   <g id=\"patch_342\">\n    <path clip-path=\"url(#p42bd252d03)\" d=\"M 736.355072 435.802699 \nL 742.656597 435.802699 \nL 742.656597 443.325514 \nL 736.355072 443.325514 \nz\n\" style=\"fill:#f5b14c;\"/>\n   </g>\n   <g id=\"patch_343\">\n    <path clip-path=\"url(#p42bd252d03)\" d=\"M 744.231978 435.776473 \nL 750.533502 435.776473 \nL 750.533502 443.331756 \nL 744.231978 443.331756 \nz\n\" style=\"fill:#f5b14c;\"/>\n   </g>\n   <g id=\"patch_344\">\n    <path clip-path=\"url(#p42bd252d03)\" d=\"M 752.108884 435.669129 \nL 758.410408 435.669129 \nL 758.410408 443.379082 \nL 752.108884 443.379082 \nz\n\" style=\"fill:#f5b14c;\"/>\n   </g>\n   <g id=\"patch_345\">\n    <path clip-path=\"url(#p42bd252d03)\" d=\"M 759.985789 435.842798 \nL 766.287314 435.842798 \nL 766.287314 443.398081 \nL 759.985789 443.398081 \nz\n\" style=\"fill:#f5b14c;\"/>\n   </g>\n   <g id=\"patch_346\">\n    <path clip-path=\"url(#p42bd252d03)\" d=\"M 767.862695 435.841819 \nL 774.16422 435.841819 \nL 774.16422 443.417764 \nL 767.862695 443.417764 \nz\n\" style=\"fill:#f5b14c;\"/>\n   </g>\n   <g id=\"patch_347\">\n    <path clip-path=\"url(#p42bd252d03)\" d=\"M 775.739601 435.622523 \nL 782.041125 435.622523 \nL 782.041125 443.428112 \nL 775.739601 443.428112 \nz\n\" style=\"fill:#f5b14c;\"/>\n   </g>\n   <g id=\"patch_348\">\n    <path clip-path=\"url(#p42bd252d03)\" d=\"M 783.616506 435.808801 \nL 789.918031 435.808801 \nL 789.918031 443.454997 \nL 783.616506 443.454997 \nz\n\" style=\"fill:#f5b14c;\"/>\n   </g>\n   <g id=\"patch_349\">\n    <path clip-path=\"url(#p42bd252d03)\" d=\"M 791.493412 435.72682 \nL 797.794937 435.72682 \nL 797.794937 443.485182 \nL 791.493412 443.485182 \nz\n\" style=\"fill:#f5b14c;\"/>\n   </g>\n   <g id=\"patch_350\">\n    <path clip-path=\"url(#p42bd252d03)\" d=\"M 799.370318 435.701033 \nL 805.671842 435.701033 \nL 805.671842 443.50308 \nL 799.370318 443.50308 \nz\n\" style=\"fill:#f5b14c;\"/>\n   </g>\n   <g id=\"patch_351\">\n    <path clip-path=\"url(#p42bd252d03)\" d=\"M 807.247223 435.940589 \nL 813.548748 435.940589 \nL 813.548748 443.564942 \nL 807.247223 443.564942 \nz\n\" style=\"fill:#f5b14c;\"/>\n   </g>\n   <g id=\"patch_352\">\n    <path clip-path=\"url(#p42bd252d03)\" d=\"M 815.124129 435.746618 \nL 821.425654 435.746618 \nL 821.425654 443.582315 \nL 815.124129 443.582315 \nz\n\" style=\"fill:#f5b14c;\"/>\n   </g>\n   <g id=\"patch_353\">\n    <path clip-path=\"url(#p42bd252d03)\" d=\"M 823.001035 435.747268 \nL 829.302559 435.747268 \nL 829.302559 443.590638 \nL 823.001035 443.590638 \nz\n\" style=\"fill:#f5b14c;\"/>\n   </g>\n   <g id=\"patch_354\">\n    <path clip-path=\"url(#p42bd252d03)\" d=\"M 830.877941 435.973508 \nL 837.179465 435.973508 \nL 837.179465 443.640366 \nL 830.877941 443.640366 \nz\n\" style=\"fill:#f5b14c;\"/>\n   </g>\n   <g id=\"patch_355\">\n    <path clip-path=\"url(#p42bd252d03)\" d=\"M 838.754846 435.784607 \nL 845.056371 435.784607 \nL 845.056371 443.655133 \nL 838.754846 443.655133 \nz\n\" style=\"fill:#f5b14c;\"/>\n   </g>\n   <g id=\"patch_356\">\n    <path clip-path=\"url(#p42bd252d03)\" d=\"M 846.631752 435.659016 \nL 852.933277 435.659016 \nL 852.933277 443.665321 \nL 846.631752 443.665321 \nz\n\" style=\"fill:#f5b14c;\"/>\n   </g>\n   <g id=\"patch_357\">\n    <path clip-path=\"url(#p42bd252d03)\" d=\"M 854.508658 435.985454 \nL 860.810182 435.985454 \nL 860.810182 443.668252 \nL 854.508658 443.668252 \nz\n\" style=\"fill:#f5b14c;\"/>\n   </g>\n   <g id=\"patch_358\">\n    <path clip-path=\"url(#p42bd252d03)\" d=\"M 862.385563 435.84449 \nL 868.687088 435.84449 \nL 868.687088 443.67015 \nL 862.385563 443.67015 \nz\n\" style=\"fill:#f5b14c;\"/>\n   </g>\n   <g id=\"patch_359\">\n    <path clip-path=\"url(#p42bd252d03)\" d=\"M 870.262469 435.987479 \nL 876.563994 435.987479 \nL 876.563994 443.686215 \nL 870.262469 443.686215 \nz\n\" style=\"fill:#f5b14c;\"/>\n   </g>\n   <g id=\"patch_360\">\n    <path clip-path=\"url(#p42bd252d03)\" d=\"M 878.139375 435.831499 \nL 884.440899 435.831499 \nL 884.440899 443.700254 \nL 878.139375 443.700254 \nz\n\" style=\"fill:#f5b14c;\"/>\n   </g>\n   <g id=\"patch_361\">\n    <path clip-path=\"url(#p42bd252d03)\" d=\"M 886.016281 435.955714 \nL 892.317805 435.955714 \nL 892.317805 443.875829 \nL 886.016281 443.875829 \nz\n\" style=\"fill:#f5b14c;\"/>\n   </g>\n   <g id=\"patch_362\">\n    <path clip-path=\"url(#p42bd252d03)\" d=\"M 893.893186 436.005901 \nL 900.194711 436.005901 \nL 900.194711 443.894137 \nL 893.893186 443.894137 \nz\n\" style=\"fill:#f5b14c;\"/>\n   </g>\n   <g id=\"patch_363\">\n    <path clip-path=\"url(#p42bd252d03)\" d=\"M 901.770092 436.088183 \nL 908.071616 436.088183 \nL 908.071616 443.915024 \nL 901.770092 443.915024 \nz\n\" style=\"fill:#f5b14c;\"/>\n   </g>\n   <g id=\"patch_364\">\n    <path clip-path=\"url(#p42bd252d03)\" d=\"M 909.646998 435.92719 \nL 915.948522 435.92719 \nL 915.948522 443.925821 \nL 909.646998 443.925821 \nz\n\" style=\"fill:#f5b14c;\"/>\n   </g>\n   <g id=\"patch_365\">\n    <path clip-path=\"url(#p42bd252d03)\" d=\"M 917.523903 435.927496 \nL 923.825428 435.927496 \nL 923.825428 443.926127 \nL 917.523903 443.926127 \nz\n\" style=\"fill:#f5b14c;\"/>\n   </g>\n   <g id=\"patch_366\">\n    <path clip-path=\"url(#p42bd252d03)\" d=\"M 925.400809 436.049988 \nL 931.702334 436.049988 \nL 931.702334 443.933501 \nL 925.400809 443.933501 \nz\n\" style=\"fill:#f5b14c;\"/>\n   </g>\n   <g id=\"patch_367\">\n    <path clip-path=\"url(#p42bd252d03)\" d=\"M 933.277715 435.969408 \nL 939.579239 435.969408 \nL 939.579239 443.96981 \nL 933.277715 443.96981 \nz\n\" style=\"fill:#f5b14c;\"/>\n   </g>\n   <g id=\"patch_368\">\n    <path clip-path=\"url(#p42bd252d03)\" d=\"M 941.15462 436.075209 \nL 947.456145 436.075209 \nL 947.456145 443.980565 \nL 941.15462 443.980565 \nz\n\" style=\"fill:#f5b14c;\"/>\n   </g>\n   <g id=\"patch_369\">\n    <path clip-path=\"url(#p42bd252d03)\" d=\"M 949.031526 436.148987 \nL 955.333051 436.148987 \nL 955.333051 443.981732 \nL 949.031526 443.981732 \nz\n\" style=\"fill:#f5b14c;\"/>\n   </g>\n   <g id=\"patch_370\">\n    <path clip-path=\"url(#p42bd252d03)\" d=\"M 956.908432 436.152025 \nL 963.209956 436.152025 \nL 963.209956 444.014287 \nL 956.908432 444.014287 \nz\n\" style=\"fill:#f5b14c;\"/>\n   </g>\n   <g id=\"patch_371\">\n    <path clip-path=\"url(#p42bd252d03)\" d=\"M 964.785338 436.179889 \nL 971.086862 436.179889 \nL 971.086862 444.046873 \nL 964.785338 444.046873 \nz\n\" style=\"fill:#f5b14c;\"/>\n   </g>\n   <g id=\"patch_372\">\n    <path clip-path=\"url(#p42bd252d03)\" d=\"M 972.662243 436.159998 \nL 978.963768 436.159998 \nL 978.963768 444.050596 \nL 972.662243 444.050596 \nz\n\" style=\"fill:#f5b14c;\"/>\n   </g>\n   <g id=\"patch_373\">\n    <path clip-path=\"url(#p42bd252d03)\" d=\"M 980.539149 436.151043 \nL 986.840674 436.151043 \nL 986.840674 444.078833 \nL 980.539149 444.078833 \nz\n\" style=\"fill:#f5b14c;\"/>\n   </g>\n   <g id=\"patch_374\">\n    <path clip-path=\"url(#p42bd252d03)\" d=\"M 988.416055 436.145104 \nL 994.717579 436.145104 \nL 994.717579 444.104772 \nL 988.416055 444.104772 \nz\n\" style=\"fill:#f5b14c;\"/>\n   </g>\n   <g id=\"patch_375\">\n    <path clip-path=\"url(#p42bd252d03)\" d=\"M 996.29296 436.152683 \nL 1002.594485 436.152683 \nL 1002.594485 444.125929 \nL 996.29296 444.125929 \nz\n\" style=\"fill:#f5b14c;\"/>\n   </g>\n   <g id=\"patch_376\">\n    <path clip-path=\"url(#p42bd252d03)\" d=\"M 1004.169866 436.177401 \nL 1010.471391 436.177401 \nL 1010.471391 444.15537 \nL 1004.169866 444.15537 \nz\n\" style=\"fill:#f5b14c;\"/>\n   </g>\n   <g id=\"patch_377\">\n    <path clip-path=\"url(#p42bd252d03)\" d=\"M 1012.046772 436.230535 \nL 1018.348296 436.230535 \nL 1018.348296 444.162457 \nL 1012.046772 444.162457 \nz\n\" style=\"fill:#f5b14c;\"/>\n   </g>\n   <g id=\"patch_378\">\n    <path clip-path=\"url(#p42bd252d03)\" d=\"M 1019.923677 436.18164 \nL 1026.225202 436.18164 \nL 1026.225202 444.163151 \nL 1019.923677 444.163151 \nz\n\" style=\"fill:#f5b14c;\"/>\n   </g>\n   <g id=\"patch_379\">\n    <path clip-path=\"url(#p42bd252d03)\" d=\"M 1027.800583 436.242356 \nL 1034.102108 436.242356 \nL 1034.102108 444.163652 \nL 1027.800583 444.163652 \nz\n\" style=\"fill:#f5b14c;\"/>\n   </g>\n   <g id=\"patch_380\">\n    <path clip-path=\"url(#p42bd252d03)\" d=\"M 1035.677489 436.209714 \nL 1041.979013 436.209714 \nL 1041.979013 444.193586 \nL 1035.677489 444.193586 \nz\n\" style=\"fill:#f5b14c;\"/>\n   </g>\n   <g id=\"patch_381\">\n    <path clip-path=\"url(#p42bd252d03)\" d=\"M 1043.554395 436.231181 \nL 1049.855919 436.231181 \nL 1049.855919 444.193801 \nL 1043.554395 444.193801 \nz\n\" style=\"fill:#f5b14c;\"/>\n   </g>\n   <g id=\"patch_382\">\n    <path clip-path=\"url(#p42bd252d03)\" d=\"M 1051.4313 436.248159 \nL 1057.732825 436.248159 \nL 1057.732825 444.210779 \nL 1051.4313 444.210779 \nz\n\" style=\"fill:#f5b14c;\"/>\n   </g>\n   <g id=\"patch_383\">\n    <path clip-path=\"url(#p42bd252d03)\" d=\"M 1059.308206 436.233956 \nL 1065.609731 436.233956 \nL 1065.609731 444.239671 \nL 1059.308206 444.239671 \nz\n\" style=\"fill:#f5b14c;\"/>\n   </g>\n   <g id=\"patch_384\">\n    <path clip-path=\"url(#p42bd252d03)\" d=\"M 1067.185112 436.260244 \nL 1073.486636 436.260244 \nL 1073.486636 444.244116 \nL 1067.185112 444.244116 \nz\n\" style=\"fill:#f5b14c;\"/>\n   </g>\n   <g id=\"patch_385\">\n    <path clip-path=\"url(#p42bd252d03)\" d=\"M 1075.062017 436.252088 \nL 1081.363542 436.252088 \nL 1081.363542 444.265478 \nL 1075.062017 444.265478 \nz\n\" style=\"fill:#f5b14c;\"/>\n   </g>\n   <g id=\"patch_386\">\n    <path clip-path=\"url(#p42bd252d03)\" d=\"M 1082.938923 436.252033 \nL 1089.240448 436.252033 \nL 1089.240448 444.266603 \nL 1082.938923 444.266603 \nz\n\" style=\"fill:#f5b14c;\"/>\n   </g>\n   <g id=\"patch_387\">\n    <path clip-path=\"url(#p42bd252d03)\" d=\"M 1090.815829 436.293513 \nL 1097.117353 436.293513 \nL 1097.117353 444.269121 \nL 1090.815829 444.269121 \nz\n\" style=\"fill:#f5b14c;\"/>\n   </g>\n   <g id=\"patch_388\">\n    <path clip-path=\"url(#p42bd252d03)\" d=\"M 1098.692735 436.294442 \nL 1104.994259 436.294442 \nL 1104.994259 444.309602 \nL 1098.692735 444.309602 \nz\n\" style=\"fill:#f5b14c;\"/>\n   </g>\n   <g id=\"patch_389\">\n    <path clip-path=\"url(#p42bd252d03)\" d=\"M 1106.56964 436.294442 \nL 1112.871165 436.294442 \nL 1112.871165 444.309602 \nL 1106.56964 444.309602 \nz\n\" style=\"fill:#f5b14c;\"/>\n   </g>\n   <g id=\"matplotlib.axis_1\">\n    <g id=\"xtick_1\">\n     <g id=\"line2d_1\">\n      <defs>\n       <path d=\"M 0 0 \nL 0 3.5 \n\" id=\"m3b5fe81e7c\" style=\"stroke:#000000;stroke-width:0.8;\"/>\n      </defs>\n      <g>\n       <use style=\"stroke:#000000;stroke-width:0.8;\" x=\"101.476473\" xlink:href=\"#m3b5fe81e7c\" y=\"464.076875\"/>\n      </g>\n     </g>\n     <g id=\"text_1\">\n      <!-- Southwest Airlines Co. -->\n      <g transform=\"translate(17.498738 482.474531)scale(0.15 -0.15)\">\n       <defs>\n        <path d=\"M 53.515625 70.515625 \nL 53.515625 60.890625 \nQ 47.90625 63.578125 42.921875 64.890625 \nQ 37.9375 66.21875 33.296875 66.21875 \nQ 25.25 66.21875 20.875 63.09375 \nQ 16.5 59.96875 16.5 54.203125 \nQ 16.5 49.359375 19.40625 46.890625 \nQ 22.3125 44.4375 30.421875 42.921875 \nL 36.375 41.703125 \nQ 47.40625 39.59375 52.65625 34.296875 \nQ 57.90625 29 57.90625 20.125 \nQ 57.90625 9.515625 50.796875 4.046875 \nQ 43.703125 -1.421875 29.984375 -1.421875 \nQ 24.8125 -1.421875 18.96875 -0.25 \nQ 13.140625 0.921875 6.890625 3.21875 \nL 6.890625 13.375 \nQ 12.890625 10.015625 18.65625 8.296875 \nQ 24.421875 6.59375 29.984375 6.59375 \nQ 38.421875 6.59375 43.015625 9.90625 \nQ 47.609375 13.234375 47.609375 19.390625 \nQ 47.609375 24.75 44.3125 27.78125 \nQ 41.015625 30.8125 33.5 32.328125 \nL 27.484375 33.5 \nQ 16.453125 35.6875 11.515625 40.375 \nQ 6.59375 45.0625 6.59375 53.421875 \nQ 6.59375 63.09375 13.40625 68.65625 \nQ 20.21875 74.21875 32.171875 74.21875 \nQ 37.3125 74.21875 42.625 73.28125 \nQ 47.953125 72.359375 53.515625 70.515625 \nz\n\" id=\"DejaVuSans-83\"/>\n        <path d=\"M 30.609375 48.390625 \nQ 23.390625 48.390625 19.1875 42.75 \nQ 14.984375 37.109375 14.984375 27.296875 \nQ 14.984375 17.484375 19.15625 11.84375 \nQ 23.34375 6.203125 30.609375 6.203125 \nQ 37.796875 6.203125 41.984375 11.859375 \nQ 46.1875 17.53125 46.1875 27.296875 \nQ 46.1875 37.015625 41.984375 42.703125 \nQ 37.796875 48.390625 30.609375 48.390625 \nz\nM 30.609375 56 \nQ 42.328125 56 49.015625 48.375 \nQ 55.71875 40.765625 55.71875 27.296875 \nQ 55.71875 13.875 49.015625 6.21875 \nQ 42.328125 -1.421875 30.609375 -1.421875 \nQ 18.84375 -1.421875 12.171875 6.21875 \nQ 5.515625 13.875 5.515625 27.296875 \nQ 5.515625 40.765625 12.171875 48.375 \nQ 18.84375 56 30.609375 56 \nz\n\" id=\"DejaVuSans-111\"/>\n        <path d=\"M 8.5 21.578125 \nL 8.5 54.6875 \nL 17.484375 54.6875 \nL 17.484375 21.921875 \nQ 17.484375 14.15625 20.5 10.265625 \nQ 23.53125 6.390625 29.59375 6.390625 \nQ 36.859375 6.390625 41.078125 11.03125 \nQ 45.3125 15.671875 45.3125 23.6875 \nL 45.3125 54.6875 \nL 54.296875 54.6875 \nL 54.296875 0 \nL 45.3125 0 \nL 45.3125 8.40625 \nQ 42.046875 3.421875 37.71875 1 \nQ 33.40625 -1.421875 27.6875 -1.421875 \nQ 18.265625 -1.421875 13.375 4.4375 \nQ 8.5 10.296875 8.5 21.578125 \nz\nM 31.109375 56 \nz\n\" id=\"DejaVuSans-117\"/>\n        <path d=\"M 18.3125 70.21875 \nL 18.3125 54.6875 \nL 36.8125 54.6875 \nL 36.8125 47.703125 \nL 18.3125 47.703125 \nL 18.3125 18.015625 \nQ 18.3125 11.328125 20.140625 9.421875 \nQ 21.96875 7.515625 27.59375 7.515625 \nL 36.8125 7.515625 \nL 36.8125 0 \nL 27.59375 0 \nQ 17.1875 0 13.234375 3.875 \nQ 9.28125 7.765625 9.28125 18.015625 \nL 9.28125 47.703125 \nL 2.6875 47.703125 \nL 2.6875 54.6875 \nL 9.28125 54.6875 \nL 9.28125 70.21875 \nz\n\" id=\"DejaVuSans-116\"/>\n        <path d=\"M 54.890625 33.015625 \nL 54.890625 0 \nL 45.90625 0 \nL 45.90625 32.71875 \nQ 45.90625 40.484375 42.875 44.328125 \nQ 39.84375 48.1875 33.796875 48.1875 \nQ 26.515625 48.1875 22.3125 43.546875 \nQ 18.109375 38.921875 18.109375 30.90625 \nL 18.109375 0 \nL 9.078125 0 \nL 9.078125 75.984375 \nL 18.109375 75.984375 \nL 18.109375 46.1875 \nQ 21.34375 51.125 25.703125 53.5625 \nQ 30.078125 56 35.796875 56 \nQ 45.21875 56 50.046875 50.171875 \nQ 54.890625 44.34375 54.890625 33.015625 \nz\n\" id=\"DejaVuSans-104\"/>\n        <path d=\"M 4.203125 54.6875 \nL 13.1875 54.6875 \nL 24.421875 12.015625 \nL 35.59375 54.6875 \nL 46.1875 54.6875 \nL 57.421875 12.015625 \nL 68.609375 54.6875 \nL 77.59375 54.6875 \nL 63.28125 0 \nL 52.6875 0 \nL 40.921875 44.828125 \nL 29.109375 0 \nL 18.5 0 \nz\n\" id=\"DejaVuSans-119\"/>\n        <path d=\"M 56.203125 29.59375 \nL 56.203125 25.203125 \nL 14.890625 25.203125 \nQ 15.484375 15.921875 20.484375 11.0625 \nQ 25.484375 6.203125 34.421875 6.203125 \nQ 39.59375 6.203125 44.453125 7.46875 \nQ 49.3125 8.734375 54.109375 11.28125 \nL 54.109375 2.78125 \nQ 49.265625 0.734375 44.1875 -0.34375 \nQ 39.109375 -1.421875 33.890625 -1.421875 \nQ 20.796875 -1.421875 13.15625 6.1875 \nQ 5.515625 13.8125 5.515625 26.8125 \nQ 5.515625 40.234375 12.765625 48.109375 \nQ 20.015625 56 32.328125 56 \nQ 43.359375 56 49.78125 48.890625 \nQ 56.203125 41.796875 56.203125 29.59375 \nz\nM 47.21875 32.234375 \nQ 47.125 39.59375 43.09375 43.984375 \nQ 39.0625 48.390625 32.421875 48.390625 \nQ 24.90625 48.390625 20.390625 44.140625 \nQ 15.875 39.890625 15.1875 32.171875 \nz\n\" id=\"DejaVuSans-101\"/>\n        <path d=\"M 44.28125 53.078125 \nL 44.28125 44.578125 \nQ 40.484375 46.53125 36.375 47.5 \nQ 32.28125 48.484375 27.875 48.484375 \nQ 21.1875 48.484375 17.84375 46.4375 \nQ 14.5 44.390625 14.5 40.28125 \nQ 14.5 37.15625 16.890625 35.375 \nQ 19.28125 33.59375 26.515625 31.984375 \nL 29.59375 31.296875 \nQ 39.15625 29.25 43.1875 25.515625 \nQ 47.21875 21.78125 47.21875 15.09375 \nQ 47.21875 7.46875 41.1875 3.015625 \nQ 35.15625 -1.421875 24.609375 -1.421875 \nQ 20.21875 -1.421875 15.453125 -0.5625 \nQ 10.6875 0.296875 5.421875 2 \nL 5.421875 11.28125 \nQ 10.40625 8.6875 15.234375 7.390625 \nQ 20.0625 6.109375 24.8125 6.109375 \nQ 31.15625 6.109375 34.5625 8.28125 \nQ 37.984375 10.453125 37.984375 14.40625 \nQ 37.984375 18.0625 35.515625 20.015625 \nQ 33.0625 21.96875 24.703125 23.78125 \nL 21.578125 24.515625 \nQ 13.234375 26.265625 9.515625 29.90625 \nQ 5.8125 33.546875 5.8125 39.890625 \nQ 5.8125 47.609375 11.28125 51.796875 \nQ 16.75 56 26.8125 56 \nQ 31.78125 56 36.171875 55.265625 \nQ 40.578125 54.546875 44.28125 53.078125 \nz\n\" id=\"DejaVuSans-115\"/>\n        <path id=\"DejaVuSans-32\"/>\n        <path d=\"M 34.1875 63.1875 \nL 20.796875 26.90625 \nL 47.609375 26.90625 \nz\nM 28.609375 72.90625 \nL 39.796875 72.90625 \nL 67.578125 0 \nL 57.328125 0 \nL 50.6875 18.703125 \nL 17.828125 18.703125 \nL 11.1875 0 \nL 0.78125 0 \nz\n\" id=\"DejaVuSans-65\"/>\n        <path d=\"M 9.421875 54.6875 \nL 18.40625 54.6875 \nL 18.40625 0 \nL 9.421875 0 \nz\nM 9.421875 75.984375 \nL 18.40625 75.984375 \nL 18.40625 64.59375 \nL 9.421875 64.59375 \nz\n\" id=\"DejaVuSans-105\"/>\n        <path d=\"M 41.109375 46.296875 \nQ 39.59375 47.171875 37.8125 47.578125 \nQ 36.03125 48 33.890625 48 \nQ 26.265625 48 22.1875 43.046875 \nQ 18.109375 38.09375 18.109375 28.8125 \nL 18.109375 0 \nL 9.078125 0 \nL 9.078125 54.6875 \nL 18.109375 54.6875 \nL 18.109375 46.1875 \nQ 20.953125 51.171875 25.484375 53.578125 \nQ 30.03125 56 36.53125 56 \nQ 37.453125 56 38.578125 55.875 \nQ 39.703125 55.765625 41.0625 55.515625 \nz\n\" id=\"DejaVuSans-114\"/>\n        <path d=\"M 9.421875 75.984375 \nL 18.40625 75.984375 \nL 18.40625 0 \nL 9.421875 0 \nz\n\" id=\"DejaVuSans-108\"/>\n        <path d=\"M 54.890625 33.015625 \nL 54.890625 0 \nL 45.90625 0 \nL 45.90625 32.71875 \nQ 45.90625 40.484375 42.875 44.328125 \nQ 39.84375 48.1875 33.796875 48.1875 \nQ 26.515625 48.1875 22.3125 43.546875 \nQ 18.109375 38.921875 18.109375 30.90625 \nL 18.109375 0 \nL 9.078125 0 \nL 9.078125 54.6875 \nL 18.109375 54.6875 \nL 18.109375 46.1875 \nQ 21.34375 51.125 25.703125 53.5625 \nQ 30.078125 56 35.796875 56 \nQ 45.21875 56 50.046875 50.171875 \nQ 54.890625 44.34375 54.890625 33.015625 \nz\n\" id=\"DejaVuSans-110\"/>\n        <path d=\"M 64.40625 67.28125 \nL 64.40625 56.890625 \nQ 59.421875 61.53125 53.78125 63.8125 \nQ 48.140625 66.109375 41.796875 66.109375 \nQ 29.296875 66.109375 22.65625 58.46875 \nQ 16.015625 50.828125 16.015625 36.375 \nQ 16.015625 21.96875 22.65625 14.328125 \nQ 29.296875 6.6875 41.796875 6.6875 \nQ 48.140625 6.6875 53.78125 8.984375 \nQ 59.421875 11.28125 64.40625 15.921875 \nL 64.40625 5.609375 \nQ 59.234375 2.09375 53.4375 0.328125 \nQ 47.65625 -1.421875 41.21875 -1.421875 \nQ 24.65625 -1.421875 15.125 8.703125 \nQ 5.609375 18.84375 5.609375 36.375 \nQ 5.609375 53.953125 15.125 64.078125 \nQ 24.65625 74.21875 41.21875 74.21875 \nQ 47.75 74.21875 53.53125 72.484375 \nQ 59.328125 70.75 64.40625 67.28125 \nz\n\" id=\"DejaVuSans-67\"/>\n        <path d=\"M 10.6875 12.40625 \nL 21 12.40625 \nL 21 0 \nL 10.6875 0 \nz\n\" id=\"DejaVuSans-46\"/>\n       </defs>\n       <use xlink:href=\"#DejaVuSans-83\"/>\n       <use x=\"63.476562\" xlink:href=\"#DejaVuSans-111\"/>\n       <use x=\"124.658203\" xlink:href=\"#DejaVuSans-117\"/>\n       <use x=\"188.037109\" xlink:href=\"#DejaVuSans-116\"/>\n       <use x=\"227.246094\" xlink:href=\"#DejaVuSans-104\"/>\n       <use x=\"290.625\" xlink:href=\"#DejaVuSans-119\"/>\n       <use x=\"372.412109\" xlink:href=\"#DejaVuSans-101\"/>\n       <use x=\"433.935547\" xlink:href=\"#DejaVuSans-115\"/>\n       <use x=\"486.035156\" xlink:href=\"#DejaVuSans-116\"/>\n       <use x=\"525.244141\" xlink:href=\"#DejaVuSans-32\"/>\n       <use x=\"557.03125\" xlink:href=\"#DejaVuSans-65\"/>\n       <use x=\"625.439453\" xlink:href=\"#DejaVuSans-105\"/>\n       <use x=\"653.222656\" xlink:href=\"#DejaVuSans-114\"/>\n       <use x=\"694.335938\" xlink:href=\"#DejaVuSans-108\"/>\n       <use x=\"722.119141\" xlink:href=\"#DejaVuSans-105\"/>\n       <use x=\"749.902344\" xlink:href=\"#DejaVuSans-110\"/>\n       <use x=\"813.28125\" xlink:href=\"#DejaVuSans-101\"/>\n       <use x=\"874.804688\" xlink:href=\"#DejaVuSans-115\"/>\n       <use x=\"926.904297\" xlink:href=\"#DejaVuSans-32\"/>\n       <use x=\"958.691406\" xlink:href=\"#DejaVuSans-67\"/>\n       <use x=\"1028.515625\" xlink:href=\"#DejaVuSans-111\"/>\n       <use x=\"1087.947266\" xlink:href=\"#DejaVuSans-46\"/>\n      </g>\n     </g>\n    </g>\n    <g id=\"xtick_2\">\n     <g id=\"line2d_2\">\n      <g>\n       <use style=\"stroke:#000000;stroke-width:0.8;\" x=\"109.353378\" xlink:href=\"#m3b5fe81e7c\" y=\"464.076875\"/>\n      </g>\n     </g>\n     <g id=\"text_2\">\n      <!-- Delta Air Lines Inc. -->\n      <g transform=\"translate(38.885019 482.474531)scale(0.15 -0.15)\">\n       <defs>\n        <path d=\"M 19.671875 64.796875 \nL 19.671875 8.109375 \nL 31.59375 8.109375 \nQ 46.6875 8.109375 53.6875 14.9375 \nQ 60.6875 21.78125 60.6875 36.53125 \nQ 60.6875 51.171875 53.6875 57.984375 \nQ 46.6875 64.796875 31.59375 64.796875 \nz\nM 9.8125 72.90625 \nL 30.078125 72.90625 \nQ 51.265625 72.90625 61.171875 64.09375 \nQ 71.09375 55.28125 71.09375 36.53125 \nQ 71.09375 17.671875 61.125 8.828125 \nQ 51.171875 0 30.078125 0 \nL 9.8125 0 \nz\n\" id=\"DejaVuSans-68\"/>\n        <path d=\"M 34.28125 27.484375 \nQ 23.390625 27.484375 19.1875 25 \nQ 14.984375 22.515625 14.984375 16.5 \nQ 14.984375 11.71875 18.140625 8.90625 \nQ 21.296875 6.109375 26.703125 6.109375 \nQ 34.1875 6.109375 38.703125 11.40625 \nQ 43.21875 16.703125 43.21875 25.484375 \nL 43.21875 27.484375 \nz\nM 52.203125 31.203125 \nL 52.203125 0 \nL 43.21875 0 \nL 43.21875 8.296875 \nQ 40.140625 3.328125 35.546875 0.953125 \nQ 30.953125 -1.421875 24.3125 -1.421875 \nQ 15.921875 -1.421875 10.953125 3.296875 \nQ 6 8.015625 6 15.921875 \nQ 6 25.140625 12.171875 29.828125 \nQ 18.359375 34.515625 30.609375 34.515625 \nL 43.21875 34.515625 \nL 43.21875 35.40625 \nQ 43.21875 41.609375 39.140625 45 \nQ 35.0625 48.390625 27.6875 48.390625 \nQ 23 48.390625 18.546875 47.265625 \nQ 14.109375 46.140625 10.015625 43.890625 \nL 10.015625 52.203125 \nQ 14.9375 54.109375 19.578125 55.046875 \nQ 24.21875 56 28.609375 56 \nQ 40.484375 56 46.34375 49.84375 \nQ 52.203125 43.703125 52.203125 31.203125 \nz\n\" id=\"DejaVuSans-97\"/>\n        <path d=\"M 9.8125 72.90625 \nL 19.671875 72.90625 \nL 19.671875 8.296875 \nL 55.171875 8.296875 \nL 55.171875 0 \nL 9.8125 0 \nz\n\" id=\"DejaVuSans-76\"/>\n        <path d=\"M 9.8125 72.90625 \nL 19.671875 72.90625 \nL 19.671875 0 \nL 9.8125 0 \nz\n\" id=\"DejaVuSans-73\"/>\n        <path d=\"M 48.78125 52.59375 \nL 48.78125 44.1875 \nQ 44.96875 46.296875 41.140625 47.34375 \nQ 37.3125 48.390625 33.40625 48.390625 \nQ 24.65625 48.390625 19.8125 42.84375 \nQ 14.984375 37.3125 14.984375 27.296875 \nQ 14.984375 17.28125 19.8125 11.734375 \nQ 24.65625 6.203125 33.40625 6.203125 \nQ 37.3125 6.203125 41.140625 7.25 \nQ 44.96875 8.296875 48.78125 10.40625 \nL 48.78125 2.09375 \nQ 45.015625 0.34375 40.984375 -0.53125 \nQ 36.96875 -1.421875 32.421875 -1.421875 \nQ 20.0625 -1.421875 12.78125 6.34375 \nQ 5.515625 14.109375 5.515625 27.296875 \nQ 5.515625 40.671875 12.859375 48.328125 \nQ 20.21875 56 33.015625 56 \nQ 37.15625 56 41.109375 55.140625 \nQ 45.0625 54.296875 48.78125 52.59375 \nz\n\" id=\"DejaVuSans-99\"/>\n       </defs>\n       <use xlink:href=\"#DejaVuSans-68\"/>\n       <use x=\"77.001953\" xlink:href=\"#DejaVuSans-101\"/>\n       <use x=\"138.525391\" xlink:href=\"#DejaVuSans-108\"/>\n       <use x=\"166.308594\" xlink:href=\"#DejaVuSans-116\"/>\n       <use x=\"205.517578\" xlink:href=\"#DejaVuSans-97\"/>\n       <use x=\"266.796875\" xlink:href=\"#DejaVuSans-32\"/>\n       <use x=\"298.583984\" xlink:href=\"#DejaVuSans-65\"/>\n       <use x=\"366.992188\" xlink:href=\"#DejaVuSans-105\"/>\n       <use x=\"394.775391\" xlink:href=\"#DejaVuSans-114\"/>\n       <use x=\"435.888672\" xlink:href=\"#DejaVuSans-32\"/>\n       <use x=\"467.675781\" xlink:href=\"#DejaVuSans-76\"/>\n       <use x=\"523.388672\" xlink:href=\"#DejaVuSans-105\"/>\n       <use x=\"551.171875\" xlink:href=\"#DejaVuSans-110\"/>\n       <use x=\"614.550781\" xlink:href=\"#DejaVuSans-101\"/>\n       <use x=\"676.074219\" xlink:href=\"#DejaVuSans-115\"/>\n       <use x=\"728.173828\" xlink:href=\"#DejaVuSans-32\"/>\n       <use x=\"759.960938\" xlink:href=\"#DejaVuSans-73\"/>\n       <use x=\"789.453125\" xlink:href=\"#DejaVuSans-110\"/>\n       <use x=\"852.832031\" xlink:href=\"#DejaVuSans-99\"/>\n       <use x=\"907.8125\" xlink:href=\"#DejaVuSans-46\"/>\n      </g>\n     </g>\n    </g>\n    <g id=\"xtick_3\">\n     <g id=\"line2d_3\">\n      <g>\n       <use style=\"stroke:#000000;stroke-width:0.8;\" x=\"117.230284\" xlink:href=\"#m3b5fe81e7c\" y=\"464.076875\"/>\n      </g>\n     </g>\n     <g id=\"text_3\">\n      <!-- United Air Lines Inc. -->\n      <g transform=\"translate(42.129503 482.474531)scale(0.15 -0.15)\">\n       <defs>\n        <path d=\"M 8.6875 72.90625 \nL 18.609375 72.90625 \nL 18.609375 28.609375 \nQ 18.609375 16.890625 22.84375 11.734375 \nQ 27.09375 6.59375 36.625 6.59375 \nQ 46.09375 6.59375 50.34375 11.734375 \nQ 54.59375 16.890625 54.59375 28.609375 \nL 54.59375 72.90625 \nL 64.5 72.90625 \nL 64.5 27.390625 \nQ 64.5 13.140625 57.4375 5.859375 \nQ 50.390625 -1.421875 36.625 -1.421875 \nQ 22.796875 -1.421875 15.734375 5.859375 \nQ 8.6875 13.140625 8.6875 27.390625 \nz\n\" id=\"DejaVuSans-85\"/>\n        <path d=\"M 45.40625 46.390625 \nL 45.40625 75.984375 \nL 54.390625 75.984375 \nL 54.390625 0 \nL 45.40625 0 \nL 45.40625 8.203125 \nQ 42.578125 3.328125 38.25 0.953125 \nQ 33.9375 -1.421875 27.875 -1.421875 \nQ 17.96875 -1.421875 11.734375 6.484375 \nQ 5.515625 14.40625 5.515625 27.296875 \nQ 5.515625 40.1875 11.734375 48.09375 \nQ 17.96875 56 27.875 56 \nQ 33.9375 56 38.25 53.625 \nQ 42.578125 51.265625 45.40625 46.390625 \nz\nM 14.796875 27.296875 \nQ 14.796875 17.390625 18.875 11.75 \nQ 22.953125 6.109375 30.078125 6.109375 \nQ 37.203125 6.109375 41.296875 11.75 \nQ 45.40625 17.390625 45.40625 27.296875 \nQ 45.40625 37.203125 41.296875 42.84375 \nQ 37.203125 48.484375 30.078125 48.484375 \nQ 22.953125 48.484375 18.875 42.84375 \nQ 14.796875 37.203125 14.796875 27.296875 \nz\n\" id=\"DejaVuSans-100\"/>\n       </defs>\n       <use xlink:href=\"#DejaVuSans-85\"/>\n       <use x=\"73.193359\" xlink:href=\"#DejaVuSans-110\"/>\n       <use x=\"136.572266\" xlink:href=\"#DejaVuSans-105\"/>\n       <use x=\"164.355469\" xlink:href=\"#DejaVuSans-116\"/>\n       <use x=\"203.564453\" xlink:href=\"#DejaVuSans-101\"/>\n       <use x=\"265.087891\" xlink:href=\"#DejaVuSans-100\"/>\n       <use x=\"328.564453\" xlink:href=\"#DejaVuSans-32\"/>\n       <use x=\"360.351562\" xlink:href=\"#DejaVuSans-65\"/>\n       <use x=\"428.759766\" xlink:href=\"#DejaVuSans-105\"/>\n       <use x=\"456.542969\" xlink:href=\"#DejaVuSans-114\"/>\n       <use x=\"497.65625\" xlink:href=\"#DejaVuSans-32\"/>\n       <use x=\"529.443359\" xlink:href=\"#DejaVuSans-76\"/>\n       <use x=\"585.15625\" xlink:href=\"#DejaVuSans-105\"/>\n       <use x=\"612.939453\" xlink:href=\"#DejaVuSans-110\"/>\n       <use x=\"676.318359\" xlink:href=\"#DejaVuSans-101\"/>\n       <use x=\"737.841797\" xlink:href=\"#DejaVuSans-115\"/>\n       <use x=\"789.941406\" xlink:href=\"#DejaVuSans-32\"/>\n       <use x=\"821.728516\" xlink:href=\"#DejaVuSans-73\"/>\n       <use x=\"851.220703\" xlink:href=\"#DejaVuSans-110\"/>\n       <use x=\"914.599609\" xlink:href=\"#DejaVuSans-99\"/>\n       <use x=\"969.580078\" xlink:href=\"#DejaVuSans-46\"/>\n      </g>\n     </g>\n    </g>\n    <g id=\"xtick_4\">\n     <g id=\"line2d_4\">\n      <g>\n       <use style=\"stroke:#000000;stroke-width:0.8;\" x=\"125.10719\" xlink:href=\"#m3b5fe81e7c\" y=\"464.076875\"/>\n      </g>\n     </g>\n     <g id=\"text_4\">\n      <!-- American Airlines Inc. -->\n      <g transform=\"translate(43.436877 482.474531)scale(0.15 -0.15)\">\n       <defs>\n        <path d=\"M 52 44.1875 \nQ 55.375 50.25 60.0625 53.125 \nQ 64.75 56 71.09375 56 \nQ 79.640625 56 84.28125 50.015625 \nQ 88.921875 44.046875 88.921875 33.015625 \nL 88.921875 0 \nL 79.890625 0 \nL 79.890625 32.71875 \nQ 79.890625 40.578125 77.09375 44.375 \nQ 74.3125 48.1875 68.609375 48.1875 \nQ 61.625 48.1875 57.5625 43.546875 \nQ 53.515625 38.921875 53.515625 30.90625 \nL 53.515625 0 \nL 44.484375 0 \nL 44.484375 32.71875 \nQ 44.484375 40.625 41.703125 44.40625 \nQ 38.921875 48.1875 33.109375 48.1875 \nQ 26.21875 48.1875 22.15625 43.53125 \nQ 18.109375 38.875 18.109375 30.90625 \nL 18.109375 0 \nL 9.078125 0 \nL 9.078125 54.6875 \nL 18.109375 54.6875 \nL 18.109375 46.1875 \nQ 21.1875 51.21875 25.484375 53.609375 \nQ 29.78125 56 35.6875 56 \nQ 41.65625 56 45.828125 52.96875 \nQ 50 49.953125 52 44.1875 \nz\n\" id=\"DejaVuSans-109\"/>\n       </defs>\n       <use xlink:href=\"#DejaVuSans-65\"/>\n       <use x=\"68.408203\" xlink:href=\"#DejaVuSans-109\"/>\n       <use x=\"165.820312\" xlink:href=\"#DejaVuSans-101\"/>\n       <use x=\"227.34375\" xlink:href=\"#DejaVuSans-114\"/>\n       <use x=\"268.457031\" xlink:href=\"#DejaVuSans-105\"/>\n       <use x=\"296.240234\" xlink:href=\"#DejaVuSans-99\"/>\n       <use x=\"351.220703\" xlink:href=\"#DejaVuSans-97\"/>\n       <use x=\"412.5\" xlink:href=\"#DejaVuSans-110\"/>\n       <use x=\"475.878906\" xlink:href=\"#DejaVuSans-32\"/>\n       <use x=\"507.666016\" xlink:href=\"#DejaVuSans-65\"/>\n       <use x=\"576.074219\" xlink:href=\"#DejaVuSans-105\"/>\n       <use x=\"603.857422\" xlink:href=\"#DejaVuSans-114\"/>\n       <use x=\"644.970703\" xlink:href=\"#DejaVuSans-108\"/>\n       <use x=\"672.753906\" xlink:href=\"#DejaVuSans-105\"/>\n       <use x=\"700.537109\" xlink:href=\"#DejaVuSans-110\"/>\n       <use x=\"763.916016\" xlink:href=\"#DejaVuSans-101\"/>\n       <use x=\"825.439453\" xlink:href=\"#DejaVuSans-115\"/>\n       <use x=\"877.539062\" xlink:href=\"#DejaVuSans-32\"/>\n       <use x=\"909.326172\" xlink:href=\"#DejaVuSans-73\"/>\n       <use x=\"938.818359\" xlink:href=\"#DejaVuSans-110\"/>\n       <use x=\"1002.197266\" xlink:href=\"#DejaVuSans-99\"/>\n       <use x=\"1057.177734\" xlink:href=\"#DejaVuSans-46\"/>\n      </g>\n     </g>\n    </g>\n    <g id=\"xtick_5\">\n     <g id=\"line2d_5\">\n      <g>\n       <use style=\"stroke:#000000;stroke-width:0.8;\" x=\"132.984095\" xlink:href=\"#m3b5fe81e7c\" y=\"464.076875\"/>\n      </g>\n     </g>\n     <g id=\"text_5\">\n      <!-- SkyWest Airlines Inc. -->\n      <g transform=\"translate(55.295814 482.474531)scale(0.15 -0.15)\">\n       <defs>\n        <path d=\"M 9.078125 75.984375 \nL 18.109375 75.984375 \nL 18.109375 31.109375 \nL 44.921875 54.6875 \nL 56.390625 54.6875 \nL 27.390625 29.109375 \nL 57.625 0 \nL 45.90625 0 \nL 18.109375 26.703125 \nL 18.109375 0 \nL 9.078125 0 \nz\n\" id=\"DejaVuSans-107\"/>\n        <path d=\"M 32.171875 -5.078125 \nQ 28.375 -14.84375 24.75 -17.8125 \nQ 21.140625 -20.796875 15.09375 -20.796875 \nL 7.90625 -20.796875 \nL 7.90625 -13.28125 \nL 13.1875 -13.28125 \nQ 16.890625 -13.28125 18.9375 -11.515625 \nQ 21 -9.765625 23.484375 -3.21875 \nL 25.09375 0.875 \nL 2.984375 54.6875 \nL 12.5 54.6875 \nL 29.59375 11.921875 \nL 46.6875 54.6875 \nL 56.203125 54.6875 \nz\n\" id=\"DejaVuSans-121\"/>\n        <path d=\"M 3.328125 72.90625 \nL 13.28125 72.90625 \nL 28.609375 11.28125 \nL 43.890625 72.90625 \nL 54.984375 72.90625 \nL 70.3125 11.28125 \nL 85.59375 72.90625 \nL 95.609375 72.90625 \nL 77.296875 0 \nL 64.890625 0 \nL 49.515625 63.28125 \nL 33.984375 0 \nL 21.578125 0 \nz\n\" id=\"DejaVuSans-87\"/>\n       </defs>\n       <use xlink:href=\"#DejaVuSans-83\"/>\n       <use x=\"63.476562\" xlink:href=\"#DejaVuSans-107\"/>\n       <use x=\"117.761719\" xlink:href=\"#DejaVuSans-121\"/>\n       <use x=\"176.941406\" xlink:href=\"#DejaVuSans-87\"/>\n       <use x=\"269.943359\" xlink:href=\"#DejaVuSans-101\"/>\n       <use x=\"331.466797\" xlink:href=\"#DejaVuSans-115\"/>\n       <use x=\"383.566406\" xlink:href=\"#DejaVuSans-116\"/>\n       <use x=\"422.775391\" xlink:href=\"#DejaVuSans-32\"/>\n       <use x=\"454.5625\" xlink:href=\"#DejaVuSans-65\"/>\n       <use x=\"522.970703\" xlink:href=\"#DejaVuSans-105\"/>\n       <use x=\"550.753906\" xlink:href=\"#DejaVuSans-114\"/>\n       <use x=\"591.867188\" xlink:href=\"#DejaVuSans-108\"/>\n       <use x=\"619.650391\" xlink:href=\"#DejaVuSans-105\"/>\n       <use x=\"647.433594\" xlink:href=\"#DejaVuSans-110\"/>\n       <use x=\"710.8125\" xlink:href=\"#DejaVuSans-101\"/>\n       <use x=\"772.335938\" xlink:href=\"#DejaVuSans-115\"/>\n       <use x=\"824.435547\" xlink:href=\"#DejaVuSans-32\"/>\n       <use x=\"856.222656\" xlink:href=\"#DejaVuSans-73\"/>\n       <use x=\"885.714844\" xlink:href=\"#DejaVuSans-110\"/>\n       <use x=\"949.09375\" xlink:href=\"#DejaVuSans-99\"/>\n       <use x=\"1004.074219\" xlink:href=\"#DejaVuSans-46\"/>\n      </g>\n     </g>\n    </g>\n    <g id=\"xtick_6\">\n     <g id=\"line2d_6\">\n      <g>\n       <use style=\"stroke:#000000;stroke-width:0.8;\" x=\"140.861001\" xlink:href=\"#m3b5fe81e7c\" y=\"464.076875\"/>\n      </g>\n     </g>\n     <g id=\"text_6\">\n      <!-- ExpressJet Airlines LLC -->\n      <g transform=\"translate(55.709048 482.474531)scale(0.15 -0.15)\">\n       <defs>\n        <path d=\"M 9.8125 72.90625 \nL 55.90625 72.90625 \nL 55.90625 64.59375 \nL 19.671875 64.59375 \nL 19.671875 43.015625 \nL 54.390625 43.015625 \nL 54.390625 34.71875 \nL 19.671875 34.71875 \nL 19.671875 8.296875 \nL 56.78125 8.296875 \nL 56.78125 0 \nL 9.8125 0 \nz\n\" id=\"DejaVuSans-69\"/>\n        <path d=\"M 54.890625 54.6875 \nL 35.109375 28.078125 \nL 55.90625 0 \nL 45.3125 0 \nL 29.390625 21.484375 \nL 13.484375 0 \nL 2.875 0 \nL 24.125 28.609375 \nL 4.6875 54.6875 \nL 15.28125 54.6875 \nL 29.78125 35.203125 \nL 44.28125 54.6875 \nz\n\" id=\"DejaVuSans-120\"/>\n        <path d=\"M 18.109375 8.203125 \nL 18.109375 -20.796875 \nL 9.078125 -20.796875 \nL 9.078125 54.6875 \nL 18.109375 54.6875 \nL 18.109375 46.390625 \nQ 20.953125 51.265625 25.265625 53.625 \nQ 29.59375 56 35.59375 56 \nQ 45.5625 56 51.78125 48.09375 \nQ 58.015625 40.1875 58.015625 27.296875 \nQ 58.015625 14.40625 51.78125 6.484375 \nQ 45.5625 -1.421875 35.59375 -1.421875 \nQ 29.59375 -1.421875 25.265625 0.953125 \nQ 20.953125 3.328125 18.109375 8.203125 \nz\nM 48.6875 27.296875 \nQ 48.6875 37.203125 44.609375 42.84375 \nQ 40.53125 48.484375 33.40625 48.484375 \nQ 26.265625 48.484375 22.1875 42.84375 \nQ 18.109375 37.203125 18.109375 27.296875 \nQ 18.109375 17.390625 22.1875 11.75 \nQ 26.265625 6.109375 33.40625 6.109375 \nQ 40.53125 6.109375 44.609375 11.75 \nQ 48.6875 17.390625 48.6875 27.296875 \nz\n\" id=\"DejaVuSans-112\"/>\n        <path d=\"M 9.8125 72.90625 \nL 19.671875 72.90625 \nL 19.671875 5.078125 \nQ 19.671875 -8.109375 14.671875 -14.0625 \nQ 9.671875 -20.015625 -1.421875 -20.015625 \nL -5.171875 -20.015625 \nL -5.171875 -11.71875 \nL -2.09375 -11.71875 \nQ 4.4375 -11.71875 7.125 -8.046875 \nQ 9.8125 -4.390625 9.8125 5.078125 \nz\n\" id=\"DejaVuSans-74\"/>\n       </defs>\n       <use xlink:href=\"#DejaVuSans-69\"/>\n       <use x=\"63.183594\" xlink:href=\"#DejaVuSans-120\"/>\n       <use x=\"122.363281\" xlink:href=\"#DejaVuSans-112\"/>\n       <use x=\"185.839844\" xlink:href=\"#DejaVuSans-114\"/>\n       <use x=\"224.703125\" xlink:href=\"#DejaVuSans-101\"/>\n       <use x=\"286.226562\" xlink:href=\"#DejaVuSans-115\"/>\n       <use x=\"338.326172\" xlink:href=\"#DejaVuSans-115\"/>\n       <use x=\"390.425781\" xlink:href=\"#DejaVuSans-74\"/>\n       <use x=\"419.917969\" xlink:href=\"#DejaVuSans-101\"/>\n       <use x=\"481.441406\" xlink:href=\"#DejaVuSans-116\"/>\n       <use x=\"520.650391\" xlink:href=\"#DejaVuSans-32\"/>\n       <use x=\"552.4375\" xlink:href=\"#DejaVuSans-65\"/>\n       <use x=\"620.845703\" xlink:href=\"#DejaVuSans-105\"/>\n       <use x=\"648.628906\" xlink:href=\"#DejaVuSans-114\"/>\n       <use x=\"689.742188\" xlink:href=\"#DejaVuSans-108\"/>\n       <use x=\"717.525391\" xlink:href=\"#DejaVuSans-105\"/>\n       <use x=\"745.308594\" xlink:href=\"#DejaVuSans-110\"/>\n       <use x=\"808.6875\" xlink:href=\"#DejaVuSans-101\"/>\n       <use x=\"870.210938\" xlink:href=\"#DejaVuSans-115\"/>\n       <use x=\"922.310547\" xlink:href=\"#DejaVuSans-32\"/>\n       <use x=\"954.097656\" xlink:href=\"#DejaVuSans-76\"/>\n       <use x=\"1009.810547\" xlink:href=\"#DejaVuSans-76\"/>\n       <use x=\"1065.523438\" xlink:href=\"#DejaVuSans-67\"/>\n      </g>\n     </g>\n    </g>\n    <g id=\"xtick_7\">\n     <g id=\"line2d_7\">\n      <g>\n       <use style=\"stroke:#000000;stroke-width:0.8;\" x=\"148.737907\" xlink:href=\"#m3b5fe81e7c\" y=\"464.076875\"/>\n      </g>\n     </g>\n     <g id=\"text_7\">\n      <!-- Alaska Airlines Inc. -->\n      <g transform=\"translate(78.233219 482.474531)scale(0.15 -0.15)\">\n       <use xlink:href=\"#DejaVuSans-65\"/>\n       <use x=\"68.408203\" xlink:href=\"#DejaVuSans-108\"/>\n       <use x=\"96.191406\" xlink:href=\"#DejaVuSans-97\"/>\n       <use x=\"157.470703\" xlink:href=\"#DejaVuSans-115\"/>\n       <use x=\"209.570312\" xlink:href=\"#DejaVuSans-107\"/>\n       <use x=\"265.730469\" xlink:href=\"#DejaVuSans-97\"/>\n       <use x=\"327.009766\" xlink:href=\"#DejaVuSans-32\"/>\n       <use x=\"358.796875\" xlink:href=\"#DejaVuSans-65\"/>\n       <use x=\"427.205078\" xlink:href=\"#DejaVuSans-105\"/>\n       <use x=\"454.988281\" xlink:href=\"#DejaVuSans-114\"/>\n       <use x=\"496.101562\" xlink:href=\"#DejaVuSans-108\"/>\n       <use x=\"523.884766\" xlink:href=\"#DejaVuSans-105\"/>\n       <use x=\"551.667969\" xlink:href=\"#DejaVuSans-110\"/>\n       <use x=\"615.046875\" xlink:href=\"#DejaVuSans-101\"/>\n       <use x=\"676.570312\" xlink:href=\"#DejaVuSans-115\"/>\n       <use x=\"728.669922\" xlink:href=\"#DejaVuSans-32\"/>\n       <use x=\"760.457031\" xlink:href=\"#DejaVuSans-73\"/>\n       <use x=\"789.949219\" xlink:href=\"#DejaVuSans-110\"/>\n       <use x=\"853.328125\" xlink:href=\"#DejaVuSans-99\"/>\n       <use x=\"908.308594\" xlink:href=\"#DejaVuSans-46\"/>\n      </g>\n     </g>\n    </g>\n    <g id=\"xtick_8\">\n     <g id=\"line2d_8\">\n      <g>\n       <use style=\"stroke:#000000;stroke-width:0.8;\" x=\"156.614812\" xlink:href=\"#m3b5fe81e7c\" y=\"464.076875\"/>\n      </g>\n     </g>\n     <g id=\"text_8\">\n      <!-- Allegiant Air -->\n      <g transform=\"translate(110.887078 482.474531)scale(0.15 -0.15)\">\n       <defs>\n        <path d=\"M 45.40625 27.984375 \nQ 45.40625 37.75 41.375 43.109375 \nQ 37.359375 48.484375 30.078125 48.484375 \nQ 22.859375 48.484375 18.828125 43.109375 \nQ 14.796875 37.75 14.796875 27.984375 \nQ 14.796875 18.265625 18.828125 12.890625 \nQ 22.859375 7.515625 30.078125 7.515625 \nQ 37.359375 7.515625 41.375 12.890625 \nQ 45.40625 18.265625 45.40625 27.984375 \nz\nM 54.390625 6.78125 \nQ 54.390625 -7.171875 48.1875 -13.984375 \nQ 42 -20.796875 29.203125 -20.796875 \nQ 24.46875 -20.796875 20.265625 -20.09375 \nQ 16.0625 -19.390625 12.109375 -17.921875 \nL 12.109375 -9.1875 \nQ 16.0625 -11.328125 19.921875 -12.34375 \nQ 23.78125 -13.375 27.78125 -13.375 \nQ 36.625 -13.375 41.015625 -8.765625 \nQ 45.40625 -4.15625 45.40625 5.171875 \nL 45.40625 9.625 \nQ 42.625 4.78125 38.28125 2.390625 \nQ 33.9375 0 27.875 0 \nQ 17.828125 0 11.671875 7.65625 \nQ 5.515625 15.328125 5.515625 27.984375 \nQ 5.515625 40.671875 11.671875 48.328125 \nQ 17.828125 56 27.875 56 \nQ 33.9375 56 38.28125 53.609375 \nQ 42.625 51.21875 45.40625 46.390625 \nL 45.40625 54.6875 \nL 54.390625 54.6875 \nz\n\" id=\"DejaVuSans-103\"/>\n       </defs>\n       <use xlink:href=\"#DejaVuSans-65\"/>\n       <use x=\"68.408203\" xlink:href=\"#DejaVuSans-108\"/>\n       <use x=\"96.191406\" xlink:href=\"#DejaVuSans-108\"/>\n       <use x=\"123.974609\" xlink:href=\"#DejaVuSans-101\"/>\n       <use x=\"185.498047\" xlink:href=\"#DejaVuSans-103\"/>\n       <use x=\"248.974609\" xlink:href=\"#DejaVuSans-105\"/>\n       <use x=\"276.757812\" xlink:href=\"#DejaVuSans-97\"/>\n       <use x=\"338.037109\" xlink:href=\"#DejaVuSans-110\"/>\n       <use x=\"401.416016\" xlink:href=\"#DejaVuSans-116\"/>\n       <use x=\"440.625\" xlink:href=\"#DejaVuSans-32\"/>\n       <use x=\"472.412109\" xlink:href=\"#DejaVuSans-65\"/>\n       <use x=\"540.820312\" xlink:href=\"#DejaVuSans-105\"/>\n       <use x=\"568.603516\" xlink:href=\"#DejaVuSans-114\"/>\n      </g>\n     </g>\n    </g>\n    <g id=\"xtick_9\">\n     <g id=\"line2d_9\">\n      <g>\n       <use style=\"stroke:#000000;stroke-width:0.8;\" x=\"164.491718\" xlink:href=\"#m3b5fe81e7c\" y=\"464.076875\"/>\n      </g>\n     </g>\n     <g id=\"text_9\">\n      <!-- Republic Airline -->\n      <g transform=\"translate(106.220234 482.474531)scale(0.15 -0.15)\">\n       <defs>\n        <path d=\"M 44.390625 34.1875 \nQ 47.5625 33.109375 50.5625 29.59375 \nQ 53.5625 26.078125 56.59375 19.921875 \nL 66.609375 0 \nL 56 0 \nL 46.6875 18.703125 \nQ 43.0625 26.03125 39.671875 28.421875 \nQ 36.28125 30.8125 30.421875 30.8125 \nL 19.671875 30.8125 \nL 19.671875 0 \nL 9.8125 0 \nL 9.8125 72.90625 \nL 32.078125 72.90625 \nQ 44.578125 72.90625 50.734375 67.671875 \nQ 56.890625 62.453125 56.890625 51.90625 \nQ 56.890625 45.015625 53.6875 40.46875 \nQ 50.484375 35.9375 44.390625 34.1875 \nz\nM 19.671875 64.796875 \nL 19.671875 38.921875 \nL 32.078125 38.921875 \nQ 39.203125 38.921875 42.84375 42.21875 \nQ 46.484375 45.515625 46.484375 51.90625 \nQ 46.484375 58.296875 42.84375 61.546875 \nQ 39.203125 64.796875 32.078125 64.796875 \nz\n\" id=\"DejaVuSans-82\"/>\n        <path d=\"M 48.6875 27.296875 \nQ 48.6875 37.203125 44.609375 42.84375 \nQ 40.53125 48.484375 33.40625 48.484375 \nQ 26.265625 48.484375 22.1875 42.84375 \nQ 18.109375 37.203125 18.109375 27.296875 \nQ 18.109375 17.390625 22.1875 11.75 \nQ 26.265625 6.109375 33.40625 6.109375 \nQ 40.53125 6.109375 44.609375 11.75 \nQ 48.6875 17.390625 48.6875 27.296875 \nz\nM 18.109375 46.390625 \nQ 20.953125 51.265625 25.265625 53.625 \nQ 29.59375 56 35.59375 56 \nQ 45.5625 56 51.78125 48.09375 \nQ 58.015625 40.1875 58.015625 27.296875 \nQ 58.015625 14.40625 51.78125 6.484375 \nQ 45.5625 -1.421875 35.59375 -1.421875 \nQ 29.59375 -1.421875 25.265625 0.953125 \nQ 20.953125 3.328125 18.109375 8.203125 \nL 18.109375 0 \nL 9.078125 0 \nL 9.078125 75.984375 \nL 18.109375 75.984375 \nz\n\" id=\"DejaVuSans-98\"/>\n       </defs>\n       <use xlink:href=\"#DejaVuSans-82\"/>\n       <use x=\"64.982422\" xlink:href=\"#DejaVuSans-101\"/>\n       <use x=\"126.505859\" xlink:href=\"#DejaVuSans-112\"/>\n       <use x=\"189.982422\" xlink:href=\"#DejaVuSans-117\"/>\n       <use x=\"253.361328\" xlink:href=\"#DejaVuSans-98\"/>\n       <use x=\"316.837891\" xlink:href=\"#DejaVuSans-108\"/>\n       <use x=\"344.621094\" xlink:href=\"#DejaVuSans-105\"/>\n       <use x=\"372.404297\" xlink:href=\"#DejaVuSans-99\"/>\n       <use x=\"427.384766\" xlink:href=\"#DejaVuSans-32\"/>\n       <use x=\"459.171875\" xlink:href=\"#DejaVuSans-65\"/>\n       <use x=\"527.580078\" xlink:href=\"#DejaVuSans-105\"/>\n       <use x=\"555.363281\" xlink:href=\"#DejaVuSans-114\"/>\n       <use x=\"596.476562\" xlink:href=\"#DejaVuSans-108\"/>\n       <use x=\"624.259766\" xlink:href=\"#DejaVuSans-105\"/>\n       <use x=\"652.042969\" xlink:href=\"#DejaVuSans-110\"/>\n       <use x=\"715.421875\" xlink:href=\"#DejaVuSans-101\"/>\n      </g>\n     </g>\n    </g>\n    <g id=\"xtick_10\">\n     <g id=\"line2d_10\">\n      <g>\n       <use style=\"stroke:#000000;stroke-width:0.8;\" x=\"172.368624\" xlink:href=\"#m3b5fe81e7c\" y=\"464.076875\"/>\n      </g>\n     </g>\n     <g id=\"text_10\">\n      <!-- JetBlue Airways -->\n      <g transform=\"translate(114.247139 482.474531)scale(0.15 -0.15)\">\n       <defs>\n        <path d=\"M 19.671875 34.8125 \nL 19.671875 8.109375 \nL 35.5 8.109375 \nQ 43.453125 8.109375 47.28125 11.40625 \nQ 51.125 14.703125 51.125 21.484375 \nQ 51.125 28.328125 47.28125 31.5625 \nQ 43.453125 34.8125 35.5 34.8125 \nz\nM 19.671875 64.796875 \nL 19.671875 42.828125 \nL 34.28125 42.828125 \nQ 41.5 42.828125 45.03125 45.53125 \nQ 48.578125 48.25 48.578125 53.8125 \nQ 48.578125 59.328125 45.03125 62.0625 \nQ 41.5 64.796875 34.28125 64.796875 \nz\nM 9.8125 72.90625 \nL 35.015625 72.90625 \nQ 46.296875 72.90625 52.390625 68.21875 \nQ 58.5 63.53125 58.5 54.890625 \nQ 58.5 48.1875 55.375 44.234375 \nQ 52.25 40.28125 46.1875 39.3125 \nQ 53.46875 37.75 57.5 32.78125 \nQ 61.53125 27.828125 61.53125 20.40625 \nQ 61.53125 10.640625 54.890625 5.3125 \nQ 48.25 0 35.984375 0 \nL 9.8125 0 \nz\n\" id=\"DejaVuSans-66\"/>\n       </defs>\n       <use xlink:href=\"#DejaVuSans-74\"/>\n       <use x=\"29.492188\" xlink:href=\"#DejaVuSans-101\"/>\n       <use x=\"91.015625\" xlink:href=\"#DejaVuSans-116\"/>\n       <use x=\"130.224609\" xlink:href=\"#DejaVuSans-66\"/>\n       <use x=\"198.828125\" xlink:href=\"#DejaVuSans-108\"/>\n       <use x=\"226.611328\" xlink:href=\"#DejaVuSans-117\"/>\n       <use x=\"289.990234\" xlink:href=\"#DejaVuSans-101\"/>\n       <use x=\"351.513672\" xlink:href=\"#DejaVuSans-32\"/>\n       <use x=\"383.300781\" xlink:href=\"#DejaVuSans-65\"/>\n       <use x=\"451.708984\" xlink:href=\"#DejaVuSans-105\"/>\n       <use x=\"479.492188\" xlink:href=\"#DejaVuSans-114\"/>\n       <use x=\"520.605469\" xlink:href=\"#DejaVuSans-119\"/>\n       <use x=\"602.392578\" xlink:href=\"#DejaVuSans-97\"/>\n       <use x=\"663.671875\" xlink:href=\"#DejaVuSans-121\"/>\n       <use x=\"722.851562\" xlink:href=\"#DejaVuSans-115\"/>\n      </g>\n     </g>\n    </g>\n    <g id=\"xtick_11\">\n     <g id=\"line2d_11\">\n      <g>\n       <use style=\"stroke:#000000;stroke-width:0.8;\" x=\"180.24553\" xlink:href=\"#m3b5fe81e7c\" y=\"464.076875\"/>\n      </g>\n     </g>\n     <g id=\"text_11\">\n      <!-- Envoy Air -->\n      <g transform=\"translate(144.605295 482.474531)scale(0.15 -0.15)\">\n       <defs>\n        <path d=\"M 2.984375 54.6875 \nL 12.5 54.6875 \nL 29.59375 8.796875 \nL 46.6875 54.6875 \nL 56.203125 54.6875 \nL 35.6875 0 \nL 23.484375 0 \nz\n\" id=\"DejaVuSans-118\"/>\n       </defs>\n       <use xlink:href=\"#DejaVuSans-69\"/>\n       <use x=\"63.183594\" xlink:href=\"#DejaVuSans-110\"/>\n       <use x=\"126.5625\" xlink:href=\"#DejaVuSans-118\"/>\n       <use x=\"185.742188\" xlink:href=\"#DejaVuSans-111\"/>\n       <use x=\"246.923828\" xlink:href=\"#DejaVuSans-121\"/>\n       <use x=\"306.103516\" xlink:href=\"#DejaVuSans-32\"/>\n       <use x=\"337.890625\" xlink:href=\"#DejaVuSans-65\"/>\n       <use x=\"406.298828\" xlink:href=\"#DejaVuSans-105\"/>\n       <use x=\"434.082031\" xlink:href=\"#DejaVuSans-114\"/>\n      </g>\n     </g>\n    </g>\n    <g id=\"xtick_12\">\n     <g id=\"line2d_12\">\n      <g>\n       <use style=\"stroke:#000000;stroke-width:0.8;\" x=\"188.122435\" xlink:href=\"#m3b5fe81e7c\" y=\"464.076875\"/>\n      </g>\n     </g>\n     <g id=\"text_12\">\n      <!-- Spirit Air Lines -->\n      <g transform=\"translate(133.807201 482.474531)scale(0.15 -0.15)\">\n       <use xlink:href=\"#DejaVuSans-83\"/>\n       <use x=\"63.476562\" xlink:href=\"#DejaVuSans-112\"/>\n       <use x=\"126.953125\" xlink:href=\"#DejaVuSans-105\"/>\n       <use x=\"154.736328\" xlink:href=\"#DejaVuSans-114\"/>\n       <use x=\"195.849609\" xlink:href=\"#DejaVuSans-105\"/>\n       <use x=\"223.632812\" xlink:href=\"#DejaVuSans-116\"/>\n       <use x=\"262.841797\" xlink:href=\"#DejaVuSans-32\"/>\n       <use x=\"294.628906\" xlink:href=\"#DejaVuSans-65\"/>\n       <use x=\"363.037109\" xlink:href=\"#DejaVuSans-105\"/>\n       <use x=\"390.820312\" xlink:href=\"#DejaVuSans-114\"/>\n       <use x=\"431.933594\" xlink:href=\"#DejaVuSans-32\"/>\n       <use x=\"463.720703\" xlink:href=\"#DejaVuSans-76\"/>\n       <use x=\"519.433594\" xlink:href=\"#DejaVuSans-105\"/>\n       <use x=\"547.216797\" xlink:href=\"#DejaVuSans-110\"/>\n       <use x=\"610.595703\" xlink:href=\"#DejaVuSans-101\"/>\n       <use x=\"672.119141\" xlink:href=\"#DejaVuSans-115\"/>\n      </g>\n     </g>\n    </g>\n    <g id=\"xtick_13\">\n     <g id=\"line2d_13\">\n      <g>\n       <use style=\"stroke:#000000;stroke-width:0.8;\" x=\"195.999341\" xlink:href=\"#m3b5fe81e7c\" y=\"464.076875\"/>\n      </g>\n     </g>\n     <g id=\"text_13\">\n      <!-- Frontier Airlines Inc. -->\n      <g transform=\"translate(121.271216 482.474531)scale(0.15 -0.15)\">\n       <defs>\n        <path d=\"M 9.8125 72.90625 \nL 51.703125 72.90625 \nL 51.703125 64.59375 \nL 19.671875 64.59375 \nL 19.671875 43.109375 \nL 48.578125 43.109375 \nL 48.578125 34.8125 \nL 19.671875 34.8125 \nL 19.671875 0 \nL 9.8125 0 \nz\n\" id=\"DejaVuSans-70\"/>\n       </defs>\n       <use xlink:href=\"#DejaVuSans-70\"/>\n       <use x=\"50.269531\" xlink:href=\"#DejaVuSans-114\"/>\n       <use x=\"89.132812\" xlink:href=\"#DejaVuSans-111\"/>\n       <use x=\"150.314453\" xlink:href=\"#DejaVuSans-110\"/>\n       <use x=\"213.693359\" xlink:href=\"#DejaVuSans-116\"/>\n       <use x=\"252.902344\" xlink:href=\"#DejaVuSans-105\"/>\n       <use x=\"280.685547\" xlink:href=\"#DejaVuSans-101\"/>\n       <use x=\"342.208984\" xlink:href=\"#DejaVuSans-114\"/>\n       <use x=\"383.322266\" xlink:href=\"#DejaVuSans-32\"/>\n       <use x=\"415.109375\" xlink:href=\"#DejaVuSans-65\"/>\n       <use x=\"483.517578\" xlink:href=\"#DejaVuSans-105\"/>\n       <use x=\"511.300781\" xlink:href=\"#DejaVuSans-114\"/>\n       <use x=\"552.414062\" xlink:href=\"#DejaVuSans-108\"/>\n       <use x=\"580.197266\" xlink:href=\"#DejaVuSans-105\"/>\n       <use x=\"607.980469\" xlink:href=\"#DejaVuSans-110\"/>\n       <use x=\"671.359375\" xlink:href=\"#DejaVuSans-101\"/>\n       <use x=\"732.882812\" xlink:href=\"#DejaVuSans-115\"/>\n       <use x=\"784.982422\" xlink:href=\"#DejaVuSans-32\"/>\n       <use x=\"816.769531\" xlink:href=\"#DejaVuSans-73\"/>\n       <use x=\"846.261719\" xlink:href=\"#DejaVuSans-110\"/>\n       <use x=\"909.640625\" xlink:href=\"#DejaVuSans-99\"/>\n       <use x=\"964.621094\" xlink:href=\"#DejaVuSans-46\"/>\n      </g>\n     </g>\n    </g>\n    <g id=\"xtick_14\">\n     <g id=\"line2d_14\">\n      <g>\n       <use style=\"stroke:#000000;stroke-width:0.8;\" x=\"203.876247\" xlink:href=\"#m3b5fe81e7c\" y=\"464.076875\"/>\n      </g>\n     </g>\n     <g id=\"text_14\">\n      <!-- Endeavor Air Inc. -->\n      <g transform=\"translate(139.762965 482.474531)scale(0.15 -0.15)\">\n       <use xlink:href=\"#DejaVuSans-69\"/>\n       <use x=\"63.183594\" xlink:href=\"#DejaVuSans-110\"/>\n       <use x=\"126.5625\" xlink:href=\"#DejaVuSans-100\"/>\n       <use x=\"190.039062\" xlink:href=\"#DejaVuSans-101\"/>\n       <use x=\"251.5625\" xlink:href=\"#DejaVuSans-97\"/>\n       <use x=\"312.841797\" xlink:href=\"#DejaVuSans-118\"/>\n       <use x=\"372.021484\" xlink:href=\"#DejaVuSans-111\"/>\n       <use x=\"433.203125\" xlink:href=\"#DejaVuSans-114\"/>\n       <use x=\"474.316406\" xlink:href=\"#DejaVuSans-32\"/>\n       <use x=\"506.103516\" xlink:href=\"#DejaVuSans-65\"/>\n       <use x=\"574.511719\" xlink:href=\"#DejaVuSans-105\"/>\n       <use x=\"602.294922\" xlink:href=\"#DejaVuSans-114\"/>\n       <use x=\"643.408203\" xlink:href=\"#DejaVuSans-32\"/>\n       <use x=\"675.195312\" xlink:href=\"#DejaVuSans-73\"/>\n       <use x=\"704.6875\" xlink:href=\"#DejaVuSans-110\"/>\n       <use x=\"768.066406\" xlink:href=\"#DejaVuSans-99\"/>\n       <use x=\"823.046875\" xlink:href=\"#DejaVuSans-46\"/>\n      </g>\n     </g>\n    </g>\n    <g id=\"xtick_15\">\n     <g id=\"line2d_15\">\n      <g>\n       <use style=\"stroke:#000000;stroke-width:0.8;\" x=\"211.753152\" xlink:href=\"#m3b5fe81e7c\" y=\"464.076875\"/>\n      </g>\n     </g>\n     <g id=\"text_15\">\n      <!-- PSA Airlines Inc. -->\n      <g transform=\"translate(151.218777 482.474531)scale(0.15 -0.15)\">\n       <defs>\n        <path d=\"M 19.671875 64.796875 \nL 19.671875 37.40625 \nL 32.078125 37.40625 \nQ 38.96875 37.40625 42.71875 40.96875 \nQ 46.484375 44.53125 46.484375 51.125 \nQ 46.484375 57.671875 42.71875 61.234375 \nQ 38.96875 64.796875 32.078125 64.796875 \nz\nM 9.8125 72.90625 \nL 32.078125 72.90625 \nQ 44.34375 72.90625 50.609375 67.359375 \nQ 56.890625 61.8125 56.890625 51.125 \nQ 56.890625 40.328125 50.609375 34.8125 \nQ 44.34375 29.296875 32.078125 29.296875 \nL 19.671875 29.296875 \nL 19.671875 0 \nL 9.8125 0 \nz\n\" id=\"DejaVuSans-80\"/>\n       </defs>\n       <use xlink:href=\"#DejaVuSans-80\"/>\n       <use x=\"60.302734\" xlink:href=\"#DejaVuSans-83\"/>\n       <use x=\"125.654297\" xlink:href=\"#DejaVuSans-65\"/>\n       <use x=\"194.0625\" xlink:href=\"#DejaVuSans-32\"/>\n       <use x=\"225.849609\" xlink:href=\"#DejaVuSans-65\"/>\n       <use x=\"294.257812\" xlink:href=\"#DejaVuSans-105\"/>\n       <use x=\"322.041016\" xlink:href=\"#DejaVuSans-114\"/>\n       <use x=\"363.154297\" xlink:href=\"#DejaVuSans-108\"/>\n       <use x=\"390.9375\" xlink:href=\"#DejaVuSans-105\"/>\n       <use x=\"418.720703\" xlink:href=\"#DejaVuSans-110\"/>\n       <use x=\"482.099609\" xlink:href=\"#DejaVuSans-101\"/>\n       <use x=\"543.623047\" xlink:href=\"#DejaVuSans-115\"/>\n       <use x=\"595.722656\" xlink:href=\"#DejaVuSans-32\"/>\n       <use x=\"627.509766\" xlink:href=\"#DejaVuSans-73\"/>\n       <use x=\"657.001953\" xlink:href=\"#DejaVuSans-110\"/>\n       <use x=\"720.380859\" xlink:href=\"#DejaVuSans-99\"/>\n       <use x=\"775.361328\" xlink:href=\"#DejaVuSans-46\"/>\n      </g>\n     </g>\n    </g>\n    <g id=\"xtick_16\">\n     <g id=\"line2d_16\">\n      <g>\n       <use style=\"stroke:#000000;stroke-width:0.8;\" x=\"219.630058\" xlink:href=\"#m3b5fe81e7c\" y=\"464.076875\"/>\n      </g>\n     </g>\n     <g id=\"text_16\">\n      <!-- US Airways Inc. -->\n      <g transform=\"translate(161.766386 482.474531)scale(0.15 -0.15)\">\n       <use xlink:href=\"#DejaVuSans-85\"/>\n       <use x=\"73.193359\" xlink:href=\"#DejaVuSans-83\"/>\n       <use x=\"136.669922\" xlink:href=\"#DejaVuSans-32\"/>\n       <use x=\"168.457031\" xlink:href=\"#DejaVuSans-65\"/>\n       <use x=\"236.865234\" xlink:href=\"#DejaVuSans-105\"/>\n       <use x=\"264.648438\" xlink:href=\"#DejaVuSans-114\"/>\n       <use x=\"305.761719\" xlink:href=\"#DejaVuSans-119\"/>\n       <use x=\"387.548828\" xlink:href=\"#DejaVuSans-97\"/>\n       <use x=\"448.828125\" xlink:href=\"#DejaVuSans-121\"/>\n       <use x=\"508.007812\" xlink:href=\"#DejaVuSans-115\"/>\n       <use x=\"560.107422\" xlink:href=\"#DejaVuSans-32\"/>\n       <use x=\"591.894531\" xlink:href=\"#DejaVuSans-73\"/>\n       <use x=\"621.386719\" xlink:href=\"#DejaVuSans-110\"/>\n       <use x=\"684.765625\" xlink:href=\"#DejaVuSans-99\"/>\n       <use x=\"739.746094\" xlink:href=\"#DejaVuSans-46\"/>\n      </g>\n     </g>\n    </g>\n    <g id=\"xtick_17\">\n     <g id=\"line2d_17\">\n      <g>\n       <use style=\"stroke:#000000;stroke-width:0.8;\" x=\"227.506964\" xlink:href=\"#m3b5fe81e7c\" y=\"464.076875\"/>\n      </g>\n     </g>\n     <g id=\"text_17\">\n      <!-- Mesa Airlines Inc. -->\n      <g transform=\"translate(161.938214 482.474531)scale(0.15 -0.15)\">\n       <defs>\n        <path d=\"M 9.8125 72.90625 \nL 24.515625 72.90625 \nL 43.109375 23.296875 \nL 61.8125 72.90625 \nL 76.515625 72.90625 \nL 76.515625 0 \nL 66.890625 0 \nL 66.890625 64.015625 \nL 48.09375 14.015625 \nL 38.1875 14.015625 \nL 19.390625 64.015625 \nL 19.390625 0 \nL 9.8125 0 \nz\n\" id=\"DejaVuSans-77\"/>\n       </defs>\n       <use xlink:href=\"#DejaVuSans-77\"/>\n       <use x=\"86.279297\" xlink:href=\"#DejaVuSans-101\"/>\n       <use x=\"147.802734\" xlink:href=\"#DejaVuSans-115\"/>\n       <use x=\"199.902344\" xlink:href=\"#DejaVuSans-97\"/>\n       <use x=\"261.181641\" xlink:href=\"#DejaVuSans-32\"/>\n       <use x=\"292.96875\" xlink:href=\"#DejaVuSans-65\"/>\n       <use x=\"361.376953\" xlink:href=\"#DejaVuSans-105\"/>\n       <use x=\"389.160156\" xlink:href=\"#DejaVuSans-114\"/>\n       <use x=\"430.273438\" xlink:href=\"#DejaVuSans-108\"/>\n       <use x=\"458.056641\" xlink:href=\"#DejaVuSans-105\"/>\n       <use x=\"485.839844\" xlink:href=\"#DejaVuSans-110\"/>\n       <use x=\"549.21875\" xlink:href=\"#DejaVuSans-101\"/>\n       <use x=\"610.742188\" xlink:href=\"#DejaVuSans-115\"/>\n       <use x=\"662.841797\" xlink:href=\"#DejaVuSans-32\"/>\n       <use x=\"694.628906\" xlink:href=\"#DejaVuSans-73\"/>\n       <use x=\"724.121094\" xlink:href=\"#DejaVuSans-110\"/>\n       <use x=\"787.5\" xlink:href=\"#DejaVuSans-99\"/>\n       <use x=\"842.480469\" xlink:href=\"#DejaVuSans-46\"/>\n      </g>\n     </g>\n    </g>\n    <g id=\"xtick_18\">\n     <g id=\"line2d_18\">\n      <g>\n       <use style=\"stroke:#000000;stroke-width:0.8;\" x=\"235.383869\" xlink:href=\"#m3b5fe81e7c\" y=\"464.076875\"/>\n      </g>\n     </g>\n     <g id=\"text_18\">\n      <!-- Shuttle America Corp. -->\n      <g transform=\"translate(152.778401 482.474531)scale(0.15 -0.15)\">\n       <use xlink:href=\"#DejaVuSans-83\"/>\n       <use x=\"63.476562\" xlink:href=\"#DejaVuSans-104\"/>\n       <use x=\"126.855469\" xlink:href=\"#DejaVuSans-117\"/>\n       <use x=\"190.234375\" xlink:href=\"#DejaVuSans-116\"/>\n       <use x=\"229.443359\" xlink:href=\"#DejaVuSans-116\"/>\n       <use x=\"268.652344\" xlink:href=\"#DejaVuSans-108\"/>\n       <use x=\"296.435547\" xlink:href=\"#DejaVuSans-101\"/>\n       <use x=\"357.958984\" xlink:href=\"#DejaVuSans-32\"/>\n       <use x=\"389.746094\" xlink:href=\"#DejaVuSans-65\"/>\n       <use x=\"458.154297\" xlink:href=\"#DejaVuSans-109\"/>\n       <use x=\"555.566406\" xlink:href=\"#DejaVuSans-101\"/>\n       <use x=\"617.089844\" xlink:href=\"#DejaVuSans-114\"/>\n       <use x=\"658.203125\" xlink:href=\"#DejaVuSans-105\"/>\n       <use x=\"685.986328\" xlink:href=\"#DejaVuSans-99\"/>\n       <use x=\"740.966797\" xlink:href=\"#DejaVuSans-97\"/>\n       <use x=\"802.246094\" xlink:href=\"#DejaVuSans-32\"/>\n       <use x=\"834.033203\" xlink:href=\"#DejaVuSans-67\"/>\n       <use x=\"903.857422\" xlink:href=\"#DejaVuSans-111\"/>\n       <use x=\"965.039062\" xlink:href=\"#DejaVuSans-114\"/>\n       <use x=\"1006.152344\" xlink:href=\"#DejaVuSans-112\"/>\n       <use x=\"1069.628906\" xlink:href=\"#DejaVuSans-46\"/>\n      </g>\n     </g>\n    </g>\n    <g id=\"xtick_19\">\n     <g id=\"line2d_19\">\n      <g>\n       <use style=\"stroke:#000000;stroke-width:0.8;\" x=\"243.260775\" xlink:href=\"#m3b5fe81e7c\" y=\"464.076875\"/>\n      </g>\n     </g>\n     <g id=\"text_19\">\n      <!-- GoJet Airlines LLC d/b/a United Express -->\n      <g transform=\"translate(96.743588 482.474531)scale(0.15 -0.15)\">\n       <defs>\n        <path d=\"M 59.515625 10.40625 \nL 59.515625 29.984375 \nL 43.40625 29.984375 \nL 43.40625 38.09375 \nL 69.28125 38.09375 \nL 69.28125 6.78125 \nQ 63.578125 2.734375 56.6875 0.65625 \nQ 49.8125 -1.421875 42 -1.421875 \nQ 24.90625 -1.421875 15.25 8.5625 \nQ 5.609375 18.5625 5.609375 36.375 \nQ 5.609375 54.25 15.25 64.234375 \nQ 24.90625 74.21875 42 74.21875 \nQ 49.125 74.21875 55.546875 72.453125 \nQ 61.96875 70.703125 67.390625 67.28125 \nL 67.390625 56.78125 \nQ 61.921875 61.421875 55.765625 63.765625 \nQ 49.609375 66.109375 42.828125 66.109375 \nQ 29.4375 66.109375 22.71875 58.640625 \nQ 16.015625 51.171875 16.015625 36.375 \nQ 16.015625 21.625 22.71875 14.15625 \nQ 29.4375 6.6875 42.828125 6.6875 \nQ 48.046875 6.6875 52.140625 7.59375 \nQ 56.25 8.5 59.515625 10.40625 \nz\n\" id=\"DejaVuSans-71\"/>\n        <path d=\"M 25.390625 72.90625 \nL 33.6875 72.90625 \nL 8.296875 -9.28125 \nL 0 -9.28125 \nz\n\" id=\"DejaVuSans-47\"/>\n       </defs>\n       <use xlink:href=\"#DejaVuSans-71\"/>\n       <use x=\"77.490234\" xlink:href=\"#DejaVuSans-111\"/>\n       <use x=\"138.671875\" xlink:href=\"#DejaVuSans-74\"/>\n       <use x=\"168.164062\" xlink:href=\"#DejaVuSans-101\"/>\n       <use x=\"229.6875\" xlink:href=\"#DejaVuSans-116\"/>\n       <use x=\"268.896484\" xlink:href=\"#DejaVuSans-32\"/>\n       <use x=\"300.683594\" xlink:href=\"#DejaVuSans-65\"/>\n       <use x=\"369.091797\" xlink:href=\"#DejaVuSans-105\"/>\n       <use x=\"396.875\" xlink:href=\"#DejaVuSans-114\"/>\n       <use x=\"437.988281\" xlink:href=\"#DejaVuSans-108\"/>\n       <use x=\"465.771484\" xlink:href=\"#DejaVuSans-105\"/>\n       <use x=\"493.554688\" xlink:href=\"#DejaVuSans-110\"/>\n       <use x=\"556.933594\" xlink:href=\"#DejaVuSans-101\"/>\n       <use x=\"618.457031\" xlink:href=\"#DejaVuSans-115\"/>\n       <use x=\"670.556641\" xlink:href=\"#DejaVuSans-32\"/>\n       <use x=\"702.34375\" xlink:href=\"#DejaVuSans-76\"/>\n       <use x=\"758.056641\" xlink:href=\"#DejaVuSans-76\"/>\n       <use x=\"813.769531\" xlink:href=\"#DejaVuSans-67\"/>\n       <use x=\"883.59375\" xlink:href=\"#DejaVuSans-32\"/>\n       <use x=\"915.380859\" xlink:href=\"#DejaVuSans-100\"/>\n       <use x=\"978.857422\" xlink:href=\"#DejaVuSans-47\"/>\n       <use x=\"1012.548828\" xlink:href=\"#DejaVuSans-98\"/>\n       <use x=\"1076.025391\" xlink:href=\"#DejaVuSans-47\"/>\n       <use x=\"1109.716797\" xlink:href=\"#DejaVuSans-97\"/>\n       <use x=\"1170.996094\" xlink:href=\"#DejaVuSans-32\"/>\n       <use x=\"1202.783203\" xlink:href=\"#DejaVuSans-85\"/>\n       <use x=\"1275.976562\" xlink:href=\"#DejaVuSans-110\"/>\n       <use x=\"1339.355469\" xlink:href=\"#DejaVuSans-105\"/>\n       <use x=\"1367.138672\" xlink:href=\"#DejaVuSans-116\"/>\n       <use x=\"1406.347656\" xlink:href=\"#DejaVuSans-101\"/>\n       <use x=\"1467.871094\" xlink:href=\"#DejaVuSans-100\"/>\n       <use x=\"1531.347656\" xlink:href=\"#DejaVuSans-32\"/>\n       <use x=\"1563.134766\" xlink:href=\"#DejaVuSans-69\"/>\n       <use x=\"1626.318359\" xlink:href=\"#DejaVuSans-120\"/>\n       <use x=\"1685.498047\" xlink:href=\"#DejaVuSans-112\"/>\n       <use x=\"1748.974609\" xlink:href=\"#DejaVuSans-114\"/>\n       <use x=\"1787.837891\" xlink:href=\"#DejaVuSans-101\"/>\n       <use x=\"1849.361328\" xlink:href=\"#DejaVuSans-115\"/>\n       <use x=\"1901.460938\" xlink:href=\"#DejaVuSans-115\"/>\n      </g>\n     </g>\n    </g>\n    <g id=\"xtick_20\">\n     <g id=\"line2d_20\">\n      <g>\n       <use style=\"stroke:#000000;stroke-width:0.8;\" x=\"251.137681\" xlink:href=\"#m3b5fe81e7c\" y=\"464.076875\"/>\n      </g>\n     </g>\n     <g id=\"text_20\">\n      <!-- Sun Country Airlines d/b/a MN Airlines -->\n      <g transform=\"translate(108.4244 482.474531)scale(0.15 -0.15)\">\n       <defs>\n        <path d=\"M 9.8125 72.90625 \nL 23.09375 72.90625 \nL 55.421875 11.921875 \nL 55.421875 72.90625 \nL 64.984375 72.90625 \nL 64.984375 0 \nL 51.703125 0 \nL 19.390625 60.984375 \nL 19.390625 0 \nL 9.8125 0 \nz\n\" id=\"DejaVuSans-78\"/>\n       </defs>\n       <use xlink:href=\"#DejaVuSans-83\"/>\n       <use x=\"63.476562\" xlink:href=\"#DejaVuSans-117\"/>\n       <use x=\"126.855469\" xlink:href=\"#DejaVuSans-110\"/>\n       <use x=\"190.234375\" xlink:href=\"#DejaVuSans-32\"/>\n       <use x=\"222.021484\" xlink:href=\"#DejaVuSans-67\"/>\n       <use x=\"291.845703\" xlink:href=\"#DejaVuSans-111\"/>\n       <use x=\"353.027344\" xlink:href=\"#DejaVuSans-117\"/>\n       <use x=\"416.40625\" xlink:href=\"#DejaVuSans-110\"/>\n       <use x=\"479.785156\" xlink:href=\"#DejaVuSans-116\"/>\n       <use x=\"518.994141\" xlink:href=\"#DejaVuSans-114\"/>\n       <use x=\"560.107422\" xlink:href=\"#DejaVuSans-121\"/>\n       <use x=\"619.287109\" xlink:href=\"#DejaVuSans-32\"/>\n       <use x=\"651.074219\" xlink:href=\"#DejaVuSans-65\"/>\n       <use x=\"719.482422\" xlink:href=\"#DejaVuSans-105\"/>\n       <use x=\"747.265625\" xlink:href=\"#DejaVuSans-114\"/>\n       <use x=\"788.378906\" xlink:href=\"#DejaVuSans-108\"/>\n       <use x=\"816.162109\" xlink:href=\"#DejaVuSans-105\"/>\n       <use x=\"843.945312\" xlink:href=\"#DejaVuSans-110\"/>\n       <use x=\"907.324219\" xlink:href=\"#DejaVuSans-101\"/>\n       <use x=\"968.847656\" xlink:href=\"#DejaVuSans-115\"/>\n       <use x=\"1020.947266\" xlink:href=\"#DejaVuSans-32\"/>\n       <use x=\"1052.734375\" xlink:href=\"#DejaVuSans-100\"/>\n       <use x=\"1116.210938\" xlink:href=\"#DejaVuSans-47\"/>\n       <use x=\"1149.902344\" xlink:href=\"#DejaVuSans-98\"/>\n       <use x=\"1213.378906\" xlink:href=\"#DejaVuSans-47\"/>\n       <use x=\"1247.070312\" xlink:href=\"#DejaVuSans-97\"/>\n       <use x=\"1308.349609\" xlink:href=\"#DejaVuSans-32\"/>\n       <use x=\"1340.136719\" xlink:href=\"#DejaVuSans-77\"/>\n       <use x=\"1426.416016\" xlink:href=\"#DejaVuSans-78\"/>\n       <use x=\"1501.220703\" xlink:href=\"#DejaVuSans-32\"/>\n       <use x=\"1533.007812\" xlink:href=\"#DejaVuSans-65\"/>\n       <use x=\"1601.416016\" xlink:href=\"#DejaVuSans-105\"/>\n       <use x=\"1629.199219\" xlink:href=\"#DejaVuSans-114\"/>\n       <use x=\"1670.3125\" xlink:href=\"#DejaVuSans-108\"/>\n       <use x=\"1698.095703\" xlink:href=\"#DejaVuSans-105\"/>\n       <use x=\"1725.878906\" xlink:href=\"#DejaVuSans-110\"/>\n       <use x=\"1789.257812\" xlink:href=\"#DejaVuSans-101\"/>\n       <use x=\"1850.78125\" xlink:href=\"#DejaVuSans-115\"/>\n      </g>\n     </g>\n    </g>\n    <g id=\"xtick_21\">\n     <g id=\"line2d_21\">\n      <g>\n       <use style=\"stroke:#000000;stroke-width:0.8;\" x=\"259.014587\" xlink:href=\"#m3b5fe81e7c\" y=\"464.076875\"/>\n      </g>\n     </g>\n     <g id=\"text_21\">\n      <!-- Grant Aviation -->\n      <g transform=\"translate(205.272399 482.474531)scale(0.15 -0.15)\">\n       <use xlink:href=\"#DejaVuSans-71\"/>\n       <use x=\"77.490234\" xlink:href=\"#DejaVuSans-114\"/>\n       <use x=\"118.603516\" xlink:href=\"#DejaVuSans-97\"/>\n       <use x=\"179.882812\" xlink:href=\"#DejaVuSans-110\"/>\n       <use x=\"243.261719\" xlink:href=\"#DejaVuSans-116\"/>\n       <use x=\"282.470703\" xlink:href=\"#DejaVuSans-32\"/>\n       <use x=\"314.257812\" xlink:href=\"#DejaVuSans-65\"/>\n       <use x=\"376.791016\" xlink:href=\"#DejaVuSans-118\"/>\n       <use x=\"435.970703\" xlink:href=\"#DejaVuSans-105\"/>\n       <use x=\"463.753906\" xlink:href=\"#DejaVuSans-97\"/>\n       <use x=\"525.033203\" xlink:href=\"#DejaVuSans-116\"/>\n       <use x=\"564.242188\" xlink:href=\"#DejaVuSans-105\"/>\n       <use x=\"592.025391\" xlink:href=\"#DejaVuSans-111\"/>\n       <use x=\"653.207031\" xlink:href=\"#DejaVuSans-110\"/>\n      </g>\n     </g>\n    </g>\n    <g id=\"xtick_22\">\n     <g id=\"line2d_22\">\n      <g>\n       <use style=\"stroke:#000000;stroke-width:0.8;\" x=\"266.891492\" xlink:href=\"#m3b5fe81e7c\" y=\"464.076875\"/>\n      </g>\n     </g>\n     <g id=\"text_22\">\n      <!-- Air Wisconsin Airlines Corp -->\n      <g transform=\"translate(166.586024 482.474531)scale(0.15 -0.15)\">\n       <use xlink:href=\"#DejaVuSans-65\"/>\n       <use x=\"68.408203\" xlink:href=\"#DejaVuSans-105\"/>\n       <use x=\"96.191406\" xlink:href=\"#DejaVuSans-114\"/>\n       <use x=\"137.304688\" xlink:href=\"#DejaVuSans-32\"/>\n       <use x=\"169.091797\" xlink:href=\"#DejaVuSans-87\"/>\n       <use x=\"265.71875\" xlink:href=\"#DejaVuSans-105\"/>\n       <use x=\"293.501953\" xlink:href=\"#DejaVuSans-115\"/>\n       <use x=\"345.601562\" xlink:href=\"#DejaVuSans-99\"/>\n       <use x=\"400.582031\" xlink:href=\"#DejaVuSans-111\"/>\n       <use x=\"461.763672\" xlink:href=\"#DejaVuSans-110\"/>\n       <use x=\"525.142578\" xlink:href=\"#DejaVuSans-115\"/>\n       <use x=\"577.242188\" xlink:href=\"#DejaVuSans-105\"/>\n       <use x=\"605.025391\" xlink:href=\"#DejaVuSans-110\"/>\n       <use x=\"668.404297\" xlink:href=\"#DejaVuSans-32\"/>\n       <use x=\"700.191406\" xlink:href=\"#DejaVuSans-65\"/>\n       <use x=\"768.599609\" xlink:href=\"#DejaVuSans-105\"/>\n       <use x=\"796.382812\" xlink:href=\"#DejaVuSans-114\"/>\n       <use x=\"837.496094\" xlink:href=\"#DejaVuSans-108\"/>\n       <use x=\"865.279297\" xlink:href=\"#DejaVuSans-105\"/>\n       <use x=\"893.0625\" xlink:href=\"#DejaVuSans-110\"/>\n       <use x=\"956.441406\" xlink:href=\"#DejaVuSans-101\"/>\n       <use x=\"1017.964844\" xlink:href=\"#DejaVuSans-115\"/>\n       <use x=\"1070.064453\" xlink:href=\"#DejaVuSans-32\"/>\n       <use x=\"1101.851562\" xlink:href=\"#DejaVuSans-67\"/>\n       <use x=\"1171.675781\" xlink:href=\"#DejaVuSans-111\"/>\n       <use x=\"1232.857422\" xlink:href=\"#DejaVuSans-114\"/>\n       <use x=\"1273.970703\" xlink:href=\"#DejaVuSans-112\"/>\n      </g>\n     </g>\n    </g>\n    <g id=\"xtick_23\">\n     <g id=\"line2d_23\">\n      <g>\n       <use style=\"stroke:#000000;stroke-width:0.8;\" x=\"274.768398\" xlink:href=\"#m3b5fe81e7c\" y=\"464.076875\"/>\n      </g>\n     </g>\n     <g id=\"text_23\">\n      <!-- Bering Air Inc. -->\n      <g transform=\"translate(221.789101 482.474531)scale(0.15 -0.15)\">\n       <use xlink:href=\"#DejaVuSans-66\"/>\n       <use x=\"68.603516\" xlink:href=\"#DejaVuSans-101\"/>\n       <use x=\"130.126953\" xlink:href=\"#DejaVuSans-114\"/>\n       <use x=\"171.240234\" xlink:href=\"#DejaVuSans-105\"/>\n       <use x=\"199.023438\" xlink:href=\"#DejaVuSans-110\"/>\n       <use x=\"262.402344\" xlink:href=\"#DejaVuSans-103\"/>\n       <use x=\"325.878906\" xlink:href=\"#DejaVuSans-32\"/>\n       <use x=\"357.666016\" xlink:href=\"#DejaVuSans-65\"/>\n       <use x=\"426.074219\" xlink:href=\"#DejaVuSans-105\"/>\n       <use x=\"453.857422\" xlink:href=\"#DejaVuSans-114\"/>\n       <use x=\"494.970703\" xlink:href=\"#DejaVuSans-32\"/>\n       <use x=\"526.757812\" xlink:href=\"#DejaVuSans-73\"/>\n       <use x=\"556.25\" xlink:href=\"#DejaVuSans-110\"/>\n       <use x=\"619.628906\" xlink:href=\"#DejaVuSans-99\"/>\n       <use x=\"674.609375\" xlink:href=\"#DejaVuSans-46\"/>\n      </g>\n     </g>\n    </g>\n    <g id=\"xtick_24\">\n     <g id=\"line2d_24\">\n      <g>\n       <use style=\"stroke:#000000;stroke-width:0.8;\" x=\"282.645304\" xlink:href=\"#m3b5fe81e7c\" y=\"464.076875\"/>\n      </g>\n     </g>\n     <g id=\"text_24\">\n      <!-- Trans States Airlines -->\n      <g transform=\"translate(206.564835 482.474531)scale(0.15 -0.15)\">\n       <defs>\n        <path d=\"M -0.296875 72.90625 \nL 61.375 72.90625 \nL 61.375 64.59375 \nL 35.5 64.59375 \nL 35.5 0 \nL 25.59375 0 \nL 25.59375 64.59375 \nL -0.296875 64.59375 \nz\n\" id=\"DejaVuSans-84\"/>\n       </defs>\n       <use xlink:href=\"#DejaVuSans-84\"/>\n       <use x=\"46.333984\" xlink:href=\"#DejaVuSans-114\"/>\n       <use x=\"87.447266\" xlink:href=\"#DejaVuSans-97\"/>\n       <use x=\"148.726562\" xlink:href=\"#DejaVuSans-110\"/>\n       <use x=\"212.105469\" xlink:href=\"#DejaVuSans-115\"/>\n       <use x=\"264.205078\" xlink:href=\"#DejaVuSans-32\"/>\n       <use x=\"295.992188\" xlink:href=\"#DejaVuSans-83\"/>\n       <use x=\"359.46875\" xlink:href=\"#DejaVuSans-116\"/>\n       <use x=\"398.677734\" xlink:href=\"#DejaVuSans-97\"/>\n       <use x=\"459.957031\" xlink:href=\"#DejaVuSans-116\"/>\n       <use x=\"499.166016\" xlink:href=\"#DejaVuSans-101\"/>\n       <use x=\"560.689453\" xlink:href=\"#DejaVuSans-115\"/>\n       <use x=\"612.789062\" xlink:href=\"#DejaVuSans-32\"/>\n       <use x=\"644.576172\" xlink:href=\"#DejaVuSans-65\"/>\n       <use x=\"712.984375\" xlink:href=\"#DejaVuSans-105\"/>\n       <use x=\"740.767578\" xlink:href=\"#DejaVuSans-114\"/>\n       <use x=\"781.880859\" xlink:href=\"#DejaVuSans-108\"/>\n       <use x=\"809.664062\" xlink:href=\"#DejaVuSans-105\"/>\n       <use x=\"837.447266\" xlink:href=\"#DejaVuSans-110\"/>\n       <use x=\"900.826172\" xlink:href=\"#DejaVuSans-101\"/>\n       <use x=\"962.349609\" xlink:href=\"#DejaVuSans-115\"/>\n      </g>\n     </g>\n    </g>\n    <g id=\"xtick_25\">\n     <g id=\"line2d_25\">\n      <g>\n       <use style=\"stroke:#000000;stroke-width:0.8;\" x=\"290.522209\" xlink:href=\"#m3b5fe81e7c\" y=\"464.076875\"/>\n      </g>\n     </g>\n     <g id=\"text_25\">\n      <!-- Compass Airlines -->\n      <g transform=\"translate(226.096038 482.474531)scale(0.15 -0.15)\">\n       <use xlink:href=\"#DejaVuSans-67\"/>\n       <use x=\"69.824219\" xlink:href=\"#DejaVuSans-111\"/>\n       <use x=\"131.005859\" xlink:href=\"#DejaVuSans-109\"/>\n       <use x=\"228.417969\" xlink:href=\"#DejaVuSans-112\"/>\n       <use x=\"291.894531\" xlink:href=\"#DejaVuSans-97\"/>\n       <use x=\"353.173828\" xlink:href=\"#DejaVuSans-115\"/>\n       <use x=\"405.273438\" xlink:href=\"#DejaVuSans-115\"/>\n       <use x=\"457.373047\" xlink:href=\"#DejaVuSans-32\"/>\n       <use x=\"489.160156\" xlink:href=\"#DejaVuSans-65\"/>\n       <use x=\"557.568359\" xlink:href=\"#DejaVuSans-105\"/>\n       <use x=\"585.351562\" xlink:href=\"#DejaVuSans-114\"/>\n       <use x=\"626.464844\" xlink:href=\"#DejaVuSans-108\"/>\n       <use x=\"654.248047\" xlink:href=\"#DejaVuSans-105\"/>\n       <use x=\"682.03125\" xlink:href=\"#DejaVuSans-110\"/>\n       <use x=\"745.410156\" xlink:href=\"#DejaVuSans-101\"/>\n       <use x=\"806.933594\" xlink:href=\"#DejaVuSans-115\"/>\n      </g>\n     </g>\n    </g>\n    <g id=\"xtick_26\">\n     <g id=\"line2d_26\">\n      <g>\n       <use style=\"stroke:#000000;stroke-width:0.8;\" x=\"298.399115\" xlink:href=\"#m3b5fe81e7c\" y=\"464.076875\"/>\n      </g>\n     </g>\n     <g id=\"text_26\">\n      <!-- Horizon Air -->\n      <g transform=\"translate(257.043646 482.474531)scale(0.15 -0.15)\">\n       <defs>\n        <path d=\"M 9.8125 72.90625 \nL 19.671875 72.90625 \nL 19.671875 43.015625 \nL 55.515625 43.015625 \nL 55.515625 72.90625 \nL 65.375 72.90625 \nL 65.375 0 \nL 55.515625 0 \nL 55.515625 34.71875 \nL 19.671875 34.71875 \nL 19.671875 0 \nL 9.8125 0 \nz\n\" id=\"DejaVuSans-72\"/>\n        <path d=\"M 5.515625 54.6875 \nL 48.1875 54.6875 \nL 48.1875 46.484375 \nL 14.40625 7.171875 \nL 48.1875 7.171875 \nL 48.1875 0 \nL 4.296875 0 \nL 4.296875 8.203125 \nL 38.09375 47.515625 \nL 5.515625 47.515625 \nz\n\" id=\"DejaVuSans-122\"/>\n       </defs>\n       <use xlink:href=\"#DejaVuSans-72\"/>\n       <use x=\"75.195312\" xlink:href=\"#DejaVuSans-111\"/>\n       <use x=\"136.376953\" xlink:href=\"#DejaVuSans-114\"/>\n       <use x=\"177.490234\" xlink:href=\"#DejaVuSans-105\"/>\n       <use x=\"205.273438\" xlink:href=\"#DejaVuSans-122\"/>\n       <use x=\"257.763672\" xlink:href=\"#DejaVuSans-111\"/>\n       <use x=\"318.945312\" xlink:href=\"#DejaVuSans-110\"/>\n       <use x=\"382.324219\" xlink:href=\"#DejaVuSans-32\"/>\n       <use x=\"414.111328\" xlink:href=\"#DejaVuSans-65\"/>\n       <use x=\"482.519531\" xlink:href=\"#DejaVuSans-105\"/>\n       <use x=\"510.302734\" xlink:href=\"#DejaVuSans-114\"/>\n      </g>\n     </g>\n    </g>\n    <g id=\"xtick_27\">\n     <g id=\"line2d_27\">\n      <g>\n       <use style=\"stroke:#000000;stroke-width:0.8;\" x=\"306.276021\" xlink:href=\"#m3b5fe81e7c\" y=\"464.076875\"/>\n      </g>\n     </g>\n     <g id=\"text_27\">\n      <!-- Swift Air, LLC d/b/a Eastern Air Lines d/b/a Eastern -->\n      <g transform=\"translate(117.320552 482.474531)scale(0.15 -0.15)\">\n       <defs>\n        <path d=\"M 37.109375 75.984375 \nL 37.109375 68.5 \nL 28.515625 68.5 \nQ 23.6875 68.5 21.796875 66.546875 \nQ 19.921875 64.59375 19.921875 59.515625 \nL 19.921875 54.6875 \nL 34.71875 54.6875 \nL 34.71875 47.703125 \nL 19.921875 47.703125 \nL 19.921875 0 \nL 10.890625 0 \nL 10.890625 47.703125 \nL 2.296875 47.703125 \nL 2.296875 54.6875 \nL 10.890625 54.6875 \nL 10.890625 58.5 \nQ 10.890625 67.625 15.140625 71.796875 \nQ 19.390625 75.984375 28.609375 75.984375 \nz\n\" id=\"DejaVuSans-102\"/>\n        <path d=\"M 11.71875 12.40625 \nL 22.015625 12.40625 \nL 22.015625 4 \nL 14.015625 -11.625 \nL 7.71875 -11.625 \nL 11.71875 4 \nz\n\" id=\"DejaVuSans-44\"/>\n       </defs>\n       <use xlink:href=\"#DejaVuSans-83\"/>\n       <use x=\"63.476562\" xlink:href=\"#DejaVuSans-119\"/>\n       <use x=\"145.263672\" xlink:href=\"#DejaVuSans-105\"/>\n       <use x=\"173.046875\" xlink:href=\"#DejaVuSans-102\"/>\n       <use x=\"206.501953\" xlink:href=\"#DejaVuSans-116\"/>\n       <use x=\"245.710938\" xlink:href=\"#DejaVuSans-32\"/>\n       <use x=\"277.498047\" xlink:href=\"#DejaVuSans-65\"/>\n       <use x=\"345.90625\" xlink:href=\"#DejaVuSans-105\"/>\n       <use x=\"373.689453\" xlink:href=\"#DejaVuSans-114\"/>\n       <use x=\"414.802734\" xlink:href=\"#DejaVuSans-44\"/>\n       <use x=\"446.589844\" xlink:href=\"#DejaVuSans-32\"/>\n       <use x=\"478.376953\" xlink:href=\"#DejaVuSans-76\"/>\n       <use x=\"534.089844\" xlink:href=\"#DejaVuSans-76\"/>\n       <use x=\"589.802734\" xlink:href=\"#DejaVuSans-67\"/>\n       <use x=\"659.626953\" xlink:href=\"#DejaVuSans-32\"/>\n       <use x=\"691.414062\" xlink:href=\"#DejaVuSans-100\"/>\n       <use x=\"754.890625\" xlink:href=\"#DejaVuSans-47\"/>\n       <use x=\"788.582031\" xlink:href=\"#DejaVuSans-98\"/>\n       <use x=\"852.058594\" xlink:href=\"#DejaVuSans-47\"/>\n       <use x=\"885.75\" xlink:href=\"#DejaVuSans-97\"/>\n       <use x=\"947.029297\" xlink:href=\"#DejaVuSans-32\"/>\n       <use x=\"978.816406\" xlink:href=\"#DejaVuSans-69\"/>\n       <use x=\"1042\" xlink:href=\"#DejaVuSans-97\"/>\n       <use x=\"1103.279297\" xlink:href=\"#DejaVuSans-115\"/>\n       <use x=\"1155.378906\" xlink:href=\"#DejaVuSans-116\"/>\n       <use x=\"1194.587891\" xlink:href=\"#DejaVuSans-101\"/>\n       <use x=\"1256.111328\" xlink:href=\"#DejaVuSans-114\"/>\n       <use x=\"1295.474609\" xlink:href=\"#DejaVuSans-110\"/>\n       <use x=\"1358.853516\" xlink:href=\"#DejaVuSans-32\"/>\n       <use x=\"1390.640625\" xlink:href=\"#DejaVuSans-65\"/>\n       <use x=\"1459.048828\" xlink:href=\"#DejaVuSans-105\"/>\n       <use x=\"1486.832031\" xlink:href=\"#DejaVuSans-114\"/>\n       <use x=\"1527.945312\" xlink:href=\"#DejaVuSans-32\"/>\n       <use x=\"1559.732422\" xlink:href=\"#DejaVuSans-76\"/>\n       <use x=\"1615.445312\" xlink:href=\"#DejaVuSans-105\"/>\n       <use x=\"1643.228516\" xlink:href=\"#DejaVuSans-110\"/>\n       <use x=\"1706.607422\" xlink:href=\"#DejaVuSans-101\"/>\n       <use x=\"1768.130859\" xlink:href=\"#DejaVuSans-115\"/>\n       <use x=\"1820.230469\" xlink:href=\"#DejaVuSans-32\"/>\n       <use x=\"1852.017578\" xlink:href=\"#DejaVuSans-100\"/>\n       <use x=\"1915.494141\" xlink:href=\"#DejaVuSans-47\"/>\n       <use x=\"1949.185547\" xlink:href=\"#DejaVuSans-98\"/>\n       <use x=\"2012.662109\" xlink:href=\"#DejaVuSans-47\"/>\n       <use x=\"2046.353516\" xlink:href=\"#DejaVuSans-97\"/>\n       <use x=\"2107.632812\" xlink:href=\"#DejaVuSans-32\"/>\n       <use x=\"2139.419922\" xlink:href=\"#DejaVuSans-69\"/>\n       <use x=\"2202.603516\" xlink:href=\"#DejaVuSans-97\"/>\n       <use x=\"2263.882812\" xlink:href=\"#DejaVuSans-115\"/>\n       <use x=\"2315.982422\" xlink:href=\"#DejaVuSans-116\"/>\n       <use x=\"2355.191406\" xlink:href=\"#DejaVuSans-101\"/>\n       <use x=\"2416.714844\" xlink:href=\"#DejaVuSans-114\"/>\n       <use x=\"2456.078125\" xlink:href=\"#DejaVuSans-110\"/>\n      </g>\n     </g>\n    </g>\n    <g id=\"xtick_28\">\n     <g id=\"line2d_28\">\n      <g>\n       <use style=\"stroke:#000000;stroke-width:0.8;\" x=\"314.152926\" xlink:href=\"#m3b5fe81e7c\" y=\"464.076875\"/>\n      </g>\n     </g>\n     <g id=\"text_28\">\n      <!-- Piedmont Airlines -->\n      <g transform=\"translate(248.628708 482.474531)scale(0.15 -0.15)\">\n       <use xlink:href=\"#DejaVuSans-80\"/>\n       <use x=\"58.052734\" xlink:href=\"#DejaVuSans-105\"/>\n       <use x=\"85.835938\" xlink:href=\"#DejaVuSans-101\"/>\n       <use x=\"147.359375\" xlink:href=\"#DejaVuSans-100\"/>\n       <use x=\"210.835938\" xlink:href=\"#DejaVuSans-109\"/>\n       <use x=\"308.248047\" xlink:href=\"#DejaVuSans-111\"/>\n       <use x=\"369.429688\" xlink:href=\"#DejaVuSans-110\"/>\n       <use x=\"432.808594\" xlink:href=\"#DejaVuSans-116\"/>\n       <use x=\"472.017578\" xlink:href=\"#DejaVuSans-32\"/>\n       <use x=\"503.804688\" xlink:href=\"#DejaVuSans-65\"/>\n       <use x=\"572.212891\" xlink:href=\"#DejaVuSans-105\"/>\n       <use x=\"599.996094\" xlink:href=\"#DejaVuSans-114\"/>\n       <use x=\"641.109375\" xlink:href=\"#DejaVuSans-108\"/>\n       <use x=\"668.892578\" xlink:href=\"#DejaVuSans-105\"/>\n       <use x=\"696.675781\" xlink:href=\"#DejaVuSans-110\"/>\n       <use x=\"760.054688\" xlink:href=\"#DejaVuSans-101\"/>\n       <use x=\"821.578125\" xlink:href=\"#DejaVuSans-115\"/>\n      </g>\n     </g>\n    </g>\n    <g id=\"xtick_29\">\n     <g id=\"line2d_29\">\n      <g>\n       <use style=\"stroke:#000000;stroke-width:0.8;\" x=\"322.029832\" xlink:href=\"#m3b5fe81e7c\" y=\"464.076875\"/>\n      </g>\n     </g>\n     <g id=\"text_29\">\n      <!-- Hawaiian Airlines Inc. -->\n      <g transform=\"translate(241.567723 482.474531)scale(0.15 -0.15)\">\n       <use xlink:href=\"#DejaVuSans-72\"/>\n       <use x=\"75.195312\" xlink:href=\"#DejaVuSans-97\"/>\n       <use x=\"136.474609\" xlink:href=\"#DejaVuSans-119\"/>\n       <use x=\"218.261719\" xlink:href=\"#DejaVuSans-97\"/>\n       <use x=\"279.541016\" xlink:href=\"#DejaVuSans-105\"/>\n       <use x=\"307.324219\" xlink:href=\"#DejaVuSans-105\"/>\n       <use x=\"335.107422\" xlink:href=\"#DejaVuSans-97\"/>\n       <use x=\"396.386719\" xlink:href=\"#DejaVuSans-110\"/>\n       <use x=\"459.765625\" xlink:href=\"#DejaVuSans-32\"/>\n       <use x=\"491.552734\" xlink:href=\"#DejaVuSans-65\"/>\n       <use x=\"559.960938\" xlink:href=\"#DejaVuSans-105\"/>\n       <use x=\"587.744141\" xlink:href=\"#DejaVuSans-114\"/>\n       <use x=\"628.857422\" xlink:href=\"#DejaVuSans-108\"/>\n       <use x=\"656.640625\" xlink:href=\"#DejaVuSans-105\"/>\n       <use x=\"684.423828\" xlink:href=\"#DejaVuSans-110\"/>\n       <use x=\"747.802734\" xlink:href=\"#DejaVuSans-101\"/>\n       <use x=\"809.326172\" xlink:href=\"#DejaVuSans-115\"/>\n       <use x=\"861.425781\" xlink:href=\"#DejaVuSans-32\"/>\n       <use x=\"893.212891\" xlink:href=\"#DejaVuSans-73\"/>\n       <use x=\"922.705078\" xlink:href=\"#DejaVuSans-110\"/>\n       <use x=\"986.083984\" xlink:href=\"#DejaVuSans-99\"/>\n       <use x=\"1041.064453\" xlink:href=\"#DejaVuSans-46\"/>\n      </g>\n     </g>\n    </g>\n    <g id=\"xtick_30\">\n     <g id=\"line2d_30\">\n      <g>\n       <use style=\"stroke:#000000;stroke-width:0.8;\" x=\"329.906738\" xlink:href=\"#m3b5fe81e7c\" y=\"464.076875\"/>\n      </g>\n     </g>\n     <g id=\"text_30\">\n      <!-- Virgin America -->\n      <g transform=\"translate(274.990332 482.474531)scale(0.15 -0.15)\">\n       <defs>\n        <path d=\"M 28.609375 0 \nL 0.78125 72.90625 \nL 11.078125 72.90625 \nL 34.1875 11.53125 \nL 57.328125 72.90625 \nL 67.578125 72.90625 \nL 39.796875 0 \nz\n\" id=\"DejaVuSans-86\"/>\n       </defs>\n       <use xlink:href=\"#DejaVuSans-86\"/>\n       <use x=\"66.158203\" xlink:href=\"#DejaVuSans-105\"/>\n       <use x=\"93.941406\" xlink:href=\"#DejaVuSans-114\"/>\n       <use x=\"133.304688\" xlink:href=\"#DejaVuSans-103\"/>\n       <use x=\"196.78125\" xlink:href=\"#DejaVuSans-105\"/>\n       <use x=\"224.564453\" xlink:href=\"#DejaVuSans-110\"/>\n       <use x=\"287.943359\" xlink:href=\"#DejaVuSans-32\"/>\n       <use x=\"319.730469\" xlink:href=\"#DejaVuSans-65\"/>\n       <use x=\"388.138672\" xlink:href=\"#DejaVuSans-109\"/>\n       <use x=\"485.550781\" xlink:href=\"#DejaVuSans-101\"/>\n       <use x=\"547.074219\" xlink:href=\"#DejaVuSans-114\"/>\n       <use x=\"588.1875\" xlink:href=\"#DejaVuSans-105\"/>\n       <use x=\"615.970703\" xlink:href=\"#DejaVuSans-99\"/>\n       <use x=\"670.951172\" xlink:href=\"#DejaVuSans-97\"/>\n      </g>\n     </g>\n    </g>\n    <g id=\"xtick_31\">\n     <g id=\"line2d_31\">\n      <g>\n       <use style=\"stroke:#000000;stroke-width:0.8;\" x=\"337.783644\" xlink:href=\"#m3b5fe81e7c\" y=\"464.076875\"/>\n      </g>\n     </g>\n     <g id=\"text_31\">\n      <!-- Chautauqua Airlines Inc. -->\n      <g transform=\"translate(246.064503 482.474531)scale(0.15 -0.15)\">\n       <defs>\n        <path d=\"M 14.796875 27.296875 \nQ 14.796875 17.390625 18.875 11.75 \nQ 22.953125 6.109375 30.078125 6.109375 \nQ 37.203125 6.109375 41.296875 11.75 \nQ 45.40625 17.390625 45.40625 27.296875 \nQ 45.40625 37.203125 41.296875 42.84375 \nQ 37.203125 48.484375 30.078125 48.484375 \nQ 22.953125 48.484375 18.875 42.84375 \nQ 14.796875 37.203125 14.796875 27.296875 \nz\nM 45.40625 8.203125 \nQ 42.578125 3.328125 38.25 0.953125 \nQ 33.9375 -1.421875 27.875 -1.421875 \nQ 17.96875 -1.421875 11.734375 6.484375 \nQ 5.515625 14.40625 5.515625 27.296875 \nQ 5.515625 40.1875 11.734375 48.09375 \nQ 17.96875 56 27.875 56 \nQ 33.9375 56 38.25 53.625 \nQ 42.578125 51.265625 45.40625 46.390625 \nL 45.40625 54.6875 \nL 54.390625 54.6875 \nL 54.390625 -20.796875 \nL 45.40625 -20.796875 \nz\n\" id=\"DejaVuSans-113\"/>\n       </defs>\n       <use xlink:href=\"#DejaVuSans-67\"/>\n       <use x=\"69.824219\" xlink:href=\"#DejaVuSans-104\"/>\n       <use x=\"133.203125\" xlink:href=\"#DejaVuSans-97\"/>\n       <use x=\"194.482422\" xlink:href=\"#DejaVuSans-117\"/>\n       <use x=\"257.861328\" xlink:href=\"#DejaVuSans-116\"/>\n       <use x=\"297.070312\" xlink:href=\"#DejaVuSans-97\"/>\n       <use x=\"358.349609\" xlink:href=\"#DejaVuSans-117\"/>\n       <use x=\"421.728516\" xlink:href=\"#DejaVuSans-113\"/>\n       <use x=\"485.205078\" xlink:href=\"#DejaVuSans-117\"/>\n       <use x=\"548.583984\" xlink:href=\"#DejaVuSans-97\"/>\n       <use x=\"609.863281\" xlink:href=\"#DejaVuSans-32\"/>\n       <use x=\"641.650391\" xlink:href=\"#DejaVuSans-65\"/>\n       <use x=\"710.058594\" xlink:href=\"#DejaVuSans-105\"/>\n       <use x=\"737.841797\" xlink:href=\"#DejaVuSans-114\"/>\n       <use x=\"778.955078\" xlink:href=\"#DejaVuSans-108\"/>\n       <use x=\"806.738281\" xlink:href=\"#DejaVuSans-105\"/>\n       <use x=\"834.521484\" xlink:href=\"#DejaVuSans-110\"/>\n       <use x=\"897.900391\" xlink:href=\"#DejaVuSans-101\"/>\n       <use x=\"959.423828\" xlink:href=\"#DejaVuSans-115\"/>\n       <use x=\"1011.523438\" xlink:href=\"#DejaVuSans-32\"/>\n       <use x=\"1043.310547\" xlink:href=\"#DejaVuSans-73\"/>\n       <use x=\"1072.802734\" xlink:href=\"#DejaVuSans-110\"/>\n       <use x=\"1136.181641\" xlink:href=\"#DejaVuSans-99\"/>\n       <use x=\"1191.162109\" xlink:href=\"#DejaVuSans-46\"/>\n      </g>\n     </g>\n    </g>\n    <g id=\"xtick_32\">\n     <g id=\"line2d_32\">\n      <g>\n       <use style=\"stroke:#000000;stroke-width:0.8;\" x=\"345.660549\" xlink:href=\"#m3b5fe81e7c\" y=\"464.076875\"/>\n      </g>\n     </g>\n     <g id=\"text_32\">\n      <!-- Commutair Aka Champlain Enterprises, Inc. -->\n      <g transform=\"translate(181.780862 482.474531)scale(0.15 -0.15)\">\n       <use xlink:href=\"#DejaVuSans-67\"/>\n       <use x=\"69.824219\" xlink:href=\"#DejaVuSans-111\"/>\n       <use x=\"131.005859\" xlink:href=\"#DejaVuSans-109\"/>\n       <use x=\"228.417969\" xlink:href=\"#DejaVuSans-109\"/>\n       <use x=\"325.830078\" xlink:href=\"#DejaVuSans-117\"/>\n       <use x=\"389.208984\" xlink:href=\"#DejaVuSans-116\"/>\n       <use x=\"428.417969\" xlink:href=\"#DejaVuSans-97\"/>\n       <use x=\"489.697266\" xlink:href=\"#DejaVuSans-105\"/>\n       <use x=\"517.480469\" xlink:href=\"#DejaVuSans-114\"/>\n       <use x=\"558.59375\" xlink:href=\"#DejaVuSans-32\"/>\n       <use x=\"590.380859\" xlink:href=\"#DejaVuSans-65\"/>\n       <use x=\"658.789062\" xlink:href=\"#DejaVuSans-107\"/>\n       <use x=\"714.949219\" xlink:href=\"#DejaVuSans-97\"/>\n       <use x=\"776.228516\" xlink:href=\"#DejaVuSans-32\"/>\n       <use x=\"808.015625\" xlink:href=\"#DejaVuSans-67\"/>\n       <use x=\"877.839844\" xlink:href=\"#DejaVuSans-104\"/>\n       <use x=\"941.21875\" xlink:href=\"#DejaVuSans-97\"/>\n       <use x=\"1002.498047\" xlink:href=\"#DejaVuSans-109\"/>\n       <use x=\"1099.910156\" xlink:href=\"#DejaVuSans-112\"/>\n       <use x=\"1163.386719\" xlink:href=\"#DejaVuSans-108\"/>\n       <use x=\"1191.169922\" xlink:href=\"#DejaVuSans-97\"/>\n       <use x=\"1252.449219\" xlink:href=\"#DejaVuSans-105\"/>\n       <use x=\"1280.232422\" xlink:href=\"#DejaVuSans-110\"/>\n       <use x=\"1343.611328\" xlink:href=\"#DejaVuSans-32\"/>\n       <use x=\"1375.398438\" xlink:href=\"#DejaVuSans-69\"/>\n       <use x=\"1438.582031\" xlink:href=\"#DejaVuSans-110\"/>\n       <use x=\"1501.960938\" xlink:href=\"#DejaVuSans-116\"/>\n       <use x=\"1541.169922\" xlink:href=\"#DejaVuSans-101\"/>\n       <use x=\"1602.693359\" xlink:href=\"#DejaVuSans-114\"/>\n       <use x=\"1643.806641\" xlink:href=\"#DejaVuSans-112\"/>\n       <use x=\"1707.283203\" xlink:href=\"#DejaVuSans-114\"/>\n       <use x=\"1748.396484\" xlink:href=\"#DejaVuSans-105\"/>\n       <use x=\"1776.179688\" xlink:href=\"#DejaVuSans-115\"/>\n       <use x=\"1828.279297\" xlink:href=\"#DejaVuSans-101\"/>\n       <use x=\"1889.802734\" xlink:href=\"#DejaVuSans-115\"/>\n       <use x=\"1941.902344\" xlink:href=\"#DejaVuSans-44\"/>\n       <use x=\"1973.689453\" xlink:href=\"#DejaVuSans-32\"/>\n       <use x=\"2005.476562\" xlink:href=\"#DejaVuSans-73\"/>\n       <use x=\"2034.96875\" xlink:href=\"#DejaVuSans-110\"/>\n       <use x=\"2098.347656\" xlink:href=\"#DejaVuSans-99\"/>\n       <use x=\"2153.328125\" xlink:href=\"#DejaVuSans-46\"/>\n      </g>\n     </g>\n    </g>\n    <g id=\"xtick_33\">\n     <g id=\"line2d_33\">\n      <g>\n       <use style=\"stroke:#000000;stroke-width:0.8;\" x=\"353.537455\" xlink:href=\"#m3b5fe81e7c\" y=\"464.076875\"/>\n      </g>\n     </g>\n     <g id=\"text_33\">\n      <!-- Miami Air International -->\n      <g transform=\"translate(268.06558 482.474531)scale(0.15 -0.15)\">\n       <use xlink:href=\"#DejaVuSans-77\"/>\n       <use x=\"86.279297\" xlink:href=\"#DejaVuSans-105\"/>\n       <use x=\"114.0625\" xlink:href=\"#DejaVuSans-97\"/>\n       <use x=\"175.341797\" xlink:href=\"#DejaVuSans-109\"/>\n       <use x=\"272.753906\" xlink:href=\"#DejaVuSans-105\"/>\n       <use x=\"300.537109\" xlink:href=\"#DejaVuSans-32\"/>\n       <use x=\"332.324219\" xlink:href=\"#DejaVuSans-65\"/>\n       <use x=\"400.732422\" xlink:href=\"#DejaVuSans-105\"/>\n       <use x=\"428.515625\" xlink:href=\"#DejaVuSans-114\"/>\n       <use x=\"469.628906\" xlink:href=\"#DejaVuSans-32\"/>\n       <use x=\"501.416016\" xlink:href=\"#DejaVuSans-73\"/>\n       <use x=\"530.908203\" xlink:href=\"#DejaVuSans-110\"/>\n       <use x=\"594.287109\" xlink:href=\"#DejaVuSans-116\"/>\n       <use x=\"633.496094\" xlink:href=\"#DejaVuSans-101\"/>\n       <use x=\"695.019531\" xlink:href=\"#DejaVuSans-114\"/>\n       <use x=\"734.382812\" xlink:href=\"#DejaVuSans-110\"/>\n       <use x=\"797.761719\" xlink:href=\"#DejaVuSans-97\"/>\n       <use x=\"859.041016\" xlink:href=\"#DejaVuSans-116\"/>\n       <use x=\"898.25\" xlink:href=\"#DejaVuSans-105\"/>\n       <use x=\"926.033203\" xlink:href=\"#DejaVuSans-111\"/>\n       <use x=\"987.214844\" xlink:href=\"#DejaVuSans-110\"/>\n       <use x=\"1050.59375\" xlink:href=\"#DejaVuSans-97\"/>\n       <use x=\"1111.873047\" xlink:href=\"#DejaVuSans-108\"/>\n      </g>\n     </g>\n    </g>\n    <g id=\"xtick_34\">\n     <g id=\"line2d_34\">\n      <g>\n       <use style=\"stroke:#000000;stroke-width:0.8;\" x=\"361.414361\" xlink:href=\"#m3b5fe81e7c\" y=\"464.076875\"/>\n      </g>\n     </g>\n     <g id=\"text_34\">\n      <!-- Yute Air Aka Flight Alaska -->\n      <g transform=\"translate(266.157329 482.474531)scale(0.15 -0.15)\">\n       <defs>\n        <path d=\"M -0.203125 72.90625 \nL 10.40625 72.90625 \nL 30.609375 42.921875 \nL 50.6875 72.90625 \nL 61.28125 72.90625 \nL 35.5 34.71875 \nL 35.5 0 \nL 25.59375 0 \nL 25.59375 34.71875 \nz\n\" id=\"DejaVuSans-89\"/>\n       </defs>\n       <use xlink:href=\"#DejaVuSans-89\"/>\n       <use x=\"49.583984\" xlink:href=\"#DejaVuSans-117\"/>\n       <use x=\"112.962891\" xlink:href=\"#DejaVuSans-116\"/>\n       <use x=\"152.171875\" xlink:href=\"#DejaVuSans-101\"/>\n       <use x=\"213.695312\" xlink:href=\"#DejaVuSans-32\"/>\n       <use x=\"245.482422\" xlink:href=\"#DejaVuSans-65\"/>\n       <use x=\"313.890625\" xlink:href=\"#DejaVuSans-105\"/>\n       <use x=\"341.673828\" xlink:href=\"#DejaVuSans-114\"/>\n       <use x=\"382.787109\" xlink:href=\"#DejaVuSans-32\"/>\n       <use x=\"414.574219\" xlink:href=\"#DejaVuSans-65\"/>\n       <use x=\"482.982422\" xlink:href=\"#DejaVuSans-107\"/>\n       <use x=\"539.142578\" xlink:href=\"#DejaVuSans-97\"/>\n       <use x=\"600.421875\" xlink:href=\"#DejaVuSans-32\"/>\n       <use x=\"632.208984\" xlink:href=\"#DejaVuSans-70\"/>\n       <use x=\"689.728516\" xlink:href=\"#DejaVuSans-108\"/>\n       <use x=\"717.511719\" xlink:href=\"#DejaVuSans-105\"/>\n       <use x=\"745.294922\" xlink:href=\"#DejaVuSans-103\"/>\n       <use x=\"808.771484\" xlink:href=\"#DejaVuSans-104\"/>\n       <use x=\"872.150391\" xlink:href=\"#DejaVuSans-116\"/>\n       <use x=\"911.359375\" xlink:href=\"#DejaVuSans-32\"/>\n       <use x=\"943.146484\" xlink:href=\"#DejaVuSans-65\"/>\n       <use x=\"1011.554688\" xlink:href=\"#DejaVuSans-108\"/>\n       <use x=\"1039.337891\" xlink:href=\"#DejaVuSans-97\"/>\n       <use x=\"1100.617188\" xlink:href=\"#DejaVuSans-115\"/>\n       <use x=\"1152.716797\" xlink:href=\"#DejaVuSans-107\"/>\n       <use x=\"1208.876953\" xlink:href=\"#DejaVuSans-97\"/>\n      </g>\n     </g>\n    </g>\n    <g id=\"xtick_35\">\n     <g id=\"line2d_35\">\n      <g>\n       <use style=\"stroke:#000000;stroke-width:0.8;\" x=\"369.291266\" xlink:href=\"#m3b5fe81e7c\" y=\"464.076875\"/>\n      </g>\n     </g>\n     <g id=\"text_35\">\n      <!-- Paklook Air, Inc d/b/a/ Airlift Alaska d/b/a/ Yute Commuter Service -->\n      <g transform=\"translate(123.928766 482.474531)scale(0.15 -0.15)\">\n       <use xlink:href=\"#DejaVuSans-80\"/>\n       <use x=\"55.802734\" xlink:href=\"#DejaVuSans-97\"/>\n       <use x=\"117.082031\" xlink:href=\"#DejaVuSans-107\"/>\n       <use x=\"174.992188\" xlink:href=\"#DejaVuSans-108\"/>\n       <use x=\"202.775391\" xlink:href=\"#DejaVuSans-111\"/>\n       <use x=\"263.957031\" xlink:href=\"#DejaVuSans-111\"/>\n       <use x=\"325.138672\" xlink:href=\"#DejaVuSans-107\"/>\n       <use x=\"383.048828\" xlink:href=\"#DejaVuSans-32\"/>\n       <use x=\"414.835938\" xlink:href=\"#DejaVuSans-65\"/>\n       <use x=\"483.244141\" xlink:href=\"#DejaVuSans-105\"/>\n       <use x=\"511.027344\" xlink:href=\"#DejaVuSans-114\"/>\n       <use x=\"552.140625\" xlink:href=\"#DejaVuSans-44\"/>\n       <use x=\"583.927734\" xlink:href=\"#DejaVuSans-32\"/>\n       <use x=\"615.714844\" xlink:href=\"#DejaVuSans-73\"/>\n       <use x=\"645.207031\" xlink:href=\"#DejaVuSans-110\"/>\n       <use x=\"708.585938\" xlink:href=\"#DejaVuSans-99\"/>\n       <use x=\"763.566406\" xlink:href=\"#DejaVuSans-32\"/>\n       <use x=\"795.353516\" xlink:href=\"#DejaVuSans-100\"/>\n       <use x=\"858.830078\" xlink:href=\"#DejaVuSans-47\"/>\n       <use x=\"892.521484\" xlink:href=\"#DejaVuSans-98\"/>\n       <use x=\"955.998047\" xlink:href=\"#DejaVuSans-47\"/>\n       <use x=\"989.689453\" xlink:href=\"#DejaVuSans-97\"/>\n       <use x=\"1050.96875\" xlink:href=\"#DejaVuSans-47\"/>\n       <use x=\"1084.660156\" xlink:href=\"#DejaVuSans-32\"/>\n       <use x=\"1116.447266\" xlink:href=\"#DejaVuSans-65\"/>\n       <use x=\"1184.855469\" xlink:href=\"#DejaVuSans-105\"/>\n       <use x=\"1212.638672\" xlink:href=\"#DejaVuSans-114\"/>\n       <use x=\"1253.751953\" xlink:href=\"#DejaVuSans-108\"/>\n       <use x=\"1281.535156\" xlink:href=\"#DejaVuSans-105\"/>\n       <use x=\"1309.318359\" xlink:href=\"#DejaVuSans-102\"/>\n       <use x=\"1342.773438\" xlink:href=\"#DejaVuSans-116\"/>\n       <use x=\"1381.982422\" xlink:href=\"#DejaVuSans-32\"/>\n       <use x=\"1413.769531\" xlink:href=\"#DejaVuSans-65\"/>\n       <use x=\"1482.177734\" xlink:href=\"#DejaVuSans-108\"/>\n       <use x=\"1509.960938\" xlink:href=\"#DejaVuSans-97\"/>\n       <use x=\"1571.240234\" xlink:href=\"#DejaVuSans-115\"/>\n       <use x=\"1623.339844\" xlink:href=\"#DejaVuSans-107\"/>\n       <use x=\"1679.5\" xlink:href=\"#DejaVuSans-97\"/>\n       <use x=\"1740.779297\" xlink:href=\"#DejaVuSans-32\"/>\n       <use x=\"1772.566406\" xlink:href=\"#DejaVuSans-100\"/>\n       <use x=\"1836.042969\" xlink:href=\"#DejaVuSans-47\"/>\n       <use x=\"1869.734375\" xlink:href=\"#DejaVuSans-98\"/>\n       <use x=\"1933.210938\" xlink:href=\"#DejaVuSans-47\"/>\n       <use x=\"1966.902344\" xlink:href=\"#DejaVuSans-97\"/>\n       <use x=\"2028.181641\" xlink:href=\"#DejaVuSans-47\"/>\n       <use x=\"2061.873047\" xlink:href=\"#DejaVuSans-32\"/>\n       <use x=\"2093.660156\" xlink:href=\"#DejaVuSans-89\"/>\n       <use x=\"2143.244141\" xlink:href=\"#DejaVuSans-117\"/>\n       <use x=\"2206.623047\" xlink:href=\"#DejaVuSans-116\"/>\n       <use x=\"2245.832031\" xlink:href=\"#DejaVuSans-101\"/>\n       <use x=\"2307.355469\" xlink:href=\"#DejaVuSans-32\"/>\n       <use x=\"2339.142578\" xlink:href=\"#DejaVuSans-67\"/>\n       <use x=\"2408.966797\" xlink:href=\"#DejaVuSans-111\"/>\n       <use x=\"2470.148438\" xlink:href=\"#DejaVuSans-109\"/>\n       <use x=\"2567.560547\" xlink:href=\"#DejaVuSans-109\"/>\n       <use x=\"2664.972656\" xlink:href=\"#DejaVuSans-117\"/>\n       <use x=\"2728.351562\" xlink:href=\"#DejaVuSans-116\"/>\n       <use x=\"2767.560547\" xlink:href=\"#DejaVuSans-101\"/>\n       <use x=\"2829.083984\" xlink:href=\"#DejaVuSans-114\"/>\n       <use x=\"2870.197266\" xlink:href=\"#DejaVuSans-32\"/>\n       <use x=\"2901.984375\" xlink:href=\"#DejaVuSans-83\"/>\n       <use x=\"2965.460938\" xlink:href=\"#DejaVuSans-101\"/>\n       <use x=\"3026.984375\" xlink:href=\"#DejaVuSans-114\"/>\n       <use x=\"3068.097656\" xlink:href=\"#DejaVuSans-118\"/>\n       <use x=\"3127.277344\" xlink:href=\"#DejaVuSans-105\"/>\n       <use x=\"3155.060547\" xlink:href=\"#DejaVuSans-99\"/>\n       <use x=\"3210.041016\" xlink:href=\"#DejaVuSans-101\"/>\n      </g>\n     </g>\n    </g>\n    <g id=\"xtick_36\">\n     <g id=\"line2d_36\">\n      <g>\n       <use style=\"stroke:#000000;stroke-width:0.8;\" x=\"377.168172\" xlink:href=\"#m3b5fe81e7c\" y=\"464.076875\"/>\n      </g>\n     </g>\n     <g id=\"text_36\">\n      <!-- Jet Aviation Flight Services, Inc. -->\n      <g transform=\"translate(259.271688 482.474531)scale(0.15 -0.15)\">\n       <use xlink:href=\"#DejaVuSans-74\"/>\n       <use x=\"29.492188\" xlink:href=\"#DejaVuSans-101\"/>\n       <use x=\"91.015625\" xlink:href=\"#DejaVuSans-116\"/>\n       <use x=\"130.224609\" xlink:href=\"#DejaVuSans-32\"/>\n       <use x=\"162.011719\" xlink:href=\"#DejaVuSans-65\"/>\n       <use x=\"224.544922\" xlink:href=\"#DejaVuSans-118\"/>\n       <use x=\"283.724609\" xlink:href=\"#DejaVuSans-105\"/>\n       <use x=\"311.507812\" xlink:href=\"#DejaVuSans-97\"/>\n       <use x=\"372.787109\" xlink:href=\"#DejaVuSans-116\"/>\n       <use x=\"411.996094\" xlink:href=\"#DejaVuSans-105\"/>\n       <use x=\"439.779297\" xlink:href=\"#DejaVuSans-111\"/>\n       <use x=\"500.960938\" xlink:href=\"#DejaVuSans-110\"/>\n       <use x=\"564.339844\" xlink:href=\"#DejaVuSans-32\"/>\n       <use x=\"596.126953\" xlink:href=\"#DejaVuSans-70\"/>\n       <use x=\"653.646484\" xlink:href=\"#DejaVuSans-108\"/>\n       <use x=\"681.429688\" xlink:href=\"#DejaVuSans-105\"/>\n       <use x=\"709.212891\" xlink:href=\"#DejaVuSans-103\"/>\n       <use x=\"772.689453\" xlink:href=\"#DejaVuSans-104\"/>\n       <use x=\"836.068359\" xlink:href=\"#DejaVuSans-116\"/>\n       <use x=\"875.277344\" xlink:href=\"#DejaVuSans-32\"/>\n       <use x=\"907.064453\" xlink:href=\"#DejaVuSans-83\"/>\n       <use x=\"970.541016\" xlink:href=\"#DejaVuSans-101\"/>\n       <use x=\"1032.064453\" xlink:href=\"#DejaVuSans-114\"/>\n       <use x=\"1073.177734\" xlink:href=\"#DejaVuSans-118\"/>\n       <use x=\"1132.357422\" xlink:href=\"#DejaVuSans-105\"/>\n       <use x=\"1160.140625\" xlink:href=\"#DejaVuSans-99\"/>\n       <use x=\"1215.121094\" xlink:href=\"#DejaVuSans-101\"/>\n       <use x=\"1276.644531\" xlink:href=\"#DejaVuSans-115\"/>\n       <use x=\"1328.744141\" xlink:href=\"#DejaVuSans-44\"/>\n       <use x=\"1360.53125\" xlink:href=\"#DejaVuSans-32\"/>\n       <use x=\"1392.318359\" xlink:href=\"#DejaVuSans-73\"/>\n       <use x=\"1421.810547\" xlink:href=\"#DejaVuSans-110\"/>\n       <use x=\"1485.189453\" xlink:href=\"#DejaVuSans-99\"/>\n       <use x=\"1540.169922\" xlink:href=\"#DejaVuSans-46\"/>\n      </g>\n     </g>\n    </g>\n    <g id=\"xtick_37\">\n     <g id=\"line2d_37\">\n      <g>\n       <use style=\"stroke:#000000;stroke-width:0.8;\" x=\"385.045078\" xlink:href=\"#m3b5fe81e7c\" y=\"464.076875\"/>\n      </g>\n     </g>\n     <g id=\"text_37\">\n      <!-- Wright Air Service -->\n      <g transform=\"translate(317.560312 482.474531)scale(0.15 -0.15)\">\n       <use xlink:href=\"#DejaVuSans-87\"/>\n       <use x=\"94.376953\" xlink:href=\"#DejaVuSans-114\"/>\n       <use x=\"135.490234\" xlink:href=\"#DejaVuSans-105\"/>\n       <use x=\"163.273438\" xlink:href=\"#DejaVuSans-103\"/>\n       <use x=\"226.75\" xlink:href=\"#DejaVuSans-104\"/>\n       <use x=\"290.128906\" xlink:href=\"#DejaVuSans-116\"/>\n       <use x=\"329.337891\" xlink:href=\"#DejaVuSans-32\"/>\n       <use x=\"361.125\" xlink:href=\"#DejaVuSans-65\"/>\n       <use x=\"429.533203\" xlink:href=\"#DejaVuSans-105\"/>\n       <use x=\"457.316406\" xlink:href=\"#DejaVuSans-114\"/>\n       <use x=\"498.429688\" xlink:href=\"#DejaVuSans-32\"/>\n       <use x=\"530.216797\" xlink:href=\"#DejaVuSans-83\"/>\n       <use x=\"593.693359\" xlink:href=\"#DejaVuSans-101\"/>\n       <use x=\"655.216797\" xlink:href=\"#DejaVuSans-114\"/>\n       <use x=\"696.330078\" xlink:href=\"#DejaVuSans-118\"/>\n       <use x=\"755.509766\" xlink:href=\"#DejaVuSans-105\"/>\n       <use x=\"783.292969\" xlink:href=\"#DejaVuSans-99\"/>\n       <use x=\"838.273438\" xlink:href=\"#DejaVuSans-101\"/>\n      </g>\n     </g>\n    </g>\n    <g id=\"xtick_38\">\n     <g id=\"line2d_38\">\n      <g>\n       <use style=\"stroke:#000000;stroke-width:0.8;\" x=\"392.921984\" xlink:href=\"#m3b5fe81e7c\" y=\"464.076875\"/>\n      </g>\n     </g>\n     <g id=\"text_38\">\n      <!-- AirTran Airways Corporation -->\n      <g transform=\"translate(288.272374 482.474531)scale(0.15 -0.15)\">\n       <use xlink:href=\"#DejaVuSans-65\"/>\n       <use x=\"68.408203\" xlink:href=\"#DejaVuSans-105\"/>\n       <use x=\"96.191406\" xlink:href=\"#DejaVuSans-114\"/>\n       <use x=\"137.304688\" xlink:href=\"#DejaVuSans-84\"/>\n       <use x=\"183.638672\" xlink:href=\"#DejaVuSans-114\"/>\n       <use x=\"224.751953\" xlink:href=\"#DejaVuSans-97\"/>\n       <use x=\"286.03125\" xlink:href=\"#DejaVuSans-110\"/>\n       <use x=\"349.410156\" xlink:href=\"#DejaVuSans-32\"/>\n       <use x=\"381.197266\" xlink:href=\"#DejaVuSans-65\"/>\n       <use x=\"449.605469\" xlink:href=\"#DejaVuSans-105\"/>\n       <use x=\"477.388672\" xlink:href=\"#DejaVuSans-114\"/>\n       <use x=\"518.501953\" xlink:href=\"#DejaVuSans-119\"/>\n       <use x=\"600.289062\" xlink:href=\"#DejaVuSans-97\"/>\n       <use x=\"661.568359\" xlink:href=\"#DejaVuSans-121\"/>\n       <use x=\"720.748047\" xlink:href=\"#DejaVuSans-115\"/>\n       <use x=\"772.847656\" xlink:href=\"#DejaVuSans-32\"/>\n       <use x=\"804.634766\" xlink:href=\"#DejaVuSans-67\"/>\n       <use x=\"874.458984\" xlink:href=\"#DejaVuSans-111\"/>\n       <use x=\"935.640625\" xlink:href=\"#DejaVuSans-114\"/>\n       <use x=\"976.753906\" xlink:href=\"#DejaVuSans-112\"/>\n       <use x=\"1040.230469\" xlink:href=\"#DejaVuSans-111\"/>\n       <use x=\"1101.412109\" xlink:href=\"#DejaVuSans-114\"/>\n       <use x=\"1142.525391\" xlink:href=\"#DejaVuSans-97\"/>\n       <use x=\"1203.804688\" xlink:href=\"#DejaVuSans-116\"/>\n       <use x=\"1243.013672\" xlink:href=\"#DejaVuSans-105\"/>\n       <use x=\"1270.796875\" xlink:href=\"#DejaVuSans-111\"/>\n       <use x=\"1331.978516\" xlink:href=\"#DejaVuSans-110\"/>\n      </g>\n     </g>\n    </g>\n    <g id=\"xtick_39\">\n     <g id=\"line2d_39\">\n      <g>\n       <use style=\"stroke:#000000;stroke-width:0.8;\" x=\"400.798889\" xlink:href=\"#m3b5fe81e7c\" y=\"464.076875\"/>\n      </g>\n     </g>\n     <g id=\"text_39\">\n      <!-- Cape Air -->\n      <g transform=\"translate(368.908655 482.474531)scale(0.15 -0.15)\">\n       <use xlink:href=\"#DejaVuSans-67\"/>\n       <use x=\"69.824219\" xlink:href=\"#DejaVuSans-97\"/>\n       <use x=\"131.103516\" xlink:href=\"#DejaVuSans-112\"/>\n       <use x=\"194.580078\" xlink:href=\"#DejaVuSans-101\"/>\n       <use x=\"256.103516\" xlink:href=\"#DejaVuSans-32\"/>\n       <use x=\"287.890625\" xlink:href=\"#DejaVuSans-65\"/>\n       <use x=\"356.298828\" xlink:href=\"#DejaVuSans-105\"/>\n       <use x=\"384.082031\" xlink:href=\"#DejaVuSans-114\"/>\n      </g>\n     </g>\n    </g>\n    <g id=\"xtick_40\">\n     <g id=\"line2d_40\">\n      <g>\n       <use style=\"stroke:#000000;stroke-width:0.8;\" x=\"408.675795\" xlink:href=\"#m3b5fe81e7c\" y=\"464.076875\"/>\n      </g>\n     </g>\n     <g id=\"text_40\">\n      <!-- Kalinin Aviation LLC d/b/a Alaska Seaplanes -->\n      <g transform=\"translate(245.462904 482.474531)scale(0.15 -0.15)\">\n       <defs>\n        <path d=\"M 9.8125 72.90625 \nL 19.671875 72.90625 \nL 19.671875 42.09375 \nL 52.390625 72.90625 \nL 65.09375 72.90625 \nL 28.90625 38.921875 \nL 67.671875 0 \nL 54.6875 0 \nL 19.671875 35.109375 \nL 19.671875 0 \nL 9.8125 0 \nz\n\" id=\"DejaVuSans-75\"/>\n       </defs>\n       <use xlink:href=\"#DejaVuSans-75\"/>\n       <use x=\"63.826172\" xlink:href=\"#DejaVuSans-97\"/>\n       <use x=\"125.105469\" xlink:href=\"#DejaVuSans-108\"/>\n       <use x=\"152.888672\" xlink:href=\"#DejaVuSans-105\"/>\n       <use x=\"180.671875\" xlink:href=\"#DejaVuSans-110\"/>\n       <use x=\"244.050781\" xlink:href=\"#DejaVuSans-105\"/>\n       <use x=\"271.833984\" xlink:href=\"#DejaVuSans-110\"/>\n       <use x=\"335.212891\" xlink:href=\"#DejaVuSans-32\"/>\n       <use x=\"367\" xlink:href=\"#DejaVuSans-65\"/>\n       <use x=\"429.533203\" xlink:href=\"#DejaVuSans-118\"/>\n       <use x=\"488.712891\" xlink:href=\"#DejaVuSans-105\"/>\n       <use x=\"516.496094\" xlink:href=\"#DejaVuSans-97\"/>\n       <use x=\"577.775391\" xlink:href=\"#DejaVuSans-116\"/>\n       <use x=\"616.984375\" xlink:href=\"#DejaVuSans-105\"/>\n       <use x=\"644.767578\" xlink:href=\"#DejaVuSans-111\"/>\n       <use x=\"705.949219\" xlink:href=\"#DejaVuSans-110\"/>\n       <use x=\"769.328125\" xlink:href=\"#DejaVuSans-32\"/>\n       <use x=\"801.115234\" xlink:href=\"#DejaVuSans-76\"/>\n       <use x=\"856.828125\" xlink:href=\"#DejaVuSans-76\"/>\n       <use x=\"912.541016\" xlink:href=\"#DejaVuSans-67\"/>\n       <use x=\"982.365234\" xlink:href=\"#DejaVuSans-32\"/>\n       <use x=\"1014.152344\" xlink:href=\"#DejaVuSans-100\"/>\n       <use x=\"1077.628906\" xlink:href=\"#DejaVuSans-47\"/>\n       <use x=\"1111.320312\" xlink:href=\"#DejaVuSans-98\"/>\n       <use x=\"1174.796875\" xlink:href=\"#DejaVuSans-47\"/>\n       <use x=\"1208.488281\" xlink:href=\"#DejaVuSans-97\"/>\n       <use x=\"1269.767578\" xlink:href=\"#DejaVuSans-32\"/>\n       <use x=\"1301.554688\" xlink:href=\"#DejaVuSans-65\"/>\n       <use x=\"1369.962891\" xlink:href=\"#DejaVuSans-108\"/>\n       <use x=\"1397.746094\" xlink:href=\"#DejaVuSans-97\"/>\n       <use x=\"1459.025391\" xlink:href=\"#DejaVuSans-115\"/>\n       <use x=\"1511.125\" xlink:href=\"#DejaVuSans-107\"/>\n       <use x=\"1567.285156\" xlink:href=\"#DejaVuSans-97\"/>\n       <use x=\"1628.564453\" xlink:href=\"#DejaVuSans-32\"/>\n       <use x=\"1660.351562\" xlink:href=\"#DejaVuSans-83\"/>\n       <use x=\"1723.828125\" xlink:href=\"#DejaVuSans-101\"/>\n       <use x=\"1785.351562\" xlink:href=\"#DejaVuSans-97\"/>\n       <use x=\"1846.630859\" xlink:href=\"#DejaVuSans-112\"/>\n       <use x=\"1910.107422\" xlink:href=\"#DejaVuSans-108\"/>\n       <use x=\"1937.890625\" xlink:href=\"#DejaVuSans-97\"/>\n       <use x=\"1999.169922\" xlink:href=\"#DejaVuSans-110\"/>\n       <use x=\"2062.548828\" xlink:href=\"#DejaVuSans-101\"/>\n       <use x=\"2124.072266\" xlink:href=\"#DejaVuSans-115\"/>\n      </g>\n     </g>\n    </g>\n    <g id=\"xtick_41\">\n     <g id=\"line2d_41\">\n      <g>\n       <use style=\"stroke:#000000;stroke-width:0.8;\" x=\"416.552701\" xlink:href=\"#m3b5fe81e7c\" y=\"464.076875\"/>\n      </g>\n     </g>\n     <g id=\"text_41\">\n      <!-- Corvus Airlines, Inc d/b/a Era Aviation d/b/a Ravn Alaska -->\n      <g transform=\"translate(205.970279 482.474531)scale(0.15 -0.15)\">\n       <use xlink:href=\"#DejaVuSans-67\"/>\n       <use x=\"69.824219\" xlink:href=\"#DejaVuSans-111\"/>\n       <use x=\"131.005859\" xlink:href=\"#DejaVuSans-114\"/>\n       <use x=\"172.119141\" xlink:href=\"#DejaVuSans-118\"/>\n       <use x=\"231.298828\" xlink:href=\"#DejaVuSans-117\"/>\n       <use x=\"294.677734\" xlink:href=\"#DejaVuSans-115\"/>\n       <use x=\"346.777344\" xlink:href=\"#DejaVuSans-32\"/>\n       <use x=\"378.564453\" xlink:href=\"#DejaVuSans-65\"/>\n       <use x=\"446.972656\" xlink:href=\"#DejaVuSans-105\"/>\n       <use x=\"474.755859\" xlink:href=\"#DejaVuSans-114\"/>\n       <use x=\"515.869141\" xlink:href=\"#DejaVuSans-108\"/>\n       <use x=\"543.652344\" xlink:href=\"#DejaVuSans-105\"/>\n       <use x=\"571.435547\" xlink:href=\"#DejaVuSans-110\"/>\n       <use x=\"634.814453\" xlink:href=\"#DejaVuSans-101\"/>\n       <use x=\"696.337891\" xlink:href=\"#DejaVuSans-115\"/>\n       <use x=\"748.4375\" xlink:href=\"#DejaVuSans-44\"/>\n       <use x=\"780.224609\" xlink:href=\"#DejaVuSans-32\"/>\n       <use x=\"812.011719\" xlink:href=\"#DejaVuSans-73\"/>\n       <use x=\"841.503906\" xlink:href=\"#DejaVuSans-110\"/>\n       <use x=\"904.882812\" xlink:href=\"#DejaVuSans-99\"/>\n       <use x=\"959.863281\" xlink:href=\"#DejaVuSans-32\"/>\n       <use x=\"991.650391\" xlink:href=\"#DejaVuSans-100\"/>\n       <use x=\"1055.126953\" xlink:href=\"#DejaVuSans-47\"/>\n       <use x=\"1088.818359\" xlink:href=\"#DejaVuSans-98\"/>\n       <use x=\"1152.294922\" xlink:href=\"#DejaVuSans-47\"/>\n       <use x=\"1185.986328\" xlink:href=\"#DejaVuSans-97\"/>\n       <use x=\"1247.265625\" xlink:href=\"#DejaVuSans-32\"/>\n       <use x=\"1279.052734\" xlink:href=\"#DejaVuSans-69\"/>\n       <use x=\"1342.236328\" xlink:href=\"#DejaVuSans-114\"/>\n       <use x=\"1383.349609\" xlink:href=\"#DejaVuSans-97\"/>\n       <use x=\"1444.628906\" xlink:href=\"#DejaVuSans-32\"/>\n       <use x=\"1476.416016\" xlink:href=\"#DejaVuSans-65\"/>\n       <use x=\"1538.949219\" xlink:href=\"#DejaVuSans-118\"/>\n       <use x=\"1598.128906\" xlink:href=\"#DejaVuSans-105\"/>\n       <use x=\"1625.912109\" xlink:href=\"#DejaVuSans-97\"/>\n       <use x=\"1687.191406\" xlink:href=\"#DejaVuSans-116\"/>\n       <use x=\"1726.400391\" xlink:href=\"#DejaVuSans-105\"/>\n       <use x=\"1754.183594\" xlink:href=\"#DejaVuSans-111\"/>\n       <use x=\"1815.365234\" xlink:href=\"#DejaVuSans-110\"/>\n       <use x=\"1878.744141\" xlink:href=\"#DejaVuSans-32\"/>\n       <use x=\"1910.53125\" xlink:href=\"#DejaVuSans-100\"/>\n       <use x=\"1974.007812\" xlink:href=\"#DejaVuSans-47\"/>\n       <use x=\"2007.699219\" xlink:href=\"#DejaVuSans-98\"/>\n       <use x=\"2071.175781\" xlink:href=\"#DejaVuSans-47\"/>\n       <use x=\"2104.867188\" xlink:href=\"#DejaVuSans-97\"/>\n       <use x=\"2166.146484\" xlink:href=\"#DejaVuSans-32\"/>\n       <use x=\"2197.933594\" xlink:href=\"#DejaVuSans-82\"/>\n       <use x=\"2265.166016\" xlink:href=\"#DejaVuSans-97\"/>\n       <use x=\"2326.445312\" xlink:href=\"#DejaVuSans-118\"/>\n       <use x=\"2385.625\" xlink:href=\"#DejaVuSans-110\"/>\n       <use x=\"2449.003906\" xlink:href=\"#DejaVuSans-32\"/>\n       <use x=\"2480.791016\" xlink:href=\"#DejaVuSans-65\"/>\n       <use x=\"2549.199219\" xlink:href=\"#DejaVuSans-108\"/>\n       <use x=\"2576.982422\" xlink:href=\"#DejaVuSans-97\"/>\n       <use x=\"2638.261719\" xlink:href=\"#DejaVuSans-115\"/>\n       <use x=\"2690.361328\" xlink:href=\"#DejaVuSans-107\"/>\n       <use x=\"2746.521484\" xlink:href=\"#DejaVuSans-97\"/>\n      </g>\n     </g>\n    </g>\n    <g id=\"xtick_42\">\n     <g id=\"line2d_42\">\n      <g>\n       <use style=\"stroke:#000000;stroke-width:0.8;\" x=\"424.429606\" xlink:href=\"#m3b5fe81e7c\" y=\"464.076875\"/>\n      </g>\n     </g>\n     <g id=\"text_42\">\n      <!-- CFM Inc d/b/a Contour Airlines d/b/a One Jet Shuttle -->\n      <g transform=\"translate(230.335466 482.474531)scale(0.15 -0.15)\">\n       <defs>\n        <path d=\"M 39.40625 66.21875 \nQ 28.65625 66.21875 22.328125 58.203125 \nQ 16.015625 50.203125 16.015625 36.375 \nQ 16.015625 22.609375 22.328125 14.59375 \nQ 28.65625 6.59375 39.40625 6.59375 \nQ 50.140625 6.59375 56.421875 14.59375 \nQ 62.703125 22.609375 62.703125 36.375 \nQ 62.703125 50.203125 56.421875 58.203125 \nQ 50.140625 66.21875 39.40625 66.21875 \nz\nM 39.40625 74.21875 \nQ 54.734375 74.21875 63.90625 63.9375 \nQ 73.09375 53.65625 73.09375 36.375 \nQ 73.09375 19.140625 63.90625 8.859375 \nQ 54.734375 -1.421875 39.40625 -1.421875 \nQ 24.03125 -1.421875 14.8125 8.828125 \nQ 5.609375 19.09375 5.609375 36.375 \nQ 5.609375 53.65625 14.8125 63.9375 \nQ 24.03125 74.21875 39.40625 74.21875 \nz\n\" id=\"DejaVuSans-79\"/>\n       </defs>\n       <use xlink:href=\"#DejaVuSans-67\"/>\n       <use x=\"69.824219\" xlink:href=\"#DejaVuSans-70\"/>\n       <use x=\"127.34375\" xlink:href=\"#DejaVuSans-77\"/>\n       <use x=\"213.623047\" xlink:href=\"#DejaVuSans-32\"/>\n       <use x=\"245.410156\" xlink:href=\"#DejaVuSans-73\"/>\n       <use x=\"274.902344\" xlink:href=\"#DejaVuSans-110\"/>\n       <use x=\"338.28125\" xlink:href=\"#DejaVuSans-99\"/>\n       <use x=\"393.261719\" xlink:href=\"#DejaVuSans-32\"/>\n       <use x=\"425.048828\" xlink:href=\"#DejaVuSans-100\"/>\n       <use x=\"488.525391\" xlink:href=\"#DejaVuSans-47\"/>\n       <use x=\"522.216797\" xlink:href=\"#DejaVuSans-98\"/>\n       <use x=\"585.693359\" xlink:href=\"#DejaVuSans-47\"/>\n       <use x=\"619.384766\" xlink:href=\"#DejaVuSans-97\"/>\n       <use x=\"680.664062\" xlink:href=\"#DejaVuSans-32\"/>\n       <use x=\"712.451172\" xlink:href=\"#DejaVuSans-67\"/>\n       <use x=\"782.275391\" xlink:href=\"#DejaVuSans-111\"/>\n       <use x=\"843.457031\" xlink:href=\"#DejaVuSans-110\"/>\n       <use x=\"906.835938\" xlink:href=\"#DejaVuSans-116\"/>\n       <use x=\"946.044922\" xlink:href=\"#DejaVuSans-111\"/>\n       <use x=\"1007.226562\" xlink:href=\"#DejaVuSans-117\"/>\n       <use x=\"1070.605469\" xlink:href=\"#DejaVuSans-114\"/>\n       <use x=\"1111.71875\" xlink:href=\"#DejaVuSans-32\"/>\n       <use x=\"1143.505859\" xlink:href=\"#DejaVuSans-65\"/>\n       <use x=\"1211.914062\" xlink:href=\"#DejaVuSans-105\"/>\n       <use x=\"1239.697266\" xlink:href=\"#DejaVuSans-114\"/>\n       <use x=\"1280.810547\" xlink:href=\"#DejaVuSans-108\"/>\n       <use x=\"1308.59375\" xlink:href=\"#DejaVuSans-105\"/>\n       <use x=\"1336.376953\" xlink:href=\"#DejaVuSans-110\"/>\n       <use x=\"1399.755859\" xlink:href=\"#DejaVuSans-101\"/>\n       <use x=\"1461.279297\" xlink:href=\"#DejaVuSans-115\"/>\n       <use x=\"1513.378906\" xlink:href=\"#DejaVuSans-32\"/>\n       <use x=\"1545.166016\" xlink:href=\"#DejaVuSans-100\"/>\n       <use x=\"1608.642578\" xlink:href=\"#DejaVuSans-47\"/>\n       <use x=\"1642.333984\" xlink:href=\"#DejaVuSans-98\"/>\n       <use x=\"1705.810547\" xlink:href=\"#DejaVuSans-47\"/>\n       <use x=\"1739.501953\" xlink:href=\"#DejaVuSans-97\"/>\n       <use x=\"1800.78125\" xlink:href=\"#DejaVuSans-32\"/>\n       <use x=\"1832.568359\" xlink:href=\"#DejaVuSans-79\"/>\n       <use x=\"1911.279297\" xlink:href=\"#DejaVuSans-110\"/>\n       <use x=\"1974.658203\" xlink:href=\"#DejaVuSans-101\"/>\n       <use x=\"2036.181641\" xlink:href=\"#DejaVuSans-32\"/>\n       <use x=\"2067.96875\" xlink:href=\"#DejaVuSans-74\"/>\n       <use x=\"2097.460938\" xlink:href=\"#DejaVuSans-101\"/>\n       <use x=\"2158.984375\" xlink:href=\"#DejaVuSans-116\"/>\n       <use x=\"2198.193359\" xlink:href=\"#DejaVuSans-32\"/>\n       <use x=\"2229.980469\" xlink:href=\"#DejaVuSans-83\"/>\n       <use x=\"2293.457031\" xlink:href=\"#DejaVuSans-104\"/>\n       <use x=\"2356.835938\" xlink:href=\"#DejaVuSans-117\"/>\n       <use x=\"2420.214844\" xlink:href=\"#DejaVuSans-116\"/>\n       <use x=\"2459.423828\" xlink:href=\"#DejaVuSans-116\"/>\n       <use x=\"2498.632812\" xlink:href=\"#DejaVuSans-108\"/>\n       <use x=\"2526.416016\" xlink:href=\"#DejaVuSans-101\"/>\n      </g>\n     </g>\n    </g>\n    <g id=\"xtick_43\">\n     <g id=\"line2d_43\">\n      <g>\n       <use style=\"stroke:#000000;stroke-width:0.8;\" x=\"432.306512\" xlink:href=\"#m3b5fe81e7c\" y=\"464.076875\"/>\n      </g>\n     </g>\n     <g id=\"text_43\">\n      <!-- Island Air Service -->\n      <g transform=\"translate(367.207684 482.474531)scale(0.15 -0.15)\">\n       <use xlink:href=\"#DejaVuSans-73\"/>\n       <use x=\"29.492188\" xlink:href=\"#DejaVuSans-115\"/>\n       <use x=\"81.591797\" xlink:href=\"#DejaVuSans-108\"/>\n       <use x=\"109.375\" xlink:href=\"#DejaVuSans-97\"/>\n       <use x=\"170.654297\" xlink:href=\"#DejaVuSans-110\"/>\n       <use x=\"234.033203\" xlink:href=\"#DejaVuSans-100\"/>\n       <use x=\"297.509766\" xlink:href=\"#DejaVuSans-32\"/>\n       <use x=\"329.296875\" xlink:href=\"#DejaVuSans-65\"/>\n       <use x=\"397.705078\" xlink:href=\"#DejaVuSans-105\"/>\n       <use x=\"425.488281\" xlink:href=\"#DejaVuSans-114\"/>\n       <use x=\"466.601562\" xlink:href=\"#DejaVuSans-32\"/>\n       <use x=\"498.388672\" xlink:href=\"#DejaVuSans-83\"/>\n       <use x=\"561.865234\" xlink:href=\"#DejaVuSans-101\"/>\n       <use x=\"623.388672\" xlink:href=\"#DejaVuSans-114\"/>\n       <use x=\"664.501953\" xlink:href=\"#DejaVuSans-118\"/>\n       <use x=\"723.681641\" xlink:href=\"#DejaVuSans-105\"/>\n       <use x=\"751.464844\" xlink:href=\"#DejaVuSans-99\"/>\n       <use x=\"806.445312\" xlink:href=\"#DejaVuSans-101\"/>\n      </g>\n     </g>\n    </g>\n    <g id=\"xtick_44\">\n     <g id=\"line2d_44\">\n      <g>\n       <use style=\"stroke:#000000;stroke-width:0.8;\" x=\"440.183418\" xlink:href=\"#m3b5fe81e7c\" y=\"464.076875\"/>\n      </g>\n     </g>\n     <g id=\"text_44\">\n      <!-- XTRA Airways -->\n      <g transform=\"translate(388.797871 482.474531)scale(0.15 -0.15)\">\n       <defs>\n        <path d=\"M 6.296875 72.90625 \nL 16.890625 72.90625 \nL 35.015625 45.796875 \nL 53.21875 72.90625 \nL 63.8125 72.90625 \nL 40.375 37.890625 \nL 65.375 0 \nL 54.78125 0 \nL 34.28125 31 \nL 13.625 0 \nL 2.984375 0 \nL 29 38.921875 \nz\n\" id=\"DejaVuSans-88\"/>\n       </defs>\n       <use xlink:href=\"#DejaVuSans-88\"/>\n       <use x=\"66.755859\" xlink:href=\"#DejaVuSans-84\"/>\n       <use x=\"127.839844\" xlink:href=\"#DejaVuSans-82\"/>\n       <use x=\"193.322266\" xlink:href=\"#DejaVuSans-65\"/>\n       <use x=\"261.730469\" xlink:href=\"#DejaVuSans-32\"/>\n       <use x=\"293.517578\" xlink:href=\"#DejaVuSans-65\"/>\n       <use x=\"361.925781\" xlink:href=\"#DejaVuSans-105\"/>\n       <use x=\"389.708984\" xlink:href=\"#DejaVuSans-114\"/>\n       <use x=\"430.822266\" xlink:href=\"#DejaVuSans-119\"/>\n       <use x=\"512.609375\" xlink:href=\"#DejaVuSans-97\"/>\n       <use x=\"573.888672\" xlink:href=\"#DejaVuSans-121\"/>\n       <use x=\"633.068359\" xlink:href=\"#DejaVuSans-115\"/>\n      </g>\n     </g>\n    </g>\n    <g id=\"xtick_45\">\n     <g id=\"line2d_45\">\n      <g>\n       <use style=\"stroke:#000000;stroke-width:0.8;\" x=\"448.060323\" xlink:href=\"#m3b5fe81e7c\" y=\"464.076875\"/>\n      </g>\n     </g>\n     <g id=\"text_45\">\n      <!-- Caribbean Sun Airlines, Inc. d/b/a World Atlantic Airlines -->\n      <g transform=\"translate(238.101339 482.474531)scale(0.15 -0.15)\">\n       <use xlink:href=\"#DejaVuSans-67\"/>\n       <use x=\"69.824219\" xlink:href=\"#DejaVuSans-97\"/>\n       <use x=\"131.103516\" xlink:href=\"#DejaVuSans-114\"/>\n       <use x=\"172.216797\" xlink:href=\"#DejaVuSans-105\"/>\n       <use x=\"200\" xlink:href=\"#DejaVuSans-98\"/>\n       <use x=\"263.476562\" xlink:href=\"#DejaVuSans-98\"/>\n       <use x=\"326.953125\" xlink:href=\"#DejaVuSans-101\"/>\n       <use x=\"388.476562\" xlink:href=\"#DejaVuSans-97\"/>\n       <use x=\"449.755859\" xlink:href=\"#DejaVuSans-110\"/>\n       <use x=\"513.134766\" xlink:href=\"#DejaVuSans-32\"/>\n       <use x=\"544.921875\" xlink:href=\"#DejaVuSans-83\"/>\n       <use x=\"608.398438\" xlink:href=\"#DejaVuSans-117\"/>\n       <use x=\"671.777344\" xlink:href=\"#DejaVuSans-110\"/>\n       <use x=\"735.15625\" xlink:href=\"#DejaVuSans-32\"/>\n       <use x=\"766.943359\" xlink:href=\"#DejaVuSans-65\"/>\n       <use x=\"835.351562\" xlink:href=\"#DejaVuSans-105\"/>\n       <use x=\"863.134766\" xlink:href=\"#DejaVuSans-114\"/>\n       <use x=\"904.248047\" xlink:href=\"#DejaVuSans-108\"/>\n       <use x=\"932.03125\" xlink:href=\"#DejaVuSans-105\"/>\n       <use x=\"959.814453\" xlink:href=\"#DejaVuSans-110\"/>\n       <use x=\"1023.193359\" xlink:href=\"#DejaVuSans-101\"/>\n       <use x=\"1084.716797\" xlink:href=\"#DejaVuSans-115\"/>\n       <use x=\"1136.816406\" xlink:href=\"#DejaVuSans-44\"/>\n       <use x=\"1168.603516\" xlink:href=\"#DejaVuSans-32\"/>\n       <use x=\"1200.390625\" xlink:href=\"#DejaVuSans-73\"/>\n       <use x=\"1229.882812\" xlink:href=\"#DejaVuSans-110\"/>\n       <use x=\"1293.261719\" xlink:href=\"#DejaVuSans-99\"/>\n       <use x=\"1348.242188\" xlink:href=\"#DejaVuSans-46\"/>\n       <use x=\"1380.029297\" xlink:href=\"#DejaVuSans-32\"/>\n       <use x=\"1411.816406\" xlink:href=\"#DejaVuSans-100\"/>\n       <use x=\"1475.292969\" xlink:href=\"#DejaVuSans-47\"/>\n       <use x=\"1508.984375\" xlink:href=\"#DejaVuSans-98\"/>\n       <use x=\"1572.460938\" xlink:href=\"#DejaVuSans-47\"/>\n       <use x=\"1606.152344\" xlink:href=\"#DejaVuSans-97\"/>\n       <use x=\"1667.431641\" xlink:href=\"#DejaVuSans-32\"/>\n       <use x=\"1699.21875\" xlink:href=\"#DejaVuSans-87\"/>\n       <use x=\"1792.220703\" xlink:href=\"#DejaVuSans-111\"/>\n       <use x=\"1853.402344\" xlink:href=\"#DejaVuSans-114\"/>\n       <use x=\"1894.515625\" xlink:href=\"#DejaVuSans-108\"/>\n       <use x=\"1922.298828\" xlink:href=\"#DejaVuSans-100\"/>\n       <use x=\"1985.775391\" xlink:href=\"#DejaVuSans-32\"/>\n       <use x=\"2017.5625\" xlink:href=\"#DejaVuSans-65\"/>\n       <use x=\"2084.220703\" xlink:href=\"#DejaVuSans-116\"/>\n       <use x=\"2123.429688\" xlink:href=\"#DejaVuSans-108\"/>\n       <use x=\"2151.212891\" xlink:href=\"#DejaVuSans-97\"/>\n       <use x=\"2212.492188\" xlink:href=\"#DejaVuSans-110\"/>\n       <use x=\"2275.871094\" xlink:href=\"#DejaVuSans-116\"/>\n       <use x=\"2315.080078\" xlink:href=\"#DejaVuSans-105\"/>\n       <use x=\"2342.863281\" xlink:href=\"#DejaVuSans-99\"/>\n       <use x=\"2397.84375\" xlink:href=\"#DejaVuSans-32\"/>\n       <use x=\"2429.630859\" xlink:href=\"#DejaVuSans-65\"/>\n       <use x=\"2498.039062\" xlink:href=\"#DejaVuSans-105\"/>\n       <use x=\"2525.822266\" xlink:href=\"#DejaVuSans-114\"/>\n       <use x=\"2566.935547\" xlink:href=\"#DejaVuSans-108\"/>\n       <use x=\"2594.71875\" xlink:href=\"#DejaVuSans-105\"/>\n       <use x=\"2622.501953\" xlink:href=\"#DejaVuSans-110\"/>\n       <use x=\"2685.880859\" xlink:href=\"#DejaVuSans-101\"/>\n       <use x=\"2747.404297\" xlink:href=\"#DejaVuSans-115\"/>\n      </g>\n     </g>\n    </g>\n    <g id=\"xtick_46\">\n     <g id=\"line2d_46\">\n      <g>\n       <use style=\"stroke:#000000;stroke-width:0.8;\" x=\"455.937229\" xlink:href=\"#m3b5fe81e7c\" y=\"464.076875\"/>\n      </g>\n     </g>\n     <g id=\"text_46\">\n      <!-- Silver Airways -->\n      <g transform=\"translate(403.114964 482.474531)scale(0.15 -0.15)\">\n       <use xlink:href=\"#DejaVuSans-83\"/>\n       <use x=\"63.476562\" xlink:href=\"#DejaVuSans-105\"/>\n       <use x=\"91.259766\" xlink:href=\"#DejaVuSans-108\"/>\n       <use x=\"119.042969\" xlink:href=\"#DejaVuSans-118\"/>\n       <use x=\"178.222656\" xlink:href=\"#DejaVuSans-101\"/>\n       <use x=\"239.746094\" xlink:href=\"#DejaVuSans-114\"/>\n       <use x=\"280.859375\" xlink:href=\"#DejaVuSans-32\"/>\n       <use x=\"312.646484\" xlink:href=\"#DejaVuSans-65\"/>\n       <use x=\"381.054688\" xlink:href=\"#DejaVuSans-105\"/>\n       <use x=\"408.837891\" xlink:href=\"#DejaVuSans-114\"/>\n       <use x=\"449.951172\" xlink:href=\"#DejaVuSans-119\"/>\n       <use x=\"531.738281\" xlink:href=\"#DejaVuSans-97\"/>\n       <use x=\"593.017578\" xlink:href=\"#DejaVuSans-121\"/>\n       <use x=\"652.197266\" xlink:href=\"#DejaVuSans-115\"/>\n      </g>\n     </g>\n    </g>\n    <g id=\"xtick_47\">\n     <g id=\"line2d_47\">\n      <g>\n       <use style=\"stroke:#000000;stroke-width:0.8;\" x=\"463.814135\" xlink:href=\"#m3b5fe81e7c\" y=\"464.076875\"/>\n      </g>\n     </g>\n     <g id=\"text_47\">\n      <!-- Via Airlines d/b/a Charter Air Transport -->\n      <g transform=\"translate(319.550463 482.474531)scale(0.15 -0.15)\">\n       <use xlink:href=\"#DejaVuSans-86\"/>\n       <use x=\"66.158203\" xlink:href=\"#DejaVuSans-105\"/>\n       <use x=\"93.941406\" xlink:href=\"#DejaVuSans-97\"/>\n       <use x=\"155.220703\" xlink:href=\"#DejaVuSans-32\"/>\n       <use x=\"187.007812\" xlink:href=\"#DejaVuSans-65\"/>\n       <use x=\"255.416016\" xlink:href=\"#DejaVuSans-105\"/>\n       <use x=\"283.199219\" xlink:href=\"#DejaVuSans-114\"/>\n       <use x=\"324.3125\" xlink:href=\"#DejaVuSans-108\"/>\n       <use x=\"352.095703\" xlink:href=\"#DejaVuSans-105\"/>\n       <use x=\"379.878906\" xlink:href=\"#DejaVuSans-110\"/>\n       <use x=\"443.257812\" xlink:href=\"#DejaVuSans-101\"/>\n       <use x=\"504.78125\" xlink:href=\"#DejaVuSans-115\"/>\n       <use x=\"556.880859\" xlink:href=\"#DejaVuSans-32\"/>\n       <use x=\"588.667969\" xlink:href=\"#DejaVuSans-100\"/>\n       <use x=\"652.144531\" xlink:href=\"#DejaVuSans-47\"/>\n       <use x=\"685.835938\" xlink:href=\"#DejaVuSans-98\"/>\n       <use x=\"749.3125\" xlink:href=\"#DejaVuSans-47\"/>\n       <use x=\"783.003906\" xlink:href=\"#DejaVuSans-97\"/>\n       <use x=\"844.283203\" xlink:href=\"#DejaVuSans-32\"/>\n       <use x=\"876.070312\" xlink:href=\"#DejaVuSans-67\"/>\n       <use x=\"945.894531\" xlink:href=\"#DejaVuSans-104\"/>\n       <use x=\"1009.273438\" xlink:href=\"#DejaVuSans-97\"/>\n       <use x=\"1070.552734\" xlink:href=\"#DejaVuSans-114\"/>\n       <use x=\"1111.666016\" xlink:href=\"#DejaVuSans-116\"/>\n       <use x=\"1150.875\" xlink:href=\"#DejaVuSans-101\"/>\n       <use x=\"1212.398438\" xlink:href=\"#DejaVuSans-114\"/>\n       <use x=\"1253.511719\" xlink:href=\"#DejaVuSans-32\"/>\n       <use x=\"1285.298828\" xlink:href=\"#DejaVuSans-65\"/>\n       <use x=\"1353.707031\" xlink:href=\"#DejaVuSans-105\"/>\n       <use x=\"1381.490234\" xlink:href=\"#DejaVuSans-114\"/>\n       <use x=\"1422.603516\" xlink:href=\"#DejaVuSans-32\"/>\n       <use x=\"1454.390625\" xlink:href=\"#DejaVuSans-84\"/>\n       <use x=\"1500.724609\" xlink:href=\"#DejaVuSans-114\"/>\n       <use x=\"1541.837891\" xlink:href=\"#DejaVuSans-97\"/>\n       <use x=\"1603.117188\" xlink:href=\"#DejaVuSans-110\"/>\n       <use x=\"1666.496094\" xlink:href=\"#DejaVuSans-115\"/>\n       <use x=\"1718.595703\" xlink:href=\"#DejaVuSans-112\"/>\n       <use x=\"1782.072266\" xlink:href=\"#DejaVuSans-111\"/>\n       <use x=\"1843.253906\" xlink:href=\"#DejaVuSans-114\"/>\n       <use x=\"1884.367188\" xlink:href=\"#DejaVuSans-116\"/>\n      </g>\n     </g>\n    </g>\n    <g id=\"xtick_48\">\n     <g id=\"line2d_48\">\n      <g>\n       <use style=\"stroke:#000000;stroke-width:0.8;\" x=\"471.691041\" xlink:href=\"#m3b5fe81e7c\" y=\"464.076875\"/>\n      </g>\n     </g>\n     <g id=\"text_48\">\n      <!-- Peninsula Airways Inc. -->\n      <g transform=\"translate(388.282837 482.474531)scale(0.15 -0.15)\">\n       <use xlink:href=\"#DejaVuSans-80\"/>\n       <use x=\"56.677734\" xlink:href=\"#DejaVuSans-101\"/>\n       <use x=\"118.201172\" xlink:href=\"#DejaVuSans-110\"/>\n       <use x=\"181.580078\" xlink:href=\"#DejaVuSans-105\"/>\n       <use x=\"209.363281\" xlink:href=\"#DejaVuSans-110\"/>\n       <use x=\"272.742188\" xlink:href=\"#DejaVuSans-115\"/>\n       <use x=\"324.841797\" xlink:href=\"#DejaVuSans-117\"/>\n       <use x=\"388.220703\" xlink:href=\"#DejaVuSans-108\"/>\n       <use x=\"416.003906\" xlink:href=\"#DejaVuSans-97\"/>\n       <use x=\"477.283203\" xlink:href=\"#DejaVuSans-32\"/>\n       <use x=\"509.070312\" xlink:href=\"#DejaVuSans-65\"/>\n       <use x=\"577.478516\" xlink:href=\"#DejaVuSans-105\"/>\n       <use x=\"605.261719\" xlink:href=\"#DejaVuSans-114\"/>\n       <use x=\"646.375\" xlink:href=\"#DejaVuSans-119\"/>\n       <use x=\"728.162109\" xlink:href=\"#DejaVuSans-97\"/>\n       <use x=\"789.441406\" xlink:href=\"#DejaVuSans-121\"/>\n       <use x=\"848.621094\" xlink:href=\"#DejaVuSans-115\"/>\n       <use x=\"900.720703\" xlink:href=\"#DejaVuSans-32\"/>\n       <use x=\"932.507812\" xlink:href=\"#DejaVuSans-73\"/>\n       <use x=\"962\" xlink:href=\"#DejaVuSans-110\"/>\n       <use x=\"1025.378906\" xlink:href=\"#DejaVuSans-99\"/>\n       <use x=\"1080.359375\" xlink:href=\"#DejaVuSans-46\"/>\n      </g>\n     </g>\n    </g>\n    <g id=\"xtick_49\">\n     <g id=\"line2d_49\">\n      <g>\n       <use style=\"stroke:#000000;stroke-width:0.8;\" x=\"479.567946\" xlink:href=\"#m3b5fe81e7c\" y=\"464.076875\"/>\n      </g>\n     </g>\n     <g id=\"text_49\">\n      <!-- Venture Travel LLC d/b/a Taquan Air Service -->\n      <g transform=\"translate(316.247243 482.474531)scale(0.15 -0.15)\">\n       <use xlink:href=\"#DejaVuSans-86\"/>\n       <use x=\"60.658203\" xlink:href=\"#DejaVuSans-101\"/>\n       <use x=\"122.181641\" xlink:href=\"#DejaVuSans-110\"/>\n       <use x=\"185.560547\" xlink:href=\"#DejaVuSans-116\"/>\n       <use x=\"224.769531\" xlink:href=\"#DejaVuSans-117\"/>\n       <use x=\"288.148438\" xlink:href=\"#DejaVuSans-114\"/>\n       <use x=\"327.011719\" xlink:href=\"#DejaVuSans-101\"/>\n       <use x=\"388.535156\" xlink:href=\"#DejaVuSans-32\"/>\n       <use x=\"420.322266\" xlink:href=\"#DejaVuSans-84\"/>\n       <use x=\"466.65625\" xlink:href=\"#DejaVuSans-114\"/>\n       <use x=\"507.769531\" xlink:href=\"#DejaVuSans-97\"/>\n       <use x=\"569.048828\" xlink:href=\"#DejaVuSans-118\"/>\n       <use x=\"628.228516\" xlink:href=\"#DejaVuSans-101\"/>\n       <use x=\"689.751953\" xlink:href=\"#DejaVuSans-108\"/>\n       <use x=\"717.535156\" xlink:href=\"#DejaVuSans-32\"/>\n       <use x=\"749.322266\" xlink:href=\"#DejaVuSans-76\"/>\n       <use x=\"805.035156\" xlink:href=\"#DejaVuSans-76\"/>\n       <use x=\"860.748047\" xlink:href=\"#DejaVuSans-67\"/>\n       <use x=\"930.572266\" xlink:href=\"#DejaVuSans-32\"/>\n       <use x=\"962.359375\" xlink:href=\"#DejaVuSans-100\"/>\n       <use x=\"1025.835938\" xlink:href=\"#DejaVuSans-47\"/>\n       <use x=\"1059.527344\" xlink:href=\"#DejaVuSans-98\"/>\n       <use x=\"1123.003906\" xlink:href=\"#DejaVuSans-47\"/>\n       <use x=\"1156.695312\" xlink:href=\"#DejaVuSans-97\"/>\n       <use x=\"1217.974609\" xlink:href=\"#DejaVuSans-32\"/>\n       <use x=\"1249.761719\" xlink:href=\"#DejaVuSans-84\"/>\n       <use x=\"1294.345703\" xlink:href=\"#DejaVuSans-97\"/>\n       <use x=\"1355.625\" xlink:href=\"#DejaVuSans-113\"/>\n       <use x=\"1419.101562\" xlink:href=\"#DejaVuSans-117\"/>\n       <use x=\"1482.480469\" xlink:href=\"#DejaVuSans-97\"/>\n       <use x=\"1543.759766\" xlink:href=\"#DejaVuSans-110\"/>\n       <use x=\"1607.138672\" xlink:href=\"#DejaVuSans-32\"/>\n       <use x=\"1638.925781\" xlink:href=\"#DejaVuSans-65\"/>\n       <use x=\"1707.333984\" xlink:href=\"#DejaVuSans-105\"/>\n       <use x=\"1735.117188\" xlink:href=\"#DejaVuSans-114\"/>\n       <use x=\"1776.230469\" xlink:href=\"#DejaVuSans-32\"/>\n       <use x=\"1808.017578\" xlink:href=\"#DejaVuSans-83\"/>\n       <use x=\"1871.494141\" xlink:href=\"#DejaVuSans-101\"/>\n       <use x=\"1933.017578\" xlink:href=\"#DejaVuSans-114\"/>\n       <use x=\"1974.130859\" xlink:href=\"#DejaVuSans-118\"/>\n       <use x=\"2033.310547\" xlink:href=\"#DejaVuSans-105\"/>\n       <use x=\"2061.09375\" xlink:href=\"#DejaVuSans-99\"/>\n       <use x=\"2116.074219\" xlink:href=\"#DejaVuSans-101\"/>\n      </g>\n     </g>\n    </g>\n    <g id=\"xtick_50\">\n     <g id=\"line2d_50\">\n      <g>\n       <use style=\"stroke:#000000;stroke-width:0.8;\" x=\"487.444852\" xlink:href=\"#m3b5fe81e7c\" y=\"464.076875\"/>\n      </g>\n     </g>\n     <g id=\"text_50\">\n      <!-- Great Lakes Airlines -->\n      <g transform=\"translate(412.693289 482.474531)scale(0.15 -0.15)\">\n       <use xlink:href=\"#DejaVuSans-71\"/>\n       <use x=\"77.490234\" xlink:href=\"#DejaVuSans-114\"/>\n       <use x=\"116.353516\" xlink:href=\"#DejaVuSans-101\"/>\n       <use x=\"177.876953\" xlink:href=\"#DejaVuSans-97\"/>\n       <use x=\"239.15625\" xlink:href=\"#DejaVuSans-116\"/>\n       <use x=\"278.365234\" xlink:href=\"#DejaVuSans-32\"/>\n       <use x=\"310.152344\" xlink:href=\"#DejaVuSans-76\"/>\n       <use x=\"365.865234\" xlink:href=\"#DejaVuSans-97\"/>\n       <use x=\"427.144531\" xlink:href=\"#DejaVuSans-107\"/>\n       <use x=\"481.429688\" xlink:href=\"#DejaVuSans-101\"/>\n       <use x=\"542.953125\" xlink:href=\"#DejaVuSans-115\"/>\n       <use x=\"595.052734\" xlink:href=\"#DejaVuSans-32\"/>\n       <use x=\"626.839844\" xlink:href=\"#DejaVuSans-65\"/>\n       <use x=\"695.248047\" xlink:href=\"#DejaVuSans-105\"/>\n       <use x=\"723.03125\" xlink:href=\"#DejaVuSans-114\"/>\n       <use x=\"764.144531\" xlink:href=\"#DejaVuSans-108\"/>\n       <use x=\"791.927734\" xlink:href=\"#DejaVuSans-105\"/>\n       <use x=\"819.710938\" xlink:href=\"#DejaVuSans-110\"/>\n       <use x=\"883.089844\" xlink:href=\"#DejaVuSans-101\"/>\n       <use x=\"944.613281\" xlink:href=\"#DejaVuSans-115\"/>\n      </g>\n     </g>\n    </g>\n    <g id=\"xtick_51\">\n     <g id=\"line2d_51\">\n      <g>\n       <use style=\"stroke:#000000;stroke-width:0.8;\" x=\"495.321758\" xlink:href=\"#m3b5fe81e7c\" y=\"464.076875\"/>\n      </g>\n     </g>\n     <g id=\"text_51\">\n      <!-- Iliamna Air Taxi -->\n      <g transform=\"translate(438.164726 482.474531)scale(0.15 -0.15)\">\n       <use xlink:href=\"#DejaVuSans-73\"/>\n       <use x=\"29.492188\" xlink:href=\"#DejaVuSans-108\"/>\n       <use x=\"57.275391\" xlink:href=\"#DejaVuSans-105\"/>\n       <use x=\"85.058594\" xlink:href=\"#DejaVuSans-97\"/>\n       <use x=\"146.337891\" xlink:href=\"#DejaVuSans-109\"/>\n       <use x=\"243.75\" xlink:href=\"#DejaVuSans-110\"/>\n       <use x=\"307.128906\" xlink:href=\"#DejaVuSans-97\"/>\n       <use x=\"368.408203\" xlink:href=\"#DejaVuSans-32\"/>\n       <use x=\"400.195312\" xlink:href=\"#DejaVuSans-65\"/>\n       <use x=\"468.603516\" xlink:href=\"#DejaVuSans-105\"/>\n       <use x=\"496.386719\" xlink:href=\"#DejaVuSans-114\"/>\n       <use x=\"537.5\" xlink:href=\"#DejaVuSans-32\"/>\n       <use x=\"569.287109\" xlink:href=\"#DejaVuSans-84\"/>\n       <use x=\"613.871094\" xlink:href=\"#DejaVuSans-97\"/>\n       <use x=\"675.150391\" xlink:href=\"#DejaVuSans-120\"/>\n       <use x=\"734.330078\" xlink:href=\"#DejaVuSans-105\"/>\n      </g>\n     </g>\n    </g>\n    <g id=\"xtick_52\">\n     <g id=\"line2d_52\">\n      <g>\n       <use style=\"stroke:#000000;stroke-width:0.8;\" x=\"503.198663\" xlink:href=\"#m3b5fe81e7c\" y=\"464.076875\"/>\n      </g>\n     </g>\n     <g id=\"text_52\">\n      <!-- Avjet Corporation -->\n      <g transform=\"translate(437.742413 482.474531)scale(0.15 -0.15)\">\n       <defs>\n        <path d=\"M 9.421875 54.6875 \nL 18.40625 54.6875 \nL 18.40625 -0.984375 \nQ 18.40625 -11.421875 14.421875 -16.109375 \nQ 10.453125 -20.796875 1.609375 -20.796875 \nL -1.8125 -20.796875 \nL -1.8125 -13.1875 \nL 0.59375 -13.1875 \nQ 5.71875 -13.1875 7.5625 -10.8125 \nQ 9.421875 -8.453125 9.421875 -0.984375 \nz\nM 9.421875 75.984375 \nL 18.40625 75.984375 \nL 18.40625 64.59375 \nL 9.421875 64.59375 \nz\n\" id=\"DejaVuSans-106\"/>\n       </defs>\n       <use xlink:href=\"#DejaVuSans-65\"/>\n       <use x=\"62.533203\" xlink:href=\"#DejaVuSans-118\"/>\n       <use x=\"121.712891\" xlink:href=\"#DejaVuSans-106\"/>\n       <use x=\"149.496094\" xlink:href=\"#DejaVuSans-101\"/>\n       <use x=\"211.019531\" xlink:href=\"#DejaVuSans-116\"/>\n       <use x=\"250.228516\" xlink:href=\"#DejaVuSans-32\"/>\n       <use x=\"282.015625\" xlink:href=\"#DejaVuSans-67\"/>\n       <use x=\"351.839844\" xlink:href=\"#DejaVuSans-111\"/>\n       <use x=\"413.021484\" xlink:href=\"#DejaVuSans-114\"/>\n       <use x=\"454.134766\" xlink:href=\"#DejaVuSans-112\"/>\n       <use x=\"517.611328\" xlink:href=\"#DejaVuSans-111\"/>\n       <use x=\"578.792969\" xlink:href=\"#DejaVuSans-114\"/>\n       <use x=\"619.90625\" xlink:href=\"#DejaVuSans-97\"/>\n       <use x=\"681.185547\" xlink:href=\"#DejaVuSans-116\"/>\n       <use x=\"720.394531\" xlink:href=\"#DejaVuSans-105\"/>\n       <use x=\"748.177734\" xlink:href=\"#DejaVuSans-111\"/>\n       <use x=\"809.359375\" xlink:href=\"#DejaVuSans-110\"/>\n      </g>\n     </g>\n    </g>\n    <g id=\"xtick_53\">\n     <g id=\"line2d_53\">\n      <g>\n       <use style=\"stroke:#000000;stroke-width:0.8;\" x=\"511.075569\" xlink:href=\"#m3b5fe81e7c\" y=\"464.076875\"/>\n      </g>\n     </g>\n     <g id=\"text_53\">\n      <!-- Warbelow -->\n      <g transform=\"translate(474.27635 482.474531)scale(0.15 -0.15)\">\n       <use xlink:href=\"#DejaVuSans-87\"/>\n       <use x=\"92.501953\" xlink:href=\"#DejaVuSans-97\"/>\n       <use x=\"153.78125\" xlink:href=\"#DejaVuSans-114\"/>\n       <use x=\"194.894531\" xlink:href=\"#DejaVuSans-98\"/>\n       <use x=\"258.371094\" xlink:href=\"#DejaVuSans-101\"/>\n       <use x=\"319.894531\" xlink:href=\"#DejaVuSans-108\"/>\n       <use x=\"347.677734\" xlink:href=\"#DejaVuSans-111\"/>\n       <use x=\"408.859375\" xlink:href=\"#DejaVuSans-119\"/>\n      </g>\n     </g>\n    </g>\n    <g id=\"xtick_54\">\n     <g id=\"line2d_54\">\n      <g>\n       <use style=\"stroke:#000000;stroke-width:0.8;\" x=\"518.952475\" xlink:href=\"#m3b5fe81e7c\" y=\"464.076875\"/>\n      </g>\n     </g>\n     <g id=\"text_54\">\n      <!-- Falcon Air Express -->\n      <g transform=\"translate(450.830209 482.474531)scale(0.15 -0.15)\">\n       <use xlink:href=\"#DejaVuSans-70\"/>\n       <use x=\"48.394531\" xlink:href=\"#DejaVuSans-97\"/>\n       <use x=\"109.673828\" xlink:href=\"#DejaVuSans-108\"/>\n       <use x=\"137.457031\" xlink:href=\"#DejaVuSans-99\"/>\n       <use x=\"192.4375\" xlink:href=\"#DejaVuSans-111\"/>\n       <use x=\"253.619141\" xlink:href=\"#DejaVuSans-110\"/>\n       <use x=\"316.998047\" xlink:href=\"#DejaVuSans-32\"/>\n       <use x=\"348.785156\" xlink:href=\"#DejaVuSans-65\"/>\n       <use x=\"417.193359\" xlink:href=\"#DejaVuSans-105\"/>\n       <use x=\"444.976562\" xlink:href=\"#DejaVuSans-114\"/>\n       <use x=\"486.089844\" xlink:href=\"#DejaVuSans-32\"/>\n       <use x=\"517.876953\" xlink:href=\"#DejaVuSans-69\"/>\n       <use x=\"581.060547\" xlink:href=\"#DejaVuSans-120\"/>\n       <use x=\"640.240234\" xlink:href=\"#DejaVuSans-112\"/>\n       <use x=\"703.716797\" xlink:href=\"#DejaVuSans-114\"/>\n       <use x=\"742.580078\" xlink:href=\"#DejaVuSans-101\"/>\n       <use x=\"804.103516\" xlink:href=\"#DejaVuSans-115\"/>\n       <use x=\"856.203125\" xlink:href=\"#DejaVuSans-115\"/>\n      </g>\n     </g>\n    </g>\n    <g id=\"xtick_55\">\n     <g id=\"line2d_55\">\n      <g>\n       <use style=\"stroke:#000000;stroke-width:0.8;\" x=\"526.82938\" xlink:href=\"#m3b5fe81e7c\" y=\"464.076875\"/>\n      </g>\n     </g>\n     <g id=\"text_55\">\n      <!-- Boutique Air -->\n      <g transform=\"translate(480.507505 482.474531)scale(0.15 -0.15)\">\n       <use xlink:href=\"#DejaVuSans-66\"/>\n       <use x=\"68.603516\" xlink:href=\"#DejaVuSans-111\"/>\n       <use x=\"129.785156\" xlink:href=\"#DejaVuSans-117\"/>\n       <use x=\"193.164062\" xlink:href=\"#DejaVuSans-116\"/>\n       <use x=\"232.373047\" xlink:href=\"#DejaVuSans-105\"/>\n       <use x=\"260.15625\" xlink:href=\"#DejaVuSans-113\"/>\n       <use x=\"323.632812\" xlink:href=\"#DejaVuSans-117\"/>\n       <use x=\"387.011719\" xlink:href=\"#DejaVuSans-101\"/>\n       <use x=\"448.535156\" xlink:href=\"#DejaVuSans-32\"/>\n       <use x=\"480.322266\" xlink:href=\"#DejaVuSans-65\"/>\n       <use x=\"548.730469\" xlink:href=\"#DejaVuSans-105\"/>\n       <use x=\"576.513672\" xlink:href=\"#DejaVuSans-114\"/>\n      </g>\n     </g>\n    </g>\n    <g id=\"xtick_56\">\n     <g id=\"line2d_56\">\n      <g>\n       <use style=\"stroke:#000000;stroke-width:0.8;\" x=\"534.706286\" xlink:href=\"#m3b5fe81e7c\" y=\"464.076875\"/>\n      </g>\n     </g>\n     <g id=\"text_56\">\n      <!-- Seaport Airlines, Inc. -->\n      <g transform=\"translate(456.996911 482.474531)scale(0.15 -0.15)\">\n       <use xlink:href=\"#DejaVuSans-83\"/>\n       <use x=\"63.476562\" xlink:href=\"#DejaVuSans-101\"/>\n       <use x=\"125\" xlink:href=\"#DejaVuSans-97\"/>\n       <use x=\"186.279297\" xlink:href=\"#DejaVuSans-112\"/>\n       <use x=\"249.755859\" xlink:href=\"#DejaVuSans-111\"/>\n       <use x=\"310.9375\" xlink:href=\"#DejaVuSans-114\"/>\n       <use x=\"352.050781\" xlink:href=\"#DejaVuSans-116\"/>\n       <use x=\"391.259766\" xlink:href=\"#DejaVuSans-32\"/>\n       <use x=\"423.046875\" xlink:href=\"#DejaVuSans-65\"/>\n       <use x=\"491.455078\" xlink:href=\"#DejaVuSans-105\"/>\n       <use x=\"519.238281\" xlink:href=\"#DejaVuSans-114\"/>\n       <use x=\"560.351562\" xlink:href=\"#DejaVuSans-108\"/>\n       <use x=\"588.134766\" xlink:href=\"#DejaVuSans-105\"/>\n       <use x=\"615.917969\" xlink:href=\"#DejaVuSans-110\"/>\n       <use x=\"679.296875\" xlink:href=\"#DejaVuSans-101\"/>\n       <use x=\"740.820312\" xlink:href=\"#DejaVuSans-115\"/>\n       <use x=\"792.919922\" xlink:href=\"#DejaVuSans-44\"/>\n       <use x=\"824.707031\" xlink:href=\"#DejaVuSans-32\"/>\n       <use x=\"856.494141\" xlink:href=\"#DejaVuSans-73\"/>\n       <use x=\"885.986328\" xlink:href=\"#DejaVuSans-110\"/>\n       <use x=\"949.365234\" xlink:href=\"#DejaVuSans-99\"/>\n       <use x=\"1004.345703\" xlink:href=\"#DejaVuSans-46\"/>\n      </g>\n     </g>\n    </g>\n    <g id=\"xtick_57\">\n     <g id=\"line2d_57\">\n      <g>\n       <use style=\"stroke:#000000;stroke-width:0.8;\" x=\"542.583192\" xlink:href=\"#m3b5fe81e7c\" y=\"464.076875\"/>\n      </g>\n     </g>\n     <g id=\"text_57\">\n      <!-- Pacific Airways, Inc. -->\n      <g transform=\"translate(468.750379 482.474531)scale(0.15 -0.15)\">\n       <use xlink:href=\"#DejaVuSans-80\"/>\n       <use x=\"55.802734\" xlink:href=\"#DejaVuSans-97\"/>\n       <use x=\"117.082031\" xlink:href=\"#DejaVuSans-99\"/>\n       <use x=\"172.0625\" xlink:href=\"#DejaVuSans-105\"/>\n       <use x=\"199.845703\" xlink:href=\"#DejaVuSans-102\"/>\n       <use x=\"235.050781\" xlink:href=\"#DejaVuSans-105\"/>\n       <use x=\"262.833984\" xlink:href=\"#DejaVuSans-99\"/>\n       <use x=\"317.814453\" xlink:href=\"#DejaVuSans-32\"/>\n       <use x=\"349.601562\" xlink:href=\"#DejaVuSans-65\"/>\n       <use x=\"418.009766\" xlink:href=\"#DejaVuSans-105\"/>\n       <use x=\"445.792969\" xlink:href=\"#DejaVuSans-114\"/>\n       <use x=\"486.90625\" xlink:href=\"#DejaVuSans-119\"/>\n       <use x=\"568.693359\" xlink:href=\"#DejaVuSans-97\"/>\n       <use x=\"629.972656\" xlink:href=\"#DejaVuSans-121\"/>\n       <use x=\"689.152344\" xlink:href=\"#DejaVuSans-115\"/>\n       <use x=\"741.251953\" xlink:href=\"#DejaVuSans-44\"/>\n       <use x=\"773.039062\" xlink:href=\"#DejaVuSans-32\"/>\n       <use x=\"804.826172\" xlink:href=\"#DejaVuSans-73\"/>\n       <use x=\"834.318359\" xlink:href=\"#DejaVuSans-110\"/>\n       <use x=\"897.697266\" xlink:href=\"#DejaVuSans-99\"/>\n       <use x=\"952.677734\" xlink:href=\"#DejaVuSans-46\"/>\n      </g>\n     </g>\n    </g>\n    <g id=\"xtick_58\">\n     <g id=\"line2d_58\">\n      <g>\n       <use style=\"stroke:#000000;stroke-width:0.8;\" x=\"550.460098\" xlink:href=\"#m3b5fe81e7c\" y=\"464.076875\"/>\n      </g>\n     </g>\n     <g id=\"text_58\">\n      <!-- Eastern Airlines Group Inc. -->\n      <g transform=\"translate(450.765176 482.474531)scale(0.15 -0.15)\">\n       <use xlink:href=\"#DejaVuSans-69\"/>\n       <use x=\"63.183594\" xlink:href=\"#DejaVuSans-97\"/>\n       <use x=\"124.462891\" xlink:href=\"#DejaVuSans-115\"/>\n       <use x=\"176.5625\" xlink:href=\"#DejaVuSans-116\"/>\n       <use x=\"215.771484\" xlink:href=\"#DejaVuSans-101\"/>\n       <use x=\"277.294922\" xlink:href=\"#DejaVuSans-114\"/>\n       <use x=\"316.658203\" xlink:href=\"#DejaVuSans-110\"/>\n       <use x=\"380.037109\" xlink:href=\"#DejaVuSans-32\"/>\n       <use x=\"411.824219\" xlink:href=\"#DejaVuSans-65\"/>\n       <use x=\"480.232422\" xlink:href=\"#DejaVuSans-105\"/>\n       <use x=\"508.015625\" xlink:href=\"#DejaVuSans-114\"/>\n       <use x=\"549.128906\" xlink:href=\"#DejaVuSans-108\"/>\n       <use x=\"576.912109\" xlink:href=\"#DejaVuSans-105\"/>\n       <use x=\"604.695312\" xlink:href=\"#DejaVuSans-110\"/>\n       <use x=\"668.074219\" xlink:href=\"#DejaVuSans-101\"/>\n       <use x=\"729.597656\" xlink:href=\"#DejaVuSans-115\"/>\n       <use x=\"781.697266\" xlink:href=\"#DejaVuSans-32\"/>\n       <use x=\"813.484375\" xlink:href=\"#DejaVuSans-71\"/>\n       <use x=\"890.974609\" xlink:href=\"#DejaVuSans-114\"/>\n       <use x=\"929.837891\" xlink:href=\"#DejaVuSans-111\"/>\n       <use x=\"991.019531\" xlink:href=\"#DejaVuSans-117\"/>\n       <use x=\"1054.398438\" xlink:href=\"#DejaVuSans-112\"/>\n       <use x=\"1117.875\" xlink:href=\"#DejaVuSans-32\"/>\n       <use x=\"1149.662109\" xlink:href=\"#DejaVuSans-73\"/>\n       <use x=\"1179.154297\" xlink:href=\"#DejaVuSans-110\"/>\n       <use x=\"1242.533203\" xlink:href=\"#DejaVuSans-99\"/>\n       <use x=\"1297.513672\" xlink:href=\"#DejaVuSans-46\"/>\n      </g>\n     </g>\n    </g>\n    <g id=\"xtick_59\">\n     <g id=\"line2d_59\">\n      <g>\n       <use style=\"stroke:#000000;stroke-width:0.8;\" x=\"558.337003\" xlink:href=\"#m3b5fe81e7c\" y=\"464.076875\"/>\n      </g>\n     </g>\n     <g id=\"text_59\">\n      <!-- Ryan Air f/k/a Arctic Transportation -->\n      <g transform=\"translate(427.819425 482.474531)scale(0.15 -0.15)\">\n       <use xlink:href=\"#DejaVuSans-82\"/>\n       <use x=\"63.982422\" xlink:href=\"#DejaVuSans-121\"/>\n       <use x=\"123.162109\" xlink:href=\"#DejaVuSans-97\"/>\n       <use x=\"184.441406\" xlink:href=\"#DejaVuSans-110\"/>\n       <use x=\"247.820312\" xlink:href=\"#DejaVuSans-32\"/>\n       <use x=\"279.607422\" xlink:href=\"#DejaVuSans-65\"/>\n       <use x=\"348.015625\" xlink:href=\"#DejaVuSans-105\"/>\n       <use x=\"375.798828\" xlink:href=\"#DejaVuSans-114\"/>\n       <use x=\"416.912109\" xlink:href=\"#DejaVuSans-32\"/>\n       <use x=\"448.699219\" xlink:href=\"#DejaVuSans-102\"/>\n       <use x=\"483.904297\" xlink:href=\"#DejaVuSans-47\"/>\n       <use x=\"517.595703\" xlink:href=\"#DejaVuSans-107\"/>\n       <use x=\"575.505859\" xlink:href=\"#DejaVuSans-47\"/>\n       <use x=\"609.197266\" xlink:href=\"#DejaVuSans-97\"/>\n       <use x=\"670.476562\" xlink:href=\"#DejaVuSans-32\"/>\n       <use x=\"702.263672\" xlink:href=\"#DejaVuSans-65\"/>\n       <use x=\"770.671875\" xlink:href=\"#DejaVuSans-114\"/>\n       <use x=\"809.535156\" xlink:href=\"#DejaVuSans-99\"/>\n       <use x=\"864.515625\" xlink:href=\"#DejaVuSans-116\"/>\n       <use x=\"903.724609\" xlink:href=\"#DejaVuSans-105\"/>\n       <use x=\"931.507812\" xlink:href=\"#DejaVuSans-99\"/>\n       <use x=\"986.488281\" xlink:href=\"#DejaVuSans-32\"/>\n       <use x=\"1018.275391\" xlink:href=\"#DejaVuSans-84\"/>\n       <use x=\"1064.609375\" xlink:href=\"#DejaVuSans-114\"/>\n       <use x=\"1105.722656\" xlink:href=\"#DejaVuSans-97\"/>\n       <use x=\"1167.001953\" xlink:href=\"#DejaVuSans-110\"/>\n       <use x=\"1230.380859\" xlink:href=\"#DejaVuSans-115\"/>\n       <use x=\"1282.480469\" xlink:href=\"#DejaVuSans-112\"/>\n       <use x=\"1345.957031\" xlink:href=\"#DejaVuSans-111\"/>\n       <use x=\"1407.138672\" xlink:href=\"#DejaVuSans-114\"/>\n       <use x=\"1448.251953\" xlink:href=\"#DejaVuSans-116\"/>\n       <use x=\"1487.460938\" xlink:href=\"#DejaVuSans-97\"/>\n       <use x=\"1548.740234\" xlink:href=\"#DejaVuSans-116\"/>\n       <use x=\"1587.949219\" xlink:href=\"#DejaVuSans-105\"/>\n       <use x=\"1615.732422\" xlink:href=\"#DejaVuSans-111\"/>\n       <use x=\"1676.914062\" xlink:href=\"#DejaVuSans-110\"/>\n      </g>\n     </g>\n    </g>\n    <g id=\"xtick_60\">\n     <g id=\"line2d_60\">\n      <g>\n       <use style=\"stroke:#000000;stroke-width:0.8;\" x=\"566.213909\" xlink:href=\"#m3b5fe81e7c\" y=\"464.076875\"/>\n      </g>\n     </g>\n     <g id=\"text_60\">\n      <!-- Southern Airways Express, dba Mokulele Airlines -->\n      <g transform=\"translate(383.962737 482.474531)scale(0.15 -0.15)\">\n       <use xlink:href=\"#DejaVuSans-83\"/>\n       <use x=\"63.476562\" xlink:href=\"#DejaVuSans-111\"/>\n       <use x=\"124.658203\" xlink:href=\"#DejaVuSans-117\"/>\n       <use x=\"188.037109\" xlink:href=\"#DejaVuSans-116\"/>\n       <use x=\"227.246094\" xlink:href=\"#DejaVuSans-104\"/>\n       <use x=\"290.625\" xlink:href=\"#DejaVuSans-101\"/>\n       <use x=\"352.148438\" xlink:href=\"#DejaVuSans-114\"/>\n       <use x=\"391.511719\" xlink:href=\"#DejaVuSans-110\"/>\n       <use x=\"454.890625\" xlink:href=\"#DejaVuSans-32\"/>\n       <use x=\"486.677734\" xlink:href=\"#DejaVuSans-65\"/>\n       <use x=\"555.085938\" xlink:href=\"#DejaVuSans-105\"/>\n       <use x=\"582.869141\" xlink:href=\"#DejaVuSans-114\"/>\n       <use x=\"623.982422\" xlink:href=\"#DejaVuSans-119\"/>\n       <use x=\"705.769531\" xlink:href=\"#DejaVuSans-97\"/>\n       <use x=\"767.048828\" xlink:href=\"#DejaVuSans-121\"/>\n       <use x=\"826.228516\" xlink:href=\"#DejaVuSans-115\"/>\n       <use x=\"878.328125\" xlink:href=\"#DejaVuSans-32\"/>\n       <use x=\"910.115234\" xlink:href=\"#DejaVuSans-69\"/>\n       <use x=\"973.298828\" xlink:href=\"#DejaVuSans-120\"/>\n       <use x=\"1032.478516\" xlink:href=\"#DejaVuSans-112\"/>\n       <use x=\"1095.955078\" xlink:href=\"#DejaVuSans-114\"/>\n       <use x=\"1134.818359\" xlink:href=\"#DejaVuSans-101\"/>\n       <use x=\"1196.341797\" xlink:href=\"#DejaVuSans-115\"/>\n       <use x=\"1248.441406\" xlink:href=\"#DejaVuSans-115\"/>\n       <use x=\"1300.541016\" xlink:href=\"#DejaVuSans-44\"/>\n       <use x=\"1332.328125\" xlink:href=\"#DejaVuSans-32\"/>\n       <use x=\"1364.115234\" xlink:href=\"#DejaVuSans-100\"/>\n       <use x=\"1427.591797\" xlink:href=\"#DejaVuSans-98\"/>\n       <use x=\"1491.068359\" xlink:href=\"#DejaVuSans-97\"/>\n       <use x=\"1552.347656\" xlink:href=\"#DejaVuSans-32\"/>\n       <use x=\"1584.134766\" xlink:href=\"#DejaVuSans-77\"/>\n       <use x=\"1670.414062\" xlink:href=\"#DejaVuSans-111\"/>\n       <use x=\"1731.595703\" xlink:href=\"#DejaVuSans-107\"/>\n       <use x=\"1786.380859\" xlink:href=\"#DejaVuSans-117\"/>\n       <use x=\"1849.759766\" xlink:href=\"#DejaVuSans-108\"/>\n       <use x=\"1877.542969\" xlink:href=\"#DejaVuSans-101\"/>\n       <use x=\"1939.066406\" xlink:href=\"#DejaVuSans-108\"/>\n       <use x=\"1966.849609\" xlink:href=\"#DejaVuSans-101\"/>\n       <use x=\"2028.373047\" xlink:href=\"#DejaVuSans-32\"/>\n       <use x=\"2060.160156\" xlink:href=\"#DejaVuSans-65\"/>\n       <use x=\"2128.568359\" xlink:href=\"#DejaVuSans-105\"/>\n       <use x=\"2156.351562\" xlink:href=\"#DejaVuSans-114\"/>\n       <use x=\"2197.464844\" xlink:href=\"#DejaVuSans-108\"/>\n       <use x=\"2225.248047\" xlink:href=\"#DejaVuSans-105\"/>\n       <use x=\"2253.03125\" xlink:href=\"#DejaVuSans-110\"/>\n       <use x=\"2316.410156\" xlink:href=\"#DejaVuSans-101\"/>\n       <use x=\"2377.933594\" xlink:href=\"#DejaVuSans-115\"/>\n      </g>\n     </g>\n    </g>\n    <g id=\"xtick_61\">\n     <g id=\"line2d_61\">\n      <g>\n       <use style=\"stroke:#000000;stroke-width:0.8;\" x=\"574.090815\" xlink:href=\"#m3b5fe81e7c\" y=\"464.076875\"/>\n      </g>\n     </g>\n     <g id=\"text_61\">\n      <!-- Mokulele Flight Services, Inc. -->\n      <g transform=\"translate(465.201362 482.474531)scale(0.15 -0.15)\">\n       <use xlink:href=\"#DejaVuSans-77\"/>\n       <use x=\"86.279297\" xlink:href=\"#DejaVuSans-111\"/>\n       <use x=\"147.460938\" xlink:href=\"#DejaVuSans-107\"/>\n       <use x=\"202.246094\" xlink:href=\"#DejaVuSans-117\"/>\n       <use x=\"265.625\" xlink:href=\"#DejaVuSans-108\"/>\n       <use x=\"293.408203\" xlink:href=\"#DejaVuSans-101\"/>\n       <use x=\"354.931641\" xlink:href=\"#DejaVuSans-108\"/>\n       <use x=\"382.714844\" xlink:href=\"#DejaVuSans-101\"/>\n       <use x=\"444.238281\" xlink:href=\"#DejaVuSans-32\"/>\n       <use x=\"476.025391\" xlink:href=\"#DejaVuSans-70\"/>\n       <use x=\"533.544922\" xlink:href=\"#DejaVuSans-108\"/>\n       <use x=\"561.328125\" xlink:href=\"#DejaVuSans-105\"/>\n       <use x=\"589.111328\" xlink:href=\"#DejaVuSans-103\"/>\n       <use x=\"652.587891\" xlink:href=\"#DejaVuSans-104\"/>\n       <use x=\"715.966797\" xlink:href=\"#DejaVuSans-116\"/>\n       <use x=\"755.175781\" xlink:href=\"#DejaVuSans-32\"/>\n       <use x=\"786.962891\" xlink:href=\"#DejaVuSans-83\"/>\n       <use x=\"850.439453\" xlink:href=\"#DejaVuSans-101\"/>\n       <use x=\"911.962891\" xlink:href=\"#DejaVuSans-114\"/>\n       <use x=\"953.076172\" xlink:href=\"#DejaVuSans-118\"/>\n       <use x=\"1012.255859\" xlink:href=\"#DejaVuSans-105\"/>\n       <use x=\"1040.039062\" xlink:href=\"#DejaVuSans-99\"/>\n       <use x=\"1095.019531\" xlink:href=\"#DejaVuSans-101\"/>\n       <use x=\"1156.542969\" xlink:href=\"#DejaVuSans-115\"/>\n       <use x=\"1208.642578\" xlink:href=\"#DejaVuSans-44\"/>\n       <use x=\"1240.429688\" xlink:href=\"#DejaVuSans-32\"/>\n       <use x=\"1272.216797\" xlink:href=\"#DejaVuSans-73\"/>\n       <use x=\"1301.708984\" xlink:href=\"#DejaVuSans-110\"/>\n       <use x=\"1365.087891\" xlink:href=\"#DejaVuSans-99\"/>\n       <use x=\"1420.068359\" xlink:href=\"#DejaVuSans-46\"/>\n      </g>\n     </g>\n    </g>\n    <g id=\"xtick_62\">\n     <g id=\"line2d_62\">\n      <g>\n       <use style=\"stroke:#000000;stroke-width:0.8;\" x=\"581.96772\" xlink:href=\"#m3b5fe81e7c\" y=\"464.076875\"/>\n      </g>\n     </g>\n     <g id=\"text_62\">\n      <!-- Kenmore Air Harbor -->\n      <g transform=\"translate(507.814986 482.474531)scale(0.15 -0.15)\">\n       <use xlink:href=\"#DejaVuSans-75\"/>\n       <use x=\"60.576172\" xlink:href=\"#DejaVuSans-101\"/>\n       <use x=\"122.099609\" xlink:href=\"#DejaVuSans-110\"/>\n       <use x=\"185.478516\" xlink:href=\"#DejaVuSans-109\"/>\n       <use x=\"282.890625\" xlink:href=\"#DejaVuSans-111\"/>\n       <use x=\"344.072266\" xlink:href=\"#DejaVuSans-114\"/>\n       <use x=\"382.935547\" xlink:href=\"#DejaVuSans-101\"/>\n       <use x=\"444.458984\" xlink:href=\"#DejaVuSans-32\"/>\n       <use x=\"476.246094\" xlink:href=\"#DejaVuSans-65\"/>\n       <use x=\"544.654297\" xlink:href=\"#DejaVuSans-105\"/>\n       <use x=\"572.4375\" xlink:href=\"#DejaVuSans-114\"/>\n       <use x=\"613.550781\" xlink:href=\"#DejaVuSans-32\"/>\n       <use x=\"645.337891\" xlink:href=\"#DejaVuSans-72\"/>\n       <use x=\"720.533203\" xlink:href=\"#DejaVuSans-97\"/>\n       <use x=\"781.8125\" xlink:href=\"#DejaVuSans-114\"/>\n       <use x=\"822.925781\" xlink:href=\"#DejaVuSans-98\"/>\n       <use x=\"886.402344\" xlink:href=\"#DejaVuSans-111\"/>\n       <use x=\"947.583984\" xlink:href=\"#DejaVuSans-114\"/>\n      </g>\n     </g>\n    </g>\n    <g id=\"xtick_63\">\n     <g id=\"line2d_63\">\n      <g>\n       <use style=\"stroke:#000000;stroke-width:0.8;\" x=\"589.844626\" xlink:href=\"#m3b5fe81e7c\" y=\"464.076875\"/>\n      </g>\n     </g>\n     <g id=\"text_63\">\n      <!-- Vision Airlines -->\n      <g transform=\"translate(537.343454 482.474531)scale(0.15 -0.15)\">\n       <use xlink:href=\"#DejaVuSans-86\"/>\n       <use x=\"66.158203\" xlink:href=\"#DejaVuSans-105\"/>\n       <use x=\"93.941406\" xlink:href=\"#DejaVuSans-115\"/>\n       <use x=\"146.041016\" xlink:href=\"#DejaVuSans-105\"/>\n       <use x=\"173.824219\" xlink:href=\"#DejaVuSans-111\"/>\n       <use x=\"235.005859\" xlink:href=\"#DejaVuSans-110\"/>\n       <use x=\"298.384766\" xlink:href=\"#DejaVuSans-32\"/>\n       <use x=\"330.171875\" xlink:href=\"#DejaVuSans-65\"/>\n       <use x=\"398.580078\" xlink:href=\"#DejaVuSans-105\"/>\n       <use x=\"426.363281\" xlink:href=\"#DejaVuSans-114\"/>\n       <use x=\"467.476562\" xlink:href=\"#DejaVuSans-108\"/>\n       <use x=\"495.259766\" xlink:href=\"#DejaVuSans-105\"/>\n       <use x=\"523.042969\" xlink:href=\"#DejaVuSans-110\"/>\n       <use x=\"586.421875\" xlink:href=\"#DejaVuSans-101\"/>\n       <use x=\"647.945312\" xlink:href=\"#DejaVuSans-115\"/>\n      </g>\n     </g>\n    </g>\n    <g id=\"xtick_64\">\n     <g id=\"line2d_64\">\n      <g>\n       <use style=\"stroke:#000000;stroke-width:0.8;\" x=\"597.721532\" xlink:href=\"#m3b5fe81e7c\" y=\"464.076875\"/>\n      </g>\n     </g>\n     <g id=\"text_64\">\n      <!-- Tradewind Aviation -->\n      <g transform=\"translate(526.90161 482.474531)scale(0.15 -0.15)\">\n       <use xlink:href=\"#DejaVuSans-84\"/>\n       <use x=\"46.333984\" xlink:href=\"#DejaVuSans-114\"/>\n       <use x=\"87.447266\" xlink:href=\"#DejaVuSans-97\"/>\n       <use x=\"148.726562\" xlink:href=\"#DejaVuSans-100\"/>\n       <use x=\"212.203125\" xlink:href=\"#DejaVuSans-101\"/>\n       <use x=\"273.726562\" xlink:href=\"#DejaVuSans-119\"/>\n       <use x=\"355.513672\" xlink:href=\"#DejaVuSans-105\"/>\n       <use x=\"383.296875\" xlink:href=\"#DejaVuSans-110\"/>\n       <use x=\"446.675781\" xlink:href=\"#DejaVuSans-100\"/>\n       <use x=\"510.152344\" xlink:href=\"#DejaVuSans-32\"/>\n       <use x=\"541.939453\" xlink:href=\"#DejaVuSans-65\"/>\n       <use x=\"604.472656\" xlink:href=\"#DejaVuSans-118\"/>\n       <use x=\"663.652344\" xlink:href=\"#DejaVuSans-105\"/>\n       <use x=\"691.435547\" xlink:href=\"#DejaVuSans-97\"/>\n       <use x=\"752.714844\" xlink:href=\"#DejaVuSans-116\"/>\n       <use x=\"791.923828\" xlink:href=\"#DejaVuSans-105\"/>\n       <use x=\"819.707031\" xlink:href=\"#DejaVuSans-111\"/>\n       <use x=\"880.888672\" xlink:href=\"#DejaVuSans-110\"/>\n      </g>\n     </g>\n    </g>\n    <g id=\"xtick_65\">\n     <g id=\"line2d_65\">\n      <g>\n       <use style=\"stroke:#000000;stroke-width:0.8;\" x=\"605.598437\" xlink:href=\"#m3b5fe81e7c\" y=\"464.076875\"/>\n      </g>\n     </g>\n     <g id=\"text_65\">\n      <!-- Atlas Air Inc. -->\n      <g transform=\"translate(558.534766 482.474531)scale(0.15 -0.15)\">\n       <use xlink:href=\"#DejaVuSans-65\"/>\n       <use x=\"66.658203\" xlink:href=\"#DejaVuSans-116\"/>\n       <use x=\"105.867188\" xlink:href=\"#DejaVuSans-108\"/>\n       <use x=\"133.650391\" xlink:href=\"#DejaVuSans-97\"/>\n       <use x=\"194.929688\" xlink:href=\"#DejaVuSans-115\"/>\n       <use x=\"247.029297\" xlink:href=\"#DejaVuSans-32\"/>\n       <use x=\"278.816406\" xlink:href=\"#DejaVuSans-65\"/>\n       <use x=\"347.224609\" xlink:href=\"#DejaVuSans-105\"/>\n       <use x=\"375.007812\" xlink:href=\"#DejaVuSans-114\"/>\n       <use x=\"416.121094\" xlink:href=\"#DejaVuSans-32\"/>\n       <use x=\"447.908203\" xlink:href=\"#DejaVuSans-73\"/>\n       <use x=\"477.400391\" xlink:href=\"#DejaVuSans-110\"/>\n       <use x=\"540.779297\" xlink:href=\"#DejaVuSans-99\"/>\n       <use x=\"595.759766\" xlink:href=\"#DejaVuSans-46\"/>\n      </g>\n     </g>\n    </g>\n    <g id=\"xtick_66\">\n     <g id=\"line2d_66\">\n      <g>\n       <use style=\"stroke:#000000;stroke-width:0.8;\" x=\"613.475343\" xlink:href=\"#m3b5fe81e7c\" y=\"464.076875\"/>\n      </g>\n     </g>\n     <g id=\"text_66\">\n      <!-- Aerodynamics Inc. d/b/a SkyValue d/b/a SkyValue Airways -->\n      <g transform=\"translate(397.160109 482.474531)scale(0.15 -0.15)\">\n       <use xlink:href=\"#DejaVuSans-65\"/>\n       <use x=\"66.658203\" xlink:href=\"#DejaVuSans-101\"/>\n       <use x=\"128.181641\" xlink:href=\"#DejaVuSans-114\"/>\n       <use x=\"167.044922\" xlink:href=\"#DejaVuSans-111\"/>\n       <use x=\"228.226562\" xlink:href=\"#DejaVuSans-100\"/>\n       <use x=\"291.703125\" xlink:href=\"#DejaVuSans-121\"/>\n       <use x=\"350.882812\" xlink:href=\"#DejaVuSans-110\"/>\n       <use x=\"414.261719\" xlink:href=\"#DejaVuSans-97\"/>\n       <use x=\"475.541016\" xlink:href=\"#DejaVuSans-109\"/>\n       <use x=\"572.953125\" xlink:href=\"#DejaVuSans-105\"/>\n       <use x=\"600.736328\" xlink:href=\"#DejaVuSans-99\"/>\n       <use x=\"655.716797\" xlink:href=\"#DejaVuSans-115\"/>\n       <use x=\"707.816406\" xlink:href=\"#DejaVuSans-32\"/>\n       <use x=\"739.603516\" xlink:href=\"#DejaVuSans-73\"/>\n       <use x=\"769.095703\" xlink:href=\"#DejaVuSans-110\"/>\n       <use x=\"832.474609\" xlink:href=\"#DejaVuSans-99\"/>\n       <use x=\"887.455078\" xlink:href=\"#DejaVuSans-46\"/>\n       <use x=\"919.242188\" xlink:href=\"#DejaVuSans-32\"/>\n       <use x=\"951.029297\" xlink:href=\"#DejaVuSans-100\"/>\n       <use x=\"1014.505859\" xlink:href=\"#DejaVuSans-47\"/>\n       <use x=\"1048.197266\" xlink:href=\"#DejaVuSans-98\"/>\n       <use x=\"1111.673828\" xlink:href=\"#DejaVuSans-47\"/>\n       <use x=\"1145.365234\" xlink:href=\"#DejaVuSans-97\"/>\n       <use x=\"1206.644531\" xlink:href=\"#DejaVuSans-32\"/>\n       <use x=\"1238.431641\" xlink:href=\"#DejaVuSans-83\"/>\n       <use x=\"1301.908203\" xlink:href=\"#DejaVuSans-107\"/>\n       <use x=\"1356.193359\" xlink:href=\"#DejaVuSans-121\"/>\n       <use x=\"1415.373047\" xlink:href=\"#DejaVuSans-86\"/>\n       <use x=\"1476.03125\" xlink:href=\"#DejaVuSans-97\"/>\n       <use x=\"1537.310547\" xlink:href=\"#DejaVuSans-108\"/>\n       <use x=\"1565.09375\" xlink:href=\"#DejaVuSans-117\"/>\n       <use x=\"1628.472656\" xlink:href=\"#DejaVuSans-101\"/>\n       <use x=\"1689.996094\" xlink:href=\"#DejaVuSans-32\"/>\n       <use x=\"1721.783203\" xlink:href=\"#DejaVuSans-100\"/>\n       <use x=\"1785.259766\" xlink:href=\"#DejaVuSans-47\"/>\n       <use x=\"1818.951172\" xlink:href=\"#DejaVuSans-98\"/>\n       <use x=\"1882.427734\" xlink:href=\"#DejaVuSans-47\"/>\n       <use x=\"1916.119141\" xlink:href=\"#DejaVuSans-97\"/>\n       <use x=\"1977.398438\" xlink:href=\"#DejaVuSans-32\"/>\n       <use x=\"2009.185547\" xlink:href=\"#DejaVuSans-83\"/>\n       <use x=\"2072.662109\" xlink:href=\"#DejaVuSans-107\"/>\n       <use x=\"2126.947266\" xlink:href=\"#DejaVuSans-121\"/>\n       <use x=\"2186.126953\" xlink:href=\"#DejaVuSans-86\"/>\n       <use x=\"2246.785156\" xlink:href=\"#DejaVuSans-97\"/>\n       <use x=\"2308.064453\" xlink:href=\"#DejaVuSans-108\"/>\n       <use x=\"2335.847656\" xlink:href=\"#DejaVuSans-117\"/>\n       <use x=\"2399.226562\" xlink:href=\"#DejaVuSans-101\"/>\n       <use x=\"2460.75\" xlink:href=\"#DejaVuSans-32\"/>\n       <use x=\"2492.537109\" xlink:href=\"#DejaVuSans-65\"/>\n       <use x=\"2560.945312\" xlink:href=\"#DejaVuSans-105\"/>\n       <use x=\"2588.728516\" xlink:href=\"#DejaVuSans-114\"/>\n       <use x=\"2629.841797\" xlink:href=\"#DejaVuSans-119\"/>\n       <use x=\"2711.628906\" xlink:href=\"#DejaVuSans-97\"/>\n       <use x=\"2772.908203\" xlink:href=\"#DejaVuSans-121\"/>\n       <use x=\"2832.087891\" xlink:href=\"#DejaVuSans-115\"/>\n      </g>\n     </g>\n    </g>\n    <g id=\"xtick_67\">\n     <g id=\"line2d_67\">\n      <g>\n       <use style=\"stroke:#000000;stroke-width:0.8;\" x=\"621.352249\" xlink:href=\"#m3b5fe81e7c\" y=\"464.076875\"/>\n      </g>\n     </g>\n     <g id=\"text_67\">\n      <!-- Alaska Central Express -->\n      <g transform=\"translate(535.469046 482.474531)scale(0.15 -0.15)\">\n       <use xlink:href=\"#DejaVuSans-65\"/>\n       <use x=\"68.408203\" xlink:href=\"#DejaVuSans-108\"/>\n       <use x=\"96.191406\" xlink:href=\"#DejaVuSans-97\"/>\n       <use x=\"157.470703\" xlink:href=\"#DejaVuSans-115\"/>\n       <use x=\"209.570312\" xlink:href=\"#DejaVuSans-107\"/>\n       <use x=\"265.730469\" xlink:href=\"#DejaVuSans-97\"/>\n       <use x=\"327.009766\" xlink:href=\"#DejaVuSans-32\"/>\n       <use x=\"358.796875\" xlink:href=\"#DejaVuSans-67\"/>\n       <use x=\"428.621094\" xlink:href=\"#DejaVuSans-101\"/>\n       <use x=\"490.144531\" xlink:href=\"#DejaVuSans-110\"/>\n       <use x=\"553.523438\" xlink:href=\"#DejaVuSans-116\"/>\n       <use x=\"592.732422\" xlink:href=\"#DejaVuSans-114\"/>\n       <use x=\"633.845703\" xlink:href=\"#DejaVuSans-97\"/>\n       <use x=\"695.125\" xlink:href=\"#DejaVuSans-108\"/>\n       <use x=\"722.908203\" xlink:href=\"#DejaVuSans-32\"/>\n       <use x=\"754.695312\" xlink:href=\"#DejaVuSans-69\"/>\n       <use x=\"817.878906\" xlink:href=\"#DejaVuSans-120\"/>\n       <use x=\"877.058594\" xlink:href=\"#DejaVuSans-112\"/>\n       <use x=\"940.535156\" xlink:href=\"#DejaVuSans-114\"/>\n       <use x=\"979.398438\" xlink:href=\"#DejaVuSans-101\"/>\n       <use x=\"1040.921875\" xlink:href=\"#DejaVuSans-115\"/>\n       <use x=\"1093.021484\" xlink:href=\"#DejaVuSans-115\"/>\n      </g>\n     </g>\n    </g>\n    <g id=\"xtick_68\">\n     <g id=\"line2d_68\">\n      <g>\n       <use style=\"stroke:#000000;stroke-width:0.8;\" x=\"629.229155\" xlink:href=\"#m3b5fe81e7c\" y=\"464.076875\"/>\n      </g>\n     </g>\n     <g id=\"text_68\">\n      <!-- Grand Canyon Airlines, Inc. d/b/a Grand Canyon Airlines d/b/a Scenic Airlines -->\n      <g transform=\"translate(340.768608 482.474531)scale(0.15 -0.15)\">\n       <use xlink:href=\"#DejaVuSans-71\"/>\n       <use x=\"77.490234\" xlink:href=\"#DejaVuSans-114\"/>\n       <use x=\"118.603516\" xlink:href=\"#DejaVuSans-97\"/>\n       <use x=\"179.882812\" xlink:href=\"#DejaVuSans-110\"/>\n       <use x=\"243.261719\" xlink:href=\"#DejaVuSans-100\"/>\n       <use x=\"306.738281\" xlink:href=\"#DejaVuSans-32\"/>\n       <use x=\"338.525391\" xlink:href=\"#DejaVuSans-67\"/>\n       <use x=\"408.349609\" xlink:href=\"#DejaVuSans-97\"/>\n       <use x=\"469.628906\" xlink:href=\"#DejaVuSans-110\"/>\n       <use x=\"533.007812\" xlink:href=\"#DejaVuSans-121\"/>\n       <use x=\"592.1875\" xlink:href=\"#DejaVuSans-111\"/>\n       <use x=\"653.369141\" xlink:href=\"#DejaVuSans-110\"/>\n       <use x=\"716.748047\" xlink:href=\"#DejaVuSans-32\"/>\n       <use x=\"748.535156\" xlink:href=\"#DejaVuSans-65\"/>\n       <use x=\"816.943359\" xlink:href=\"#DejaVuSans-105\"/>\n       <use x=\"844.726562\" xlink:href=\"#DejaVuSans-114\"/>\n       <use x=\"885.839844\" xlink:href=\"#DejaVuSans-108\"/>\n       <use x=\"913.623047\" xlink:href=\"#DejaVuSans-105\"/>\n       <use x=\"941.40625\" xlink:href=\"#DejaVuSans-110\"/>\n       <use x=\"1004.785156\" xlink:href=\"#DejaVuSans-101\"/>\n       <use x=\"1066.308594\" xlink:href=\"#DejaVuSans-115\"/>\n       <use x=\"1118.408203\" xlink:href=\"#DejaVuSans-44\"/>\n       <use x=\"1150.195312\" xlink:href=\"#DejaVuSans-32\"/>\n       <use x=\"1181.982422\" xlink:href=\"#DejaVuSans-73\"/>\n       <use x=\"1211.474609\" xlink:href=\"#DejaVuSans-110\"/>\n       <use x=\"1274.853516\" xlink:href=\"#DejaVuSans-99\"/>\n       <use x=\"1329.833984\" xlink:href=\"#DejaVuSans-46\"/>\n       <use x=\"1361.621094\" xlink:href=\"#DejaVuSans-32\"/>\n       <use x=\"1393.408203\" xlink:href=\"#DejaVuSans-100\"/>\n       <use x=\"1456.884766\" xlink:href=\"#DejaVuSans-47\"/>\n       <use x=\"1490.576172\" xlink:href=\"#DejaVuSans-98\"/>\n       <use x=\"1554.052734\" xlink:href=\"#DejaVuSans-47\"/>\n       <use x=\"1587.744141\" xlink:href=\"#DejaVuSans-97\"/>\n       <use x=\"1649.023438\" xlink:href=\"#DejaVuSans-32\"/>\n       <use x=\"1680.810547\" xlink:href=\"#DejaVuSans-71\"/>\n       <use x=\"1758.300781\" xlink:href=\"#DejaVuSans-114\"/>\n       <use x=\"1799.414062\" xlink:href=\"#DejaVuSans-97\"/>\n       <use x=\"1860.693359\" xlink:href=\"#DejaVuSans-110\"/>\n       <use x=\"1924.072266\" xlink:href=\"#DejaVuSans-100\"/>\n       <use x=\"1987.548828\" xlink:href=\"#DejaVuSans-32\"/>\n       <use x=\"2019.335938\" xlink:href=\"#DejaVuSans-67\"/>\n       <use x=\"2089.160156\" xlink:href=\"#DejaVuSans-97\"/>\n       <use x=\"2150.439453\" xlink:href=\"#DejaVuSans-110\"/>\n       <use x=\"2213.818359\" xlink:href=\"#DejaVuSans-121\"/>\n       <use x=\"2272.998047\" xlink:href=\"#DejaVuSans-111\"/>\n       <use x=\"2334.179688\" xlink:href=\"#DejaVuSans-110\"/>\n       <use x=\"2397.558594\" xlink:href=\"#DejaVuSans-32\"/>\n       <use x=\"2429.345703\" xlink:href=\"#DejaVuSans-65\"/>\n       <use x=\"2497.753906\" xlink:href=\"#DejaVuSans-105\"/>\n       <use x=\"2525.537109\" xlink:href=\"#DejaVuSans-114\"/>\n       <use x=\"2566.650391\" xlink:href=\"#DejaVuSans-108\"/>\n       <use x=\"2594.433594\" xlink:href=\"#DejaVuSans-105\"/>\n       <use x=\"2622.216797\" xlink:href=\"#DejaVuSans-110\"/>\n       <use x=\"2685.595703\" xlink:href=\"#DejaVuSans-101\"/>\n       <use x=\"2747.119141\" xlink:href=\"#DejaVuSans-115\"/>\n       <use x=\"2799.21875\" xlink:href=\"#DejaVuSans-32\"/>\n       <use x=\"2831.005859\" xlink:href=\"#DejaVuSans-100\"/>\n       <use x=\"2894.482422\" xlink:href=\"#DejaVuSans-47\"/>\n       <use x=\"2928.173828\" xlink:href=\"#DejaVuSans-98\"/>\n       <use x=\"2991.650391\" xlink:href=\"#DejaVuSans-47\"/>\n       <use x=\"3025.341797\" xlink:href=\"#DejaVuSans-97\"/>\n       <use x=\"3086.621094\" xlink:href=\"#DejaVuSans-32\"/>\n       <use x=\"3118.408203\" xlink:href=\"#DejaVuSans-83\"/>\n       <use x=\"3181.884766\" xlink:href=\"#DejaVuSans-99\"/>\n       <use x=\"3236.865234\" xlink:href=\"#DejaVuSans-101\"/>\n       <use x=\"3298.388672\" xlink:href=\"#DejaVuSans-110\"/>\n       <use x=\"3361.767578\" xlink:href=\"#DejaVuSans-105\"/>\n       <use x=\"3389.550781\" xlink:href=\"#DejaVuSans-99\"/>\n       <use x=\"3444.53125\" xlink:href=\"#DejaVuSans-32\"/>\n       <use x=\"3476.318359\" xlink:href=\"#DejaVuSans-65\"/>\n       <use x=\"3544.726562\" xlink:href=\"#DejaVuSans-105\"/>\n       <use x=\"3572.509766\" xlink:href=\"#DejaVuSans-114\"/>\n       <use x=\"3613.623047\" xlink:href=\"#DejaVuSans-108\"/>\n       <use x=\"3641.40625\" xlink:href=\"#DejaVuSans-105\"/>\n       <use x=\"3669.189453\" xlink:href=\"#DejaVuSans-110\"/>\n       <use x=\"3732.568359\" xlink:href=\"#DejaVuSans-101\"/>\n       <use x=\"3794.091797\" xlink:href=\"#DejaVuSans-115\"/>\n      </g>\n     </g>\n    </g>\n    <g id=\"xtick_69\">\n     <g id=\"line2d_69\">\n      <g>\n       <use style=\"stroke:#000000;stroke-width:0.8;\" x=\"637.10606\" xlink:href=\"#m3b5fe81e7c\" y=\"464.076875\"/>\n      </g>\n     </g>\n     <g id=\"text_69\">\n      <!-- Ameristar Air Cargo -->\n      <g transform=\"translate(563.16192 482.474531)scale(0.15 -0.15)\">\n       <use xlink:href=\"#DejaVuSans-65\"/>\n       <use x=\"68.408203\" xlink:href=\"#DejaVuSans-109\"/>\n       <use x=\"165.820312\" xlink:href=\"#DejaVuSans-101\"/>\n       <use x=\"227.34375\" xlink:href=\"#DejaVuSans-114\"/>\n       <use x=\"268.457031\" xlink:href=\"#DejaVuSans-105\"/>\n       <use x=\"296.240234\" xlink:href=\"#DejaVuSans-115\"/>\n       <use x=\"348.339844\" xlink:href=\"#DejaVuSans-116\"/>\n       <use x=\"387.548828\" xlink:href=\"#DejaVuSans-97\"/>\n       <use x=\"448.828125\" xlink:href=\"#DejaVuSans-114\"/>\n       <use x=\"489.941406\" xlink:href=\"#DejaVuSans-32\"/>\n       <use x=\"521.728516\" xlink:href=\"#DejaVuSans-65\"/>\n       <use x=\"590.136719\" xlink:href=\"#DejaVuSans-105\"/>\n       <use x=\"617.919922\" xlink:href=\"#DejaVuSans-114\"/>\n       <use x=\"659.033203\" xlink:href=\"#DejaVuSans-32\"/>\n       <use x=\"690.820312\" xlink:href=\"#DejaVuSans-67\"/>\n       <use x=\"760.644531\" xlink:href=\"#DejaVuSans-97\"/>\n       <use x=\"821.923828\" xlink:href=\"#DejaVuSans-114\"/>\n       <use x=\"861.287109\" xlink:href=\"#DejaVuSans-103\"/>\n       <use x=\"924.763672\" xlink:href=\"#DejaVuSans-111\"/>\n      </g>\n     </g>\n    </g>\n    <g id=\"xtick_70\">\n     <g id=\"line2d_70\">\n      <g>\n       <use style=\"stroke:#000000;stroke-width:0.8;\" x=\"644.982966\" xlink:href=\"#m3b5fe81e7c\" y=\"464.076875\"/>\n      </g>\n     </g>\n     <g id=\"text_70\">\n      <!-- Star Marianas Air Inc. -->\n      <g transform=\"translate(564.594685 482.474531)scale(0.15 -0.15)\">\n       <use xlink:href=\"#DejaVuSans-83\"/>\n       <use x=\"63.476562\" xlink:href=\"#DejaVuSans-116\"/>\n       <use x=\"102.685547\" xlink:href=\"#DejaVuSans-97\"/>\n       <use x=\"163.964844\" xlink:href=\"#DejaVuSans-114\"/>\n       <use x=\"205.078125\" xlink:href=\"#DejaVuSans-32\"/>\n       <use x=\"236.865234\" xlink:href=\"#DejaVuSans-77\"/>\n       <use x=\"323.144531\" xlink:href=\"#DejaVuSans-97\"/>\n       <use x=\"384.423828\" xlink:href=\"#DejaVuSans-114\"/>\n       <use x=\"425.537109\" xlink:href=\"#DejaVuSans-105\"/>\n       <use x=\"453.320312\" xlink:href=\"#DejaVuSans-97\"/>\n       <use x=\"514.599609\" xlink:href=\"#DejaVuSans-110\"/>\n       <use x=\"577.978516\" xlink:href=\"#DejaVuSans-97\"/>\n       <use x=\"639.257812\" xlink:href=\"#DejaVuSans-115\"/>\n       <use x=\"691.357422\" xlink:href=\"#DejaVuSans-32\"/>\n       <use x=\"723.144531\" xlink:href=\"#DejaVuSans-65\"/>\n       <use x=\"791.552734\" xlink:href=\"#DejaVuSans-105\"/>\n       <use x=\"819.335938\" xlink:href=\"#DejaVuSans-114\"/>\n       <use x=\"860.449219\" xlink:href=\"#DejaVuSans-32\"/>\n       <use x=\"892.236328\" xlink:href=\"#DejaVuSans-73\"/>\n       <use x=\"921.728516\" xlink:href=\"#DejaVuSans-110\"/>\n       <use x=\"985.107422\" xlink:href=\"#DejaVuSans-99\"/>\n       <use x=\"1040.087891\" xlink:href=\"#DejaVuSans-46\"/>\n      </g>\n     </g>\n    </g>\n    <g id=\"xtick_71\">\n     <g id=\"line2d_71\">\n      <g>\n       <use style=\"stroke:#000000;stroke-width:0.8;\" x=\"652.859872\" xlink:href=\"#m3b5fe81e7c\" y=\"464.076875\"/>\n      </g>\n     </g>\n     <g id=\"text_71\">\n      <!-- Bidzy Ta Hot Aana, Inc. d/b/a Tanana Air Service -->\n      <g transform=\"translate(473.555965 482.474531)scale(0.15 -0.15)\">\n       <use xlink:href=\"#DejaVuSans-66\"/>\n       <use x=\"68.603516\" xlink:href=\"#DejaVuSans-105\"/>\n       <use x=\"96.386719\" xlink:href=\"#DejaVuSans-100\"/>\n       <use x=\"159.863281\" xlink:href=\"#DejaVuSans-122\"/>\n       <use x=\"212.353516\" xlink:href=\"#DejaVuSans-121\"/>\n       <use x=\"271.533203\" xlink:href=\"#DejaVuSans-32\"/>\n       <use x=\"303.320312\" xlink:href=\"#DejaVuSans-84\"/>\n       <use x=\"347.904297\" xlink:href=\"#DejaVuSans-97\"/>\n       <use x=\"409.183594\" xlink:href=\"#DejaVuSans-32\"/>\n       <use x=\"440.970703\" xlink:href=\"#DejaVuSans-72\"/>\n       <use x=\"516.166016\" xlink:href=\"#DejaVuSans-111\"/>\n       <use x=\"577.347656\" xlink:href=\"#DejaVuSans-116\"/>\n       <use x=\"616.556641\" xlink:href=\"#DejaVuSans-32\"/>\n       <use x=\"648.34375\" xlink:href=\"#DejaVuSans-65\"/>\n       <use x=\"716.751953\" xlink:href=\"#DejaVuSans-97\"/>\n       <use x=\"778.03125\" xlink:href=\"#DejaVuSans-110\"/>\n       <use x=\"841.410156\" xlink:href=\"#DejaVuSans-97\"/>\n       <use x=\"902.689453\" xlink:href=\"#DejaVuSans-44\"/>\n       <use x=\"934.476562\" xlink:href=\"#DejaVuSans-32\"/>\n       <use x=\"966.263672\" xlink:href=\"#DejaVuSans-73\"/>\n       <use x=\"995.755859\" xlink:href=\"#DejaVuSans-110\"/>\n       <use x=\"1059.134766\" xlink:href=\"#DejaVuSans-99\"/>\n       <use x=\"1114.115234\" xlink:href=\"#DejaVuSans-46\"/>\n       <use x=\"1145.902344\" xlink:href=\"#DejaVuSans-32\"/>\n       <use x=\"1177.689453\" xlink:href=\"#DejaVuSans-100\"/>\n       <use x=\"1241.166016\" xlink:href=\"#DejaVuSans-47\"/>\n       <use x=\"1274.857422\" xlink:href=\"#DejaVuSans-98\"/>\n       <use x=\"1338.333984\" xlink:href=\"#DejaVuSans-47\"/>\n       <use x=\"1372.025391\" xlink:href=\"#DejaVuSans-97\"/>\n       <use x=\"1433.304688\" xlink:href=\"#DejaVuSans-32\"/>\n       <use x=\"1465.091797\" xlink:href=\"#DejaVuSans-84\"/>\n       <use x=\"1509.675781\" xlink:href=\"#DejaVuSans-97\"/>\n       <use x=\"1570.955078\" xlink:href=\"#DejaVuSans-110\"/>\n       <use x=\"1634.333984\" xlink:href=\"#DejaVuSans-97\"/>\n       <use x=\"1695.613281\" xlink:href=\"#DejaVuSans-110\"/>\n       <use x=\"1758.992188\" xlink:href=\"#DejaVuSans-97\"/>\n       <use x=\"1820.271484\" xlink:href=\"#DejaVuSans-32\"/>\n       <use x=\"1852.058594\" xlink:href=\"#DejaVuSans-65\"/>\n       <use x=\"1920.466797\" xlink:href=\"#DejaVuSans-105\"/>\n       <use x=\"1948.25\" xlink:href=\"#DejaVuSans-114\"/>\n       <use x=\"1989.363281\" xlink:href=\"#DejaVuSans-32\"/>\n       <use x=\"2021.150391\" xlink:href=\"#DejaVuSans-83\"/>\n       <use x=\"2084.626953\" xlink:href=\"#DejaVuSans-101\"/>\n       <use x=\"2146.150391\" xlink:href=\"#DejaVuSans-114\"/>\n       <use x=\"2187.263672\" xlink:href=\"#DejaVuSans-118\"/>\n       <use x=\"2246.443359\" xlink:href=\"#DejaVuSans-105\"/>\n       <use x=\"2274.226562\" xlink:href=\"#DejaVuSans-99\"/>\n       <use x=\"2329.207031\" xlink:href=\"#DejaVuSans-101\"/>\n      </g>\n     </g>\n    </g>\n    <g id=\"xtick_72\">\n     <g id=\"line2d_72\">\n      <g>\n       <use style=\"stroke:#000000;stroke-width:0.8;\" x=\"660.736777\" xlink:href=\"#m3b5fe81e7c\" y=\"464.076875\"/>\n      </g>\n     </g>\n     <g id=\"text_72\">\n      <!-- Multi-Aero, Inc. d/b/a Air Choice One -->\n      <g transform=\"translate(524.833262 482.474531)scale(0.15 -0.15)\">\n       <defs>\n        <path d=\"M 4.890625 31.390625 \nL 31.203125 31.390625 \nL 31.203125 23.390625 \nL 4.890625 23.390625 \nz\n\" id=\"DejaVuSans-45\"/>\n       </defs>\n       <use xlink:href=\"#DejaVuSans-77\"/>\n       <use x=\"86.279297\" xlink:href=\"#DejaVuSans-117\"/>\n       <use x=\"149.658203\" xlink:href=\"#DejaVuSans-108\"/>\n       <use x=\"177.441406\" xlink:href=\"#DejaVuSans-116\"/>\n       <use x=\"216.650391\" xlink:href=\"#DejaVuSans-105\"/>\n       <use x=\"244.433594\" xlink:href=\"#DejaVuSans-45\"/>\n       <use x=\"278.267578\" xlink:href=\"#DejaVuSans-65\"/>\n       <use x=\"344.925781\" xlink:href=\"#DejaVuSans-101\"/>\n       <use x=\"406.449219\" xlink:href=\"#DejaVuSans-114\"/>\n       <use x=\"445.3125\" xlink:href=\"#DejaVuSans-111\"/>\n       <use x=\"506.494141\" xlink:href=\"#DejaVuSans-44\"/>\n       <use x=\"538.28125\" xlink:href=\"#DejaVuSans-32\"/>\n       <use x=\"570.068359\" xlink:href=\"#DejaVuSans-73\"/>\n       <use x=\"599.560547\" xlink:href=\"#DejaVuSans-110\"/>\n       <use x=\"662.939453\" xlink:href=\"#DejaVuSans-99\"/>\n       <use x=\"717.919922\" xlink:href=\"#DejaVuSans-46\"/>\n       <use x=\"749.707031\" xlink:href=\"#DejaVuSans-32\"/>\n       <use x=\"781.494141\" xlink:href=\"#DejaVuSans-100\"/>\n       <use x=\"844.970703\" xlink:href=\"#DejaVuSans-47\"/>\n       <use x=\"878.662109\" xlink:href=\"#DejaVuSans-98\"/>\n       <use x=\"942.138672\" xlink:href=\"#DejaVuSans-47\"/>\n       <use x=\"975.830078\" xlink:href=\"#DejaVuSans-97\"/>\n       <use x=\"1037.109375\" xlink:href=\"#DejaVuSans-32\"/>\n       <use x=\"1068.896484\" xlink:href=\"#DejaVuSans-65\"/>\n       <use x=\"1137.304688\" xlink:href=\"#DejaVuSans-105\"/>\n       <use x=\"1165.087891\" xlink:href=\"#DejaVuSans-114\"/>\n       <use x=\"1206.201172\" xlink:href=\"#DejaVuSans-32\"/>\n       <use x=\"1237.988281\" xlink:href=\"#DejaVuSans-67\"/>\n       <use x=\"1307.8125\" xlink:href=\"#DejaVuSans-104\"/>\n       <use x=\"1371.191406\" xlink:href=\"#DejaVuSans-111\"/>\n       <use x=\"1432.373047\" xlink:href=\"#DejaVuSans-105\"/>\n       <use x=\"1460.15625\" xlink:href=\"#DejaVuSans-99\"/>\n       <use x=\"1515.136719\" xlink:href=\"#DejaVuSans-101\"/>\n       <use x=\"1576.660156\" xlink:href=\"#DejaVuSans-32\"/>\n       <use x=\"1608.447266\" xlink:href=\"#DejaVuSans-79\"/>\n       <use x=\"1687.158203\" xlink:href=\"#DejaVuSans-110\"/>\n       <use x=\"1750.537109\" xlink:href=\"#DejaVuSans-101\"/>\n      </g>\n     </g>\n    </g>\n    <g id=\"xtick_73\">\n     <g id=\"line2d_73\">\n      <g>\n       <use style=\"stroke:#000000;stroke-width:0.8;\" x=\"668.613683\" xlink:href=\"#m3b5fe81e7c\" y=\"464.076875\"/>\n      </g>\n     </g>\n     <g id=\"text_73\">\n      <!-- ADVANCED AIR, LLC -->\n      <g transform=\"translate(593.394542 482.474531)scale(0.15 -0.15)\">\n       <use xlink:href=\"#DejaVuSans-65\"/>\n       <use x=\"68.408203\" xlink:href=\"#DejaVuSans-68\"/>\n       <use x=\"143.660156\" xlink:href=\"#DejaVuSans-86\"/>\n       <use x=\"205.693359\" xlink:href=\"#DejaVuSans-65\"/>\n       <use x=\"274.101562\" xlink:href=\"#DejaVuSans-78\"/>\n       <use x=\"348.90625\" xlink:href=\"#DejaVuSans-67\"/>\n       <use x=\"418.730469\" xlink:href=\"#DejaVuSans-69\"/>\n       <use x=\"481.914062\" xlink:href=\"#DejaVuSans-68\"/>\n       <use x=\"558.916016\" xlink:href=\"#DejaVuSans-32\"/>\n       <use x=\"590.703125\" xlink:href=\"#DejaVuSans-65\"/>\n       <use x=\"659.111328\" xlink:href=\"#DejaVuSans-73\"/>\n       <use x=\"688.603516\" xlink:href=\"#DejaVuSans-82\"/>\n       <use x=\"758.085938\" xlink:href=\"#DejaVuSans-44\"/>\n       <use x=\"789.873047\" xlink:href=\"#DejaVuSans-32\"/>\n       <use x=\"821.660156\" xlink:href=\"#DejaVuSans-76\"/>\n       <use x=\"877.373047\" xlink:href=\"#DejaVuSans-76\"/>\n       <use x=\"933.085938\" xlink:href=\"#DejaVuSans-67\"/>\n      </g>\n     </g>\n    </g>\n    <g id=\"xtick_74\">\n     <g id=\"line2d_74\">\n      <g>\n       <use style=\"stroke:#000000;stroke-width:0.8;\" x=\"676.490589\" xlink:href=\"#m3b5fe81e7c\" y=\"464.076875\"/>\n      </g>\n     </g>\n     <g id=\"text_74\">\n      <!-- Tatonduk Outfitters Limited d/b/a Everts Air Alaska and Everts Air Cargo -->\n      <g transform=\"translate(406.81637 482.474531)scale(0.15 -0.15)\">\n       <use xlink:href=\"#DejaVuSans-84\"/>\n       <use x=\"44.583984\" xlink:href=\"#DejaVuSans-97\"/>\n       <use x=\"105.863281\" xlink:href=\"#DejaVuSans-116\"/>\n       <use x=\"145.072266\" xlink:href=\"#DejaVuSans-111\"/>\n       <use x=\"206.253906\" xlink:href=\"#DejaVuSans-110\"/>\n       <use x=\"269.632812\" xlink:href=\"#DejaVuSans-100\"/>\n       <use x=\"333.109375\" xlink:href=\"#DejaVuSans-117\"/>\n       <use x=\"396.488281\" xlink:href=\"#DejaVuSans-107\"/>\n       <use x=\"454.398438\" xlink:href=\"#DejaVuSans-32\"/>\n       <use x=\"486.185547\" xlink:href=\"#DejaVuSans-79\"/>\n       <use x=\"564.896484\" xlink:href=\"#DejaVuSans-117\"/>\n       <use x=\"628.275391\" xlink:href=\"#DejaVuSans-116\"/>\n       <use x=\"667.484375\" xlink:href=\"#DejaVuSans-102\"/>\n       <use x=\"702.689453\" xlink:href=\"#DejaVuSans-105\"/>\n       <use x=\"730.472656\" xlink:href=\"#DejaVuSans-116\"/>\n       <use x=\"769.681641\" xlink:href=\"#DejaVuSans-116\"/>\n       <use x=\"808.890625\" xlink:href=\"#DejaVuSans-101\"/>\n       <use x=\"870.414062\" xlink:href=\"#DejaVuSans-114\"/>\n       <use x=\"911.527344\" xlink:href=\"#DejaVuSans-115\"/>\n       <use x=\"963.626953\" xlink:href=\"#DejaVuSans-32\"/>\n       <use x=\"995.414062\" xlink:href=\"#DejaVuSans-76\"/>\n       <use x=\"1051.126953\" xlink:href=\"#DejaVuSans-105\"/>\n       <use x=\"1078.910156\" xlink:href=\"#DejaVuSans-109\"/>\n       <use x=\"1176.322266\" xlink:href=\"#DejaVuSans-105\"/>\n       <use x=\"1204.105469\" xlink:href=\"#DejaVuSans-116\"/>\n       <use x=\"1243.314453\" xlink:href=\"#DejaVuSans-101\"/>\n       <use x=\"1304.837891\" xlink:href=\"#DejaVuSans-100\"/>\n       <use x=\"1368.314453\" xlink:href=\"#DejaVuSans-32\"/>\n       <use x=\"1400.101562\" xlink:href=\"#DejaVuSans-100\"/>\n       <use x=\"1463.578125\" xlink:href=\"#DejaVuSans-47\"/>\n       <use x=\"1497.269531\" xlink:href=\"#DejaVuSans-98\"/>\n       <use x=\"1560.746094\" xlink:href=\"#DejaVuSans-47\"/>\n       <use x=\"1594.4375\" xlink:href=\"#DejaVuSans-97\"/>\n       <use x=\"1655.716797\" xlink:href=\"#DejaVuSans-32\"/>\n       <use x=\"1687.503906\" xlink:href=\"#DejaVuSans-69\"/>\n       <use x=\"1750.6875\" xlink:href=\"#DejaVuSans-118\"/>\n       <use x=\"1809.867188\" xlink:href=\"#DejaVuSans-101\"/>\n       <use x=\"1871.390625\" xlink:href=\"#DejaVuSans-114\"/>\n       <use x=\"1912.503906\" xlink:href=\"#DejaVuSans-116\"/>\n       <use x=\"1951.712891\" xlink:href=\"#DejaVuSans-115\"/>\n       <use x=\"2003.8125\" xlink:href=\"#DejaVuSans-32\"/>\n       <use x=\"2035.599609\" xlink:href=\"#DejaVuSans-65\"/>\n       <use x=\"2104.007812\" xlink:href=\"#DejaVuSans-105\"/>\n       <use x=\"2131.791016\" xlink:href=\"#DejaVuSans-114\"/>\n       <use x=\"2172.904297\" xlink:href=\"#DejaVuSans-32\"/>\n       <use x=\"2204.691406\" xlink:href=\"#DejaVuSans-65\"/>\n       <use x=\"2273.099609\" xlink:href=\"#DejaVuSans-108\"/>\n       <use x=\"2300.882812\" xlink:href=\"#DejaVuSans-97\"/>\n       <use x=\"2362.162109\" xlink:href=\"#DejaVuSans-115\"/>\n       <use x=\"2414.261719\" xlink:href=\"#DejaVuSans-107\"/>\n       <use x=\"2470.421875\" xlink:href=\"#DejaVuSans-97\"/>\n       <use x=\"2531.701172\" xlink:href=\"#DejaVuSans-32\"/>\n       <use x=\"2563.488281\" xlink:href=\"#DejaVuSans-97\"/>\n       <use x=\"2624.767578\" xlink:href=\"#DejaVuSans-110\"/>\n       <use x=\"2688.146484\" xlink:href=\"#DejaVuSans-100\"/>\n       <use x=\"2751.623047\" xlink:href=\"#DejaVuSans-32\"/>\n       <use x=\"2783.410156\" xlink:href=\"#DejaVuSans-69\"/>\n       <use x=\"2846.59375\" xlink:href=\"#DejaVuSans-118\"/>\n       <use x=\"2905.773438\" xlink:href=\"#DejaVuSans-101\"/>\n       <use x=\"2967.296875\" xlink:href=\"#DejaVuSans-114\"/>\n       <use x=\"3008.410156\" xlink:href=\"#DejaVuSans-116\"/>\n       <use x=\"3047.619141\" xlink:href=\"#DejaVuSans-115\"/>\n       <use x=\"3099.71875\" xlink:href=\"#DejaVuSans-32\"/>\n       <use x=\"3131.505859\" xlink:href=\"#DejaVuSans-65\"/>\n       <use x=\"3199.914062\" xlink:href=\"#DejaVuSans-105\"/>\n       <use x=\"3227.697266\" xlink:href=\"#DejaVuSans-114\"/>\n       <use x=\"3268.810547\" xlink:href=\"#DejaVuSans-32\"/>\n       <use x=\"3300.597656\" xlink:href=\"#DejaVuSans-67\"/>\n       <use x=\"3370.421875\" xlink:href=\"#DejaVuSans-97\"/>\n       <use x=\"3431.701172\" xlink:href=\"#DejaVuSans-114\"/>\n       <use x=\"3471.064453\" xlink:href=\"#DejaVuSans-103\"/>\n       <use x=\"3534.541016\" xlink:href=\"#DejaVuSans-111\"/>\n      </g>\n     </g>\n    </g>\n    <g id=\"xtick_75\">\n     <g id=\"line2d_75\">\n      <g>\n       <use style=\"stroke:#000000;stroke-width:0.8;\" x=\"684.367495\" xlink:href=\"#m3b5fe81e7c\" y=\"464.076875\"/>\n      </g>\n     </g>\n     <g id=\"text_75\">\n      <!-- Elite Airways LLC -->\n      <g transform=\"translate(620.17101 482.474531)scale(0.15 -0.15)\">\n       <use xlink:href=\"#DejaVuSans-69\"/>\n       <use x=\"63.183594\" xlink:href=\"#DejaVuSans-108\"/>\n       <use x=\"90.966797\" xlink:href=\"#DejaVuSans-105\"/>\n       <use x=\"118.75\" xlink:href=\"#DejaVuSans-116\"/>\n       <use x=\"157.958984\" xlink:href=\"#DejaVuSans-101\"/>\n       <use x=\"219.482422\" xlink:href=\"#DejaVuSans-32\"/>\n       <use x=\"251.269531\" xlink:href=\"#DejaVuSans-65\"/>\n       <use x=\"319.677734\" xlink:href=\"#DejaVuSans-105\"/>\n       <use x=\"347.460938\" xlink:href=\"#DejaVuSans-114\"/>\n       <use x=\"388.574219\" xlink:href=\"#DejaVuSans-119\"/>\n       <use x=\"470.361328\" xlink:href=\"#DejaVuSans-97\"/>\n       <use x=\"531.640625\" xlink:href=\"#DejaVuSans-121\"/>\n       <use x=\"590.820312\" xlink:href=\"#DejaVuSans-115\"/>\n       <use x=\"642.919922\" xlink:href=\"#DejaVuSans-32\"/>\n       <use x=\"674.707031\" xlink:href=\"#DejaVuSans-76\"/>\n       <use x=\"730.419922\" xlink:href=\"#DejaVuSans-76\"/>\n       <use x=\"786.132812\" xlink:href=\"#DejaVuSans-67\"/>\n      </g>\n     </g>\n    </g>\n    <g id=\"xtick_76\">\n     <g id=\"line2d_76\">\n      <g>\n       <use style=\"stroke:#000000;stroke-width:0.8;\" x=\"692.2444\" xlink:href=\"#m3b5fe81e7c\" y=\"464.076875\"/>\n      </g>\n     </g>\n     <g id=\"text_76\">\n      <!-- Omni Air International LLC -->\n      <g transform=\"translate(593.28776 482.474531)scale(0.15 -0.15)\">\n       <use xlink:href=\"#DejaVuSans-79\"/>\n       <use x=\"78.710938\" xlink:href=\"#DejaVuSans-109\"/>\n       <use x=\"176.123047\" xlink:href=\"#DejaVuSans-110\"/>\n       <use x=\"239.501953\" xlink:href=\"#DejaVuSans-105\"/>\n       <use x=\"267.285156\" xlink:href=\"#DejaVuSans-32\"/>\n       <use x=\"299.072266\" xlink:href=\"#DejaVuSans-65\"/>\n       <use x=\"367.480469\" xlink:href=\"#DejaVuSans-105\"/>\n       <use x=\"395.263672\" xlink:href=\"#DejaVuSans-114\"/>\n       <use x=\"436.376953\" xlink:href=\"#DejaVuSans-32\"/>\n       <use x=\"468.164062\" xlink:href=\"#DejaVuSans-73\"/>\n       <use x=\"497.65625\" xlink:href=\"#DejaVuSans-110\"/>\n       <use x=\"561.035156\" xlink:href=\"#DejaVuSans-116\"/>\n       <use x=\"600.244141\" xlink:href=\"#DejaVuSans-101\"/>\n       <use x=\"661.767578\" xlink:href=\"#DejaVuSans-114\"/>\n       <use x=\"701.130859\" xlink:href=\"#DejaVuSans-110\"/>\n       <use x=\"764.509766\" xlink:href=\"#DejaVuSans-97\"/>\n       <use x=\"825.789062\" xlink:href=\"#DejaVuSans-116\"/>\n       <use x=\"864.998047\" xlink:href=\"#DejaVuSans-105\"/>\n       <use x=\"892.78125\" xlink:href=\"#DejaVuSans-111\"/>\n       <use x=\"953.962891\" xlink:href=\"#DejaVuSans-110\"/>\n       <use x=\"1017.341797\" xlink:href=\"#DejaVuSans-97\"/>\n       <use x=\"1078.621094\" xlink:href=\"#DejaVuSans-108\"/>\n       <use x=\"1106.404297\" xlink:href=\"#DejaVuSans-32\"/>\n       <use x=\"1138.191406\" xlink:href=\"#DejaVuSans-76\"/>\n       <use x=\"1193.904297\" xlink:href=\"#DejaVuSans-76\"/>\n       <use x=\"1249.617188\" xlink:href=\"#DejaVuSans-67\"/>\n      </g>\n     </g>\n    </g>\n    <g id=\"xtick_77\">\n     <g id=\"line2d_77\">\n      <g>\n       <use style=\"stroke:#000000;stroke-width:0.8;\" x=\"700.121306\" xlink:href=\"#m3b5fe81e7c\" y=\"464.076875\"/>\n      </g>\n     </g>\n     <g id=\"text_77\">\n      <!-- Dynamic Aviation, Inc. d/b/a Beacon -->\n      <g transform=\"translate(564.484978 482.474531)scale(0.15 -0.15)\">\n       <use xlink:href=\"#DejaVuSans-68\"/>\n       <use x=\"77.001953\" xlink:href=\"#DejaVuSans-121\"/>\n       <use x=\"136.181641\" xlink:href=\"#DejaVuSans-110\"/>\n       <use x=\"199.560547\" xlink:href=\"#DejaVuSans-97\"/>\n       <use x=\"260.839844\" xlink:href=\"#DejaVuSans-109\"/>\n       <use x=\"358.251953\" xlink:href=\"#DejaVuSans-105\"/>\n       <use x=\"386.035156\" xlink:href=\"#DejaVuSans-99\"/>\n       <use x=\"441.015625\" xlink:href=\"#DejaVuSans-32\"/>\n       <use x=\"472.802734\" xlink:href=\"#DejaVuSans-65\"/>\n       <use x=\"535.335938\" xlink:href=\"#DejaVuSans-118\"/>\n       <use x=\"594.515625\" xlink:href=\"#DejaVuSans-105\"/>\n       <use x=\"622.298828\" xlink:href=\"#DejaVuSans-97\"/>\n       <use x=\"683.578125\" xlink:href=\"#DejaVuSans-116\"/>\n       <use x=\"722.787109\" xlink:href=\"#DejaVuSans-105\"/>\n       <use x=\"750.570312\" xlink:href=\"#DejaVuSans-111\"/>\n       <use x=\"811.751953\" xlink:href=\"#DejaVuSans-110\"/>\n       <use x=\"875.130859\" xlink:href=\"#DejaVuSans-44\"/>\n       <use x=\"906.917969\" xlink:href=\"#DejaVuSans-32\"/>\n       <use x=\"938.705078\" xlink:href=\"#DejaVuSans-73\"/>\n       <use x=\"968.197266\" xlink:href=\"#DejaVuSans-110\"/>\n       <use x=\"1031.576172\" xlink:href=\"#DejaVuSans-99\"/>\n       <use x=\"1086.556641\" xlink:href=\"#DejaVuSans-46\"/>\n       <use x=\"1118.34375\" xlink:href=\"#DejaVuSans-32\"/>\n       <use x=\"1150.130859\" xlink:href=\"#DejaVuSans-100\"/>\n       <use x=\"1213.607422\" xlink:href=\"#DejaVuSans-47\"/>\n       <use x=\"1247.298828\" xlink:href=\"#DejaVuSans-98\"/>\n       <use x=\"1310.775391\" xlink:href=\"#DejaVuSans-47\"/>\n       <use x=\"1344.466797\" xlink:href=\"#DejaVuSans-97\"/>\n       <use x=\"1405.746094\" xlink:href=\"#DejaVuSans-32\"/>\n       <use x=\"1437.533203\" xlink:href=\"#DejaVuSans-66\"/>\n       <use x=\"1506.136719\" xlink:href=\"#DejaVuSans-101\"/>\n       <use x=\"1567.660156\" xlink:href=\"#DejaVuSans-97\"/>\n       <use x=\"1628.939453\" xlink:href=\"#DejaVuSans-99\"/>\n       <use x=\"1683.919922\" xlink:href=\"#DejaVuSans-111\"/>\n       <use x=\"1745.101562\" xlink:href=\"#DejaVuSans-110\"/>\n      </g>\n     </g>\n    </g>\n    <g id=\"xtick_78\">\n     <g id=\"line2d_78\">\n      <g>\n       <use style=\"stroke:#000000;stroke-width:0.8;\" x=\"707.998212\" xlink:href=\"#m3b5fe81e7c\" y=\"464.076875\"/>\n      </g>\n     </g>\n     <g id=\"text_78\">\n      <!-- Scott Aviation, LLC  d/b/a  Silver Air -->\n      <g transform=\"translate(575.270477 482.474531)scale(0.15 -0.15)\">\n       <use xlink:href=\"#DejaVuSans-83\"/>\n       <use x=\"63.476562\" xlink:href=\"#DejaVuSans-99\"/>\n       <use x=\"118.457031\" xlink:href=\"#DejaVuSans-111\"/>\n       <use x=\"179.638672\" xlink:href=\"#DejaVuSans-116\"/>\n       <use x=\"218.847656\" xlink:href=\"#DejaVuSans-116\"/>\n       <use x=\"258.056641\" xlink:href=\"#DejaVuSans-32\"/>\n       <use x=\"289.84375\" xlink:href=\"#DejaVuSans-65\"/>\n       <use x=\"352.376953\" xlink:href=\"#DejaVuSans-118\"/>\n       <use x=\"411.556641\" xlink:href=\"#DejaVuSans-105\"/>\n       <use x=\"439.339844\" xlink:href=\"#DejaVuSans-97\"/>\n       <use x=\"500.619141\" xlink:href=\"#DejaVuSans-116\"/>\n       <use x=\"539.828125\" xlink:href=\"#DejaVuSans-105\"/>\n       <use x=\"567.611328\" xlink:href=\"#DejaVuSans-111\"/>\n       <use x=\"628.792969\" xlink:href=\"#DejaVuSans-110\"/>\n       <use x=\"692.171875\" xlink:href=\"#DejaVuSans-44\"/>\n       <use x=\"723.958984\" xlink:href=\"#DejaVuSans-32\"/>\n       <use x=\"755.746094\" xlink:href=\"#DejaVuSans-76\"/>\n       <use x=\"811.458984\" xlink:href=\"#DejaVuSans-76\"/>\n       <use x=\"867.171875\" xlink:href=\"#DejaVuSans-67\"/>\n       <use x=\"936.996094\" xlink:href=\"#DejaVuSans-32\"/>\n       <use x=\"968.783203\" xlink:href=\"#DejaVuSans-32\"/>\n       <use x=\"1000.570312\" xlink:href=\"#DejaVuSans-100\"/>\n       <use x=\"1064.046875\" xlink:href=\"#DejaVuSans-47\"/>\n       <use x=\"1097.738281\" xlink:href=\"#DejaVuSans-98\"/>\n       <use x=\"1161.214844\" xlink:href=\"#DejaVuSans-47\"/>\n       <use x=\"1194.90625\" xlink:href=\"#DejaVuSans-97\"/>\n       <use x=\"1256.185547\" xlink:href=\"#DejaVuSans-32\"/>\n       <use x=\"1287.972656\" xlink:href=\"#DejaVuSans-32\"/>\n       <use x=\"1319.759766\" xlink:href=\"#DejaVuSans-83\"/>\n       <use x=\"1383.236328\" xlink:href=\"#DejaVuSans-105\"/>\n       <use x=\"1411.019531\" xlink:href=\"#DejaVuSans-108\"/>\n       <use x=\"1438.802734\" xlink:href=\"#DejaVuSans-118\"/>\n       <use x=\"1497.982422\" xlink:href=\"#DejaVuSans-101\"/>\n       <use x=\"1559.505859\" xlink:href=\"#DejaVuSans-114\"/>\n       <use x=\"1600.619141\" xlink:href=\"#DejaVuSans-32\"/>\n       <use x=\"1632.40625\" xlink:href=\"#DejaVuSans-65\"/>\n       <use x=\"1700.814453\" xlink:href=\"#DejaVuSans-105\"/>\n       <use x=\"1728.597656\" xlink:href=\"#DejaVuSans-114\"/>\n      </g>\n     </g>\n    </g>\n    <g id=\"xtick_79\">\n     <g id=\"line2d_79\">\n      <g>\n       <use style=\"stroke:#000000;stroke-width:0.8;\" x=\"715.875117\" xlink:href=\"#m3b5fe81e7c\" y=\"464.076875\"/>\n      </g>\n     </g>\n     <g id=\"text_79\">\n      <!-- Air Charter, Inc d/b/a Air Flamenco -->\n      <g transform=\"translate(586.030195 482.474531)scale(0.15 -0.15)\">\n       <use xlink:href=\"#DejaVuSans-65\"/>\n       <use x=\"68.408203\" xlink:href=\"#DejaVuSans-105\"/>\n       <use x=\"96.191406\" xlink:href=\"#DejaVuSans-114\"/>\n       <use x=\"137.304688\" xlink:href=\"#DejaVuSans-32\"/>\n       <use x=\"169.091797\" xlink:href=\"#DejaVuSans-67\"/>\n       <use x=\"238.916016\" xlink:href=\"#DejaVuSans-104\"/>\n       <use x=\"302.294922\" xlink:href=\"#DejaVuSans-97\"/>\n       <use x=\"363.574219\" xlink:href=\"#DejaVuSans-114\"/>\n       <use x=\"404.6875\" xlink:href=\"#DejaVuSans-116\"/>\n       <use x=\"443.896484\" xlink:href=\"#DejaVuSans-101\"/>\n       <use x=\"505.419922\" xlink:href=\"#DejaVuSans-114\"/>\n       <use x=\"546.533203\" xlink:href=\"#DejaVuSans-44\"/>\n       <use x=\"578.320312\" xlink:href=\"#DejaVuSans-32\"/>\n       <use x=\"610.107422\" xlink:href=\"#DejaVuSans-73\"/>\n       <use x=\"639.599609\" xlink:href=\"#DejaVuSans-110\"/>\n       <use x=\"702.978516\" xlink:href=\"#DejaVuSans-99\"/>\n       <use x=\"757.958984\" xlink:href=\"#DejaVuSans-32\"/>\n       <use x=\"789.746094\" xlink:href=\"#DejaVuSans-100\"/>\n       <use x=\"853.222656\" xlink:href=\"#DejaVuSans-47\"/>\n       <use x=\"886.914062\" xlink:href=\"#DejaVuSans-98\"/>\n       <use x=\"950.390625\" xlink:href=\"#DejaVuSans-47\"/>\n       <use x=\"984.082031\" xlink:href=\"#DejaVuSans-97\"/>\n       <use x=\"1045.361328\" xlink:href=\"#DejaVuSans-32\"/>\n       <use x=\"1077.148438\" xlink:href=\"#DejaVuSans-65\"/>\n       <use x=\"1145.556641\" xlink:href=\"#DejaVuSans-105\"/>\n       <use x=\"1173.339844\" xlink:href=\"#DejaVuSans-114\"/>\n       <use x=\"1214.453125\" xlink:href=\"#DejaVuSans-32\"/>\n       <use x=\"1246.240234\" xlink:href=\"#DejaVuSans-70\"/>\n       <use x=\"1303.759766\" xlink:href=\"#DejaVuSans-108\"/>\n       <use x=\"1331.542969\" xlink:href=\"#DejaVuSans-97\"/>\n       <use x=\"1392.822266\" xlink:href=\"#DejaVuSans-109\"/>\n       <use x=\"1490.234375\" xlink:href=\"#DejaVuSans-101\"/>\n       <use x=\"1551.757812\" xlink:href=\"#DejaVuSans-110\"/>\n       <use x=\"1615.136719\" xlink:href=\"#DejaVuSans-99\"/>\n       <use x=\"1670.117188\" xlink:href=\"#DejaVuSans-111\"/>\n      </g>\n     </g>\n    </g>\n    <g id=\"xtick_80\">\n     <g id=\"line2d_80\">\n      <g>\n       <use style=\"stroke:#000000;stroke-width:0.8;\" x=\"723.752023\" xlink:href=\"#m3b5fe81e7c\" y=\"464.076875\"/>\n      </g>\n     </g>\n     <g id=\"text_80\">\n      <!-- Smokey Bay Air Inc. -->\n      <g transform=\"translate(648.869211 482.474531)scale(0.15 -0.15)\">\n       <use xlink:href=\"#DejaVuSans-83\"/>\n       <use x=\"63.476562\" xlink:href=\"#DejaVuSans-109\"/>\n       <use x=\"160.888672\" xlink:href=\"#DejaVuSans-111\"/>\n       <use x=\"222.070312\" xlink:href=\"#DejaVuSans-107\"/>\n       <use x=\"276.355469\" xlink:href=\"#DejaVuSans-101\"/>\n       <use x=\"337.878906\" xlink:href=\"#DejaVuSans-121\"/>\n       <use x=\"397.058594\" xlink:href=\"#DejaVuSans-32\"/>\n       <use x=\"428.845703\" xlink:href=\"#DejaVuSans-66\"/>\n       <use x=\"497.449219\" xlink:href=\"#DejaVuSans-97\"/>\n       <use x=\"558.728516\" xlink:href=\"#DejaVuSans-121\"/>\n       <use x=\"617.908203\" xlink:href=\"#DejaVuSans-32\"/>\n       <use x=\"649.695312\" xlink:href=\"#DejaVuSans-65\"/>\n       <use x=\"718.103516\" xlink:href=\"#DejaVuSans-105\"/>\n       <use x=\"745.886719\" xlink:href=\"#DejaVuSans-114\"/>\n       <use x=\"787\" xlink:href=\"#DejaVuSans-32\"/>\n       <use x=\"818.787109\" xlink:href=\"#DejaVuSans-73\"/>\n       <use x=\"848.279297\" xlink:href=\"#DejaVuSans-110\"/>\n       <use x=\"911.658203\" xlink:href=\"#DejaVuSans-99\"/>\n       <use x=\"966.638672\" xlink:href=\"#DejaVuSans-46\"/>\n      </g>\n     </g>\n    </g>\n    <g id=\"xtick_81\">\n     <g id=\"line2d_81\">\n      <g>\n       <use style=\"stroke:#000000;stroke-width:0.8;\" x=\"731.628929\" xlink:href=\"#m3b5fe81e7c\" y=\"464.076875\"/>\n      </g>\n     </g>\n     <g id=\"text_81\">\n      <!-- Empire Airlines Inc. -->\n      <g transform=\"translate(659.230491 482.474531)scale(0.15 -0.15)\">\n       <use xlink:href=\"#DejaVuSans-69\"/>\n       <use x=\"63.183594\" xlink:href=\"#DejaVuSans-109\"/>\n       <use x=\"160.595703\" xlink:href=\"#DejaVuSans-112\"/>\n       <use x=\"224.072266\" xlink:href=\"#DejaVuSans-105\"/>\n       <use x=\"251.855469\" xlink:href=\"#DejaVuSans-114\"/>\n       <use x=\"290.71875\" xlink:href=\"#DejaVuSans-101\"/>\n       <use x=\"352.242188\" xlink:href=\"#DejaVuSans-32\"/>\n       <use x=\"384.029297\" xlink:href=\"#DejaVuSans-65\"/>\n       <use x=\"452.4375\" xlink:href=\"#DejaVuSans-105\"/>\n       <use x=\"480.220703\" xlink:href=\"#DejaVuSans-114\"/>\n       <use x=\"521.333984\" xlink:href=\"#DejaVuSans-108\"/>\n       <use x=\"549.117188\" xlink:href=\"#DejaVuSans-105\"/>\n       <use x=\"576.900391\" xlink:href=\"#DejaVuSans-110\"/>\n       <use x=\"640.279297\" xlink:href=\"#DejaVuSans-101\"/>\n       <use x=\"701.802734\" xlink:href=\"#DejaVuSans-115\"/>\n       <use x=\"753.902344\" xlink:href=\"#DejaVuSans-32\"/>\n       <use x=\"785.689453\" xlink:href=\"#DejaVuSans-73\"/>\n       <use x=\"815.181641\" xlink:href=\"#DejaVuSans-110\"/>\n       <use x=\"878.560547\" xlink:href=\"#DejaVuSans-99\"/>\n       <use x=\"933.541016\" xlink:href=\"#DejaVuSans-46\"/>\n      </g>\n     </g>\n    </g>\n    <g id=\"xtick_82\">\n     <g id=\"line2d_82\">\n      <g>\n       <use style=\"stroke:#000000;stroke-width:0.8;\" x=\"739.505834\" xlink:href=\"#m3b5fe81e7c\" y=\"464.076875\"/>\n      </g>\n     </g>\n     <g id=\"text_82\">\n      <!-- Spernak Airways Inc. -->\n      <g transform=\"translate(661.110913 482.474531)scale(0.15 -0.15)\">\n       <use xlink:href=\"#DejaVuSans-83\"/>\n       <use x=\"63.476562\" xlink:href=\"#DejaVuSans-112\"/>\n       <use x=\"126.953125\" xlink:href=\"#DejaVuSans-101\"/>\n       <use x=\"188.476562\" xlink:href=\"#DejaVuSans-114\"/>\n       <use x=\"227.839844\" xlink:href=\"#DejaVuSans-110\"/>\n       <use x=\"291.21875\" xlink:href=\"#DejaVuSans-97\"/>\n       <use x=\"352.498047\" xlink:href=\"#DejaVuSans-107\"/>\n       <use x=\"410.408203\" xlink:href=\"#DejaVuSans-32\"/>\n       <use x=\"442.195312\" xlink:href=\"#DejaVuSans-65\"/>\n       <use x=\"510.603516\" xlink:href=\"#DejaVuSans-105\"/>\n       <use x=\"538.386719\" xlink:href=\"#DejaVuSans-114\"/>\n       <use x=\"579.5\" xlink:href=\"#DejaVuSans-119\"/>\n       <use x=\"661.287109\" xlink:href=\"#DejaVuSans-97\"/>\n       <use x=\"722.566406\" xlink:href=\"#DejaVuSans-121\"/>\n       <use x=\"781.746094\" xlink:href=\"#DejaVuSans-115\"/>\n       <use x=\"833.845703\" xlink:href=\"#DejaVuSans-32\"/>\n       <use x=\"865.632812\" xlink:href=\"#DejaVuSans-73\"/>\n       <use x=\"895.125\" xlink:href=\"#DejaVuSans-110\"/>\n       <use x=\"958.503906\" xlink:href=\"#DejaVuSans-99\"/>\n       <use x=\"1013.484375\" xlink:href=\"#DejaVuSans-46\"/>\n      </g>\n     </g>\n    </g>\n    <g id=\"xtick_83\">\n     <g id=\"line2d_83\">\n      <g>\n       <use style=\"stroke:#000000;stroke-width:0.8;\" x=\"747.38274\" xlink:href=\"#m3b5fe81e7c\" y=\"464.076875\"/>\n      </g>\n     </g>\n     <g id=\"text_83\">\n      <!-- Vieques Air Link Inc. -->\n      <g transform=\"translate(671.406568 482.474531)scale(0.15 -0.15)\">\n       <use xlink:href=\"#DejaVuSans-86\"/>\n       <use x=\"66.158203\" xlink:href=\"#DejaVuSans-105\"/>\n       <use x=\"93.941406\" xlink:href=\"#DejaVuSans-101\"/>\n       <use x=\"155.464844\" xlink:href=\"#DejaVuSans-113\"/>\n       <use x=\"218.941406\" xlink:href=\"#DejaVuSans-117\"/>\n       <use x=\"282.320312\" xlink:href=\"#DejaVuSans-101\"/>\n       <use x=\"343.84375\" xlink:href=\"#DejaVuSans-115\"/>\n       <use x=\"395.943359\" xlink:href=\"#DejaVuSans-32\"/>\n       <use x=\"427.730469\" xlink:href=\"#DejaVuSans-65\"/>\n       <use x=\"496.138672\" xlink:href=\"#DejaVuSans-105\"/>\n       <use x=\"523.921875\" xlink:href=\"#DejaVuSans-114\"/>\n       <use x=\"565.035156\" xlink:href=\"#DejaVuSans-32\"/>\n       <use x=\"596.822266\" xlink:href=\"#DejaVuSans-76\"/>\n       <use x=\"652.535156\" xlink:href=\"#DejaVuSans-105\"/>\n       <use x=\"680.318359\" xlink:href=\"#DejaVuSans-110\"/>\n       <use x=\"743.697266\" xlink:href=\"#DejaVuSans-107\"/>\n       <use x=\"801.607422\" xlink:href=\"#DejaVuSans-32\"/>\n       <use x=\"833.394531\" xlink:href=\"#DejaVuSans-73\"/>\n       <use x=\"862.886719\" xlink:href=\"#DejaVuSans-110\"/>\n       <use x=\"926.265625\" xlink:href=\"#DejaVuSans-99\"/>\n       <use x=\"981.246094\" xlink:href=\"#DejaVuSans-46\"/>\n      </g>\n     </g>\n    </g>\n    <g id=\"xtick_84\">\n     <g id=\"line2d_84\">\n      <g>\n       <use style=\"stroke:#000000;stroke-width:0.8;\" x=\"755.259646\" xlink:href=\"#m3b5fe81e7c\" y=\"464.076875\"/>\n      </g>\n     </g>\n     <g id=\"text_84\">\n      <!-- Harris Air Services -->\n      <g transform=\"translate(686.305349 482.474531)scale(0.15 -0.15)\">\n       <use xlink:href=\"#DejaVuSans-72\"/>\n       <use x=\"75.195312\" xlink:href=\"#DejaVuSans-97\"/>\n       <use x=\"136.474609\" xlink:href=\"#DejaVuSans-114\"/>\n       <use x=\"175.837891\" xlink:href=\"#DejaVuSans-114\"/>\n       <use x=\"216.951172\" xlink:href=\"#DejaVuSans-105\"/>\n       <use x=\"244.734375\" xlink:href=\"#DejaVuSans-115\"/>\n       <use x=\"296.833984\" xlink:href=\"#DejaVuSans-32\"/>\n       <use x=\"328.621094\" xlink:href=\"#DejaVuSans-65\"/>\n       <use x=\"397.029297\" xlink:href=\"#DejaVuSans-105\"/>\n       <use x=\"424.8125\" xlink:href=\"#DejaVuSans-114\"/>\n       <use x=\"465.925781\" xlink:href=\"#DejaVuSans-32\"/>\n       <use x=\"497.712891\" xlink:href=\"#DejaVuSans-83\"/>\n       <use x=\"561.189453\" xlink:href=\"#DejaVuSans-101\"/>\n       <use x=\"622.712891\" xlink:href=\"#DejaVuSans-114\"/>\n       <use x=\"663.826172\" xlink:href=\"#DejaVuSans-118\"/>\n       <use x=\"723.005859\" xlink:href=\"#DejaVuSans-105\"/>\n       <use x=\"750.789062\" xlink:href=\"#DejaVuSans-99\"/>\n       <use x=\"805.769531\" xlink:href=\"#DejaVuSans-101\"/>\n       <use x=\"867.292969\" xlink:href=\"#DejaVuSans-115\"/>\n      </g>\n     </g>\n    </g>\n    <g id=\"xtick_85\">\n     <g id=\"line2d_85\">\n      <g>\n       <use style=\"stroke:#000000;stroke-width:0.8;\" x=\"763.136552\" xlink:href=\"#m3b5fe81e7c\" y=\"464.076875\"/>\n      </g>\n     </g>\n     <g id=\"text_85\">\n      <!-- PM Air, LLC -->\n      <g transform=\"translate(721.100223 482.474531)scale(0.15 -0.15)\">\n       <use xlink:href=\"#DejaVuSans-80\"/>\n       <use x=\"60.302734\" xlink:href=\"#DejaVuSans-77\"/>\n       <use x=\"146.582031\" xlink:href=\"#DejaVuSans-32\"/>\n       <use x=\"178.369141\" xlink:href=\"#DejaVuSans-65\"/>\n       <use x=\"246.777344\" xlink:href=\"#DejaVuSans-105\"/>\n       <use x=\"274.560547\" xlink:href=\"#DejaVuSans-114\"/>\n       <use x=\"315.673828\" xlink:href=\"#DejaVuSans-44\"/>\n       <use x=\"347.460938\" xlink:href=\"#DejaVuSans-32\"/>\n       <use x=\"379.248047\" xlink:href=\"#DejaVuSans-76\"/>\n       <use x=\"434.960938\" xlink:href=\"#DejaVuSans-76\"/>\n       <use x=\"490.673828\" xlink:href=\"#DejaVuSans-67\"/>\n      </g>\n     </g>\n    </g>\n    <g id=\"xtick_86\">\n     <g id=\"line2d_86\">\n      <g>\n       <use style=\"stroke:#000000;stroke-width:0.8;\" x=\"771.013457\" xlink:href=\"#m3b5fe81e7c\" y=\"464.076875\"/>\n      </g>\n     </g>\n     <g id=\"text_86\">\n      <!-- Ultimate JetCharters LLC dba Ultimate Air Shuttle -->\n      <g transform=\"translate(585.765801 482.474531)scale(0.15 -0.15)\">\n       <use xlink:href=\"#DejaVuSans-85\"/>\n       <use x=\"73.193359\" xlink:href=\"#DejaVuSans-108\"/>\n       <use x=\"100.976562\" xlink:href=\"#DejaVuSans-116\"/>\n       <use x=\"140.185547\" xlink:href=\"#DejaVuSans-105\"/>\n       <use x=\"167.96875\" xlink:href=\"#DejaVuSans-109\"/>\n       <use x=\"265.380859\" xlink:href=\"#DejaVuSans-97\"/>\n       <use x=\"326.660156\" xlink:href=\"#DejaVuSans-116\"/>\n       <use x=\"365.869141\" xlink:href=\"#DejaVuSans-101\"/>\n       <use x=\"427.392578\" xlink:href=\"#DejaVuSans-32\"/>\n       <use x=\"459.179688\" xlink:href=\"#DejaVuSans-74\"/>\n       <use x=\"488.671875\" xlink:href=\"#DejaVuSans-101\"/>\n       <use x=\"550.195312\" xlink:href=\"#DejaVuSans-116\"/>\n       <use x=\"589.404297\" xlink:href=\"#DejaVuSans-67\"/>\n       <use x=\"659.228516\" xlink:href=\"#DejaVuSans-104\"/>\n       <use x=\"722.607422\" xlink:href=\"#DejaVuSans-97\"/>\n       <use x=\"783.886719\" xlink:href=\"#DejaVuSans-114\"/>\n       <use x=\"825\" xlink:href=\"#DejaVuSans-116\"/>\n       <use x=\"864.208984\" xlink:href=\"#DejaVuSans-101\"/>\n       <use x=\"925.732422\" xlink:href=\"#DejaVuSans-114\"/>\n       <use x=\"966.845703\" xlink:href=\"#DejaVuSans-115\"/>\n       <use x=\"1018.945312\" xlink:href=\"#DejaVuSans-32\"/>\n       <use x=\"1050.732422\" xlink:href=\"#DejaVuSans-76\"/>\n       <use x=\"1106.445312\" xlink:href=\"#DejaVuSans-76\"/>\n       <use x=\"1162.158203\" xlink:href=\"#DejaVuSans-67\"/>\n       <use x=\"1231.982422\" xlink:href=\"#DejaVuSans-32\"/>\n       <use x=\"1263.769531\" xlink:href=\"#DejaVuSans-100\"/>\n       <use x=\"1327.246094\" xlink:href=\"#DejaVuSans-98\"/>\n       <use x=\"1390.722656\" xlink:href=\"#DejaVuSans-97\"/>\n       <use x=\"1452.001953\" xlink:href=\"#DejaVuSans-32\"/>\n       <use x=\"1483.789062\" xlink:href=\"#DejaVuSans-85\"/>\n       <use x=\"1556.982422\" xlink:href=\"#DejaVuSans-108\"/>\n       <use x=\"1584.765625\" xlink:href=\"#DejaVuSans-116\"/>\n       <use x=\"1623.974609\" xlink:href=\"#DejaVuSans-105\"/>\n       <use x=\"1651.757812\" xlink:href=\"#DejaVuSans-109\"/>\n       <use x=\"1749.169922\" xlink:href=\"#DejaVuSans-97\"/>\n       <use x=\"1810.449219\" xlink:href=\"#DejaVuSans-116\"/>\n       <use x=\"1849.658203\" xlink:href=\"#DejaVuSans-101\"/>\n       <use x=\"1911.181641\" xlink:href=\"#DejaVuSans-32\"/>\n       <use x=\"1942.96875\" xlink:href=\"#DejaVuSans-65\"/>\n       <use x=\"2011.376953\" xlink:href=\"#DejaVuSans-105\"/>\n       <use x=\"2039.160156\" xlink:href=\"#DejaVuSans-114\"/>\n       <use x=\"2080.273438\" xlink:href=\"#DejaVuSans-32\"/>\n       <use x=\"2112.060547\" xlink:href=\"#DejaVuSans-83\"/>\n       <use x=\"2175.537109\" xlink:href=\"#DejaVuSans-104\"/>\n       <use x=\"2238.916016\" xlink:href=\"#DejaVuSans-117\"/>\n       <use x=\"2302.294922\" xlink:href=\"#DejaVuSans-116\"/>\n       <use x=\"2341.503906\" xlink:href=\"#DejaVuSans-116\"/>\n       <use x=\"2380.712891\" xlink:href=\"#DejaVuSans-108\"/>\n       <use x=\"2408.496094\" xlink:href=\"#DejaVuSans-101\"/>\n      </g>\n     </g>\n    </g>\n    <g id=\"xtick_87\">\n     <g id=\"line2d_87\">\n      <g>\n       <use style=\"stroke:#000000;stroke-width:0.8;\" x=\"778.890363\" xlink:href=\"#m3b5fe81e7c\" y=\"464.076875\"/>\n      </g>\n     </g>\n     <g id=\"text_87\">\n      <!-- Island Airlines LLC -->\n      <g transform=\"translate(710.475129 482.474531)scale(0.15 -0.15)\">\n       <use xlink:href=\"#DejaVuSans-73\"/>\n       <use x=\"29.492188\" xlink:href=\"#DejaVuSans-115\"/>\n       <use x=\"81.591797\" xlink:href=\"#DejaVuSans-108\"/>\n       <use x=\"109.375\" xlink:href=\"#DejaVuSans-97\"/>\n       <use x=\"170.654297\" xlink:href=\"#DejaVuSans-110\"/>\n       <use x=\"234.033203\" xlink:href=\"#DejaVuSans-100\"/>\n       <use x=\"297.509766\" xlink:href=\"#DejaVuSans-32\"/>\n       <use x=\"329.296875\" xlink:href=\"#DejaVuSans-65\"/>\n       <use x=\"397.705078\" xlink:href=\"#DejaVuSans-105\"/>\n       <use x=\"425.488281\" xlink:href=\"#DejaVuSans-114\"/>\n       <use x=\"466.601562\" xlink:href=\"#DejaVuSans-108\"/>\n       <use x=\"494.384766\" xlink:href=\"#DejaVuSans-105\"/>\n       <use x=\"522.167969\" xlink:href=\"#DejaVuSans-110\"/>\n       <use x=\"585.546875\" xlink:href=\"#DejaVuSans-101\"/>\n       <use x=\"647.070312\" xlink:href=\"#DejaVuSans-115\"/>\n       <use x=\"699.169922\" xlink:href=\"#DejaVuSans-32\"/>\n       <use x=\"730.957031\" xlink:href=\"#DejaVuSans-76\"/>\n       <use x=\"786.669922\" xlink:href=\"#DejaVuSans-76\"/>\n       <use x=\"842.382812\" xlink:href=\"#DejaVuSans-67\"/>\n      </g>\n     </g>\n    </g>\n    <g id=\"xtick_88\">\n     <g id=\"line2d_88\">\n      <g>\n       <use style=\"stroke:#000000;stroke-width:0.8;\" x=\"786.767269\" xlink:href=\"#m3b5fe81e7c\" y=\"464.076875\"/>\n      </g>\n     </g>\n     <g id=\"text_88\">\n      <!-- Seaborne Virgin Islands, Inc. -->\n      <g transform=\"translate(680.301253 482.474531)scale(0.15 -0.15)\">\n       <use xlink:href=\"#DejaVuSans-83\"/>\n       <use x=\"63.476562\" xlink:href=\"#DejaVuSans-101\"/>\n       <use x=\"125\" xlink:href=\"#DejaVuSans-97\"/>\n       <use x=\"186.279297\" xlink:href=\"#DejaVuSans-98\"/>\n       <use x=\"249.755859\" xlink:href=\"#DejaVuSans-111\"/>\n       <use x=\"310.9375\" xlink:href=\"#DejaVuSans-114\"/>\n       <use x=\"350.300781\" xlink:href=\"#DejaVuSans-110\"/>\n       <use x=\"413.679688\" xlink:href=\"#DejaVuSans-101\"/>\n       <use x=\"475.203125\" xlink:href=\"#DejaVuSans-32\"/>\n       <use x=\"506.990234\" xlink:href=\"#DejaVuSans-86\"/>\n       <use x=\"573.148438\" xlink:href=\"#DejaVuSans-105\"/>\n       <use x=\"600.931641\" xlink:href=\"#DejaVuSans-114\"/>\n       <use x=\"640.294922\" xlink:href=\"#DejaVuSans-103\"/>\n       <use x=\"703.771484\" xlink:href=\"#DejaVuSans-105\"/>\n       <use x=\"731.554688\" xlink:href=\"#DejaVuSans-110\"/>\n       <use x=\"794.933594\" xlink:href=\"#DejaVuSans-32\"/>\n       <use x=\"826.720703\" xlink:href=\"#DejaVuSans-73\"/>\n       <use x=\"856.212891\" xlink:href=\"#DejaVuSans-115\"/>\n       <use x=\"908.3125\" xlink:href=\"#DejaVuSans-108\"/>\n       <use x=\"936.095703\" xlink:href=\"#DejaVuSans-97\"/>\n       <use x=\"997.375\" xlink:href=\"#DejaVuSans-110\"/>\n       <use x=\"1060.753906\" xlink:href=\"#DejaVuSans-100\"/>\n       <use x=\"1124.230469\" xlink:href=\"#DejaVuSans-115\"/>\n       <use x=\"1176.330078\" xlink:href=\"#DejaVuSans-44\"/>\n       <use x=\"1208.117188\" xlink:href=\"#DejaVuSans-32\"/>\n       <use x=\"1239.904297\" xlink:href=\"#DejaVuSans-73\"/>\n       <use x=\"1269.396484\" xlink:href=\"#DejaVuSans-110\"/>\n       <use x=\"1332.775391\" xlink:href=\"#DejaVuSans-99\"/>\n       <use x=\"1387.755859\" xlink:href=\"#DejaVuSans-46\"/>\n      </g>\n     </g>\n    </g>\n    <g id=\"xtick_89\">\n     <g id=\"line2d_89\">\n      <g>\n       <use style=\"stroke:#000000;stroke-width:0.8;\" x=\"794.644174\" xlink:href=\"#m3b5fe81e7c\" y=\"464.076875\"/>\n      </g>\n     </g>\n     <g id=\"text_89\">\n      <!-- Katmai Air -->\n      <g transform=\"translate(755.654721 482.474531)scale(0.15 -0.15)\">\n       <use xlink:href=\"#DejaVuSans-75\"/>\n       <use x=\"63.826172\" xlink:href=\"#DejaVuSans-97\"/>\n       <use x=\"125.105469\" xlink:href=\"#DejaVuSans-116\"/>\n       <use x=\"164.314453\" xlink:href=\"#DejaVuSans-109\"/>\n       <use x=\"261.726562\" xlink:href=\"#DejaVuSans-97\"/>\n       <use x=\"323.005859\" xlink:href=\"#DejaVuSans-105\"/>\n       <use x=\"350.789062\" xlink:href=\"#DejaVuSans-32\"/>\n       <use x=\"382.576172\" xlink:href=\"#DejaVuSans-65\"/>\n       <use x=\"450.984375\" xlink:href=\"#DejaVuSans-105\"/>\n       <use x=\"478.767578\" xlink:href=\"#DejaVuSans-114\"/>\n      </g>\n     </g>\n    </g>\n    <g id=\"xtick_90\">\n     <g id=\"line2d_90\">\n      <g>\n       <use style=\"stroke:#000000;stroke-width:0.8;\" x=\"802.52108\" xlink:href=\"#m3b5fe81e7c\" y=\"464.076875\"/>\n      </g>\n     </g>\n     <g id=\"text_90\">\n      <!-- Island Air Hawaii -->\n      <g transform=\"translate(740.009752 482.474531)scale(0.15 -0.15)\">\n       <use xlink:href=\"#DejaVuSans-73\"/>\n       <use x=\"29.492188\" xlink:href=\"#DejaVuSans-115\"/>\n       <use x=\"81.591797\" xlink:href=\"#DejaVuSans-108\"/>\n       <use x=\"109.375\" xlink:href=\"#DejaVuSans-97\"/>\n       <use x=\"170.654297\" xlink:href=\"#DejaVuSans-110\"/>\n       <use x=\"234.033203\" xlink:href=\"#DejaVuSans-100\"/>\n       <use x=\"297.509766\" xlink:href=\"#DejaVuSans-32\"/>\n       <use x=\"329.296875\" xlink:href=\"#DejaVuSans-65\"/>\n       <use x=\"397.705078\" xlink:href=\"#DejaVuSans-105\"/>\n       <use x=\"425.488281\" xlink:href=\"#DejaVuSans-114\"/>\n       <use x=\"466.601562\" xlink:href=\"#DejaVuSans-32\"/>\n       <use x=\"498.388672\" xlink:href=\"#DejaVuSans-72\"/>\n       <use x=\"573.583984\" xlink:href=\"#DejaVuSans-97\"/>\n       <use x=\"634.863281\" xlink:href=\"#DejaVuSans-119\"/>\n       <use x=\"716.650391\" xlink:href=\"#DejaVuSans-97\"/>\n       <use x=\"777.929688\" xlink:href=\"#DejaVuSans-105\"/>\n       <use x=\"805.712891\" xlink:href=\"#DejaVuSans-105\"/>\n      </g>\n     </g>\n    </g>\n    <g id=\"xtick_91\">\n     <g id=\"line2d_91\">\n      <g>\n       <use style=\"stroke:#000000;stroke-width:0.8;\" x=\"810.397986\" xlink:href=\"#m3b5fe81e7c\" y=\"464.076875\"/>\n      </g>\n     </g>\n     <g id=\"text_91\">\n      <!-- Air Excursions LLC -->\n      <g transform=\"translate(741.491736 482.474531)scale(0.15 -0.15)\">\n       <use xlink:href=\"#DejaVuSans-65\"/>\n       <use x=\"68.408203\" xlink:href=\"#DejaVuSans-105\"/>\n       <use x=\"96.191406\" xlink:href=\"#DejaVuSans-114\"/>\n       <use x=\"137.304688\" xlink:href=\"#DejaVuSans-32\"/>\n       <use x=\"169.091797\" xlink:href=\"#DejaVuSans-69\"/>\n       <use x=\"232.275391\" xlink:href=\"#DejaVuSans-120\"/>\n       <use x=\"289.705078\" xlink:href=\"#DejaVuSans-99\"/>\n       <use x=\"344.685547\" xlink:href=\"#DejaVuSans-117\"/>\n       <use x=\"408.064453\" xlink:href=\"#DejaVuSans-114\"/>\n       <use x=\"449.177734\" xlink:href=\"#DejaVuSans-115\"/>\n       <use x=\"501.277344\" xlink:href=\"#DejaVuSans-105\"/>\n       <use x=\"529.060547\" xlink:href=\"#DejaVuSans-111\"/>\n       <use x=\"590.242188\" xlink:href=\"#DejaVuSans-110\"/>\n       <use x=\"653.621094\" xlink:href=\"#DejaVuSans-115\"/>\n       <use x=\"705.720703\" xlink:href=\"#DejaVuSans-32\"/>\n       <use x=\"737.507812\" xlink:href=\"#DejaVuSans-76\"/>\n       <use x=\"793.220703\" xlink:href=\"#DejaVuSans-76\"/>\n       <use x=\"848.933594\" xlink:href=\"#DejaVuSans-67\"/>\n      </g>\n     </g>\n    </g>\n    <g id=\"xtick_92\">\n     <g id=\"line2d_92\">\n      <g>\n       <use style=\"stroke:#000000;stroke-width:0.8;\" x=\"818.274891\" xlink:href=\"#m3b5fe81e7c\" y=\"464.076875\"/>\n      </g>\n     </g>\n     <g id=\"text_92\">\n      <!-- Homer Air -->\n      <g transform=\"translate(780.36122 482.474531)scale(0.15 -0.15)\">\n       <use xlink:href=\"#DejaVuSans-72\"/>\n       <use x=\"75.195312\" xlink:href=\"#DejaVuSans-111\"/>\n       <use x=\"136.376953\" xlink:href=\"#DejaVuSans-109\"/>\n       <use x=\"233.789062\" xlink:href=\"#DejaVuSans-101\"/>\n       <use x=\"295.3125\" xlink:href=\"#DejaVuSans-114\"/>\n       <use x=\"336.425781\" xlink:href=\"#DejaVuSans-32\"/>\n       <use x=\"368.212891\" xlink:href=\"#DejaVuSans-65\"/>\n       <use x=\"436.621094\" xlink:href=\"#DejaVuSans-105\"/>\n       <use x=\"464.404297\" xlink:href=\"#DejaVuSans-114\"/>\n      </g>\n     </g>\n    </g>\n    <g id=\"xtick_93\">\n     <g id=\"line2d_93\">\n      <g>\n       <use style=\"stroke:#000000;stroke-width:0.8;\" x=\"826.151797\" xlink:href=\"#m3b5fe81e7c\" y=\"464.076875\"/>\n      </g>\n     </g>\n     <g id=\"text_93\">\n      <!-- Maritime Helicopters, Inc. -->\n      <g transform=\"translate(729.908047 482.474531)scale(0.15 -0.15)\">\n       <use xlink:href=\"#DejaVuSans-77\"/>\n       <use x=\"86.279297\" xlink:href=\"#DejaVuSans-97\"/>\n       <use x=\"147.558594\" xlink:href=\"#DejaVuSans-114\"/>\n       <use x=\"188.671875\" xlink:href=\"#DejaVuSans-105\"/>\n       <use x=\"216.455078\" xlink:href=\"#DejaVuSans-116\"/>\n       <use x=\"255.664062\" xlink:href=\"#DejaVuSans-105\"/>\n       <use x=\"283.447266\" xlink:href=\"#DejaVuSans-109\"/>\n       <use x=\"380.859375\" xlink:href=\"#DejaVuSans-101\"/>\n       <use x=\"442.382812\" xlink:href=\"#DejaVuSans-32\"/>\n       <use x=\"474.169922\" xlink:href=\"#DejaVuSans-72\"/>\n       <use x=\"549.365234\" xlink:href=\"#DejaVuSans-101\"/>\n       <use x=\"610.888672\" xlink:href=\"#DejaVuSans-108\"/>\n       <use x=\"638.671875\" xlink:href=\"#DejaVuSans-105\"/>\n       <use x=\"666.455078\" xlink:href=\"#DejaVuSans-99\"/>\n       <use x=\"721.435547\" xlink:href=\"#DejaVuSans-111\"/>\n       <use x=\"782.617188\" xlink:href=\"#DejaVuSans-112\"/>\n       <use x=\"846.09375\" xlink:href=\"#DejaVuSans-116\"/>\n       <use x=\"885.302734\" xlink:href=\"#DejaVuSans-101\"/>\n       <use x=\"946.826172\" xlink:href=\"#DejaVuSans-114\"/>\n       <use x=\"987.939453\" xlink:href=\"#DejaVuSans-115\"/>\n       <use x=\"1040.039062\" xlink:href=\"#DejaVuSans-44\"/>\n       <use x=\"1071.826172\" xlink:href=\"#DejaVuSans-32\"/>\n       <use x=\"1103.613281\" xlink:href=\"#DejaVuSans-73\"/>\n       <use x=\"1133.105469\" xlink:href=\"#DejaVuSans-110\"/>\n       <use x=\"1196.484375\" xlink:href=\"#DejaVuSans-99\"/>\n       <use x=\"1251.464844\" xlink:href=\"#DejaVuSans-46\"/>\n      </g>\n     </g>\n    </g>\n    <g id=\"xtick_94\">\n     <g id=\"line2d_94\">\n      <g>\n       <use style=\"stroke:#000000;stroke-width:0.8;\" x=\"834.028703\" xlink:href=\"#m3b5fe81e7c\" y=\"464.076875\"/>\n      </g>\n     </g>\n     <g id=\"text_94\">\n      <!-- 40-Mile Air -->\n      <g transform=\"translate(793.845109 482.474531)scale(0.15 -0.15)\">\n       <defs>\n        <path d=\"M 37.796875 64.3125 \nL 12.890625 25.390625 \nL 37.796875 25.390625 \nz\nM 35.203125 72.90625 \nL 47.609375 72.90625 \nL 47.609375 25.390625 \nL 58.015625 25.390625 \nL 58.015625 17.1875 \nL 47.609375 17.1875 \nL 47.609375 0 \nL 37.796875 0 \nL 37.796875 17.1875 \nL 4.890625 17.1875 \nL 4.890625 26.703125 \nz\n\" id=\"DejaVuSans-52\"/>\n        <path d=\"M 31.78125 66.40625 \nQ 24.171875 66.40625 20.328125 58.90625 \nQ 16.5 51.421875 16.5 36.375 \nQ 16.5 21.390625 20.328125 13.890625 \nQ 24.171875 6.390625 31.78125 6.390625 \nQ 39.453125 6.390625 43.28125 13.890625 \nQ 47.125 21.390625 47.125 36.375 \nQ 47.125 51.421875 43.28125 58.90625 \nQ 39.453125 66.40625 31.78125 66.40625 \nz\nM 31.78125 74.21875 \nQ 44.046875 74.21875 50.515625 64.515625 \nQ 56.984375 54.828125 56.984375 36.375 \nQ 56.984375 17.96875 50.515625 8.265625 \nQ 44.046875 -1.421875 31.78125 -1.421875 \nQ 19.53125 -1.421875 13.0625 8.265625 \nQ 6.59375 17.96875 6.59375 36.375 \nQ 6.59375 54.828125 13.0625 64.515625 \nQ 19.53125 74.21875 31.78125 74.21875 \nz\n\" id=\"DejaVuSans-48\"/>\n       </defs>\n       <use xlink:href=\"#DejaVuSans-52\"/>\n       <use x=\"63.623047\" xlink:href=\"#DejaVuSans-48\"/>\n       <use x=\"127.246094\" xlink:href=\"#DejaVuSans-45\"/>\n       <use x=\"163.330078\" xlink:href=\"#DejaVuSans-77\"/>\n       <use x=\"249.609375\" xlink:href=\"#DejaVuSans-105\"/>\n       <use x=\"277.392578\" xlink:href=\"#DejaVuSans-108\"/>\n       <use x=\"305.175781\" xlink:href=\"#DejaVuSans-101\"/>\n       <use x=\"366.699219\" xlink:href=\"#DejaVuSans-32\"/>\n       <use x=\"398.486328\" xlink:href=\"#DejaVuSans-65\"/>\n       <use x=\"466.894531\" xlink:href=\"#DejaVuSans-105\"/>\n       <use x=\"494.677734\" xlink:href=\"#DejaVuSans-114\"/>\n      </g>\n     </g>\n    </g>\n    <g id=\"xtick_95\">\n     <g id=\"line2d_95\">\n      <g>\n       <use style=\"stroke:#000000;stroke-width:0.8;\" x=\"841.905609\" xlink:href=\"#m3b5fe81e7c\" y=\"464.076875\"/>\n      </g>\n     </g>\n     <g id=\"text_95\">\n      <!-- Orange Air -->\n      <g transform=\"translate(801.512249 482.474531)scale(0.15 -0.15)\">\n       <use xlink:href=\"#DejaVuSans-79\"/>\n       <use x=\"78.710938\" xlink:href=\"#DejaVuSans-114\"/>\n       <use x=\"119.824219\" xlink:href=\"#DejaVuSans-97\"/>\n       <use x=\"181.103516\" xlink:href=\"#DejaVuSans-110\"/>\n       <use x=\"244.482422\" xlink:href=\"#DejaVuSans-103\"/>\n       <use x=\"307.958984\" xlink:href=\"#DejaVuSans-101\"/>\n       <use x=\"369.482422\" xlink:href=\"#DejaVuSans-32\"/>\n       <use x=\"401.269531\" xlink:href=\"#DejaVuSans-65\"/>\n       <use x=\"469.677734\" xlink:href=\"#DejaVuSans-105\"/>\n       <use x=\"497.460938\" xlink:href=\"#DejaVuSans-114\"/>\n      </g>\n     </g>\n    </g>\n    <g id=\"xtick_96\">\n     <g id=\"line2d_96\">\n      <g>\n       <use style=\"stroke:#000000;stroke-width:0.8;\" x=\"849.782514\" xlink:href=\"#m3b5fe81e7c\" y=\"464.076875\"/>\n      </g>\n     </g>\n     <g id=\"text_96\">\n      <!-- World Airways Inc. -->\n      <g transform=\"translate(780.677046 482.474531)scale(0.15 -0.15)\">\n       <use xlink:href=\"#DejaVuSans-87\"/>\n       <use x=\"93.001953\" xlink:href=\"#DejaVuSans-111\"/>\n       <use x=\"154.183594\" xlink:href=\"#DejaVuSans-114\"/>\n       <use x=\"195.296875\" xlink:href=\"#DejaVuSans-108\"/>\n       <use x=\"223.080078\" xlink:href=\"#DejaVuSans-100\"/>\n       <use x=\"286.556641\" xlink:href=\"#DejaVuSans-32\"/>\n       <use x=\"318.34375\" xlink:href=\"#DejaVuSans-65\"/>\n       <use x=\"386.751953\" xlink:href=\"#DejaVuSans-105\"/>\n       <use x=\"414.535156\" xlink:href=\"#DejaVuSans-114\"/>\n       <use x=\"455.648438\" xlink:href=\"#DejaVuSans-119\"/>\n       <use x=\"537.435547\" xlink:href=\"#DejaVuSans-97\"/>\n       <use x=\"598.714844\" xlink:href=\"#DejaVuSans-121\"/>\n       <use x=\"657.894531\" xlink:href=\"#DejaVuSans-115\"/>\n       <use x=\"709.994141\" xlink:href=\"#DejaVuSans-32\"/>\n       <use x=\"741.78125\" xlink:href=\"#DejaVuSans-73\"/>\n       <use x=\"771.273438\" xlink:href=\"#DejaVuSans-110\"/>\n       <use x=\"834.652344\" xlink:href=\"#DejaVuSans-99\"/>\n       <use x=\"889.632812\" xlink:href=\"#DejaVuSans-46\"/>\n      </g>\n     </g>\n    </g>\n    <g id=\"xtick_97\">\n     <g id=\"line2d_97\">\n      <g>\n       <use style=\"stroke:#000000;stroke-width:0.8;\" x=\"857.65942\" xlink:href=\"#m3b5fe81e7c\" y=\"464.076875\"/>\n      </g>\n     </g>\n     <g id=\"text_97\">\n      <!-- Scott Air LLC dba Island Air Express -->\n      <g transform=\"translate(724.098482 482.474531)scale(0.15 -0.15)\">\n       <use xlink:href=\"#DejaVuSans-83\"/>\n       <use x=\"63.476562\" xlink:href=\"#DejaVuSans-99\"/>\n       <use x=\"118.457031\" xlink:href=\"#DejaVuSans-111\"/>\n       <use x=\"179.638672\" xlink:href=\"#DejaVuSans-116\"/>\n       <use x=\"218.847656\" xlink:href=\"#DejaVuSans-116\"/>\n       <use x=\"258.056641\" xlink:href=\"#DejaVuSans-32\"/>\n       <use x=\"289.84375\" xlink:href=\"#DejaVuSans-65\"/>\n       <use x=\"358.251953\" xlink:href=\"#DejaVuSans-105\"/>\n       <use x=\"386.035156\" xlink:href=\"#DejaVuSans-114\"/>\n       <use x=\"427.148438\" xlink:href=\"#DejaVuSans-32\"/>\n       <use x=\"458.935547\" xlink:href=\"#DejaVuSans-76\"/>\n       <use x=\"514.648438\" xlink:href=\"#DejaVuSans-76\"/>\n       <use x=\"570.361328\" xlink:href=\"#DejaVuSans-67\"/>\n       <use x=\"640.185547\" xlink:href=\"#DejaVuSans-32\"/>\n       <use x=\"671.972656\" xlink:href=\"#DejaVuSans-100\"/>\n       <use x=\"735.449219\" xlink:href=\"#DejaVuSans-98\"/>\n       <use x=\"798.925781\" xlink:href=\"#DejaVuSans-97\"/>\n       <use x=\"860.205078\" xlink:href=\"#DejaVuSans-32\"/>\n       <use x=\"891.992188\" xlink:href=\"#DejaVuSans-73\"/>\n       <use x=\"921.484375\" xlink:href=\"#DejaVuSans-115\"/>\n       <use x=\"973.583984\" xlink:href=\"#DejaVuSans-108\"/>\n       <use x=\"1001.367188\" xlink:href=\"#DejaVuSans-97\"/>\n       <use x=\"1062.646484\" xlink:href=\"#DejaVuSans-110\"/>\n       <use x=\"1126.025391\" xlink:href=\"#DejaVuSans-100\"/>\n       <use x=\"1189.501953\" xlink:href=\"#DejaVuSans-32\"/>\n       <use x=\"1221.289062\" xlink:href=\"#DejaVuSans-65\"/>\n       <use x=\"1289.697266\" xlink:href=\"#DejaVuSans-105\"/>\n       <use x=\"1317.480469\" xlink:href=\"#DejaVuSans-114\"/>\n       <use x=\"1358.59375\" xlink:href=\"#DejaVuSans-32\"/>\n       <use x=\"1390.380859\" xlink:href=\"#DejaVuSans-69\"/>\n       <use x=\"1453.564453\" xlink:href=\"#DejaVuSans-120\"/>\n       <use x=\"1512.744141\" xlink:href=\"#DejaVuSans-112\"/>\n       <use x=\"1576.220703\" xlink:href=\"#DejaVuSans-114\"/>\n       <use x=\"1615.083984\" xlink:href=\"#DejaVuSans-101\"/>\n       <use x=\"1676.607422\" xlink:href=\"#DejaVuSans-115\"/>\n       <use x=\"1728.707031\" xlink:href=\"#DejaVuSans-115\"/>\n      </g>\n     </g>\n    </g>\n    <g id=\"xtick_98\">\n     <g id=\"line2d_98\">\n      <g>\n       <use style=\"stroke:#000000;stroke-width:0.8;\" x=\"865.536326\" xlink:href=\"#m3b5fe81e7c\" y=\"464.076875\"/>\n      </g>\n     </g>\n     <g id=\"text_98\">\n      <!-- Delux Public Charter LLC -->\n      <g transform=\"translate(772.620701 482.474531)scale(0.15 -0.15)\">\n       <use xlink:href=\"#DejaVuSans-68\"/>\n       <use x=\"77.001953\" xlink:href=\"#DejaVuSans-101\"/>\n       <use x=\"138.525391\" xlink:href=\"#DejaVuSans-108\"/>\n       <use x=\"166.308594\" xlink:href=\"#DejaVuSans-117\"/>\n       <use x=\"229.6875\" xlink:href=\"#DejaVuSans-120\"/>\n       <use x=\"288.867188\" xlink:href=\"#DejaVuSans-32\"/>\n       <use x=\"320.654297\" xlink:href=\"#DejaVuSans-80\"/>\n       <use x=\"379.207031\" xlink:href=\"#DejaVuSans-117\"/>\n       <use x=\"442.585938\" xlink:href=\"#DejaVuSans-98\"/>\n       <use x=\"506.0625\" xlink:href=\"#DejaVuSans-108\"/>\n       <use x=\"533.845703\" xlink:href=\"#DejaVuSans-105\"/>\n       <use x=\"561.628906\" xlink:href=\"#DejaVuSans-99\"/>\n       <use x=\"616.609375\" xlink:href=\"#DejaVuSans-32\"/>\n       <use x=\"648.396484\" xlink:href=\"#DejaVuSans-67\"/>\n       <use x=\"718.220703\" xlink:href=\"#DejaVuSans-104\"/>\n       <use x=\"781.599609\" xlink:href=\"#DejaVuSans-97\"/>\n       <use x=\"842.878906\" xlink:href=\"#DejaVuSans-114\"/>\n       <use x=\"883.992188\" xlink:href=\"#DejaVuSans-116\"/>\n       <use x=\"923.201172\" xlink:href=\"#DejaVuSans-101\"/>\n       <use x=\"984.724609\" xlink:href=\"#DejaVuSans-114\"/>\n       <use x=\"1025.837891\" xlink:href=\"#DejaVuSans-32\"/>\n       <use x=\"1057.625\" xlink:href=\"#DejaVuSans-76\"/>\n       <use x=\"1113.337891\" xlink:href=\"#DejaVuSans-76\"/>\n       <use x=\"1169.050781\" xlink:href=\"#DejaVuSans-67\"/>\n      </g>\n     </g>\n    </g>\n    <g id=\"xtick_99\">\n     <g id=\"line2d_99\">\n      <g>\n       <use style=\"stroke:#000000;stroke-width:0.8;\" x=\"873.413231\" xlink:href=\"#m3b5fe81e7c\" y=\"464.076875\"/>\n      </g>\n     </g>\n     <g id=\"text_99\">\n      <!-- KaiserAir, Inc. -->\n      <g transform=\"translate(821.803856 482.474531)scale(0.15 -0.15)\">\n       <use xlink:href=\"#DejaVuSans-75\"/>\n       <use x=\"63.826172\" xlink:href=\"#DejaVuSans-97\"/>\n       <use x=\"125.105469\" xlink:href=\"#DejaVuSans-105\"/>\n       <use x=\"152.888672\" xlink:href=\"#DejaVuSans-115\"/>\n       <use x=\"204.988281\" xlink:href=\"#DejaVuSans-101\"/>\n       <use x=\"266.511719\" xlink:href=\"#DejaVuSans-114\"/>\n       <use x=\"307.625\" xlink:href=\"#DejaVuSans-65\"/>\n       <use x=\"376.033203\" xlink:href=\"#DejaVuSans-105\"/>\n       <use x=\"403.816406\" xlink:href=\"#DejaVuSans-114\"/>\n       <use x=\"444.929688\" xlink:href=\"#DejaVuSans-44\"/>\n       <use x=\"476.716797\" xlink:href=\"#DejaVuSans-32\"/>\n       <use x=\"508.503906\" xlink:href=\"#DejaVuSans-73\"/>\n       <use x=\"537.996094\" xlink:href=\"#DejaVuSans-110\"/>\n       <use x=\"601.375\" xlink:href=\"#DejaVuSans-99\"/>\n       <use x=\"656.355469\" xlink:href=\"#DejaVuSans-46\"/>\n      </g>\n     </g>\n    </g>\n    <g id=\"xtick_100\">\n     <g id=\"line2d_100\">\n      <g>\n       <use style=\"stroke:#000000;stroke-width:0.8;\" x=\"881.290137\" xlink:href=\"#m3b5fe81e7c\" y=\"464.076875\"/>\n      </g>\n     </g>\n     <g id=\"text_100\">\n      <!-- Songbird Airways Inc. -->\n      <g transform=\"translate(800.253809 482.474531)scale(0.15 -0.15)\">\n       <use xlink:href=\"#DejaVuSans-83\"/>\n       <use x=\"63.476562\" xlink:href=\"#DejaVuSans-111\"/>\n       <use x=\"124.658203\" xlink:href=\"#DejaVuSans-110\"/>\n       <use x=\"188.037109\" xlink:href=\"#DejaVuSans-103\"/>\n       <use x=\"251.513672\" xlink:href=\"#DejaVuSans-98\"/>\n       <use x=\"314.990234\" xlink:href=\"#DejaVuSans-105\"/>\n       <use x=\"342.773438\" xlink:href=\"#DejaVuSans-114\"/>\n       <use x=\"382.136719\" xlink:href=\"#DejaVuSans-100\"/>\n       <use x=\"445.613281\" xlink:href=\"#DejaVuSans-32\"/>\n       <use x=\"477.400391\" xlink:href=\"#DejaVuSans-65\"/>\n       <use x=\"545.808594\" xlink:href=\"#DejaVuSans-105\"/>\n       <use x=\"573.591797\" xlink:href=\"#DejaVuSans-114\"/>\n       <use x=\"614.705078\" xlink:href=\"#DejaVuSans-119\"/>\n       <use x=\"696.492188\" xlink:href=\"#DejaVuSans-97\"/>\n       <use x=\"757.771484\" xlink:href=\"#DejaVuSans-121\"/>\n       <use x=\"816.951172\" xlink:href=\"#DejaVuSans-115\"/>\n       <use x=\"869.050781\" xlink:href=\"#DejaVuSans-32\"/>\n       <use x=\"900.837891\" xlink:href=\"#DejaVuSans-73\"/>\n       <use x=\"930.330078\" xlink:href=\"#DejaVuSans-110\"/>\n       <use x=\"993.708984\" xlink:href=\"#DejaVuSans-99\"/>\n       <use x=\"1048.689453\" xlink:href=\"#DejaVuSans-46\"/>\n      </g>\n     </g>\n    </g>\n    <g id=\"xtick_101\">\n     <g id=\"line2d_101\">\n      <g>\n       <use style=\"stroke:#000000;stroke-width:0.8;\" x=\"889.167043\" xlink:href=\"#m3b5fe81e7c\" y=\"464.076875\"/>\n      </g>\n     </g>\n     <g id=\"text_101\">\n      <!-- Tropic Ocean Airways LLC -->\n      <g transform=\"translate(793.109621 482.474531)scale(0.15 -0.15)\">\n       <use xlink:href=\"#DejaVuSans-84\"/>\n       <use x=\"46.333984\" xlink:href=\"#DejaVuSans-114\"/>\n       <use x=\"85.197266\" xlink:href=\"#DejaVuSans-111\"/>\n       <use x=\"146.378906\" xlink:href=\"#DejaVuSans-112\"/>\n       <use x=\"209.855469\" xlink:href=\"#DejaVuSans-105\"/>\n       <use x=\"237.638672\" xlink:href=\"#DejaVuSans-99\"/>\n       <use x=\"292.619141\" xlink:href=\"#DejaVuSans-32\"/>\n       <use x=\"324.40625\" xlink:href=\"#DejaVuSans-79\"/>\n       <use x=\"403.117188\" xlink:href=\"#DejaVuSans-99\"/>\n       <use x=\"458.097656\" xlink:href=\"#DejaVuSans-101\"/>\n       <use x=\"519.621094\" xlink:href=\"#DejaVuSans-97\"/>\n       <use x=\"580.900391\" xlink:href=\"#DejaVuSans-110\"/>\n       <use x=\"644.279297\" xlink:href=\"#DejaVuSans-32\"/>\n       <use x=\"676.066406\" xlink:href=\"#DejaVuSans-65\"/>\n       <use x=\"744.474609\" xlink:href=\"#DejaVuSans-105\"/>\n       <use x=\"772.257812\" xlink:href=\"#DejaVuSans-114\"/>\n       <use x=\"813.371094\" xlink:href=\"#DejaVuSans-119\"/>\n       <use x=\"895.158203\" xlink:href=\"#DejaVuSans-97\"/>\n       <use x=\"956.4375\" xlink:href=\"#DejaVuSans-121\"/>\n       <use x=\"1015.617188\" xlink:href=\"#DejaVuSans-115\"/>\n       <use x=\"1067.716797\" xlink:href=\"#DejaVuSans-32\"/>\n       <use x=\"1099.503906\" xlink:href=\"#DejaVuSans-76\"/>\n       <use x=\"1155.216797\" xlink:href=\"#DejaVuSans-76\"/>\n       <use x=\"1210.929688\" xlink:href=\"#DejaVuSans-67\"/>\n      </g>\n     </g>\n    </g>\n    <g id=\"xtick_102\">\n     <g id=\"line2d_102\">\n      <g>\n       <use style=\"stroke:#000000;stroke-width:0.8;\" x=\"897.043949\" xlink:href=\"#m3b5fe81e7c\" y=\"464.076875\"/>\n      </g>\n     </g>\n     <g id=\"text_102\">\n      <!-- Menagerie Enterprises Inc d/b/a Monarch Air -->\n      <g transform=\"translate(730.286136 482.474531)scale(0.15 -0.15)\">\n       <use xlink:href=\"#DejaVuSans-77\"/>\n       <use x=\"86.279297\" xlink:href=\"#DejaVuSans-101\"/>\n       <use x=\"147.802734\" xlink:href=\"#DejaVuSans-110\"/>\n       <use x=\"211.181641\" xlink:href=\"#DejaVuSans-97\"/>\n       <use x=\"272.460938\" xlink:href=\"#DejaVuSans-103\"/>\n       <use x=\"335.9375\" xlink:href=\"#DejaVuSans-101\"/>\n       <use x=\"397.460938\" xlink:href=\"#DejaVuSans-114\"/>\n       <use x=\"438.574219\" xlink:href=\"#DejaVuSans-105\"/>\n       <use x=\"466.357422\" xlink:href=\"#DejaVuSans-101\"/>\n       <use x=\"527.880859\" xlink:href=\"#DejaVuSans-32\"/>\n       <use x=\"559.667969\" xlink:href=\"#DejaVuSans-69\"/>\n       <use x=\"622.851562\" xlink:href=\"#DejaVuSans-110\"/>\n       <use x=\"686.230469\" xlink:href=\"#DejaVuSans-116\"/>\n       <use x=\"725.439453\" xlink:href=\"#DejaVuSans-101\"/>\n       <use x=\"786.962891\" xlink:href=\"#DejaVuSans-114\"/>\n       <use x=\"828.076172\" xlink:href=\"#DejaVuSans-112\"/>\n       <use x=\"891.552734\" xlink:href=\"#DejaVuSans-114\"/>\n       <use x=\"932.666016\" xlink:href=\"#DejaVuSans-105\"/>\n       <use x=\"960.449219\" xlink:href=\"#DejaVuSans-115\"/>\n       <use x=\"1012.548828\" xlink:href=\"#DejaVuSans-101\"/>\n       <use x=\"1074.072266\" xlink:href=\"#DejaVuSans-115\"/>\n       <use x=\"1126.171875\" xlink:href=\"#DejaVuSans-32\"/>\n       <use x=\"1157.958984\" xlink:href=\"#DejaVuSans-73\"/>\n       <use x=\"1187.451172\" xlink:href=\"#DejaVuSans-110\"/>\n       <use x=\"1250.830078\" xlink:href=\"#DejaVuSans-99\"/>\n       <use x=\"1305.810547\" xlink:href=\"#DejaVuSans-32\"/>\n       <use x=\"1337.597656\" xlink:href=\"#DejaVuSans-100\"/>\n       <use x=\"1401.074219\" xlink:href=\"#DejaVuSans-47\"/>\n       <use x=\"1434.765625\" xlink:href=\"#DejaVuSans-98\"/>\n       <use x=\"1498.242188\" xlink:href=\"#DejaVuSans-47\"/>\n       <use x=\"1531.933594\" xlink:href=\"#DejaVuSans-97\"/>\n       <use x=\"1593.212891\" xlink:href=\"#DejaVuSans-32\"/>\n       <use x=\"1625\" xlink:href=\"#DejaVuSans-77\"/>\n       <use x=\"1711.279297\" xlink:href=\"#DejaVuSans-111\"/>\n       <use x=\"1772.460938\" xlink:href=\"#DejaVuSans-110\"/>\n       <use x=\"1835.839844\" xlink:href=\"#DejaVuSans-97\"/>\n       <use x=\"1897.119141\" xlink:href=\"#DejaVuSans-114\"/>\n       <use x=\"1935.982422\" xlink:href=\"#DejaVuSans-99\"/>\n       <use x=\"1990.962891\" xlink:href=\"#DejaVuSans-104\"/>\n       <use x=\"2054.341797\" xlink:href=\"#DejaVuSans-32\"/>\n       <use x=\"2086.128906\" xlink:href=\"#DejaVuSans-65\"/>\n       <use x=\"2154.537109\" xlink:href=\"#DejaVuSans-105\"/>\n       <use x=\"2182.320312\" xlink:href=\"#DejaVuSans-114\"/>\n      </g>\n     </g>\n    </g>\n    <g id=\"xtick_103\">\n     <g id=\"line2d_103\">\n      <g>\n       <use style=\"stroke:#000000;stroke-width:0.8;\" x=\"904.920854\" xlink:href=\"#m3b5fe81e7c\" y=\"464.076875\"/>\n      </g>\n     </g>\n     <g id=\"text_103\">\n      <!-- Eastern Airlines f/k/a Dynamic Airways, LLC -->\n      <g transform=\"translate(741.700932 482.474531)scale(0.15 -0.15)\">\n       <use xlink:href=\"#DejaVuSans-69\"/>\n       <use x=\"63.183594\" xlink:href=\"#DejaVuSans-97\"/>\n       <use x=\"124.462891\" xlink:href=\"#DejaVuSans-115\"/>\n       <use x=\"176.5625\" xlink:href=\"#DejaVuSans-116\"/>\n       <use x=\"215.771484\" xlink:href=\"#DejaVuSans-101\"/>\n       <use x=\"277.294922\" xlink:href=\"#DejaVuSans-114\"/>\n       <use x=\"316.658203\" xlink:href=\"#DejaVuSans-110\"/>\n       <use x=\"380.037109\" xlink:href=\"#DejaVuSans-32\"/>\n       <use x=\"411.824219\" xlink:href=\"#DejaVuSans-65\"/>\n       <use x=\"480.232422\" xlink:href=\"#DejaVuSans-105\"/>\n       <use x=\"508.015625\" xlink:href=\"#DejaVuSans-114\"/>\n       <use x=\"549.128906\" xlink:href=\"#DejaVuSans-108\"/>\n       <use x=\"576.912109\" xlink:href=\"#DejaVuSans-105\"/>\n       <use x=\"604.695312\" xlink:href=\"#DejaVuSans-110\"/>\n       <use x=\"668.074219\" xlink:href=\"#DejaVuSans-101\"/>\n       <use x=\"729.597656\" xlink:href=\"#DejaVuSans-115\"/>\n       <use x=\"781.697266\" xlink:href=\"#DejaVuSans-32\"/>\n       <use x=\"813.484375\" xlink:href=\"#DejaVuSans-102\"/>\n       <use x=\"848.689453\" xlink:href=\"#DejaVuSans-47\"/>\n       <use x=\"882.380859\" xlink:href=\"#DejaVuSans-107\"/>\n       <use x=\"940.291016\" xlink:href=\"#DejaVuSans-47\"/>\n       <use x=\"973.982422\" xlink:href=\"#DejaVuSans-97\"/>\n       <use x=\"1035.261719\" xlink:href=\"#DejaVuSans-32\"/>\n       <use x=\"1067.048828\" xlink:href=\"#DejaVuSans-68\"/>\n       <use x=\"1144.050781\" xlink:href=\"#DejaVuSans-121\"/>\n       <use x=\"1203.230469\" xlink:href=\"#DejaVuSans-110\"/>\n       <use x=\"1266.609375\" xlink:href=\"#DejaVuSans-97\"/>\n       <use x=\"1327.888672\" xlink:href=\"#DejaVuSans-109\"/>\n       <use x=\"1425.300781\" xlink:href=\"#DejaVuSans-105\"/>\n       <use x=\"1453.083984\" xlink:href=\"#DejaVuSans-99\"/>\n       <use x=\"1508.064453\" xlink:href=\"#DejaVuSans-32\"/>\n       <use x=\"1539.851562\" xlink:href=\"#DejaVuSans-65\"/>\n       <use x=\"1608.259766\" xlink:href=\"#DejaVuSans-105\"/>\n       <use x=\"1636.042969\" xlink:href=\"#DejaVuSans-114\"/>\n       <use x=\"1677.15625\" xlink:href=\"#DejaVuSans-119\"/>\n       <use x=\"1758.943359\" xlink:href=\"#DejaVuSans-97\"/>\n       <use x=\"1820.222656\" xlink:href=\"#DejaVuSans-121\"/>\n       <use x=\"1879.402344\" xlink:href=\"#DejaVuSans-115\"/>\n       <use x=\"1931.501953\" xlink:href=\"#DejaVuSans-44\"/>\n       <use x=\"1963.289062\" xlink:href=\"#DejaVuSans-32\"/>\n       <use x=\"1995.076172\" xlink:href=\"#DejaVuSans-76\"/>\n       <use x=\"2050.789062\" xlink:href=\"#DejaVuSans-76\"/>\n       <use x=\"2106.501953\" xlink:href=\"#DejaVuSans-67\"/>\n      </g>\n     </g>\n    </g>\n    <g id=\"xtick_104\">\n     <g id=\"line2d_104\">\n      <g>\n       <use style=\"stroke:#000000;stroke-width:0.8;\" x=\"912.79776\" xlink:href=\"#m3b5fe81e7c\" y=\"464.076875\"/>\n      </g>\n     </g>\n     <g id=\"text_104\">\n      <!-- North American Airlines -->\n      <g transform=\"translate(823.623932 482.474531)scale(0.15 -0.15)\">\n       <use xlink:href=\"#DejaVuSans-78\"/>\n       <use x=\"74.804688\" xlink:href=\"#DejaVuSans-111\"/>\n       <use x=\"135.986328\" xlink:href=\"#DejaVuSans-114\"/>\n       <use x=\"177.099609\" xlink:href=\"#DejaVuSans-116\"/>\n       <use x=\"216.308594\" xlink:href=\"#DejaVuSans-104\"/>\n       <use x=\"279.6875\" xlink:href=\"#DejaVuSans-32\"/>\n       <use x=\"311.474609\" xlink:href=\"#DejaVuSans-65\"/>\n       <use x=\"379.882812\" xlink:href=\"#DejaVuSans-109\"/>\n       <use x=\"477.294922\" xlink:href=\"#DejaVuSans-101\"/>\n       <use x=\"538.818359\" xlink:href=\"#DejaVuSans-114\"/>\n       <use x=\"579.931641\" xlink:href=\"#DejaVuSans-105\"/>\n       <use x=\"607.714844\" xlink:href=\"#DejaVuSans-99\"/>\n       <use x=\"662.695312\" xlink:href=\"#DejaVuSans-97\"/>\n       <use x=\"723.974609\" xlink:href=\"#DejaVuSans-110\"/>\n       <use x=\"787.353516\" xlink:href=\"#DejaVuSans-32\"/>\n       <use x=\"819.140625\" xlink:href=\"#DejaVuSans-65\"/>\n       <use x=\"887.548828\" xlink:href=\"#DejaVuSans-105\"/>\n       <use x=\"915.332031\" xlink:href=\"#DejaVuSans-114\"/>\n       <use x=\"956.445312\" xlink:href=\"#DejaVuSans-108\"/>\n       <use x=\"984.228516\" xlink:href=\"#DejaVuSans-105\"/>\n       <use x=\"1012.011719\" xlink:href=\"#DejaVuSans-110\"/>\n       <use x=\"1075.390625\" xlink:href=\"#DejaVuSans-101\"/>\n       <use x=\"1136.914062\" xlink:href=\"#DejaVuSans-115\"/>\n      </g>\n     </g>\n    </g>\n    <g id=\"xtick_105\">\n     <g id=\"line2d_105\">\n      <g>\n       <use style=\"stroke:#000000;stroke-width:0.8;\" x=\"920.674666\" xlink:href=\"#m3b5fe81e7c\" y=\"464.076875\"/>\n      </g>\n     </g>\n     <g id=\"text_105\">\n      <!-- Hillwood Airways, LLC  f/k/a   ATX Air Services, LLC -->\n      <g transform=\"translate(730.719587 482.474531)scale(0.15 -0.15)\">\n       <use xlink:href=\"#DejaVuSans-72\"/>\n       <use x=\"75.195312\" xlink:href=\"#DejaVuSans-105\"/>\n       <use x=\"102.978516\" xlink:href=\"#DejaVuSans-108\"/>\n       <use x=\"130.761719\" xlink:href=\"#DejaVuSans-108\"/>\n       <use x=\"158.544922\" xlink:href=\"#DejaVuSans-119\"/>\n       <use x=\"240.332031\" xlink:href=\"#DejaVuSans-111\"/>\n       <use x=\"301.513672\" xlink:href=\"#DejaVuSans-111\"/>\n       <use x=\"362.695312\" xlink:href=\"#DejaVuSans-100\"/>\n       <use x=\"426.171875\" xlink:href=\"#DejaVuSans-32\"/>\n       <use x=\"457.958984\" xlink:href=\"#DejaVuSans-65\"/>\n       <use x=\"526.367188\" xlink:href=\"#DejaVuSans-105\"/>\n       <use x=\"554.150391\" xlink:href=\"#DejaVuSans-114\"/>\n       <use x=\"595.263672\" xlink:href=\"#DejaVuSans-119\"/>\n       <use x=\"677.050781\" xlink:href=\"#DejaVuSans-97\"/>\n       <use x=\"738.330078\" xlink:href=\"#DejaVuSans-121\"/>\n       <use x=\"797.509766\" xlink:href=\"#DejaVuSans-115\"/>\n       <use x=\"849.609375\" xlink:href=\"#DejaVuSans-44\"/>\n       <use x=\"881.396484\" xlink:href=\"#DejaVuSans-32\"/>\n       <use x=\"913.183594\" xlink:href=\"#DejaVuSans-76\"/>\n       <use x=\"968.896484\" xlink:href=\"#DejaVuSans-76\"/>\n       <use x=\"1024.609375\" xlink:href=\"#DejaVuSans-67\"/>\n       <use x=\"1094.433594\" xlink:href=\"#DejaVuSans-32\"/>\n       <use x=\"1126.220703\" xlink:href=\"#DejaVuSans-32\"/>\n       <use x=\"1158.007812\" xlink:href=\"#DejaVuSans-102\"/>\n       <use x=\"1193.212891\" xlink:href=\"#DejaVuSans-47\"/>\n       <use x=\"1226.904297\" xlink:href=\"#DejaVuSans-107\"/>\n       <use x=\"1284.814453\" xlink:href=\"#DejaVuSans-47\"/>\n       <use x=\"1318.505859\" xlink:href=\"#DejaVuSans-97\"/>\n       <use x=\"1379.785156\" xlink:href=\"#DejaVuSans-32\"/>\n       <use x=\"1411.572266\" xlink:href=\"#DejaVuSans-32\"/>\n       <use x=\"1443.359375\" xlink:href=\"#DejaVuSans-32\"/>\n       <use x=\"1475.146484\" xlink:href=\"#DejaVuSans-65\"/>\n       <use x=\"1535.804688\" xlink:href=\"#DejaVuSans-84\"/>\n       <use x=\"1596.888672\" xlink:href=\"#DejaVuSans-88\"/>\n       <use x=\"1665.394531\" xlink:href=\"#DejaVuSans-32\"/>\n       <use x=\"1697.181641\" xlink:href=\"#DejaVuSans-65\"/>\n       <use x=\"1765.589844\" xlink:href=\"#DejaVuSans-105\"/>\n       <use x=\"1793.373047\" xlink:href=\"#DejaVuSans-114\"/>\n       <use x=\"1834.486328\" xlink:href=\"#DejaVuSans-32\"/>\n       <use x=\"1866.273438\" xlink:href=\"#DejaVuSans-83\"/>\n       <use x=\"1929.75\" xlink:href=\"#DejaVuSans-101\"/>\n       <use x=\"1991.273438\" xlink:href=\"#DejaVuSans-114\"/>\n       <use x=\"2032.386719\" xlink:href=\"#DejaVuSans-118\"/>\n       <use x=\"2091.566406\" xlink:href=\"#DejaVuSans-105\"/>\n       <use x=\"2119.349609\" xlink:href=\"#DejaVuSans-99\"/>\n       <use x=\"2174.330078\" xlink:href=\"#DejaVuSans-101\"/>\n       <use x=\"2235.853516\" xlink:href=\"#DejaVuSans-115\"/>\n       <use x=\"2287.953125\" xlink:href=\"#DejaVuSans-44\"/>\n       <use x=\"2319.740234\" xlink:href=\"#DejaVuSans-32\"/>\n       <use x=\"2351.527344\" xlink:href=\"#DejaVuSans-76\"/>\n       <use x=\"2407.240234\" xlink:href=\"#DejaVuSans-76\"/>\n       <use x=\"2462.953125\" xlink:href=\"#DejaVuSans-67\"/>\n      </g>\n     </g>\n    </g>\n    <g id=\"xtick_106\">\n     <g id=\"line2d_106\">\n      <g>\n       <use style=\"stroke:#000000;stroke-width:0.8;\" x=\"928.551571\" xlink:href=\"#m3b5fe81e7c\" y=\"464.076875\"/>\n      </g>\n     </g>\n     <g id=\"text_106\">\n      <!-- Key Lime Air Corporation -->\n      <g transform=\"translate(835.018368 482.474531)scale(0.15 -0.15)\">\n       <use xlink:href=\"#DejaVuSans-75\"/>\n       <use x=\"60.576172\" xlink:href=\"#DejaVuSans-101\"/>\n       <use x=\"122.099609\" xlink:href=\"#DejaVuSans-121\"/>\n       <use x=\"181.279297\" xlink:href=\"#DejaVuSans-32\"/>\n       <use x=\"213.066406\" xlink:href=\"#DejaVuSans-76\"/>\n       <use x=\"268.779297\" xlink:href=\"#DejaVuSans-105\"/>\n       <use x=\"296.5625\" xlink:href=\"#DejaVuSans-109\"/>\n       <use x=\"393.974609\" xlink:href=\"#DejaVuSans-101\"/>\n       <use x=\"455.498047\" xlink:href=\"#DejaVuSans-32\"/>\n       <use x=\"487.285156\" xlink:href=\"#DejaVuSans-65\"/>\n       <use x=\"555.693359\" xlink:href=\"#DejaVuSans-105\"/>\n       <use x=\"583.476562\" xlink:href=\"#DejaVuSans-114\"/>\n       <use x=\"624.589844\" xlink:href=\"#DejaVuSans-32\"/>\n       <use x=\"656.376953\" xlink:href=\"#DejaVuSans-67\"/>\n       <use x=\"726.201172\" xlink:href=\"#DejaVuSans-111\"/>\n       <use x=\"787.382812\" xlink:href=\"#DejaVuSans-114\"/>\n       <use x=\"828.496094\" xlink:href=\"#DejaVuSans-112\"/>\n       <use x=\"891.972656\" xlink:href=\"#DejaVuSans-111\"/>\n       <use x=\"953.154297\" xlink:href=\"#DejaVuSans-114\"/>\n       <use x=\"994.267578\" xlink:href=\"#DejaVuSans-97\"/>\n       <use x=\"1055.546875\" xlink:href=\"#DejaVuSans-116\"/>\n       <use x=\"1094.755859\" xlink:href=\"#DejaVuSans-105\"/>\n       <use x=\"1122.539062\" xlink:href=\"#DejaVuSans-111\"/>\n       <use x=\"1183.720703\" xlink:href=\"#DejaVuSans-110\"/>\n      </g>\n     </g>\n    </g>\n    <g id=\"xtick_107\">\n     <g id=\"line2d_107\">\n      <g>\n       <use style=\"stroke:#000000;stroke-width:0.8;\" x=\"936.428477\" xlink:href=\"#m3b5fe81e7c\" y=\"464.076875\"/>\n      </g>\n     </g>\n     <g id=\"text_107\">\n      <!-- Freedom Air -->\n      <g transform=\"translate(891.177696 482.474531)scale(0.15 -0.15)\">\n       <use xlink:href=\"#DejaVuSans-70\"/>\n       <use x=\"50.269531\" xlink:href=\"#DejaVuSans-114\"/>\n       <use x=\"89.132812\" xlink:href=\"#DejaVuSans-101\"/>\n       <use x=\"150.65625\" xlink:href=\"#DejaVuSans-101\"/>\n       <use x=\"212.179688\" xlink:href=\"#DejaVuSans-100\"/>\n       <use x=\"275.65625\" xlink:href=\"#DejaVuSans-111\"/>\n       <use x=\"336.837891\" xlink:href=\"#DejaVuSans-109\"/>\n       <use x=\"434.25\" xlink:href=\"#DejaVuSans-32\"/>\n       <use x=\"466.037109\" xlink:href=\"#DejaVuSans-65\"/>\n       <use x=\"534.445312\" xlink:href=\"#DejaVuSans-105\"/>\n       <use x=\"562.228516\" xlink:href=\"#DejaVuSans-114\"/>\n      </g>\n     </g>\n    </g>\n    <g id=\"xtick_108\">\n     <g id=\"line2d_108\">\n      <g>\n       <use style=\"stroke:#000000;stroke-width:0.8;\" x=\"944.305383\" xlink:href=\"#m3b5fe81e7c\" y=\"464.076875\"/>\n      </g>\n     </g>\n     <g id=\"text_108\">\n      <!-- National Air Cargo Group Inc d/ba National Airlines -->\n      <g transform=\"translate(754.37843 482.474531)scale(0.15 -0.15)\">\n       <use xlink:href=\"#DejaVuSans-78\"/>\n       <use x=\"74.804688\" xlink:href=\"#DejaVuSans-97\"/>\n       <use x=\"136.083984\" xlink:href=\"#DejaVuSans-116\"/>\n       <use x=\"175.292969\" xlink:href=\"#DejaVuSans-105\"/>\n       <use x=\"203.076172\" xlink:href=\"#DejaVuSans-111\"/>\n       <use x=\"264.257812\" xlink:href=\"#DejaVuSans-110\"/>\n       <use x=\"327.636719\" xlink:href=\"#DejaVuSans-97\"/>\n       <use x=\"388.916016\" xlink:href=\"#DejaVuSans-108\"/>\n       <use x=\"416.699219\" xlink:href=\"#DejaVuSans-32\"/>\n       <use x=\"448.486328\" xlink:href=\"#DejaVuSans-65\"/>\n       <use x=\"516.894531\" xlink:href=\"#DejaVuSans-105\"/>\n       <use x=\"544.677734\" xlink:href=\"#DejaVuSans-114\"/>\n       <use x=\"585.791016\" xlink:href=\"#DejaVuSans-32\"/>\n       <use x=\"617.578125\" xlink:href=\"#DejaVuSans-67\"/>\n       <use x=\"687.402344\" xlink:href=\"#DejaVuSans-97\"/>\n       <use x=\"748.681641\" xlink:href=\"#DejaVuSans-114\"/>\n       <use x=\"788.044922\" xlink:href=\"#DejaVuSans-103\"/>\n       <use x=\"851.521484\" xlink:href=\"#DejaVuSans-111\"/>\n       <use x=\"912.703125\" xlink:href=\"#DejaVuSans-32\"/>\n       <use x=\"944.490234\" xlink:href=\"#DejaVuSans-71\"/>\n       <use x=\"1021.980469\" xlink:href=\"#DejaVuSans-114\"/>\n       <use x=\"1060.84375\" xlink:href=\"#DejaVuSans-111\"/>\n       <use x=\"1122.025391\" xlink:href=\"#DejaVuSans-117\"/>\n       <use x=\"1185.404297\" xlink:href=\"#DejaVuSans-112\"/>\n       <use x=\"1248.880859\" xlink:href=\"#DejaVuSans-32\"/>\n       <use x=\"1280.667969\" xlink:href=\"#DejaVuSans-73\"/>\n       <use x=\"1310.160156\" xlink:href=\"#DejaVuSans-110\"/>\n       <use x=\"1373.539062\" xlink:href=\"#DejaVuSans-99\"/>\n       <use x=\"1428.519531\" xlink:href=\"#DejaVuSans-32\"/>\n       <use x=\"1460.306641\" xlink:href=\"#DejaVuSans-100\"/>\n       <use x=\"1523.783203\" xlink:href=\"#DejaVuSans-47\"/>\n       <use x=\"1557.474609\" xlink:href=\"#DejaVuSans-98\"/>\n       <use x=\"1620.951172\" xlink:href=\"#DejaVuSans-97\"/>\n       <use x=\"1682.230469\" xlink:href=\"#DejaVuSans-32\"/>\n       <use x=\"1714.017578\" xlink:href=\"#DejaVuSans-78\"/>\n       <use x=\"1788.822266\" xlink:href=\"#DejaVuSans-97\"/>\n       <use x=\"1850.101562\" xlink:href=\"#DejaVuSans-116\"/>\n       <use x=\"1889.310547\" xlink:href=\"#DejaVuSans-105\"/>\n       <use x=\"1917.09375\" xlink:href=\"#DejaVuSans-111\"/>\n       <use x=\"1978.275391\" xlink:href=\"#DejaVuSans-110\"/>\n       <use x=\"2041.654297\" xlink:href=\"#DejaVuSans-97\"/>\n       <use x=\"2102.933594\" xlink:href=\"#DejaVuSans-108\"/>\n       <use x=\"2130.716797\" xlink:href=\"#DejaVuSans-32\"/>\n       <use x=\"2162.503906\" xlink:href=\"#DejaVuSans-65\"/>\n       <use x=\"2230.912109\" xlink:href=\"#DejaVuSans-105\"/>\n       <use x=\"2258.695312\" xlink:href=\"#DejaVuSans-114\"/>\n       <use x=\"2299.808594\" xlink:href=\"#DejaVuSans-108\"/>\n       <use x=\"2327.591797\" xlink:href=\"#DejaVuSans-105\"/>\n       <use x=\"2355.375\" xlink:href=\"#DejaVuSans-110\"/>\n       <use x=\"2418.753906\" xlink:href=\"#DejaVuSans-101\"/>\n       <use x=\"2480.277344\" xlink:href=\"#DejaVuSans-115\"/>\n      </g>\n     </g>\n    </g>\n    <g id=\"xtick_109\">\n     <g id=\"line2d_109\">\n      <g>\n       <use style=\"stroke:#000000;stroke-width:0.8;\" x=\"952.182288\" xlink:href=\"#m3b5fe81e7c\" y=\"464.076875\"/>\n      </g>\n     </g>\n     <g id=\"text_109\">\n      <!-- Ellis Air Taxi Inc. -->\n      <g transform=\"translate(891.90221 482.474531)scale(0.15 -0.15)\">\n       <use xlink:href=\"#DejaVuSans-69\"/>\n       <use x=\"63.183594\" xlink:href=\"#DejaVuSans-108\"/>\n       <use x=\"90.966797\" xlink:href=\"#DejaVuSans-108\"/>\n       <use x=\"118.75\" xlink:href=\"#DejaVuSans-105\"/>\n       <use x=\"146.533203\" xlink:href=\"#DejaVuSans-115\"/>\n       <use x=\"198.632812\" xlink:href=\"#DejaVuSans-32\"/>\n       <use x=\"230.419922\" xlink:href=\"#DejaVuSans-65\"/>\n       <use x=\"298.828125\" xlink:href=\"#DejaVuSans-105\"/>\n       <use x=\"326.611328\" xlink:href=\"#DejaVuSans-114\"/>\n       <use x=\"367.724609\" xlink:href=\"#DejaVuSans-32\"/>\n       <use x=\"399.511719\" xlink:href=\"#DejaVuSans-84\"/>\n       <use x=\"444.095703\" xlink:href=\"#DejaVuSans-97\"/>\n       <use x=\"505.375\" xlink:href=\"#DejaVuSans-120\"/>\n       <use x=\"564.554688\" xlink:href=\"#DejaVuSans-105\"/>\n       <use x=\"592.337891\" xlink:href=\"#DejaVuSans-32\"/>\n       <use x=\"624.125\" xlink:href=\"#DejaVuSans-73\"/>\n       <use x=\"653.617188\" xlink:href=\"#DejaVuSans-110\"/>\n       <use x=\"716.996094\" xlink:href=\"#DejaVuSans-99\"/>\n       <use x=\"771.976562\" xlink:href=\"#DejaVuSans-46\"/>\n      </g>\n     </g>\n    </g>\n    <g id=\"xtick_110\">\n     <g id=\"line2d_110\">\n      <g>\n       <use style=\"stroke:#000000;stroke-width:0.8;\" x=\"960.059194\" xlink:href=\"#m3b5fe81e7c\" y=\"464.076875\"/>\n      </g>\n     </g>\n     <g id=\"text_110\">\n      <!-- New England Airlines Inc. -->\n      <g transform=\"translate(864.888882 482.474531)scale(0.15 -0.15)\">\n       <use xlink:href=\"#DejaVuSans-78\"/>\n       <use x=\"74.804688\" xlink:href=\"#DejaVuSans-101\"/>\n       <use x=\"136.328125\" xlink:href=\"#DejaVuSans-119\"/>\n       <use x=\"218.115234\" xlink:href=\"#DejaVuSans-32\"/>\n       <use x=\"249.902344\" xlink:href=\"#DejaVuSans-69\"/>\n       <use x=\"313.085938\" xlink:href=\"#DejaVuSans-110\"/>\n       <use x=\"376.464844\" xlink:href=\"#DejaVuSans-103\"/>\n       <use x=\"439.941406\" xlink:href=\"#DejaVuSans-108\"/>\n       <use x=\"467.724609\" xlink:href=\"#DejaVuSans-97\"/>\n       <use x=\"529.003906\" xlink:href=\"#DejaVuSans-110\"/>\n       <use x=\"592.382812\" xlink:href=\"#DejaVuSans-100\"/>\n       <use x=\"655.859375\" xlink:href=\"#DejaVuSans-32\"/>\n       <use x=\"687.646484\" xlink:href=\"#DejaVuSans-65\"/>\n       <use x=\"756.054688\" xlink:href=\"#DejaVuSans-105\"/>\n       <use x=\"783.837891\" xlink:href=\"#DejaVuSans-114\"/>\n       <use x=\"824.951172\" xlink:href=\"#DejaVuSans-108\"/>\n       <use x=\"852.734375\" xlink:href=\"#DejaVuSans-105\"/>\n       <use x=\"880.517578\" xlink:href=\"#DejaVuSans-110\"/>\n       <use x=\"943.896484\" xlink:href=\"#DejaVuSans-101\"/>\n       <use x=\"1005.419922\" xlink:href=\"#DejaVuSans-115\"/>\n       <use x=\"1057.519531\" xlink:href=\"#DejaVuSans-32\"/>\n       <use x=\"1089.306641\" xlink:href=\"#DejaVuSans-73\"/>\n       <use x=\"1118.798828\" xlink:href=\"#DejaVuSans-110\"/>\n       <use x=\"1182.177734\" xlink:href=\"#DejaVuSans-99\"/>\n       <use x=\"1237.158203\" xlink:href=\"#DejaVuSans-46\"/>\n      </g>\n     </g>\n    </g>\n    <g id=\"xtick_111\">\n     <g id=\"line2d_111\">\n      <g>\n       <use style=\"stroke:#000000;stroke-width:0.8;\" x=\"967.9361\" xlink:href=\"#m3b5fe81e7c\" y=\"464.076875\"/>\n      </g>\n     </g>\n     <g id=\"text_111\">\n      <!-- Air Sunshine Inc. -->\n      <g transform=\"translate(905.019303 482.474531)scale(0.15 -0.15)\">\n       <use xlink:href=\"#DejaVuSans-65\"/>\n       <use x=\"68.408203\" xlink:href=\"#DejaVuSans-105\"/>\n       <use x=\"96.191406\" xlink:href=\"#DejaVuSans-114\"/>\n       <use x=\"137.304688\" xlink:href=\"#DejaVuSans-32\"/>\n       <use x=\"169.091797\" xlink:href=\"#DejaVuSans-83\"/>\n       <use x=\"232.568359\" xlink:href=\"#DejaVuSans-117\"/>\n       <use x=\"295.947266\" xlink:href=\"#DejaVuSans-110\"/>\n       <use x=\"359.326172\" xlink:href=\"#DejaVuSans-115\"/>\n       <use x=\"411.425781\" xlink:href=\"#DejaVuSans-104\"/>\n       <use x=\"474.804688\" xlink:href=\"#DejaVuSans-105\"/>\n       <use x=\"502.587891\" xlink:href=\"#DejaVuSans-110\"/>\n       <use x=\"565.966797\" xlink:href=\"#DejaVuSans-101\"/>\n       <use x=\"627.490234\" xlink:href=\"#DejaVuSans-32\"/>\n       <use x=\"659.277344\" xlink:href=\"#DejaVuSans-73\"/>\n       <use x=\"688.769531\" xlink:href=\"#DejaVuSans-110\"/>\n       <use x=\"752.148438\" xlink:href=\"#DejaVuSans-99\"/>\n       <use x=\"807.128906\" xlink:href=\"#DejaVuSans-46\"/>\n      </g>\n     </g>\n    </g>\n    <g id=\"xtick_112\">\n     <g id=\"line2d_112\">\n      <g>\n       <use style=\"stroke:#000000;stroke-width:0.8;\" x=\"975.813006\" xlink:href=\"#m3b5fe81e7c\" y=\"464.076875\"/>\n      </g>\n     </g>\n     <g id=\"text_112\">\n      <!-- Makani Kai Air Charters -->\n      <g transform=\"translate(887.971599 482.474531)scale(0.15 -0.15)\">\n       <use xlink:href=\"#DejaVuSans-77\"/>\n       <use x=\"86.279297\" xlink:href=\"#DejaVuSans-97\"/>\n       <use x=\"147.558594\" xlink:href=\"#DejaVuSans-107\"/>\n       <use x=\"203.71875\" xlink:href=\"#DejaVuSans-97\"/>\n       <use x=\"264.998047\" xlink:href=\"#DejaVuSans-110\"/>\n       <use x=\"328.376953\" xlink:href=\"#DejaVuSans-105\"/>\n       <use x=\"356.160156\" xlink:href=\"#DejaVuSans-32\"/>\n       <use x=\"387.947266\" xlink:href=\"#DejaVuSans-75\"/>\n       <use x=\"451.773438\" xlink:href=\"#DejaVuSans-97\"/>\n       <use x=\"513.052734\" xlink:href=\"#DejaVuSans-105\"/>\n       <use x=\"540.835938\" xlink:href=\"#DejaVuSans-32\"/>\n       <use x=\"572.623047\" xlink:href=\"#DejaVuSans-65\"/>\n       <use x=\"641.03125\" xlink:href=\"#DejaVuSans-105\"/>\n       <use x=\"668.814453\" xlink:href=\"#DejaVuSans-114\"/>\n       <use x=\"709.927734\" xlink:href=\"#DejaVuSans-32\"/>\n       <use x=\"741.714844\" xlink:href=\"#DejaVuSans-67\"/>\n       <use x=\"811.539062\" xlink:href=\"#DejaVuSans-104\"/>\n       <use x=\"874.917969\" xlink:href=\"#DejaVuSans-97\"/>\n       <use x=\"936.197266\" xlink:href=\"#DejaVuSans-114\"/>\n       <use x=\"977.310547\" xlink:href=\"#DejaVuSans-116\"/>\n       <use x=\"1016.519531\" xlink:href=\"#DejaVuSans-101\"/>\n       <use x=\"1078.042969\" xlink:href=\"#DejaVuSans-114\"/>\n       <use x=\"1119.15625\" xlink:href=\"#DejaVuSans-115\"/>\n      </g>\n     </g>\n    </g>\n    <g id=\"xtick_113\">\n     <g id=\"line2d_113\">\n      <g>\n       <use style=\"stroke:#000000;stroke-width:0.8;\" x=\"983.689911\" xlink:href=\"#m3b5fe81e7c\" y=\"464.076875\"/>\n      </g>\n     </g>\n     <g id=\"text_113\">\n      <!-- Gem Air LLC -->\n      <g transform=\"translate(937.298896 482.474531)scale(0.15 -0.15)\">\n       <use xlink:href=\"#DejaVuSans-71\"/>\n       <use x=\"77.490234\" xlink:href=\"#DejaVuSans-101\"/>\n       <use x=\"139.013672\" xlink:href=\"#DejaVuSans-109\"/>\n       <use x=\"236.425781\" xlink:href=\"#DejaVuSans-32\"/>\n       <use x=\"268.212891\" xlink:href=\"#DejaVuSans-65\"/>\n       <use x=\"336.621094\" xlink:href=\"#DejaVuSans-105\"/>\n       <use x=\"364.404297\" xlink:href=\"#DejaVuSans-114\"/>\n       <use x=\"405.517578\" xlink:href=\"#DejaVuSans-32\"/>\n       <use x=\"437.304688\" xlink:href=\"#DejaVuSans-76\"/>\n       <use x=\"493.017578\" xlink:href=\"#DejaVuSans-76\"/>\n       <use x=\"548.730469\" xlink:href=\"#DejaVuSans-67\"/>\n      </g>\n     </g>\n    </g>\n    <g id=\"xtick_114\">\n     <g id=\"line2d_114\">\n      <g>\n       <use style=\"stroke:#000000;stroke-width:0.8;\" x=\"991.566817\" xlink:href=\"#m3b5fe81e7c\" y=\"464.076875\"/>\n      </g>\n     </g>\n     <g id=\"text_114\">\n      <!-- Erickson Helicopters -->\n      <g transform=\"translate(915.119551 482.474531)scale(0.15 -0.15)\">\n       <use xlink:href=\"#DejaVuSans-69\"/>\n       <use x=\"63.183594\" xlink:href=\"#DejaVuSans-114\"/>\n       <use x=\"104.296875\" xlink:href=\"#DejaVuSans-105\"/>\n       <use x=\"132.080078\" xlink:href=\"#DejaVuSans-99\"/>\n       <use x=\"187.060547\" xlink:href=\"#DejaVuSans-107\"/>\n       <use x=\"244.970703\" xlink:href=\"#DejaVuSans-115\"/>\n       <use x=\"297.070312\" xlink:href=\"#DejaVuSans-111\"/>\n       <use x=\"358.251953\" xlink:href=\"#DejaVuSans-110\"/>\n       <use x=\"421.630859\" xlink:href=\"#DejaVuSans-32\"/>\n       <use x=\"453.417969\" xlink:href=\"#DejaVuSans-72\"/>\n       <use x=\"528.613281\" xlink:href=\"#DejaVuSans-101\"/>\n       <use x=\"590.136719\" xlink:href=\"#DejaVuSans-108\"/>\n       <use x=\"617.919922\" xlink:href=\"#DejaVuSans-105\"/>\n       <use x=\"645.703125\" xlink:href=\"#DejaVuSans-99\"/>\n       <use x=\"700.683594\" xlink:href=\"#DejaVuSans-111\"/>\n       <use x=\"761.865234\" xlink:href=\"#DejaVuSans-112\"/>\n       <use x=\"825.341797\" xlink:href=\"#DejaVuSans-116\"/>\n       <use x=\"864.550781\" xlink:href=\"#DejaVuSans-101\"/>\n       <use x=\"926.074219\" xlink:href=\"#DejaVuSans-114\"/>\n       <use x=\"967.1875\" xlink:href=\"#DejaVuSans-115\"/>\n      </g>\n     </g>\n    </g>\n    <g id=\"xtick_115\">\n     <g id=\"line2d_115\">\n      <g>\n       <use style=\"stroke:#000000;stroke-width:0.8;\" x=\"999.443723\" xlink:href=\"#m3b5fe81e7c\" y=\"464.076875\"/>\n      </g>\n     </g>\n     <g id=\"text_115\">\n      <!-- Rectrix Aviation, Inc. -->\n      <g transform=\"translate(922.486691 482.474531)scale(0.15 -0.15)\">\n       <use xlink:href=\"#DejaVuSans-82\"/>\n       <use x=\"64.982422\" xlink:href=\"#DejaVuSans-101\"/>\n       <use x=\"126.505859\" xlink:href=\"#DejaVuSans-99\"/>\n       <use x=\"181.486328\" xlink:href=\"#DejaVuSans-116\"/>\n       <use x=\"220.695312\" xlink:href=\"#DejaVuSans-114\"/>\n       <use x=\"261.808594\" xlink:href=\"#DejaVuSans-105\"/>\n       <use x=\"289.591797\" xlink:href=\"#DejaVuSans-120\"/>\n       <use x=\"348.771484\" xlink:href=\"#DejaVuSans-32\"/>\n       <use x=\"380.558594\" xlink:href=\"#DejaVuSans-65\"/>\n       <use x=\"443.091797\" xlink:href=\"#DejaVuSans-118\"/>\n       <use x=\"502.271484\" xlink:href=\"#DejaVuSans-105\"/>\n       <use x=\"530.054688\" xlink:href=\"#DejaVuSans-97\"/>\n       <use x=\"591.333984\" xlink:href=\"#DejaVuSans-116\"/>\n       <use x=\"630.542969\" xlink:href=\"#DejaVuSans-105\"/>\n       <use x=\"658.326172\" xlink:href=\"#DejaVuSans-111\"/>\n       <use x=\"719.507812\" xlink:href=\"#DejaVuSans-110\"/>\n       <use x=\"782.886719\" xlink:href=\"#DejaVuSans-44\"/>\n       <use x=\"814.673828\" xlink:href=\"#DejaVuSans-32\"/>\n       <use x=\"846.460938\" xlink:href=\"#DejaVuSans-73\"/>\n       <use x=\"875.953125\" xlink:href=\"#DejaVuSans-110\"/>\n       <use x=\"939.332031\" xlink:href=\"#DejaVuSans-99\"/>\n       <use x=\"994.3125\" xlink:href=\"#DejaVuSans-46\"/>\n      </g>\n     </g>\n    </g>\n    <g id=\"xtick_116\">\n     <g id=\"line2d_116\">\n      <g>\n       <use style=\"stroke:#000000;stroke-width:0.8;\" x=\"1007.320628\" xlink:href=\"#m3b5fe81e7c\" y=\"464.076875\"/>\n      </g>\n     </g>\n     <g id=\"text_116\">\n      <!-- Air Transport International -->\n      <g transform=\"translate(909.200706 482.474531)scale(0.15 -0.15)\">\n       <use xlink:href=\"#DejaVuSans-65\"/>\n       <use x=\"68.408203\" xlink:href=\"#DejaVuSans-105\"/>\n       <use x=\"96.191406\" xlink:href=\"#DejaVuSans-114\"/>\n       <use x=\"137.304688\" xlink:href=\"#DejaVuSans-32\"/>\n       <use x=\"169.091797\" xlink:href=\"#DejaVuSans-84\"/>\n       <use x=\"215.425781\" xlink:href=\"#DejaVuSans-114\"/>\n       <use x=\"256.539062\" xlink:href=\"#DejaVuSans-97\"/>\n       <use x=\"317.818359\" xlink:href=\"#DejaVuSans-110\"/>\n       <use x=\"381.197266\" xlink:href=\"#DejaVuSans-115\"/>\n       <use x=\"433.296875\" xlink:href=\"#DejaVuSans-112\"/>\n       <use x=\"496.773438\" xlink:href=\"#DejaVuSans-111\"/>\n       <use x=\"557.955078\" xlink:href=\"#DejaVuSans-114\"/>\n       <use x=\"599.068359\" xlink:href=\"#DejaVuSans-116\"/>\n       <use x=\"638.277344\" xlink:href=\"#DejaVuSans-32\"/>\n       <use x=\"670.064453\" xlink:href=\"#DejaVuSans-73\"/>\n       <use x=\"699.556641\" xlink:href=\"#DejaVuSans-110\"/>\n       <use x=\"762.935547\" xlink:href=\"#DejaVuSans-116\"/>\n       <use x=\"802.144531\" xlink:href=\"#DejaVuSans-101\"/>\n       <use x=\"863.667969\" xlink:href=\"#DejaVuSans-114\"/>\n       <use x=\"903.03125\" xlink:href=\"#DejaVuSans-110\"/>\n       <use x=\"966.410156\" xlink:href=\"#DejaVuSans-97\"/>\n       <use x=\"1027.689453\" xlink:href=\"#DejaVuSans-116\"/>\n       <use x=\"1066.898438\" xlink:href=\"#DejaVuSans-105\"/>\n       <use x=\"1094.681641\" xlink:href=\"#DejaVuSans-111\"/>\n       <use x=\"1155.863281\" xlink:href=\"#DejaVuSans-110\"/>\n       <use x=\"1219.242188\" xlink:href=\"#DejaVuSans-97\"/>\n       <use x=\"1280.521484\" xlink:href=\"#DejaVuSans-108\"/>\n      </g>\n     </g>\n    </g>\n    <g id=\"xtick_117\">\n     <g id=\"line2d_117\">\n      <g>\n       <use style=\"stroke:#000000;stroke-width:0.8;\" x=\"1015.197534\" xlink:href=\"#m3b5fe81e7c\" y=\"464.076875\"/>\n      </g>\n     </g>\n     <g id=\"text_117\">\n      <!-- City Wings Inc dba Seaflight -->\n      <g transform=\"translate(909.768628 482.474531)scale(0.15 -0.15)\">\n       <use xlink:href=\"#DejaVuSans-67\"/>\n       <use x=\"69.824219\" xlink:href=\"#DejaVuSans-105\"/>\n       <use x=\"97.607422\" xlink:href=\"#DejaVuSans-116\"/>\n       <use x=\"136.816406\" xlink:href=\"#DejaVuSans-121\"/>\n       <use x=\"195.996094\" xlink:href=\"#DejaVuSans-32\"/>\n       <use x=\"227.783203\" xlink:href=\"#DejaVuSans-87\"/>\n       <use x=\"324.410156\" xlink:href=\"#DejaVuSans-105\"/>\n       <use x=\"352.193359\" xlink:href=\"#DejaVuSans-110\"/>\n       <use x=\"415.572266\" xlink:href=\"#DejaVuSans-103\"/>\n       <use x=\"479.048828\" xlink:href=\"#DejaVuSans-115\"/>\n       <use x=\"531.148438\" xlink:href=\"#DejaVuSans-32\"/>\n       <use x=\"562.935547\" xlink:href=\"#DejaVuSans-73\"/>\n       <use x=\"592.427734\" xlink:href=\"#DejaVuSans-110\"/>\n       <use x=\"655.806641\" xlink:href=\"#DejaVuSans-99\"/>\n       <use x=\"710.787109\" xlink:href=\"#DejaVuSans-32\"/>\n       <use x=\"742.574219\" xlink:href=\"#DejaVuSans-100\"/>\n       <use x=\"806.050781\" xlink:href=\"#DejaVuSans-98\"/>\n       <use x=\"869.527344\" xlink:href=\"#DejaVuSans-97\"/>\n       <use x=\"930.806641\" xlink:href=\"#DejaVuSans-32\"/>\n       <use x=\"962.59375\" xlink:href=\"#DejaVuSans-83\"/>\n       <use x=\"1026.070312\" xlink:href=\"#DejaVuSans-101\"/>\n       <use x=\"1087.59375\" xlink:href=\"#DejaVuSans-97\"/>\n       <use x=\"1148.873047\" xlink:href=\"#DejaVuSans-102\"/>\n       <use x=\"1184.078125\" xlink:href=\"#DejaVuSans-108\"/>\n       <use x=\"1211.861328\" xlink:href=\"#DejaVuSans-105\"/>\n       <use x=\"1239.644531\" xlink:href=\"#DejaVuSans-103\"/>\n       <use x=\"1303.121094\" xlink:href=\"#DejaVuSans-104\"/>\n       <use x=\"1366.5\" xlink:href=\"#DejaVuSans-116\"/>\n      </g>\n     </g>\n    </g>\n    <g id=\"xtick_118\">\n     <g id=\"line2d_118\">\n      <g>\n       <use style=\"stroke:#000000;stroke-width:0.8;\" x=\"1023.07444\" xlink:href=\"#m3b5fe81e7c\" y=\"464.076875\"/>\n      </g>\n     </g>\n     <g id=\"text_118\">\n      <!-- Pacific Wings Airlines -->\n      <g transform=\"translate(943.979909 482.474531)scale(0.15 -0.15)\">\n       <use xlink:href=\"#DejaVuSans-80\"/>\n       <use x=\"55.802734\" xlink:href=\"#DejaVuSans-97\"/>\n       <use x=\"117.082031\" xlink:href=\"#DejaVuSans-99\"/>\n       <use x=\"172.0625\" xlink:href=\"#DejaVuSans-105\"/>\n       <use x=\"199.845703\" xlink:href=\"#DejaVuSans-102\"/>\n       <use x=\"235.050781\" xlink:href=\"#DejaVuSans-105\"/>\n       <use x=\"262.833984\" xlink:href=\"#DejaVuSans-99\"/>\n       <use x=\"317.814453\" xlink:href=\"#DejaVuSans-32\"/>\n       <use x=\"349.601562\" xlink:href=\"#DejaVuSans-87\"/>\n       <use x=\"446.228516\" xlink:href=\"#DejaVuSans-105\"/>\n       <use x=\"474.011719\" xlink:href=\"#DejaVuSans-110\"/>\n       <use x=\"537.390625\" xlink:href=\"#DejaVuSans-103\"/>\n       <use x=\"600.867188\" xlink:href=\"#DejaVuSans-115\"/>\n       <use x=\"652.966797\" xlink:href=\"#DejaVuSans-32\"/>\n       <use x=\"684.753906\" xlink:href=\"#DejaVuSans-65\"/>\n       <use x=\"753.162109\" xlink:href=\"#DejaVuSans-105\"/>\n       <use x=\"780.945312\" xlink:href=\"#DejaVuSans-114\"/>\n       <use x=\"822.058594\" xlink:href=\"#DejaVuSans-108\"/>\n       <use x=\"849.841797\" xlink:href=\"#DejaVuSans-105\"/>\n       <use x=\"877.625\" xlink:href=\"#DejaVuSans-110\"/>\n       <use x=\"941.003906\" xlink:href=\"#DejaVuSans-101\"/>\n       <use x=\"1002.527344\" xlink:href=\"#DejaVuSans-115\"/>\n      </g>\n     </g>\n    </g>\n    <g id=\"xtick_119\">\n     <g id=\"line2d_119\">\n      <g>\n       <use style=\"stroke:#000000;stroke-width:0.8;\" x=\"1030.951345\" xlink:href=\"#m3b5fe81e7c\" y=\"464.076875\"/>\n      </g>\n     </g>\n     <g id=\"text_119\">\n      <!-- Reeve Air Alaska, LLC -->\n      <g transform=\"translate(949.842361 482.474531)scale(0.15 -0.15)\">\n       <use xlink:href=\"#DejaVuSans-82\"/>\n       <use x=\"64.982422\" xlink:href=\"#DejaVuSans-101\"/>\n       <use x=\"126.505859\" xlink:href=\"#DejaVuSans-101\"/>\n       <use x=\"188.029297\" xlink:href=\"#DejaVuSans-118\"/>\n       <use x=\"247.208984\" xlink:href=\"#DejaVuSans-101\"/>\n       <use x=\"308.732422\" xlink:href=\"#DejaVuSans-32\"/>\n       <use x=\"340.519531\" xlink:href=\"#DejaVuSans-65\"/>\n       <use x=\"408.927734\" xlink:href=\"#DejaVuSans-105\"/>\n       <use x=\"436.710938\" xlink:href=\"#DejaVuSans-114\"/>\n       <use x=\"477.824219\" xlink:href=\"#DejaVuSans-32\"/>\n       <use x=\"509.611328\" xlink:href=\"#DejaVuSans-65\"/>\n       <use x=\"578.019531\" xlink:href=\"#DejaVuSans-108\"/>\n       <use x=\"605.802734\" xlink:href=\"#DejaVuSans-97\"/>\n       <use x=\"667.082031\" xlink:href=\"#DejaVuSans-115\"/>\n       <use x=\"719.181641\" xlink:href=\"#DejaVuSans-107\"/>\n       <use x=\"775.341797\" xlink:href=\"#DejaVuSans-97\"/>\n       <use x=\"836.621094\" xlink:href=\"#DejaVuSans-44\"/>\n       <use x=\"868.408203\" xlink:href=\"#DejaVuSans-32\"/>\n       <use x=\"900.195312\" xlink:href=\"#DejaVuSans-76\"/>\n       <use x=\"955.908203\" xlink:href=\"#DejaVuSans-76\"/>\n       <use x=\"1011.621094\" xlink:href=\"#DejaVuSans-67\"/>\n      </g>\n     </g>\n    </g>\n    <g id=\"xtick_120\">\n     <g id=\"line2d_120\">\n      <g>\n       <use style=\"stroke:#000000;stroke-width:0.8;\" x=\"1038.828251\" xlink:href=\"#m3b5fe81e7c\" y=\"464.076875\"/>\n      </g>\n     </g>\n     <g id=\"text_120\">\n      <!-- Trans Northern Airways d/b/a Air Unlimited Charter Services -->\n      <g transform=\"translate(814.13997 482.474531)scale(0.15 -0.15)\">\n       <use xlink:href=\"#DejaVuSans-84\"/>\n       <use x=\"46.333984\" xlink:href=\"#DejaVuSans-114\"/>\n       <use x=\"87.447266\" xlink:href=\"#DejaVuSans-97\"/>\n       <use x=\"148.726562\" xlink:href=\"#DejaVuSans-110\"/>\n       <use x=\"212.105469\" xlink:href=\"#DejaVuSans-115\"/>\n       <use x=\"264.205078\" xlink:href=\"#DejaVuSans-32\"/>\n       <use x=\"295.992188\" xlink:href=\"#DejaVuSans-78\"/>\n       <use x=\"370.796875\" xlink:href=\"#DejaVuSans-111\"/>\n       <use x=\"431.978516\" xlink:href=\"#DejaVuSans-114\"/>\n       <use x=\"473.091797\" xlink:href=\"#DejaVuSans-116\"/>\n       <use x=\"512.300781\" xlink:href=\"#DejaVuSans-104\"/>\n       <use x=\"575.679688\" xlink:href=\"#DejaVuSans-101\"/>\n       <use x=\"637.203125\" xlink:href=\"#DejaVuSans-114\"/>\n       <use x=\"676.566406\" xlink:href=\"#DejaVuSans-110\"/>\n       <use x=\"739.945312\" xlink:href=\"#DejaVuSans-32\"/>\n       <use x=\"771.732422\" xlink:href=\"#DejaVuSans-65\"/>\n       <use x=\"840.140625\" xlink:href=\"#DejaVuSans-105\"/>\n       <use x=\"867.923828\" xlink:href=\"#DejaVuSans-114\"/>\n       <use x=\"909.037109\" xlink:href=\"#DejaVuSans-119\"/>\n       <use x=\"990.824219\" xlink:href=\"#DejaVuSans-97\"/>\n       <use x=\"1052.103516\" xlink:href=\"#DejaVuSans-121\"/>\n       <use x=\"1111.283203\" xlink:href=\"#DejaVuSans-115\"/>\n       <use x=\"1163.382812\" xlink:href=\"#DejaVuSans-32\"/>\n       <use x=\"1195.169922\" xlink:href=\"#DejaVuSans-100\"/>\n       <use x=\"1258.646484\" xlink:href=\"#DejaVuSans-47\"/>\n       <use x=\"1292.337891\" xlink:href=\"#DejaVuSans-98\"/>\n       <use x=\"1355.814453\" xlink:href=\"#DejaVuSans-47\"/>\n       <use x=\"1389.505859\" xlink:href=\"#DejaVuSans-97\"/>\n       <use x=\"1450.785156\" xlink:href=\"#DejaVuSans-32\"/>\n       <use x=\"1482.572266\" xlink:href=\"#DejaVuSans-65\"/>\n       <use x=\"1550.980469\" xlink:href=\"#DejaVuSans-105\"/>\n       <use x=\"1578.763672\" xlink:href=\"#DejaVuSans-114\"/>\n       <use x=\"1619.876953\" xlink:href=\"#DejaVuSans-32\"/>\n       <use x=\"1651.664062\" xlink:href=\"#DejaVuSans-85\"/>\n       <use x=\"1724.857422\" xlink:href=\"#DejaVuSans-110\"/>\n       <use x=\"1788.236328\" xlink:href=\"#DejaVuSans-108\"/>\n       <use x=\"1816.019531\" xlink:href=\"#DejaVuSans-105\"/>\n       <use x=\"1843.802734\" xlink:href=\"#DejaVuSans-109\"/>\n       <use x=\"1941.214844\" xlink:href=\"#DejaVuSans-105\"/>\n       <use x=\"1968.998047\" xlink:href=\"#DejaVuSans-116\"/>\n       <use x=\"2008.207031\" xlink:href=\"#DejaVuSans-101\"/>\n       <use x=\"2069.730469\" xlink:href=\"#DejaVuSans-100\"/>\n       <use x=\"2133.207031\" xlink:href=\"#DejaVuSans-32\"/>\n       <use x=\"2164.994141\" xlink:href=\"#DejaVuSans-67\"/>\n       <use x=\"2234.818359\" xlink:href=\"#DejaVuSans-104\"/>\n       <use x=\"2298.197266\" xlink:href=\"#DejaVuSans-97\"/>\n       <use x=\"2359.476562\" xlink:href=\"#DejaVuSans-114\"/>\n       <use x=\"2400.589844\" xlink:href=\"#DejaVuSans-116\"/>\n       <use x=\"2439.798828\" xlink:href=\"#DejaVuSans-101\"/>\n       <use x=\"2501.322266\" xlink:href=\"#DejaVuSans-114\"/>\n       <use x=\"2542.435547\" xlink:href=\"#DejaVuSans-32\"/>\n       <use x=\"2574.222656\" xlink:href=\"#DejaVuSans-83\"/>\n       <use x=\"2637.699219\" xlink:href=\"#DejaVuSans-101\"/>\n       <use x=\"2699.222656\" xlink:href=\"#DejaVuSans-114\"/>\n       <use x=\"2740.335938\" xlink:href=\"#DejaVuSans-118\"/>\n       <use x=\"2799.515625\" xlink:href=\"#DejaVuSans-105\"/>\n       <use x=\"2827.298828\" xlink:href=\"#DejaVuSans-99\"/>\n       <use x=\"2882.279297\" xlink:href=\"#DejaVuSans-101\"/>\n       <use x=\"2943.802734\" xlink:href=\"#DejaVuSans-115\"/>\n      </g>\n     </g>\n    </g>\n    <g id=\"xtick_121\">\n     <g id=\"line2d_121\">\n      <g>\n       <use style=\"stroke:#000000;stroke-width:0.8;\" x=\"1046.705157\" xlink:href=\"#m3b5fe81e7c\" y=\"464.076875\"/>\n      </g>\n     </g>\n     <g id=\"text_121\">\n      <!-- Friday Harbor Seaplanes -->\n      <g transform=\"translate(954.76336 482.474531)scale(0.15 -0.15)\">\n       <use xlink:href=\"#DejaVuSans-70\"/>\n       <use x=\"50.269531\" xlink:href=\"#DejaVuSans-114\"/>\n       <use x=\"91.382812\" xlink:href=\"#DejaVuSans-105\"/>\n       <use x=\"119.166016\" xlink:href=\"#DejaVuSans-100\"/>\n       <use x=\"182.642578\" xlink:href=\"#DejaVuSans-97\"/>\n       <use x=\"243.921875\" xlink:href=\"#DejaVuSans-121\"/>\n       <use x=\"303.101562\" xlink:href=\"#DejaVuSans-32\"/>\n       <use x=\"334.888672\" xlink:href=\"#DejaVuSans-72\"/>\n       <use x=\"410.083984\" xlink:href=\"#DejaVuSans-97\"/>\n       <use x=\"471.363281\" xlink:href=\"#DejaVuSans-114\"/>\n       <use x=\"512.476562\" xlink:href=\"#DejaVuSans-98\"/>\n       <use x=\"575.953125\" xlink:href=\"#DejaVuSans-111\"/>\n       <use x=\"637.134766\" xlink:href=\"#DejaVuSans-114\"/>\n       <use x=\"678.248047\" xlink:href=\"#DejaVuSans-32\"/>\n       <use x=\"710.035156\" xlink:href=\"#DejaVuSans-83\"/>\n       <use x=\"773.511719\" xlink:href=\"#DejaVuSans-101\"/>\n       <use x=\"835.035156\" xlink:href=\"#DejaVuSans-97\"/>\n       <use x=\"896.314453\" xlink:href=\"#DejaVuSans-112\"/>\n       <use x=\"959.791016\" xlink:href=\"#DejaVuSans-108\"/>\n       <use x=\"987.574219\" xlink:href=\"#DejaVuSans-97\"/>\n       <use x=\"1048.853516\" xlink:href=\"#DejaVuSans-110\"/>\n       <use x=\"1112.232422\" xlink:href=\"#DejaVuSans-101\"/>\n       <use x=\"1173.755859\" xlink:href=\"#DejaVuSans-115\"/>\n      </g>\n     </g>\n    </g>\n    <g id=\"xtick_122\">\n     <g id=\"line2d_122\">\n      <g>\n       <use style=\"stroke:#000000;stroke-width:0.8;\" x=\"1054.582063\" xlink:href=\"#m3b5fe81e7c\" y=\"464.076875\"/>\n      </g>\n     </g>\n     <g id=\"text_122\">\n      <!-- Ward Air -->\n      <g transform=\"translate(1022.654328 482.474531)scale(0.15 -0.15)\">\n       <use xlink:href=\"#DejaVuSans-87\"/>\n       <use x=\"92.501953\" xlink:href=\"#DejaVuSans-97\"/>\n       <use x=\"153.78125\" xlink:href=\"#DejaVuSans-114\"/>\n       <use x=\"193.144531\" xlink:href=\"#DejaVuSans-100\"/>\n       <use x=\"256.621094\" xlink:href=\"#DejaVuSans-32\"/>\n       <use x=\"288.408203\" xlink:href=\"#DejaVuSans-65\"/>\n       <use x=\"356.816406\" xlink:href=\"#DejaVuSans-105\"/>\n       <use x=\"384.599609\" xlink:href=\"#DejaVuSans-114\"/>\n      </g>\n     </g>\n    </g>\n    <g id=\"xtick_123\">\n     <g id=\"line2d_123\">\n      <g>\n       <use style=\"stroke:#000000;stroke-width:0.8;\" x=\"1062.458968\" xlink:href=\"#m3b5fe81e7c\" y=\"464.076875\"/>\n      </g>\n     </g>\n     <g id=\"text_123\">\n      <!-- Polaris Aviation Solutions, LLC -->\n      <g transform=\"translate(950.101937 482.474531)scale(0.15 -0.15)\">\n       <use xlink:href=\"#DejaVuSans-80\"/>\n       <use x=\"56.677734\" xlink:href=\"#DejaVuSans-111\"/>\n       <use x=\"117.859375\" xlink:href=\"#DejaVuSans-108\"/>\n       <use x=\"145.642578\" xlink:href=\"#DejaVuSans-97\"/>\n       <use x=\"206.921875\" xlink:href=\"#DejaVuSans-114\"/>\n       <use x=\"248.035156\" xlink:href=\"#DejaVuSans-105\"/>\n       <use x=\"275.818359\" xlink:href=\"#DejaVuSans-115\"/>\n       <use x=\"327.917969\" xlink:href=\"#DejaVuSans-32\"/>\n       <use x=\"359.705078\" xlink:href=\"#DejaVuSans-65\"/>\n       <use x=\"422.238281\" xlink:href=\"#DejaVuSans-118\"/>\n       <use x=\"481.417969\" xlink:href=\"#DejaVuSans-105\"/>\n       <use x=\"509.201172\" xlink:href=\"#DejaVuSans-97\"/>\n       <use x=\"570.480469\" xlink:href=\"#DejaVuSans-116\"/>\n       <use x=\"609.689453\" xlink:href=\"#DejaVuSans-105\"/>\n       <use x=\"637.472656\" xlink:href=\"#DejaVuSans-111\"/>\n       <use x=\"698.654297\" xlink:href=\"#DejaVuSans-110\"/>\n       <use x=\"762.033203\" xlink:href=\"#DejaVuSans-32\"/>\n       <use x=\"793.820312\" xlink:href=\"#DejaVuSans-83\"/>\n       <use x=\"857.296875\" xlink:href=\"#DejaVuSans-111\"/>\n       <use x=\"918.478516\" xlink:href=\"#DejaVuSans-108\"/>\n       <use x=\"946.261719\" xlink:href=\"#DejaVuSans-117\"/>\n       <use x=\"1009.640625\" xlink:href=\"#DejaVuSans-116\"/>\n       <use x=\"1048.849609\" xlink:href=\"#DejaVuSans-105\"/>\n       <use x=\"1076.632812\" xlink:href=\"#DejaVuSans-111\"/>\n       <use x=\"1137.814453\" xlink:href=\"#DejaVuSans-110\"/>\n       <use x=\"1201.193359\" xlink:href=\"#DejaVuSans-115\"/>\n       <use x=\"1253.292969\" xlink:href=\"#DejaVuSans-44\"/>\n       <use x=\"1285.080078\" xlink:href=\"#DejaVuSans-32\"/>\n       <use x=\"1316.867188\" xlink:href=\"#DejaVuSans-76\"/>\n       <use x=\"1372.580078\" xlink:href=\"#DejaVuSans-76\"/>\n       <use x=\"1428.292969\" xlink:href=\"#DejaVuSans-67\"/>\n      </g>\n     </g>\n    </g>\n    <g id=\"xtick_124\">\n     <g id=\"line2d_124\">\n      <g>\n       <use style=\"stroke:#000000;stroke-width:0.8;\" x=\"1070.335874\" xlink:href=\"#m3b5fe81e7c\" y=\"464.076875\"/>\n      </g>\n     </g>\n     <g id=\"text_124\">\n      <!-- J&amp;M Alaska Air Tours, Inc. d/b/a Alaska Air Transit -->\n      <g transform=\"translate(887.585483 482.474531)scale(0.15 -0.15)\">\n       <defs>\n        <path d=\"M 24.3125 39.203125 \nQ 19.875 35.25 17.796875 31.3125 \nQ 15.71875 27.390625 15.71875 23.09375 \nQ 15.71875 15.96875 20.890625 11.234375 \nQ 26.078125 6.5 33.890625 6.5 \nQ 38.53125 6.5 42.578125 8.03125 \nQ 46.625 9.578125 50.203125 12.703125 \nz\nM 31.203125 44.671875 \nL 56 19.28125 \nQ 58.890625 23.640625 60.5 28.59375 \nQ 62.109375 33.546875 62.40625 39.109375 \nL 71.484375 39.109375 \nQ 70.90625 32.671875 68.359375 26.359375 \nQ 65.828125 20.0625 61.28125 13.921875 \nL 74.90625 0 \nL 62.59375 0 \nL 55.609375 7.171875 \nQ 50.53125 2.828125 44.96875 0.703125 \nQ 39.40625 -1.421875 33.015625 -1.421875 \nQ 21.234375 -1.421875 13.765625 5.296875 \nQ 6.296875 12.015625 6.296875 22.515625 \nQ 6.296875 28.765625 9.5625 34.25 \nQ 12.84375 39.75 19.390625 44.578125 \nQ 17.046875 47.65625 15.8125 50.703125 \nQ 14.59375 53.765625 14.59375 56.6875 \nQ 14.59375 64.59375 20.015625 69.40625 \nQ 25.4375 74.21875 34.421875 74.21875 \nQ 38.484375 74.21875 42.5 73.34375 \nQ 46.53125 72.46875 50.6875 70.703125 \nL 50.6875 61.8125 \nQ 46.4375 64.109375 42.578125 65.296875 \nQ 38.71875 66.5 35.40625 66.5 \nQ 30.28125 66.5 27.078125 63.78125 \nQ 23.875 61.078125 23.875 56.78125 \nQ 23.875 54.296875 25.3125 51.78125 \nQ 26.765625 49.265625 31.203125 44.671875 \nz\n\" id=\"DejaVuSans-38\"/>\n       </defs>\n       <use xlink:href=\"#DejaVuSans-74\"/>\n       <use x=\"29.492188\" xlink:href=\"#DejaVuSans-38\"/>\n       <use x=\"107.470703\" xlink:href=\"#DejaVuSans-77\"/>\n       <use x=\"193.75\" xlink:href=\"#DejaVuSans-32\"/>\n       <use x=\"225.537109\" xlink:href=\"#DejaVuSans-65\"/>\n       <use x=\"293.945312\" xlink:href=\"#DejaVuSans-108\"/>\n       <use x=\"321.728516\" xlink:href=\"#DejaVuSans-97\"/>\n       <use x=\"383.007812\" xlink:href=\"#DejaVuSans-115\"/>\n       <use x=\"435.107422\" xlink:href=\"#DejaVuSans-107\"/>\n       <use x=\"491.267578\" xlink:href=\"#DejaVuSans-97\"/>\n       <use x=\"552.546875\" xlink:href=\"#DejaVuSans-32\"/>\n       <use x=\"584.333984\" xlink:href=\"#DejaVuSans-65\"/>\n       <use x=\"652.742188\" xlink:href=\"#DejaVuSans-105\"/>\n       <use x=\"680.525391\" xlink:href=\"#DejaVuSans-114\"/>\n       <use x=\"721.638672\" xlink:href=\"#DejaVuSans-32\"/>\n       <use x=\"753.425781\" xlink:href=\"#DejaVuSans-84\"/>\n       <use x=\"797.509766\" xlink:href=\"#DejaVuSans-111\"/>\n       <use x=\"858.691406\" xlink:href=\"#DejaVuSans-117\"/>\n       <use x=\"922.070312\" xlink:href=\"#DejaVuSans-114\"/>\n       <use x=\"963.183594\" xlink:href=\"#DejaVuSans-115\"/>\n       <use x=\"1015.283203\" xlink:href=\"#DejaVuSans-44\"/>\n       <use x=\"1047.070312\" xlink:href=\"#DejaVuSans-32\"/>\n       <use x=\"1078.857422\" xlink:href=\"#DejaVuSans-73\"/>\n       <use x=\"1108.349609\" xlink:href=\"#DejaVuSans-110\"/>\n       <use x=\"1171.728516\" xlink:href=\"#DejaVuSans-99\"/>\n       <use x=\"1226.708984\" xlink:href=\"#DejaVuSans-46\"/>\n       <use x=\"1258.496094\" xlink:href=\"#DejaVuSans-32\"/>\n       <use x=\"1290.283203\" xlink:href=\"#DejaVuSans-100\"/>\n       <use x=\"1353.759766\" xlink:href=\"#DejaVuSans-47\"/>\n       <use x=\"1387.451172\" xlink:href=\"#DejaVuSans-98\"/>\n       <use x=\"1450.927734\" xlink:href=\"#DejaVuSans-47\"/>\n       <use x=\"1484.619141\" xlink:href=\"#DejaVuSans-97\"/>\n       <use x=\"1545.898438\" xlink:href=\"#DejaVuSans-32\"/>\n       <use x=\"1577.685547\" xlink:href=\"#DejaVuSans-65\"/>\n       <use x=\"1646.09375\" xlink:href=\"#DejaVuSans-108\"/>\n       <use x=\"1673.876953\" xlink:href=\"#DejaVuSans-97\"/>\n       <use x=\"1735.15625\" xlink:href=\"#DejaVuSans-115\"/>\n       <use x=\"1787.255859\" xlink:href=\"#DejaVuSans-107\"/>\n       <use x=\"1843.416016\" xlink:href=\"#DejaVuSans-97\"/>\n       <use x=\"1904.695312\" xlink:href=\"#DejaVuSans-32\"/>\n       <use x=\"1936.482422\" xlink:href=\"#DejaVuSans-65\"/>\n       <use x=\"2004.890625\" xlink:href=\"#DejaVuSans-105\"/>\n       <use x=\"2032.673828\" xlink:href=\"#DejaVuSans-114\"/>\n       <use x=\"2073.787109\" xlink:href=\"#DejaVuSans-32\"/>\n       <use x=\"2105.574219\" xlink:href=\"#DejaVuSans-84\"/>\n       <use x=\"2151.908203\" xlink:href=\"#DejaVuSans-114\"/>\n       <use x=\"2193.021484\" xlink:href=\"#DejaVuSans-97\"/>\n       <use x=\"2254.300781\" xlink:href=\"#DejaVuSans-110\"/>\n       <use x=\"2317.679688\" xlink:href=\"#DejaVuSans-115\"/>\n       <use x=\"2369.779297\" xlink:href=\"#DejaVuSans-105\"/>\n       <use x=\"2397.5625\" xlink:href=\"#DejaVuSans-116\"/>\n      </g>\n     </g>\n    </g>\n    <g id=\"xtick_125\">\n     <g id=\"line2d_125\">\n      <g>\n       <use style=\"stroke:#000000;stroke-width:0.8;\" x=\"1078.21278\" xlink:href=\"#m3b5fe81e7c\" y=\"464.076875\"/>\n      </g>\n     </g>\n     <g id=\"text_125\">\n      <!-- Public Charters, Inc. d/b/a North Country Sky d/b/a Regional Sky d/b/a Texas Sky -->\n      <g transform=\"translate(778.153014 482.474531)scale(0.15 -0.15)\">\n       <use xlink:href=\"#DejaVuSans-80\"/>\n       <use x=\"58.552734\" xlink:href=\"#DejaVuSans-117\"/>\n       <use x=\"121.931641\" xlink:href=\"#DejaVuSans-98\"/>\n       <use x=\"185.408203\" xlink:href=\"#DejaVuSans-108\"/>\n       <use x=\"213.191406\" xlink:href=\"#DejaVuSans-105\"/>\n       <use x=\"240.974609\" xlink:href=\"#DejaVuSans-99\"/>\n       <use x=\"295.955078\" xlink:href=\"#DejaVuSans-32\"/>\n       <use x=\"327.742188\" xlink:href=\"#DejaVuSans-67\"/>\n       <use x=\"397.566406\" xlink:href=\"#DejaVuSans-104\"/>\n       <use x=\"460.945312\" xlink:href=\"#DejaVuSans-97\"/>\n       <use x=\"522.224609\" xlink:href=\"#DejaVuSans-114\"/>\n       <use x=\"563.337891\" xlink:href=\"#DejaVuSans-116\"/>\n       <use x=\"602.546875\" xlink:href=\"#DejaVuSans-101\"/>\n       <use x=\"664.070312\" xlink:href=\"#DejaVuSans-114\"/>\n       <use x=\"705.183594\" xlink:href=\"#DejaVuSans-115\"/>\n       <use x=\"757.283203\" xlink:href=\"#DejaVuSans-44\"/>\n       <use x=\"789.070312\" xlink:href=\"#DejaVuSans-32\"/>\n       <use x=\"820.857422\" xlink:href=\"#DejaVuSans-73\"/>\n       <use x=\"850.349609\" xlink:href=\"#DejaVuSans-110\"/>\n       <use x=\"913.728516\" xlink:href=\"#DejaVuSans-99\"/>\n       <use x=\"968.708984\" xlink:href=\"#DejaVuSans-46\"/>\n       <use x=\"1000.496094\" xlink:href=\"#DejaVuSans-32\"/>\n       <use x=\"1032.283203\" xlink:href=\"#DejaVuSans-100\"/>\n       <use x=\"1095.759766\" xlink:href=\"#DejaVuSans-47\"/>\n       <use x=\"1129.451172\" xlink:href=\"#DejaVuSans-98\"/>\n       <use x=\"1192.927734\" xlink:href=\"#DejaVuSans-47\"/>\n       <use x=\"1226.619141\" xlink:href=\"#DejaVuSans-97\"/>\n       <use x=\"1287.898438\" xlink:href=\"#DejaVuSans-32\"/>\n       <use x=\"1319.685547\" xlink:href=\"#DejaVuSans-78\"/>\n       <use x=\"1394.490234\" xlink:href=\"#DejaVuSans-111\"/>\n       <use x=\"1455.671875\" xlink:href=\"#DejaVuSans-114\"/>\n       <use x=\"1496.785156\" xlink:href=\"#DejaVuSans-116\"/>\n       <use x=\"1535.994141\" xlink:href=\"#DejaVuSans-104\"/>\n       <use x=\"1599.373047\" xlink:href=\"#DejaVuSans-32\"/>\n       <use x=\"1631.160156\" xlink:href=\"#DejaVuSans-67\"/>\n       <use x=\"1700.984375\" xlink:href=\"#DejaVuSans-111\"/>\n       <use x=\"1762.166016\" xlink:href=\"#DejaVuSans-117\"/>\n       <use x=\"1825.544922\" xlink:href=\"#DejaVuSans-110\"/>\n       <use x=\"1888.923828\" xlink:href=\"#DejaVuSans-116\"/>\n       <use x=\"1928.132812\" xlink:href=\"#DejaVuSans-114\"/>\n       <use x=\"1969.246094\" xlink:href=\"#DejaVuSans-121\"/>\n       <use x=\"2028.425781\" xlink:href=\"#DejaVuSans-32\"/>\n       <use x=\"2060.212891\" xlink:href=\"#DejaVuSans-83\"/>\n       <use x=\"2123.689453\" xlink:href=\"#DejaVuSans-107\"/>\n       <use x=\"2177.974609\" xlink:href=\"#DejaVuSans-121\"/>\n       <use x=\"2237.154297\" xlink:href=\"#DejaVuSans-32\"/>\n       <use x=\"2268.941406\" xlink:href=\"#DejaVuSans-100\"/>\n       <use x=\"2332.417969\" xlink:href=\"#DejaVuSans-47\"/>\n       <use x=\"2366.109375\" xlink:href=\"#DejaVuSans-98\"/>\n       <use x=\"2429.585938\" xlink:href=\"#DejaVuSans-47\"/>\n       <use x=\"2463.277344\" xlink:href=\"#DejaVuSans-97\"/>\n       <use x=\"2524.556641\" xlink:href=\"#DejaVuSans-32\"/>\n       <use x=\"2556.34375\" xlink:href=\"#DejaVuSans-82\"/>\n       <use x=\"2621.326172\" xlink:href=\"#DejaVuSans-101\"/>\n       <use x=\"2682.849609\" xlink:href=\"#DejaVuSans-103\"/>\n       <use x=\"2746.326172\" xlink:href=\"#DejaVuSans-105\"/>\n       <use x=\"2774.109375\" xlink:href=\"#DejaVuSans-111\"/>\n       <use x=\"2835.291016\" xlink:href=\"#DejaVuSans-110\"/>\n       <use x=\"2898.669922\" xlink:href=\"#DejaVuSans-97\"/>\n       <use x=\"2959.949219\" xlink:href=\"#DejaVuSans-108\"/>\n       <use x=\"2987.732422\" xlink:href=\"#DejaVuSans-32\"/>\n       <use x=\"3019.519531\" xlink:href=\"#DejaVuSans-83\"/>\n       <use x=\"3082.996094\" xlink:href=\"#DejaVuSans-107\"/>\n       <use x=\"3137.28125\" xlink:href=\"#DejaVuSans-121\"/>\n       <use x=\"3196.460938\" xlink:href=\"#DejaVuSans-32\"/>\n       <use x=\"3228.248047\" xlink:href=\"#DejaVuSans-100\"/>\n       <use x=\"3291.724609\" xlink:href=\"#DejaVuSans-47\"/>\n       <use x=\"3325.416016\" xlink:href=\"#DejaVuSans-98\"/>\n       <use x=\"3388.892578\" xlink:href=\"#DejaVuSans-47\"/>\n       <use x=\"3422.583984\" xlink:href=\"#DejaVuSans-97\"/>\n       <use x=\"3483.863281\" xlink:href=\"#DejaVuSans-32\"/>\n       <use x=\"3515.650391\" xlink:href=\"#DejaVuSans-84\"/>\n       <use x=\"3559.734375\" xlink:href=\"#DejaVuSans-101\"/>\n       <use x=\"3619.507812\" xlink:href=\"#DejaVuSans-120\"/>\n       <use x=\"3678.6875\" xlink:href=\"#DejaVuSans-97\"/>\n       <use x=\"3739.966797\" xlink:href=\"#DejaVuSans-115\"/>\n       <use x=\"3792.066406\" xlink:href=\"#DejaVuSans-32\"/>\n       <use x=\"3823.853516\" xlink:href=\"#DejaVuSans-83\"/>\n       <use x=\"3887.330078\" xlink:href=\"#DejaVuSans-107\"/>\n       <use x=\"3941.615234\" xlink:href=\"#DejaVuSans-121\"/>\n      </g>\n     </g>\n    </g>\n    <g id=\"xtick_126\">\n     <g id=\"line2d_126\">\n      <g>\n       <use style=\"stroke:#000000;stroke-width:0.8;\" x=\"1086.089685\" xlink:href=\"#m3b5fe81e7c\" y=\"464.076875\"/>\n      </g>\n     </g>\n     <g id=\"text_126\">\n      <!-- Nealco Air Charter Services, Inc.  d/b/a  Watermakers Air -->\n      <g transform=\"translate(873.842029 482.474531)scale(0.15 -0.15)\">\n       <use xlink:href=\"#DejaVuSans-78\"/>\n       <use x=\"74.804688\" xlink:href=\"#DejaVuSans-101\"/>\n       <use x=\"136.328125\" xlink:href=\"#DejaVuSans-97\"/>\n       <use x=\"197.607422\" xlink:href=\"#DejaVuSans-108\"/>\n       <use x=\"225.390625\" xlink:href=\"#DejaVuSans-99\"/>\n       <use x=\"280.371094\" xlink:href=\"#DejaVuSans-111\"/>\n       <use x=\"341.552734\" xlink:href=\"#DejaVuSans-32\"/>\n       <use x=\"373.339844\" xlink:href=\"#DejaVuSans-65\"/>\n       <use x=\"441.748047\" xlink:href=\"#DejaVuSans-105\"/>\n       <use x=\"469.53125\" xlink:href=\"#DejaVuSans-114\"/>\n       <use x=\"510.644531\" xlink:href=\"#DejaVuSans-32\"/>\n       <use x=\"542.431641\" xlink:href=\"#DejaVuSans-67\"/>\n       <use x=\"612.255859\" xlink:href=\"#DejaVuSans-104\"/>\n       <use x=\"675.634766\" xlink:href=\"#DejaVuSans-97\"/>\n       <use x=\"736.914062\" xlink:href=\"#DejaVuSans-114\"/>\n       <use x=\"778.027344\" xlink:href=\"#DejaVuSans-116\"/>\n       <use x=\"817.236328\" xlink:href=\"#DejaVuSans-101\"/>\n       <use x=\"878.759766\" xlink:href=\"#DejaVuSans-114\"/>\n       <use x=\"919.873047\" xlink:href=\"#DejaVuSans-32\"/>\n       <use x=\"951.660156\" xlink:href=\"#DejaVuSans-83\"/>\n       <use x=\"1015.136719\" xlink:href=\"#DejaVuSans-101\"/>\n       <use x=\"1076.660156\" xlink:href=\"#DejaVuSans-114\"/>\n       <use x=\"1117.773438\" xlink:href=\"#DejaVuSans-118\"/>\n       <use x=\"1176.953125\" xlink:href=\"#DejaVuSans-105\"/>\n       <use x=\"1204.736328\" xlink:href=\"#DejaVuSans-99\"/>\n       <use x=\"1259.716797\" xlink:href=\"#DejaVuSans-101\"/>\n       <use x=\"1321.240234\" xlink:href=\"#DejaVuSans-115\"/>\n       <use x=\"1373.339844\" xlink:href=\"#DejaVuSans-44\"/>\n       <use x=\"1405.126953\" xlink:href=\"#DejaVuSans-32\"/>\n       <use x=\"1436.914062\" xlink:href=\"#DejaVuSans-73\"/>\n       <use x=\"1466.40625\" xlink:href=\"#DejaVuSans-110\"/>\n       <use x=\"1529.785156\" xlink:href=\"#DejaVuSans-99\"/>\n       <use x=\"1584.765625\" xlink:href=\"#DejaVuSans-46\"/>\n       <use x=\"1616.552734\" xlink:href=\"#DejaVuSans-32\"/>\n       <use x=\"1648.339844\" xlink:href=\"#DejaVuSans-32\"/>\n       <use x=\"1680.126953\" xlink:href=\"#DejaVuSans-100\"/>\n       <use x=\"1743.603516\" xlink:href=\"#DejaVuSans-47\"/>\n       <use x=\"1777.294922\" xlink:href=\"#DejaVuSans-98\"/>\n       <use x=\"1840.771484\" xlink:href=\"#DejaVuSans-47\"/>\n       <use x=\"1874.462891\" xlink:href=\"#DejaVuSans-97\"/>\n       <use x=\"1935.742188\" xlink:href=\"#DejaVuSans-32\"/>\n       <use x=\"1967.529297\" xlink:href=\"#DejaVuSans-32\"/>\n       <use x=\"1999.316406\" xlink:href=\"#DejaVuSans-87\"/>\n       <use x=\"2091.818359\" xlink:href=\"#DejaVuSans-97\"/>\n       <use x=\"2153.097656\" xlink:href=\"#DejaVuSans-116\"/>\n       <use x=\"2192.306641\" xlink:href=\"#DejaVuSans-101\"/>\n       <use x=\"2253.830078\" xlink:href=\"#DejaVuSans-114\"/>\n       <use x=\"2293.193359\" xlink:href=\"#DejaVuSans-109\"/>\n       <use x=\"2390.605469\" xlink:href=\"#DejaVuSans-97\"/>\n       <use x=\"2451.884766\" xlink:href=\"#DejaVuSans-107\"/>\n       <use x=\"2506.169922\" xlink:href=\"#DejaVuSans-101\"/>\n       <use x=\"2567.693359\" xlink:href=\"#DejaVuSans-114\"/>\n       <use x=\"2608.806641\" xlink:href=\"#DejaVuSans-115\"/>\n       <use x=\"2660.90625\" xlink:href=\"#DejaVuSans-32\"/>\n       <use x=\"2692.693359\" xlink:href=\"#DejaVuSans-65\"/>\n       <use x=\"2761.101562\" xlink:href=\"#DejaVuSans-105\"/>\n       <use x=\"2788.884766\" xlink:href=\"#DejaVuSans-114\"/>\n      </g>\n     </g>\n    </g>\n    <g id=\"xtick_127\">\n     <g id=\"line2d_127\">\n      <g>\n       <use style=\"stroke:#000000;stroke-width:0.8;\" x=\"1093.966591\" xlink:href=\"#m3b5fe81e7c\" y=\"464.076875\"/>\n      </g>\n     </g>\n     <g id=\"text_127\">\n      <!-- Grand Canyon Helicopters -->\n      <g transform=\"translate(995.38495 482.474531)scale(0.15 -0.15)\">\n       <use xlink:href=\"#DejaVuSans-71\"/>\n       <use x=\"77.490234\" xlink:href=\"#DejaVuSans-114\"/>\n       <use x=\"118.603516\" xlink:href=\"#DejaVuSans-97\"/>\n       <use x=\"179.882812\" xlink:href=\"#DejaVuSans-110\"/>\n       <use x=\"243.261719\" xlink:href=\"#DejaVuSans-100\"/>\n       <use x=\"306.738281\" xlink:href=\"#DejaVuSans-32\"/>\n       <use x=\"338.525391\" xlink:href=\"#DejaVuSans-67\"/>\n       <use x=\"408.349609\" xlink:href=\"#DejaVuSans-97\"/>\n       <use x=\"469.628906\" xlink:href=\"#DejaVuSans-110\"/>\n       <use x=\"533.007812\" xlink:href=\"#DejaVuSans-121\"/>\n       <use x=\"592.1875\" xlink:href=\"#DejaVuSans-111\"/>\n       <use x=\"653.369141\" xlink:href=\"#DejaVuSans-110\"/>\n       <use x=\"716.748047\" xlink:href=\"#DejaVuSans-32\"/>\n       <use x=\"748.535156\" xlink:href=\"#DejaVuSans-72\"/>\n       <use x=\"823.730469\" xlink:href=\"#DejaVuSans-101\"/>\n       <use x=\"885.253906\" xlink:href=\"#DejaVuSans-108\"/>\n       <use x=\"913.037109\" xlink:href=\"#DejaVuSans-105\"/>\n       <use x=\"940.820312\" xlink:href=\"#DejaVuSans-99\"/>\n       <use x=\"995.800781\" xlink:href=\"#DejaVuSans-111\"/>\n       <use x=\"1056.982422\" xlink:href=\"#DejaVuSans-112\"/>\n       <use x=\"1120.458984\" xlink:href=\"#DejaVuSans-116\"/>\n       <use x=\"1159.667969\" xlink:href=\"#DejaVuSans-101\"/>\n       <use x=\"1221.191406\" xlink:href=\"#DejaVuSans-114\"/>\n       <use x=\"1262.304688\" xlink:href=\"#DejaVuSans-115\"/>\n      </g>\n     </g>\n    </g>\n    <g id=\"xtick_128\">\n     <g id=\"line2d_128\">\n      <g>\n       <use style=\"stroke:#000000;stroke-width:0.8;\" x=\"1101.843497\" xlink:href=\"#m3b5fe81e7c\" y=\"464.076875\"/>\n      </g>\n     </g>\n     <g id=\"text_128\">\n      <!-- ABX Air Inc -->\n      <g transform=\"translate(1060.275919 482.474531)scale(0.15 -0.15)\">\n       <use xlink:href=\"#DejaVuSans-65\"/>\n       <use x=\"68.408203\" xlink:href=\"#DejaVuSans-66\"/>\n       <use x=\"137.011719\" xlink:href=\"#DejaVuSans-88\"/>\n       <use x=\"205.517578\" xlink:href=\"#DejaVuSans-32\"/>\n       <use x=\"237.304688\" xlink:href=\"#DejaVuSans-65\"/>\n       <use x=\"305.712891\" xlink:href=\"#DejaVuSans-105\"/>\n       <use x=\"333.496094\" xlink:href=\"#DejaVuSans-114\"/>\n       <use x=\"374.609375\" xlink:href=\"#DejaVuSans-32\"/>\n       <use x=\"406.396484\" xlink:href=\"#DejaVuSans-73\"/>\n       <use x=\"435.888672\" xlink:href=\"#DejaVuSans-110\"/>\n       <use x=\"499.267578\" xlink:href=\"#DejaVuSans-99\"/>\n      </g>\n     </g>\n    </g>\n    <g id=\"xtick_129\">\n     <g id=\"line2d_129\">\n      <g>\n       <use style=\"stroke:#000000;stroke-width:0.8;\" x=\"1109.720402\" xlink:href=\"#m3b5fe81e7c\" y=\"464.076875\"/>\n      </g>\n     </g>\n     <g id=\"text_129\">\n      <!-- Polar Air Cargo Airways -->\n      <g transform=\"translate(1022.161418 482.474531)scale(0.15 -0.15)\">\n       <use xlink:href=\"#DejaVuSans-80\"/>\n       <use x=\"56.677734\" xlink:href=\"#DejaVuSans-111\"/>\n       <use x=\"117.859375\" xlink:href=\"#DejaVuSans-108\"/>\n       <use x=\"145.642578\" xlink:href=\"#DejaVuSans-97\"/>\n       <use x=\"206.921875\" xlink:href=\"#DejaVuSans-114\"/>\n       <use x=\"248.035156\" xlink:href=\"#DejaVuSans-32\"/>\n       <use x=\"279.822266\" xlink:href=\"#DejaVuSans-65\"/>\n       <use x=\"348.230469\" xlink:href=\"#DejaVuSans-105\"/>\n       <use x=\"376.013672\" xlink:href=\"#DejaVuSans-114\"/>\n       <use x=\"417.126953\" xlink:href=\"#DejaVuSans-32\"/>\n       <use x=\"448.914062\" xlink:href=\"#DejaVuSans-67\"/>\n       <use x=\"518.738281\" xlink:href=\"#DejaVuSans-97\"/>\n       <use x=\"580.017578\" xlink:href=\"#DejaVuSans-114\"/>\n       <use x=\"619.380859\" xlink:href=\"#DejaVuSans-103\"/>\n       <use x=\"682.857422\" xlink:href=\"#DejaVuSans-111\"/>\n       <use x=\"744.039062\" xlink:href=\"#DejaVuSans-32\"/>\n       <use x=\"775.826172\" xlink:href=\"#DejaVuSans-65\"/>\n       <use x=\"844.234375\" xlink:href=\"#DejaVuSans-105\"/>\n       <use x=\"872.017578\" xlink:href=\"#DejaVuSans-114\"/>\n       <use x=\"913.130859\" xlink:href=\"#DejaVuSans-119\"/>\n       <use x=\"994.917969\" xlink:href=\"#DejaVuSans-97\"/>\n       <use x=\"1056.197266\" xlink:href=\"#DejaVuSans-121\"/>\n       <use x=\"1115.376953\" xlink:href=\"#DejaVuSans-115\"/>\n      </g>\n     </g>\n    </g>\n   </g>\n   <g id=\"matplotlib.axis_2\">\n    <g id=\"ytick_1\">\n     <g id=\"line2d_130\">\n      <defs>\n       <path d=\"M 0 0 \nL -3.5 0 \n\" id=\"ma3e950545a\" style=\"stroke:#000000;stroke-width:0.8;\"/>\n      </defs>\n      <g>\n       <use style=\"stroke:#000000;stroke-width:0.8;\" x=\"47.598438\" xlink:href=\"#ma3e950545a\" y=\"422.104176\"/>\n      </g>\n     </g>\n     <g id=\"text_130\">\n      <!-- 0.0 -->\n      <g transform=\"translate(16.74375 427.803004)scale(0.15 -0.15)\">\n       <use xlink:href=\"#DejaVuSans-48\"/>\n       <use x=\"63.623047\" xlink:href=\"#DejaVuSans-46\"/>\n       <use x=\"95.410156\" xlink:href=\"#DejaVuSans-48\"/>\n      </g>\n     </g>\n    </g>\n    <g id=\"ytick_2\">\n     <g id=\"line2d_131\">\n      <g>\n       <use style=\"stroke:#000000;stroke-width:0.8;\" x=\"47.598438\" xlink:href=\"#ma3e950545a\" y=\"371.435915\"/>\n      </g>\n     </g>\n     <g id=\"text_131\">\n      <!-- 2.5 -->\n      <g transform=\"translate(16.74375 377.134743)scale(0.15 -0.15)\">\n       <defs>\n        <path d=\"M 19.1875 8.296875 \nL 53.609375 8.296875 \nL 53.609375 0 \nL 7.328125 0 \nL 7.328125 8.296875 \nQ 12.9375 14.109375 22.625 23.890625 \nQ 32.328125 33.6875 34.8125 36.53125 \nQ 39.546875 41.84375 41.421875 45.53125 \nQ 43.3125 49.21875 43.3125 52.78125 \nQ 43.3125 58.59375 39.234375 62.25 \nQ 35.15625 65.921875 28.609375 65.921875 \nQ 23.96875 65.921875 18.8125 64.3125 \nQ 13.671875 62.703125 7.8125 59.421875 \nL 7.8125 69.390625 \nQ 13.765625 71.78125 18.9375 73 \nQ 24.125 74.21875 28.421875 74.21875 \nQ 39.75 74.21875 46.484375 68.546875 \nQ 53.21875 62.890625 53.21875 53.421875 \nQ 53.21875 48.921875 51.53125 44.890625 \nQ 49.859375 40.875 45.40625 35.40625 \nQ 44.1875 33.984375 37.640625 27.21875 \nQ 31.109375 20.453125 19.1875 8.296875 \nz\n\" id=\"DejaVuSans-50\"/>\n        <path d=\"M 10.796875 72.90625 \nL 49.515625 72.90625 \nL 49.515625 64.59375 \nL 19.828125 64.59375 \nL 19.828125 46.734375 \nQ 21.96875 47.46875 24.109375 47.828125 \nQ 26.265625 48.1875 28.421875 48.1875 \nQ 40.625 48.1875 47.75 41.5 \nQ 54.890625 34.8125 54.890625 23.390625 \nQ 54.890625 11.625 47.5625 5.09375 \nQ 40.234375 -1.421875 26.90625 -1.421875 \nQ 22.3125 -1.421875 17.546875 -0.640625 \nQ 12.796875 0.140625 7.71875 1.703125 \nL 7.71875 11.625 \nQ 12.109375 9.234375 16.796875 8.0625 \nQ 21.484375 6.890625 26.703125 6.890625 \nQ 35.15625 6.890625 40.078125 11.328125 \nQ 45.015625 15.765625 45.015625 23.390625 \nQ 45.015625 31 40.078125 35.4375 \nQ 35.15625 39.890625 26.703125 39.890625 \nQ 22.75 39.890625 18.8125 39.015625 \nQ 14.890625 38.140625 10.796875 36.28125 \nz\n\" id=\"DejaVuSans-53\"/>\n       </defs>\n       <use xlink:href=\"#DejaVuSans-50\"/>\n       <use x=\"63.623047\" xlink:href=\"#DejaVuSans-46\"/>\n       <use x=\"95.410156\" xlink:href=\"#DejaVuSans-53\"/>\n      </g>\n     </g>\n    </g>\n    <g id=\"ytick_3\">\n     <g id=\"line2d_132\">\n      <g>\n       <use style=\"stroke:#000000;stroke-width:0.8;\" x=\"47.598438\" xlink:href=\"#ma3e950545a\" y=\"320.767654\"/>\n      </g>\n     </g>\n     <g id=\"text_132\">\n      <!-- 5.0 -->\n      <g transform=\"translate(16.74375 326.466482)scale(0.15 -0.15)\">\n       <use xlink:href=\"#DejaVuSans-53\"/>\n       <use x=\"63.623047\" xlink:href=\"#DejaVuSans-46\"/>\n       <use x=\"95.410156\" xlink:href=\"#DejaVuSans-48\"/>\n      </g>\n     </g>\n    </g>\n    <g id=\"ytick_4\">\n     <g id=\"line2d_133\">\n      <g>\n       <use style=\"stroke:#000000;stroke-width:0.8;\" x=\"47.598438\" xlink:href=\"#ma3e950545a\" y=\"270.099392\"/>\n      </g>\n     </g>\n     <g id=\"text_133\">\n      <!-- 7.5 -->\n      <g transform=\"translate(16.74375 275.79822)scale(0.15 -0.15)\">\n       <defs>\n        <path d=\"M 8.203125 72.90625 \nL 55.078125 72.90625 \nL 55.078125 68.703125 \nL 28.609375 0 \nL 18.3125 0 \nL 43.21875 64.59375 \nL 8.203125 64.59375 \nz\n\" id=\"DejaVuSans-55\"/>\n       </defs>\n       <use xlink:href=\"#DejaVuSans-55\"/>\n       <use x=\"63.623047\" xlink:href=\"#DejaVuSans-46\"/>\n       <use x=\"95.410156\" xlink:href=\"#DejaVuSans-53\"/>\n      </g>\n     </g>\n    </g>\n    <g id=\"ytick_5\">\n     <g id=\"line2d_134\">\n      <g>\n       <use style=\"stroke:#000000;stroke-width:0.8;\" x=\"47.598438\" xlink:href=\"#ma3e950545a\" y=\"219.431131\"/>\n      </g>\n     </g>\n     <g id=\"text_134\">\n      <!-- 10.0 -->\n      <g transform=\"translate(7.2 225.129959)scale(0.15 -0.15)\">\n       <defs>\n        <path d=\"M 12.40625 8.296875 \nL 28.515625 8.296875 \nL 28.515625 63.921875 \nL 10.984375 60.40625 \nL 10.984375 69.390625 \nL 28.421875 72.90625 \nL 38.28125 72.90625 \nL 38.28125 8.296875 \nL 54.390625 8.296875 \nL 54.390625 0 \nL 12.40625 0 \nz\n\" id=\"DejaVuSans-49\"/>\n       </defs>\n       <use xlink:href=\"#DejaVuSans-49\"/>\n       <use x=\"63.623047\" xlink:href=\"#DejaVuSans-48\"/>\n       <use x=\"127.246094\" xlink:href=\"#DejaVuSans-46\"/>\n       <use x=\"159.033203\" xlink:href=\"#DejaVuSans-48\"/>\n      </g>\n     </g>\n    </g>\n    <g id=\"ytick_6\">\n     <g id=\"line2d_135\">\n      <g>\n       <use style=\"stroke:#000000;stroke-width:0.8;\" x=\"47.598438\" xlink:href=\"#ma3e950545a\" y=\"168.762869\"/>\n      </g>\n     </g>\n     <g id=\"text_135\">\n      <!-- 12.5 -->\n      <g transform=\"translate(7.2 174.461697)scale(0.15 -0.15)\">\n       <use xlink:href=\"#DejaVuSans-49\"/>\n       <use x=\"63.623047\" xlink:href=\"#DejaVuSans-50\"/>\n       <use x=\"127.246094\" xlink:href=\"#DejaVuSans-46\"/>\n       <use x=\"159.033203\" xlink:href=\"#DejaVuSans-53\"/>\n      </g>\n     </g>\n    </g>\n    <g id=\"ytick_7\">\n     <g id=\"line2d_136\">\n      <g>\n       <use style=\"stroke:#000000;stroke-width:0.8;\" x=\"47.598438\" xlink:href=\"#ma3e950545a\" y=\"118.094608\"/>\n      </g>\n     </g>\n     <g id=\"text_136\">\n      <!-- 15.0 -->\n      <g transform=\"translate(7.2 123.793436)scale(0.15 -0.15)\">\n       <use xlink:href=\"#DejaVuSans-49\"/>\n       <use x=\"63.623047\" xlink:href=\"#DejaVuSans-53\"/>\n       <use x=\"127.246094\" xlink:href=\"#DejaVuSans-46\"/>\n       <use x=\"159.033203\" xlink:href=\"#DejaVuSans-48\"/>\n      </g>\n     </g>\n    </g>\n    <g id=\"ytick_8\">\n     <g id=\"line2d_137\">\n      <g>\n       <use style=\"stroke:#000000;stroke-width:0.8;\" x=\"47.598438\" xlink:href=\"#ma3e950545a\" y=\"67.426346\"/>\n      </g>\n     </g>\n     <g id=\"text_137\">\n      <!-- 17.5 -->\n      <g transform=\"translate(7.2 73.125175)scale(0.15 -0.15)\">\n       <use xlink:href=\"#DejaVuSans-49\"/>\n       <use x=\"63.623047\" xlink:href=\"#DejaVuSans-55\"/>\n       <use x=\"127.246094\" xlink:href=\"#DejaVuSans-46\"/>\n       <use x=\"159.033203\" xlink:href=\"#DejaVuSans-53\"/>\n      </g>\n     </g>\n    </g>\n   </g>\n   <g id=\"line2d_138\">\n    <path clip-path=\"url(#p42bd252d03)\" d=\"M 286.583757 464.076875 \nL 286.583757 29.196875 \n\" style=\"fill:none;stroke:#ff0000;stroke-linecap:square;stroke-width:1.5;\"/>\n   </g>\n   <g id=\"patch_390\">\n    <path d=\"M 47.598438 464.076875 \nL 47.598438 29.196875 \n\" style=\"fill:none;stroke:#000000;stroke-linecap:square;stroke-linejoin:miter;stroke-width:0.8;\"/>\n   </g>\n   <g id=\"patch_391\">\n    <path d=\"M 1163.598438 464.076875 \nL 1163.598438 29.196875 \n\" style=\"fill:none;stroke:#000000;stroke-linecap:square;stroke-linejoin:miter;stroke-width:0.8;\"/>\n   </g>\n   <g id=\"patch_392\">\n    <path d=\"M 47.598438 464.076875 \nL 1163.598438 464.076875 \n\" style=\"fill:none;stroke:#000000;stroke-linecap:square;stroke-linejoin:miter;stroke-width:0.8;\"/>\n   </g>\n   <g id=\"patch_393\">\n    <path d=\"M 47.598438 29.196875 \nL 1163.598438 29.196875 \n\" style=\"fill:none;stroke:#000000;stroke-linecap:square;stroke-linejoin:miter;stroke-width:0.8;\"/>\n   </g>\n   <g id=\"text_138\">\n    <!-- Histogramme des compagnies aériennes classées selon les 3 critères sur la période 2014-2020 -->\n    <g transform=\"translate(127.728125 23.196875)scale(0.2 -0.2)\">\n     <defs>\n      <path d=\"M 56.203125 29.59375 \nL 56.203125 25.203125 \nL 14.890625 25.203125 \nQ 15.484375 15.921875 20.484375 11.0625 \nQ 25.484375 6.203125 34.421875 6.203125 \nQ 39.59375 6.203125 44.453125 7.46875 \nQ 49.3125 8.734375 54.109375 11.28125 \nL 54.109375 2.78125 \nQ 49.265625 0.734375 44.1875 -0.34375 \nQ 39.109375 -1.421875 33.890625 -1.421875 \nQ 20.796875 -1.421875 13.15625 6.1875 \nQ 5.515625 13.8125 5.515625 26.8125 \nQ 5.515625 40.234375 12.765625 48.109375 \nQ 20.015625 56 32.328125 56 \nQ 43.359375 56 49.78125 48.890625 \nQ 56.203125 41.796875 56.203125 29.59375 \nz\nM 47.21875 32.234375 \nQ 47.125 39.59375 43.09375 43.984375 \nQ 39.0625 48.390625 32.421875 48.390625 \nQ 24.90625 48.390625 20.390625 44.140625 \nQ 15.875 39.890625 15.1875 32.171875 \nz\nM 38.53125 79.984375 \nL 48.25 79.984375 \nL 32.34375 61.625 \nL 24.859375 61.625 \nz\n\" id=\"DejaVuSans-233\"/>\n      <path d=\"M 40.578125 39.3125 \nQ 47.65625 37.796875 51.625 33 \nQ 55.609375 28.21875 55.609375 21.1875 \nQ 55.609375 10.40625 48.1875 4.484375 \nQ 40.765625 -1.421875 27.09375 -1.421875 \nQ 22.515625 -1.421875 17.65625 -0.515625 \nQ 12.796875 0.390625 7.625 2.203125 \nL 7.625 11.71875 \nQ 11.71875 9.328125 16.59375 8.109375 \nQ 21.484375 6.890625 26.8125 6.890625 \nQ 36.078125 6.890625 40.9375 10.546875 \nQ 45.796875 14.203125 45.796875 21.1875 \nQ 45.796875 27.640625 41.28125 31.265625 \nQ 36.765625 34.90625 28.71875 34.90625 \nL 20.21875 34.90625 \nL 20.21875 43.015625 \nL 29.109375 43.015625 \nQ 36.375 43.015625 40.234375 45.921875 \nQ 44.09375 48.828125 44.09375 54.296875 \nQ 44.09375 59.90625 40.109375 62.90625 \nQ 36.140625 65.921875 28.71875 65.921875 \nQ 24.65625 65.921875 20.015625 65.03125 \nQ 15.375 64.15625 9.8125 62.3125 \nL 9.8125 71.09375 \nQ 15.4375 72.65625 20.34375 73.4375 \nQ 25.25 74.21875 29.59375 74.21875 \nQ 40.828125 74.21875 47.359375 69.109375 \nQ 53.90625 64.015625 53.90625 55.328125 \nQ 53.90625 49.265625 50.4375 45.09375 \nQ 46.96875 40.921875 40.578125 39.3125 \nz\n\" id=\"DejaVuSans-51\"/>\n      <path d=\"M 56.203125 29.59375 \nL 56.203125 25.203125 \nL 14.890625 25.203125 \nQ 15.484375 15.921875 20.484375 11.0625 \nQ 25.484375 6.203125 34.421875 6.203125 \nQ 39.59375 6.203125 44.453125 7.46875 \nQ 49.3125 8.734375 54.109375 11.28125 \nL 54.109375 2.78125 \nQ 49.265625 0.734375 44.1875 -0.34375 \nQ 39.109375 -1.421875 33.890625 -1.421875 \nQ 20.796875 -1.421875 13.15625 6.1875 \nQ 5.515625 13.8125 5.515625 26.8125 \nQ 5.515625 40.234375 12.765625 48.109375 \nQ 20.015625 56 32.328125 56 \nQ 43.359375 56 49.78125 48.890625 \nQ 56.203125 41.796875 56.203125 29.59375 \nz\nM 47.21875 32.234375 \nQ 47.125 39.59375 43.09375 43.984375 \nQ 39.0625 48.390625 32.421875 48.390625 \nQ 24.90625 48.390625 20.390625 44.140625 \nQ 15.875 39.890625 15.1875 32.171875 \nz\nM 24.671875 79.984375 \nL 38.4375 61.71875 \nL 30.96875 61.71875 \nL 15.046875 79.984375 \nz\n\" id=\"DejaVuSans-232\"/>\n     </defs>\n     <use xlink:href=\"#DejaVuSans-72\"/>\n     <use x=\"75.195312\" xlink:href=\"#DejaVuSans-105\"/>\n     <use x=\"102.978516\" xlink:href=\"#DejaVuSans-115\"/>\n     <use x=\"155.078125\" xlink:href=\"#DejaVuSans-116\"/>\n     <use x=\"194.287109\" xlink:href=\"#DejaVuSans-111\"/>\n     <use x=\"255.46875\" xlink:href=\"#DejaVuSans-103\"/>\n     <use x=\"318.945312\" xlink:href=\"#DejaVuSans-114\"/>\n     <use x=\"360.058594\" xlink:href=\"#DejaVuSans-97\"/>\n     <use x=\"421.337891\" xlink:href=\"#DejaVuSans-109\"/>\n     <use x=\"518.75\" xlink:href=\"#DejaVuSans-109\"/>\n     <use x=\"616.162109\" xlink:href=\"#DejaVuSans-101\"/>\n     <use x=\"677.685547\" xlink:href=\"#DejaVuSans-32\"/>\n     <use x=\"709.472656\" xlink:href=\"#DejaVuSans-100\"/>\n     <use x=\"772.949219\" xlink:href=\"#DejaVuSans-101\"/>\n     <use x=\"834.472656\" xlink:href=\"#DejaVuSans-115\"/>\n     <use x=\"886.572266\" xlink:href=\"#DejaVuSans-32\"/>\n     <use x=\"918.359375\" xlink:href=\"#DejaVuSans-99\"/>\n     <use x=\"973.339844\" xlink:href=\"#DejaVuSans-111\"/>\n     <use x=\"1034.521484\" xlink:href=\"#DejaVuSans-109\"/>\n     <use x=\"1131.933594\" xlink:href=\"#DejaVuSans-112\"/>\n     <use x=\"1195.410156\" xlink:href=\"#DejaVuSans-97\"/>\n     <use x=\"1256.689453\" xlink:href=\"#DejaVuSans-103\"/>\n     <use x=\"1320.166016\" xlink:href=\"#DejaVuSans-110\"/>\n     <use x=\"1383.544922\" xlink:href=\"#DejaVuSans-105\"/>\n     <use x=\"1411.328125\" xlink:href=\"#DejaVuSans-101\"/>\n     <use x=\"1472.851562\" xlink:href=\"#DejaVuSans-115\"/>\n     <use x=\"1524.951172\" xlink:href=\"#DejaVuSans-32\"/>\n     <use x=\"1556.738281\" xlink:href=\"#DejaVuSans-97\"/>\n     <use x=\"1618.017578\" xlink:href=\"#DejaVuSans-233\"/>\n     <use x=\"1679.541016\" xlink:href=\"#DejaVuSans-114\"/>\n     <use x=\"1720.654297\" xlink:href=\"#DejaVuSans-105\"/>\n     <use x=\"1748.4375\" xlink:href=\"#DejaVuSans-101\"/>\n     <use x=\"1809.960938\" xlink:href=\"#DejaVuSans-110\"/>\n     <use x=\"1873.339844\" xlink:href=\"#DejaVuSans-110\"/>\n     <use x=\"1936.71875\" xlink:href=\"#DejaVuSans-101\"/>\n     <use x=\"1998.242188\" xlink:href=\"#DejaVuSans-115\"/>\n     <use x=\"2050.341797\" xlink:href=\"#DejaVuSans-32\"/>\n     <use x=\"2082.128906\" xlink:href=\"#DejaVuSans-99\"/>\n     <use x=\"2137.109375\" xlink:href=\"#DejaVuSans-108\"/>\n     <use x=\"2164.892578\" xlink:href=\"#DejaVuSans-97\"/>\n     <use x=\"2226.171875\" xlink:href=\"#DejaVuSans-115\"/>\n     <use x=\"2278.271484\" xlink:href=\"#DejaVuSans-115\"/>\n     <use x=\"2330.371094\" xlink:href=\"#DejaVuSans-233\"/>\n     <use x=\"2391.894531\" xlink:href=\"#DejaVuSans-101\"/>\n     <use x=\"2453.417969\" xlink:href=\"#DejaVuSans-115\"/>\n     <use x=\"2505.517578\" xlink:href=\"#DejaVuSans-32\"/>\n     <use x=\"2537.304688\" xlink:href=\"#DejaVuSans-115\"/>\n     <use x=\"2589.404297\" xlink:href=\"#DejaVuSans-101\"/>\n     <use x=\"2650.927734\" xlink:href=\"#DejaVuSans-108\"/>\n     <use x=\"2678.710938\" xlink:href=\"#DejaVuSans-111\"/>\n     <use x=\"2739.892578\" xlink:href=\"#DejaVuSans-110\"/>\n     <use x=\"2803.271484\" xlink:href=\"#DejaVuSans-32\"/>\n     <use x=\"2835.058594\" xlink:href=\"#DejaVuSans-108\"/>\n     <use x=\"2862.841797\" xlink:href=\"#DejaVuSans-101\"/>\n     <use x=\"2924.365234\" xlink:href=\"#DejaVuSans-115\"/>\n     <use x=\"2976.464844\" xlink:href=\"#DejaVuSans-32\"/>\n     <use x=\"3008.251953\" xlink:href=\"#DejaVuSans-51\"/>\n     <use x=\"3071.875\" xlink:href=\"#DejaVuSans-32\"/>\n     <use x=\"3103.662109\" xlink:href=\"#DejaVuSans-99\"/>\n     <use x=\"3158.642578\" xlink:href=\"#DejaVuSans-114\"/>\n     <use x=\"3199.755859\" xlink:href=\"#DejaVuSans-105\"/>\n     <use x=\"3227.539062\" xlink:href=\"#DejaVuSans-116\"/>\n     <use x=\"3266.748047\" xlink:href=\"#DejaVuSans-232\"/>\n     <use x=\"3328.271484\" xlink:href=\"#DejaVuSans-114\"/>\n     <use x=\"3367.134766\" xlink:href=\"#DejaVuSans-101\"/>\n     <use x=\"3428.658203\" xlink:href=\"#DejaVuSans-115\"/>\n     <use x=\"3480.757812\" xlink:href=\"#DejaVuSans-32\"/>\n     <use x=\"3512.544922\" xlink:href=\"#DejaVuSans-115\"/>\n     <use x=\"3564.644531\" xlink:href=\"#DejaVuSans-117\"/>\n     <use x=\"3628.023438\" xlink:href=\"#DejaVuSans-114\"/>\n     <use x=\"3669.136719\" xlink:href=\"#DejaVuSans-32\"/>\n     <use x=\"3700.923828\" xlink:href=\"#DejaVuSans-108\"/>\n     <use x=\"3728.707031\" xlink:href=\"#DejaVuSans-97\"/>\n     <use x=\"3789.986328\" xlink:href=\"#DejaVuSans-32\"/>\n     <use x=\"3821.773438\" xlink:href=\"#DejaVuSans-112\"/>\n     <use x=\"3885.25\" xlink:href=\"#DejaVuSans-233\"/>\n     <use x=\"3946.773438\" xlink:href=\"#DejaVuSans-114\"/>\n     <use x=\"3987.886719\" xlink:href=\"#DejaVuSans-105\"/>\n     <use x=\"4015.669922\" xlink:href=\"#DejaVuSans-111\"/>\n     <use x=\"4076.851562\" xlink:href=\"#DejaVuSans-100\"/>\n     <use x=\"4140.328125\" xlink:href=\"#DejaVuSans-101\"/>\n     <use x=\"4201.851562\" xlink:href=\"#DejaVuSans-32\"/>\n     <use x=\"4233.638672\" xlink:href=\"#DejaVuSans-50\"/>\n     <use x=\"4297.261719\" xlink:href=\"#DejaVuSans-48\"/>\n     <use x=\"4360.884766\" xlink:href=\"#DejaVuSans-49\"/>\n     <use x=\"4424.507812\" xlink:href=\"#DejaVuSans-52\"/>\n     <use x=\"4488.130859\" xlink:href=\"#DejaVuSans-45\"/>\n     <use x=\"4524.214844\" xlink:href=\"#DejaVuSans-50\"/>\n     <use x=\"4587.837891\" xlink:href=\"#DejaVuSans-48\"/>\n     <use x=\"4651.460938\" xlink:href=\"#DejaVuSans-50\"/>\n     <use x=\"4715.083984\" xlink:href=\"#DejaVuSans-48\"/>\n    </g>\n   </g>\n   <g id=\"legend_1\">\n    <g id=\"patch_394\">\n     <path d=\"M 612.332813 164.221875 \nL 1149.598438 164.221875 \nQ 1153.598438 164.221875 1153.598438 160.221875 \nL 1153.598438 43.196875 \nQ 1153.598438 39.196875 1149.598438 39.196875 \nL 612.332813 39.196875 \nQ 608.332813 39.196875 608.332813 43.196875 \nL 608.332813 160.221875 \nQ 608.332813 164.221875 612.332813 164.221875 \nz\n\" style=\"fill:#ffffff;opacity:0.8;stroke:#cccccc;stroke-linejoin:miter;\"/>\n    </g>\n    <g id=\"line2d_139\">\n     <path d=\"M 616.332813 55.39375 \nL 656.332813 55.39375 \n\" style=\"fill:none;stroke:#ff0000;stroke-linecap:square;stroke-width:1.5;\"/>\n    </g>\n    <g id=\"line2d_140\"/>\n    <g id=\"text_139\">\n     <!-- x = 23 -->\n     <g transform=\"translate(672.332813 62.39375)scale(0.2 -0.2)\">\n      <defs>\n       <path d=\"M 10.59375 45.40625 \nL 73.1875 45.40625 \nL 73.1875 37.203125 \nL 10.59375 37.203125 \nz\nM 10.59375 25.484375 \nL 73.1875 25.484375 \nL 73.1875 17.1875 \nL 10.59375 17.1875 \nz\n\" id=\"DejaVuSans-61\"/>\n      </defs>\n      <use xlink:href=\"#DejaVuSans-120\"/>\n      <use x=\"59.179688\" xlink:href=\"#DejaVuSans-32\"/>\n      <use x=\"90.966797\" xlink:href=\"#DejaVuSans-61\"/>\n      <use x=\"174.755859\" xlink:href=\"#DejaVuSans-32\"/>\n      <use x=\"206.542969\" xlink:href=\"#DejaVuSans-50\"/>\n      <use x=\"270.166016\" xlink:href=\"#DejaVuSans-51\"/>\n     </g>\n    </g>\n    <g id=\"patch_395\">\n     <path d=\"M 616.332813 92.55 \nL 656.332813 92.55 \nL 656.332813 78.55 \nL 616.332813 78.55 \nz\n\" style=\"fill:#f3a0f2;\"/>\n    </g>\n    <g id=\"text_140\">\n     <!-- Nombre moyen de vols mensuels (standardisé) -->\n     <g transform=\"translate(672.332813 92.55)scale(0.2 -0.2)\">\n      <defs>\n       <path d=\"M 31 75.875 \nQ 24.46875 64.65625 21.28125 53.65625 \nQ 18.109375 42.671875 18.109375 31.390625 \nQ 18.109375 20.125 21.3125 9.0625 \nQ 24.515625 -2 31 -13.1875 \nL 23.1875 -13.1875 \nQ 15.875 -1.703125 12.234375 9.375 \nQ 8.59375 20.453125 8.59375 31.390625 \nQ 8.59375 42.28125 12.203125 53.3125 \nQ 15.828125 64.359375 23.1875 75.875 \nz\n\" id=\"DejaVuSans-40\"/>\n       <path d=\"M 8.015625 75.875 \nL 15.828125 75.875 \nQ 23.140625 64.359375 26.78125 53.3125 \nQ 30.421875 42.28125 30.421875 31.390625 \nQ 30.421875 20.453125 26.78125 9.375 \nQ 23.140625 -1.703125 15.828125 -13.1875 \nL 8.015625 -13.1875 \nQ 14.5 -2 17.703125 9.0625 \nQ 20.90625 20.125 20.90625 31.390625 \nQ 20.90625 42.671875 17.703125 53.65625 \nQ 14.5 64.65625 8.015625 75.875 \nz\n\" id=\"DejaVuSans-41\"/>\n      </defs>\n      <use xlink:href=\"#DejaVuSans-78\"/>\n      <use x=\"74.804688\" xlink:href=\"#DejaVuSans-111\"/>\n      <use x=\"135.986328\" xlink:href=\"#DejaVuSans-109\"/>\n      <use x=\"233.398438\" xlink:href=\"#DejaVuSans-98\"/>\n      <use x=\"296.875\" xlink:href=\"#DejaVuSans-114\"/>\n      <use x=\"335.738281\" xlink:href=\"#DejaVuSans-101\"/>\n      <use x=\"397.261719\" xlink:href=\"#DejaVuSans-32\"/>\n      <use x=\"429.048828\" xlink:href=\"#DejaVuSans-109\"/>\n      <use x=\"526.460938\" xlink:href=\"#DejaVuSans-111\"/>\n      <use x=\"587.642578\" xlink:href=\"#DejaVuSans-121\"/>\n      <use x=\"646.822266\" xlink:href=\"#DejaVuSans-101\"/>\n      <use x=\"708.345703\" xlink:href=\"#DejaVuSans-110\"/>\n      <use x=\"771.724609\" xlink:href=\"#DejaVuSans-32\"/>\n      <use x=\"803.511719\" xlink:href=\"#DejaVuSans-100\"/>\n      <use x=\"866.988281\" xlink:href=\"#DejaVuSans-101\"/>\n      <use x=\"928.511719\" xlink:href=\"#DejaVuSans-32\"/>\n      <use x=\"960.298828\" xlink:href=\"#DejaVuSans-118\"/>\n      <use x=\"1019.478516\" xlink:href=\"#DejaVuSans-111\"/>\n      <use x=\"1080.660156\" xlink:href=\"#DejaVuSans-108\"/>\n      <use x=\"1108.443359\" xlink:href=\"#DejaVuSans-115\"/>\n      <use x=\"1160.542969\" xlink:href=\"#DejaVuSans-32\"/>\n      <use x=\"1192.330078\" xlink:href=\"#DejaVuSans-109\"/>\n      <use x=\"1289.742188\" xlink:href=\"#DejaVuSans-101\"/>\n      <use x=\"1351.265625\" xlink:href=\"#DejaVuSans-110\"/>\n      <use x=\"1414.644531\" xlink:href=\"#DejaVuSans-115\"/>\n      <use x=\"1466.744141\" xlink:href=\"#DejaVuSans-117\"/>\n      <use x=\"1530.123047\" xlink:href=\"#DejaVuSans-101\"/>\n      <use x=\"1591.646484\" xlink:href=\"#DejaVuSans-108\"/>\n      <use x=\"1619.429688\" xlink:href=\"#DejaVuSans-115\"/>\n      <use x=\"1671.529297\" xlink:href=\"#DejaVuSans-32\"/>\n      <use x=\"1703.316406\" xlink:href=\"#DejaVuSans-40\"/>\n      <use x=\"1742.330078\" xlink:href=\"#DejaVuSans-115\"/>\n      <use x=\"1794.429688\" xlink:href=\"#DejaVuSans-116\"/>\n      <use x=\"1833.638672\" xlink:href=\"#DejaVuSans-97\"/>\n      <use x=\"1894.917969\" xlink:href=\"#DejaVuSans-110\"/>\n      <use x=\"1958.296875\" xlink:href=\"#DejaVuSans-100\"/>\n      <use x=\"2021.773438\" xlink:href=\"#DejaVuSans-97\"/>\n      <use x=\"2083.052734\" xlink:href=\"#DejaVuSans-114\"/>\n      <use x=\"2122.416016\" xlink:href=\"#DejaVuSans-100\"/>\n      <use x=\"2185.892578\" xlink:href=\"#DejaVuSans-105\"/>\n      <use x=\"2213.675781\" xlink:href=\"#DejaVuSans-115\"/>\n      <use x=\"2265.775391\" xlink:href=\"#DejaVuSans-233\"/>\n      <use x=\"2327.298828\" xlink:href=\"#DejaVuSans-41\"/>\n     </g>\n    </g>\n    <g id=\"patch_396\">\n     <path d=\"M 616.332813 122.70625 \nL 656.332813 122.70625 \nL 656.332813 108.70625 \nL 616.332813 108.70625 \nz\n\" style=\"fill:#47dbcd;\"/>\n    </g>\n    <g id=\"text_141\">\n     <!-- Nombre total de passagers (standardisé) -->\n     <g transform=\"translate(672.332813 122.70625)scale(0.2 -0.2)\">\n      <use xlink:href=\"#DejaVuSans-78\"/>\n      <use x=\"74.804688\" xlink:href=\"#DejaVuSans-111\"/>\n      <use x=\"135.986328\" xlink:href=\"#DejaVuSans-109\"/>\n      <use x=\"233.398438\" xlink:href=\"#DejaVuSans-98\"/>\n      <use x=\"296.875\" xlink:href=\"#DejaVuSans-114\"/>\n      <use x=\"335.738281\" xlink:href=\"#DejaVuSans-101\"/>\n      <use x=\"397.261719\" xlink:href=\"#DejaVuSans-32\"/>\n      <use x=\"429.048828\" xlink:href=\"#DejaVuSans-116\"/>\n      <use x=\"468.257812\" xlink:href=\"#DejaVuSans-111\"/>\n      <use x=\"529.439453\" xlink:href=\"#DejaVuSans-116\"/>\n      <use x=\"568.648438\" xlink:href=\"#DejaVuSans-97\"/>\n      <use x=\"629.927734\" xlink:href=\"#DejaVuSans-108\"/>\n      <use x=\"657.710938\" xlink:href=\"#DejaVuSans-32\"/>\n      <use x=\"689.498047\" xlink:href=\"#DejaVuSans-100\"/>\n      <use x=\"752.974609\" xlink:href=\"#DejaVuSans-101\"/>\n      <use x=\"814.498047\" xlink:href=\"#DejaVuSans-32\"/>\n      <use x=\"846.285156\" xlink:href=\"#DejaVuSans-112\"/>\n      <use x=\"909.761719\" xlink:href=\"#DejaVuSans-97\"/>\n      <use x=\"971.041016\" xlink:href=\"#DejaVuSans-115\"/>\n      <use x=\"1023.140625\" xlink:href=\"#DejaVuSans-115\"/>\n      <use x=\"1075.240234\" xlink:href=\"#DejaVuSans-97\"/>\n      <use x=\"1136.519531\" xlink:href=\"#DejaVuSans-103\"/>\n      <use x=\"1199.996094\" xlink:href=\"#DejaVuSans-101\"/>\n      <use x=\"1261.519531\" xlink:href=\"#DejaVuSans-114\"/>\n      <use x=\"1302.632812\" xlink:href=\"#DejaVuSans-115\"/>\n      <use x=\"1354.732422\" xlink:href=\"#DejaVuSans-32\"/>\n      <use x=\"1386.519531\" xlink:href=\"#DejaVuSans-40\"/>\n      <use x=\"1425.533203\" xlink:href=\"#DejaVuSans-115\"/>\n      <use x=\"1477.632812\" xlink:href=\"#DejaVuSans-116\"/>\n      <use x=\"1516.841797\" xlink:href=\"#DejaVuSans-97\"/>\n      <use x=\"1578.121094\" xlink:href=\"#DejaVuSans-110\"/>\n      <use x=\"1641.5\" xlink:href=\"#DejaVuSans-100\"/>\n      <use x=\"1704.976562\" xlink:href=\"#DejaVuSans-97\"/>\n      <use x=\"1766.255859\" xlink:href=\"#DejaVuSans-114\"/>\n      <use x=\"1805.619141\" xlink:href=\"#DejaVuSans-100\"/>\n      <use x=\"1869.095703\" xlink:href=\"#DejaVuSans-105\"/>\n      <use x=\"1896.878906\" xlink:href=\"#DejaVuSans-115\"/>\n      <use x=\"1948.978516\" xlink:href=\"#DejaVuSans-233\"/>\n      <use x=\"2010.501953\" xlink:href=\"#DejaVuSans-41\"/>\n     </g>\n    </g>\n    <g id=\"patch_397\">\n     <path d=\"M 616.332813 152.0625 \nL 656.332813 152.0625 \nL 656.332813 138.0625 \nL 616.332813 138.0625 \nz\n\" style=\"fill:#f5b14c;\"/>\n    </g>\n    <g id=\"text_142\">\n     <!-- Nombre Total de vols (standardisé) -->\n     <g transform=\"translate(672.332813 152.0625)scale(0.2 -0.2)\">\n      <use xlink:href=\"#DejaVuSans-78\"/>\n      <use x=\"74.804688\" xlink:href=\"#DejaVuSans-111\"/>\n      <use x=\"135.986328\" xlink:href=\"#DejaVuSans-109\"/>\n      <use x=\"233.398438\" xlink:href=\"#DejaVuSans-98\"/>\n      <use x=\"296.875\" xlink:href=\"#DejaVuSans-114\"/>\n      <use x=\"335.738281\" xlink:href=\"#DejaVuSans-101\"/>\n      <use x=\"397.261719\" xlink:href=\"#DejaVuSans-32\"/>\n      <use x=\"429.048828\" xlink:href=\"#DejaVuSans-84\"/>\n      <use x=\"473.132812\" xlink:href=\"#DejaVuSans-111\"/>\n      <use x=\"534.314453\" xlink:href=\"#DejaVuSans-116\"/>\n      <use x=\"573.523438\" xlink:href=\"#DejaVuSans-97\"/>\n      <use x=\"634.802734\" xlink:href=\"#DejaVuSans-108\"/>\n      <use x=\"662.585938\" xlink:href=\"#DejaVuSans-32\"/>\n      <use x=\"694.373047\" xlink:href=\"#DejaVuSans-100\"/>\n      <use x=\"757.849609\" xlink:href=\"#DejaVuSans-101\"/>\n      <use x=\"819.373047\" xlink:href=\"#DejaVuSans-32\"/>\n      <use x=\"851.160156\" xlink:href=\"#DejaVuSans-118\"/>\n      <use x=\"910.339844\" xlink:href=\"#DejaVuSans-111\"/>\n      <use x=\"971.521484\" xlink:href=\"#DejaVuSans-108\"/>\n      <use x=\"999.304688\" xlink:href=\"#DejaVuSans-115\"/>\n      <use x=\"1051.404297\" xlink:href=\"#DejaVuSans-32\"/>\n      <use x=\"1083.191406\" xlink:href=\"#DejaVuSans-40\"/>\n      <use x=\"1122.205078\" xlink:href=\"#DejaVuSans-115\"/>\n      <use x=\"1174.304688\" xlink:href=\"#DejaVuSans-116\"/>\n      <use x=\"1213.513672\" xlink:href=\"#DejaVuSans-97\"/>\n      <use x=\"1274.792969\" xlink:href=\"#DejaVuSans-110\"/>\n      <use x=\"1338.171875\" xlink:href=\"#DejaVuSans-100\"/>\n      <use x=\"1401.648438\" xlink:href=\"#DejaVuSans-97\"/>\n      <use x=\"1462.927734\" xlink:href=\"#DejaVuSans-114\"/>\n      <use x=\"1502.291016\" xlink:href=\"#DejaVuSans-100\"/>\n      <use x=\"1565.767578\" xlink:href=\"#DejaVuSans-105\"/>\n      <use x=\"1593.550781\" xlink:href=\"#DejaVuSans-115\"/>\n      <use x=\"1645.650391\" xlink:href=\"#DejaVuSans-233\"/>\n      <use x=\"1707.173828\" xlink:href=\"#DejaVuSans-41\"/>\n     </g>\n    </g>\n   </g>\n  </g>\n </g>\n <defs>\n  <clipPath id=\"p42bd252d03\">\n   <rect height=\"434.88\" width=\"1116\" x=\"47.598438\" y=\"29.196875\"/>\n  </clipPath>\n </defs>\n</svg>\n",
            "image/png": "[encoded data removed]"
          },
          "metadata": {
            "tags": [],
            "needs_background": "light"
          }
        }
      ]
    },
    {
      "cell_type": "code",
      "metadata": {
        "id": "hrCBkWIAjfT8",
        "colab": {
          "base_uri": "https://localhost:8080/"
        },
        "outputId": "353e9c54-50a6-4c91-c8ac-c952b1b26794"
      },
      "source": [
        "carriers_f = copy.iloc[:22, :].reset_index(drop=True)['UNIQUE_CARRIER_NAME'].to_numpy().tolist()\n",
        "print(\"List of Carriers to use :\")\n",
        "print('------------------------------')\n",
        "print(*carriers_f,sep='\\n')"
      ],
      "execution_count": null,
      "outputs": [
        {
          "output_type": "stream",
          "text": [
            "List of Carriers to use :\n",
            "------------------------------\n",
            "Southwest Airlines Co.\n",
            "Delta Air Lines Inc.\n",
            "United Air Lines Inc.\n",
            "American Airlines Inc.\n",
            "SkyWest Airlines Inc.\n",
            "ExpressJet Airlines LLC\n",
            "Alaska Airlines Inc.\n",
            "Allegiant Air\n",
            "Republic Airline\n",
            "JetBlue Airways\n",
            "Envoy Air\n",
            "Spirit Air Lines\n",
            "Frontier Airlines Inc.\n",
            "Endeavor Air Inc.\n",
            "PSA Airlines Inc.\n",
            "US Airways Inc.\n",
            "Mesa Airlines Inc.\n",
            "Shuttle America Corp.\n",
            "GoJet Airlines LLC d/b/a United Express\n",
            "Sun Country Airlines d/b/a MN Airlines\n",
            "Grant Aviation\n",
            "Air Wisconsin Airlines Corp\n"
          ],
          "name": "stdout"
        }
      ]
    },
    {
      "cell_type": "markdown",
      "metadata": {
        "id": "4W-6lptN4F5v"
      },
      "source": [
        "### Calculate Load Factor"
      ]
    },
    {
      "cell_type": "code",
      "metadata": {
        "id": "zJUDeMSaAz7F"
      },
      "source": [
        "def extract_monthly_load_factor(data):\r\n",
        "  tmp = data.groupby(['UNIQUE_CARRIER_NAME', 'DATE'])[\"RPM\"].sum().reset_index(name=\"RPM_SUM\")\r\n",
        "  tmp2 = data.groupby(['UNIQUE_CARRIER_NAME', 'DATE'])[\"ASM\"].sum().reset_index(name=\"ASM_SUM\")\r\n",
        "  merged = tmp.merge(tmp2, on=['UNIQUE_CARRIER_NAME', 'DATE'])\r\n",
        "  merged[\"LOAD_FACTOR\"] = merged[\"RPM_SUM\"]/merged[\"ASM_SUM\"]\r\n",
        "  merged.drop(columns=['RPM_SUM', 'ASM_SUM'], inplace=True)\r\n",
        "  return merged"
      ],
      "execution_count": null,
      "outputs": []
    },
    {
      "cell_type": "code",
      "metadata": {
        "colab": {
          "base_uri": "https://localhost:8080/",
          "height": 203
        },
        "id": "ui1bEOWIAsc4",
        "outputId": "2939926c-01a5-423f-c00e-923a67cb3135"
      },
      "source": [
        "load_factor_data = extract_monthly_load_factor(df)\r\n",
        "load_factor_data.head()"
      ],
      "execution_count": null,
      "outputs": [
        {
          "output_type": "execute_result",
          "data": {
            "text/plain": [
              "  UNIQUE_CARRIER_NAME       DATE  LOAD_FACTOR\n",
              "0         40-Mile Air 2014-01-01     0.200901\n",
              "1         40-Mile Air 2014-02-01     0.128607\n",
              "2         40-Mile Air 2014-03-01     0.206155\n",
              "3         40-Mile Air 2014-04-01     0.272549\n",
              "4         40-Mile Air 2014-05-01     0.334689"
            ],
            "text/html": [
              "<div>\n",
              "<style scoped>\n",
              "    .dataframe tbody tr th:only-of-type {\n",
              "        vertical-align: middle;\n",
              "    }\n",
              "\n",
              "    .dataframe tbody tr th {\n",
              "        vertical-align: top;\n",
              "    }\n",
              "\n",
              "    .dataframe thead th {\n",
              "        text-align: right;\n",
              "    }\n",
              "</style>\n",
              "<table border=\"1\" class=\"dataframe\">\n",
              "  <thead>\n",
              "    <tr style=\"text-align: right;\">\n",
              "      <th></th>\n",
              "      <th>UNIQUE_CARRIER_NAME</th>\n",
              "      <th>DATE</th>\n",
              "      <th>LOAD_FACTOR</th>\n",
              "    </tr>\n",
              "  </thead>\n",
              "  <tbody>\n",
              "    <tr>\n",
              "      <th>0</th>\n",
              "      <td>40-Mile Air</td>\n",
              "      <td>2014-01-01</td>\n",
              "      <td>0.200901</td>\n",
              "    </tr>\n",
              "    <tr>\n",
              "      <th>1</th>\n",
              "      <td>40-Mile Air</td>\n",
              "      <td>2014-02-01</td>\n",
              "      <td>0.128607</td>\n",
              "    </tr>\n",
              "    <tr>\n",
              "      <th>2</th>\n",
              "      <td>40-Mile Air</td>\n",
              "      <td>2014-03-01</td>\n",
              "      <td>0.206155</td>\n",
              "    </tr>\n",
              "    <tr>\n",
              "      <th>3</th>\n",
              "      <td>40-Mile Air</td>\n",
              "      <td>2014-04-01</td>\n",
              "      <td>0.272549</td>\n",
              "    </tr>\n",
              "    <tr>\n",
              "      <th>4</th>\n",
              "      <td>40-Mile Air</td>\n",
              "      <td>2014-05-01</td>\n",
              "      <td>0.334689</td>\n",
              "    </tr>\n",
              "  </tbody>\n",
              "</table>\n",
              "</div>"
            ]
          },
          "metadata": {
            "tags": []
          },
          "execution_count": 11
        }
      ]
    },
    {
      "cell_type": "markdown",
      "metadata": {
        "id": "kpg29bY1yJQp"
      },
      "source": [
        "## Add Some General Statistics\n",
        "---\n",
        "- Fuel price\n",
        "- PMI factor\n",
        "- Unemployment rate"
      ]
    },
    {
      "cell_type": "code",
      "metadata": {
        "colab": {
          "base_uri": "https://localhost:8080/",
          "height": 203
        },
        "id": "DslgnyOQbHB_",
        "outputId": "4110ceaf-923d-4865-918a-f8151815495d"
      },
      "source": [
        "fuel_price_barrel = pd.read_excel(path + \"For_Professors/wti.xlsx\")\n",
        "fuel_price_barrel['Date'] = pd.to_datetime(fuel_price_barrel['Date']).apply(lambda x: x.replace(day=1))\n",
        "fuel_price_barrel.rename(columns={'Close(CLc1)': 'Price', 'Date': 'DATE'}, inplace=True)\n",
        "fuel_price_barrel.head()"
      ],
      "execution_count": null,
      "outputs": [
        {
          "output_type": "execute_result",
          "data": {
            "text/plain": [
              "        DATE  Price\n",
              "0 2020-12-01  48.42\n",
              "1 2020-11-01  45.06\n",
              "2 2020-10-01  35.72\n",
              "3 2020-09-01  39.86\n",
              "4 2020-08-01  42.82"
            ],
            "text/html": [
              "<div>\n",
              "<style scoped>\n",
              "    .dataframe tbody tr th:only-of-type {\n",
              "        vertical-align: middle;\n",
              "    }\n",
              "\n",
              "    .dataframe tbody tr th {\n",
              "        vertical-align: top;\n",
              "    }\n",
              "\n",
              "    .dataframe thead th {\n",
              "        text-align: right;\n",
              "    }\n",
              "</style>\n",
              "<table border=\"1\" class=\"dataframe\">\n",
              "  <thead>\n",
              "    <tr style=\"text-align: right;\">\n",
              "      <th></th>\n",
              "      <th>DATE</th>\n",
              "      <th>Price</th>\n",
              "    </tr>\n",
              "  </thead>\n",
              "  <tbody>\n",
              "    <tr>\n",
              "      <th>0</th>\n",
              "      <td>2020-12-01</td>\n",
              "      <td>48.42</td>\n",
              "    </tr>\n",
              "    <tr>\n",
              "      <th>1</th>\n",
              "      <td>2020-11-01</td>\n",
              "      <td>45.06</td>\n",
              "    </tr>\n",
              "    <tr>\n",
              "      <th>2</th>\n",
              "      <td>2020-10-01</td>\n",
              "      <td>35.72</td>\n",
              "    </tr>\n",
              "    <tr>\n",
              "      <th>3</th>\n",
              "      <td>2020-09-01</td>\n",
              "      <td>39.86</td>\n",
              "    </tr>\n",
              "    <tr>\n",
              "      <th>4</th>\n",
              "      <td>2020-08-01</td>\n",
              "      <td>42.82</td>\n",
              "    </tr>\n",
              "  </tbody>\n",
              "</table>\n",
              "</div>"
            ]
          },
          "metadata": {
            "tags": []
          },
          "execution_count": 12
        }
      ]
    },
    {
      "cell_type": "code",
      "metadata": {
        "colab": {
          "base_uri": "https://localhost:8080/",
          "height": 203
        },
        "id": "7VP2vK8NyMjA",
        "outputId": "f7c5aae4-606b-4bdb-dc57-11082dfc7438"
      },
      "source": [
        "PMI_data = pd.read_excel(path + 'For_Professors/Economic-Indicator_United-States-ISM-Manufacturing-PMI_2-Jan-2021.xlsx', sheet_name='First Release Data', header = 3)\n",
        "PMI_data.drop(index=0, inplace=True)\n",
        "PMI_data['Original Release Date'] = pd.to_datetime(PMI_data['Original Release Date']).apply(lambda x: x.replace(day=1))\n",
        "PMI_data['Original Release Date'] = [d.date() for d in PMI_data['Original Release Date']]\n",
        "PMI_data.rename(columns={'Original Release Date' : 'DATE', 'First Release': 'PMI'}, inplace=True)\n",
        "PMI_data.drop(columns=['Period'], inplace=True)\n",
        "PMI_data.head()"
      ],
      "execution_count": null,
      "outputs": [
        {
          "output_type": "execute_result",
          "data": {
            "text/plain": [
              "         DATE   PMI\n",
              "1  2020-12-01  57.5\n",
              "2  2020-11-01  59.3\n",
              "3  2020-10-01  55.4\n",
              "4  2020-09-01  56.0\n",
              "5  2020-08-01  54.2"
            ],
            "text/html": [
              "<div>\n",
              "<style scoped>\n",
              "    .dataframe tbody tr th:only-of-type {\n",
              "        vertical-align: middle;\n",
              "    }\n",
              "\n",
              "    .dataframe tbody tr th {\n",
              "        vertical-align: top;\n",
              "    }\n",
              "\n",
              "    .dataframe thead th {\n",
              "        text-align: right;\n",
              "    }\n",
              "</style>\n",
              "<table border=\"1\" class=\"dataframe\">\n",
              "  <thead>\n",
              "    <tr style=\"text-align: right;\">\n",
              "      <th></th>\n",
              "      <th>DATE</th>\n",
              "      <th>PMI</th>\n",
              "    </tr>\n",
              "  </thead>\n",
              "  <tbody>\n",
              "    <tr>\n",
              "      <th>1</th>\n",
              "      <td>2020-12-01</td>\n",
              "      <td>57.5</td>\n",
              "    </tr>\n",
              "    <tr>\n",
              "      <th>2</th>\n",
              "      <td>2020-11-01</td>\n",
              "      <td>59.3</td>\n",
              "    </tr>\n",
              "    <tr>\n",
              "      <th>3</th>\n",
              "      <td>2020-10-01</td>\n",
              "      <td>55.4</td>\n",
              "    </tr>\n",
              "    <tr>\n",
              "      <th>4</th>\n",
              "      <td>2020-09-01</td>\n",
              "      <td>56.0</td>\n",
              "    </tr>\n",
              "    <tr>\n",
              "      <th>5</th>\n",
              "      <td>2020-08-01</td>\n",
              "      <td>54.2</td>\n",
              "    </tr>\n",
              "  </tbody>\n",
              "</table>\n",
              "</div>"
            ]
          },
          "metadata": {
            "tags": []
          },
          "execution_count": 13
        }
      ]
    },
    {
      "cell_type": "code",
      "metadata": {
        "colab": {
          "base_uri": "https://localhost:8080/",
          "height": 203
        },
        "id": "ahHi8t4Y2PgE",
        "outputId": "a3eb5ae0-2d90-4f60-84ad-32cf86ba0cf9"
      },
      "source": [
        "unemployment_data = pd.read_excel(path + 'For_Professors/Economic-Indicator_United-States-Unemployment-Rate__2-Jan-2021.xlsx', sheet_name='First Release Data', header = 3)\n",
        "unemployment_data.drop(index=0, inplace=True)\n",
        "unemployment_data['Original Release Date'] = pd.to_datetime(unemployment_data['Original Release Date']).apply(lambda x: x.replace(day=1))\n",
        "unemployment_data['Original Release Date'] = [d.date() for d in unemployment_data['Original Release Date']]\n",
        "unemployment_data.drop(columns=['Period'], inplace=True)\n",
        "unemployment_data.rename(columns={'Original Release Date': 'DATE', 'First Release': 'UNEMPLOYMENT'}, inplace=True)\n",
        "unemployment_data.head()"
      ],
      "execution_count": null,
      "outputs": [
        {
          "output_type": "execute_result",
          "data": {
            "text/plain": [
              "         DATE UNEMPLOYMENT\n",
              "1  2020-12-01         6.7%\n",
              "2  2020-11-01         6.9%\n",
              "3  2020-10-01         7.9%\n",
              "4  2020-09-01         8.4%\n",
              "5  2020-08-01        10.2%"
            ],
            "text/html": [
              "<div>\n",
              "<style scoped>\n",
              "    .dataframe tbody tr th:only-of-type {\n",
              "        vertical-align: middle;\n",
              "    }\n",
              "\n",
              "    .dataframe tbody tr th {\n",
              "        vertical-align: top;\n",
              "    }\n",
              "\n",
              "    .dataframe thead th {\n",
              "        text-align: right;\n",
              "    }\n",
              "</style>\n",
              "<table border=\"1\" class=\"dataframe\">\n",
              "  <thead>\n",
              "    <tr style=\"text-align: right;\">\n",
              "      <th></th>\n",
              "      <th>DATE</th>\n",
              "      <th>UNEMPLOYMENT</th>\n",
              "    </tr>\n",
              "  </thead>\n",
              "  <tbody>\n",
              "    <tr>\n",
              "      <th>1</th>\n",
              "      <td>2020-12-01</td>\n",
              "      <td>6.7%</td>\n",
              "    </tr>\n",
              "    <tr>\n",
              "      <th>2</th>\n",
              "      <td>2020-11-01</td>\n",
              "      <td>6.9%</td>\n",
              "    </tr>\n",
              "    <tr>\n",
              "      <th>3</th>\n",
              "      <td>2020-10-01</td>\n",
              "      <td>7.9%</td>\n",
              "    </tr>\n",
              "    <tr>\n",
              "      <th>4</th>\n",
              "      <td>2020-09-01</td>\n",
              "      <td>8.4%</td>\n",
              "    </tr>\n",
              "    <tr>\n",
              "      <th>5</th>\n",
              "      <td>2020-08-01</td>\n",
              "      <td>10.2%</td>\n",
              "    </tr>\n",
              "  </tbody>\n",
              "</table>\n",
              "</div>"
            ]
          },
          "metadata": {
            "tags": []
          },
          "execution_count": 14
        }
      ]
    },
    {
      "cell_type": "code",
      "metadata": {
        "id": "uR3Of0ismm48",
        "outputId": "61c67090-c487-42db-a663-266600873465"
      },
      "source": [
        "df = df[df['UNIQUE_CARRIER_NAME'].isin(carriers_f)]\n",
        "df.head()"
      ],
      "execution_count": null,
      "outputs": [
        {
          "output_type": "execute_result",
          "data": {
            "text/plain": [
              "    DEPARTURES_SCHEDULED  DEPARTURES_PERFORMED  PAYLOAD  SEATS  PASSENGERS  FREIGHT   MAIL  DISTANCE UNIQUE_CARRIER  AIRLINE_ID    UNIQUE_CARRIER_NAME           CARRIER_NAME  CARRIER_GROUP  ORIGIN_AIRPORT_ID ORIGIN ORIGIN_CITY_NAME ORIGIN_STATE_ABR  DEST_AIRPORT_ID DEST    DEST_CITY_NAME DEST_STATE_ABR  AIRCRAFT_GROUP  AIRCRAFT_TYPE  AIRCRAFT_CONFIG  YEAR  MONTH  DISTANCE_GROUP CLASS       DATE       RPM       ASM\n",
              "52                   0.0                   1.0  38758.0  154.0        81.0   6742.0    0.0     589.0             UA     19977.0  United Air Lines Inc.  United Air Lines Inc.              3              13930    ORD      Chicago, IL               IL            12264  IAD    Washington, DC             VA               6            614                1  2014      8               2     L 2014-08-01   47709.0   90706.0\n",
              "53                   0.0                   1.0  38250.0  167.0       166.0      0.0  498.0     864.0             UA     19977.0  United Air Lines Inc.  United Air Lines Inc.              3              13930    ORD      Chicago, IL               IL            12451  JAX  Jacksonville, FL             FL               6            634                1  2014      8               2     F 2014-08-01  143424.0  144288.0\n",
              "54                   0.0                   1.0  35470.0  144.0       140.0      0.0    0.0     740.0             UA     19977.0  United Air Lines Inc.  United Air Lines Inc.              3              13930    ORD      Chicago, IL               IL            12478  JFK      New York, NY             NY               6            694                1  2014      8               2     F 2014-08-01  103600.0  106560.0\n",
              "55                   0.0                   3.0  73950.0  354.0       299.0      0.0    0.0    1744.0             UA     19977.0  United Air Lines Inc.  United Air Lines Inc.              3              13930    ORD      Chicago, IL               IL            12892  LAX   Los Angeles, CA             CA               6            612                1  2014      8               4     F 2014-08-01  521456.0  617376.0\n",
              "56                   0.0                   1.0  26096.0  167.0        57.0   6862.0    0.0    1744.0             UA     19977.0  United Air Lines Inc.  United Air Lines Inc.              3              13930    ORD      Chicago, IL               IL            12892  LAX   Los Angeles, CA             CA               6            634                1  2014      8               4     L 2014-08-01   99408.0  291248.0"
            ],
            "text/html": [
              "<div>\n",
              "<style scoped>\n",
              "    .dataframe tbody tr th:only-of-type {\n",
              "        vertical-align: middle;\n",
              "    }\n",
              "\n",
              "    .dataframe tbody tr th {\n",
              "        vertical-align: top;\n",
              "    }\n",
              "\n",
              "    .dataframe thead th {\n",
              "        text-align: right;\n",
              "    }\n",
              "</style>\n",
              "<table border=\"1\" class=\"dataframe\">\n",
              "  <thead>\n",
              "    <tr style=\"text-align: right;\">\n",
              "      <th></th>\n",
              "      <th>DEPARTURES_SCHEDULED</th>\n",
              "      <th>DEPARTURES_PERFORMED</th>\n",
              "      <th>PAYLOAD</th>\n",
              "      <th>SEATS</th>\n",
              "      <th>PASSENGERS</th>\n",
              "      <th>FREIGHT</th>\n",
              "      <th>MAIL</th>\n",
              "      <th>DISTANCE</th>\n",
              "      <th>UNIQUE_CARRIER</th>\n",
              "      <th>AIRLINE_ID</th>\n",
              "      <th>UNIQUE_CARRIER_NAME</th>\n",
              "      <th>CARRIER_NAME</th>\n",
              "      <th>CARRIER_GROUP</th>\n",
              "      <th>ORIGIN_AIRPORT_ID</th>\n",
              "      <th>ORIGIN</th>\n",
              "      <th>ORIGIN_CITY_NAME</th>\n",
              "      <th>ORIGIN_STATE_ABR</th>\n",
              "      <th>DEST_AIRPORT_ID</th>\n",
              "      <th>DEST</th>\n",
              "      <th>DEST_CITY_NAME</th>\n",
              "      <th>DEST_STATE_ABR</th>\n",
              "      <th>AIRCRAFT_GROUP</th>\n",
              "      <th>AIRCRAFT_TYPE</th>\n",
              "      <th>AIRCRAFT_CONFIG</th>\n",
              "      <th>YEAR</th>\n",
              "      <th>MONTH</th>\n",
              "      <th>DISTANCE_GROUP</th>\n",
              "      <th>CLASS</th>\n",
              "      <th>DATE</th>\n",
              "      <th>RPM</th>\n",
              "      <th>ASM</th>\n",
              "    </tr>\n",
              "  </thead>\n",
              "  <tbody>\n",
              "    <tr>\n",
              "      <th>52</th>\n",
              "      <td>0.0</td>\n",
              "      <td>1.0</td>\n",
              "      <td>38758.0</td>\n",
              "      <td>154.0</td>\n",
              "      <td>81.0</td>\n",
              "      <td>6742.0</td>\n",
              "      <td>0.0</td>\n",
              "      <td>589.0</td>\n",
              "      <td>UA</td>\n",
              "      <td>19977.0</td>\n",
              "      <td>United Air Lines Inc.</td>\n",
              "      <td>United Air Lines Inc.</td>\n",
              "      <td>3</td>\n",
              "      <td>13930</td>\n",
              "      <td>ORD</td>\n",
              "      <td>Chicago, IL</td>\n",
              "      <td>IL</td>\n",
              "      <td>12264</td>\n",
              "      <td>IAD</td>\n",
              "      <td>Washington, DC</td>\n",
              "      <td>VA</td>\n",
              "      <td>6</td>\n",
              "      <td>614</td>\n",
              "      <td>1</td>\n",
              "      <td>2014</td>\n",
              "      <td>8</td>\n",
              "      <td>2</td>\n",
              "      <td>L</td>\n",
              "      <td>2014-08-01</td>\n",
              "      <td>47709.0</td>\n",
              "      <td>90706.0</td>\n",
              "    </tr>\n",
              "    <tr>\n",
              "      <th>53</th>\n",
              "      <td>0.0</td>\n",
              "      <td>1.0</td>\n",
              "      <td>38250.0</td>\n",
              "      <td>167.0</td>\n",
              "      <td>166.0</td>\n",
              "      <td>0.0</td>\n",
              "      <td>498.0</td>\n",
              "      <td>864.0</td>\n",
              "      <td>UA</td>\n",
              "      <td>19977.0</td>\n",
              "      <td>United Air Lines Inc.</td>\n",
              "      <td>United Air Lines Inc.</td>\n",
              "      <td>3</td>\n",
              "      <td>13930</td>\n",
              "      <td>ORD</td>\n",
              "      <td>Chicago, IL</td>\n",
              "      <td>IL</td>\n",
              "      <td>12451</td>\n",
              "      <td>JAX</td>\n",
              "      <td>Jacksonville, FL</td>\n",
              "      <td>FL</td>\n",
              "      <td>6</td>\n",
              "      <td>634</td>\n",
              "      <td>1</td>\n",
              "      <td>2014</td>\n",
              "      <td>8</td>\n",
              "      <td>2</td>\n",
              "      <td>F</td>\n",
              "      <td>2014-08-01</td>\n",
              "      <td>143424.0</td>\n",
              "      <td>144288.0</td>\n",
              "    </tr>\n",
              "    <tr>\n",
              "      <th>54</th>\n",
              "      <td>0.0</td>\n",
              "      <td>1.0</td>\n",
              "      <td>35470.0</td>\n",
              "      <td>144.0</td>\n",
              "      <td>140.0</td>\n",
              "      <td>0.0</td>\n",
              "      <td>0.0</td>\n",
              "      <td>740.0</td>\n",
              "      <td>UA</td>\n",
              "      <td>19977.0</td>\n",
              "      <td>United Air Lines Inc.</td>\n",
              "      <td>United Air Lines Inc.</td>\n",
              "      <td>3</td>\n",
              "      <td>13930</td>\n",
              "      <td>ORD</td>\n",
              "      <td>Chicago, IL</td>\n",
              "      <td>IL</td>\n",
              "      <td>12478</td>\n",
              "      <td>JFK</td>\n",
              "      <td>New York, NY</td>\n",
              "      <td>NY</td>\n",
              "      <td>6</td>\n",
              "      <td>694</td>\n",
              "      <td>1</td>\n",
              "      <td>2014</td>\n",
              "      <td>8</td>\n",
              "      <td>2</td>\n",
              "      <td>F</td>\n",
              "      <td>2014-08-01</td>\n",
              "      <td>103600.0</td>\n",
              "      <td>106560.0</td>\n",
              "    </tr>\n",
              "    <tr>\n",
              "      <th>55</th>\n",
              "      <td>0.0</td>\n",
              "      <td>3.0</td>\n",
              "      <td>73950.0</td>\n",
              "      <td>354.0</td>\n",
              "      <td>299.0</td>\n",
              "      <td>0.0</td>\n",
              "      <td>0.0</td>\n",
              "      <td>1744.0</td>\n",
              "      <td>UA</td>\n",
              "      <td>19977.0</td>\n",
              "      <td>United Air Lines Inc.</td>\n",
              "      <td>United Air Lines Inc.</td>\n",
              "      <td>3</td>\n",
              "      <td>13930</td>\n",
              "      <td>ORD</td>\n",
              "      <td>Chicago, IL</td>\n",
              "      <td>IL</td>\n",
              "      <td>12892</td>\n",
              "      <td>LAX</td>\n",
              "      <td>Los Angeles, CA</td>\n",
              "      <td>CA</td>\n",
              "      <td>6</td>\n",
              "      <td>612</td>\n",
              "      <td>1</td>\n",
              "      <td>2014</td>\n",
              "      <td>8</td>\n",
              "      <td>4</td>\n",
              "      <td>F</td>\n",
              "      <td>2014-08-01</td>\n",
              "      <td>521456.0</td>\n",
              "      <td>617376.0</td>\n",
              "    </tr>\n",
              "    <tr>\n",
              "      <th>56</th>\n",
              "      <td>0.0</td>\n",
              "      <td>1.0</td>\n",
              "      <td>26096.0</td>\n",
              "      <td>167.0</td>\n",
              "      <td>57.0</td>\n",
              "      <td>6862.0</td>\n",
              "      <td>0.0</td>\n",
              "      <td>1744.0</td>\n",
              "      <td>UA</td>\n",
              "      <td>19977.0</td>\n",
              "      <td>United Air Lines Inc.</td>\n",
              "      <td>United Air Lines Inc.</td>\n",
              "      <td>3</td>\n",
              "      <td>13930</td>\n",
              "      <td>ORD</td>\n",
              "      <td>Chicago, IL</td>\n",
              "      <td>IL</td>\n",
              "      <td>12892</td>\n",
              "      <td>LAX</td>\n",
              "      <td>Los Angeles, CA</td>\n",
              "      <td>CA</td>\n",
              "      <td>6</td>\n",
              "      <td>634</td>\n",
              "      <td>1</td>\n",
              "      <td>2014</td>\n",
              "      <td>8</td>\n",
              "      <td>4</td>\n",
              "      <td>L</td>\n",
              "      <td>2014-08-01</td>\n",
              "      <td>99408.0</td>\n",
              "      <td>291248.0</td>\n",
              "    </tr>\n",
              "  </tbody>\n",
              "</table>\n",
              "</div>"
            ]
          },
          "metadata": {
            "tags": []
          },
          "execution_count": 15
        }
      ]
    },
    {
      "cell_type": "markdown",
      "metadata": {
        "id": "SG193wTSZSSb"
      },
      "source": [
        "## Features Engineering\n",
        "---\n",
        "### Features Distance Group"
      ]
    },
    {
      "cell_type": "code",
      "metadata": {
        "id": "fooP0ibCYO3g"
      },
      "source": [
        "def get_distance_features(data):\r\n",
        "  '''EXTRACTS DISTANCE GROUP FREQ FEATURES'''\r\n",
        "  # Count the flights by distance group by data by company\r\n",
        "  distances = data.groupby(['UNIQUE_CARRIER_NAME', 'DISTANCE_GROUP', 'DATE'])['DISTANCE_GROUP'].count().reset_index(name=\"count\")\r\n",
        "  # Get total of all distance groups by date by company\r\n",
        "  distances_2 = distances.groupby(['DATE', 'UNIQUE_CARRIER_NAME'])['count'].sum().reset_index(name='TOTAL')\r\n",
        "  # Create Frequency column\r\n",
        "  distances = distances.merge(distances_2, 'outer', on=['DATE', 'UNIQUE_CARRIER_NAME'])\r\n",
        "  distances['FREQ'] = distances['count']/(distances['TOTAL'])\r\n",
        "  distances.sort_values(['DISTANCE_GROUP', 'DATE']).reset_index(drop=True)\r\n",
        "  # Simplify dataset (to set as comment if you want on final dataset)\r\n",
        "  final_dataset = distances.drop(columns=['count', 'TOTAL'])\r\n",
        "  # Create the features and populate the final dataframe\r\n",
        "  dataframe = pd.DataFrame(columns=['UNIQUE_CARRIER_NAME', 'DATE', 'DG_1', 'DG_2', 'DG_3', 'DG_4', 'DG_5'])\r\n",
        "  unique_carriers = np.unique(final_dataset['UNIQUE_CARRIER_NAME'])\r\n",
        "  DG = []\r\n",
        "  for carrier in tqdm(unique_carriers):\r\n",
        "    dates = np.unique(final_dataset[final_dataset['UNIQUE_CARRIER_NAME']== carrier]['DATE'])\r\n",
        "    for date in dates:\r\n",
        "      for i in range(1, 6):\r\n",
        "        tmp = final_dataset[(final_dataset['UNIQUE_CARRIER_NAME']== carrier) & (final_dataset['DATE'] == date) & (final_dataset['DISTANCE_GROUP'] == i)]['FREQ'].values\r\n",
        "        if len(tmp) == 0:\r\n",
        "          DG.append(0)\r\n",
        "        else:\r\n",
        "          DG.append(np.round(tmp[0], 3))\r\n",
        "      tmp = [carrier, date, DG[0], DG[1], DG[2], DG[3], DG[4]]\r\n",
        "      df_length = len(dataframe)\r\n",
        "      dataframe.loc[df_length] = tmp\r\n",
        "      DG = []\r\n",
        "  return dataframe"
      ],
      "execution_count": null,
      "outputs": []
    },
    {
      "cell_type": "code",
      "metadata": {
        "colab": {
          "base_uri": "https://localhost:8080/",
          "height": 252,
          "referenced_widgets": [
            "539b24dabfca4097add4d0847a770f6f",
            "6bb4857a1c7149fa8729efd6e13ae6d2",
            "0c81b9150cc440deabac16151237423e",
            "e57772988c3345d6ac9e63f2fc6f0385",
            "ef46a4504af444cbbf52e1bf8d1a2e6e",
            "a53fb88362df45eda67267d7679e6d62",
            "59d79e2b6d7d4686aa42a0604dcacbbe",
            "0e390972e5ac4ea58a4fb6628fa82ae1",
            "728780b82cf3446991fe3ae70501361f"
          ]
        },
        "id": "fOjeLkhEZTQf",
        "outputId": "65ddf95f-deb6-4c2e-ab14-fdcf854f7d67"
      },
      "source": [
        "distance_features = get_distance_features(df)\r\n",
        "distance_features.head()"
      ],
      "execution_count": null,
      "outputs": [
        {
          "output_type": "display_data",
          "data": {
            "text/plain": [
              "HBox(children=(IntProgress(value=0, max=22), HTML(value='')))"
            ],
            "application/vnd.jupyter.widget-view+json": {
              "version_major": 2,
              "version_minor": 0,
              "model_id": "728780b82cf3446991fe3ae70501361f"
            }
          },
          "metadata": {
            "tags": []
          }
        },
        {
          "output_type": "stream",
          "text": [
            "\n"
          ],
          "name": "stdout"
        },
        {
          "output_type": "execute_result",
          "data": {
            "text/plain": [
              "           UNIQUE_CARRIER_NAME       DATE   DG_1   DG_2   DG_3 DG_4 DG_5\n",
              "0  Air Wisconsin Airlines Corp 2014-01-01  0.706  0.288  0.007    0    0\n",
              "1  Air Wisconsin Airlines Corp 2014-02-01  0.744  0.249  0.007    0    0\n",
              "2  Air Wisconsin Airlines Corp 2014-03-01  0.721  0.272  0.007    0    0\n",
              "3  Air Wisconsin Airlines Corp 2014-04-01  0.734  0.259  0.007    0    0\n",
              "4  Air Wisconsin Airlines Corp 2014-05-01  0.721  0.272  0.006    0    0"
            ],
            "text/html": [
              "<div>\n",
              "<style scoped>\n",
              "    .dataframe tbody tr th:only-of-type {\n",
              "        vertical-align: middle;\n",
              "    }\n",
              "\n",
              "    .dataframe tbody tr th {\n",
              "        vertical-align: top;\n",
              "    }\n",
              "\n",
              "    .dataframe thead th {\n",
              "        text-align: right;\n",
              "    }\n",
              "</style>\n",
              "<table border=\"1\" class=\"dataframe\">\n",
              "  <thead>\n",
              "    <tr style=\"text-align: right;\">\n",
              "      <th></th>\n",
              "      <th>UNIQUE_CARRIER_NAME</th>\n",
              "      <th>DATE</th>\n",
              "      <th>DG_1</th>\n",
              "      <th>DG_2</th>\n",
              "      <th>DG_3</th>\n",
              "      <th>DG_4</th>\n",
              "      <th>DG_5</th>\n",
              "    </tr>\n",
              "  </thead>\n",
              "  <tbody>\n",
              "    <tr>\n",
              "      <th>0</th>\n",
              "      <td>Air Wisconsin Airlines Corp</td>\n",
              "      <td>2014-01-01</td>\n",
              "      <td>0.706</td>\n",
              "      <td>0.288</td>\n",
              "      <td>0.007</td>\n",
              "      <td>0</td>\n",
              "      <td>0</td>\n",
              "    </tr>\n",
              "    <tr>\n",
              "      <th>1</th>\n",
              "      <td>Air Wisconsin Airlines Corp</td>\n",
              "      <td>2014-02-01</td>\n",
              "      <td>0.744</td>\n",
              "      <td>0.249</td>\n",
              "      <td>0.007</td>\n",
              "      <td>0</td>\n",
              "      <td>0</td>\n",
              "    </tr>\n",
              "    <tr>\n",
              "      <th>2</th>\n",
              "      <td>Air Wisconsin Airlines Corp</td>\n",
              "      <td>2014-03-01</td>\n",
              "      <td>0.721</td>\n",
              "      <td>0.272</td>\n",
              "      <td>0.007</td>\n",
              "      <td>0</td>\n",
              "      <td>0</td>\n",
              "    </tr>\n",
              "    <tr>\n",
              "      <th>3</th>\n",
              "      <td>Air Wisconsin Airlines Corp</td>\n",
              "      <td>2014-04-01</td>\n",
              "      <td>0.734</td>\n",
              "      <td>0.259</td>\n",
              "      <td>0.007</td>\n",
              "      <td>0</td>\n",
              "      <td>0</td>\n",
              "    </tr>\n",
              "    <tr>\n",
              "      <th>4</th>\n",
              "      <td>Air Wisconsin Airlines Corp</td>\n",
              "      <td>2014-05-01</td>\n",
              "      <td>0.721</td>\n",
              "      <td>0.272</td>\n",
              "      <td>0.006</td>\n",
              "      <td>0</td>\n",
              "      <td>0</td>\n",
              "    </tr>\n",
              "  </tbody>\n",
              "</table>\n",
              "</div>"
            ]
          },
          "metadata": {
            "tags": []
          },
          "execution_count": 17
        }
      ]
    },
    {
      "cell_type": "code",
      "metadata": {
        "id": "KpGnQskTjfUD"
      },
      "source": [
        "distance_features.to_csv(\"features_files/distance_features.csv\")"
      ],
      "execution_count": null,
      "outputs": []
    },
    {
      "cell_type": "markdown",
      "metadata": {
        "id": "xRtYQlp7-FSC"
      },
      "source": [
        "### Features Aircraft Type Frequency"
      ]
    },
    {
      "cell_type": "code",
      "metadata": {
        "colab": {
          "base_uri": "https://localhost:8080/",
          "height": 203
        },
        "id": "DAd8VY0J-KX_",
        "outputId": "92d7ca42-e274-4226-cac2-ea05ab437b48"
      },
      "source": [
        "aircraft_type_freq = df.groupby(['UNIQUE_CARRIER_NAME', 'DATE', 'AIRCRAFT_TYPE'])['AIRCRAFT_TYPE'].count().reset_index(name='COUNT')\r\n",
        "ref = df.groupby(['UNIQUE_CARRIER_NAME', 'DATE'])['AIRCRAFT_TYPE'].count().reset_index(name='TOTAL')\r\n",
        "final = aircraft_type_freq.merge(ref, on=['UNIQUE_CARRIER_NAME', 'DATE'])\r\n",
        "final['FREQ'] = final['COUNT'] / final['TOTAL']\r\n",
        "final.head()"
      ],
      "execution_count": null,
      "outputs": [
        {
          "output_type": "execute_result",
          "data": {
            "text/plain": [
              "           UNIQUE_CARRIER_NAME       DATE  AIRCRAFT_TYPE  COUNT  TOTAL  FREQ\n",
              "0  Air Wisconsin Airlines Corp 2014-01-01            629    299    299   1.0\n",
              "1  Air Wisconsin Airlines Corp 2014-02-01            629    281    281   1.0\n",
              "2  Air Wisconsin Airlines Corp 2014-03-01            629    298    298   1.0\n",
              "3  Air Wisconsin Airlines Corp 2014-04-01            629    305    305   1.0\n",
              "4  Air Wisconsin Airlines Corp 2014-05-01            629    323    323   1.0"
            ],
            "text/html": [
              "<div>\n",
              "<style scoped>\n",
              "    .dataframe tbody tr th:only-of-type {\n",
              "        vertical-align: middle;\n",
              "    }\n",
              "\n",
              "    .dataframe tbody tr th {\n",
              "        vertical-align: top;\n",
              "    }\n",
              "\n",
              "    .dataframe thead th {\n",
              "        text-align: right;\n",
              "    }\n",
              "</style>\n",
              "<table border=\"1\" class=\"dataframe\">\n",
              "  <thead>\n",
              "    <tr style=\"text-align: right;\">\n",
              "      <th></th>\n",
              "      <th>UNIQUE_CARRIER_NAME</th>\n",
              "      <th>DATE</th>\n",
              "      <th>AIRCRAFT_TYPE</th>\n",
              "      <th>COUNT</th>\n",
              "      <th>TOTAL</th>\n",
              "      <th>FREQ</th>\n",
              "    </tr>\n",
              "  </thead>\n",
              "  <tbody>\n",
              "    <tr>\n",
              "      <th>0</th>\n",
              "      <td>Air Wisconsin Airlines Corp</td>\n",
              "      <td>2014-01-01</td>\n",
              "      <td>629</td>\n",
              "      <td>299</td>\n",
              "      <td>299</td>\n",
              "      <td>1.0</td>\n",
              "    </tr>\n",
              "    <tr>\n",
              "      <th>1</th>\n",
              "      <td>Air Wisconsin Airlines Corp</td>\n",
              "      <td>2014-02-01</td>\n",
              "      <td>629</td>\n",
              "      <td>281</td>\n",
              "      <td>281</td>\n",
              "      <td>1.0</td>\n",
              "    </tr>\n",
              "    <tr>\n",
              "      <th>2</th>\n",
              "      <td>Air Wisconsin Airlines Corp</td>\n",
              "      <td>2014-03-01</td>\n",
              "      <td>629</td>\n",
              "      <td>298</td>\n",
              "      <td>298</td>\n",
              "      <td>1.0</td>\n",
              "    </tr>\n",
              "    <tr>\n",
              "      <th>3</th>\n",
              "      <td>Air Wisconsin Airlines Corp</td>\n",
              "      <td>2014-04-01</td>\n",
              "      <td>629</td>\n",
              "      <td>305</td>\n",
              "      <td>305</td>\n",
              "      <td>1.0</td>\n",
              "    </tr>\n",
              "    <tr>\n",
              "      <th>4</th>\n",
              "      <td>Air Wisconsin Airlines Corp</td>\n",
              "      <td>2014-05-01</td>\n",
              "      <td>629</td>\n",
              "      <td>323</td>\n",
              "      <td>323</td>\n",
              "      <td>1.0</td>\n",
              "    </tr>\n",
              "  </tbody>\n",
              "</table>\n",
              "</div>"
            ]
          },
          "metadata": {
            "tags": []
          },
          "execution_count": 19
        }
      ]
    },
    {
      "cell_type": "code",
      "metadata": {
        "colab": {
          "base_uri": "https://localhost:8080/",
          "height": 67,
          "referenced_widgets": [
            "a57c4ffcdc56401e838df670314e82a2",
            "54803b5ebec049039d00a97dda205180",
            "7ce4c9346d734139b43f6d062e1dba47",
            "be6aae983aa74b459a8f6094eed90d6e",
            "5904aec4f3584d33844ae0ffef5f66a0",
            "5fd41b13614349bc98c96ea8d15be889",
            "abab86d44f644470be80a50a7b54f0ac",
            "6c371c4d2cdf4832aed505f8a6dad9b3",
            "23aee224026048cbab9351c226839c91"
          ]
        },
        "id": "zBIFw6ai_SoT",
        "outputId": "cb3a92a4-2e4e-411f-adac-61e8d55b9f31"
      },
      "source": [
        "aircraft_types = np.unique(final['AIRCRAFT_TYPE'])\r\n",
        "dataframe = pd.DataFrame(columns=aircraft_types)\r\n",
        "dataframe['UNIQUE_CARRIER_NAME'] = np.nan\r\n",
        "dataframe['DATE'] = np.nan\r\n",
        "cols = dataframe.columns.tolist()\r\n",
        "cols = cols[-2:] + cols[:-2]\r\n",
        "dataframe = dataframe[cols]\r\n",
        "unique_carriers = np.unique(final['UNIQUE_CARRIER_NAME'])\r\n",
        "AT = []\r\n",
        "for carrier in tqdm(unique_carriers):\r\n",
        "  dates = np.unique(final[final['UNIQUE_CARRIER_NAME']== carrier]['DATE'])\r\n",
        "  for date in dates:\r\n",
        "    for aircraft_type in aircraft_types:\r\n",
        "      tmp = final[(final['UNIQUE_CARRIER_NAME']== carrier) & (final['DATE'] == date) & (final['AIRCRAFT_TYPE'] == aircraft_type)]['FREQ'].values\r\n",
        "      if len(tmp) == 0:\r\n",
        "        AT.append(0)\r\n",
        "      else:\r\n",
        "        AT.append(np.round(tmp[0], 3))\r\n",
        "    tmp = np.append([carrier, date], AT)\r\n",
        "    df_length = len(dataframe)\r\n",
        "    dataframe.loc[df_length] = tmp\r\n",
        "    AT = []"
      ],
      "execution_count": null,
      "outputs": [
        {
          "output_type": "display_data",
          "data": {
            "text/plain": [
              "HBox(children=(IntProgress(value=0, max=22), HTML(value='')))"
            ],
            "application/vnd.jupyter.widget-view+json": {
              "version_major": 2,
              "version_minor": 0,
              "model_id": "23aee224026048cbab9351c226839c91"
            }
          },
          "metadata": {
            "tags": []
          }
        },
        {
          "output_type": "stream",
          "text": [
            "\n"
          ],
          "name": "stdout"
        }
      ]
    },
    {
      "cell_type": "code",
      "metadata": {
        "colab": {
          "base_uri": "https://localhost:8080/",
          "height": 309
        },
        "id": "0Sl7blX-G6We",
        "outputId": "672eaaaa-c903-4b19-f5a5-db0dc82847a1"
      },
      "source": [
        "dataframe['DATE'] = pd.to_datetime(dataframe['DATE'])\r\n",
        "dataframe.head()"
      ],
      "execution_count": null,
      "outputs": [
        {
          "output_type": "execute_result",
          "data": {
            "text/plain": [
              "           UNIQUE_CARRIER_NAME       DATE   26   35  194  339  359  406  416  461  482  530  608  612  614  616  617  619  622  623  624  625  626  627  629  631  634  637  638  650  655  656  673  674  675  676  677  678  687  694  696  698  699  721  722  723  819  822  837  838  839  887  888  889\n",
              "0  Air Wisconsin Airlines Corp 2014-01-01  0.0  0.0  0.0  0.0  0.0  0.0  0.0  0.0  0.0  0.0  0.0  0.0  0.0  0.0  0.0  0.0  0.0  0.0  0.0  0.0  0.0  0.0  1.0  0.0  0.0  0.0  0.0  0.0  0.0  0.0  0.0  0.0  0.0  0.0  0.0  0.0  0.0  0.0  0.0  0.0  0.0  0.0  0.0  0.0  0.0  0.0  0.0  0.0  0.0  0.0  0.0  0.0\n",
              "1  Air Wisconsin Airlines Corp 2014-02-01  0.0  0.0  0.0  0.0  0.0  0.0  0.0  0.0  0.0  0.0  0.0  0.0  0.0  0.0  0.0  0.0  0.0  0.0  0.0  0.0  0.0  0.0  1.0  0.0  0.0  0.0  0.0  0.0  0.0  0.0  0.0  0.0  0.0  0.0  0.0  0.0  0.0  0.0  0.0  0.0  0.0  0.0  0.0  0.0  0.0  0.0  0.0  0.0  0.0  0.0  0.0  0.0\n",
              "2  Air Wisconsin Airlines Corp 2014-03-01  0.0  0.0  0.0  0.0  0.0  0.0  0.0  0.0  0.0  0.0  0.0  0.0  0.0  0.0  0.0  0.0  0.0  0.0  0.0  0.0  0.0  0.0  1.0  0.0  0.0  0.0  0.0  0.0  0.0  0.0  0.0  0.0  0.0  0.0  0.0  0.0  0.0  0.0  0.0  0.0  0.0  0.0  0.0  0.0  0.0  0.0  0.0  0.0  0.0  0.0  0.0  0.0\n",
              "3  Air Wisconsin Airlines Corp 2014-04-01  0.0  0.0  0.0  0.0  0.0  0.0  0.0  0.0  0.0  0.0  0.0  0.0  0.0  0.0  0.0  0.0  0.0  0.0  0.0  0.0  0.0  0.0  1.0  0.0  0.0  0.0  0.0  0.0  0.0  0.0  0.0  0.0  0.0  0.0  0.0  0.0  0.0  0.0  0.0  0.0  0.0  0.0  0.0  0.0  0.0  0.0  0.0  0.0  0.0  0.0  0.0  0.0\n",
              "4  Air Wisconsin Airlines Corp 2014-05-01  0.0  0.0  0.0  0.0  0.0  0.0  0.0  0.0  0.0  0.0  0.0  0.0  0.0  0.0  0.0  0.0  0.0  0.0  0.0  0.0  0.0  0.0  1.0  0.0  0.0  0.0  0.0  0.0  0.0  0.0  0.0  0.0  0.0  0.0  0.0  0.0  0.0  0.0  0.0  0.0  0.0  0.0  0.0  0.0  0.0  0.0  0.0  0.0  0.0  0.0  0.0  0.0"
            ],
            "text/html": [
              "<div>\n",
              "<style scoped>\n",
              "    .dataframe tbody tr th:only-of-type {\n",
              "        vertical-align: middle;\n",
              "    }\n",
              "\n",
              "    .dataframe tbody tr th {\n",
              "        vertical-align: top;\n",
              "    }\n",
              "\n",
              "    .dataframe thead th {\n",
              "        text-align: right;\n",
              "    }\n",
              "</style>\n",
              "<table border=\"1\" class=\"dataframe\">\n",
              "  <thead>\n",
              "    <tr style=\"text-align: right;\">\n",
              "      <th></th>\n",
              "      <th>UNIQUE_CARRIER_NAME</th>\n",
              "      <th>DATE</th>\n",
              "      <th>26</th>\n",
              "      <th>35</th>\n",
              "      <th>194</th>\n",
              "      <th>339</th>\n",
              "      <th>359</th>\n",
              "      <th>406</th>\n",
              "      <th>416</th>\n",
              "      <th>461</th>\n",
              "      <th>482</th>\n",
              "      <th>530</th>\n",
              "      <th>608</th>\n",
              "      <th>612</th>\n",
              "      <th>614</th>\n",
              "      <th>616</th>\n",
              "      <th>617</th>\n",
              "      <th>619</th>\n",
              "      <th>622</th>\n",
              "      <th>623</th>\n",
              "      <th>624</th>\n",
              "      <th>625</th>\n",
              "      <th>626</th>\n",
              "      <th>627</th>\n",
              "      <th>629</th>\n",
              "      <th>631</th>\n",
              "      <th>634</th>\n",
              "      <th>637</th>\n",
              "      <th>638</th>\n",
              "      <th>650</th>\n",
              "      <th>655</th>\n",
              "      <th>656</th>\n",
              "      <th>673</th>\n",
              "      <th>674</th>\n",
              "      <th>675</th>\n",
              "      <th>676</th>\n",
              "      <th>677</th>\n",
              "      <th>678</th>\n",
              "      <th>687</th>\n",
              "      <th>694</th>\n",
              "      <th>696</th>\n",
              "      <th>698</th>\n",
              "      <th>699</th>\n",
              "      <th>721</th>\n",
              "      <th>722</th>\n",
              "      <th>723</th>\n",
              "      <th>819</th>\n",
              "      <th>822</th>\n",
              "      <th>837</th>\n",
              "      <th>838</th>\n",
              "      <th>839</th>\n",
              "      <th>887</th>\n",
              "      <th>888</th>\n",
              "      <th>889</th>\n",
              "    </tr>\n",
              "  </thead>\n",
              "  <tbody>\n",
              "    <tr>\n",
              "      <th>0</th>\n",
              "      <td>Air Wisconsin Airlines Corp</td>\n",
              "      <td>2014-01-01</td>\n",
              "      <td>0.0</td>\n",
              "      <td>0.0</td>\n",
              "      <td>0.0</td>\n",
              "      <td>0.0</td>\n",
              "      <td>0.0</td>\n",
              "      <td>0.0</td>\n",
              "      <td>0.0</td>\n",
              "      <td>0.0</td>\n",
              "      <td>0.0</td>\n",
              "      <td>0.0</td>\n",
              "      <td>0.0</td>\n",
              "      <td>0.0</td>\n",
              "      <td>0.0</td>\n",
              "      <td>0.0</td>\n",
              "      <td>0.0</td>\n",
              "      <td>0.0</td>\n",
              "      <td>0.0</td>\n",
              "      <td>0.0</td>\n",
              "      <td>0.0</td>\n",
              "      <td>0.0</td>\n",
              "      <td>0.0</td>\n",
              "      <td>0.0</td>\n",
              "      <td>1.0</td>\n",
              "      <td>0.0</td>\n",
              "      <td>0.0</td>\n",
              "      <td>0.0</td>\n",
              "      <td>0.0</td>\n",
              "      <td>0.0</td>\n",
              "      <td>0.0</td>\n",
              "      <td>0.0</td>\n",
              "      <td>0.0</td>\n",
              "      <td>0.0</td>\n",
              "      <td>0.0</td>\n",
              "      <td>0.0</td>\n",
              "      <td>0.0</td>\n",
              "      <td>0.0</td>\n",
              "      <td>0.0</td>\n",
              "      <td>0.0</td>\n",
              "      <td>0.0</td>\n",
              "      <td>0.0</td>\n",
              "      <td>0.0</td>\n",
              "      <td>0.0</td>\n",
              "      <td>0.0</td>\n",
              "      <td>0.0</td>\n",
              "      <td>0.0</td>\n",
              "      <td>0.0</td>\n",
              "      <td>0.0</td>\n",
              "      <td>0.0</td>\n",
              "      <td>0.0</td>\n",
              "      <td>0.0</td>\n",
              "      <td>0.0</td>\n",
              "      <td>0.0</td>\n",
              "    </tr>\n",
              "    <tr>\n",
              "      <th>1</th>\n",
              "      <td>Air Wisconsin Airlines Corp</td>\n",
              "      <td>2014-02-01</td>\n",
              "      <td>0.0</td>\n",
              "      <td>0.0</td>\n",
              "      <td>0.0</td>\n",
              "      <td>0.0</td>\n",
              "      <td>0.0</td>\n",
              "      <td>0.0</td>\n",
              "      <td>0.0</td>\n",
              "      <td>0.0</td>\n",
              "      <td>0.0</td>\n",
              "      <td>0.0</td>\n",
              "      <td>0.0</td>\n",
              "      <td>0.0</td>\n",
              "      <td>0.0</td>\n",
              "      <td>0.0</td>\n",
              "      <td>0.0</td>\n",
              "      <td>0.0</td>\n",
              "      <td>0.0</td>\n",
              "      <td>0.0</td>\n",
              "      <td>0.0</td>\n",
              "      <td>0.0</td>\n",
              "      <td>0.0</td>\n",
              "      <td>0.0</td>\n",
              "      <td>1.0</td>\n",
              "      <td>0.0</td>\n",
              "      <td>0.0</td>\n",
              "      <td>0.0</td>\n",
              "      <td>0.0</td>\n",
              "      <td>0.0</td>\n",
              "      <td>0.0</td>\n",
              "      <td>0.0</td>\n",
              "      <td>0.0</td>\n",
              "      <td>0.0</td>\n",
              "      <td>0.0</td>\n",
              "      <td>0.0</td>\n",
              "      <td>0.0</td>\n",
              "      <td>0.0</td>\n",
              "      <td>0.0</td>\n",
              "      <td>0.0</td>\n",
              "      <td>0.0</td>\n",
              "      <td>0.0</td>\n",
              "      <td>0.0</td>\n",
              "      <td>0.0</td>\n",
              "      <td>0.0</td>\n",
              "      <td>0.0</td>\n",
              "      <td>0.0</td>\n",
              "      <td>0.0</td>\n",
              "      <td>0.0</td>\n",
              "      <td>0.0</td>\n",
              "      <td>0.0</td>\n",
              "      <td>0.0</td>\n",
              "      <td>0.0</td>\n",
              "      <td>0.0</td>\n",
              "    </tr>\n",
              "    <tr>\n",
              "      <th>2</th>\n",
              "      <td>Air Wisconsin Airlines Corp</td>\n",
              "      <td>2014-03-01</td>\n",
              "      <td>0.0</td>\n",
              "      <td>0.0</td>\n",
              "      <td>0.0</td>\n",
              "      <td>0.0</td>\n",
              "      <td>0.0</td>\n",
              "      <td>0.0</td>\n",
              "      <td>0.0</td>\n",
              "      <td>0.0</td>\n",
              "      <td>0.0</td>\n",
              "      <td>0.0</td>\n",
              "      <td>0.0</td>\n",
              "      <td>0.0</td>\n",
              "      <td>0.0</td>\n",
              "      <td>0.0</td>\n",
              "      <td>0.0</td>\n",
              "      <td>0.0</td>\n",
              "      <td>0.0</td>\n",
              "      <td>0.0</td>\n",
              "      <td>0.0</td>\n",
              "      <td>0.0</td>\n",
              "      <td>0.0</td>\n",
              "      <td>0.0</td>\n",
              "      <td>1.0</td>\n",
              "      <td>0.0</td>\n",
              "      <td>0.0</td>\n",
              "      <td>0.0</td>\n",
              "      <td>0.0</td>\n",
              "      <td>0.0</td>\n",
              "      <td>0.0</td>\n",
              "      <td>0.0</td>\n",
              "      <td>0.0</td>\n",
              "      <td>0.0</td>\n",
              "      <td>0.0</td>\n",
              "      <td>0.0</td>\n",
              "      <td>0.0</td>\n",
              "      <td>0.0</td>\n",
              "      <td>0.0</td>\n",
              "      <td>0.0</td>\n",
              "      <td>0.0</td>\n",
              "      <td>0.0</td>\n",
              "      <td>0.0</td>\n",
              "      <td>0.0</td>\n",
              "      <td>0.0</td>\n",
              "      <td>0.0</td>\n",
              "      <td>0.0</td>\n",
              "      <td>0.0</td>\n",
              "      <td>0.0</td>\n",
              "      <td>0.0</td>\n",
              "      <td>0.0</td>\n",
              "      <td>0.0</td>\n",
              "      <td>0.0</td>\n",
              "      <td>0.0</td>\n",
              "    </tr>\n",
              "    <tr>\n",
              "      <th>3</th>\n",
              "      <td>Air Wisconsin Airlines Corp</td>\n",
              "      <td>2014-04-01</td>\n",
              "      <td>0.0</td>\n",
              "      <td>0.0</td>\n",
              "      <td>0.0</td>\n",
              "      <td>0.0</td>\n",
              "      <td>0.0</td>\n",
              "      <td>0.0</td>\n",
              "      <td>0.0</td>\n",
              "      <td>0.0</td>\n",
              "      <td>0.0</td>\n",
              "      <td>0.0</td>\n",
              "      <td>0.0</td>\n",
              "      <td>0.0</td>\n",
              "      <td>0.0</td>\n",
              "      <td>0.0</td>\n",
              "      <td>0.0</td>\n",
              "      <td>0.0</td>\n",
              "      <td>0.0</td>\n",
              "      <td>0.0</td>\n",
              "      <td>0.0</td>\n",
              "      <td>0.0</td>\n",
              "      <td>0.0</td>\n",
              "      <td>0.0</td>\n",
              "      <td>1.0</td>\n",
              "      <td>0.0</td>\n",
              "      <td>0.0</td>\n",
              "      <td>0.0</td>\n",
              "      <td>0.0</td>\n",
              "      <td>0.0</td>\n",
              "      <td>0.0</td>\n",
              "      <td>0.0</td>\n",
              "      <td>0.0</td>\n",
              "      <td>0.0</td>\n",
              "      <td>0.0</td>\n",
              "      <td>0.0</td>\n",
              "      <td>0.0</td>\n",
              "      <td>0.0</td>\n",
              "      <td>0.0</td>\n",
              "      <td>0.0</td>\n",
              "      <td>0.0</td>\n",
              "      <td>0.0</td>\n",
              "      <td>0.0</td>\n",
              "      <td>0.0</td>\n",
              "      <td>0.0</td>\n",
              "      <td>0.0</td>\n",
              "      <td>0.0</td>\n",
              "      <td>0.0</td>\n",
              "      <td>0.0</td>\n",
              "      <td>0.0</td>\n",
              "      <td>0.0</td>\n",
              "      <td>0.0</td>\n",
              "      <td>0.0</td>\n",
              "      <td>0.0</td>\n",
              "    </tr>\n",
              "    <tr>\n",
              "      <th>4</th>\n",
              "      <td>Air Wisconsin Airlines Corp</td>\n",
              "      <td>2014-05-01</td>\n",
              "      <td>0.0</td>\n",
              "      <td>0.0</td>\n",
              "      <td>0.0</td>\n",
              "      <td>0.0</td>\n",
              "      <td>0.0</td>\n",
              "      <td>0.0</td>\n",
              "      <td>0.0</td>\n",
              "      <td>0.0</td>\n",
              "      <td>0.0</td>\n",
              "      <td>0.0</td>\n",
              "      <td>0.0</td>\n",
              "      <td>0.0</td>\n",
              "      <td>0.0</td>\n",
              "      <td>0.0</td>\n",
              "      <td>0.0</td>\n",
              "      <td>0.0</td>\n",
              "      <td>0.0</td>\n",
              "      <td>0.0</td>\n",
              "      <td>0.0</td>\n",
              "      <td>0.0</td>\n",
              "      <td>0.0</td>\n",
              "      <td>0.0</td>\n",
              "      <td>1.0</td>\n",
              "      <td>0.0</td>\n",
              "      <td>0.0</td>\n",
              "      <td>0.0</td>\n",
              "      <td>0.0</td>\n",
              "      <td>0.0</td>\n",
              "      <td>0.0</td>\n",
              "      <td>0.0</td>\n",
              "      <td>0.0</td>\n",
              "      <td>0.0</td>\n",
              "      <td>0.0</td>\n",
              "      <td>0.0</td>\n",
              "      <td>0.0</td>\n",
              "      <td>0.0</td>\n",
              "      <td>0.0</td>\n",
              "      <td>0.0</td>\n",
              "      <td>0.0</td>\n",
              "      <td>0.0</td>\n",
              "      <td>0.0</td>\n",
              "      <td>0.0</td>\n",
              "      <td>0.0</td>\n",
              "      <td>0.0</td>\n",
              "      <td>0.0</td>\n",
              "      <td>0.0</td>\n",
              "      <td>0.0</td>\n",
              "      <td>0.0</td>\n",
              "      <td>0.0</td>\n",
              "      <td>0.0</td>\n",
              "      <td>0.0</td>\n",
              "      <td>0.0</td>\n",
              "    </tr>\n",
              "  </tbody>\n",
              "</table>\n",
              "</div>"
            ]
          },
          "metadata": {
            "tags": []
          },
          "execution_count": 21
        }
      ]
    },
    {
      "cell_type": "code",
      "metadata": {
        "id": "O5JGAjnSMlhz"
      },
      "source": [
        "dataframe.to_csv(\"features_files/aircraft_type_frequency_features.csv\")"
      ],
      "execution_count": null,
      "outputs": []
    },
    {
      "cell_type": "markdown",
      "metadata": {
        "id": "ywXd9YvJL2Uy"
      },
      "source": [
        "### Features Geographic Destination"
      ]
    },
    {
      "cell_type": "markdown",
      "metadata": {
        "id": "V3rPHqNMeQLG"
      },
      "source": [
        "#### TOP 1 Destination per Airline"
      ]
    },
    {
      "cell_type": "code",
      "metadata": {
        "id": "UiIuFS9rcQVf"
      },
      "source": [
        "def get_top1_dest(data):\r\n",
        "  test_geo = pd.DataFrame(data.groupby(['UNIQUE_CARRIER_NAME', 'DATE', 'DEST_CITY_NAME'])['DEST_CITY_NAME'].count().reset_index(name=\"DEST_COUNT\")).reset_index(drop=True).drop_duplicates(['UNIQUE_CARRIER_NAME', 'DATE','DEST_COUNT'])\r\n",
        "  test_geo_2 = pd.DataFrame(test_geo.groupby(['UNIQUE_CARRIER_NAME', 'DATE'])['DEST_COUNT'].max()).reset_index(drop=False)\r\n",
        "  test_geo_top = test_geo.merge(test_geo_2, 'inner', on=['UNIQUE_CARRIER_NAME', 'DATE', 'DEST_COUNT'])\r\n",
        "  test_geo_tot = pd.DataFrame(data.groupby(['UNIQUE_CARRIER_NAME', 'DATE'])['DEST_CITY_NAME'].count().reset_index(name=\"TOTAL\")).reset_index(drop=True)\r\n",
        "  test_geo_fq_top = test_geo_top.merge(test_geo_tot, 'inner', on=['UNIQUE_CARRIER_NAME', 'DATE'])\r\n",
        "  test_geo_fq_top['FREQ'] = test_geo_fq_top['DEST_COUNT']/test_geo_fq_top['TOTAL']\r\n",
        "  test_geo_fq_top = test_geo_fq_top.rename(columns = {'DEST_CITY_NAME' : 'TOP1_DEST', 'FREQ': 'TOP_1_DEST_FQ'}).drop(columns=['DEST_COUNT', 'TOTAL'])\r\n",
        "  return test_geo_fq_top"
      ],
      "execution_count": null,
      "outputs": []
    },
    {
      "cell_type": "code",
      "metadata": {
        "id": "vSXiSLnUccuq",
        "outputId": "f7fbfd03-8505-4695-f675-d21813f47763"
      },
      "source": [
        "top1_dest_features = get_top1_dest(df)\r\n",
        "top1_dest_features.head()"
      ],
      "execution_count": null,
      "outputs": [
        {
          "output_type": "execute_result",
          "data": {
            "text/plain": [
              "           UNIQUE_CARRIER_NAME       DATE         TOP1_DEST  TOP_1_DEST_FQ\n",
              "0  Air Wisconsin Airlines Corp 2014-01-01     Charlotte, NC       0.163880\n",
              "1  Air Wisconsin Airlines Corp 2014-02-01  Philadelphia, PA       0.163701\n",
              "2  Air Wisconsin Airlines Corp 2014-03-01  Philadelphia, PA       0.164430\n",
              "3  Air Wisconsin Airlines Corp 2014-04-01     Charlotte, NC       0.163934\n",
              "4  Air Wisconsin Airlines Corp 2014-05-01     Charlotte, NC       0.160991"
            ],
            "text/html": [
              "<div>\n",
              "<style scoped>\n",
              "    .dataframe tbody tr th:only-of-type {\n",
              "        vertical-align: middle;\n",
              "    }\n",
              "\n",
              "    .dataframe tbody tr th {\n",
              "        vertical-align: top;\n",
              "    }\n",
              "\n",
              "    .dataframe thead th {\n",
              "        text-align: right;\n",
              "    }\n",
              "</style>\n",
              "<table border=\"1\" class=\"dataframe\">\n",
              "  <thead>\n",
              "    <tr style=\"text-align: right;\">\n",
              "      <th></th>\n",
              "      <th>UNIQUE_CARRIER_NAME</th>\n",
              "      <th>DATE</th>\n",
              "      <th>TOP1_DEST</th>\n",
              "      <th>TOP_1_DEST_FQ</th>\n",
              "    </tr>\n",
              "  </thead>\n",
              "  <tbody>\n",
              "    <tr>\n",
              "      <th>0</th>\n",
              "      <td>Air Wisconsin Airlines Corp</td>\n",
              "      <td>2014-01-01</td>\n",
              "      <td>Charlotte, NC</td>\n",
              "      <td>0.163880</td>\n",
              "    </tr>\n",
              "    <tr>\n",
              "      <th>1</th>\n",
              "      <td>Air Wisconsin Airlines Corp</td>\n",
              "      <td>2014-02-01</td>\n",
              "      <td>Philadelphia, PA</td>\n",
              "      <td>0.163701</td>\n",
              "    </tr>\n",
              "    <tr>\n",
              "      <th>2</th>\n",
              "      <td>Air Wisconsin Airlines Corp</td>\n",
              "      <td>2014-03-01</td>\n",
              "      <td>Philadelphia, PA</td>\n",
              "      <td>0.164430</td>\n",
              "    </tr>\n",
              "    <tr>\n",
              "      <th>3</th>\n",
              "      <td>Air Wisconsin Airlines Corp</td>\n",
              "      <td>2014-04-01</td>\n",
              "      <td>Charlotte, NC</td>\n",
              "      <td>0.163934</td>\n",
              "    </tr>\n",
              "    <tr>\n",
              "      <th>4</th>\n",
              "      <td>Air Wisconsin Airlines Corp</td>\n",
              "      <td>2014-05-01</td>\n",
              "      <td>Charlotte, NC</td>\n",
              "      <td>0.160991</td>\n",
              "    </tr>\n",
              "  </tbody>\n",
              "</table>\n",
              "</div>"
            ]
          },
          "metadata": {
            "tags": []
          },
          "execution_count": 24
        }
      ]
    },
    {
      "cell_type": "code",
      "metadata": {
        "id": "yp9_5AffMs_m"
      },
      "source": [
        "top1_dest_features.to_csv(\"features_files/top1_dest_features.csv\")"
      ],
      "execution_count": null,
      "outputs": []
    },
    {
      "cell_type": "markdown",
      "metadata": {
        "id": "8Ay3UB41eTUK"
      },
      "source": [
        "#### TOP 5 DESTINATIONS "
      ]
    },
    {
      "cell_type": "code",
      "metadata": {
        "id": "vG79nvridoFh"
      },
      "source": [
        "def get_top5_dest(data):\r\n",
        "  test_geo_top5 = pd.DataFrame(data.groupby(['UNIQUE_CARRIER_NAME', 'DATE', 'DEST_CITY_NAME'])['DEST_CITY_NAME'].count().reset_index(name=\"DEST_COUNT\")).reset_index(drop=True)\r\n",
        "  test_geo_top5.sort_values(['UNIQUE_CARRIER_NAME', 'DATE','DEST_COUNT'], inplace=True, ascending=False)\r\n",
        "  test_geo_top5 = test_geo_top5.sort_values(['UNIQUE_CARRIER_NAME', 'DATE']).set_index(['UNIQUE_CARRIER_NAME', 'DATE']).reset_index()\r\n",
        "  carriers = np.unique(test_geo_top5['UNIQUE_CARRIER_NAME'])\r\n",
        "\r\n",
        "  top5dest_data = pd.DataFrame(columns=['UNIQUE_CARRIER_NAME', 'DATE', 'TOP1_DEST', 'TOP2_DEST', 'TOP3_DEST', 'TOP4_DEST', 'TOP5_DEST'])\r\n",
        "  for carrier in tqdm(carriers):\r\n",
        "    dates = np.unique(test_geo_top5[test_geo_top5['UNIQUE_CARRIER_NAME']== carrier]['DATE'])\r\n",
        "    max_location = []\r\n",
        "    max_value = []\r\n",
        "    for date in dates:\r\n",
        "        max_location = test_geo_top5[(test_geo_top5['UNIQUE_CARRIER_NAME']== carrier) & (test_geo_top5['DATE'] == date)]['DEST_CITY_NAME'].values[0:5]\r\n",
        "        max_value = test_geo_top5[(test_geo_top5['UNIQUE_CARRIER_NAME']== carrier) & (test_geo_top5['DATE'] == date)]['DEST_COUNT'].values[0:5]\r\n",
        "        while len(max_location) < 5:\r\n",
        "          max_location = np.append(max_location, None)\r\n",
        "        tmp = [carrier, date, max_location[0],  max_location[1],  max_location[2],  max_location[3],  max_location[4]]\r\n",
        "        df_length = len(top5dest_data)\r\n",
        "        top5dest_data.loc[df_length] = tmp\r\n",
        "  return top5dest_data"
      ],
      "execution_count": null,
      "outputs": []
    },
    {
      "cell_type": "code",
      "metadata": {
        "id": "CgGpdhltehfJ",
        "colab": {
          "referenced_widgets": [
            "5847689fd3e84289988e2859a4c43154"
          ]
        },
        "outputId": "1d4699d5-9d39-490d-db1c-4ae66e5597b7"
      },
      "source": [
        "top5_dest_features = get_top5_dest(df)\n",
        "top5_dest_features.head()"
      ],
      "execution_count": null,
      "outputs": [
        {
          "output_type": "display_data",
          "data": {
            "text/plain": [
              "HBox(children=(IntProgress(value=0, max=22), HTML(value='')))"
            ],
            "application/vnd.jupyter.widget-view+json": {
              "version_major": 2,
              "version_minor": 0,
              "model_id": "5847689fd3e84289988e2859a4c43154"
            }
          },
          "metadata": {
            "tags": []
          }
        },
        {
          "output_type": "stream",
          "text": [
            "\n"
          ],
          "name": "stdout"
        },
        {
          "output_type": "execute_result",
          "data": {
            "text/plain": [
              "           UNIQUE_CARRIER_NAME       DATE         TOP1_DEST         TOP2_DEST       TOP3_DEST      TOP4_DEST                       TOP5_DEST\n",
              "0  Air Wisconsin Airlines Corp 2014-01-01     Charlotte, NC  Philadelphia, PA  Washington, DC     Boston, MA  Allentown/Bethlehem/Easton, PA\n",
              "1  Air Wisconsin Airlines Corp 2014-02-01  Philadelphia, PA    Washington, DC   Charlotte, NC     Boston, MA       Scranton/Wilkes-Barre, PA\n",
              "2  Air Wisconsin Airlines Corp 2014-03-01  Philadelphia, PA     Charlotte, NC  Washington, DC  Baltimore, MD                      Boston, MA\n",
              "3  Air Wisconsin Airlines Corp 2014-04-01     Charlotte, NC  Philadelphia, PA  Washington, DC     Boston, MA                    New York, NY\n",
              "4  Air Wisconsin Airlines Corp 2014-05-01     Charlotte, NC  Philadelphia, PA  Washington, DC     Boston, MA       Greensboro/High Point, NC"
            ],
            "text/html": [
              "<div>\n",
              "<style scoped>\n",
              "    .dataframe tbody tr th:only-of-type {\n",
              "        vertical-align: middle;\n",
              "    }\n",
              "\n",
              "    .dataframe tbody tr th {\n",
              "        vertical-align: top;\n",
              "    }\n",
              "\n",
              "    .dataframe thead th {\n",
              "        text-align: right;\n",
              "    }\n",
              "</style>\n",
              "<table border=\"1\" class=\"dataframe\">\n",
              "  <thead>\n",
              "    <tr style=\"text-align: right;\">\n",
              "      <th></th>\n",
              "      <th>UNIQUE_CARRIER_NAME</th>\n",
              "      <th>DATE</th>\n",
              "      <th>TOP1_DEST</th>\n",
              "      <th>TOP2_DEST</th>\n",
              "      <th>TOP3_DEST</th>\n",
              "      <th>TOP4_DEST</th>\n",
              "      <th>TOP5_DEST</th>\n",
              "    </tr>\n",
              "  </thead>\n",
              "  <tbody>\n",
              "    <tr>\n",
              "      <th>0</th>\n",
              "      <td>Air Wisconsin Airlines Corp</td>\n",
              "      <td>2014-01-01</td>\n",
              "      <td>Charlotte, NC</td>\n",
              "      <td>Philadelphia, PA</td>\n",
              "      <td>Washington, DC</td>\n",
              "      <td>Boston, MA</td>\n",
              "      <td>Allentown/Bethlehem/Easton, PA</td>\n",
              "    </tr>\n",
              "    <tr>\n",
              "      <th>1</th>\n",
              "      <td>Air Wisconsin Airlines Corp</td>\n",
              "      <td>2014-02-01</td>\n",
              "      <td>Philadelphia, PA</td>\n",
              "      <td>Washington, DC</td>\n",
              "      <td>Charlotte, NC</td>\n",
              "      <td>Boston, MA</td>\n",
              "      <td>Scranton/Wilkes-Barre, PA</td>\n",
              "    </tr>\n",
              "    <tr>\n",
              "      <th>2</th>\n",
              "      <td>Air Wisconsin Airlines Corp</td>\n",
              "      <td>2014-03-01</td>\n",
              "      <td>Philadelphia, PA</td>\n",
              "      <td>Charlotte, NC</td>\n",
              "      <td>Washington, DC</td>\n",
              "      <td>Baltimore, MD</td>\n",
              "      <td>Boston, MA</td>\n",
              "    </tr>\n",
              "    <tr>\n",
              "      <th>3</th>\n",
              "      <td>Air Wisconsin Airlines Corp</td>\n",
              "      <td>2014-04-01</td>\n",
              "      <td>Charlotte, NC</td>\n",
              "      <td>Philadelphia, PA</td>\n",
              "      <td>Washington, DC</td>\n",
              "      <td>Boston, MA</td>\n",
              "      <td>New York, NY</td>\n",
              "    </tr>\n",
              "    <tr>\n",
              "      <th>4</th>\n",
              "      <td>Air Wisconsin Airlines Corp</td>\n",
              "      <td>2014-05-01</td>\n",
              "      <td>Charlotte, NC</td>\n",
              "      <td>Philadelphia, PA</td>\n",
              "      <td>Washington, DC</td>\n",
              "      <td>Boston, MA</td>\n",
              "      <td>Greensboro/High Point, NC</td>\n",
              "    </tr>\n",
              "  </tbody>\n",
              "</table>\n",
              "</div>"
            ]
          },
          "metadata": {
            "tags": []
          },
          "execution_count": 27
        }
      ]
    },
    {
      "cell_type": "code",
      "metadata": {
        "id": "vSZ2dBLNM0ev"
      },
      "source": [
        "top5_dest_features.to_csv(\"features_files/top5_dest_features.csv\")"
      ],
      "execution_count": null,
      "outputs": []
    },
    {
      "cell_type": "markdown",
      "metadata": {
        "id": "PIlFXpsQgk9H"
      },
      "source": [
        "#### TOP 5 DESTINATIONS With Weather features"
      ]
    },
    {
      "cell_type": "code",
      "metadata": {
        "id": "t7_3WE3XjfUI"
      },
      "source": [
        "!python weather_data.py ## launch this commend if needed "
      ],
      "execution_count": null,
      "outputs": []
    },
    {
      "cell_type": "code",
      "metadata": {
        "id": "GW2uRARmNfFA"
      },
      "source": [
        "##create empty columns\n",
        "top5dest_data_mod = top5_dest_features.copy()\n",
        "features = ['TAVG', 'TMAX', 'PRCP', 'SNOW', 'WSPD', 'TSUN']\n",
        "num_top = range(1,6)\n",
        "\n",
        "num_cols = top5dest_data_mod.shape[1]\n",
        "for n in num_top:\n",
        "  for f in features:\n",
        "    nb_col = num_cols - (5 - n)\n",
        "    name_col = f\"TOP{n}_{f}\"\n",
        "    top5dest_data_mod.insert(nb_col, name_col, pd.Series(dtype=float))"
      ],
      "execution_count": null,
      "outputs": []
    },
    {
      "cell_type": "code",
      "metadata": {
        "id": "1TF0oW8yjfSf"
      },
      "source": [
        "## fill the column with weather data\n",
        "unique_destinations = pd.read_csv(path + \"weather_dataset.csv\", header=0, index_col=0)\n",
        "unique_destinations[\"DATE\"] = pd.to_datetime(unique_destinations[\"DATE\"])\n",
        "\n",
        "def fill_weather_statistics(row, n=5, features=features):\n",
        "    \"\"\"Finds weather statistics for a dataframe row\"\"\"\n",
        "    date = row[\"DATE\"]\n",
        "    top_range = range(1, n+1)\n",
        "    for n in top_range:\n",
        "        top_features = [f\"TOP{n}_{f}\" for f in features]\n",
        "        row[top_features] = unique_destinations[\n",
        "            (unique_destinations[\"DATE\"].dt.year == date.year) &\n",
        "            (unique_destinations[\"DATE\"].dt.month == date.month) &\n",
        "            (row[f\"TOP{n}_DEST\"] == unique_destinations[\"DEST_CITY_NAME\"])\n",
        "        ][features].values[0]\n",
        "    return row"
      ],
      "execution_count": null,
      "outputs": []
    },
    {
      "cell_type": "code",
      "metadata": {
        "id": "vbRKwHfMMH2M"
      },
      "source": [
        "tqdm.pandas()\n",
        "top5dest_data_mod = top5dest_data_mod.progress_apply(fill_weather_statistics, axis=1)\n",
        "top5dest_data_mod.head()"
      ],
      "execution_count": null,
      "outputs": []
    },
    {
      "cell_type": "code",
      "metadata": {
        "id": "fIF1AvxfeNAZ"
      },
      "source": [
        "top5dest_data_mod.to_csv(\"features_files/top5_dest_with_temp.csv\")"
      ],
      "execution_count": null,
      "outputs": []
    },
    {
      "cell_type": "markdown",
      "metadata": {
        "id": "lEiyvixD6weq"
      },
      "source": [
        "### Statistical Features"
      ]
    },
    {
      "cell_type": "code",
      "metadata": {
        "id": "9WC5hb9qeguF"
      },
      "source": [
        "def get_statistical_features(data):\r\n",
        "  # NB Flights / Month : \r\n",
        "  count_flights = pd.DataFrame(data.groupby(['UNIQUE_CARRIER_NAME', 'DATE'])['PASSENGERS'].count().reset_index(name = 'NB_FLIGHTS'))\r\n",
        "  updated_df = load_factor_data.merge(count_flights, on=['UNIQUE_CARRIER_NAME', 'DATE'])\r\n",
        "  # Average Distance Performed \r\n",
        "  avg_distance = pd.DataFrame(data.groupby(['UNIQUE_CARRIER_NAME', 'DATE'])['DISTANCE'].mean().reset_index(name='AVG_DIST'))\r\n",
        "  updated_df = updated_df.merge(avg_distance, on=['UNIQUE_CARRIER_NAME', 'DATE'])\r\n",
        "  # Average Freight\r\n",
        "  avg_freight = pd.DataFrame(data.groupby(['UNIQUE_CARRIER_NAME', 'DATE'])['FREIGHT'].mean().reset_index(name='AVG_FREIGHT'))\r\n",
        "  updated_df = updated_df.merge(avg_freight, on=['UNIQUE_CARRIER_NAME', 'DATE'])\r\n",
        "  # Average Mail\r\n",
        "  avg_mail = pd.DataFrame(data.groupby(['UNIQUE_CARRIER_NAME', 'DATE'])['MAIL'].mean().reset_index(name='AVG_MAIL'))\r\n",
        "  updated_df = updated_df.merge(avg_mail, on=['UNIQUE_CARRIER_NAME', 'DATE'])\r\n",
        "  # Average Payload\r\n",
        "  avg_payload = pd.DataFrame(data.groupby(['UNIQUE_CARRIER_NAME', 'DATE'])['PAYLOAD'].mean().reset_index(name='AVG_PAYLOAD'))\r\n",
        "  updated_df = updated_df.merge(avg_payload, on=['UNIQUE_CARRIER_NAME', 'DATE'])\r\n",
        "  return updated_df"
      ],
      "execution_count": null,
      "outputs": []
    },
    {
      "cell_type": "code",
      "metadata": {
        "id": "PlOS6tDTfD86",
        "outputId": "92621e45-1a27-414b-e2e4-16cec8665d69"
      },
      "source": [
        "statistical_features = get_statistical_features(df)\r\n",
        "statistical_features.head()"
      ],
      "execution_count": null,
      "outputs": [
        {
          "output_type": "execute_result",
          "data": {
            "text/plain": [
              "           UNIQUE_CARRIER_NAME       DATE  LOAD_FACTOR  NB_FLIGHTS    AVG_DIST  AVG_FREIGHT   AVG_MAIL    AVG_PAYLOAD\n",
              "0  Air Wisconsin Airlines Corp 2014-01-01     0.739282         299  404.053512   354.642140   6.591973  858234.367893\n",
              "1  Air Wisconsin Airlines Corp 2014-02-01     0.751272         281  374.444840   448.330961   2.199288  838465.103203\n",
              "2  Air Wisconsin Airlines Corp 2014-03-01     0.786705         298  388.926174   519.741611   3.231544  964895.328859\n",
              "3  Air Wisconsin Airlines Corp 2014-04-01     0.809854         305  383.127869   590.373770   3.186885  974455.822951\n",
              "4  Air Wisconsin Airlines Corp 2014-05-01     0.832353         323  378.746130   377.752322  36.650155  914715.182663"
            ],
            "text/html": [
              "<div>\n",
              "<style scoped>\n",
              "    .dataframe tbody tr th:only-of-type {\n",
              "        vertical-align: middle;\n",
              "    }\n",
              "\n",
              "    .dataframe tbody tr th {\n",
              "        vertical-align: top;\n",
              "    }\n",
              "\n",
              "    .dataframe thead th {\n",
              "        text-align: right;\n",
              "    }\n",
              "</style>\n",
              "<table border=\"1\" class=\"dataframe\">\n",
              "  <thead>\n",
              "    <tr style=\"text-align: right;\">\n",
              "      <th></th>\n",
              "      <th>UNIQUE_CARRIER_NAME</th>\n",
              "      <th>DATE</th>\n",
              "      <th>LOAD_FACTOR</th>\n",
              "      <th>NB_FLIGHTS</th>\n",
              "      <th>AVG_DIST</th>\n",
              "      <th>AVG_FREIGHT</th>\n",
              "      <th>AVG_MAIL</th>\n",
              "      <th>AVG_PAYLOAD</th>\n",
              "    </tr>\n",
              "  </thead>\n",
              "  <tbody>\n",
              "    <tr>\n",
              "      <th>0</th>\n",
              "      <td>Air Wisconsin Airlines Corp</td>\n",
              "      <td>2014-01-01</td>\n",
              "      <td>0.739282</td>\n",
              "      <td>299</td>\n",
              "      <td>404.053512</td>\n",
              "      <td>354.642140</td>\n",
              "      <td>6.591973</td>\n",
              "      <td>858234.367893</td>\n",
              "    </tr>\n",
              "    <tr>\n",
              "      <th>1</th>\n",
              "      <td>Air Wisconsin Airlines Corp</td>\n",
              "      <td>2014-02-01</td>\n",
              "      <td>0.751272</td>\n",
              "      <td>281</td>\n",
              "      <td>374.444840</td>\n",
              "      <td>448.330961</td>\n",
              "      <td>2.199288</td>\n",
              "      <td>838465.103203</td>\n",
              "    </tr>\n",
              "    <tr>\n",
              "      <th>2</th>\n",
              "      <td>Air Wisconsin Airlines Corp</td>\n",
              "      <td>2014-03-01</td>\n",
              "      <td>0.786705</td>\n",
              "      <td>298</td>\n",
              "      <td>388.926174</td>\n",
              "      <td>519.741611</td>\n",
              "      <td>3.231544</td>\n",
              "      <td>964895.328859</td>\n",
              "    </tr>\n",
              "    <tr>\n",
              "      <th>3</th>\n",
              "      <td>Air Wisconsin Airlines Corp</td>\n",
              "      <td>2014-04-01</td>\n",
              "      <td>0.809854</td>\n",
              "      <td>305</td>\n",
              "      <td>383.127869</td>\n",
              "      <td>590.373770</td>\n",
              "      <td>3.186885</td>\n",
              "      <td>974455.822951</td>\n",
              "    </tr>\n",
              "    <tr>\n",
              "      <th>4</th>\n",
              "      <td>Air Wisconsin Airlines Corp</td>\n",
              "      <td>2014-05-01</td>\n",
              "      <td>0.832353</td>\n",
              "      <td>323</td>\n",
              "      <td>378.746130</td>\n",
              "      <td>377.752322</td>\n",
              "      <td>36.650155</td>\n",
              "      <td>914715.182663</td>\n",
              "    </tr>\n",
              "  </tbody>\n",
              "</table>\n",
              "</div>"
            ]
          },
          "metadata": {
            "tags": []
          },
          "execution_count": 35
        }
      ]
    },
    {
      "cell_type": "code",
      "metadata": {
        "id": "darxWLSXM66q"
      },
      "source": [
        "statistical_features.to_csv(\"features_files/statistical_features.csv\")"
      ],
      "execution_count": null,
      "outputs": []
    },
    {
      "cell_type": "markdown",
      "metadata": {
        "id": "OTT5ulx_fXxe"
      },
      "source": [
        "# All Features processed\n",
        "---"
      ]
    },
    {
      "cell_type": "code",
      "metadata": {
        "id": "lo_Ny7J0Q82v"
      },
      "source": [
        "load_factor_data['DATE'] = pd.to_datetime(load_factor_data['DATE'])"
      ],
      "execution_count": null,
      "outputs": []
    },
    {
      "cell_type": "code",
      "metadata": {
        "id": "IaSZXO5tfRni"
      },
      "source": [
        "def get_featured_dataset(load_factor_data):\n",
        "  distance_features = pd.read_csv(\"distance_features.csv\")\n",
        "  top1_dest_features = pd.read_csv(\"top1_dest_features.csv\")\n",
        "  top5_dest_features = pd.read_csv(\"top5_dest_features.csv\")\n",
        "  top5_dest_features_temp = pd.read_csv(\"top5_dest_with_temp.csv\")\n",
        "  statistical_features = pd.read_csv(\"statistical_features.csv\")\n",
        "  statistical_features.drop(columns='LOAD_FACTOR', inplace=True)\n",
        "  aircraft_type_features = pd.read_csv(\"aircraft_type_frequency_features.csv\")\n",
        "\n",
        "  featured_dataset = distance_features.merge(top1_dest_features,  on=['UNIQUE_CARRIER_NAME', 'DATE'])\n",
        "  featured_dataset.drop(featured_dataset.columns[featured_dataset.columns.str.contains('unnamed', case=False)], axis = 1, inplace = True)\n",
        "\n",
        "  featured_dataset = featured_dataset.merge(statistical_features, on=['UNIQUE_CARRIER_NAME', 'DATE'])\n",
        "  featured_dataset.drop(featured_dataset.columns[featured_dataset.columns.str.contains('unnamed', case=False)], axis = 1, inplace = True)\n",
        "\n",
        "  featured_dataset['DATE'] = pd.to_datetime(featured_dataset['DATE'])\n",
        "  featured_dataset = featured_dataset.merge(load_factor_data, on=['UNIQUE_CARRIER_NAME', 'DATE'])\n",
        "  featured_dataset.drop(featured_dataset.columns[featured_dataset.columns.str.contains('unnamed', case=False)], axis = 1, inplace = True)\n",
        "  featured_dataset.drop(columns=['TOP1_DEST'], inplace=True)\n",
        "  featured_dataset['DATE'] = pd.to_datetime(featured_dataset['DATE'])\n",
        "  top5_dest_features_temp['DATE'] = pd.to_datetime(top5_dest_features_temp['DATE'])\n",
        "  featured_dataset = featured_dataset.merge(top5_dest_features_temp, on=['UNIQUE_CARRIER_NAME', 'DATE'])\n",
        "\n",
        "  PMI_data['DATE'] = pd.to_datetime(PMI_data['DATE'])\n",
        "  featured_dataset = featured_dataset.merge(PMI_data, on=['DATE'])\n",
        "  fuel_price_barrel['DATE'] = pd.to_datetime(fuel_price_barrel['DATE'])\n",
        "  featured_dataset = featured_dataset.merge(fuel_price_barrel, on=['DATE'])\n",
        "  unemployment_data['DATE'] = pd.to_datetime(unemployment_data['DATE'])\n",
        "  featured_dataset = featured_dataset.merge(unemployment_data, on=['DATE'])\n",
        "  aircraft_type_features['DATE'] = pd.to_datetime(aircraft_type_features['DATE'])\n",
        "  featured_dataset = featured_dataset.merge(aircraft_type_features, on=['UNIQUE_CARRIER_NAME', 'DATE'])\n",
        "  featured_dataset['DATE'] = pd.to_datetime(featured_dataset['DATE'])\n",
        "  featured_dataset.drop(featured_dataset.columns[featured_dataset.columns.str.contains('unnamed', case=False)], axis = 1, inplace = True)\n",
        "  return featured_dataset"
      ],
      "execution_count": null,
      "outputs": []
    },
    {
      "cell_type": "code",
      "metadata": {
        "colab": {
          "base_uri": "https://localhost:8080/",
          "height": 640
        },
        "id": "8D9a9QkYgbSB",
        "outputId": "3dfe4d91-3ef3-4038-e909-4dc26f2dc747"
      },
      "source": [
        "featured_dataset = get_featured_dataset(load_factor_data)\r\n",
        "featured_dataset.sort_index(axis = 1, inplace=True)\r\n",
        "col1 = featured_dataset['UNIQUE_CARRIER_NAME']\r\n",
        "col2 = featured_dataset['DATE']\r\n",
        "col3 = featured_dataset['LOAD_FACTOR']\r\n",
        "featured_dataset.pop('UNIQUE_CARRIER_NAME')\r\n",
        "featured_dataset.pop('DATE')\r\n",
        "featured_dataset.pop('LOAD_FACTOR')\r\n",
        "featured_dataset.insert(0, 'UNIQUE_CARRIER_NAME', col1)\r\n",
        "featured_dataset.insert(1, 'DATE', col2)\r\n",
        "featured_dataset.insert(featured_dataset.shape[1],'LOAD_FACTOR', col3)\r\n",
        "featured_dataset"
      ],
      "execution_count": null,
      "outputs": [
        {
          "output_type": "execute_result",
          "data": {
            "text/plain": [
              "                         UNIQUE_CARRIER_NAME       DATE  194   26  339   35  359  406  416  461  482  530    608    612    614  616    617  619    622    623    624    625    626    627    629    631    634    637    638    650    655    656   673  674  675  676  677  678    687    694    696    698    699  721    722  723    819  822    837  838  839    887    888    889     AVG_DIST   AVG_FREIGHT     AVG_MAIL   AVG_PAYLOAD   DG_1   DG_2   DG_3   DG_4   DG_5  NB_FLIGHTS   PMI  Price              TOP1_DEST  TOP1_PRCP  TOP1_SNOW  TOP1_TAVG  TOP1_TMAX  TOP1_TSUN  TOP1_WSPD         TOP2_DEST  TOP2_PRCP   TOP2_SNOW  TOP2_TAVG  TOP2_TMAX  TOP2_TSUN  TOP2_WSPD          TOP3_DEST  TOP3_PRCP   TOP3_SNOW  TOP3_TAVG  TOP3_TMAX  TOP3_TSUN  TOP3_WSPD           TOP4_DEST  TOP4_PRCP  TOP4_SNOW  TOP4_TAVG  TOP4_TMAX  TOP4_TSUN  TOP4_WSPD                       TOP5_DEST  TOP5_PRCP  TOP5_SNOW  TOP5_TAVG  TOP5_TMAX  TOP5_TSUN  TOP5_WSPD  TOP_1_DEST_FQ UNEMPLOYMENT  LOAD_FACTOR\n",
              "0                Air Wisconsin Airlines Corp 2014-01-01  0.0  0.0  0.0  0.0  0.0  0.0  0.0  0.0  0.0  0.0  0.000  0.000  0.000  0.0  0.000  0.0  0.000  0.000  0.000  0.000  0.000  0.000  1.000  0.000  0.000  0.000  0.000  0.000  0.000  0.000  0.00  0.0  0.0  0.0  0.0  0.0  0.000  0.000  0.000  0.000  0.000  0.0  0.000  0.0  0.000  0.0  0.000  0.0  0.0  0.000  0.000  0.000   404.053512    354.642140     6.591973  8.582344e+05  0.706  0.288  0.007  0.000  0.000         299  57.0  97.41          Charlotte, NC       12.2        0.0  16.987097       30.6        0.0   7.990323  Philadelphia, PA      201.8    0.000000  23.070000       34.4        0.0  14.620000     Washington, DC       89.5    2.857143   5.139286       23.3        0.0  13.282143          Boston, MA      108.7   0.000000   7.112903       20.6        0.0  14.458065  Allentown/Bethlehem/Easton, PA       94.0   2.666667   8.726667       30.6        0.0  14.293333       0.163880         6.7%     0.739282\n",
              "1                       Alaska Airlines Inc. 2014-01-01  0.0  0.0  0.0  0.0  0.0  0.0  0.0  0.0  0.0  0.0  0.000  0.152  0.351  0.0  0.295  0.0  0.000  0.000  0.000  0.000  0.000  0.000  0.000  0.000  0.202  0.000  0.000  0.000  0.000  0.000  0.00  0.0  0.0  0.0  0.0  0.0  0.000  0.000  0.000  0.000  0.000  0.0  0.000  0.0  0.000  0.0  0.000  0.0  0.0  0.000  0.000  0.000  1173.775510  13008.870130  2729.788497  9.040299e+05  0.178  0.395  0.119  0.093  0.108         539  57.0  97.41            Seattle, WA        3.1        0.0  15.445161       31.1        0.0  10.625806     Anchorage, AK       20.4    0.000000  18.464516       32.2        0.0   9.254839       Portland, OR       71.0    0.000000   6.235484       13.9        0.0  14.222581          Juneau, AK      115.0   5.806452   2.906452       11.1        0.0  11.290323                   San Diego, CA       31.3   0.000000  15.593548       27.8        0.0   9.480645       0.224490         6.7%     0.827900\n",
              "2                              Allegiant Air 2014-01-01  0.0  0.0  0.0  0.0  0.0  0.0  0.0  0.0  0.0  0.0  0.000  0.000  0.000  0.0  0.000  0.0  0.058  0.000  0.000  0.000  0.000  0.000  0.000  0.000  0.000  0.000  0.000  0.000  0.776  0.000  0.00  0.0  0.0  0.0  0.0  0.0  0.000  0.100  0.000  0.066  0.000  0.0  0.000  0.0  0.000  0.0  0.000  0.0  0.0  0.000  0.000  0.000   966.379371      0.000000     0.000000  3.336490e+05  0.110  0.456  0.362  0.047  0.003         572  57.0  97.41            Sanford, FL      201.2        0.0  27.374194       35.6        0.0   9.700000     Las Vegas, NV        5.1    0.000000  35.403226       46.1        0.0  13.754839        Phoenix, AZ       33.3    0.000000  12.909677       24.4        0.0   8.454839  St. Petersburg, FL      166.5   0.000000  15.350000       25.6        0.0  12.460714                    Wendover, UT        4.6   0.000000  11.083871       24.4        0.0  11.232258       0.120629         6.7%     0.855015\n",
              "3                     American Airlines Inc. 2014-01-01  0.0  0.0  0.0  0.0  0.0  0.0  0.0  0.0  0.0  0.0  0.000  0.000  0.368  0.0  0.000  0.0  0.172  0.000  0.000  0.019  0.061  0.025  0.000  0.000  0.000  0.006  0.000  0.000  0.284  0.000  0.00  0.0  0.0  0.0  0.0  0.0  0.000  0.000  0.000  0.057  0.009  0.0  0.000  0.0  0.000  0.0  0.000  0.0  0.0  0.000  0.000  0.000  1123.165939  26116.628821  1301.879185  2.653638e+06  0.199  0.266  0.293  0.105  0.084         687  57.0  97.41  Dallas/Fort Worth, TX       68.1        0.0   0.000000       40.6        0.0   0.000000       Chicago, IL      271.6    0.000000  14.580645       28.3        0.0  16.964516          Miami, FL      191.9    0.000000  25.530000       31.7     3990.0  14.110000        New York, NY      149.3   0.000000  26.119355       35.6        0.0  13.500000                 Los Angeles, CA        0.0   0.000000  22.938710       33.9        0.0  13.558065       0.197962         6.7%     0.807851\n",
              "4                       Delta Air Lines Inc. 2014-01-01  0.0  0.0  0.0  0.0  0.0  0.0  0.0  0.0  0.0  0.0  0.023  0.015  0.130  0.0  0.000  0.0  0.101  0.021  0.006  0.000  0.043  0.003  0.000  0.000  0.000  0.000  0.000  0.026  0.130  0.079  0.00  0.0  0.0  0.0  0.0  0.0  0.006  0.162  0.004  0.220  0.000  0.0  0.000  0.0  0.002  0.0  0.000  0.0  0.0  0.000  0.030  0.000   904.897127   7577.173525  6264.973214  8.985811e+05  0.299  0.352  0.161  0.128  0.052        2576  57.0  97.41            Atlanta, GA       57.9        0.0  24.480645       35.0        0.0  10.951613   Minneapolis, MN       37.0  120.322581 -10.545161        8.3        0.0  12.867742        Detroit, MI       74.5  215.483871  -8.348387        7.2        0.0  19.322581        New York, NY      149.3   0.000000  26.119355       35.6        0.0  13.500000              Salt Lake City, UT       63.6   0.000000  11.464516       26.7        0.0  12.316129       0.189053         6.7%     0.820928\n",
              "...                                      ...        ...  ...  ...  ...  ...  ...  ...  ...  ...  ...  ...    ...    ...    ...  ...    ...  ...    ...    ...    ...    ...    ...    ...    ...    ...    ...    ...    ...    ...    ...    ...   ...  ...  ...  ...  ...  ...    ...    ...    ...    ...    ...  ...    ...  ...    ...  ...    ...  ...  ...    ...    ...    ...          ...           ...          ...           ...    ...    ...    ...    ...    ...         ...   ...    ...                    ...        ...        ...        ...        ...        ...        ...               ...        ...         ...        ...        ...        ...        ...                ...        ...         ...        ...        ...        ...        ...                 ...        ...        ...        ...        ...        ...        ...                             ...        ...        ...        ...        ...        ...        ...            ...          ...          ...\n",
              "1489                   SkyWest Airlines Inc. 2019-12-01  0.0  0.0  0.0  0.0  0.0  0.0  0.0  0.0  0.0  0.0  0.000  0.000  0.000  0.0  0.000  0.0  0.000  0.000  0.000  0.000  0.000  0.000  0.353  0.259  0.000  0.000  0.079  0.000  0.000  0.000  0.31  0.0  0.0  0.0  0.0  0.0  0.000  0.000  0.000  0.000  0.000  0.0  0.000  0.0  0.000  0.0  0.000  0.0  0.0  0.000  0.000  0.000   561.145609      0.000000     0.000000  3.812871e+05  0.482  0.417  0.085  0.016  0.000        2699  48.1  61.21            Chicago, IL      146.9        0.0  25.387097       34.4        0.0  12.367742        Denver, CO      234.6    0.000000  26.706897       33.0        0.0   0.000000    Minneapolis, MN       58.0   22.000000  -0.433333        7.8        0.0  15.340000  Salt Lake City, UT        1.8   0.000000  27.303226       38.3        0.0  12.951613                     Detroit, MI       58.2   1.935484   1.500000       14.4        0.0  15.612903       0.091145         3.5%     0.814412\n",
              "1490                  Southwest Airlines Co. 2019-12-01  0.0  0.0  0.0  0.0  0.0  0.0  0.0  0.0  0.0  0.0  0.000  0.538  0.462  0.0  0.000  0.0  0.000  0.000  0.000  0.000  0.000  0.000  0.000  0.000  0.000  0.000  0.000  0.000  0.000  0.000  0.00  0.0  0.0  0.0  0.0  0.0  0.000  0.000  0.000  0.000  0.000  0.0  0.000  0.0  0.000  0.0  0.000  0.0  0.0  0.000  0.000  0.000   909.969001   8374.881362     0.000000  1.595829e+06  0.259  0.374  0.216  0.117  0.033        2613  48.1  61.21             Denver, CO      234.6        0.0  26.706897       33.0        0.0   0.000000       Chicago, IL      146.9    0.000000  25.387097       34.4        0.0  12.367742         Dallas, TX       72.9    0.000000  30.319355       39.4        0.0  15.051613       Baltimore, MD       81.4   0.000000  10.953333       30.6        0.0  14.686667                   Las Vegas, NV        6.3   0.000000  23.712903       40.0        0.0  17.022581       0.043628         3.5%     0.841404\n",
              "1491                        Spirit Air Lines 2019-12-01  0.0  0.0  0.0  0.0  0.0  0.0  0.0  0.0  0.0  0.0  0.000  0.000  0.000  0.0  0.000  0.0  0.000  0.000  0.000  0.000  0.000  0.000  0.000  0.000  0.000  0.000  0.000  0.000  0.000  0.000  0.00  0.0  0.0  0.0  0.0  0.0  0.000  0.414  0.000  0.176  0.148  0.0  0.261  0.0  0.000  0.0  0.000  0.0  0.0  0.000  0.000  0.000  1011.542636      0.000000     0.000000  7.029247e+05  0.118  0.440  0.300  0.100  0.042         903  48.1  61.21    Fort Lauderdale, FL       43.6        0.0  21.461290       29.4        0.0  16.400000       Orlando, FL       91.4    0.000000  23.606452       33.3        0.0  15.296774      Las Vegas, NV        6.3    0.000000  23.712903       40.0        0.0  17.022581           Tampa, FL      157.1   0.000000  15.383871       27.2        0.0  11.419355                     Chicago, IL      146.9   0.000000  25.387097       34.4        0.0  12.367742       0.100775         3.5%     0.870030\n",
              "1492  Sun Country Airlines d/b/a MN Airlines 2019-12-01  0.0  0.0  0.0  0.0  0.0  0.0  0.0  0.0  0.0  0.0  0.000  0.042  0.958  0.0  0.000  0.0  0.000  0.000  0.000  0.000  0.000  0.000  0.000  0.000  0.000  0.000  0.000  0.000  0.000  0.000  0.00  0.0  0.0  0.0  0.0  0.0  0.000  0.000  0.000  0.000  0.000  0.0  0.000  0.0  0.000  0.0  0.000  0.0  0.0  0.000  0.000  0.000   966.980282    284.856338  2598.284507  2.902490e+05  0.166  0.394  0.296  0.115  0.017         355  48.1  61.21    Gulfport/Biloxi, MS      100.8        0.0   8.358065       22.2        0.0  14.274194   Minneapolis, MN       58.0   22.000000  -0.433333        7.8        0.0  15.340000  Bullhead City, AZ       18.0    0.000000  10.440000       25.6        0.0  10.930000       Las Vegas, NV        6.3   0.000000  23.712903       40.0        0.0  17.022581           Dallas/Fort Worth, TX       41.9   0.000000   0.000000       38.3        0.0   0.000000       0.123944         3.5%     0.809980\n",
              "1493                   United Air Lines Inc. 2019-12-01  0.0  0.0  0.0  0.0  0.0  0.0  0.0  0.0  0.0  0.0  0.000  0.087  0.194  0.0  0.000  0.0  0.041  0.029  0.016  0.000  0.014  0.024  0.000  0.000  0.035  0.005  0.000  0.000  0.000  0.000  0.00  0.0  0.0  0.0  0.0  0.0  0.000  0.189  0.000  0.175  0.000  0.0  0.000  0.0  0.000  0.0  0.002  0.0  0.0  0.002  0.182  0.004  1150.166187   9114.110072  7057.261151  7.938729e+05  0.183  0.322  0.215  0.146  0.097        2780  48.1  61.21            Chicago, IL      146.9        0.0  25.387097       34.4        0.0  12.367742        Denver, CO      234.6    0.000000  26.706897       33.0        0.0   0.000000        Houston, TX      187.5    0.000000  28.146667       36.1        0.0  13.276667          Newark, NJ      173.3   0.000000  27.038710       37.2        0.0  12.854839               San Francisco, CA        8.7   0.000000  10.967857       24.4        0.0  12.139286       0.110791         3.5%     0.869841\n",
              "\n",
              "[1494 rows x 104 columns]"
            ],
            "text/html": [
              "<div>\n",
              "<style scoped>\n",
              "    .dataframe tbody tr th:only-of-type {\n",
              "        vertical-align: middle;\n",
              "    }\n",
              "\n",
              "    .dataframe tbody tr th {\n",
              "        vertical-align: top;\n",
              "    }\n",
              "\n",
              "    .dataframe thead th {\n",
              "        text-align: right;\n",
              "    }\n",
              "</style>\n",
              "<table border=\"1\" class=\"dataframe\">\n",
              "  <thead>\n",
              "    <tr style=\"text-align: right;\">\n",
              "      <th></th>\n",
              "      <th>UNIQUE_CARRIER_NAME</th>\n",
              "      <th>DATE</th>\n",
              "      <th>194</th>\n",
              "      <th>26</th>\n",
              "      <th>339</th>\n",
              "      <th>35</th>\n",
              "      <th>359</th>\n",
              "      <th>406</th>\n",
              "      <th>416</th>\n",
              "      <th>461</th>\n",
              "      <th>482</th>\n",
              "      <th>530</th>\n",
              "      <th>608</th>\n",
              "      <th>612</th>\n",
              "      <th>614</th>\n",
              "      <th>616</th>\n",
              "      <th>617</th>\n",
              "      <th>619</th>\n",
              "      <th>622</th>\n",
              "      <th>623</th>\n",
              "      <th>624</th>\n",
              "      <th>625</th>\n",
              "      <th>626</th>\n",
              "      <th>627</th>\n",
              "      <th>629</th>\n",
              "      <th>631</th>\n",
              "      <th>634</th>\n",
              "      <th>637</th>\n",
              "      <th>638</th>\n",
              "      <th>650</th>\n",
              "      <th>655</th>\n",
              "      <th>656</th>\n",
              "      <th>673</th>\n",
              "      <th>674</th>\n",
              "      <th>675</th>\n",
              "      <th>676</th>\n",
              "      <th>677</th>\n",
              "      <th>678</th>\n",
              "      <th>687</th>\n",
              "      <th>694</th>\n",
              "      <th>696</th>\n",
              "      <th>698</th>\n",
              "      <th>699</th>\n",
              "      <th>721</th>\n",
              "      <th>722</th>\n",
              "      <th>723</th>\n",
              "      <th>819</th>\n",
              "      <th>822</th>\n",
              "      <th>837</th>\n",
              "      <th>838</th>\n",
              "      <th>839</th>\n",
              "      <th>887</th>\n",
              "      <th>888</th>\n",
              "      <th>889</th>\n",
              "      <th>AVG_DIST</th>\n",
              "      <th>AVG_FREIGHT</th>\n",
              "      <th>AVG_MAIL</th>\n",
              "      <th>AVG_PAYLOAD</th>\n",
              "      <th>DG_1</th>\n",
              "      <th>DG_2</th>\n",
              "      <th>DG_3</th>\n",
              "      <th>DG_4</th>\n",
              "      <th>DG_5</th>\n",
              "      <th>NB_FLIGHTS</th>\n",
              "      <th>PMI</th>\n",
              "      <th>Price</th>\n",
              "      <th>TOP1_DEST</th>\n",
              "      <th>TOP1_PRCP</th>\n",
              "      <th>TOP1_SNOW</th>\n",
              "      <th>TOP1_TAVG</th>\n",
              "      <th>TOP1_TMAX</th>\n",
              "      <th>TOP1_TSUN</th>\n",
              "      <th>TOP1_WSPD</th>\n",
              "      <th>TOP2_DEST</th>\n",
              "      <th>TOP2_PRCP</th>\n",
              "      <th>TOP2_SNOW</th>\n",
              "      <th>TOP2_TAVG</th>\n",
              "      <th>TOP2_TMAX</th>\n",
              "      <th>TOP2_TSUN</th>\n",
              "      <th>TOP2_WSPD</th>\n",
              "      <th>TOP3_DEST</th>\n",
              "      <th>TOP3_PRCP</th>\n",
              "      <th>TOP3_SNOW</th>\n",
              "      <th>TOP3_TAVG</th>\n",
              "      <th>TOP3_TMAX</th>\n",
              "      <th>TOP3_TSUN</th>\n",
              "      <th>TOP3_WSPD</th>\n",
              "      <th>TOP4_DEST</th>\n",
              "      <th>TOP4_PRCP</th>\n",
              "      <th>TOP4_SNOW</th>\n",
              "      <th>TOP4_TAVG</th>\n",
              "      <th>TOP4_TMAX</th>\n",
              "      <th>TOP4_TSUN</th>\n",
              "      <th>TOP4_WSPD</th>\n",
              "      <th>TOP5_DEST</th>\n",
              "      <th>TOP5_PRCP</th>\n",
              "      <th>TOP5_SNOW</th>\n",
              "      <th>TOP5_TAVG</th>\n",
              "      <th>TOP5_TMAX</th>\n",
              "      <th>TOP5_TSUN</th>\n",
              "      <th>TOP5_WSPD</th>\n",
              "      <th>TOP_1_DEST_FQ</th>\n",
              "      <th>UNEMPLOYMENT</th>\n",
              "      <th>LOAD_FACTOR</th>\n",
              "    </tr>\n",
              "  </thead>\n",
              "  <tbody>\n",
              "    <tr>\n",
              "      <th>0</th>\n",
              "      <td>Air Wisconsin Airlines Corp</td>\n",
              "      <td>2014-01-01</td>\n",
              "      <td>0.0</td>\n",
              "      <td>0.0</td>\n",
              "      <td>0.0</td>\n",
              "      <td>0.0</td>\n",
              "      <td>0.0</td>\n",
              "      <td>0.0</td>\n",
              "      <td>0.0</td>\n",
              "      <td>0.0</td>\n",
              "      <td>0.0</td>\n",
              "      <td>0.0</td>\n",
              "      <td>0.000</td>\n",
              "      <td>0.000</td>\n",
              "      <td>0.000</td>\n",
              "      <td>0.0</td>\n",
              "      <td>0.000</td>\n",
              "      <td>0.0</td>\n",
              "      <td>0.000</td>\n",
              "      <td>0.000</td>\n",
              "      <td>0.000</td>\n",
              "      <td>0.000</td>\n",
              "      <td>0.000</td>\n",
              "      <td>0.000</td>\n",
              "      <td>1.000</td>\n",
              "      <td>0.000</td>\n",
              "      <td>0.000</td>\n",
              "      <td>0.000</td>\n",
              "      <td>0.000</td>\n",
              "      <td>0.000</td>\n",
              "      <td>0.000</td>\n",
              "      <td>0.000</td>\n",
              "      <td>0.00</td>\n",
              "      <td>0.0</td>\n",
              "      <td>0.0</td>\n",
              "      <td>0.0</td>\n",
              "      <td>0.0</td>\n",
              "      <td>0.0</td>\n",
              "      <td>0.000</td>\n",
              "      <td>0.000</td>\n",
              "      <td>0.000</td>\n",
              "      <td>0.000</td>\n",
              "      <td>0.000</td>\n",
              "      <td>0.0</td>\n",
              "      <td>0.000</td>\n",
              "      <td>0.0</td>\n",
              "      <td>0.000</td>\n",
              "      <td>0.0</td>\n",
              "      <td>0.000</td>\n",
              "      <td>0.0</td>\n",
              "      <td>0.0</td>\n",
              "      <td>0.000</td>\n",
              "      <td>0.000</td>\n",
              "      <td>0.000</td>\n",
              "      <td>404.053512</td>\n",
              "      <td>354.642140</td>\n",
              "      <td>6.591973</td>\n",
              "      <td>8.582344e+05</td>\n",
              "      <td>0.706</td>\n",
              "      <td>0.288</td>\n",
              "      <td>0.007</td>\n",
              "      <td>0.000</td>\n",
              "      <td>0.000</td>\n",
              "      <td>299</td>\n",
              "      <td>57.0</td>\n",
              "      <td>97.41</td>\n",
              "      <td>Charlotte, NC</td>\n",
              "      <td>12.2</td>\n",
              "      <td>0.0</td>\n",
              "      <td>16.987097</td>\n",
              "      <td>30.6</td>\n",
              "      <td>0.0</td>\n",
              "      <td>7.990323</td>\n",
              "      <td>Philadelphia, PA</td>\n",
              "      <td>201.8</td>\n",
              "      <td>0.000000</td>\n",
              "      <td>23.070000</td>\n",
              "      <td>34.4</td>\n",
              "      <td>0.0</td>\n",
              "      <td>14.620000</td>\n",
              "      <td>Washington, DC</td>\n",
              "      <td>89.5</td>\n",
              "      <td>2.857143</td>\n",
              "      <td>5.139286</td>\n",
              "      <td>23.3</td>\n",
              "      <td>0.0</td>\n",
              "      <td>13.282143</td>\n",
              "      <td>Boston, MA</td>\n",
              "      <td>108.7</td>\n",
              "      <td>0.000000</td>\n",
              "      <td>7.112903</td>\n",
              "      <td>20.6</td>\n",
              "      <td>0.0</td>\n",
              "      <td>14.458065</td>\n",
              "      <td>Allentown/Bethlehem/Easton, PA</td>\n",
              "      <td>94.0</td>\n",
              "      <td>2.666667</td>\n",
              "      <td>8.726667</td>\n",
              "      <td>30.6</td>\n",
              "      <td>0.0</td>\n",
              "      <td>14.293333</td>\n",
              "      <td>0.163880</td>\n",
              "      <td>6.7%</td>\n",
              "      <td>0.739282</td>\n",
              "    </tr>\n",
              "    <tr>\n",
              "      <th>1</th>\n",
              "      <td>Alaska Airlines Inc.</td>\n",
              "      <td>2014-01-01</td>\n",
              "      <td>0.0</td>\n",
              "      <td>0.0</td>\n",
              "      <td>0.0</td>\n",
              "      <td>0.0</td>\n",
              "      <td>0.0</td>\n",
              "      <td>0.0</td>\n",
              "      <td>0.0</td>\n",
              "      <td>0.0</td>\n",
              "      <td>0.0</td>\n",
              "      <td>0.0</td>\n",
              "      <td>0.000</td>\n",
              "      <td>0.152</td>\n",
              "      <td>0.351</td>\n",
              "      <td>0.0</td>\n",
              "      <td>0.295</td>\n",
              "      <td>0.0</td>\n",
              "      <td>0.000</td>\n",
              "      <td>0.000</td>\n",
              "      <td>0.000</td>\n",
              "      <td>0.000</td>\n",
              "      <td>0.000</td>\n",
              "      <td>0.000</td>\n",
              "      <td>0.000</td>\n",
              "      <td>0.000</td>\n",
              "      <td>0.202</td>\n",
              "      <td>0.000</td>\n",
              "      <td>0.000</td>\n",
              "      <td>0.000</td>\n",
              "      <td>0.000</td>\n",
              "      <td>0.000</td>\n",
              "      <td>0.00</td>\n",
              "      <td>0.0</td>\n",
              "      <td>0.0</td>\n",
              "      <td>0.0</td>\n",
              "      <td>0.0</td>\n",
              "      <td>0.0</td>\n",
              "      <td>0.000</td>\n",
              "      <td>0.000</td>\n",
              "      <td>0.000</td>\n",
              "      <td>0.000</td>\n",
              "      <td>0.000</td>\n",
              "      <td>0.0</td>\n",
              "      <td>0.000</td>\n",
              "      <td>0.0</td>\n",
              "      <td>0.000</td>\n",
              "      <td>0.0</td>\n",
              "      <td>0.000</td>\n",
              "      <td>0.0</td>\n",
              "      <td>0.0</td>\n",
              "      <td>0.000</td>\n",
              "      <td>0.000</td>\n",
              "      <td>0.000</td>\n",
              "      <td>1173.775510</td>\n",
              "      <td>13008.870130</td>\n",
              "      <td>2729.788497</td>\n",
              "      <td>9.040299e+05</td>\n",
              "      <td>0.178</td>\n",
              "      <td>0.395</td>\n",
              "      <td>0.119</td>\n",
              "      <td>0.093</td>\n",
              "      <td>0.108</td>\n",
              "      <td>539</td>\n",
              "      <td>57.0</td>\n",
              "      <td>97.41</td>\n",
              "      <td>Seattle, WA</td>\n",
              "      <td>3.1</td>\n",
              "      <td>0.0</td>\n",
              "      <td>15.445161</td>\n",
              "      <td>31.1</td>\n",
              "      <td>0.0</td>\n",
              "      <td>10.625806</td>\n",
              "      <td>Anchorage, AK</td>\n",
              "      <td>20.4</td>\n",
              "      <td>0.000000</td>\n",
              "      <td>18.464516</td>\n",
              "      <td>32.2</td>\n",
              "      <td>0.0</td>\n",
              "      <td>9.254839</td>\n",
              "      <td>Portland, OR</td>\n",
              "      <td>71.0</td>\n",
              "      <td>0.000000</td>\n",
              "      <td>6.235484</td>\n",
              "      <td>13.9</td>\n",
              "      <td>0.0</td>\n",
              "      <td>14.222581</td>\n",
              "      <td>Juneau, AK</td>\n",
              "      <td>115.0</td>\n",
              "      <td>5.806452</td>\n",
              "      <td>2.906452</td>\n",
              "      <td>11.1</td>\n",
              "      <td>0.0</td>\n",
              "      <td>11.290323</td>\n",
              "      <td>San Diego, CA</td>\n",
              "      <td>31.3</td>\n",
              "      <td>0.000000</td>\n",
              "      <td>15.593548</td>\n",
              "      <td>27.8</td>\n",
              "      <td>0.0</td>\n",
              "      <td>9.480645</td>\n",
              "      <td>0.224490</td>\n",
              "      <td>6.7%</td>\n",
              "      <td>0.827900</td>\n",
              "    </tr>\n",
              "    <tr>\n",
              "      <th>2</th>\n",
              "      <td>Allegiant Air</td>\n",
              "      <td>2014-01-01</td>\n",
              "      <td>0.0</td>\n",
              "      <td>0.0</td>\n",
              "      <td>0.0</td>\n",
              "      <td>0.0</td>\n",
              "      <td>0.0</td>\n",
              "      <td>0.0</td>\n",
              "      <td>0.0</td>\n",
              "      <td>0.0</td>\n",
              "      <td>0.0</td>\n",
              "      <td>0.0</td>\n",
              "      <td>0.000</td>\n",
              "      <td>0.000</td>\n",
              "      <td>0.000</td>\n",
              "      <td>0.0</td>\n",
              "      <td>0.000</td>\n",
              "      <td>0.0</td>\n",
              "      <td>0.058</td>\n",
              "      <td>0.000</td>\n",
              "      <td>0.000</td>\n",
              "      <td>0.000</td>\n",
              "      <td>0.000</td>\n",
              "      <td>0.000</td>\n",
              "      <td>0.000</td>\n",
              "      <td>0.000</td>\n",
              "      <td>0.000</td>\n",
              "      <td>0.000</td>\n",
              "      <td>0.000</td>\n",
              "      <td>0.000</td>\n",
              "      <td>0.776</td>\n",
              "      <td>0.000</td>\n",
              "      <td>0.00</td>\n",
              "      <td>0.0</td>\n",
              "      <td>0.0</td>\n",
              "      <td>0.0</td>\n",
              "      <td>0.0</td>\n",
              "      <td>0.0</td>\n",
              "      <td>0.000</td>\n",
              "      <td>0.100</td>\n",
              "      <td>0.000</td>\n",
              "      <td>0.066</td>\n",
              "      <td>0.000</td>\n",
              "      <td>0.0</td>\n",
              "      <td>0.000</td>\n",
              "      <td>0.0</td>\n",
              "      <td>0.000</td>\n",
              "      <td>0.0</td>\n",
              "      <td>0.000</td>\n",
              "      <td>0.0</td>\n",
              "      <td>0.0</td>\n",
              "      <td>0.000</td>\n",
              "      <td>0.000</td>\n",
              "      <td>0.000</td>\n",
              "      <td>966.379371</td>\n",
              "      <td>0.000000</td>\n",
              "      <td>0.000000</td>\n",
              "      <td>3.336490e+05</td>\n",
              "      <td>0.110</td>\n",
              "      <td>0.456</td>\n",
              "      <td>0.362</td>\n",
              "      <td>0.047</td>\n",
              "      <td>0.003</td>\n",
              "      <td>572</td>\n",
              "      <td>57.0</td>\n",
              "      <td>97.41</td>\n",
              "      <td>Sanford, FL</td>\n",
              "      <td>201.2</td>\n",
              "      <td>0.0</td>\n",
              "      <td>27.374194</td>\n",
              "      <td>35.6</td>\n",
              "      <td>0.0</td>\n",
              "      <td>9.700000</td>\n",
              "      <td>Las Vegas, NV</td>\n",
              "      <td>5.1</td>\n",
              "      <td>0.000000</td>\n",
              "      <td>35.403226</td>\n",
              "      <td>46.1</td>\n",
              "      <td>0.0</td>\n",
              "      <td>13.754839</td>\n",
              "      <td>Phoenix, AZ</td>\n",
              "      <td>33.3</td>\n",
              "      <td>0.000000</td>\n",
              "      <td>12.909677</td>\n",
              "      <td>24.4</td>\n",
              "      <td>0.0</td>\n",
              "      <td>8.454839</td>\n",
              "      <td>St. Petersburg, FL</td>\n",
              "      <td>166.5</td>\n",
              "      <td>0.000000</td>\n",
              "      <td>15.350000</td>\n",
              "      <td>25.6</td>\n",
              "      <td>0.0</td>\n",
              "      <td>12.460714</td>\n",
              "      <td>Wendover, UT</td>\n",
              "      <td>4.6</td>\n",
              "      <td>0.000000</td>\n",
              "      <td>11.083871</td>\n",
              "      <td>24.4</td>\n",
              "      <td>0.0</td>\n",
              "      <td>11.232258</td>\n",
              "      <td>0.120629</td>\n",
              "      <td>6.7%</td>\n",
              "      <td>0.855015</td>\n",
              "    </tr>\n",
              "    <tr>\n",
              "      <th>3</th>\n",
              "      <td>American Airlines Inc.</td>\n",
              "      <td>2014-01-01</td>\n",
              "      <td>0.0</td>\n",
              "      <td>0.0</td>\n",
              "      <td>0.0</td>\n",
              "      <td>0.0</td>\n",
              "      <td>0.0</td>\n",
              "      <td>0.0</td>\n",
              "      <td>0.0</td>\n",
              "      <td>0.0</td>\n",
              "      <td>0.0</td>\n",
              "      <td>0.0</td>\n",
              "      <td>0.000</td>\n",
              "      <td>0.000</td>\n",
              "      <td>0.368</td>\n",
              "      <td>0.0</td>\n",
              "      <td>0.000</td>\n",
              "      <td>0.0</td>\n",
              "      <td>0.172</td>\n",
              "      <td>0.000</td>\n",
              "      <td>0.000</td>\n",
              "      <td>0.019</td>\n",
              "      <td>0.061</td>\n",
              "      <td>0.025</td>\n",
              "      <td>0.000</td>\n",
              "      <td>0.000</td>\n",
              "      <td>0.000</td>\n",
              "      <td>0.006</td>\n",
              "      <td>0.000</td>\n",
              "      <td>0.000</td>\n",
              "      <td>0.284</td>\n",
              "      <td>0.000</td>\n",
              "      <td>0.00</td>\n",
              "      <td>0.0</td>\n",
              "      <td>0.0</td>\n",
              "      <td>0.0</td>\n",
              "      <td>0.0</td>\n",
              "      <td>0.0</td>\n",
              "      <td>0.000</td>\n",
              "      <td>0.000</td>\n",
              "      <td>0.000</td>\n",
              "      <td>0.057</td>\n",
              "      <td>0.009</td>\n",
              "      <td>0.0</td>\n",
              "      <td>0.000</td>\n",
              "      <td>0.0</td>\n",
              "      <td>0.000</td>\n",
              "      <td>0.0</td>\n",
              "      <td>0.000</td>\n",
              "      <td>0.0</td>\n",
              "      <td>0.0</td>\n",
              "      <td>0.000</td>\n",
              "      <td>0.000</td>\n",
              "      <td>0.000</td>\n",
              "      <td>1123.165939</td>\n",
              "      <td>26116.628821</td>\n",
              "      <td>1301.879185</td>\n",
              "      <td>2.653638e+06</td>\n",
              "      <td>0.199</td>\n",
              "      <td>0.266</td>\n",
              "      <td>0.293</td>\n",
              "      <td>0.105</td>\n",
              "      <td>0.084</td>\n",
              "      <td>687</td>\n",
              "      <td>57.0</td>\n",
              "      <td>97.41</td>\n",
              "      <td>Dallas/Fort Worth, TX</td>\n",
              "      <td>68.1</td>\n",
              "      <td>0.0</td>\n",
              "      <td>0.000000</td>\n",
              "      <td>40.6</td>\n",
              "      <td>0.0</td>\n",
              "      <td>0.000000</td>\n",
              "      <td>Chicago, IL</td>\n",
              "      <td>271.6</td>\n",
              "      <td>0.000000</td>\n",
              "      <td>14.580645</td>\n",
              "      <td>28.3</td>\n",
              "      <td>0.0</td>\n",
              "      <td>16.964516</td>\n",
              "      <td>Miami, FL</td>\n",
              "      <td>191.9</td>\n",
              "      <td>0.000000</td>\n",
              "      <td>25.530000</td>\n",
              "      <td>31.7</td>\n",
              "      <td>3990.0</td>\n",
              "      <td>14.110000</td>\n",
              "      <td>New York, NY</td>\n",
              "      <td>149.3</td>\n",
              "      <td>0.000000</td>\n",
              "      <td>26.119355</td>\n",
              "      <td>35.6</td>\n",
              "      <td>0.0</td>\n",
              "      <td>13.500000</td>\n",
              "      <td>Los Angeles, CA</td>\n",
              "      <td>0.0</td>\n",
              "      <td>0.000000</td>\n",
              "      <td>22.938710</td>\n",
              "      <td>33.9</td>\n",
              "      <td>0.0</td>\n",
              "      <td>13.558065</td>\n",
              "      <td>0.197962</td>\n",
              "      <td>6.7%</td>\n",
              "      <td>0.807851</td>\n",
              "    </tr>\n",
              "    <tr>\n",
              "      <th>4</th>\n",
              "      <td>Delta Air Lines Inc.</td>\n",
              "      <td>2014-01-01</td>\n",
              "      <td>0.0</td>\n",
              "      <td>0.0</td>\n",
              "      <td>0.0</td>\n",
              "      <td>0.0</td>\n",
              "      <td>0.0</td>\n",
              "      <td>0.0</td>\n",
              "      <td>0.0</td>\n",
              "      <td>0.0</td>\n",
              "      <td>0.0</td>\n",
              "      <td>0.0</td>\n",
              "      <td>0.023</td>\n",
              "      <td>0.015</td>\n",
              "      <td>0.130</td>\n",
              "      <td>0.0</td>\n",
              "      <td>0.000</td>\n",
              "      <td>0.0</td>\n",
              "      <td>0.101</td>\n",
              "      <td>0.021</td>\n",
              "      <td>0.006</td>\n",
              "      <td>0.000</td>\n",
              "      <td>0.043</td>\n",
              "      <td>0.003</td>\n",
              "      <td>0.000</td>\n",
              "      <td>0.000</td>\n",
              "      <td>0.000</td>\n",
              "      <td>0.000</td>\n",
              "      <td>0.000</td>\n",
              "      <td>0.026</td>\n",
              "      <td>0.130</td>\n",
              "      <td>0.079</td>\n",
              "      <td>0.00</td>\n",
              "      <td>0.0</td>\n",
              "      <td>0.0</td>\n",
              "      <td>0.0</td>\n",
              "      <td>0.0</td>\n",
              "      <td>0.0</td>\n",
              "      <td>0.006</td>\n",
              "      <td>0.162</td>\n",
              "      <td>0.004</td>\n",
              "      <td>0.220</td>\n",
              "      <td>0.000</td>\n",
              "      <td>0.0</td>\n",
              "      <td>0.000</td>\n",
              "      <td>0.0</td>\n",
              "      <td>0.002</td>\n",
              "      <td>0.0</td>\n",
              "      <td>0.000</td>\n",
              "      <td>0.0</td>\n",
              "      <td>0.0</td>\n",
              "      <td>0.000</td>\n",
              "      <td>0.030</td>\n",
              "      <td>0.000</td>\n",
              "      <td>904.897127</td>\n",
              "      <td>7577.173525</td>\n",
              "      <td>6264.973214</td>\n",
              "      <td>8.985811e+05</td>\n",
              "      <td>0.299</td>\n",
              "      <td>0.352</td>\n",
              "      <td>0.161</td>\n",
              "      <td>0.128</td>\n",
              "      <td>0.052</td>\n",
              "      <td>2576</td>\n",
              "      <td>57.0</td>\n",
              "      <td>97.41</td>\n",
              "      <td>Atlanta, GA</td>\n",
              "      <td>57.9</td>\n",
              "      <td>0.0</td>\n",
              "      <td>24.480645</td>\n",
              "      <td>35.0</td>\n",
              "      <td>0.0</td>\n",
              "      <td>10.951613</td>\n",
              "      <td>Minneapolis, MN</td>\n",
              "      <td>37.0</td>\n",
              "      <td>120.322581</td>\n",
              "      <td>-10.545161</td>\n",
              "      <td>8.3</td>\n",
              "      <td>0.0</td>\n",
              "      <td>12.867742</td>\n",
              "      <td>Detroit, MI</td>\n",
              "      <td>74.5</td>\n",
              "      <td>215.483871</td>\n",
              "      <td>-8.348387</td>\n",
              "      <td>7.2</td>\n",
              "      <td>0.0</td>\n",
              "      <td>19.322581</td>\n",
              "      <td>New York, NY</td>\n",
              "      <td>149.3</td>\n",
              "      <td>0.000000</td>\n",
              "      <td>26.119355</td>\n",
              "      <td>35.6</td>\n",
              "      <td>0.0</td>\n",
              "      <td>13.500000</td>\n",
              "      <td>Salt Lake City, UT</td>\n",
              "      <td>63.6</td>\n",
              "      <td>0.000000</td>\n",
              "      <td>11.464516</td>\n",
              "      <td>26.7</td>\n",
              "      <td>0.0</td>\n",
              "      <td>12.316129</td>\n",
              "      <td>0.189053</td>\n",
              "      <td>6.7%</td>\n",
              "      <td>0.820928</td>\n",
              "    </tr>\n",
              "    <tr>\n",
              "      <th>...</th>\n",
              "      <td>...</td>\n",
              "      <td>...</td>\n",
              "      <td>...</td>\n",
              "      <td>...</td>\n",
              "      <td>...</td>\n",
              "      <td>...</td>\n",
              "      <td>...</td>\n",
              "      <td>...</td>\n",
              "      <td>...</td>\n",
              "      <td>...</td>\n",
              "      <td>...</td>\n",
              "      <td>...</td>\n",
              "      <td>...</td>\n",
              "      <td>...</td>\n",
              "      <td>...</td>\n",
              "      <td>...</td>\n",
              "      <td>...</td>\n",
              "      <td>...</td>\n",
              "      <td>...</td>\n",
              "      <td>...</td>\n",
              "      <td>...</td>\n",
              "      <td>...</td>\n",
              "      <td>...</td>\n",
              "      <td>...</td>\n",
              "      <td>...</td>\n",
              "      <td>...</td>\n",
              "      <td>...</td>\n",
              "      <td>...</td>\n",
              "      <td>...</td>\n",
              "      <td>...</td>\n",
              "      <td>...</td>\n",
              "      <td>...</td>\n",
              "      <td>...</td>\n",
              "      <td>...</td>\n",
              "      <td>...</td>\n",
              "      <td>...</td>\n",
              "      <td>...</td>\n",
              "      <td>...</td>\n",
              "      <td>...</td>\n",
              "      <td>...</td>\n",
              "      <td>...</td>\n",
              "      <td>...</td>\n",
              "      <td>...</td>\n",
              "      <td>...</td>\n",
              "      <td>...</td>\n",
              "      <td>...</td>\n",
              "      <td>...</td>\n",
              "      <td>...</td>\n",
              "      <td>...</td>\n",
              "      <td>...</td>\n",
              "      <td>...</td>\n",
              "      <td>...</td>\n",
              "      <td>...</td>\n",
              "      <td>...</td>\n",
              "      <td>...</td>\n",
              "      <td>...</td>\n",
              "      <td>...</td>\n",
              "      <td>...</td>\n",
              "      <td>...</td>\n",
              "      <td>...</td>\n",
              "      <td>...</td>\n",
              "      <td>...</td>\n",
              "      <td>...</td>\n",
              "      <td>...</td>\n",
              "      <td>...</td>\n",
              "      <td>...</td>\n",
              "      <td>...</td>\n",
              "      <td>...</td>\n",
              "      <td>...</td>\n",
              "      <td>...</td>\n",
              "      <td>...</td>\n",
              "      <td>...</td>\n",
              "      <td>...</td>\n",
              "      <td>...</td>\n",
              "      <td>...</td>\n",
              "      <td>...</td>\n",
              "      <td>...</td>\n",
              "      <td>...</td>\n",
              "      <td>...</td>\n",
              "      <td>...</td>\n",
              "      <td>...</td>\n",
              "      <td>...</td>\n",
              "      <td>...</td>\n",
              "      <td>...</td>\n",
              "      <td>...</td>\n",
              "      <td>...</td>\n",
              "      <td>...</td>\n",
              "      <td>...</td>\n",
              "      <td>...</td>\n",
              "      <td>...</td>\n",
              "      <td>...</td>\n",
              "      <td>...</td>\n",
              "      <td>...</td>\n",
              "      <td>...</td>\n",
              "      <td>...</td>\n",
              "      <td>...</td>\n",
              "      <td>...</td>\n",
              "      <td>...</td>\n",
              "      <td>...</td>\n",
              "      <td>...</td>\n",
              "      <td>...</td>\n",
              "      <td>...</td>\n",
              "      <td>...</td>\n",
              "      <td>...</td>\n",
              "    </tr>\n",
              "    <tr>\n",
              "      <th>1489</th>\n",
              "      <td>SkyWest Airlines Inc.</td>\n",
              "      <td>2019-12-01</td>\n",
              "      <td>0.0</td>\n",
              "      <td>0.0</td>\n",
              "      <td>0.0</td>\n",
              "      <td>0.0</td>\n",
              "      <td>0.0</td>\n",
              "      <td>0.0</td>\n",
              "      <td>0.0</td>\n",
              "      <td>0.0</td>\n",
              "      <td>0.0</td>\n",
              "      <td>0.0</td>\n",
              "      <td>0.000</td>\n",
              "      <td>0.000</td>\n",
              "      <td>0.000</td>\n",
              "      <td>0.0</td>\n",
              "      <td>0.000</td>\n",
              "      <td>0.0</td>\n",
              "      <td>0.000</td>\n",
              "      <td>0.000</td>\n",
              "      <td>0.000</td>\n",
              "      <td>0.000</td>\n",
              "      <td>0.000</td>\n",
              "      <td>0.000</td>\n",
              "      <td>0.353</td>\n",
              "      <td>0.259</td>\n",
              "      <td>0.000</td>\n",
              "      <td>0.000</td>\n",
              "      <td>0.079</td>\n",
              "      <td>0.000</td>\n",
              "      <td>0.000</td>\n",
              "      <td>0.000</td>\n",
              "      <td>0.31</td>\n",
              "      <td>0.0</td>\n",
              "      <td>0.0</td>\n",
              "      <td>0.0</td>\n",
              "      <td>0.0</td>\n",
              "      <td>0.0</td>\n",
              "      <td>0.000</td>\n",
              "      <td>0.000</td>\n",
              "      <td>0.000</td>\n",
              "      <td>0.000</td>\n",
              "      <td>0.000</td>\n",
              "      <td>0.0</td>\n",
              "      <td>0.000</td>\n",
              "      <td>0.0</td>\n",
              "      <td>0.000</td>\n",
              "      <td>0.0</td>\n",
              "      <td>0.000</td>\n",
              "      <td>0.0</td>\n",
              "      <td>0.0</td>\n",
              "      <td>0.000</td>\n",
              "      <td>0.000</td>\n",
              "      <td>0.000</td>\n",
              "      <td>561.145609</td>\n",
              "      <td>0.000000</td>\n",
              "      <td>0.000000</td>\n",
              "      <td>3.812871e+05</td>\n",
              "      <td>0.482</td>\n",
              "      <td>0.417</td>\n",
              "      <td>0.085</td>\n",
              "      <td>0.016</td>\n",
              "      <td>0.000</td>\n",
              "      <td>2699</td>\n",
              "      <td>48.1</td>\n",
              "      <td>61.21</td>\n",
              "      <td>Chicago, IL</td>\n",
              "      <td>146.9</td>\n",
              "      <td>0.0</td>\n",
              "      <td>25.387097</td>\n",
              "      <td>34.4</td>\n",
              "      <td>0.0</td>\n",
              "      <td>12.367742</td>\n",
              "      <td>Denver, CO</td>\n",
              "      <td>234.6</td>\n",
              "      <td>0.000000</td>\n",
              "      <td>26.706897</td>\n",
              "      <td>33.0</td>\n",
              "      <td>0.0</td>\n",
              "      <td>0.000000</td>\n",
              "      <td>Minneapolis, MN</td>\n",
              "      <td>58.0</td>\n",
              "      <td>22.000000</td>\n",
              "      <td>-0.433333</td>\n",
              "      <td>7.8</td>\n",
              "      <td>0.0</td>\n",
              "      <td>15.340000</td>\n",
              "      <td>Salt Lake City, UT</td>\n",
              "      <td>1.8</td>\n",
              "      <td>0.000000</td>\n",
              "      <td>27.303226</td>\n",
              "      <td>38.3</td>\n",
              "      <td>0.0</td>\n",
              "      <td>12.951613</td>\n",
              "      <td>Detroit, MI</td>\n",
              "      <td>58.2</td>\n",
              "      <td>1.935484</td>\n",
              "      <td>1.500000</td>\n",
              "      <td>14.4</td>\n",
              "      <td>0.0</td>\n",
              "      <td>15.612903</td>\n",
              "      <td>0.091145</td>\n",
              "      <td>3.5%</td>\n",
              "      <td>0.814412</td>\n",
              "    </tr>\n",
              "    <tr>\n",
              "      <th>1490</th>\n",
              "      <td>Southwest Airlines Co.</td>\n",
              "      <td>2019-12-01</td>\n",
              "      <td>0.0</td>\n",
              "      <td>0.0</td>\n",
              "      <td>0.0</td>\n",
              "      <td>0.0</td>\n",
              "      <td>0.0</td>\n",
              "      <td>0.0</td>\n",
              "      <td>0.0</td>\n",
              "      <td>0.0</td>\n",
              "      <td>0.0</td>\n",
              "      <td>0.0</td>\n",
              "      <td>0.000</td>\n",
              "      <td>0.538</td>\n",
              "      <td>0.462</td>\n",
              "      <td>0.0</td>\n",
              "      <td>0.000</td>\n",
              "      <td>0.0</td>\n",
              "      <td>0.000</td>\n",
              "      <td>0.000</td>\n",
              "      <td>0.000</td>\n",
              "      <td>0.000</td>\n",
              "      <td>0.000</td>\n",
              "      <td>0.000</td>\n",
              "      <td>0.000</td>\n",
              "      <td>0.000</td>\n",
              "      <td>0.000</td>\n",
              "      <td>0.000</td>\n",
              "      <td>0.000</td>\n",
              "      <td>0.000</td>\n",
              "      <td>0.000</td>\n",
              "      <td>0.000</td>\n",
              "      <td>0.00</td>\n",
              "      <td>0.0</td>\n",
              "      <td>0.0</td>\n",
              "      <td>0.0</td>\n",
              "      <td>0.0</td>\n",
              "      <td>0.0</td>\n",
              "      <td>0.000</td>\n",
              "      <td>0.000</td>\n",
              "      <td>0.000</td>\n",
              "      <td>0.000</td>\n",
              "      <td>0.000</td>\n",
              "      <td>0.0</td>\n",
              "      <td>0.000</td>\n",
              "      <td>0.0</td>\n",
              "      <td>0.000</td>\n",
              "      <td>0.0</td>\n",
              "      <td>0.000</td>\n",
              "      <td>0.0</td>\n",
              "      <td>0.0</td>\n",
              "      <td>0.000</td>\n",
              "      <td>0.000</td>\n",
              "      <td>0.000</td>\n",
              "      <td>909.969001</td>\n",
              "      <td>8374.881362</td>\n",
              "      <td>0.000000</td>\n",
              "      <td>1.595829e+06</td>\n",
              "      <td>0.259</td>\n",
              "      <td>0.374</td>\n",
              "      <td>0.216</td>\n",
              "      <td>0.117</td>\n",
              "      <td>0.033</td>\n",
              "      <td>2613</td>\n",
              "      <td>48.1</td>\n",
              "      <td>61.21</td>\n",
              "      <td>Denver, CO</td>\n",
              "      <td>234.6</td>\n",
              "      <td>0.0</td>\n",
              "      <td>26.706897</td>\n",
              "      <td>33.0</td>\n",
              "      <td>0.0</td>\n",
              "      <td>0.000000</td>\n",
              "      <td>Chicago, IL</td>\n",
              "      <td>146.9</td>\n",
              "      <td>0.000000</td>\n",
              "      <td>25.387097</td>\n",
              "      <td>34.4</td>\n",
              "      <td>0.0</td>\n",
              "      <td>12.367742</td>\n",
              "      <td>Dallas, TX</td>\n",
              "      <td>72.9</td>\n",
              "      <td>0.000000</td>\n",
              "      <td>30.319355</td>\n",
              "      <td>39.4</td>\n",
              "      <td>0.0</td>\n",
              "      <td>15.051613</td>\n",
              "      <td>Baltimore, MD</td>\n",
              "      <td>81.4</td>\n",
              "      <td>0.000000</td>\n",
              "      <td>10.953333</td>\n",
              "      <td>30.6</td>\n",
              "      <td>0.0</td>\n",
              "      <td>14.686667</td>\n",
              "      <td>Las Vegas, NV</td>\n",
              "      <td>6.3</td>\n",
              "      <td>0.000000</td>\n",
              "      <td>23.712903</td>\n",
              "      <td>40.0</td>\n",
              "      <td>0.0</td>\n",
              "      <td>17.022581</td>\n",
              "      <td>0.043628</td>\n",
              "      <td>3.5%</td>\n",
              "      <td>0.841404</td>\n",
              "    </tr>\n",
              "    <tr>\n",
              "      <th>1491</th>\n",
              "      <td>Spirit Air Lines</td>\n",
              "      <td>2019-12-01</td>\n",
              "      <td>0.0</td>\n",
              "      <td>0.0</td>\n",
              "      <td>0.0</td>\n",
              "      <td>0.0</td>\n",
              "      <td>0.0</td>\n",
              "      <td>0.0</td>\n",
              "      <td>0.0</td>\n",
              "      <td>0.0</td>\n",
              "      <td>0.0</td>\n",
              "      <td>0.0</td>\n",
              "      <td>0.000</td>\n",
              "      <td>0.000</td>\n",
              "      <td>0.000</td>\n",
              "      <td>0.0</td>\n",
              "      <td>0.000</td>\n",
              "      <td>0.0</td>\n",
              "      <td>0.000</td>\n",
              "      <td>0.000</td>\n",
              "      <td>0.000</td>\n",
              "      <td>0.000</td>\n",
              "      <td>0.000</td>\n",
              "      <td>0.000</td>\n",
              "      <td>0.000</td>\n",
              "      <td>0.000</td>\n",
              "      <td>0.000</td>\n",
              "      <td>0.000</td>\n",
              "      <td>0.000</td>\n",
              "      <td>0.000</td>\n",
              "      <td>0.000</td>\n",
              "      <td>0.000</td>\n",
              "      <td>0.00</td>\n",
              "      <td>0.0</td>\n",
              "      <td>0.0</td>\n",
              "      <td>0.0</td>\n",
              "      <td>0.0</td>\n",
              "      <td>0.0</td>\n",
              "      <td>0.000</td>\n",
              "      <td>0.414</td>\n",
              "      <td>0.000</td>\n",
              "      <td>0.176</td>\n",
              "      <td>0.148</td>\n",
              "      <td>0.0</td>\n",
              "      <td>0.261</td>\n",
              "      <td>0.0</td>\n",
              "      <td>0.000</td>\n",
              "      <td>0.0</td>\n",
              "      <td>0.000</td>\n",
              "      <td>0.0</td>\n",
              "      <td>0.0</td>\n",
              "      <td>0.000</td>\n",
              "      <td>0.000</td>\n",
              "      <td>0.000</td>\n",
              "      <td>1011.542636</td>\n",
              "      <td>0.000000</td>\n",
              "      <td>0.000000</td>\n",
              "      <td>7.029247e+05</td>\n",
              "      <td>0.118</td>\n",
              "      <td>0.440</td>\n",
              "      <td>0.300</td>\n",
              "      <td>0.100</td>\n",
              "      <td>0.042</td>\n",
              "      <td>903</td>\n",
              "      <td>48.1</td>\n",
              "      <td>61.21</td>\n",
              "      <td>Fort Lauderdale, FL</td>\n",
              "      <td>43.6</td>\n",
              "      <td>0.0</td>\n",
              "      <td>21.461290</td>\n",
              "      <td>29.4</td>\n",
              "      <td>0.0</td>\n",
              "      <td>16.400000</td>\n",
              "      <td>Orlando, FL</td>\n",
              "      <td>91.4</td>\n",
              "      <td>0.000000</td>\n",
              "      <td>23.606452</td>\n",
              "      <td>33.3</td>\n",
              "      <td>0.0</td>\n",
              "      <td>15.296774</td>\n",
              "      <td>Las Vegas, NV</td>\n",
              "      <td>6.3</td>\n",
              "      <td>0.000000</td>\n",
              "      <td>23.712903</td>\n",
              "      <td>40.0</td>\n",
              "      <td>0.0</td>\n",
              "      <td>17.022581</td>\n",
              "      <td>Tampa, FL</td>\n",
              "      <td>157.1</td>\n",
              "      <td>0.000000</td>\n",
              "      <td>15.383871</td>\n",
              "      <td>27.2</td>\n",
              "      <td>0.0</td>\n",
              "      <td>11.419355</td>\n",
              "      <td>Chicago, IL</td>\n",
              "      <td>146.9</td>\n",
              "      <td>0.000000</td>\n",
              "      <td>25.387097</td>\n",
              "      <td>34.4</td>\n",
              "      <td>0.0</td>\n",
              "      <td>12.367742</td>\n",
              "      <td>0.100775</td>\n",
              "      <td>3.5%</td>\n",
              "      <td>0.870030</td>\n",
              "    </tr>\n",
              "    <tr>\n",
              "      <th>1492</th>\n",
              "      <td>Sun Country Airlines d/b/a MN Airlines</td>\n",
              "      <td>2019-12-01</td>\n",
              "      <td>0.0</td>\n",
              "      <td>0.0</td>\n",
              "      <td>0.0</td>\n",
              "      <td>0.0</td>\n",
              "      <td>0.0</td>\n",
              "      <td>0.0</td>\n",
              "      <td>0.0</td>\n",
              "      <td>0.0</td>\n",
              "      <td>0.0</td>\n",
              "      <td>0.0</td>\n",
              "      <td>0.000</td>\n",
              "      <td>0.042</td>\n",
              "      <td>0.958</td>\n",
              "      <td>0.0</td>\n",
              "      <td>0.000</td>\n",
              "      <td>0.0</td>\n",
              "      <td>0.000</td>\n",
              "      <td>0.000</td>\n",
              "      <td>0.000</td>\n",
              "      <td>0.000</td>\n",
              "      <td>0.000</td>\n",
              "      <td>0.000</td>\n",
              "      <td>0.000</td>\n",
              "      <td>0.000</td>\n",
              "      <td>0.000</td>\n",
              "      <td>0.000</td>\n",
              "      <td>0.000</td>\n",
              "      <td>0.000</td>\n",
              "      <td>0.000</td>\n",
              "      <td>0.000</td>\n",
              "      <td>0.00</td>\n",
              "      <td>0.0</td>\n",
              "      <td>0.0</td>\n",
              "      <td>0.0</td>\n",
              "      <td>0.0</td>\n",
              "      <td>0.0</td>\n",
              "      <td>0.000</td>\n",
              "      <td>0.000</td>\n",
              "      <td>0.000</td>\n",
              "      <td>0.000</td>\n",
              "      <td>0.000</td>\n",
              "      <td>0.0</td>\n",
              "      <td>0.000</td>\n",
              "      <td>0.0</td>\n",
              "      <td>0.000</td>\n",
              "      <td>0.0</td>\n",
              "      <td>0.000</td>\n",
              "      <td>0.0</td>\n",
              "      <td>0.0</td>\n",
              "      <td>0.000</td>\n",
              "      <td>0.000</td>\n",
              "      <td>0.000</td>\n",
              "      <td>966.980282</td>\n",
              "      <td>284.856338</td>\n",
              "      <td>2598.284507</td>\n",
              "      <td>2.902490e+05</td>\n",
              "      <td>0.166</td>\n",
              "      <td>0.394</td>\n",
              "      <td>0.296</td>\n",
              "      <td>0.115</td>\n",
              "      <td>0.017</td>\n",
              "      <td>355</td>\n",
              "      <td>48.1</td>\n",
              "      <td>61.21</td>\n",
              "      <td>Gulfport/Biloxi, MS</td>\n",
              "      <td>100.8</td>\n",
              "      <td>0.0</td>\n",
              "      <td>8.358065</td>\n",
              "      <td>22.2</td>\n",
              "      <td>0.0</td>\n",
              "      <td>14.274194</td>\n",
              "      <td>Minneapolis, MN</td>\n",
              "      <td>58.0</td>\n",
              "      <td>22.000000</td>\n",
              "      <td>-0.433333</td>\n",
              "      <td>7.8</td>\n",
              "      <td>0.0</td>\n",
              "      <td>15.340000</td>\n",
              "      <td>Bullhead City, AZ</td>\n",
              "      <td>18.0</td>\n",
              "      <td>0.000000</td>\n",
              "      <td>10.440000</td>\n",
              "      <td>25.6</td>\n",
              "      <td>0.0</td>\n",
              "      <td>10.930000</td>\n",
              "      <td>Las Vegas, NV</td>\n",
              "      <td>6.3</td>\n",
              "      <td>0.000000</td>\n",
              "      <td>23.712903</td>\n",
              "      <td>40.0</td>\n",
              "      <td>0.0</td>\n",
              "      <td>17.022581</td>\n",
              "      <td>Dallas/Fort Worth, TX</td>\n",
              "      <td>41.9</td>\n",
              "      <td>0.000000</td>\n",
              "      <td>0.000000</td>\n",
              "      <td>38.3</td>\n",
              "      <td>0.0</td>\n",
              "      <td>0.000000</td>\n",
              "      <td>0.123944</td>\n",
              "      <td>3.5%</td>\n",
              "      <td>0.809980</td>\n",
              "    </tr>\n",
              "    <tr>\n",
              "      <th>1493</th>\n",
              "      <td>United Air Lines Inc.</td>\n",
              "      <td>2019-12-01</td>\n",
              "      <td>0.0</td>\n",
              "      <td>0.0</td>\n",
              "      <td>0.0</td>\n",
              "      <td>0.0</td>\n",
              "      <td>0.0</td>\n",
              "      <td>0.0</td>\n",
              "      <td>0.0</td>\n",
              "      <td>0.0</td>\n",
              "      <td>0.0</td>\n",
              "      <td>0.0</td>\n",
              "      <td>0.000</td>\n",
              "      <td>0.087</td>\n",
              "      <td>0.194</td>\n",
              "      <td>0.0</td>\n",
              "      <td>0.000</td>\n",
              "      <td>0.0</td>\n",
              "      <td>0.041</td>\n",
              "      <td>0.029</td>\n",
              "      <td>0.016</td>\n",
              "      <td>0.000</td>\n",
              "      <td>0.014</td>\n",
              "      <td>0.024</td>\n",
              "      <td>0.000</td>\n",
              "      <td>0.000</td>\n",
              "      <td>0.035</td>\n",
              "      <td>0.005</td>\n",
              "      <td>0.000</td>\n",
              "      <td>0.000</td>\n",
              "      <td>0.000</td>\n",
              "      <td>0.000</td>\n",
              "      <td>0.00</td>\n",
              "      <td>0.0</td>\n",
              "      <td>0.0</td>\n",
              "      <td>0.0</td>\n",
              "      <td>0.0</td>\n",
              "      <td>0.0</td>\n",
              "      <td>0.000</td>\n",
              "      <td>0.189</td>\n",
              "      <td>0.000</td>\n",
              "      <td>0.175</td>\n",
              "      <td>0.000</td>\n",
              "      <td>0.0</td>\n",
              "      <td>0.000</td>\n",
              "      <td>0.0</td>\n",
              "      <td>0.000</td>\n",
              "      <td>0.0</td>\n",
              "      <td>0.002</td>\n",
              "      <td>0.0</td>\n",
              "      <td>0.0</td>\n",
              "      <td>0.002</td>\n",
              "      <td>0.182</td>\n",
              "      <td>0.004</td>\n",
              "      <td>1150.166187</td>\n",
              "      <td>9114.110072</td>\n",
              "      <td>7057.261151</td>\n",
              "      <td>7.938729e+05</td>\n",
              "      <td>0.183</td>\n",
              "      <td>0.322</td>\n",
              "      <td>0.215</td>\n",
              "      <td>0.146</td>\n",
              "      <td>0.097</td>\n",
              "      <td>2780</td>\n",
              "      <td>48.1</td>\n",
              "      <td>61.21</td>\n",
              "      <td>Chicago, IL</td>\n",
              "      <td>146.9</td>\n",
              "      <td>0.0</td>\n",
              "      <td>25.387097</td>\n",
              "      <td>34.4</td>\n",
              "      <td>0.0</td>\n",
              "      <td>12.367742</td>\n",
              "      <td>Denver, CO</td>\n",
              "      <td>234.6</td>\n",
              "      <td>0.000000</td>\n",
              "      <td>26.706897</td>\n",
              "      <td>33.0</td>\n",
              "      <td>0.0</td>\n",
              "      <td>0.000000</td>\n",
              "      <td>Houston, TX</td>\n",
              "      <td>187.5</td>\n",
              "      <td>0.000000</td>\n",
              "      <td>28.146667</td>\n",
              "      <td>36.1</td>\n",
              "      <td>0.0</td>\n",
              "      <td>13.276667</td>\n",
              "      <td>Newark, NJ</td>\n",
              "      <td>173.3</td>\n",
              "      <td>0.000000</td>\n",
              "      <td>27.038710</td>\n",
              "      <td>37.2</td>\n",
              "      <td>0.0</td>\n",
              "      <td>12.854839</td>\n",
              "      <td>San Francisco, CA</td>\n",
              "      <td>8.7</td>\n",
              "      <td>0.000000</td>\n",
              "      <td>10.967857</td>\n",
              "      <td>24.4</td>\n",
              "      <td>0.0</td>\n",
              "      <td>12.139286</td>\n",
              "      <td>0.110791</td>\n",
              "      <td>3.5%</td>\n",
              "      <td>0.869841</td>\n",
              "    </tr>\n",
              "  </tbody>\n",
              "</table>\n",
              "<p>1494 rows × 104 columns</p>\n",
              "</div>"
            ]
          },
          "metadata": {
            "tags": []
          },
          "execution_count": 43
        }
      ]
    },
    {
      "cell_type": "code",
      "metadata": {
        "id": "ws_Buh8haUeF"
      },
      "source": [
        "featured_dataset.to_csv('features_files/featured_dataset_final.csv')"
      ],
      "execution_count": null,
      "outputs": []
    },
    {
      "cell_type": "markdown",
      "metadata": {
        "id": "Md7OeGd6ui0e"
      },
      "source": [
        "# **Seasonality**\n",
        "---"
      ]
    },
    {
      "cell_type": "code",
      "metadata": {
        "id": "7l8oRIKQv6fM",
        "colab": {
          "base_uri": "https://localhost:8080/",
          "height": 212
        },
        "outputId": "f7cb1a12-bd2f-489d-f4e8-09d2b8ed869e"
      },
      "source": [
        "ts_gb = load_factor_data\r\n",
        "ts_gb.head()"
      ],
      "execution_count": null,
      "outputs": [
        {
          "output_type": "execute_result",
          "data": {
            "text/plain": [
              "  UNIQUE_CARRIER_NAME       DATE  LOAD_FACTOR\n",
              "0         40-Mile Air 2014-01-01     0.200901\n",
              "1         40-Mile Air 2014-02-01     0.128607\n",
              "2         40-Mile Air 2014-03-01     0.206155\n",
              "3         40-Mile Air 2014-04-01     0.272549\n",
              "4         40-Mile Air 2014-05-01     0.334689"
            ],
            "text/html": [
              "<div>\n",
              "<style scoped>\n",
              "    .dataframe tbody tr th:only-of-type {\n",
              "        vertical-align: middle;\n",
              "    }\n",
              "\n",
              "    .dataframe tbody tr th {\n",
              "        vertical-align: top;\n",
              "    }\n",
              "\n",
              "    .dataframe thead th {\n",
              "        text-align: right;\n",
              "    }\n",
              "</style>\n",
              "<table border=\"1\" class=\"dataframe\">\n",
              "  <thead>\n",
              "    <tr style=\"text-align: right;\">\n",
              "      <th></th>\n",
              "      <th>UNIQUE_CARRIER_NAME</th>\n",
              "      <th>DATE</th>\n",
              "      <th>LOAD_FACTOR</th>\n",
              "    </tr>\n",
              "  </thead>\n",
              "  <tbody>\n",
              "    <tr>\n",
              "      <th>0</th>\n",
              "      <td>40-Mile Air</td>\n",
              "      <td>2014-01-01</td>\n",
              "      <td>0.200901</td>\n",
              "    </tr>\n",
              "    <tr>\n",
              "      <th>1</th>\n",
              "      <td>40-Mile Air</td>\n",
              "      <td>2014-02-01</td>\n",
              "      <td>0.128607</td>\n",
              "    </tr>\n",
              "    <tr>\n",
              "      <th>2</th>\n",
              "      <td>40-Mile Air</td>\n",
              "      <td>2014-03-01</td>\n",
              "      <td>0.206155</td>\n",
              "    </tr>\n",
              "    <tr>\n",
              "      <th>3</th>\n",
              "      <td>40-Mile Air</td>\n",
              "      <td>2014-04-01</td>\n",
              "      <td>0.272549</td>\n",
              "    </tr>\n",
              "    <tr>\n",
              "      <th>4</th>\n",
              "      <td>40-Mile Air</td>\n",
              "      <td>2014-05-01</td>\n",
              "      <td>0.334689</td>\n",
              "    </tr>\n",
              "  </tbody>\n",
              "</table>\n",
              "</div>"
            ]
          },
          "metadata": {
            "tags": []
          },
          "execution_count": 49
        }
      ]
    },
    {
      "cell_type": "code",
      "metadata": {
        "id": "S8geiuyQ4leN",
        "colab": {
          "base_uri": "https://localhost:8080/"
        },
        "outputId": "a1cd9235-6f8d-43a4-9417-b02b04aac2d2"
      },
      "source": [
        "len(np.unique(ts_gb['UNIQUE_CARRIER_NAME']))"
      ],
      "execution_count": null,
      "outputs": [
        {
          "output_type": "execute_result",
          "data": {
            "text/plain": [
              "129"
            ]
          },
          "metadata": {
            "tags": []
          },
          "execution_count": 50
        }
      ]
    },
    {
      "cell_type": "code",
      "metadata": {
        "id": "iWye6G-vxKOz",
        "colab": {
          "base_uri": "https://localhost:8080/",
          "height": 212
        },
        "outputId": "41e28d15-c2eb-499b-a347-45447578c4b5"
      },
      "source": [
        "test_seaso = ts_gb[ts_gb['UNIQUE_CARRIER_NAME']=='Frontier Airlines Inc.'].reset_index(drop=True)\r\n",
        "test_seaso.head()"
      ],
      "execution_count": null,
      "outputs": [
        {
          "output_type": "execute_result",
          "data": {
            "text/plain": [
              "      UNIQUE_CARRIER_NAME       DATE  LOAD_FACTOR\n",
              "0  Frontier Airlines Inc. 2014-01-01     0.827377\n",
              "1  Frontier Airlines Inc. 2014-02-01     0.892269\n",
              "2  Frontier Airlines Inc. 2014-03-01     0.922802\n",
              "3  Frontier Airlines Inc. 2014-04-01     0.894875\n",
              "4  Frontier Airlines Inc. 2014-05-01     0.920940"
            ],
            "text/html": [
              "<div>\n",
              "<style scoped>\n",
              "    .dataframe tbody tr th:only-of-type {\n",
              "        vertical-align: middle;\n",
              "    }\n",
              "\n",
              "    .dataframe tbody tr th {\n",
              "        vertical-align: top;\n",
              "    }\n",
              "\n",
              "    .dataframe thead th {\n",
              "        text-align: right;\n",
              "    }\n",
              "</style>\n",
              "<table border=\"1\" class=\"dataframe\">\n",
              "  <thead>\n",
              "    <tr style=\"text-align: right;\">\n",
              "      <th></th>\n",
              "      <th>UNIQUE_CARRIER_NAME</th>\n",
              "      <th>DATE</th>\n",
              "      <th>LOAD_FACTOR</th>\n",
              "    </tr>\n",
              "  </thead>\n",
              "  <tbody>\n",
              "    <tr>\n",
              "      <th>0</th>\n",
              "      <td>Frontier Airlines Inc.</td>\n",
              "      <td>2014-01-01</td>\n",
              "      <td>0.827377</td>\n",
              "    </tr>\n",
              "    <tr>\n",
              "      <th>1</th>\n",
              "      <td>Frontier Airlines Inc.</td>\n",
              "      <td>2014-02-01</td>\n",
              "      <td>0.892269</td>\n",
              "    </tr>\n",
              "    <tr>\n",
              "      <th>2</th>\n",
              "      <td>Frontier Airlines Inc.</td>\n",
              "      <td>2014-03-01</td>\n",
              "      <td>0.922802</td>\n",
              "    </tr>\n",
              "    <tr>\n",
              "      <th>3</th>\n",
              "      <td>Frontier Airlines Inc.</td>\n",
              "      <td>2014-04-01</td>\n",
              "      <td>0.894875</td>\n",
              "    </tr>\n",
              "    <tr>\n",
              "      <th>4</th>\n",
              "      <td>Frontier Airlines Inc.</td>\n",
              "      <td>2014-05-01</td>\n",
              "      <td>0.920940</td>\n",
              "    </tr>\n",
              "  </tbody>\n",
              "</table>\n",
              "</div>"
            ]
          },
          "metadata": {
            "tags": []
          },
          "execution_count": 51
        }
      ]
    },
    {
      "cell_type": "code",
      "metadata": {
        "id": "UiYuq6hKun9l"
      },
      "source": [
        "def plot_seaso(date,val,ts,nbr=6,bool_2020=False,quantile=False,retour=False):\r\n",
        "  \"\"\"\r\n",
        "  #param\r\n",
        "  date = 'date'\r\n",
        "  val = 'value'\r\n",
        "  ts = time_serie\r\n",
        "  nbr = number of years\r\n",
        "  bool_2020 = false means no 2020\r\n",
        "  \"\"\"\r\n",
        "  #new columns\r\n",
        "  ts['Month'] = ts[date].dt.month\r\n",
        "  ts['Year'] = ts[date].dt.year\r\n",
        "  if bool_2020 == False:\r\n",
        "    ts = ts[ts['Year']<2020]\r\n",
        "  #pivot table\r\n",
        "  pivot_table = pd.pivot_table(ts, values=val, index=['Month'], columns=['Year'], aggfunc=np.sum)\r\n",
        "  if quantile == False:\r\n",
        "    pivot_table['b_sup'] = pivot_table.iloc[:,-6:-1].max(axis=1)\r\n",
        "    pivot_table['b_inf'] = pivot_table.iloc[:,-7:-2].min(axis=1)\r\n",
        "  else:\r\n",
        "    pivot_table['b_inf'] = pivot_table.iloc[:,-6:-1].quantile(0.25,axis=1)\r\n",
        "    pivot_table['b_sup'] = pivot_table.iloc[:,-7:-2].quantile(0.75,axis=1)\r\n",
        "  pivot_table['5 Year Avg'] = pivot_table.iloc[:,-8:-3].mean(axis=1)\r\n",
        "  #plot\r\n",
        "  plot = go.Figure()\r\n",
        "  title = \"Seso_graph\"\r\n",
        "  # Set the colors for the lines\r\n",
        "  colors = ['#17becf','#e377c2','#ff7f0e','#2ca02c','darkblue','firebrick',\r\n",
        "            '#1f77b4','#ff7f0e','#2ca02c','#d62728','#9467bd','#8c564b',\r\n",
        "            '#e377c2','#7f7f7f','#bcbd22','#17becf' ]\r\n",
        "  # Create x-axis labels for the months\r\n",
        "  months = ['Jan','Feb','Mar','Apr','May','Jun','Jul','Aug','Sep','Oct','Nov','Dec']\r\n",
        "  data = pivot_table\r\n",
        "  plot.add_trace(go.Scatter(x=months, y=data['b_sup'],\r\n",
        "                            fill=None,\r\n",
        "                            mode=None,\r\n",
        "                            line_color='lightgray',showlegend=False\r\n",
        "                            ))\r\n",
        "  plot.add_trace(go.Scatter(x=months, y=data['b_inf'],\r\n",
        "                            fill='tonexty',\r\n",
        "                            mode=None,\r\n",
        "                            line_color='lightgray', showlegend=False\r\n",
        "                            ))\r\n",
        "  plot.add_trace(go.Scatter(x=months, y=data['5 Year Avg'], name='5 Year Avg',\r\n",
        "                            line=dict(color='black', width=4, dash='dot')))\r\n",
        "\r\n",
        "\r\n",
        "  for i in range(nbr):\r\n",
        "      index = -4-i\r\n",
        "      plot.add_trace(go.Scatter(x=months, y=data.iloc[:,index], name=data.columns[index],\r\n",
        "                              line=dict(color=colors[i], width=4)))\r\n",
        "  plot.update_layout(title=title,\r\n",
        "                    xaxis_title='Month',\r\n",
        "                    yaxis_title='Load factor',\r\n",
        "                    template='plotly_white')\r\n",
        "  plot.show()\r\n",
        "  if retour == True:\r\n",
        "    return pivot_table.iloc[:,index:]"
      ],
      "execution_count": null,
      "outputs": []
    },
    {
      "cell_type": "code",
      "metadata": {
        "colab": {
          "base_uri": "https://localhost:8080/",
          "height": 452
        },
        "id": "MgCZI0SqEB2W",
        "outputId": "c70c5f73-34ef-4c5e-b477-bd5fe5413e61"
      },
      "source": [
        "def extract_boundaries(ts, bool_ramp=True):\r\n",
        "  #new columns\r\n",
        "  ts['Month'] = ts['DATE'].dt.month\r\n",
        "  ts['Year'] = ts['DATE'].dt.year\r\n",
        "  ts = ts[ts['Year']<2020]\r\n",
        "  if not bool_ramp:\r\n",
        "    ts = ts[ts['Year']<2019]\r\n",
        "  #pivot table\r\n",
        "  pivot_table = pd.pivot_table(ts, values='LOAD_FACTOR', index=['Month'], columns=['Year'], aggfunc=np.sum)\r\n",
        "  print(pivot_table.iloc[:,-6:-1].columns)\r\n",
        "  pivot_table['b_inf'] = pivot_table.iloc[:,-6:-1].quantile(0.25,axis=1)\r\n",
        "  print(pivot_table.iloc[:,-7:-2].columns)\r\n",
        "  pivot_table['b_sup'] = pivot_table.iloc[:,-7:-2].quantile(0.75,axis=1)\r\n",
        "  return pd.DataFrame({'inf' : pivot_table['b_inf'], 'sup': pivot_table['b_sup'],'UNIQUE_CARRIER_NAME': ts['UNIQUE_CARRIER_NAME'][1:13]})\r\n",
        "extract_boundaries(test_seaso,False)"
      ],
      "execution_count": null,
      "outputs": [
        {
          "output_type": "stream",
          "text": [
            "Int64Index([2014, 2015, 2016, 2017], dtype='int64', name='Year')\n",
            "Index([2014, 2015, 2016, 2017], dtype='object', name='Year')\n"
          ],
          "name": "stdout"
        },
        {
          "output_type": "execute_result",
          "data": {
            "text/plain": [
              "         inf       sup     UNIQUE_CARRIER_NAME\n",
              "1   0.827251  0.842866  Frontier Airlines Inc.\n",
              "2   0.853996  0.886568  Frontier Airlines Inc.\n",
              "3   0.903694  0.912685  Frontier Airlines Inc.\n",
              "4   0.863481  0.878567  Frontier Airlines Inc.\n",
              "5   0.849808  0.884722  Frontier Airlines Inc.\n",
              "6   0.899886  0.915213  Frontier Airlines Inc.\n",
              "7   0.907119  0.918035  Frontier Airlines Inc.\n",
              "8   0.861994  0.895922  Frontier Airlines Inc.\n",
              "9   0.842213  0.871398  Frontier Airlines Inc.\n",
              "10  0.859256  0.881392  Frontier Airlines Inc.\n",
              "11  0.865136  0.873002  Frontier Airlines Inc.\n",
              "12  0.865172  0.889018  Frontier Airlines Inc."
            ],
            "text/html": [
              "<div>\n",
              "<style scoped>\n",
              "    .dataframe tbody tr th:only-of-type {\n",
              "        vertical-align: middle;\n",
              "    }\n",
              "\n",
              "    .dataframe tbody tr th {\n",
              "        vertical-align: top;\n",
              "    }\n",
              "\n",
              "    .dataframe thead th {\n",
              "        text-align: right;\n",
              "    }\n",
              "</style>\n",
              "<table border=\"1\" class=\"dataframe\">\n",
              "  <thead>\n",
              "    <tr style=\"text-align: right;\">\n",
              "      <th></th>\n",
              "      <th>inf</th>\n",
              "      <th>sup</th>\n",
              "      <th>UNIQUE_CARRIER_NAME</th>\n",
              "    </tr>\n",
              "  </thead>\n",
              "  <tbody>\n",
              "    <tr>\n",
              "      <th>1</th>\n",
              "      <td>0.827251</td>\n",
              "      <td>0.842866</td>\n",
              "      <td>Frontier Airlines Inc.</td>\n",
              "    </tr>\n",
              "    <tr>\n",
              "      <th>2</th>\n",
              "      <td>0.853996</td>\n",
              "      <td>0.886568</td>\n",
              "      <td>Frontier Airlines Inc.</td>\n",
              "    </tr>\n",
              "    <tr>\n",
              "      <th>3</th>\n",
              "      <td>0.903694</td>\n",
              "      <td>0.912685</td>\n",
              "      <td>Frontier Airlines Inc.</td>\n",
              "    </tr>\n",
              "    <tr>\n",
              "      <th>4</th>\n",
              "      <td>0.863481</td>\n",
              "      <td>0.878567</td>\n",
              "      <td>Frontier Airlines Inc.</td>\n",
              "    </tr>\n",
              "    <tr>\n",
              "      <th>5</th>\n",
              "      <td>0.849808</td>\n",
              "      <td>0.884722</td>\n",
              "      <td>Frontier Airlines Inc.</td>\n",
              "    </tr>\n",
              "    <tr>\n",
              "      <th>6</th>\n",
              "      <td>0.899886</td>\n",
              "      <td>0.915213</td>\n",
              "      <td>Frontier Airlines Inc.</td>\n",
              "    </tr>\n",
              "    <tr>\n",
              "      <th>7</th>\n",
              "      <td>0.907119</td>\n",
              "      <td>0.918035</td>\n",
              "      <td>Frontier Airlines Inc.</td>\n",
              "    </tr>\n",
              "    <tr>\n",
              "      <th>8</th>\n",
              "      <td>0.861994</td>\n",
              "      <td>0.895922</td>\n",
              "      <td>Frontier Airlines Inc.</td>\n",
              "    </tr>\n",
              "    <tr>\n",
              "      <th>9</th>\n",
              "      <td>0.842213</td>\n",
              "      <td>0.871398</td>\n",
              "      <td>Frontier Airlines Inc.</td>\n",
              "    </tr>\n",
              "    <tr>\n",
              "      <th>10</th>\n",
              "      <td>0.859256</td>\n",
              "      <td>0.881392</td>\n",
              "      <td>Frontier Airlines Inc.</td>\n",
              "    </tr>\n",
              "    <tr>\n",
              "      <th>11</th>\n",
              "      <td>0.865136</td>\n",
              "      <td>0.873002</td>\n",
              "      <td>Frontier Airlines Inc.</td>\n",
              "    </tr>\n",
              "    <tr>\n",
              "      <th>12</th>\n",
              "      <td>0.865172</td>\n",
              "      <td>0.889018</td>\n",
              "      <td>Frontier Airlines Inc.</td>\n",
              "    </tr>\n",
              "  </tbody>\n",
              "</table>\n",
              "</div>"
            ]
          },
          "metadata": {
            "tags": []
          },
          "execution_count": 53
        }
      ]
    },
    {
      "cell_type": "code",
      "metadata": {
        "id": "8mMneAbwx1Em",
        "colab": {
          "base_uri": "https://localhost:8080/",
          "height": 766
        },
        "outputId": "7415590c-b187-4b37-f127-73d7a43388bf"
      },
      "source": [
        "table = plot_seaso('DATE', 'LOAD_FACTOR', test_seaso, 6, False, True, True) #without 2020 and q25/q75 range\n",
        "table.head()"
      ],
      "execution_count": null,
      "outputs": [
        {
          "output_type": "display_data",
          "data": {
            "application/vnd.plotly.v1+json": {
              "config": {
                "plotlyServerURL": "https://plot.ly"
              },
              "data": [
                {
                  "line": {
                    "color": "lightgray"
                  },
                  "showlegend": false,
                  "type": "scatter",
                  "x": [
                    "Jan",
                    "Feb",
                    "Mar",
                    "Apr",
                    "May",
                    "Jun",
                    "Jul",
                    "Aug",
                    "Sep",
                    "Oct",
                    "Nov",
                    "Dec"
                  ],
                  "y": [
                    0.8403915566457657,
                    0.8846672685140432,
                    0.9093133700361795,
                    0.8731307308154687,
                    0.8726496557269432,
                    0.9148952632802515,
                    0.917342314874493,
                    0.8837591761039144,
                    0.8642504723451782,
                    0.8771845634724326,
                    0.8710171177977698,
                    0.8882306371175516
                  ]
                },
                {
                  "fill": "tonexty",
                  "line": {
                    "color": "lightgray"
                  },
                  "showlegend": false,
                  "type": "scatter",
                  "x": [
                    "Jan",
                    "Feb",
                    "Mar",
                    "Apr",
                    "May",
                    "Jun",
                    "Jul",
                    "Aug",
                    "Sep",
                    "Oct",
                    "Nov",
                    "Dec"
                  ],
                  "y": [
                    0.8268743885059252,
                    0.8496244622948983,
                    0.8952556981905622,
                    0.8505195920551539,
                    0.8627591256884639,
                    0.8954605045318944,
                    0.9060884196145356,
                    0.8642805586828171,
                    0.8215202021578771,
                    0.8569352179438804,
                    0.864819225404062,
                    0.8565456365836358
                  ]
                },
                {
                  "line": {
                    "color": "black",
                    "dash": "dot",
                    "width": 4
                  },
                  "name": "5 Year Avg",
                  "type": "scatter",
                  "x": [
                    "Jan",
                    "Feb",
                    "Mar",
                    "Apr",
                    "May",
                    "Jun",
                    "Jul",
                    "Aug",
                    "Sep",
                    "Oct",
                    "Nov",
                    "Dec"
                  ],
                  "y": [
                    0.8323180413895536,
                    0.8610565559703549,
                    0.9052321695053337,
                    0.8657882987811243,
                    0.8653814146415317,
                    0.9037625546693084,
                    0.9090024591289902,
                    0.8807976118951821,
                    0.8485044539662034,
                    0.867724758340473,
                    0.8678905478489096,
                    0.8712334559545922
                  ]
                },
                {
                  "line": {
                    "color": "#17becf",
                    "width": 4
                  },
                  "name": "2019",
                  "type": "scatter",
                  "x": [
                    "Jan",
                    "Feb",
                    "Mar",
                    "Apr",
                    "May",
                    "Jun",
                    "Jul",
                    "Aug",
                    "Sep",
                    "Oct",
                    "Nov",
                    "Dec"
                  ],
                  "y": [
                    0.8478050205825691,
                    0.8611832840217537,
                    0.8904015095978773,
                    0.8670659126516808,
                    0.8827003111605525,
                    0.9037609801864019,
                    0.9101475870543148,
                    0.8717899824689508,
                    0.8035793334268011,
                    0.8422878472489583,
                    0.8368759623386663,
                    0.8760102383506502
                  ]
                },
                {
                  "line": {
                    "color": "#e377c2",
                    "width": 4
                  },
                  "name": "2018",
                  "type": "scatter",
                  "x": [
                    "Jan",
                    "Feb",
                    "Mar",
                    "Apr",
                    "May",
                    "Jun",
                    "Jul",
                    "Aug",
                    "Sep",
                    "Oct",
                    "Nov",
                    "Dec"
                  ],
                  "y": [
                    0.816658245683333,
                    0.8496244622948983,
                    0.8952556981905622,
                    0.8426140455596431,
                    0.8627591256884639,
                    0.8954605045318944,
                    0.9060884196145356,
                    0.8684042360873833,
                    0.8148003922859481,
                    0.850458900686342,
                    0.8594179167046734,
                    0.8519638111035419
                  ]
                },
                {
                  "line": {
                    "color": "#ff7f0e",
                    "width": 4
                  },
                  "name": "2017",
                  "type": "scatter",
                  "x": [
                    "Jan",
                    "Feb",
                    "Mar",
                    "Apr",
                    "May",
                    "Jun",
                    "Jul",
                    "Aug",
                    "Sep",
                    "Oct",
                    "Nov",
                    "Dec"
                  ],
                  "y": [
                    0.8268743885059252,
                    0.8686304375389557,
                    0.9079929096984636,
                    0.8731307308154687,
                    0.864337463094678,
                    0.8886635739724592,
                    0.8879634620121929,
                    0.8551332935718964,
                    0.8215202021578771,
                    0.8569352179438804,
                    0.8710171177977698,
                    0.8882306371175516
                  ]
                },
                {
                  "line": {
                    "color": "#2ca02c",
                    "width": 4
                  },
                  "name": "2016",
                  "type": "scatter",
                  "x": [
                    "Jan",
                    "Feb",
                    "Mar",
                    "Apr",
                    "May",
                    "Jun",
                    "Jul",
                    "Aug",
                    "Sep",
                    "Oct",
                    "Nov",
                    "Dec"
                  ],
                  "y": [
                    0.8403915566457657,
                    0.8846672685140432,
                    0.9093133700361795,
                    0.8505195920551539,
                    0.8726496557269432,
                    0.9036267746634317,
                    0.9135040716967713,
                    0.8837591761039144,
                    0.849110819789681,
                    0.8600294808890049,
                    0.8652410517414206,
                    0.8565456365836358
                  ]
                },
                {
                  "line": {
                    "color": "darkblue",
                    "width": 4
                  },
                  "name": "2015",
                  "type": "scatter",
                  "x": [
                    "Jan",
                    "Feb",
                    "Mar",
                    "Apr",
                    "May",
                    "Jun",
                    "Jul",
                    "Aug",
                    "Sep",
                    "Oct",
                    "Nov",
                    "Dec"
                  ],
                  "y": [
                    0.850288829897636,
                    0.8100916438971826,
                    0.8907970348262917,
                    0.867801709785974,
                    0.8062204415563846,
                    0.9148952632802515,
                    0.917342314874493,
                    0.8642805586828171,
                    0.8642504723451782,
                    0.8940156287107055,
                    0.8789574275966221,
                    0.8680472861122338
                  ]
                },
                {
                  "line": {
                    "color": "firebrick",
                    "width": 4
                  },
                  "name": "2014",
                  "type": "scatter",
                  "x": [
                    "Jan",
                    "Feb",
                    "Mar",
                    "Apr",
                    "May",
                    "Jun",
                    "Jul",
                    "Aug",
                    "Sep",
                    "Oct",
                    "Nov",
                    "Dec"
                  ],
                  "y": [
                    0.8273771862151074,
                    0.8922689676066944,
                    0.9228018347751713,
                    0.8948754156893813,
                    0.9209403871411892,
                    0.9161666568985053,
                    0.9201140274469579,
                    0.932410795029899,
                    0.8928403832523334,
                    0.8771845634724326,
                    0.864819225404062,
                    0.8913799088559986
                  ]
                }
              ],
              "layout": {
                "template": {
                  "data": {
                    "bar": [
                      {
                        "error_x": {
                          "color": "#2a3f5f"
                        },
                        "error_y": {
                          "color": "#2a3f5f"
                        },
                        "marker": {
                          "line": {
                            "color": "white",
                            "width": 0.5
                          }
                        },
                        "type": "bar"
                      }
                    ],
                    "barpolar": [
                      {
                        "marker": {
                          "line": {
                            "color": "white",
                            "width": 0.5
                          }
                        },
                        "type": "barpolar"
                      }
                    ],
                    "carpet": [
                      {
                        "aaxis": {
                          "endlinecolor": "#2a3f5f",
                          "gridcolor": "#C8D4E3",
                          "linecolor": "#C8D4E3",
                          "minorgridcolor": "#C8D4E3",
                          "startlinecolor": "#2a3f5f"
                        },
                        "baxis": {
                          "endlinecolor": "#2a3f5f",
                          "gridcolor": "#C8D4E3",
                          "linecolor": "#C8D4E3",
                          "minorgridcolor": "#C8D4E3",
                          "startlinecolor": "#2a3f5f"
                        },
                        "type": "carpet"
                      }
                    ],
                    "choropleth": [
                      {
                        "colorbar": {
                          "outlinewidth": 0,
                          "ticks": ""
                        },
                        "type": "choropleth"
                      }
                    ],
                    "contour": [
                      {
                        "colorbar": {
                          "outlinewidth": 0,
                          "ticks": ""
                        },
                        "colorscale": [
                          [
                            0,
                            "#0d0887"
                          ],
                          [
                            0.1111111111111111,
                            "#46039f"
                          ],
                          [
                            0.2222222222222222,
                            "#7201a8"
                          ],
                          [
                            0.3333333333333333,
                            "#9c179e"
                          ],
                          [
                            0.4444444444444444,
                            "#bd3786"
                          ],
                          [
                            0.5555555555555556,
                            "#d8576b"
                          ],
                          [
                            0.6666666666666666,
                            "#ed7953"
                          ],
                          [
                            0.7777777777777778,
                            "#fb9f3a"
                          ],
                          [
                            0.8888888888888888,
                            "#fdca26"
                          ],
                          [
                            1,
                            "#f0f921"
                          ]
                        ],
                        "type": "contour"
                      }
                    ],
                    "contourcarpet": [
                      {
                        "colorbar": {
                          "outlinewidth": 0,
                          "ticks": ""
                        },
                        "type": "contourcarpet"
                      }
                    ],
                    "heatmap": [
                      {
                        "colorbar": {
                          "outlinewidth": 0,
                          "ticks": ""
                        },
                        "colorscale": [
                          [
                            0,
                            "#0d0887"
                          ],
                          [
                            0.1111111111111111,
                            "#46039f"
                          ],
                          [
                            0.2222222222222222,
                            "#7201a8"
                          ],
                          [
                            0.3333333333333333,
                            "#9c179e"
                          ],
                          [
                            0.4444444444444444,
                            "#bd3786"
                          ],
                          [
                            0.5555555555555556,
                            "#d8576b"
                          ],
                          [
                            0.6666666666666666,
                            "#ed7953"
                          ],
                          [
                            0.7777777777777778,
                            "#fb9f3a"
                          ],
                          [
                            0.8888888888888888,
                            "#fdca26"
                          ],
                          [
                            1,
                            "#f0f921"
                          ]
                        ],
                        "type": "heatmap"
                      }
                    ],
                    "heatmapgl": [
                      {
                        "colorbar": {
                          "outlinewidth": 0,
                          "ticks": ""
                        },
                        "colorscale": [
                          [
                            0,
                            "#0d0887"
                          ],
                          [
                            0.1111111111111111,
                            "#46039f"
                          ],
                          [
                            0.2222222222222222,
                            "#7201a8"
                          ],
                          [
                            0.3333333333333333,
                            "#9c179e"
                          ],
                          [
                            0.4444444444444444,
                            "#bd3786"
                          ],
                          [
                            0.5555555555555556,
                            "#d8576b"
                          ],
                          [
                            0.6666666666666666,
                            "#ed7953"
                          ],
                          [
                            0.7777777777777778,
                            "#fb9f3a"
                          ],
                          [
                            0.8888888888888888,
                            "#fdca26"
                          ],
                          [
                            1,
                            "#f0f921"
                          ]
                        ],
                        "type": "heatmapgl"
                      }
                    ],
                    "histogram": [
                      {
                        "marker": {
                          "colorbar": {
                            "outlinewidth": 0,
                            "ticks": ""
                          }
                        },
                        "type": "histogram"
                      }
                    ],
                    "histogram2d": [
                      {
                        "colorbar": {
                          "outlinewidth": 0,
                          "ticks": ""
                        },
                        "colorscale": [
                          [
                            0,
                            "#0d0887"
                          ],
                          [
                            0.1111111111111111,
                            "#46039f"
                          ],
                          [
                            0.2222222222222222,
                            "#7201a8"
                          ],
                          [
                            0.3333333333333333,
                            "#9c179e"
                          ],
                          [
                            0.4444444444444444,
                            "#bd3786"
                          ],
                          [
                            0.5555555555555556,
                            "#d8576b"
                          ],
                          [
                            0.6666666666666666,
                            "#ed7953"
                          ],
                          [
                            0.7777777777777778,
                            "#fb9f3a"
                          ],
                          [
                            0.8888888888888888,
                            "#fdca26"
                          ],
                          [
                            1,
                            "#f0f921"
                          ]
                        ],
                        "type": "histogram2d"
                      }
                    ],
                    "histogram2dcontour": [
                      {
                        "colorbar": {
                          "outlinewidth": 0,
                          "ticks": ""
                        },
                        "colorscale": [
                          [
                            0,
                            "#0d0887"
                          ],
                          [
                            0.1111111111111111,
                            "#46039f"
                          ],
                          [
                            0.2222222222222222,
                            "#7201a8"
                          ],
                          [
                            0.3333333333333333,
                            "#9c179e"
                          ],
                          [
                            0.4444444444444444,
                            "#bd3786"
                          ],
                          [
                            0.5555555555555556,
                            "#d8576b"
                          ],
                          [
                            0.6666666666666666,
                            "#ed7953"
                          ],
                          [
                            0.7777777777777778,
                            "#fb9f3a"
                          ],
                          [
                            0.8888888888888888,
                            "#fdca26"
                          ],
                          [
                            1,
                            "#f0f921"
                          ]
                        ],
                        "type": "histogram2dcontour"
                      }
                    ],
                    "mesh3d": [
                      {
                        "colorbar": {
                          "outlinewidth": 0,
                          "ticks": ""
                        },
                        "type": "mesh3d"
                      }
                    ],
                    "parcoords": [
                      {
                        "line": {
                          "colorbar": {
                            "outlinewidth": 0,
                            "ticks": ""
                          }
                        },
                        "type": "parcoords"
                      }
                    ],
                    "pie": [
                      {
                        "automargin": true,
                        "type": "pie"
                      }
                    ],
                    "scatter": [
                      {
                        "marker": {
                          "colorbar": {
                            "outlinewidth": 0,
                            "ticks": ""
                          }
                        },
                        "type": "scatter"
                      }
                    ],
                    "scatter3d": [
                      {
                        "line": {
                          "colorbar": {
                            "outlinewidth": 0,
                            "ticks": ""
                          }
                        },
                        "marker": {
                          "colorbar": {
                            "outlinewidth": 0,
                            "ticks": ""
                          }
                        },
                        "type": "scatter3d"
                      }
                    ],
                    "scattercarpet": [
                      {
                        "marker": {
                          "colorbar": {
                            "outlinewidth": 0,
                            "ticks": ""
                          }
                        },
                        "type": "scattercarpet"
                      }
                    ],
                    "scattergeo": [
                      {
                        "marker": {
                          "colorbar": {
                            "outlinewidth": 0,
                            "ticks": ""
                          }
                        },
                        "type": "scattergeo"
                      }
                    ],
                    "scattergl": [
                      {
                        "marker": {
                          "colorbar": {
                            "outlinewidth": 0,
                            "ticks": ""
                          }
                        },
                        "type": "scattergl"
                      }
                    ],
                    "scattermapbox": [
                      {
                        "marker": {
                          "colorbar": {
                            "outlinewidth": 0,
                            "ticks": ""
                          }
                        },
                        "type": "scattermapbox"
                      }
                    ],
                    "scatterpolar": [
                      {
                        "marker": {
                          "colorbar": {
                            "outlinewidth": 0,
                            "ticks": ""
                          }
                        },
                        "type": "scatterpolar"
                      }
                    ],
                    "scatterpolargl": [
                      {
                        "marker": {
                          "colorbar": {
                            "outlinewidth": 0,
                            "ticks": ""
                          }
                        },
                        "type": "scatterpolargl"
                      }
                    ],
                    "scatterternary": [
                      {
                        "marker": {
                          "colorbar": {
                            "outlinewidth": 0,
                            "ticks": ""
                          }
                        },
                        "type": "scatterternary"
                      }
                    ],
                    "surface": [
                      {
                        "colorbar": {
                          "outlinewidth": 0,
                          "ticks": ""
                        },
                        "colorscale": [
                          [
                            0,
                            "#0d0887"
                          ],
                          [
                            0.1111111111111111,
                            "#46039f"
                          ],
                          [
                            0.2222222222222222,
                            "#7201a8"
                          ],
                          [
                            0.3333333333333333,
                            "#9c179e"
                          ],
                          [
                            0.4444444444444444,
                            "#bd3786"
                          ],
                          [
                            0.5555555555555556,
                            "#d8576b"
                          ],
                          [
                            0.6666666666666666,
                            "#ed7953"
                          ],
                          [
                            0.7777777777777778,
                            "#fb9f3a"
                          ],
                          [
                            0.8888888888888888,
                            "#fdca26"
                          ],
                          [
                            1,
                            "#f0f921"
                          ]
                        ],
                        "type": "surface"
                      }
                    ],
                    "table": [
                      {
                        "cells": {
                          "fill": {
                            "color": "#EBF0F8"
                          },
                          "line": {
                            "color": "white"
                          }
                        },
                        "header": {
                          "fill": {
                            "color": "#C8D4E3"
                          },
                          "line": {
                            "color": "white"
                          }
                        },
                        "type": "table"
                      }
                    ]
                  },
                  "layout": {
                    "annotationdefaults": {
                      "arrowcolor": "#2a3f5f",
                      "arrowhead": 0,
                      "arrowwidth": 1
                    },
                    "autotypenumbers": "strict",
                    "coloraxis": {
                      "colorbar": {
                        "outlinewidth": 0,
                        "ticks": ""
                      }
                    },
                    "colorscale": {
                      "diverging": [
                        [
                          0,
                          "#8e0152"
                        ],
                        [
                          0.1,
                          "#c51b7d"
                        ],
                        [
                          0.2,
                          "#de77ae"
                        ],
                        [
                          0.3,
                          "#f1b6da"
                        ],
                        [
                          0.4,
                          "#fde0ef"
                        ],
                        [
                          0.5,
                          "#f7f7f7"
                        ],
                        [
                          0.6,
                          "#e6f5d0"
                        ],
                        [
                          0.7,
                          "#b8e186"
                        ],
                        [
                          0.8,
                          "#7fbc41"
                        ],
                        [
                          0.9,
                          "#4d9221"
                        ],
                        [
                          1,
                          "#276419"
                        ]
                      ],
                      "sequential": [
                        [
                          0,
                          "#0d0887"
                        ],
                        [
                          0.1111111111111111,
                          "#46039f"
                        ],
                        [
                          0.2222222222222222,
                          "#7201a8"
                        ],
                        [
                          0.3333333333333333,
                          "#9c179e"
                        ],
                        [
                          0.4444444444444444,
                          "#bd3786"
                        ],
                        [
                          0.5555555555555556,
                          "#d8576b"
                        ],
                        [
                          0.6666666666666666,
                          "#ed7953"
                        ],
                        [
                          0.7777777777777778,
                          "#fb9f3a"
                        ],
                        [
                          0.8888888888888888,
                          "#fdca26"
                        ],
                        [
                          1,
                          "#f0f921"
                        ]
                      ],
                      "sequentialminus": [
                        [
                          0,
                          "#0d0887"
                        ],
                        [
                          0.1111111111111111,
                          "#46039f"
                        ],
                        [
                          0.2222222222222222,
                          "#7201a8"
                        ],
                        [
                          0.3333333333333333,
                          "#9c179e"
                        ],
                        [
                          0.4444444444444444,
                          "#bd3786"
                        ],
                        [
                          0.5555555555555556,
                          "#d8576b"
                        ],
                        [
                          0.6666666666666666,
                          "#ed7953"
                        ],
                        [
                          0.7777777777777778,
                          "#fb9f3a"
                        ],
                        [
                          0.8888888888888888,
                          "#fdca26"
                        ],
                        [
                          1,
                          "#f0f921"
                        ]
                      ]
                    },
                    "colorway": [
                      "#636efa",
                      "#EF553B",
                      "#00cc96",
                      "#ab63fa",
                      "#FFA15A",
                      "#19d3f3",
                      "#FF6692",
                      "#B6E880",
                      "#FF97FF",
                      "#FECB52"
                    ],
                    "font": {
                      "color": "#2a3f5f"
                    },
                    "geo": {
                      "bgcolor": "white",
                      "lakecolor": "white",
                      "landcolor": "white",
                      "showlakes": true,
                      "showland": true,
                      "subunitcolor": "#C8D4E3"
                    },
                    "hoverlabel": {
                      "align": "left"
                    },
                    "hovermode": "closest",
                    "mapbox": {
                      "style": "light"
                    },
                    "paper_bgcolor": "white",
                    "plot_bgcolor": "white",
                    "polar": {
                      "angularaxis": {
                        "gridcolor": "#EBF0F8",
                        "linecolor": "#EBF0F8",
                        "ticks": ""
                      },
                      "bgcolor": "white",
                      "radialaxis": {
                        "gridcolor": "#EBF0F8",
                        "linecolor": "#EBF0F8",
                        "ticks": ""
                      }
                    },
                    "scene": {
                      "xaxis": {
                        "backgroundcolor": "white",
                        "gridcolor": "#DFE8F3",
                        "gridwidth": 2,
                        "linecolor": "#EBF0F8",
                        "showbackground": true,
                        "ticks": "",
                        "zerolinecolor": "#EBF0F8"
                      },
                      "yaxis": {
                        "backgroundcolor": "white",
                        "gridcolor": "#DFE8F3",
                        "gridwidth": 2,
                        "linecolor": "#EBF0F8",
                        "showbackground": true,
                        "ticks": "",
                        "zerolinecolor": "#EBF0F8"
                      },
                      "zaxis": {
                        "backgroundcolor": "white",
                        "gridcolor": "#DFE8F3",
                        "gridwidth": 2,
                        "linecolor": "#EBF0F8",
                        "showbackground": true,
                        "ticks": "",
                        "zerolinecolor": "#EBF0F8"
                      }
                    },
                    "shapedefaults": {
                      "line": {
                        "color": "#2a3f5f"
                      }
                    },
                    "ternary": {
                      "aaxis": {
                        "gridcolor": "#DFE8F3",
                        "linecolor": "#A2B1C6",
                        "ticks": ""
                      },
                      "baxis": {
                        "gridcolor": "#DFE8F3",
                        "linecolor": "#A2B1C6",
                        "ticks": ""
                      },
                      "bgcolor": "white",
                      "caxis": {
                        "gridcolor": "#DFE8F3",
                        "linecolor": "#A2B1C6",
                        "ticks": ""
                      }
                    },
                    "title": {
                      "x": 0.05
                    },
                    "xaxis": {
                      "automargin": true,
                      "gridcolor": "#EBF0F8",
                      "linecolor": "#EBF0F8",
                      "ticks": "",
                      "title": {
                        "standoff": 15
                      },
                      "zerolinecolor": "#EBF0F8",
                      "zerolinewidth": 2
                    },
                    "yaxis": {
                      "automargin": true,
                      "gridcolor": "#EBF0F8",
                      "linecolor": "#EBF0F8",
                      "ticks": "",
                      "title": {
                        "standoff": 15
                      },
                      "zerolinecolor": "#EBF0F8",
                      "zerolinewidth": 2
                    }
                  }
                },
                "title": {
                  "text": "Seso_graph"
                },
                "xaxis": {
                  "title": {
                    "text": "Month"
                  }
                },
                "yaxis": {
                  "title": {
                    "text": "Load factor"
                  }
                }
              }
            }
          },
          "metadata": {
            "tags": []
          }
        },
        {
          "output_type": "execute_result",
          "data": {
            "text/plain": [
              "Year       2014      2015      2016      2017      2018      2019     b_inf     b_sup  5 Year Avg\n",
              "Month                                                                                            \n",
              "1      0.827377  0.850289  0.840392  0.826874  0.816658  0.847805  0.826874  0.840392    0.832318\n",
              "2      0.892269  0.810092  0.884667  0.868630  0.849624  0.861183  0.849624  0.884667    0.861057\n",
              "3      0.922802  0.890797  0.909313  0.907993  0.895256  0.890402  0.895256  0.909313    0.905232\n",
              "4      0.894875  0.867802  0.850520  0.873131  0.842614  0.867066  0.850520  0.873131    0.865788\n",
              "5      0.920940  0.806220  0.872650  0.864337  0.862759  0.882700  0.862759  0.872650    0.865381"
            ],
            "text/html": [
              "<div>\n",
              "<style scoped>\n",
              "    .dataframe tbody tr th:only-of-type {\n",
              "        vertical-align: middle;\n",
              "    }\n",
              "\n",
              "    .dataframe tbody tr th {\n",
              "        vertical-align: top;\n",
              "    }\n",
              "\n",
              "    .dataframe thead th {\n",
              "        text-align: right;\n",
              "    }\n",
              "</style>\n",
              "<table border=\"1\" class=\"dataframe\">\n",
              "  <thead>\n",
              "    <tr style=\"text-align: right;\">\n",
              "      <th>Year</th>\n",
              "      <th>2014</th>\n",
              "      <th>2015</th>\n",
              "      <th>2016</th>\n",
              "      <th>2017</th>\n",
              "      <th>2018</th>\n",
              "      <th>2019</th>\n",
              "      <th>b_inf</th>\n",
              "      <th>b_sup</th>\n",
              "      <th>5 Year Avg</th>\n",
              "    </tr>\n",
              "    <tr>\n",
              "      <th>Month</th>\n",
              "      <th></th>\n",
              "      <th></th>\n",
              "      <th></th>\n",
              "      <th></th>\n",
              "      <th></th>\n",
              "      <th></th>\n",
              "      <th></th>\n",
              "      <th></th>\n",
              "      <th></th>\n",
              "    </tr>\n",
              "  </thead>\n",
              "  <tbody>\n",
              "    <tr>\n",
              "      <th>1</th>\n",
              "      <td>0.827377</td>\n",
              "      <td>0.850289</td>\n",
              "      <td>0.840392</td>\n",
              "      <td>0.826874</td>\n",
              "      <td>0.816658</td>\n",
              "      <td>0.847805</td>\n",
              "      <td>0.826874</td>\n",
              "      <td>0.840392</td>\n",
              "      <td>0.832318</td>\n",
              "    </tr>\n",
              "    <tr>\n",
              "      <th>2</th>\n",
              "      <td>0.892269</td>\n",
              "      <td>0.810092</td>\n",
              "      <td>0.884667</td>\n",
              "      <td>0.868630</td>\n",
              "      <td>0.849624</td>\n",
              "      <td>0.861183</td>\n",
              "      <td>0.849624</td>\n",
              "      <td>0.884667</td>\n",
              "      <td>0.861057</td>\n",
              "    </tr>\n",
              "    <tr>\n",
              "      <th>3</th>\n",
              "      <td>0.922802</td>\n",
              "      <td>0.890797</td>\n",
              "      <td>0.909313</td>\n",
              "      <td>0.907993</td>\n",
              "      <td>0.895256</td>\n",
              "      <td>0.890402</td>\n",
              "      <td>0.895256</td>\n",
              "      <td>0.909313</td>\n",
              "      <td>0.905232</td>\n",
              "    </tr>\n",
              "    <tr>\n",
              "      <th>4</th>\n",
              "      <td>0.894875</td>\n",
              "      <td>0.867802</td>\n",
              "      <td>0.850520</td>\n",
              "      <td>0.873131</td>\n",
              "      <td>0.842614</td>\n",
              "      <td>0.867066</td>\n",
              "      <td>0.850520</td>\n",
              "      <td>0.873131</td>\n",
              "      <td>0.865788</td>\n",
              "    </tr>\n",
              "    <tr>\n",
              "      <th>5</th>\n",
              "      <td>0.920940</td>\n",
              "      <td>0.806220</td>\n",
              "      <td>0.872650</td>\n",
              "      <td>0.864337</td>\n",
              "      <td>0.862759</td>\n",
              "      <td>0.882700</td>\n",
              "      <td>0.862759</td>\n",
              "      <td>0.872650</td>\n",
              "      <td>0.865381</td>\n",
              "    </tr>\n",
              "  </tbody>\n",
              "</table>\n",
              "</div>"
            ]
          },
          "metadata": {
            "tags": []
          },
          "execution_count": 54
        }
      ]
    }
  ]
}