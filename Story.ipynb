{
 "metadata": {
  "language_info": {
   "codemirror_mode": {
    "name": "ipython",
    "version": 3
   },
   "file_extension": ".py",
   "mimetype": "text/x-python",
   "name": "python",
   "nbconvert_exporter": "python",
   "pygments_lexer": "ipython3",
   "version": 3
  },
  "orig_nbformat": 2
 },
 "nbformat": 4,
 "nbformat_minor": 2,
 "cells": [
  {
   "source": [
    "# RAMP: AIRLINE CARRIERS PERFORMANCE PROJECT\n",
    "\n",
    "Authors: Soumaya SABRY | Alexandre ZAJAC | Maxime LEPEYTRE | Olivier BOIVIN | Yann KERVELLA\n",
    "\n",
    "<div style=\"text-align: center\">\n",
    "<img src=\"airplan.png\" width=\"800px\" />\n",
    "</div>"
   ],
   "cell_type": "markdown",
   "metadata": {}
  },
  {
   "source": [
    "# Table of contents\n",
    "1. [Story](#Story)\n",
    "2. [Data](#Data)\n",
    "    - [Main Dataset](##Main_Dataset) plus explain traget \n",
    "    - [Weather Data](#MEG)\n",
    "    - [Tweeter Data](#MEG_in_practice)\n",
    "2. [Data exploration](#Data_exploration)\n",
    "    - [Import Python libraries](#Import)\n",
    "    - [Download the data](#Download_data)\n",
    "    - [Join data](#X) \n",
    "    - [K-nearest neighbors algorithm](#KNN)\n",
    "    - [Use of Tweeter](#lars)\n",
    "    - [Resgression algorithm](#lassolars)\n",
    "4. [Performance metric](#Metric)\n",
    "3. [Submission](#Submission) "
   ],
   "cell_type": "markdown",
   "metadata": {}
  },
  {
   "source": [
    "## Story <a class=\"anchor\" id=\"Story\"></a>"
   ],
   "cell_type": "markdown",
   "metadata": {}
  },
  {
   "source": [
    "Recently, big oil companies like BP, Total, announced that they want to reach the goal of zero carbon emissions, following the declarations of the governments. During this period of Covid-19, the ecological transition has been accelerated as we can see more investment in the renewable energy sector and especially less investment in the oil sector. To achieve this goal, each sector must reduce its emissions. We have chosen to focus our study on the airline industry. Following an a report on [IEA](https://www.iea.org/) (International Energy Agency). Since 2000, commercial passenger flight activity has grown by about 5% per year, while CO2 emissions rose by 2% per year, thabnks to operational and technical efficiency measures. The energy intensity of commercial passenger aviation has decreased 2.8% per year ib average, but improvements have slackened over time. As we can see on this [figure](https://www.iea.org/data-and-statistics/charts/energy-intensity-of-passenger-aviation-in-the-sustainable-development-scenario-2000-2030) where it exposes the Sustainable Development Scenario (one RTK is generated when a metric tonne of revenue load is carried one km). "
   ],
   "cell_type": "markdown",
   "metadata": {}
  },
  {
   "cell_type": "code",
   "execution_count": null,
   "metadata": {},
   "outputs": [],
   "source": [
    "bien mettre la photo"
   ]
  },
  {
   "source": [
    "We uses the ICAO carbon calculator to understand which factors can impact the C02 emissions:\n",
    "\n",
    "\n",
    "$$\n",
    "C_{O2} \\; per \\; pax = 3.16 * (total\\;fuel*pax\\;to\\;freight\\;factor)*(number\\;of\\;y-seats*pax\\,load\\;factor)\n",
    "\n",
    "$$\n",
    "\n",
    "We chose to focus on the load factor as 2020 impacted it trought the pandemic\n",
    "as shown in a report from the commission to the european parleament and the council [Figure](https://ec.europa.eu/transport/sites/transport/files/legislation/com20200558_allocation_of_slots.pdf). We can see the average load factor for a pool of European air carriers droped from 80% in week 9 to 26% in week 15. THis is due not only to air carriers flu less, but the few remain underbooked. We want to focus our study on the load factor and it impacts on the C02 emissions.\n",
    "\n",
    "We have chosen to focus our model on forecasting the evolution of the load factor. The aim of this forecast is to help airlines adapt their flight plans to optimize their load factor and reduce their emissions. During covid-19, their load factor is low and we want to find a way to boost the load factor (add new path or delete some paths)."
   ],
   "cell_type": "markdown",
   "metadata": {}
  },
  {
   "cell_type": "code",
   "execution_count": null,
   "metadata": {},
   "outputs": [],
   "source": []
  },
  {
   "source": [
    "# Data <a class=\"anchor\" id=\"Data\"></a> \n",
    "## Main Dataset <a class=\"anchor\" id=\"Main_Dataset\"></a> "
   ],
   "cell_type": "markdown",
   "metadata": {}
  },
  {
   "source": [
    "\n",
    "\n",
    "Main Dataset : Bureau of Transportation Statistics (BTS)\n",
    "\n",
    "We first to chose a baseline place for building a dataset given our problem, and after a lot of investigation, we chose to go for an US-based dataset since they provide an enormous amount of databases, tables and features to chose from. Out logic was first breadth-oriented, since there exist a lot of different websites that source aviation data, but we finally settled on the [Bureau of Transportation Statistics](https://www.transtats.bts.gov/) because it's the source for a lot of others datasets.\n",
    "\n",
    "Preeminent source of statistics on aviation, multimodal freight activity and transportation economics.\n",
    "It is a very popular and used source of informations for both political, commercial and public use.\n",
    "It is part of the US Department of Transportation (DOT).\n",
    "\n",
    "We chose to use the dataset (**T-100 Domestic Segment**) containing detailed informations on the flights for US Carriers only like  `PASSENGERS, SEATS, PAYLOAD, DESTINATION_CITY, AIRCRAFT_TYPE, ...`\n",
    "We've transformed this dataset so it was indexed by `DATE` (month) and by `UNIQUE_CARRIER_NAME` on the period 2014-2019. We gathered the informations by month and by companies and enriched the dataset with statistical features, temperatures, top destinations, etc... from there. Our goal was to extract as much pertinent features as possible to make a relevant dataset that would be interesting to work on.\n",
    "\n",
    "Since part of the data we wanted on the website wasn't directly available for all the given years (2014-2020), we put up a simple script that copied the network request from the transtats website in Node.JS (chrome only let us get the request via curL or Node.JS fetch), and from there we saw that we could modify the fields and filter parameters from the SQL query the site was running, to get all the fields we wanted.\n"
   ],
   "cell_type": "markdown",
   "metadata": {}
  },
  {
   "cell_type": "code",
   "execution_count": null,
   "metadata": {},
   "outputs": [],
   "source": []
  },
  {
   "source": [
    "### **Additional Features : Weather Data with Meteostat**\n",
    "\n",
    "We made the choice to enrich our base dataset with meteorological features, since we thought they could have a great influence on the load factor for an airline/carrier. \n",
    "\n",
    "On the one hand, snow, rain and crosswinds mean that air traffic controllers have to increase the gap between planes that are landing, reducing the number of aircraft that an airport can manage. The same weather can make it slower and more difficult for the planes to taxi between runway and terminal building. On the other hand, the average temperature and sunshine level on the arrival destination can influence the choice of passengers for a given carrier.\n",
    "\n",
    "A lot of APIs provide daily or weekly live forecast for weather data but few provide an historical record for free. We finally found [the meteostat website](https://dev.meteostat.net/) that provides JSON APIs, a python library and even a web app to directly visualize weather data accross the entire globe, for free (long live open-source)!\n",
    "\n",
    "Because the weather APIs of meteostats have a nice built-in function to determine which weather station is the closest to the city where we want to query the weather data for, we used the [geopy library](https://geopy.readthedocs.io/en/stable/) to get all the coordinates of the possibles destinations for the flights of our dataset. The weather data is then retrieved from these given weather stations.\n",
    "\n",
    "We chose the features in line with our problem: `tavg, tmax, tsun, snow, wspd and prcp` (as given [here](https://dev.meteostat.net/python/daily.html#data-structure)). Since our data has a monthly granularity, we directly aggregated the data with the python API meteostats provides, and normalized the data to account for temporal outage of some of the sensors from the weather stations."
   ],
   "cell_type": "markdown",
   "metadata": {}
  },
  {
   "cell_type": "code",
   "execution_count": null,
   "metadata": {},
   "outputs": [],
   "source": []
  },
  {
   "source": [
    "### **Additional Features : Tweeter Data with web-scraping**\n",
    "\n",
    "It's not uncommon to include Twitter data in machine learning challenges. Since we are forecasting a load factor, which is a proxy for the performance of an airline carrier, we thought that incorporating tweets mentionning the chosen airlines could give more breadth to the features of our dataset. More precisely, by performing sentiment analysis on the tweets of a given airline, one could get a sense and new feature to test for the prediction model.\n",
    "\n",
    "There exist an API for getting tweets from Twitter, so we signed up for a developer account, but the free version only allows to get historical data up to 7 days. So we switched to libraries performing web scraping to get tweets, and there are a lot of them (probably too much), and after a lot of trail and error we settled on [scweet](https://github.com/Altimis/Scweet), forked the repository and made a custom script for our requirements.\n",
    "\n",
    "Since scraping 6 years of tweets for 23 carriers can be very long, our was parallelized to launch one headless chroime instance per core, with an interval of 30 days of tweets to scrape as we found this to give a good trade-off. We then set-up another script to convert all these tweets Dataframes into dataframes with sentiments probabilities (negative, neutral or positive), and for this we used the amazing [Hugging Face Transformers library](https://huggingface.co/) and more particularly the [Roberta model trained on tweets](https://huggingface.co/cardiffnlp/twitter-roberta-base-sentiment) to extract 3 sentiment probabilities for each tweets. As some carriers are lot less present in the Twitter feed, there are some discrepencies of dataset size and we found ways to handle them."
   ],
   "cell_type": "markdown",
   "metadata": {}
  },
  {
   "cell_type": "code",
   "execution_count": null,
   "metadata": {},
   "outputs": [],
   "source": []
  }
 ]
}